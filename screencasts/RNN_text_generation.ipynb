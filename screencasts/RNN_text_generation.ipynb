{
  "nbformat": 4,
  "nbformat_minor": 0,
  "metadata": {
    "anaconda-cloud": {},
    "kernelspec": {
      "display_name": "Python 3",
      "language": "python",
      "name": "python3"
    },
    "language_info": {
      "codemirror_mode": {
        "name": "ipython",
        "version": 3
      },
      "file_extension": ".py",
      "mimetype": "text/x-python",
      "name": "python",
      "nbconvert_exporter": "python",
      "pygments_lexer": "ipython3",
      "version": "3.6.4"
    },
    "colab": {
      "name": "RNN_text_generation.ipynb",
      "provenance": [],
      "collapsed_sections": [],
      "include_colab_link": true
    },
    "accelerator": "GPU"
  },
  "cells": [
    {
      "cell_type": "markdown",
      "metadata": {
        "id": "view-in-github",
        "colab_type": "text"
      },
      "source": [
        "<a href=\"https://colab.research.google.com/github/delhian/NLP_course/blob/master/screencasts/RNN_text_generation.ipynb\" target=\"_parent\"><img src=\"https://colab.research.google.com/assets/colab-badge.svg\" alt=\"Open In Colab\"/></a>"
      ]
    },
    {
      "cell_type": "markdown",
      "metadata": {
        "id": "lbmDhqxteX1z"
      },
      "source": [
        "Давайте попробуем сгенерировать немного шекспировской поэзии, используя знакомые нам RNN.\n"
      ]
    },
    {
      "cell_type": "markdown",
      "metadata": {
        "id": "W4oJAUVHeX11"
      },
      "source": [
        "### Загрузка данных"
      ]
    },
    {
      "cell_type": "markdown",
      "metadata": {
        "id": "gjkf67kCeX14"
      },
      "source": [
        "Шекспировские соннеты доступны по [этой](http://www.gutenberg.org/ebooks/1041?msg=welcome_stranger) ссылке. Также сохраним их в файл."
      ]
    },
    {
      "cell_type": "code",
      "metadata": {
        "id": "_WUXlUl0eX15"
      },
      "source": [
        "import string\n",
        "import numpy as np\n",
        "import matplotlib.pyplot as plt\n",
        "from tqdm.notebook import tqdm\n",
        "%matplotlib inline"
      ],
      "execution_count": 1,
      "outputs": []
    },
    {
      "cell_type": "code",
      "metadata": {
        "id": "NwCEUyTCeX2B",
        "colab": {
          "base_uri": "https://localhost:8080/"
        },
        "outputId": "74869e89-2c5f-4849-9c07-8d2982ea5d7b"
      },
      "source": [
        "try:\n",
        "    with open('../../datasets/Shakespeare_sonnets/sonnets.txt', 'r') as iofile:\n",
        "        text = iofile.readlines()\n",
        "except FileNotFoundError:\n",
        "    !wget https://raw.githubusercontent.com/neychev/made_nlp_course/master/datasets/Shakespeare_sonnets/sonnets.txt -nc\n",
        "    with open('sonnets.txt', 'r') as iofile:\n",
        "        text = iofile.readlines()"
      ],
      "execution_count": 2,
      "outputs": [
        {
          "output_type": "stream",
          "name": "stdout",
          "text": [
            "--2021-10-14 16:50:35--  https://raw.githubusercontent.com/neychev/made_nlp_course/master/datasets/Shakespeare_sonnets/sonnets.txt\n",
            "Resolving raw.githubusercontent.com (raw.githubusercontent.com)... 185.199.111.133, 185.199.108.133, 185.199.110.133, ...\n",
            "Connecting to raw.githubusercontent.com (raw.githubusercontent.com)|185.199.111.133|:443... connected.\n",
            "HTTP request sent, awaiting response... 200 OK\n",
            "Length: 119747 (117K) [text/plain]\n",
            "Saving to: ‘sonnets.txt’\n",
            "\n",
            "sonnets.txt         100%[===================>] 116.94K  --.-KB/s    in 0.03s   \n",
            "\n",
            "2021-10-14 16:50:35 (4.53 MB/s) - ‘sonnets.txt’ saved [119747/119747]\n",
            "\n"
          ]
        }
      ]
    },
    {
      "cell_type": "markdown",
      "metadata": {
        "id": "vXG-wUNTNnrL"
      },
      "source": [
        "Сделаем небольшую предобработку текста:"
      ]
    },
    {
      "cell_type": "code",
      "metadata": {
        "id": "QO3OTw-heX2H"
      },
      "source": [
        "TEXT_START = 45\n",
        "TEXT_END = -368\n",
        "text = text[TEXT_START : TEXT_END]\n",
        "text = ''.join(text).lower()"
      ],
      "execution_count": 3,
      "outputs": []
    },
    {
      "cell_type": "code",
      "metadata": {
        "id": "e5ORYTIweX2Q"
      },
      "source": [
        "tokens = sorted(set(text))\n",
        "vocab_size = len(tokens)"
      ],
      "execution_count": 4,
      "outputs": []
    },
    {
      "cell_type": "code",
      "metadata": {
        "id": "tvjshgHEeX2T"
      },
      "source": [
        "token_to_idx = {char: idx for idx, char in enumerate(tokens)}\n",
        "idx_to_token = {idx: char for idx, char in token_to_idx.items()}"
      ],
      "execution_count": 5,
      "outputs": []
    },
    {
      "cell_type": "markdown",
      "metadata": {
        "id": "Oj-nytR9eX2Z"
      },
      "source": [
        "# Создание простой модели"
      ]
    },
    {
      "cell_type": "code",
      "metadata": {
        "id": "8BrHDSTOmiUO"
      },
      "source": [
        "import torch\n",
        "import torch.nn as nn\n",
        "import torch.nn.functional as F"
      ],
      "execution_count": 6,
      "outputs": []
    },
    {
      "cell_type": "code",
      "metadata": {
        "id": "Rv_fTdBPHfJz"
      },
      "source": [
        "device = 'cuda:0' if torch.cuda.is_available() else 'cpu'"
      ],
      "execution_count": 7,
      "outputs": []
    },
    {
      "cell_type": "markdown",
      "metadata": {
        "id": "cERJtjD7Nrle"
      },
      "source": [
        "Напишем класс с vanilla RNN:"
      ]
    },
    {
      "cell_type": "code",
      "metadata": {
        "id": "kBFPty8PU7Mz"
      },
      "source": [
        "class RNNCell(nn.Module):\n",
        "  def __init__(self,\n",
        "               num_tokens=len(tokens),\n",
        "               embedding_size=32,\n",
        "               rnn_num_units=64):\n",
        "    super(RNNCell,self).__init__()\n",
        "    self.num_units = rnn_num_units\n",
        "\n",
        "    self.embedding = nn.Embedding(num_tokens, embedding_size)\n",
        "    self.rnn_update = nn.Linear(embedding_size + rnn_num_units, rnn_num_units)\n",
        "    self.rnn_to_logits = nn.Linear(rnn_num_units, num_tokens)\n",
        "    \n",
        "  def forward(self, x, h_prev):\n",
        "    x_emb = self.embedding(x)\n",
        "    h_prev = h_prev.to(device)\n",
        "    x_and_h = torch.cat([x_emb, h_prev], dim=1)\n",
        "    h_next = self.rnn_update(x_and_h)\n",
        "    h_next = torch.tanh(h_next)\n",
        "\n",
        "    assert h_next.size() == h_prev.size()\n",
        "\n",
        "    logits = self.rnn_to_logits(h_next)\n",
        "    logits = F.log_softmax(logits, -1)\n",
        "\n",
        "    return h_next, logits\n",
        "\n",
        "  def initial_state(self, batch_size):\n",
        "    return torch.zeros(batch_size, self.num_units, requires_grad=True)"
      ],
      "execution_count": 8,
      "outputs": []
    },
    {
      "cell_type": "markdown",
      "metadata": {
        "id": "XJQXfTaIOE30"
      },
      "source": [
        "Используем функцию потерь Negative log likelihood (NLL)."
      ]
    },
    {
      "cell_type": "code",
      "metadata": {
        "id": "N4R_3f9YFu1z"
      },
      "source": [
        "model = RNNCell()\n",
        "\n",
        "criterion = nn.NLLLoss()"
      ],
      "execution_count": 9,
      "outputs": []
    },
    {
      "cell_type": "markdown",
      "metadata": {
        "id": "i2_sFggZOPxe"
      },
      "source": [
        "Для учета предыдущего контекста и правильной начальной инициализации мы построчно пробегаем по приходящей матрице и создаем матрицу вероятностей для следующих символов. Это и делает rnn_loop.\n"
      ]
    },
    {
      "cell_type": "code",
      "metadata": {
        "id": "jysO9Nn4AFvZ"
      },
      "source": [
        "def rnn_loop(rnn_model, batch_ix):\n",
        "  batch_size = batch_ix.size()[0]\n",
        "  hid_state = rnn_model.initial_state(batch_size)\n",
        "  logprobs = []\n",
        "\n",
        "  for x_t in batch_ix.transpose(0,1):\n",
        "    hid_state, logp_next = rnn_model(x_t, hid_state)\n",
        "    logprobs.append(logp_next)\n",
        "  \n",
        "  return torch.stack(logprobs, dim=1)"
      ],
      "execution_count": 10,
      "outputs": []
    },
    {
      "cell_type": "markdown",
      "metadata": {
        "id": "vXimuZZbOTIY"
      },
      "source": [
        "Так как мы занимаемся посимвольной генерацией то нам нужна для обучения матрица со смещением на один символ вправо. Это создает функция to_matrix. "
      ]
    },
    {
      "cell_type": "code",
      "metadata": {
        "id": "LsYDSNhrVBMc"
      },
      "source": [
        "def to_matrix(words, seq_length=16, dtype='int32', batch_first = True):\n",
        "  if len(words) > seq_length:\n",
        "    seq_length = len(words) - 1 \n",
        "\n",
        "  words_ix = np.zeros((len(words) - seq_length, seq_length), dtype) # matrix for 1 char shifted sequences\n",
        "\n",
        "  for i in range(len(words) - seq_length):\n",
        "    words_ix[i, :] = [token_to_idx[c] for c in words[i:i+seq_length]]\n",
        "\n",
        "  if not batch_first: # convert [batch, time] into [time, batch]\n",
        "    words_ix = np.transpose(words_ix)\n",
        "\n",
        "  return words_ix"
      ],
      "execution_count": 11,
      "outputs": []
    },
    {
      "cell_type": "code",
      "metadata": {
        "id": "Ego0n9ea6rbR"
      },
      "source": [
        "batch_ix = to_matrix(text[:6], seq_length=5)\n",
        "batch_ix = torch.tensor(batch_ix, dtype=torch.int64).to(device)\n",
        "logp_seq = rnn_loop(model.to(device), batch_ix)"
      ],
      "execution_count": 12,
      "outputs": []
    },
    {
      "cell_type": "code",
      "metadata": {
        "id": "uVesuDNfp5Zh"
      },
      "source": [
        "predictions_logp = logp_seq[:, :-1]\n",
        "actual_next_tokens = batch_ix[:, 1:]\n",
        "\n",
        "loss = criterion(predictions_logp.contiguous().view(-1, vocab_size), \n",
        "                  actual_next_tokens.contiguous().view(-1))"
      ],
      "execution_count": 13,
      "outputs": []
    },
    {
      "cell_type": "code",
      "metadata": {
        "id": "nKxA5NHup5Ud",
        "colab": {
          "base_uri": "https://localhost:8080/"
        },
        "outputId": "8754ff9a-09d9-4216-bc97-82163d566d2e"
      },
      "source": [
        "loss.backward()\n",
        "loss"
      ],
      "execution_count": 14,
      "outputs": [
        {
          "output_type": "execute_result",
          "data": {
            "text/plain": [
              "tensor(3.6267, device='cuda:0', grad_fn=<NllLossBackward>)"
            ]
          },
          "metadata": {},
          "execution_count": 14
        }
      ]
    },
    {
      "cell_type": "code",
      "metadata": {
        "id": "wY2Yqzp6s885"
      },
      "source": [
        "from IPython.display import clear_output\n",
        "from random import sample\n",
        "from tqdm import notebook\n",
        "\n",
        "model = RNNCell()\n",
        "criterion = nn.NLLLoss()\n",
        "opt = torch.optim.Adam(model.parameters(), lr=0.0005)\n",
        "history = []"
      ],
      "execution_count": 15,
      "outputs": []
    },
    {
      "cell_type": "markdown",
      "metadata": {
        "id": "goUdlfKuBX9K"
      },
      "source": [
        "# Тренировка RNN"
      ]
    },
    {
      "cell_type": "markdown",
      "metadata": {
        "id": "yUq9iLU5Of7j"
      },
      "source": [
        "Если мы посмотрим на получившуюся кривую лосс функции, то можно заметить, что она похожа на идеальную кривую обучения, без признаков к серьезному переобучению.\n",
        "\n",
        "Размер батча у нас будет равен 128 — это длина куска текста, на котором мы будем обучать нашу сеть. MAX_LENGTH — длина последовательности для генерации текста. При обучении она нам не важна и величина окна равна 32 — мы будем пробегать по 32 символам для создания матрицы смещений символов.\n"
      ]
    },
    {
      "cell_type": "code",
      "metadata": {
        "id": "SHBH-0c60X1i",
        "colab": {
          "base_uri": "https://localhost:8080/",
          "height": 265
        },
        "outputId": "a48bc8c9-3568-4352-b8e9-4aee8efefe16"
      },
      "source": [
        "STEP = 128 # some type of minibatch\n",
        "MAX_LENGTH = 64\n",
        "WINDOW = 32\n",
        "model = model.to(device)\n",
        "\n",
        "for i in range(25):\n",
        "  for j in range(len(text) // STEP):\n",
        "    \n",
        "    batch_ix = to_matrix(text[j * STEP: (j + 1) * STEP], WINDOW)\n",
        "    batch_ix = torch.tensor(batch_ix, dtype=torch.int64).to(device)\n",
        "\n",
        "    logp_seq = rnn_loop(model, batch_ix)\n",
        "\n",
        "    # compute loss\n",
        "    predictions_logp = logp_seq[:, :-1]\n",
        "    actual_next_tokens = batch_ix[:, 1:]\n",
        "\n",
        "    loss = criterion(\n",
        "        predictions_logp.contiguous().view(-1, vocab_size),\n",
        "        actual_next_tokens.contiguous().view(-1)\n",
        "    ) \n",
        "    \n",
        "    # train with backprop\n",
        "    loss.backward()\n",
        "    opt.step()\n",
        "    opt.zero_grad()\n",
        "    \n",
        "  history.append(loss.item())\n",
        "  if (i+1)%1==0:\n",
        "      clear_output(True)\n",
        "      plt.plot(history,label='loss')\n",
        "      plt.legend()\n",
        "      plt.show()\n",
        "\n",
        "assert np.mean(history[:10]) > np.mean(history[-10:]), \"RNN didn't converge.\""
      ],
      "execution_count": null,
      "outputs": [
        {
          "output_type": "display_data",
          "data": {
            "image/png": "[encoded data removed]",
            "text/plain": [
              "<Figure size 432x288 with 1 Axes>"
            ]
          },
          "metadata": {
            "needs_background": "light"
          }
        }
      ]
    },
    {
      "cell_type": "markdown",
      "metadata": {
        "id": "q_pZ3q6VOvlL"
      },
      "source": [
        "Функция ниже генерирует текст по фразе длиной не менее SEQ_LENGTH."
      ]
    },
    {
      "cell_type": "markdown",
      "metadata": {
        "id": "SCVi0_B3O8-V"
      },
      "source": [
        "Важным параметром при генерации является температура. Ее можно представить как некое подобие энтропии — меры неопределенности системы. Чем она выше, тем хаотичнее сэмплирование. \n",
        "\n",
        "Обратите внимание: модель возвращает вероятности символов, а не сами символы."
      ]
    },
    {
      "cell_type": "code",
      "metadata": {
        "id": "czG_z9RCQHeB"
      },
      "source": [
        "def generate_sample(char_rnn, seed_phrase=' hello', length=MAX_LENGTH, temperature=1.0):\n",
        "    result = [token_to_idx[token] for token in seed_phrase]\n",
        "\n",
        "    x_sequence = [token_to_idx[token] for token in seed_phrase]\n",
        "    x_sequence = torch.tensor([x_sequence], dtype=torch.int64).to(device)\n",
        "    hid_state = char_rnn.initial_state(batch_size=1).to(device)\n",
        "    \n",
        "    # начало генерации\n",
        "    for i in range(length):\n",
        "        hid_state, logs_p = char_rnn(x_sequence[:, -1], hid_state)\n",
        "        p_next = F.softmax(logs_p / temperature, dim=-1).to('cpu').data[0].numpy()\n",
        "        next_ix = np.random.choice(len(tokens), p=p_next)\n",
        "        result.append(next_ix)\n",
        "        next_ix = torch.tensor([[next_ix]], dtype=torch.int64).to(device)\n",
        "        x_sequence = torch.cat([x_sequence, next_ix], dim=1)[:, 1:]\n",
        "    return ''.join([tokens[ix] for ix in result])"
      ],
      "execution_count": null,
      "outputs": []
    },
    {
      "cell_type": "code",
      "metadata": {
        "id": "9tBJOG_fA172"
      },
      "source": [
        "print(generate_sample(model.to(device), \n",
        "                      seed_phrase=' hello', \n",
        "                      length=223, \n",
        "                      temperature=0.75))"
      ],
      "execution_count": null,
      "outputs": []
    },
    {
      "cell_type": "markdown",
      "metadata": {
        "id": "N9i1NOY6eX2l"
      },
      "source": [
        "# Более поэтичная модель"
      ]
    },
    {
      "cell_type": "markdown",
      "metadata": {
        "id": "wUvCzVqoPKB6"
      },
      "source": [
        "Перейдем к более продвинутой модели, использующей GRU-блоки. Мы будем использовать самую простую однонаправленную сеть с одним уровнем рекуррентных блоков. "
      ]
    },
    {
      "cell_type": "code",
      "metadata": {
        "id": "EdDR_vjDVB3Y"
      },
      "source": [
        "WINDOW = 800\n",
        "\n",
        "EPOCHS = 1050\n",
        "LEARNING_RATE = 0.005\n",
        "EMBEDDING_DIM = 64\n",
        "HIDDEN_DIM = 100\n",
        "NUM_HIDDEN = 1"
      ],
      "execution_count": null,
      "outputs": []
    },
    {
      "cell_type": "markdown",
      "metadata": {
        "id": "gNos0VsWIHK5"
      },
      "source": [
        "## Предобработка"
      ]
    },
    {
      "cell_type": "code",
      "metadata": {
        "id": "o0kLSs_YVLMn"
      },
      "source": [
        "tokens = sorted(set(text))\n",
        "vocab_size = len(tokens)\n",
        "\n",
        "token_to_idx = {char: idx for idx, char in enumerate(tokens)}\n",
        "idx_to_token = {idx: char for char, idx in token_to_idx.items()}"
      ],
      "execution_count": null,
      "outputs": []
    },
    {
      "cell_type": "code",
      "metadata": {
        "id": "zDz9fIvIPIJR"
      },
      "source": [
        "def string_to_matrix(words):\n",
        "    result = [token_to_idx[char] for char in words]\n",
        "    result = torch.tensor(result, dtype=torch.long)\n",
        "    return result"
      ],
      "execution_count": null,
      "outputs": []
    },
    {
      "cell_type": "code",
      "metadata": {
        "id": "TEYZ2CsUVIiw"
      },
      "source": [
        "def sample_text(text):\n",
        "    start = np.random.randint(0, len(text) - WINDOW) + 1\n",
        "    int_text = string_to_matrix(text[start:start + WINDOW + 1])\n",
        "    inputs = int_text[:-1]\n",
        "    outputs = int_text[1:]\n",
        "    return inputs, outputs"
      ],
      "execution_count": null,
      "outputs": []
    },
    {
      "cell_type": "markdown",
      "metadata": {
        "id": "1ZKYNXk7Pb3b"
      },
      "source": [
        "## Модель с GRU-блоком"
      ]
    },
    {
      "cell_type": "code",
      "metadata": {
        "id": "P1AYxFMRVQxa"
      },
      "source": [
        "class GRU(nn.Module):\n",
        "    def __init__(self, input_size=vocab_size,\n",
        "              output_size=vocab_size,   \n",
        "              embed_size=EMBEDDING_DIM,\n",
        "              hidden_size=HIDDEN_DIM,\n",
        "              num_layers=NUM_HIDDEN):\n",
        "        super(GRU, self).__init__()\n",
        "\n",
        "        self.num_layers = num_layers\n",
        "        self.hidden_size = hidden_size\n",
        "        self.embedding = nn.Embedding(input_size, embed_size)\n",
        "        self.gru = nn.GRU(input_size=embed_size,\n",
        "                          hidden_size=hidden_size,\n",
        "                          num_layers=num_layers)\n",
        "        self.dence = nn.Linear(hidden_size, output_size)\n",
        "\n",
        "        self.init_hidden = torch.nn.Parameter(torch.zeros(\n",
        "                                              num_layers, 1, hidden_size))\n",
        "\n",
        "    def forward(self, x, hidden):\n",
        "        embed = self.embedding(x.view(1, -1))\n",
        "        output, hidden =  self.gru(embed.view(1, 1, -1), hidden)\n",
        "        output = self.dence(output.view(1, -1))\n",
        "        output = F.log_softmax(output, dim=1)\n",
        "        return output, hidden\n",
        "\n",
        "    def init_zero_state(self):\n",
        "        init_hidden = torch.zeros(self.num_layers, 1, self.hidden_size).to(device)\n",
        "        return init_hidden"
      ],
      "execution_count": null,
      "outputs": []
    },
    {
      "cell_type": "code",
      "metadata": {
        "id": "oatKef83jZWC"
      },
      "source": [
        "model = GRU(num_layers=1)\n",
        "model = model.to(device)\n",
        "optimizer = torch.optim.Adam(model.parameters(), lr=LEARNING_RATE)"
      ],
      "execution_count": null,
      "outputs": []
    },
    {
      "cell_type": "markdown",
      "metadata": {
        "id": "MLwdXJn6PpNE"
      },
      "source": [
        "Обучим нашу модель:"
      ]
    },
    {
      "cell_type": "code",
      "metadata": {
        "id": "D5SxjIs2pPOR"
      },
      "source": [
        "history = []\n",
        "for i in range(750):\n",
        "\n",
        "    ### FORWARD AND BACK PROP\n",
        "\n",
        "    hidden = model.init_zero_state().to(device)\n",
        "    \n",
        "    loss = 0.\n",
        "    inputs, targets = sample_text(text)\n",
        "    inputs, targets = inputs.to(device), targets.to(device)\n",
        "    for c in range(WINDOW):\n",
        "        outputs, hidden = model(inputs[c], hidden)\n",
        "        loss += F.nll_loss(outputs, targets[c].view(1))\n",
        "\n",
        "    loss /= WINDOW\n",
        "    loss.backward()\n",
        "    optimizer.step()\n",
        "    optimizer.zero_grad()\n",
        "\n",
        "    history.append(loss.item())\n",
        "    if (i+1)%50==0:\n",
        "      clear_output(True)\n",
        "      plt.plot(history,label='loss')\n",
        "      plt.legend()\n",
        "      plt.show()\n",
        "\n",
        "assert np.mean(history[:10]) > np.mean(history[-10:]), \"RNN didn't converge.\""
      ],
      "execution_count": null,
      "outputs": []
    },
    {
      "cell_type": "markdown",
      "metadata": {
        "id": "tb1AUzltPsZr"
      },
      "source": [
        "На сей раз GRU обучается чуть быстрее. Это связано с тем, что мы использовали более быстрый проход по тексту скользящим окном. Потому мы получили не такую пологую функцию потерь на кривой обучения. "
      ]
    },
    {
      "cell_type": "code",
      "metadata": {
        "id": "EazRO28qKpCG"
      },
      "source": [
        "def predict(model, seed_sequence, length=100, temperature=0.75):\n",
        "    hidden = model.init_zero_state().to(device)\n",
        "    given_input = string_to_matrix(seed_sequence).to(device)\n",
        "    predicted = seed_sequence\n",
        "\n",
        "    for i in range(len(seed_sequence) - 1):\n",
        "        _, hidden = model(given_input[i], hidden)\n",
        "    inp = given_input[-1].to(device)\n",
        "    \n",
        "    for p in range(length):\n",
        "        output, hidden = model(inp, hidden)\n",
        "        \n",
        "        output = output.detach().cpu()\n",
        "        output_dist = F.softmax(output / temperature, dim=-1).to('cpu').data[0].numpy()\n",
        "        next_char = np.random.choice(len(tokens), p=output_dist)\n",
        "        \n",
        "        predicted_char = idx_to_token[next_char]\n",
        "        predicted += predicted_char\n",
        "        inp = string_to_matrix(predicted_char).to(device)\n",
        "\n",
        "    return predicted"
      ],
      "execution_count": null,
      "outputs": []
    },
    {
      "cell_type": "code",
      "metadata": {
        "id": "QHcPT6S0Ic_O"
      },
      "source": [
        "print(predict(model, ' hello', 500, 0.65))"
      ],
      "execution_count": null,
      "outputs": []
    },
    {
      "cell_type": "markdown",
      "metadata": {
        "id": "5GTBxEqNPx1B"
      },
      "source": [
        "Посмотрим, что получается при различных значениях температуры. "
      ]
    },
    {
      "cell_type": "code",
      "metadata": {
        "id": "9aUasb5q8mCl"
      },
      "source": [
        "for temp in [0.1, 0.2, 0.5, 1.0, 2.0]:\n",
        "  print(predict(model, ' hello', 500, temp), end=f\"\\nsample for temperature -> {temp}\\n\\n\\n\")"
      ],
      "execution_count": null,
      "outputs": []
    },
    {
      "cell_type": "markdown",
      "metadata": {
        "id": "nk8c7_oeP4L6"
      },
      "source": [
        "На сей раз GRU-четко уловила структуру текста, и даже проскакивает рифма в придуманном моделью тексте. "
      ]
    },
    {
      "cell_type": "code",
      "metadata": {
        "id": "7__IL_ojQubC"
      },
      "source": [
        ""
      ],
      "execution_count": null,
      "outputs": []
    }
  ]
}