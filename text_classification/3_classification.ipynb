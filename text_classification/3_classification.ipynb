{
  "nbformat": 4,
  "nbformat_minor": 0,
  "metadata": {
    "colab": {
      "name": "3_classification.ipynb",
      "provenance": [],
      "collapsed_sections": [],
      "include_colab_link": true
    },
    "kernelspec": {
      "display_name": "Python 3",
      "language": "python",
      "name": "python3"
    },
    "language_info": {
      "codemirror_mode": {
        "name": "ipython",
        "version": 3
      },
      "file_extension": ".py",
      "mimetype": "text/x-python",
      "name": "python",
      "nbconvert_exporter": "python",
      "pygments_lexer": "ipython3",
      "version": "3.7.6"
    }
  },
  "cells": [
    {
      "cell_type": "markdown",
      "metadata": {
        "id": "view-in-github",
        "colab_type": "text"
      },
      "source": [
        "<a href=\"https://colab.research.google.com/github/delhian/NLP_course/blob/master/text_classification/3_classification.ipynb\" target=\"_parent\"><img src=\"https://colab.research.google.com/assets/colab-badge.svg\" alt=\"Open In Colab\"/></a>"
      ]
    },
    {
      "cell_type": "markdown",
      "metadata": {
        "id": "8yYS1x0Mtjk5"
      },
      "source": [
        "<h1><center>Классификация текстов</center></h1>"
      ]
    },
    {
      "cell_type": "markdown",
      "metadata": {
        "id": "oO7xySS0tjk7"
      },
      "source": [
        "Сегодня мы подробнее познакомимся с задачей классификации текстов на два или более классов.\n",
        "\n",
        "У нас есть [набор данных отзывов на фильмы IMDB](https://www.kaggle.com/lakshmi25npathi/imdb-dataset-of-50k-movie-reviews), который часто используют при разработке и оценке моделей классификации текстов. Каждый из отзывов в наборе данных имеет свою оценку: является ли он позитивным или негативным.\n",
        "\n",
        "**Цель:** Используя данные отзывов IMDB, построить модель, которая на основе текста отзыва сможет определять, относится ли он к позитивнму или к негативному классу."
      ]
    },
    {
      "cell_type": "markdown",
      "metadata": {
        "id": "l3zZNmPptjk7"
      },
      "source": [
        "## План работы\n",
        "* Подготовка данных\n",
        "* Классификация с помощью Word2Vec:\n",
        "    * Обучение модели Word2Vec\n",
        "    * Построение векторов для текстов через среднее векторов слов\n",
        "    * Построение векторов для текстов через средневзвешенное векторов слов\n",
        "* Классификация с помощью FastText\n",
        "* Классификация с помощью сверточной нейронной сети (CNN)"
      ]
    },
    {
      "cell_type": "markdown",
      "metadata": {
        "id": "XTypZkDztjk8"
      },
      "source": [
        "## Подготовка данных\n",
        "\n"
      ]
    },
    {
      "cell_type": "markdown",
      "metadata": {
        "id": "Dr3YoGLctjk8"
      },
      "source": [
        "Для обучения нейросетевых моделей (далее) мы будем использовать популярный фреймворк [PyTorch](https://pytorch.org/)."
      ]
    },
    {
      "cell_type": "markdown",
      "metadata": {
        "id": "NHKLq9hEFhNr"
      },
      "source": [
        "В предположении, что PyTorch уже установлен, поставим дополнительные модули (torchvision и torchtext) и загрузим модель для токенизации:"
      ]
    },
    {
      "cell_type": "code",
      "metadata": {
        "colab": {
          "base_uri": "https://localhost:8080/"
        },
        "id": "5kiZro9eG-bG",
        "outputId": "cf0ca4b0-2d3f-4e28-8641-b43f9664af59"
      },
      "source": [
        "!pip install torchvision"
      ],
      "execution_count": 1,
      "outputs": [
        {
          "output_type": "stream",
          "name": "stdout",
          "text": [
            "Requirement already satisfied: torchvision in /usr/local/lib/python3.7/dist-packages (0.10.0+cu111)\n",
            "Requirement already satisfied: numpy in /usr/local/lib/python3.7/dist-packages (from torchvision) (1.19.5)\n",
            "Requirement already satisfied: torch==1.9.0 in /usr/local/lib/python3.7/dist-packages (from torchvision) (1.9.0+cu111)\n",
            "Requirement already satisfied: pillow>=5.3.0 in /usr/local/lib/python3.7/dist-packages (from torchvision) (7.1.2)\n",
            "Requirement already satisfied: typing-extensions in /usr/local/lib/python3.7/dist-packages (from torch==1.9.0->torchvision) (3.10.0.2)\n"
          ]
        }
      ]
    },
    {
      "cell_type": "code",
      "metadata": {
        "colab": {
          "base_uri": "https://localhost:8080/"
        },
        "id": "a-WRgs-VFhNt",
        "outputId": "5640b339-37c4-410d-fc1a-ee208f9ca962"
      },
      "source": [
        "!pip install torchtext"
      ],
      "execution_count": 2,
      "outputs": [
        {
          "output_type": "stream",
          "name": "stdout",
          "text": [
            "Requirement already satisfied: torchtext in /usr/local/lib/python3.7/dist-packages (0.10.0)\n",
            "Requirement already satisfied: numpy in /usr/local/lib/python3.7/dist-packages (from torchtext) (1.19.5)\n",
            "Requirement already satisfied: requests in /usr/local/lib/python3.7/dist-packages (from torchtext) (2.23.0)\n",
            "Requirement already satisfied: torch==1.9.0 in /usr/local/lib/python3.7/dist-packages (from torchtext) (1.9.0+cu111)\n",
            "Requirement already satisfied: tqdm in /usr/local/lib/python3.7/dist-packages (from torchtext) (4.62.3)\n",
            "Requirement already satisfied: typing-extensions in /usr/local/lib/python3.7/dist-packages (from torch==1.9.0->torchtext) (3.10.0.2)\n",
            "Requirement already satisfied: idna<3,>=2.5 in /usr/local/lib/python3.7/dist-packages (from requests->torchtext) (2.10)\n",
            "Requirement already satisfied: urllib3!=1.25.0,!=1.25.1,<1.26,>=1.21.1 in /usr/local/lib/python3.7/dist-packages (from requests->torchtext) (1.24.3)\n",
            "Requirement already satisfied: chardet<4,>=3.0.2 in /usr/local/lib/python3.7/dist-packages (from requests->torchtext) (3.0.4)\n",
            "Requirement already satisfied: certifi>=2017.4.17 in /usr/local/lib/python3.7/dist-packages (from requests->torchtext) (2021.10.8)\n"
          ]
        }
      ]
    },
    {
      "cell_type": "markdown",
      "metadata": {
        "id": "4A7ORf7Ytjk-"
      },
      "source": [
        "Загрузим датасет IMDB из torchtext, это будет удобно для дальнейшего использования этих данных при обучении нейронной сети."
      ]
    },
    {
      "cell_type": "code",
      "metadata": {
        "colab": {
          "base_uri": "https://localhost:8080/"
        },
        "id": "xQOZHXAqtjk-",
        "outputId": "7a4ab945-a8a3-481a-d5ef-74516ce5bba3"
      },
      "source": [
        "import numpy as np\n",
        "import torch\n",
        "from sklearn.metrics import precision_score,recall_score,f1_score,accuracy_score,classification_report,confusion_matrix\n",
        "from torchtext.legacy import data\n",
        "from torchtext import datasets\n",
        "from matplotlib import pyplot as plt\n",
        "from sklearn.feature_extraction.text import TfidfVectorizer\n",
        "from collections import Counter,defaultdict\n",
        "%matplotlib inline\n",
        "import seaborn as sns\n",
        "\n",
        "print(torch.__version__)\n",
        "\n",
        "SEED = 0\n",
        "torch.manual_seed(SEED)\n",
        "torch.cuda.manual_seed(SEED)\n",
        "\n",
        "\n",
        "TEXT = data.Field(tokenize='spacy')\n",
        "LABEL = data.LabelField()"
      ],
      "execution_count": 3,
      "outputs": [
        {
          "output_type": "stream",
          "name": "stdout",
          "text": [
            "1.9.0+cu111\n"
          ]
        }
      ]
    },
    {
      "cell_type": "markdown",
      "metadata": {
        "id": "pOAnrbtJtjk_"
      },
      "source": [
        "Разделим данные на обучаующую и тестовую выборку и преобразуем их в формат, удобный для построения классических моделей машинного обучения."
      ]
    },
    {
      "cell_type": "code",
      "metadata": {
        "colab": {
          "base_uri": "https://localhost:8080/"
        },
        "id": "EzQ5j537tjk_",
        "outputId": "9bcb28d7-4e21-4234-95c9-0247f1d77c06"
      },
      "source": [
        "%%time\n",
        "\n",
        "train_src, test = datasets.IMDB()\n",
        "\n",
        "X_train, X_test, y_train, y_test = [], [], [], []\n",
        "\n",
        "def tokenize(line):\n",
        "    return line.split()\n",
        "\n",
        "for label, line in train_src:\n",
        "  X_train.append(tokenize(line))\n",
        "  y_train.append(label)\n",
        "\n",
        "for label, line in test:\n",
        "  X_test.append(tokenize(line))\n",
        "  y_test.append(label)"
      ],
      "execution_count": 4,
      "outputs": [
        {
          "output_type": "stream",
          "name": "stderr",
          "text": [
            "aclImdb_v1.tar.gz: 100%|██████████| 84.1M/84.1M [00:05<00:00, 15.9MB/s]\n"
          ]
        },
        {
          "output_type": "stream",
          "name": "stdout",
          "text": [
            "CPU times: user 29.8 s, sys: 11.7 s, total: 41.5 s\n",
            "Wall time: 46.7 s\n"
          ]
        }
      ]
    },
    {
      "cell_type": "code",
      "metadata": {
        "colab": {
          "base_uri": "https://localhost:8080/"
        },
        "id": "Kk-NbCv-0Jmo",
        "outputId": "c933875e-89ea-40b0-8877-15579ec5ed59"
      },
      "source": [
        "from collections import Counter\n",
        "\n",
        "print (\"total train examples %s\" % len(y_train))\n",
        "print (\"total test examples %s\" % len(y_test))\n",
        "\n",
        "train_counter = Counter(y_train)\n",
        "test_counter = Counter(y_test)\n",
        "\n",
        "print (\"{0} positive and {1} negative examples in test\".format(test_counter['pos'],test_counter['neg']))\n",
        "print (\"{0} positive and {1} negative examples in test\".format(test_counter['pos'],test_counter['neg']))"
      ],
      "execution_count": 5,
      "outputs": [
        {
          "output_type": "stream",
          "name": "stdout",
          "text": [
            "total train examples 25000\n",
            "total test examples 25000\n",
            "12500 positive and 12500 negative examples in test\n",
            "12500 positive and 12500 negative examples in test\n"
          ]
        }
      ]
    },
    {
      "cell_type": "markdown",
      "metadata": {
        "id": "J4pRDYrVtjlA"
      },
      "source": [
        "Можно видеть, что классы сбалансированы: количество позитивных и негативных отзывов совпадают."
      ]
    },
    {
      "cell_type": "markdown",
      "metadata": {
        "id": "gMd5vlRrtjlA"
      },
      "source": [
        "Посмотрим на примеры позитивного и негативного отзыва."
      ]
    },
    {
      "cell_type": "code",
      "metadata": {
        "colab": {
          "base_uri": "https://localhost:8080/"
        },
        "id": "b3iAeDtatjlA",
        "outputId": "840589e0-2d33-48c8-9ac4-04894d036bb9"
      },
      "source": [
        "print(\"Negative example:\\n{0}\\n\\n\".format(' '.join(X_train[0])))\n",
        "print(\"Positive example:\\n{0}\\n\\n\".format(' '.join(X_train[-1])))"
      ],
      "execution_count": 6,
      "outputs": [
        {
          "output_type": "stream",
          "name": "stdout",
          "text": [
            "Negative example:\n",
            "I rented I AM CURIOUS-YELLOW from my video store because of all the controversy that surrounded it when it was first released in 1967. I also heard that at first it was seized by U.S. customs if it ever tried to enter this country, therefore being a fan of films considered \"controversial\" I really had to see this for myself.<br /><br />The plot is centered around a young Swedish drama student named Lena who wants to learn everything she can about life. In particular she wants to focus her attentions to making some sort of documentary on what the average Swede thought about certain political issues such as the Vietnam War and race issues in the United States. In between asking politicians and ordinary denizens of Stockholm about their opinions on politics, she has sex with her drama teacher, classmates, and married men.<br /><br />What kills me about I AM CURIOUS-YELLOW is that 40 years ago, this was considered pornographic. Really, the sex and nudity scenes are few and far between, even then it's not shot like some cheaply made porno. While my countrymen mind find it shocking, in reality sex and nudity are a major staple in Swedish cinema. Even Ingmar Bergman, arguably their answer to good old boy John Ford, had sex scenes in his films.<br /><br />I do commend the filmmakers for the fact that any sex shown in the film is shown for artistic purposes rather than just to shock people and make money to be shown in pornographic theaters in America. I AM CURIOUS-YELLOW is a good film for anyone wanting to study the meat and potatoes (no pun intended) of Swedish cinema. But really, this film doesn't have much of a plot.\n",
            "\n",
            "\n",
            "Positive example:\n",
            "The story centers around Barry McKenzie who must go to England if he wishes to claim his inheritance. Being about the grossest Aussie shearer ever to set foot outside this great Nation of ours there is something of a culture clash and much fun and games ensue. The songs of Barry McKenzie(Barry Crocker) are highlights.\n",
            "\n",
            "\n"
          ]
        }
      ]
    },
    {
      "cell_type": "markdown",
      "metadata": {
        "id": "SIGbrFEFtjlB"
      },
      "source": [
        "## Классификация с помощью Word2Vec"
      ]
    },
    {
      "cell_type": "markdown",
      "metadata": {
        "id": "Tj-fB_VetjlB"
      },
      "source": [
        "Подробно языковая модель *Word2Vec* была рассмотрена на предыдущей неделе курса.\n",
        "\n",
        "Здесь мы будем использовать эту модель для получения векторных представлений слов."
      ]
    },
    {
      "cell_type": "code",
      "metadata": {
        "id": "OzEEodRgtjlB"
      },
      "source": [
        "from gensim.models import Word2Vec\n",
        "model = Word2Vec(X_train, size=100, window=5, min_count=5, workers=4)\n",
        "model.save(\"word2vec.model\")"
      ],
      "execution_count": 7,
      "outputs": []
    },
    {
      "cell_type": "code",
      "metadata": {
        "id": "oiXX5lCNtjlB"
      },
      "source": [
        "w2v_model = Word2Vec.load(\"word2vec.model\")"
      ],
      "execution_count": 8,
      "outputs": []
    },
    {
      "cell_type": "markdown",
      "metadata": {
        "id": "iHjnDymHtjlC"
      },
      "source": [
        "Чтобы решить задачу классификации текстов, нам нужно каждому тексту поставить в соответствие вектор."
      ]
    },
    {
      "cell_type": "markdown",
      "metadata": {
        "id": "ZrP66S7ptjlC"
      },
      "source": [
        "Реализуем класс *MeanEmbeddingVectorizer*, с помощью которого будем получать вектора для текстов отзывов на основе векторов слов.\n",
        "Вектор каждого текста будет равен среднему векторов входящих в него слов."
      ]
    },
    {
      "cell_type": "code",
      "metadata": {
        "id": "E5vUJo5ntjlC"
      },
      "source": [
        "class MeanEmbeddingVectorizer(object):\n",
        "    def __init__(self, word2vec):\n",
        "        self.word2vec = word2vec\n",
        "        self.dim = len(list(word2vec.values())[0])\n",
        "\n",
        "    def fit(self, X, y):\n",
        "        return self\n",
        "\n",
        "    def transform(self, X):\n",
        "        return np.array([\n",
        "            np.mean([self.word2vec[w] for w in words if w in self.word2vec]\n",
        "                    or [np.zeros(self.dim)], axis=0)\n",
        "            for words in X\n",
        "        ])"
      ],
      "execution_count": 9,
      "outputs": []
    },
    {
      "cell_type": "markdown",
      "metadata": {
        "id": "JOGWBNsdtjlC"
      },
      "source": [
        "Попробуем также немного другой подход $-$ будем получать вектор для текста как средневзвешенное векторов входящих в него слов с весами *tf-idf*.\n",
        "\n",
        "Для этого реализуем класс *TfidfEmbeddingVectorizer*."
      ]
    },
    {
      "cell_type": "code",
      "metadata": {
        "id": "Vh1_1yUWtjlD"
      },
      "source": [
        "class TfidfEmbeddingVectorizer(object):\n",
        "    def __init__(self, word2vec):\n",
        "        self.word2vec = word2vec\n",
        "        self.word2weight = None\n",
        "        self.dim = len(list(word2vec.values())[0])\n",
        "\n",
        "    def fit(self, X, y):\n",
        "        tfidf = TfidfVectorizer(analyzer=lambda x: x)\n",
        "        tfidf.fit(X)\n",
        "        max_idf = max(tfidf.idf_)\n",
        "        self.word2weight = defaultdict(\n",
        "            lambda: max_idf,\n",
        "            [(w, tfidf.idf_[i]) for w, i in tfidf.vocabulary_.items()])\n",
        "\n",
        "        return self\n",
        "\n",
        "    def transform(self, X):\n",
        "        return np.array([\n",
        "                np.mean([self.word2vec[w] * self.word2weight[w]\n",
        "                         for w in words if w in self.word2vec] or\n",
        "                        [np.zeros(self.dim)], axis=0)\n",
        "                for words in X\n",
        "            ])"
      ],
      "execution_count": 10,
      "outputs": []
    },
    {
      "cell_type": "markdown",
      "metadata": {
        "id": "DPcAh9ZStjlD"
      },
      "source": [
        "Преобразуем модель Word2Vec в словарь для дальнейшего использования для векторизации текстов."
      ]
    },
    {
      "cell_type": "code",
      "metadata": {
        "colab": {
          "base_uri": "https://localhost:8080/"
        },
        "id": "lgfirXCWtjlD",
        "outputId": "92e59676-98a6-46de-ee42-15f5963392a9"
      },
      "source": [
        "w2v = dict(zip(w2v_model.wv.index2word, w2v_model.wv.syn0))"
      ],
      "execution_count": 11,
      "outputs": [
        {
          "output_type": "stream",
          "name": "stderr",
          "text": [
            "/usr/local/lib/python3.7/dist-packages/ipykernel_launcher.py:1: DeprecationWarning: Call to deprecated `syn0` (Attribute will be removed in 4.0.0, use self.wv.vectors instead).\n",
            "  \"\"\"Entry point for launching an IPython kernel.\n"
          ]
        }
      ]
    },
    {
      "cell_type": "markdown",
      "metadata": {
        "id": "ygjVUZmctjlE"
      },
      "source": [
        "Для классификации будем использовать модель [случайного леса](https://scikit-learn.org/stable/modules/generated/sklearn.ensemble.RandomForestClassifier.html) из scikit-learn."
      ]
    },
    {
      "cell_type": "code",
      "metadata": {
        "id": "pQEwmDAhtjlE"
      },
      "source": [
        "from sklearn.pipeline import Pipeline\n",
        "from sklearn.ensemble import RandomForestClassifier\n",
        "\n",
        "rfc_w2v = Pipeline([\n",
        "    (\"word2vec vectorizer\", MeanEmbeddingVectorizer(w2v)),\n",
        "    (\"extra trees\", RandomForestClassifier(n_estimators=20))])\n",
        "rfc_w2v_tfidf = Pipeline([\n",
        "    (\"word2vec vectorizer\", TfidfEmbeddingVectorizer(w2v)),\n",
        "    (\"extra trees\", RandomForestClassifier(n_estimators=20))])"
      ],
      "execution_count": 12,
      "outputs": []
    },
    {
      "cell_type": "code",
      "metadata": {
        "colab": {
          "base_uri": "https://localhost:8080/"
        },
        "id": "n5Y-c3SdtjlE",
        "outputId": "f432eb38-1122-458e-c279-828de87845eb"
      },
      "source": [
        "%time rfc_w2v.fit(X_train,y_train)\n",
        "pred = rfc_w2v.predict(X_test)"
      ],
      "execution_count": 13,
      "outputs": [
        {
          "output_type": "stream",
          "name": "stdout",
          "text": [
            "CPU times: user 10.7 s, sys: 188 ms, total: 10.9 s\n",
            "Wall time: 10.9 s\n"
          ]
        }
      ]
    },
    {
      "cell_type": "markdown",
      "metadata": {
        "id": "wBlpheyttjlE"
      },
      "source": [
        "Построим отчет по предсказаниям модели (с помощью MeanEmbeddingVectorizer) на тестовой выборке. Выведем точность (precision), полноту (recall) и f1-меру для позитивного и негативного классов, а также количество объектов каждого класса (support) в тестовой выборке."
      ]
    },
    {
      "cell_type": "code",
      "metadata": {
        "colab": {
          "base_uri": "https://localhost:8080/",
          "height": 495
        },
        "id": "Da6DmN31_bIb",
        "outputId": "759f4344-46e5-456e-8ca0-5932a8dd1a93"
      },
      "source": [
        "print(\"Precision: {0:6.2f}\".format(precision_score(y_test, pred, average='macro')))\n",
        "print(\"Recall: {0:6.2f}\".format(recall_score(y_test, pred, average='macro')))\n",
        "print(\"F1-measure: {0:6.2f}\".format(f1_score(y_test, pred, average='macro')))\n",
        "print(\"Accuracy: {0:6.2f}\".format(accuracy_score(y_test, pred)))\n",
        "print(classification_report(y_test, pred))\n",
        "labels = rfc_w2v.classes_\n",
        "\n",
        "\n",
        "sns.heatmap(data=confusion_matrix(y_test, pred), annot=True, fmt=\"d\", cbar=False, xticklabels=labels, yticklabels=labels)\n",
        "plt.title(\"Confusion matrix\")\n",
        "plt.show()"
      ],
      "execution_count": 14,
      "outputs": [
        {
          "output_type": "stream",
          "name": "stdout",
          "text": [
            "Precision:   0.69\n",
            "Recall:   0.69\n",
            "F1-measure:   0.69\n",
            "Accuracy:   0.69\n",
            "              precision    recall  f1-score   support\n",
            "\n",
            "         neg       0.68      0.73      0.71     12500\n",
            "         pos       0.71      0.65      0.68     12500\n",
            "\n",
            "    accuracy                           0.69     25000\n",
            "   macro avg       0.69      0.69      0.69     25000\n",
            "weighted avg       0.69      0.69      0.69     25000\n",
            "\n"
          ]
        },
        {
          "output_type": "display_data",
          "data": {
            "image/png": "[encoded data removed]",
            "text/plain": [
              "<Figure size 432x288 with 1 Axes>"
            ]
          },
          "metadata": {
            "needs_background": "light"
          }
        }
      ]
    },
    {
      "cell_type": "markdown",
      "metadata": {
        "id": "liTZOmvHtjlF"
      },
      "source": [
        "В данном случае классы сбалансированы (количество объектов позитивного и негативного классов совпадают), поэтому в качестве метрики качества можно использовать *accuracy*."
      ]
    },
    {
      "cell_type": "code",
      "metadata": {
        "colab": {
          "base_uri": "https://localhost:8080/"
        },
        "id": "LMq3YcXvtjlF",
        "outputId": "5ecf92c9-8d16-42b1-fdd1-b14ef37cf5f8"
      },
      "source": [
        "%time rfc_w2v_tfidf.fit(X_train,y_train)\n",
        "pred = rfc_w2v_tfidf.predict(X_test)"
      ],
      "execution_count": 15,
      "outputs": [
        {
          "output_type": "stream",
          "name": "stdout",
          "text": [
            "CPU times: user 9min 5s, sys: 16.8 s, total: 9min 22s\n",
            "Wall time: 9min 21s\n"
          ]
        }
      ]
    },
    {
      "cell_type": "markdown",
      "metadata": {
        "id": "CsX17EGltjlG"
      },
      "source": [
        "Теперь выведем результаты работы классификатора на признаках из *TfidfEmbeddingVectorizer*."
      ]
    },
    {
      "cell_type": "code",
      "metadata": {
        "colab": {
          "base_uri": "https://localhost:8080/",
          "height": 495
        },
        "id": "deeh8ARJ_jnL",
        "outputId": "211ffced-9f7d-42b2-c9ca-93928bf7987e"
      },
      "source": [
        "print(\"Precision: {0:6.2f}\".format(precision_score(y_test, pred, average='macro')))\n",
        "print(\"Recall: {0:6.2f}\".format(recall_score(y_test, pred, average='macro')))\n",
        "print(\"F1-measure: {0:6.2f}\".format(f1_score(y_test, pred, average='macro')))\n",
        "print(\"Accuracy: {0:6.2f}\".format(accuracy_score(y_test, pred)))\n",
        "print(classification_report(y_test, pred))\n",
        "labels = rfc_w2v.classes_\n",
        "\n",
        "\n",
        "sns.heatmap(data=confusion_matrix(y_test, pred), annot=True, fmt=\"d\", cbar=False, xticklabels=labels, yticklabels=labels)\n",
        "plt.title(\"Confusion matrix\")\n",
        "plt.show()"
      ],
      "execution_count": 16,
      "outputs": [
        {
          "output_type": "stream",
          "name": "stdout",
          "text": [
            "Precision:   0.72\n",
            "Recall:   0.72\n",
            "F1-measure:   0.72\n",
            "Accuracy:   0.72\n",
            "              precision    recall  f1-score   support\n",
            "\n",
            "         neg       0.70      0.76      0.73     12500\n",
            "         pos       0.74      0.68      0.71     12500\n",
            "\n",
            "    accuracy                           0.72     25000\n",
            "   macro avg       0.72      0.72      0.72     25000\n",
            "weighted avg       0.72      0.72      0.72     25000\n",
            "\n"
          ]
        },
        {
          "output_type": "display_data",
          "data": {
            "image/png": "[encoded data removed]",
            "text/plain": [
              "<Figure size 432x288 with 1 Axes>"
            ]
          },
          "metadata": {
            "needs_background": "light"
          }
        }
      ]
    },
    {
      "cell_type": "code",
      "metadata": {
        "scrolled": false,
        "colab": {
          "base_uri": "https://localhost:8080/",
          "height": 495
        },
        "id": "sph_VmhutjlG",
        "outputId": "dccd0df6-c755-4112-9340-7f5a0a2d3ece"
      },
      "source": [
        "print(\"Precision: {0:6.2f}\".format(precision_score(y_test, pred, average='macro')))\n",
        "print(\"Recall: {0:6.2f}\".format(recall_score(y_test, pred, average='macro')))\n",
        "print(\"F1-measure: {0:6.2f}\".format(f1_score(y_test, pred, average='macro')))\n",
        "print(\"Accuracy: {0:6.2f}\".format(accuracy_score(y_test, pred)))\n",
        "print(classification_report(y_test, pred))\n",
        "labels = rfc_w2v.classes_\n",
        "\n",
        "\n",
        "sns.heatmap(data=confusion_matrix(y_test, pred), annot=True, fmt=\"d\", cbar=False, xticklabels=labels, yticklabels=labels)\n",
        "plt.title(\"Confusion matrix\")\n",
        "plt.show()"
      ],
      "execution_count": 17,
      "outputs": [
        {
          "output_type": "stream",
          "name": "stdout",
          "text": [
            "Precision:   0.72\n",
            "Recall:   0.72\n",
            "F1-measure:   0.72\n",
            "Accuracy:   0.72\n",
            "              precision    recall  f1-score   support\n",
            "\n",
            "         neg       0.70      0.76      0.73     12500\n",
            "         pos       0.74      0.68      0.71     12500\n",
            "\n",
            "    accuracy                           0.72     25000\n",
            "   macro avg       0.72      0.72      0.72     25000\n",
            "weighted avg       0.72      0.72      0.72     25000\n",
            "\n"
          ]
        },
        {
          "output_type": "display_data",
          "data": {
            "image/png": "[encoded data removed]",
            "text/plain": [
              "<Figure size 432x288 with 1 Axes>"
            ]
          },
          "metadata": {
            "needs_background": "light"
          }
        }
      ]
    },
    {
      "cell_type": "markdown",
      "metadata": {
        "id": "JqYfZ78rtjlG"
      },
      "source": [
        "Можно видеть, что при использовании *TfidfEmbeddingVectorizer* метрика Accuracy немного увеличилась по сравнению c *MeanEmbeddingVectorizer* $-$ с 0.60 до 0.62."
      ]
    },
    {
      "cell_type": "markdown",
      "metadata": {
        "id": "36s8uZSVtjlG"
      },
      "source": [
        "## Классификация с помощью FastText"
      ]
    },
    {
      "cell_type": "markdown",
      "metadata": {
        "id": "TkkXUPzttjlH"
      },
      "source": [
        "Теперь попробуем классифицировать тексты с помощью другой языковой модели [FastText](https://github.com/facebookresearch/fasttext), которая также была описана в предыдущем занятии."
      ]
    },
    {
      "cell_type": "markdown",
      "metadata": {
        "id": "aOUyAa8ctjlH"
      },
      "source": [
        "Чтобы использовать модель, подготовим для нее данные, записав тексты и их метки классов в файлы data.train.txt и text.txt"
      ]
    },
    {
      "cell_type": "code",
      "metadata": {
        "id": "JU7--LkeB96T"
      },
      "source": [
        "pip install fasttext  > /dev/null"
      ],
      "execution_count": 18,
      "outputs": []
    },
    {
      "cell_type": "code",
      "metadata": {
        "id": "9A3qochbtjlH"
      },
      "source": [
        "import fasttext\n",
        "\n",
        "N = -1\n",
        "\n",
        "with open('data.train.txt', 'w+') as outfile:\n",
        "    for i in range(len(X_train)):\n",
        "        outfile.write('__label__' + y_train[i] + ' '+ ' '.join(X_train[i]) + '\\n')\n",
        "    \n",
        "with open('test.txt', 'w+') as outfile:\n",
        "    for i in range(len(X_test)):\n",
        "        outfile.write('__label__' + y_test[i] + ' ' + ' '.join(X_test[i]) + '\\n')"
      ],
      "execution_count": 19,
      "outputs": []
    },
    {
      "cell_type": "markdown",
      "metadata": {
        "id": "_SAz_JL1tjlH"
      },
      "source": [
        "Будем использовать встроенную в fasttext модель классификации (логистическая регрессия) с помощью метода train_supervised."
      ]
    },
    {
      "cell_type": "code",
      "metadata": {
        "colab": {
          "base_uri": "https://localhost:8080/"
        },
        "id": "Jf9R6X9QtjlH",
        "outputId": "a286d63a-a8b2-47c6-900e-0cd6fa3260db"
      },
      "source": [
        "%%time\n",
        "classifier = fasttext.train_supervised('data.train.txt', epoch = 5000)#, 'model')\n",
        "result = classifier.test('test.txt')\n",
        "print('P@1:', result[1])#.precision)\n",
        "print('R@1:', result[2])#.recall)\n",
        "print('Number of examples:', result[0])#.nexamples)"
      ],
      "execution_count": 22,
      "outputs": [
        {
          "output_type": "stream",
          "name": "stdout",
          "text": [
            "P@1: 0.85824\n",
            "R@1: 0.85824\n",
            "Number of examples: 25000\n",
            "CPU times: user 3h 9min 14s, sys: 1min 35s, total: 3h 10min 50s\n",
            "Wall time: 3h 9min 52s\n"
          ]
        }
      ]
    },
    {
      "cell_type": "code",
      "metadata": {
        "colab": {
          "base_uri": "https://localhost:8080/",
          "height": 495
        },
        "id": "O92upashtjlI",
        "outputId": "15191530-811c-48c5-ed98-36c826102ad5"
      },
      "source": [
        "pred = classifier.predict([' '.join(x) for x in X_test])[0]\n",
        "pred = [label[0].split(\"_\")[-1] for label in pred]\n",
        "\n",
        "print(\"Precision: {0:6.2f}\".format(precision_score(y_test, pred, average='macro')))\n",
        "print(\"Recall: {0:6.2f}\".format(recall_score(y_test, pred, average='macro')))\n",
        "print(\"F1-measure: {0:6.2f}\".format(f1_score(y_test, pred, average='macro')))\n",
        "print(\"Accuracy: {0:6.2f}\".format(accuracy_score(y_test, pred)))\n",
        "print(classification_report(y_test, pred))#[i[0] for i in pred]))\n",
        "labels = rfc_w2v.classes_\n",
        "\n",
        "\n",
        "sns.heatmap(data=confusion_matrix(y_test, pred), annot=True, fmt=\"d\", cbar=False, xticklabels=labels, yticklabels=labels)\n",
        "plt.title(\"Confusion matrix\")\n",
        "plt.show()"
      ],
      "execution_count": 23,
      "outputs": [
        {
          "output_type": "stream",
          "name": "stdout",
          "text": [
            "Precision:   0.86\n",
            "Recall:   0.86\n",
            "F1-measure:   0.86\n",
            "Accuracy:   0.86\n",
            "              precision    recall  f1-score   support\n",
            "\n",
            "         neg       0.86      0.86      0.86     12500\n",
            "         pos       0.86      0.86      0.86     12500\n",
            "\n",
            "    accuracy                           0.86     25000\n",
            "   macro avg       0.86      0.86      0.86     25000\n",
            "weighted avg       0.86      0.86      0.86     25000\n",
            "\n"
          ]
        },
        {
          "output_type": "display_data",
          "data": {
            "image/png": "[encoded data removed]",
            "text/plain": [
              "<Figure size 432x288 with 1 Axes>"
            ]
          },
          "metadata": {
            "needs_background": "light"
          }
        }
      ]
    },
    {
      "cell_type": "markdown",
      "metadata": {
        "id": "K9VpCnwKtjlI"
      },
      "source": [
        "Можно видеть, что качество классификации при использовании FastText существенно увеличилось по сравнению с моделях на основе Word2Vec."
      ]
    }
  ]
}