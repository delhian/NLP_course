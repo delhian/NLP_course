{
  "nbformat": 4,
  "nbformat_minor": 0,
  "metadata": {
    "colab": {
      "name": "lecture_2.ipynb",
      "provenance": [],
      "collapsed_sections": [
        "dYiMSlimBMdh"
      ],
      "include_colab_link": true
    },
    "kernelspec": {
      "name": "python3",
      "display_name": "Python 3"
    },
    "language_info": {
      "name": "python"
    }
  },
  "cells": [
    {
      "cell_type": "markdown",
      "metadata": {
        "id": "view-in-github",
        "colab_type": "text"
      },
      "source": [
        "<a href=\"https://colab.research.google.com/github/delhian/NLP_course/blob/master/week2/lecture_2.ipynb\" target=\"_parent\"><img src=\"https://colab.research.google.com/assets/colab-badge.svg\" alt=\"Open In Colab\"/></a>"
      ]
    },
    {
      "cell_type": "markdown",
      "metadata": {
        "id": "vQOdcqFLBBqB"
      },
      "source": [
        "Let`s write function that computes cross-entropy fuction on batch of samples. "
      ]
    },
    {
      "cell_type": "markdown",
      "metadata": {
        "id": "dYiMSlimBMdh"
      },
      "source": [
        "#### help"
      ]
    },
    {
      "cell_type": "code",
      "metadata": {
        "id": "h51AX3xeBOo6"
      },
      "source": [
        "# 0.  Your input is probabilities - vector for of probabilities for all classes for one sample and targets - ohe vectors for each sample\n",
        "# 1.  clip predictions in range of (0,1). You can also clip predictions on some little value of epsilon (epsilon, 1 - epsilon)\n",
        "# 2.  compute sum of each prob multiply target\n",
        "# 3.  take on everage value of all CE for each sample"
      ],
      "execution_count": 1,
      "outputs": []
    },
    {
      "cell_type": "markdown",
      "metadata": {
        "id": "m4amaNTMDCqD"
      },
      "source": [
        "### Your Implementation"
      ]
    },
    {
      "cell_type": "code",
      "metadata": {
        "id": "V0aNOQMBDPKN"
      },
      "source": [
        "import numpy as np"
      ],
      "execution_count": 2,
      "outputs": []
    },
    {
      "cell_type": "markdown",
      "metadata": {
        "id": "K6c9gohmlo0R"
      },
      "source": [
        "![image.png](data:image/png;base64,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)"
      ]
    },
    {
      "cell_type": "code",
      "metadata": {
        "id": "W1dpCBNtkr-W",
        "outputId": "e34f7814-80eb-4911-a5ff-d0b288df17f1",
        "colab": {
          "base_uri": "https://localhost:8080/"
        }
      },
      "source": [
        "prob = np.array([[0.25,0.25,0.25,0.25], [0.01,0.01,0.01,0.96]])\n",
        "\n",
        "targets = np.array([[0,0,0,1], [0,0,0,1]])\n",
        "\n",
        "- targets*np.log(prob)"
      ],
      "execution_count": 83,
      "outputs": [
        {
          "output_type": "execute_result",
          "data": {
            "text/plain": [
              "array([[-0.        , -0.        , -0.        ,  1.38629436],\n",
              "       [-0.        , -0.        , -0.        ,  0.04082199]])"
            ]
          },
          "metadata": {},
          "execution_count": 83
        }
      ]
    },
    {
      "cell_type": "code",
      "metadata": {
        "id": "cOzXJXVZA_jQ"
      },
      "source": [
        "#YOUR CODE HERE\n",
        "def cross_entropy(prob: np.array, targets: np.array, epsilon=1e-9) -> float:\n",
        "  prob = np.clip(prob, epsilon, 1-epsilon)\n",
        "  return - np.mean(np.sum(targets*np.log(prob), axis=1))"
      ],
      "execution_count": 140,
      "outputs": []
    },
    {
      "cell_type": "code",
      "metadata": {
        "id": "CH8HsE3-96Z8"
      },
      "source": [
        "def cross_entropy(prob: np.array, targets: np.array, epsilon=0) -> float:\n",
        "  prob = np.clip(prob, epsilon, 1-epsilon)\n",
        "  return - np.mean(targets.dot(np.log(prob).T))"
      ],
      "execution_count": 142,
      "outputs": []
    },
    {
      "cell_type": "code",
      "metadata": {
        "id": "fZmpzpMbDwgg"
      },
      "source": [
        "predictions = np.array([[0.25,0.25,0.25,0.25],\n",
        "                        [0.01,0.01,0.01,0.96]])\n",
        "\n",
        "targets = np.array([[0,0,0,1],\n",
        "                   [0,0,0,1]])\n",
        "\n",
        "ans = 0.71355817782 \n",
        "\n",
        "x = cross_entropy(predictions, targets)"
      ],
      "execution_count": 143,
      "outputs": []
    },
    {
      "cell_type": "code",
      "metadata": {
        "id": "XYiFBFNAD0ym"
      },
      "source": [
        "assert np.isclose(x,ans)"
      ],
      "execution_count": 144,
      "outputs": []
    },
    {
      "cell_type": "code",
      "metadata": {
        "id": "gvV7ANeV943y",
        "outputId": "1764bbfd-5425-4566-ad02-8f0ba8adedce",
        "colab": {
          "base_uri": "https://localhost:8080/"
        }
      },
      "source": [
        "cross_entropy(predictions, targets)"
      ],
      "execution_count": 136,
      "outputs": [
        {
          "output_type": "execute_result",
          "data": {
            "text/plain": [
              "0.7135581778200729"
            ]
          },
          "metadata": {},
          "execution_count": 136
        }
      ]
    },
    {
      "cell_type": "code",
      "metadata": {
        "id": "Z4Q2I_97-TAV"
      },
      "source": [
        ""
      ],
      "execution_count": null,
      "outputs": []
    }
  ]
}