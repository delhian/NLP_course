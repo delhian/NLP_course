{
  "nbformat": 4,
  "nbformat_minor": 0,
  "metadata": {
    "accelerator": "GPU",
    "colab": {
      "name": "seminar_2.ipynb",
      "provenance": [],
      "collapsed_sections": [],
      "include_colab_link": true
    },
    "kernelspec": {
      "display_name": "Python 3",
      "name": "python3"
    },
    "language_info": {
      "name": "python"
    },
    "widgets": {
      "application/vnd.jupyter.widget-state+json": {}
    }
  },
  "cells": [
    {
      "cell_type": "markdown",
      "metadata": {
        "id": "view-in-github",
        "colab_type": "text"
      },
      "source": [
        "<a href=\"https://colab.research.google.com/github/delhian/NLP_course/blob/master/week2/seminar_2.ipynb\" target=\"_parent\"><img src=\"https://colab.research.google.com/assets/colab-badge.svg\" alt=\"Open In Colab\"/></a>"
      ]
    },
    {
      "cell_type": "markdown",
      "metadata": {
        "id": "1qJ5iFKmurh0"
      },
      "source": [
        "# Seminar 2 (Word representation and CNN for text classification)"
      ]
    },
    {
      "cell_type": "markdown",
      "metadata": {
        "id": "bYSfo2dEvARC"
      },
      "source": [
        "## Purpose of the lesson"
      ]
    },
    {
      "cell_type": "markdown",
      "metadata": {
        "id": "9HGT3jTivElB"
      },
      "source": [
        "In this lesson, we will touch on two topics: \n",
        "- data research through training your language model and studying the vector representation of words from data\n",
        "- solving practical problem of classifying the sentiment of the text."
      ]
    },
    {
      "cell_type": "markdown",
      "metadata": {
        "id": "Y4_eR4I8vHg5"
      },
      "source": [
        "Practical skills, that you will learn:\n",
        "- training model, that handle distributional semantics over your training dataset;\n",
        "- dimension reduction to more effectively handle vectors and futher use simplier and more light weighted machine learning models;\n",
        "- representation of vectors on 2 dimensional graphics to find some structure in data, relative positions of vectors and similar meanings of words;\n",
        "- downloading open-source datasets for sentiment analysis;\n",
        "- downloading pretrained on large corpus weights;\n",
        "- initialize pretrained weights to your model and use them to get better quality of model;\n",
        "- writing custom class to process data for your model;\n",
        "- learn how to use CNN for text classification;\n",
        "- write simple training/validation loop to train your model;\n",
        "- some kind of transfer learning to solve text classification task for faster, using less data and more effectively."
      ]
    },
    {
      "cell_type": "markdown",
      "metadata": {
        "id": "ObfotIFzvOSq"
      },
      "source": [
        "## PART 1"
      ]
    },
    {
      "cell_type": "markdown",
      "metadata": {
        "id": "qjvgf5-lvR5u"
      },
      "source": [
        "In Part 1 we use texts, but you can also use other data to train vector represention of your tokens.<br> For example: each nodes in graph can be represented as random walk over neighbour nodes. After learning vector representation of your nodes you can cluster your data. It is computational more effective, because all graph clustering algorigtms have O(n**2) complexity and harder.<br>\n",
        "Or you can represent your customers as chain of their transactions and then learn their representation."
      ]
    },
    {
      "cell_type": "code",
      "metadata": {
        "colab": {
          "background_save": true
        },
        "id": "cDs0xRMKA8xv"
      },
      "source": [
        "import numpy as np\n",
        "import pandas as pd\n",
        "from tqdm.notebook import tqdm\n",
        "import torch\n",
        "import torch.nn as nn\n",
        "from matplotlib import pyplot as plt\n",
        "\n",
        "from typing import Union, List, Tuple, Dict, Set"
      ],
      "execution_count": null,
      "outputs": []
    },
    {
      "cell_type": "markdown",
      "metadata": {
        "id": "nAZEp7bkfmJc"
      },
      "source": [
        "### Vector normalization"
      ]
    },
    {
      "cell_type": "markdown",
      "metadata": {
        "id": "6TGBl5v7vayR"
      },
      "source": [
        "When you work with classical ML problems you need to preprocess you features to equal scale. It helps models to faster converge and get more accurate solution.<br>\n",
        "It`s all applicable for texts and their vector representation."
      ]
    },
    {
      "cell_type": "markdown",
      "metadata": {
        "id": "YkG7cF65vdYb"
      },
      "source": [
        "Lets get some simple vectors. They are similar, but have pretty different lenghts."
      ]
    },
    {
      "cell_type": "code",
      "metadata": {
        "colab": {
          "background_save": true,
          "base_uri": "https://localhost:8080/"
        },
        "id": "6e8dwyrEBDau",
        "outputId": "0728a5b9-9b0b-4256-c0ec-4674ca98040f"
      },
      "source": [
        "vectors = np.array([[ 7.,  8.,  5.,  5.],\n",
        "                    [ 9.,  8., 10.,  8.],\n",
        "                    [10.,  8.,  8.,  6.]])\n",
        "vectors"
      ],
      "execution_count": null,
      "outputs": [
        {
          "data": {
            "text/plain": [
              "array([[ 7.,  8.,  5.,  5.],\n",
              "       [ 9.,  8., 10.,  8.],\n",
              "       [10.,  8.,  8.,  6.]])"
            ]
          },
          "execution_count": null,
          "metadata": {},
          "output_type": "execute_result"
        }
      ]
    },
    {
      "cell_type": "code",
      "metadata": {
        "colab": {
          "background_save": true
        },
        "id": "9fDxIlzxB6I9"
      },
      "source": [
        "import torch.nn.functional as F"
      ],
      "execution_count": null,
      "outputs": []
    },
    {
      "cell_type": "markdown",
      "metadata": {
        "id": "GN3TsNzICKKZ"
      },
      "source": [
        "#### Task 1\n",
        "Write function that get two vectors as input, normalize them to get length equal 1 and return them as torch.tensor for futher work in our Neural Networks."
      ]
    },
    {
      "cell_type": "markdown",
      "metadata": {
        "id": "gMKOUZ1xvmiH"
      },
      "source": [
        "We will use whis function when we will preprocess all vectors, that we get for our model. Especially if we get vectors from outside."
      ]
    },
    {
      "cell_type": "markdown",
      "metadata": {
        "id": "7zZBtixjCebK"
      },
      "source": [
        "##### help"
      ]
    },
    {
      "cell_type": "code",
      "metadata": {
        "colab": {
          "background_save": true
        },
        "id": "FA351qU5CjOM"
      },
      "source": [
        "# 1. use torch.nn.functional module to normalize (there are normalize function)\n",
        "# 2. don`t forget to cast types"
      ],
      "execution_count": null,
      "outputs": []
    },
    {
      "cell_type": "markdown",
      "metadata": {
        "id": "3YZAuQmyCeWA"
      },
      "source": [
        "##### continue work"
      ]
    },
    {
      "cell_type": "code",
      "metadata": {
        "colab": {
          "background_save": true
        },
        "id": "_WuZLLzNC02C"
      },
      "source": [
        "# YOUR CODE HERE\n",
        "def normalize_vectors(vectors: Union[List[Union[int, float]],\n",
        "                                     np.array,\n",
        "                                     torch.tensor]) -> torch.tensor:\n",
        "  pass"
      ],
      "execution_count": null,
      "outputs": []
    },
    {
      "cell_type": "code",
      "metadata": {
        "colab": {
          "background_save": true
        },
        "id": "v0eLyjfvBmGb"
      },
      "source": [
        "def normalize_vectors(vectors: Union[List[Union[int, float]],\n",
        "                                     np.array,\n",
        "                                     torch.tensor]) -> torch.tensor:\n",
        "  return F.normalize(torch.tensor(vectors))"
      ],
      "execution_count": null,
      "outputs": []
    },
    {
      "cell_type": "code",
      "metadata": {
        "colab": {
          "background_save": true
        },
        "id": "TTLwZBNtDghS"
      },
      "source": [
        "normed_vectors = normalize_vectors(vectors)\n",
        "\n",
        "assert torch.norm(normed_vectors, dim=1).sum().item() == 3\n",
        "assert normed_vectors.dtype == torch.float64"
      ],
      "execution_count": null,
      "outputs": []
    },
    {
      "cell_type": "markdown",
      "metadata": {
        "id": "JdCrgkDXfqGg"
      },
      "source": [
        "### Calculate vector similarity"
      ]
    },
    {
      "cell_type": "markdown",
      "metadata": {
        "id": "gvcKkNfDF91V"
      },
      "source": [
        "To measure how similar are vectors we use cosine similariry. It`s formula is represented below.<br>\n",
        "When we need to get deeper and faster insight into data, without clustering we can just calculate cosine similarity between vectors and get first understanding how common is concrete vector to other vectors."
      ]
    },
    {
      "cell_type": "markdown",
      "metadata": {
        "id": "kUDuiFORFx5d"
      },
      "source": [
        "#### Task 2\n",
        "Write on pure numpy function that measure vector distance between two vectors. Each input vector is a numpy array. Return a single float number that measure similarity between vectors.\n",
        "![image.png](data:image/png;base64,iVBORw0KGgoAAAANSUhEUgAAA7wAAADiCAIAAADiTVx6AAAAAXNSR0IArs4c6QAAAERlWElmTU0AKgAAAAgAAYdpAAQAAAABAAAAGgAAAAAAA6ABAAMAAAABAAEAAKACAAQAAAABAAADvKADAAQAAAABAAAA4gAAAADtED7uAABAAElEQVR4Ae2dd+AU1dX+X/MmNuyKDYyKBTsWFBS7YsUu9i6RpgZFbInYe6+ExAYitkQRREGlKIKVxIqiYkOMXVTEljf5feLJ73gzszs7s+275dk/ljt3bv3M8N1nzpx77jz/+te//kcfERABERABERABERABERCB/AR+kf+UzoiACIiACIiACIiACIiACPybgESz7gMREAEREAEREAEREAERKEBAorkAIJ0WAREQAREQAREQAREQAYlm3QMiIAIiIAIiIAIiIAIiUICARHMBQDotAiIgAiIgAiIgAiIgAhLNugdEQAREQAREQAREQAREoAABieYCgHRaBERABERABERABERABCSadQ+IgAiIgAiIgAiIgAiIQAECEs0FAOm0CIiACIiACIiACIiACEg06x4QAREQAREQAREQAREQgQIEJJoLANJpERABERABEah9Av/617/+7//+7x//+IcP9Z///OePP/7It+coIQIiUAoBieZS6KmuCIiACIiACLQ8AbTywIEDf/nLXx599NGvv/466vlPf/rTvvvuO++88/bu3XvEiBEtP0SNQATqn4BEc/1fQ81ABERABESguQnceuutAHjhhReGDh163HHH9e3bd+bMmX369EFMf/fdd7169Qot0M2NSrMXgeIJSDQXz041RUAEREAERKDFCWBX/stf/tKzZ8+11lqLwTz88MPt27c/++yzt99++//93/9t3br1Rx99dM4557T4ODUAEah3AhLN9X4FNX4REAEREIGmJvDYY499++23bdq0GTNmDCB69OiBsXmeeeYxKDNmzCCx6qqrNjUjTV4EykHgl+VoRG2IgAiIgAiIgAi0DIFtt9126623pu/HH3+cbw5xbibBh1WAkydPJrH++uv/lKEvERCB4gnI0lw8O9UUAREQAREQgVog8Itf/ILoGSaaN910Ux8SbhuffPJJly5d1llnHc9UQgREoDgCEs3FcVMtERABERABEaghArNmzXr66adxw1hhhRVsWMjo0aNHk+7evTuqGqszOTU0Yg1FBOqNgERzvV0xjVcEREAEREAEYgQmTJhA3iabbII+tpPum7HTTjuxWHCjjTYaN25crJ4yREAE0hKQaE5LSuVEQAREQAREoDYJYEIeP348Y+vcuXO4BPDNN9/cddddV199dfw0llhiCXN9rs0paFQiUPsEtBCw9q+RRigCIiACIiACSQQQzVOmTKFEp06dvNwiiyxCesMNN2RzE0JqjB071hcIehklREAE0hOQaE7PSiVFQAREQAREoBYJYF1eaqmlCMyMD4aPb5lllmFfwPPPP5+cYcOGYYT2U0qIgAgUQWAeLQsogpqqiIAIiIAIiEBNEcBrmfGwm0k4Kn7iySfTfTbCs0qLgAhkIiDRnAmXCouACIiACIiACIiACDQjAS0EbMarrjmLgAiIgAiIgAiIgAhkIiDRnAmXCouACIiACIiACIiACDQjAYnmZrzqmrMIiIAIiIAIiIAIiEAmAhLNmXCpsAiIgAiIgAiIgAiIQDMSUMi5ZrzqmrMIiIAIiEB9ERg4cGD6aFeUTBkug5LnnHOObyJYX0w0WhGoMgGJ5ioDV3ciIAIiIAIikJkAe2JbxGVqbrXVVikF9OzZsz/99NNPPvnkxx9/zNflcccdR0TnfGeLzqfHs88+m+DQ3bp1K7oRVRSBmiKgkHM1dTk0GBEQAREQARHIQeAf//jHbrvtNmbMGDs3fPjw/fbbz9IWiTmeJodTZkV+++23X3nllZdffpnvCRMmfPTRR1ae79///vfnnnuuH5YlQb+HHnroHXfcccIJJ1xxxRWlt4kEnzhxorfDI0Q+6zgm9nXXXbd169b5CngjSohAVgISzVmJqbwIiIAIiIAItACB5557buedd8ZyTN/LL7/8qFGj2CI76zgwUc+YMeOGG24YPHjw3Llzqb7llluOHz8+sitK1mYj5UeOHLnHHnuQecghhwwdOjSlr0ikkfDwvvvu23vvvcOc5DTbiffs2fOwww4r77ySO9XZhicg0dzwl1gTFAEREAERaAQC6N1Bgwb17dvXJrPLLrugTYsWhc8//zzSmX22ae3FF1/EOlsuRhjFt9lmmyeeeIIGd9xxx4ceeqh00Tx9+vR3f/q88847F1xwgQ312muvXX311cNhv/baayNGjMCUbpm333479vhf/lKeqCEkpUsgwH9CfURABERABERABGqfAHr0qKOO8t/8M888E0eFoodNa3369KE1nI+LbiRSkfGwstBHuMEGG+CqESlTyuHYsWOt8S5dujD+eFN0h8OJD+DZZ5+Nl1GOCBRHQCHn/H+WEiIgAiIgAiJQ0wSwK5933nnrrbeejRKxO3r06KJHTGs4HOPy8cADDyBAi24nrPi3v/3t8ssvR81bJs7TqJOwQClpmpo0aZK1sOmmm+b0WiZziy228F4wPKPj/VAJESiFgERzKfRUVwREQAREQASqSmC55ZYLTbmnnHIKHgtFj2C++ebD8Rdz7JNPPll0I14RK+8ll1yy/vrr//DDD5aJaC6XHKdB5O8jjzxiLWNpzuf1sfXWW1sZvhHZZVTt3qwSzUlAork5r7tmLQIiIAIiUK8ECKPxu9/9zkY/bdq0/v37o1aLnkz37t1p7eGHHy5dXBIu46677tp3331XWGEFGw8DI+Bd0WOLVJw1a9bTTz9tmZtvvnnkrB8SKsTTHTt2zGmQ9gJKiEB6AhLN6VmppAiIgAiIgAi0PAFU4FlnnbXTTjvZUO69914Oi5a85vJB1Ll8htuUEyYWx1VXXUVAjx49enTo0MFrffzxx54uMTFlyhRrgeAhiy++eL7WcBHxU1idS5yXN6WECEg06x4QAREQAREQgTojQEQIHJqXXnppGzeOzgSpaME5INkvu+yyqVOnnnrqqfPPP3+4W0q5RDNduGhOsB8T0fnYY481FFdffTUxRloQi7puMAISzQ12QTUdERABERCBpiCwySaboJV9qmjoL7/80g+rnGDbFMzMbC64zz770HUomj/88MOyDAaHZne8Zu457cefffYZ2yXyTY9EuyM2SNEh+coyZjXSYAQkmhvsgmo6IiACIiACzULg6KOP7t27t832mWeeOeOMM1okUgSdXnnllQjl0047zRyIWV/o7hPlEs24f7C9i00WSzOdssSQb0tgz2YMa6yxBsJ64403JoQzcUUUoblZ/idUa56K+F0t0upHBERABERABMpKAIV68cUXs02JmWBRip07dz7ooIPK2knhxlhEeMstt7BPyrLLLmulMQOjob/44gsOP//888JNpChhu6VQkA1Nzj//fN/ixKo+/vjjJA444AAeJDA2/+pXv0rRpIqIQDYCEs3ZeKm0CIiACIiACNQOgYUXXhgFueuuu3777beMihWBBDBeeeWVqzZC4mNcf/317MV9xBFHuMuEiWb252MYX331VfJgcFb2ivlKYk52h2Y2+fNiXpfYzHC48847Gc/XX3+9++67yzHDKSlRLgISzeUiqXZEQAREQAREoAUIECCC2BcnnXQSfb/xxhtsLHLzzTdXzTOBrarZG2Xy5MmRHpGzxmLOnDkubSN0ELijRo1itH/84x/dSh0pY4e04JbmRRdd1CYbKYk79emnn37PTx+C6PH8EBkS5fHowKGF4Bu4gEeq61AEChKQT3NBRCogAiIgAiIgArVLADNtv379Dj74YBvibbfdhgzFNFuFEROqAjPz3nvvjZMxCphDvu3jAzDRnHMwb7311l577YVu/uabb3IW8Ex2S3HRHO5d4gVIsGW3e3hjdSZidHiWNMob/40bb7zxlVde8eFFyuhQBBIIyNKcAEenREAEREAERKAOCOCKgExkndz06dMZbs+ePXHtrfS40aAXXXQRCxCJMbfDDjtEunPvCNwzKBk5a4eLLLIIG7UcddRRBf1JUMy2syBbiLPjYM7WyMRNZaGFFkKmkx46dCj7tsw777xh4bXXXnuJJZa44YYbtONJiEXplAQkmlOCUjEREAEREAERqF0CK664Ii4HWFIZIovkqiAK2UPk8ssvx5uZHvPJYk7Nnj07HzUWC44cOTLfWc+n8aeeesoO2QjQ5bgX8ARGd5YJ/vWvfyWH5YkRV2kOQURrkXyvroQIJBOQaE7mo7MiIAIiIAIiUAcE0ILvv/8+Az3++ONPOeWUSutCfDAuueQS9Ovw4cOXW265OCD2OrGIFkTPSJDU8YrxHFwpPEJzly5dEqZGvA5TzDRCnOacTw4J1eNdK0cEQgLyaQ5pKC0CIiACIiACdUkAz2CWx+HUe8UVV+QUi+WdFZ7TOA0PHDiwTZs2dBf/tG7d2npEyMZFM74Wd9xxB+v/XnzxxYIDY9MWd2gmnFxC+UcffdTP4jHCqOwQ2U3wjUMPPfQvf/mLbX3ixZQQgfQEJJrTs1JJERABERABEahFAq+++uoee+yx5557snF0gvdCuYbOTiKXXnopjhm+YXW85bZt21omPs3fffddWADFjBvJTTfddM011+DQbM7KYYFImtAcRJEjs0OHDuFeg5FiLEMkeoZl7rTTTr169XKj8rhx4zBRt2vXbt9990XraxVgBJ0OUxKQaE4JSsVEQAREQAREoBYJIBZZTse2JnfffXcVNvVAcRLhbtq0ab/97W8TBDo+1g7rnXfe8TTV+/btS3hpfI4RslOnTn3sscf8bDyBldrcPDi12mqr5esR5U2MOcJxWAuDBg1acMEFLY3gZqtCvKJ79OhBDpQsX98ikJWAfJqzElN5ERABERABEagVAohFFDPfQ4YMqbRiRr/iyow2ve666zbccMNu3brlpEAxTLwrrbSSn3366afXXXddc9LA1+K+++4bP3486plvyqyzzjpeMkxQnk8YbM7MzJbvVmR2dSFsCJHvTA0Tm5lmQ8mOUZzttTt16nTVVVfRPptse92wO6VFoCABieaCiFRABERABERABGqRABKWZX8TJkzAoZmoEZUbIqIc6zI7/BExg/1T6Ij1dsRFJkIz8SjcdZh8zN7kfPDBBwhZH8+AAQNwkMA7Yuedd2Zrkj59+hD6DffiN998E+Xt3s9eHll8xhlnfP/99+++++7LL7+M84mdwgGaIM2rrLIKu5OY8MV+zJDcTXmXXXbBVRozdiiLSROAD40OJdrZZpttwrPeqRIiUJDAPNyaBQupgAiIgAiIgAiIQE0RQAViOu3fvz+7dRx55JGhcs00Ttqx9XPxWMveDube+eabzw/DBCo53Hhv7Nix+BOHBcL0mDFjCGpBDp0efvjhw4YNYy3gb37zm7CMnUXauldG5Gz8EO9qNg9HxLMpYDiYsCSO0YSrI8Yzaj6fj0dYXmkRiBOQpTnORDkiIAIiIAIiUOsERowYgWJme5EjjjiiaMXMJLEcI2RxmUiYMFuEII5RunSE1RnRicUNey2JSNddu3bFQkxTlm+FrWWquKIlOt7999+/1FJL5fTxoC46Pm4PtgFExom5nWapEi8flrSA0LiyJBcLqygtAhECWggYAaJDERABERABEah1ArglELkCtwd0cyl2UxQnO+fh8MBeeslzRpginflm/z+cp0nzHVHMtEAOp/hQ0gtTkg+ZXh7Fz/o8FPOyyy575513PvLII5HeKW8thN/ebJiJCRwCyVIYtY1GpwuiZ5jvBzmRHnUoAgUJSDQXRKQCIiACIiACIlBDBIgRQQAKvHvZOhv5WPTIkI+s6mP7QCzNpSjvrANAqZtKNldjBvDpp59mbSRT+YkTJ7LBOP4n+FI/+OCDLJrMVF2FRcAISDTrThABERABERCBuiGAwwOL/7C53nrrrZhjix43pla2JjnvvPNoId/meUU3XrAiy/soQ0QLfJpfeuml/fbbr2CVUgpY2A26oxGeE0488US3eZfSrOo2GwEtBGy2K675ioAIFE8AncG2DrwIxhezmpY5G3G+F8rkhwrAD0kUfG1dPAvVbAkC2Gh79uxJFIjnn38+5+bVaQbFjYGvAssHsbla+chivjSNlFKGAdx88839+vVjixNW+91zzz3sWlJKgwXrwm377befO3cukZ7xReFpofr/fwsOUgVqn4BEc+1fI41QBESgJgjwLpvwtBj5GM3gwYNZ8p/sRln2QbMZBHbB9J0S24tYuRtttBFBA0hIJZT9ilS5QbQmag+XDMIed+zYMbwTuDkZDDkkwnwy7RTf+BC/8MILRG0jwMXo0aN98N27d8erOHzu8lOVSzCeOXPmvP7664SzqM6diYWeJw0C87Vq1ao6PVaOnlpuKQISzS1FXv2KgAjUGQHMVOzC8PbbbzNudjLDS7IUd9IiJo9otnBdRdRluzjeShPZoMraqIihqkpOAqjMG264gcV/hFfLV8Dkcps2bdjCGtvqN998gzC1b6JVEGU5Z0WszrvvvnvOU8oUAREICUg0hzSUFgEREIG8BLDGHXjggX6aEF177rmnH1YhwfYQvEY31ctLbSyO3unpp5++1VZbcYi0MuU0Y8aMJ5988rbbbvMy+L8S1rdXr17Szc6kjhKEyyAUcSUGXGXfjEpMQW2KQHUIFL/qtjrjUy8iIAIiUAsEsNs98MAD4UjYs5eYr9V8z7vddtv5ACZNmuRpEujg+M4UvXv3Zu/ik08+2UqijQi5sMgiixxyyCFhXaXrgsDs2bN///vfpxyqPzsVLE/Jat7DBcejAiJQywQkmmv56mhsIiACtUKA/X7vvffecDSsXjrttNNQpWFmraWJEsBmxbjA+sDYF+2ggw6SsdmB1EuCbfYSdtqrl1lonCJQ1wQUcq6uL58GLwIiUA0CWOOwK3/77bdhZ6wruuuuu1ibFWbWWhojYmTTCkRzjY+51hhqPCIgAiJgBCSadSeIgAiIQAEC+Gb8+c9/phARM8KiuDXXvgBdc801wzHPnDkzEl0hPKu0CIiACIhAPgISzfnIKF8EREAE/kMATwwCdXGAY0MIZdq0aSamw8xaS4e+GYxtiy22kGiutWuk8YiACNQFAYnmurhMGqQIiECLEcDMbN7Ma6211mabbbbJJpuEQ8HYTIEwp6bSrB4jUF04pP33318OzSEQpUVABEQgJQGJ5pSgVEwERKBJCbz66qsmmvfee2/2Lt5jjz1CEJzKF/42LNYiaTazIHSG2cgZwGKLLTZs2DBEc4sMRp2WTgDXmv79+1988cWlN2Ut4Fz03nvv7bvvvo888ki52lQ7ItDABBQ9o4EvrqYmAiJQKgGWAOKAYY7LaAua22+//S644AI2jLCmWQ5IAfyGW9Z8yzjPOOOMcLZsZjFy5MjPP//cMomO97vf/Y7dAau8IUs4JKVLJMAT2hVXXNG6desBAwaUcr9xtzz66KPcIezUc9NNN33wwQdE7y5xbKouAs1AQKK5Ga6y5igCIlAkAVwv2C+NypiZLboc+1GjnocMGeIt4qHB3iKliBhvquhEuNFJvJFzzz1366233nDDDRWRNw6njnLatWvHdbz++utLHDMPgbYf+yqrrLLaaqshmktsUNVFoEkISDQ3yYXWNEVABIohMGrUqOeff56aCGWTxVhq8XAIRfMLL7yAsDY7dBF9YKvG8kfjpSha3xEwHMCnn3562WWX/e1vfzMj9C677HL00Ud369YNJ5OwmNL1QoDXBQQQLP3xjDtt/Pjxth502223rZfpa5wi0OIE5NPc4pdAAxABEahRAhjkzJt5/fXXxyvDR8nee5ENjUeMGFHcckB2Hll44YXZpe+iiy4yJxDvJVMCIcWoIh9ifTz77LM9evSwph588MF99tkHq3NxQ800HhWuEIHSFbMNDN1crqYqNFM1KwI1SECiuQYvioYkAiJQEwR8F8DDDz88NAOTPvDAA8Mhoq1nzJgR5qRJI14x/X7304cdknEwTVMrUxmGeumll6633npei/fyd9xxhx8qURcEuFUGDx784Ycf8l6iLgasQYpAQxKQe0ZDXlZNSgREoFQCuEywC+DcuXMXWmihTz75JLLMDqsw+XPmzLFu2CzQdtXOZL2ji3BZ3o8//ljqoHPVX3TRRddYYw2PoUERNgVE9IePAbnqKa9WCOD/w2MbEQ9ZrnfzzTcfccQRHmmbWyjTKL1iploqLAIiYAQkmnUniIAIiEAOAtj2zDcDZUy4jBwl/juLwsR3yySaUczYfXv37k1Lffr0YUnWfzdZniN00nLLLRe2NWXKFES/RHPIpGbT3IfsQzlo0KCNN9540qRJvJE47LDD7NphdT7nnHMKjpxIL3y4jVnMyidn+aziO2cjyhSBhicg0dzwl1gTFAERKIYAK6VYQkdNIrXltM+hM8KYFX/961+HDx+ORTBTZ8cccwzLChE0yy+/fOVUbMRb+o033pBIynSZWrAwrzvovVOnTtOnTydIXIcOHfxuTHhCY63nAj99eF4iPd988/HNO4d8E/E28xVQvgiIAAQkmnUbiIAIiECUACqT+LXkEuTrrLPOyilnMQHiLvzDDz945dtvv/2QQw7JWdjLRBLonsV/+kTyy3iIPp41a1bY4MorryyRFAKp8TRhT7heDzzwAOPcbrvtXCuTSGNprvHZaXgiUEcEJJrr6GJpqCIgAlUiwItv4lrQGQEoQrfjsHvyUTPEzfBMtlV76aWXCLXhObWQmDZt2uOPPx6OBOEl0RwCqeW0LTnlhrR44d27d6/l0WpsItDYBBQ9o7Gvr2bXRARYRobts+gJY1vVwnyjh2n2tttuAybvt0866aQEpLvvvnvk7NVXX107ng9cUwKAnHrqqQRs9nGynuzss8/O9yTgxZSoKQJs4MfyzZ122gnP5nBg3KWZPmFdpUVABLISkKU5KzGVF4FaJPDyyy/37duXLd+uvPLK4sZ35plnspRt6NChNNKcZkjiY7jeffjhh8GIQMEBw3jyHtxfiyNGBw4caPn4VnzxxRfO/NZbb23Tpo0DJCiynyo9gSX7scce88bDBhl5GN+DMoTLeOuttxDNRPbwkmuvvTYBoRmz5yhR+wS4uHfddRfjZHMTbkLuPVzn2cyP+4HI3OnHzypAe3+SvopKioAIhATm8R+JMFfpmiXArzUfrho/iiS0s1fNXqlqDow4v2xH99lnn40ePXqJJZZI6Jp7ZubMmX/84x8XW2wx9uPdaKONXAhiZiaUFV65zzzzTMeOHXMqs4SWG+AUopNYFjknsuWWW06YMMFZgXGbbbaJ+DzEKxLooOyiOZNICoeEXGZ/luOPP55LH+YrXfsEsCWzefvXX3/NgxALRldddVVWnfI/nR8CbsVM44843FOdHQF5EkN/b7/99pmaUmERaEICsjSnuujoiQ8++IBlyPzF8R/OVDWLLcRfyalTp+IcGcpirF+2Wp+/nrau//vvvw8LFNtbqnoMie0bVlxxRV7sRv7ypqqvQpUhgGImAgM/ewUVM7fNCSecwPq21q1bE3iY4VxyySX9+/e3W5rLisgjZASvgNHN2LEqM97abRUJ4oEy7LnUxxqXJptvvvkWW2wRPlpEqnDIx1soV8JHmL5B9NZmm22G0qran6/0Y1PJNAQmTpxI3IwjjzxyhRVWGDBgAP837cmH26/oP8Xc0uEtSpqfORrkr0F4V6cZnsqIQBMRsP82+k4gwJ8SVsRzTyA1/vznP/vfmoQqJZ5iPT5WQHrEOIQk8tbGjBkTuTUp6WcrmmDWv/3tb613pBUCuqLdqfGUBPBj5nJwXS6++OLki/Lee+917dqVktg+uW2wVOHbyiHPZmFf1157LZldunRhU48wv8nT8f/18ZwqIKLTfB+uvp+qwkjURTUJ8N98q6224ueA/+xLLbUUhyX2zt3CyxPa5D+7f1q1asUrJkwzJTau6iLQwATknuF/MfImiGm6+uqr22l8wtj3q9LGZvxT1113Xevx0EMPHTJkiD3686M4e/bs559/fs8998RqSAHUz69+9au8Qy/fCf7IYql65513aBLDFUziC4kY3tixYxmPXvOVD3yBlsaNGwdtPpiZE945ENIB1wuE8nXXXccmGnY7sYEzu4vhk4A3s9ur+GO31157sU6fn2eWi1X6Vi8wPZ0WARH4icDf//53fnqIFbjzzjvH//ZmhcR/c/50uEWZQ/+J4U8BDhtZG1R5EWgWAg38QFCuqeECwdIouyGQERiey9Vyvnb4+7jwwgtbj7ifRiyIDAAjgZ2tmqUZ28auu+5qnXbr1i1nv19++SUFMIfnm5fyy0uAOxOBC3NW1ie0zA1jQR64jUMbFXEeqIu9OXI1n3jiCfJxneQZKaFZnRIBERABERCBpiKgkHPIgwIfHuvRi2gIpOoGG2zgNrkC1Uo4jR8I0WH5pl+MiBFrHyYB7tESmi+mKrNm0RgCiw/aK6epgxVmNO3Wi2K6UZ0sBFiadt999+2xxx7mzJOzKrfKFVdcMXLkSM5iWg4vHK8OyCSIL+8Nwrr4v+JMjxP/jTfeyNuD8JTSIiACIiACItC0BCSaC196NCsG5nfffZf3WUT8KVyh5BIo1EGDBqFa2DeB93Hx9qovTOkRCC+88ALLt0nkHMCrr74aH6pyKkQA+7FHoUp4kMNl+YILLmAMPOr07NkzHAwvNOwwIpq5uOb9jPMGy4/CKkqLgAiIgAiIQNMSkGhOdemREZjoQitdqmolFKp+j2kGC4F8+gwfEltDlqYdlSmdwNtvv82yVNrp3LlzvtYwMw8fPhw/eArwvBe5dh9//LFVxNgcaYEAduTw2EYgqsgpHYqACIiACIhAcxKQaP73decdtDnl2E0QpmvwtmB4BUdFGSZln4KFy1Lg8ssvLxi2tiwd1U4j4MXcy3fKK2KF04zf2vRmSXjaq+ObwWJQltKvscYanhlJ4GXOfiWWGdm7jgaR3XZqoYUWilRkU4/27duTyapTHociZ3UoAiIgAiIgAk1IoKnjNCNNEATskITfxeuvv96uXbv11luPhcNmwLNdCXBIwCBnkgWLHc4JvjEYdVmAZQ7HFEBeEASX2BFoI4LdTpo0iUwCTSBW8E42fwaqsEcXQTdZYoXbaIcOHYi4Gdr/qEKPxNC1HvEJIVIYPVp1u0E5ZWdz3q90gXhlNR7DnjVrFuE88cbGMZo112FH1KURxm8J0vSLxzbTB8Udd9xBQFAW/C277LJ0TZu21Nr6pf2zzjrL7O7kMN8pU6b4BmkcstrMhwoQWqCYZcKcQ8vhG3qMigRdUNHyyeSQb6ubc5otmMkU2EaEiwgHPFJABGHw4vIeIWxs2cEYH4mnn36au4Jim/70yTm1hBsSMtwGPmtY0SaHuJjbHeinwgTL7bmFyOEG4H4LT3E5CNJiOcTeDk+Rprvu3buz08ezzz5rFz1SQIciIAIiIAIi0HQE+EVszg+yA1sdYSnZsmSXXXYhwNYBBxyAxESFcBNwaFjYSiC8JxBG6Dk7FY+azHa1BLk0CULMuEUXXZS6tDl48GCqoGIt3jMFUOfW7HHHHRfGLqBxYsyFPTIStFR4jZA77KpgZcK6lOEUs+AUa7moSDQxQntaSSKOmfr3poi9EHZE+qGHHmKL3TATJU35+EzpyNohxlzbtm3DKpG0leQ7km+H4LXZ0XWkAHN01D7mFk8wEZ6ybOMPtDKD5JawewaV6VhsnNxjLMKDzyKLLIKXMFfEzL1cHe49zobTSXlDesvcuhBjwWjYSJimQbYpMaq4NYenSHOvuoHZrnKkADet1eVZMXJKhyIgAiIgAiLQhASa19JMXNsDDzwQy9+TTz5pxk4uP0bWfv36RVw8f/Ob3/Ai24yyobBjid5pp51GyIhhw4ZZPqEMevfujRBECmP/Q20glTBOswAL8XrssccSSO61114zyXXllVeefPLJ+AGjGq+55hqzF2Lh+/Wvf43AZUu2yDC8a0pSzA6Rldgs/RR7IN95550cMiMUM4F7MQljBmaat956K5sIEkWB9q087TB+/FaZnXlWsDKM8RDNF5M5O8xR7O6772bklGQKrAkDmvdlCUZy+OGH23hsC2Km78Njal7+9NNPJx/CmD8tk8cDmzWHDJjoaQC0UzvuuCMeAl43IYE0TDib5pRd/TQl6QtnX2IYUxg1zI7EJMjkRuJiMS/OslOxNUX+/vvvj3cEkhrsPCbREdcLkzN3FJsw83xy0kknkWnl09+QlOdh6bnnniPBCwGrHv/m9rOLyCneIfCMBG0GYD1yV8yZM8dq5Vxs6i0z4PRbN9tzTnww6XO4ZxICTqdvRyVrlgB/ablPShxe+v+2JXak6iIgAiLwM4EmfFCwP9kXXnghFNC7EQL45pLvlmY7i1nOkIWWZjuFfDH7MQUwKqMyzXRqZ4mybBX5xiqJcPHusEqafsXwHDEYUwYLrlWMW5pRYwzDzoYV6Zdt4Swfh5CwL1+i55ZdHwYJ5KzV4hsstEOnlkN5k0EUY29C30EqYlLlrFdh5GHjkTS7bFjLCy64YKQRDOG4EBAHDVUaMoy0EB5akDsffHGJoUOHhm3mS8OBZyHrgucfHyGXwPsFl1WnsD1KYc3FkSPSpgVCphailqvJWcpnuiFtE2xaYLOSSON+aGHmfGz5EpHgzV7dnTfYdtszkxMw4ZkzX0cp83nGcLbJ3elsnRLggTPlzZBQTEHE6/Tqa9giUNcEmtTSzK8yljb+IuOTimoJw2JglO3fvz8XNfx77ebAMNPSnHLbLS4Z++yzj9tZKYBPs1dBfIQmNIohl3FZxuuUjwXN9cJhI56ZnKAK8XrRQJiKsdqGkzrmmGNM8BGkzN2RvTUkuEUlwx7JXtm0gwJec801oYTd1I3BNBjB4i2kTyCJsL8yDHZpJgxwr169vC6PHDNmzEA7RpaseYF4AtcaF+vxs5bDmJNh+qYt+VqwfHxU7NmDBxKjZPncALC1UzhLWCa/6PYohY3Wn3C8fbyat9tuO9zEDzvsMOy4yyyzTNYb0vaRoUG3B3vjlmDWiHVLY7bHlyOEwFn6tZcn2Lxz3t5+V/MuoiBD64gucJ52rw/LjHynaSpNmUizOqwjAvx/YVVAeENmHTx3SJs2bbLWUnkREAERKJFAk4pmqNnO2Oeffz4OA2wsjI0T3wnUA7EIsJWyuiski7AOD8M0f/r9rz+2ZJeYVsZPIUFCAc1ZP0UajRURzaiosJcwTUV+M8IcT+PSgFRCD6GEwpF4+TfffNPTXstHgpPu/PPPT/58882HywEJP0Uaa6hXKTrBqEw008If/vAH1LyPEw2N3uJs+sa5XrZeM32V4koC7cEHH7S6mNvDi8X48bRB/n7xxRfm3My1wwBshfF8CBlaJlV4JkE087DEywF7uZHphiwomhnDU089Zd2x9zucLW3fOP9w51t6k002iY+QU7wKIDQHqxgzhWrmCSTlQ0g4HqWbigCP3+bK1VSz1mRFQAQagECTimZUC/vb2fXDFZUPaSyCLJzC9xRjsys5KxNabSNXHTnFxzLdeyFShkOMyjntefGSlhMZQFgsWU8j/bH2UQa3ATNj841W9hbiCsnHz8pFP+sJr5hp/F4rniBgsJnDWX9GQAlGSxkUOVcBvbXEEkvEq7R4DjyxgtswzCU9HBJkbFmeZVLY93nJFw8Os7oVpiTls96QBJuz6gmW5s8//9zKGGFL2zfY/bBTp06ejiRYwohoJgYLd0j8fogUbqlDFgZcf/31LdW7+jUCrAzxxc01yIT3irZfTw2OTUMSgVII8Lo1/H0vpSnVTUOgeUUza7Y+/PDDE0880TGxGM7Ww+GZSgC10JXCyyQnXH3mLGbaKOepMmZiFMdvmAgPLKqzpYQYO1O+yrRwH8UNJnnuYZtITHZ+xoeETIzNJun4VSOgBEvrEp4WwkaqnGZ2roPXWWed5N4pzHJPKwP8nIVdg9Is5WFS3huSNrF80/Xiiy8eEdacArWNio213Q0j5zjrIhNXn7oYpwbZggR0k7QgfHUtAg1DoElFM9ePoBNINOyarJdCsSGg/aLy5hr5OGDAAM9Jds/wYnHBh1DOd5ZTyBc/G0mEFSOn6MUlV+QUS+vY49revONgTRrnZnwGGL/5XUTK26G3hsDKWcAyk90zvJGwBZtg5BSH+P7iVsGoEPcYwlF1BP3Ao5rI0GH12kkzEbwwbTytWrUqODAMtFbGzb2RKn7pvdlMNyTvE6xBlkLiRBFpnEPuH+ua28D7smIAd3fnHj16RK5O2JQ5ZqR84gorVjONpZlPNXtUX3VHAN8nXztbd4PXgEVABGqHQPOKZiQgYoJwaQcffDBxIYhjgA8o3sC2bzARFYgD4NHcEtwz0BwuOyLqhMscyujI2VD7Rk5FKkZul3hhK4A/BrHMGDmH+JkMGjTIvagR05FGch6Go40XyOqeAWHC3tFm3H8R6+aee+5pm8hgbGbYbKfC6roiumA1m/OPjzlNDmvyCvZLF6hP3kHTIAvjkpvlAmGNNpdiV8+RKm73olk7lemGJPCz1UI087ARaZxDsNtFxzvfb2MrBjGL+IGZGYfmeF3LYYQ2eEQzEjz53vBG2OKHKCh+WFyCN+npr2nOZ4bi+lWt6hDgaRmH/vSXOOeoeEOV8p6kum6SnAyVKQIikJVAk4pmBApSqUuXLhhlEcSsP/v38qVddyUf6yxGUOJtEb3Y1mYlMw1Nwsk/AwlnE07Fe89XmH1VTDFThWAOrpg5jIh+Hgz43SKwQ0GxGO89fQ4wJ0+ezOLIeBVcX1hoaKKZ9X/8pLGyjfVq+aYWb8FyiN3m+3fkK1Mwn7CAqPbkYvw8451sojl8KRHWQivzoSRUWednojmffcsNzDRLlaw3ZGhpDscQT+PxFlLldrVg2zhVE3s7QXZ4OD9Ec+T+iffiOUQTu+222/ywiAQ7DRFdxCdYRAuqUuMEuEOOOuqoEgfJ60HukxIbUXUREAERyETgF5lKN0xhxA1zIYZAxASL3EE62zS/+uqrrPO1ZvPVSj6br1bKfMQQYUCsMGHvwvAOZCKRvR30GR+kSSj3/WzpCZ8mggy5ls9Pmrhy7du3pztk5c0334zh2Q4zDQBFjtG0xA8uCgU7ZS6+YA6jOADjVfCDJ2gJp7iLfGcW24IkUhjyLpopSeN+QzKXsHC+G9KpurQNa1maSHYkIg0i5W0HGYJzh4sX49WJ7GGZmdwzbrnllhIvB8OTYo5fjkbKYfOmEm8SgtB37ty5kZhoLiJQXgLsZUY8VlbX5Py1Km9fTdVak4pms73xnvqBBx6IXG8sc5YTagUXgpHCHCbY6uKF0+ck9JjzVGhN5AcpUibcTYCSEUfbSZMm2cAitSKjTT675JJLWvlvvvnGEsTRw+klxBg2iBy0qHZkvvLKK4jmIlZeAh/fgxI/IbpwhJE0zgz2QEUYjeHDh0doMNmrrrrKQ7LYnn+0AFtmF2mK9aYWv4IGzcjtN2R8z8WcNyRT7tChA83mE800aHhDZxJuDPaApBY+5SyBTZ64t0yok8j4Ew65rCVejiJug4Tx6FQNEuDGK/0mSb57a3DWGpIIVI0Af+r5u82LdN558sNUIQNZ1aZTUx01qWj2a8CjmIVxsByUkK2RIpSBGep4SuP+833sKEbkAdtsjxsRCy5+n34Wh05OUZ5inKWuhykgRhglMWyTz4cE2st1CXZHKpo9mFPWvg+JEXqblKG6/2BYj2SS484ko0aNMkcCawGPbQIJs8OFHeJ5QoQa4qYxWSryoUE7heLhkAHwsRz7tgGT6f2iBWk2fITdbLPNiOxLefZEpBESkCTec8Tm7c3SFO4BdshgAO6najOBiwJ7YtvYiMpMfGWbJjkk2B0GSgcccAAMyaEwm6EQZ5C9rIkCDisT2cYcwWo+zTQY8XwoeEPaAKBn8Q1Zq2ctW75/0yxmbw65Q+ydCYPEMI9eZ8OaIUOG2Di9fDxhNyfO2e4/HS+jHBEQAREQgVojEG5fwD4A/hNfa+Osy/Hwi9uEHwSEaQ7kGsElTjrpJPxrcQi27eVYYoJiAAuiMKdLLlcaXcseKPkuOSJp8803z3mW1+IPPfRQzlNUodl8FdGs+SoySIbKJ7QoH3rooYSkwJDJqjvmxRpH63TttdcmwSkGmXMYZFqDfmMQgy9nScbjZejdixFRzgQx/13J9zKRBFehe/futMwWjPyvjpytzUMuECZno8Gdw0JSZmq2WFRyZMzsvm6RTJZeemluKq4C36Spjuu8PRpZlZQ3ZNj+rbfeSjtsT0jdMN/TPGixtpIy7E2IF6mZyRkD+V4mX4LLYRu1UDdf+/nqKl8EREAERKAFCdx+++385fdPmr/5LTja+uq6SRcC2s3EnggIIMTHiBEjLrvsstVWWw31Q9AJMnl7aGXY8QR5zUV1Iyv59tzGSjsUsOVbAfu2s6iNcK8TL0CDVOQtedyvw+LpWo80SxX6svatTaogTO2Uf/t4OEsQPTyD2aQa4zSPAS+++CLOr0zN1tgxU2Qu/hI0gt8z7TP++DDI52PTt2/6MkEcdkoZDr0Y7eDUi10Z6yleGTgVDBs2DMtrvH2vgrET1Oxpgm9G2JQXqMEEzgOE+2B2vF7gw2S5Z3jO4QnKHVR82IT5Ixoa8TFYsMi6JaKIUBKHTp5J2EAnbutNc0N64+aRjEf4G2+8kXMLFe7hSy+9lKESVJEnKJ5kWHNJ7/F+vU1PMDUL8k0vacp7xRpJRG7Olh0V/3nj/wuSR5jzbM7Mik4t58gr2qMaFwERKJ0AvnlEVeLnHldMBEDpDaqFnwnwh7g5P1hA+UmwuWNL44MpN8EsWi5K3mm5Goy3QxdYMfnwfMm8wgIcppljZJCRw7DBeJp+sWEDs2AthrfttttifI0MMt5mDeaAkTkyUwZfcKYUphjlE/hTxtrhm2L2SbhY0DPjMVI4gY+1xjgTmopXP/PMM/kbwbbqth1gvEAt54AO/xnWwYSDxCuJxa9cgjCzCmmGwWDCfrkQeBnyFJrvtuGJhafcSJWrr76aR9x8VSoxEWKoM8jIMHjw42VFJbpTmyIgAmUnwCL7du3a8fe/7C03bYPN69OM7cetm9jS+OAGGjcI/fx4UaaUd1qm9nI0QxcYRPlga2ReYQkO08wxMsjIYdhgPE2/uDIDM1ILrUAoCULLeRV0DOvhsIBGBukFajkBRubITBl8ZKbxYVOYYpRP4E8Za4dvitkn4WJxcbHT0xcu7GipeKeWY60xzoSmInX5a8h1IRPnGcI8R87W/iE0cLWKhItG/T/44IPFDR4VzqMg8rGI6gyDwYA0rMsLioR7hrWbFIhUQcLiHx82Uuk0ct+ci7wjhkRcSz9UQgREoMYJ8L84siNsjQ+49ofX1O4ZtX95GmaEyA5WvxE9mtWKtvkfygb/DZwHcBRpmGlWeSK77bYbxub777+fdZmhL1CJw2Bnbxrk4Wf//fdPL7VL7LQ61Xly49ElU1/4OGEqRsjiRIRnThmBoEETpHN8kKzfjVRh86B4MXIixSKHrAlmUxseujL1nrMjZUYI8GftnHPOwVmLv2yRU81zyNJhW3FRuSnDGWsLy+vZ07dyvdR+yzxdJwySn122Sjj22GP5Y55QTKcyEcj2+5GpaRUWASfAzzaKmUOCSfP/3NytWLbIq16LUuIllUhPAP2HsZkodURHwVsa43T6ugklkYacJeiHh6ZOKFxfp7Ii4rf5hhtueOGFF5gmKx948MvpPl4chKyalXes8Sr4S2TtnSo44rMrEKtRsz5CZO2r2cpzw/CHLhLTs9kgsDy60lPm6ZeQ8/n2W6107zXSfvLfZ35z+UvOVlz8T4//3aiRKdTjMCSa6/Gq1d+Ysc8RlA2nTGJ3HHPMMaxTHDBgADZmRHMZTXf1x6XkEbNHDOE7Bg8ezHJpDKIlt/c/rBrkV59Fsccdd1zjXRo0TSZE/OS4LYc1lzyc8DtUll8gftL4ZG0qXoX/QcyIfF4OEE/QZxdf48t/OuIPWtxu0nxYQsq65/gCVm8kZ4K+cuYrEwK8DUAx9+rVi4dYAakcAWKqophtoXPleqnrltmEi7/h/H2weE11PZeaGrxEc01djoYdDBY+wongSDBnzhwWOeEAwOMv/6t5R9ywc67KxAB7zTXXwPOSSy4hVHa+qNgpx0KMPJ5t2JAP3czykZS16qhY1scAQruglX2CRKQhAGpZfoSQy1kVM8OIVMETwMbGwwBran2cJLbeemuW2JIIdTZu2YR3vO6666wks+PNz7hx4zLp5sgYwk6VxpkHCLwQt8ieAlIhAgQjYplyv3799KokH2FWQWCWIqRV1tdr+RpUvhH4hUCIQHUItG3bllVERA5mcw3WruHZLMVcFvL4qxEimgVnvXv35pmk6DZ544kiJJ73hRde2LVr16LbaZiKAEElh9PBiFj0asKwnXKl/627//8n3qad4Tnh/xf59/pgi63phfE8wUTth0qUSADRvNBCCxH3s8R2VD2BAM+BBFNbf/31ubETijX5KSLP8tGPbNlvA4nmsiNVg7kJ8AeOBSJstoJjBpvVyUKQG1NRuQsssMC7774LXpxus3ogeIf8hUUu4+aBN3NWi6w30kgJnvEIsB2ZEWu8CPYXyayjQ3QzKwrCAeMbWvQ9E7ajNBinTp263nrr6b9PRW8GOL/22mvinAyZX1jZmJMRFXdW7hnFcVMtEagtAuhmjPfYYIr+wSZWBi8B+Dsr+w2Xlh9mvBdI8Chi+5Db9cbn+5133vEt64u+CcLYi0U3UlzFSGAHRHNx7ahWhAD/+4ique++++p/UIRMeQ954cOLNUSzOJcXrFpLQ0CW5jSUVEYE6oAAb+JKCS2EXMY4od8hu9Jvv/22iWY2UwzDWs2dO/fuu+9GHpV4Q4RCvMSmMlVn5IRuDatsvPHGpU8nbLBp0zNmzGB1msRcpW8AlnDQBe4Zle5I7YtAnIBEc5yJckRABJqdAMtozEG8b9++O+ywQ4iDeBq4O4c5RaRbytJMeIeIaGZT96yvcSWyc17xZ599lnyJuZxwypiJbwaO4yUuei7jeNRUUxGQaG6qy63JioAIFCaAJibSC+W22247PDH22muvsA6i086GmVnTLWJpZrMDdsZmSwgf7W233datWzc/VKIUAvhmUL1Dhw6lNKK6yQR4YMPSvO666xbth5bcvs6KQDIB+TQn89FZERCBpiNAwGNiWjFtc/ImctOmm25KaFgHgR2aDclKWcyKfvXWKpEgutwjjzziLSM1cMUeMmSIzYt8tpAkljOB6iQ+nFIpCQgTOoO9b9iyvpR2VDeZAIsN4LzOOuvovk0GpbMVIiDRXCGwalYERKAuCaB+2PyPoS+77LK2xzveC6ySDEUzoegw2dZyLF72V0+gz3JGjOgsHpULewKlTKdMzBEeW2IuE7eshfnv+dJLL7GnvW7drOhUviwEJJrLglGNiIAINAgBlvoRR5zJ4LfgSwC7d+9+1llnzZ492yaJHZdlgmuttVbN/nLHdwS0kdu222wkyfo/tjtme05Fci3LjTtr1ixWAeI2ULO3RFmm2eKNwJn9hlht2eIj0QCak4BEc3Ned81aBEQgN4H77ruP0Bmc22233VwAYXUmlNiNN97odfDQYIvaUjw0vKlKJDB5xneowRp69NFHr7zyyvTIqjU+N910E5PacMMNKzGGpmqTbWKYr8RcpS+6OFeasNpPJqCFgMl8dFYERKCJCLAE0HwzEJ2hhwPv3DE2hyBefvnlyH6B4dnaTDOLlVZa6dJLL/XhsaiR/e3DrcL9lBKZCJiYw36fqRb326OPPurBWHiq+eKLL1555RVy8EPI1FSTFIYzT30LL7xwpvmyhID/sOC1WiQI9jx9+nQnn6k1FW5mAhLNzXz1NXcRaEAC9tMY0Rx26L+a+aaNuyQmZM4efPDB48ePZy0d+wLyzYcWItHEKFnwR9f6DQfDGDi0T85hcIr8cKheJczMWTdN5gknnLDkkkt6SWIRMFPr1DM9EfZow+BUvsJeq9kSAEHMrbjiiryRSD93dujo3Lkzm6Ruttlmzz///AcffECcFjyCcKBngSbuQOIcgckdyP/QrKEzYMtCXmrxzSJC1DOceXpkxQIJdkIV5whnHSYQkHtGAhydEgERqD8CthLLPStsAnaYvEiL305TzFRByhScOZZmLLUdO3ZMKGn9hoNhDPHMsIX4UAtWCasXTNM+mwJ+9tlnXnLy5MkIiJyuJiGx8g7De2+ABHcOUgwzc3ihk+eF/mMtKVvn4BmPI82ZZ545c+ZMXgLgHcST2JprrsmteMYZZ+S8KMktN/BZE80o3fC2TJ4vMHv37n3ttde+//77vCyCKrFxLrzwQjjTGpz5X4znVdZQ5cmd6mwDE5BobuCLq6mJgAj8F4FkkxK/r2xcQgXCseUryeYgWAS9UcxUG220UXqp5BVbNtGqVatwAOZaEOYonYnAd999x44bRxxxRHoxh4bDm/y999575pln6It4JviXE9KENI0svvjiRH2eOHHi9ttvn2kkjV34+++/hzM24/TTnDp1KhvFd+rUyf7b/uEPfxg7dqy9MuK/LXZ9RHO+/+zpe1HJ5iEg0dw811ozFYGmIFC0hGV/7GnTpsEIs9+WW24Zh4Vp6uyzzz7//PP9FKL51FNPDb0d/FTNJpgFii0c3gorrCDdEALJmranDpRZ+oo41B5//PFt27Y1F3OMykceeaRV51rYTtG1HNMw/UzLWNI4ZxLNRMIZOHAgY+B1Ct9XX321O1nxH4FnYDKL/otRxqmpqXohIJ/merlSGqcIiEAFCbiZmVASKGZe18Y/RGfr0aNHOAheqd9+++1hTu2nn3jiCeJ2heNkZZUCz4VAsqbxlKXKJptskr4iJuQrr7yS8ngL8I2Tj0u3v/71r99880379u2XXnrp9A02Q0k4s3cMO8ikn+w555xj3uGIZm7yHXfc0eviocFyQDg7eT+lhAjkIyDRnI+M8kVABJqIgC8B3HvvvZHL+WaOUTbyxhxjM4I7X/layyeW8OWXXx6OCkdPYueFOUpnJYCY22CDDeadd970FRFquGEg2rCe4rgcht2YMGEC7bDlpMRcyBMDPI7jWfcChCEfnhKffvppIC+66KLWJq3df//94hwSVjoNAblnpKGkMiIgAg1IgEBUBPxCu/ALOmnSJJshPsp4PZLD8qxQPRNAg/e5lGFvbWo5DjamHj58+DLLLEOO1Urv2OqNFJewmB7UZWB0HTbC9ivE/SCHfETDnDlzEBy8jEbehR7M2DLZW1s7P4fosqaBD9usIR2sF/MZwMzsRmVae+ihhzhrYcJ5lcFzWtYhNWR5yPBki3MF93PWCdr/7nClJq0RNIZ22FyQ73HjxplDedaWVb7ZCEg0N9sV13xFQAT+QwAL8c477xzB4TnozvDUY489Fnozh6cOO+wwO8SvI76lSFiyvOmEIYVBpvN1euyxx2J1lmNGPj4p83ksQcxx2xTxsGQPMOHjGQZRxBzhTYhDx/1JGDvuw/DhLeWoGq+YiWYeWbOKZi4QLkkAIcCf14UzSwMJ7Ycn+pgxY3r27MmWRuLceLdN2Wck0Vx2pGpQBESgPgjwC7rFFlv472g46IjhllMUS4iqYXX5XQ8bqUI654LF5H5x2kaQ4YDLKjSphGRWac6+++677EhSxKI9U4F0ETramrwjojD32xVXXMHWMznvzzQDa7AyRBqBMy+Css7LRTNUve6TTz5JmkiLfN9xxx0nnnii/i84HCUSCEg0J8DRKREQgUYmgJEVq54bCPlxNYFiijnyI8qKIlROqGC8vDGyWt5aQXCR6l4+7MIzcyYYUs785EzaT99FclM6C4EiQjoYN24ndjInTjMWUCdpq9zYJOX0008fOnQojae/o7yRhkwY5yJEM1HqeBWwyiqrhI4uHTp0gNKHH36I6fr111+/5ZZbGhKaJlV2AloIWHakalAERKA+CKAdWYOFKLEPKtkTEcXM+6kxaQAAJpFJREFUfCjsBbzYf2r+9A9n+VRz5mHv6dNSzOW9Roi5xRZbDLN91ma59/CiGTx4cHjbdOvWjdCHs2fPRuERqnmppZbK2mxDlucJE3d8XpJwn2edIA8nW2+9NduahHVxzGBJAKFLEM2EKwkvQdb2Vb6pCMjS3FSXW5MVAREQAREoGwHEHLs0Yy0u7lGEneoiQ6EdNqjDbYAEn8jZpj1E+PJwQoiSUPimpEHADV4oRWDSDiv/kM5FNJiyXxVrSAKZH9oakoImJQIi0DAE+H3NN5eEU/mqlJhvPhvxRsjPN5h8+QlV4u1XNCffpCraaW02zsVCzOHQXJz2+kkYR5UxmbQWEXm1Of2qjYpbjocTRHNxWHLWMs5Vm4I6agwCEs2NcR01CxEQgf8QSJAvCacqhC/nrzV9kZ/vjXC+QdbOb3y+SVWIYS03ix/FO++8U7SluZanVlNjYwkgnItwaK6pWWgwDUBA7hkNcBE1BREQgZ8JJNhBE079XL+sqYQeOZVTfSZXKevokhrLNwzy+eQceVJzDXoOd1hmVkTojPrlgXGdG4DxV/Mp7m9/+xs9NpVobhHO9XtbVm3ksjRXDbU6EgERqAaBBD2Xz4hbuWHlG8zyyy+f71S+fKpUc/xt2rTJiYXh5RthzvKNnWkhHVig1tjTtNmhlYkygXJdZJFF+D7hhBPQsvm8icoLxHxgmuTGAymLFImGSRCVVVdd9cgjj3zggQfYiam8SNVacQQkmovjploiIAIiUJiA2eTi5QiAFc+0nCKq5GuqlPx27dqxs0a8BYbXJNolPvdIDihwtOVSEj0jcsoOUT/pP2xlkr5wzu4qmsnw7rzzzj/84Q+9evUisPHuu+9+zTXXEJXirLPOqrSeAwuiGR+YfA+N6bllgkyzFUWas3E6vemmm3ggOeCAA9hqtG/fvihmtoc85phjKs0553iUGSEwT74/0JFyOhQBERCBeiEwa9Ys9rUmpJcPmN+bjz76KJ/11IuVPcGPNGFiIz6vOGgutNBC+bbio8qrr77KG/9QmyZXKfuwaRBi7JG22mqrhY2zOx2jCsGGZ5stjb5hV+fVV1+dIHFxPcdvKzZCGJYdy0orrXTrrbeGt0fZu4g3yBZ6xJP+9ttv559/fjt71VVXoe1Ijx49epdddolXKVcOtyK2/L322uvss8+Ot8lV2GabbeL5peccddRRhx9+eOntZGrBOLP3ikfvJi4e2yrRyIUXXnjyySfH77RM7atwiQQkmksEqOoiIAIiIALNSOD7779HQbLFzBlnnBGfP6J5zz33HDlypJ1C9yDvXOlyNmc6bIe9BvmEOZ4Oxatnlp649957p06d2r17dx4GwtYYOTL96KOP3njjjadMmWJPTTNnzvz1r39NMZ4NbrzxxsqJue+++26BBRa46667iKkcjsrSjA097ZyJ1lfQFMhzKUL8hx9+IMFn2rRpn3zySbxlgnWw+0y+Bbvx8mXJufnmm+FMUwzJonQzHYJ2Ywjg2Ztg1VUeT1km1UiN/GyJaaRZaS4iIAIiIAIiUFECtgown0Mzmviyyy7jpcEbb7zBMB577LExY8bssMMONqQE0Wyaz74/++wzdrPjM2LECFrw6dDy73//ez8sS4J9qo899ti///3v6667bkQ0M5dvvvmGXhCRDAY1SRolx+YsmJnxH0C5Vk40G2fCLeecJv1edNFF+G/YAwabmIwaNYqBWeE0nCnDA8BPmF9iF0Y2CLS6eGxj8d18881z9psvExVuu4fmK+D5uCzzEAJMdLDTM86UwQfmuOOOIwF8xsAzA+L+5Zdftr0MvRElqk2A20UfERABERABERCBTAQGDRrED/YHH3yQUOu+++7zH3WMzRinEwonnMIxBim24IILWmu8uycnoXzWU0g9V+E4K8erI/0PO+wwXDKw0frZvffem/F06tQpzPSz5UrccMMN8847b/J8hw0b5py33HLL5MIJA+OZ4cQTT/SmeIqATEL5+Cku8dJLL+0tFEzgM4Zp2W8MRn7JJZdcfPHF4RT8VQb7fsd7VE41CfxPNTtTXyIgAiIgAiLQGARYEoe1NRQ38Xlhgj3vvPNcOWE7TC4fbyHMeeqpp9yGOmHChPBUiek333yT8Cw2TiQaw443iHwMFSQTYSEgVfr16xfmxyuWksNIevfujTk2uQvO9u/f3zkXIXbDQU6cONE4r7zyyl9//XV4Kk0aBfzxxx8/+uijyHcb0u9+97uxY8eyrAK/mi+//JL3D8THwJYcbpPOKWucuYT8OSSSBu2U/UkpzVxUJkJAojkCRIciIAIiIAIiUIAAUmazzTYjrAGJ5KJYYQ888EDXc9ddd13BKgkNIlXNvnv88ccnFMt0ihESnMFHyMNAKNryNYXso8oaa6zBtiP5ypSez9i6dOly0EEHFRwSZLbffnufBZwLVkkYHsIX92hau+222xKKJZxi5O5KgcdIzpLPPPOMh17hsuZ8oMIlwyaFNT1nI8qsJgGFnPP/YkqIgAiIgAiIQCoC/E6zKgvfX/dGzVcNj1VckN1L+JRTTgm9k/PVypfPIjwikeHgi+USWZavWKZ8JN0f//hHgnJYLZagMbvkFpB3ZkHHacSWAyaXL/oswjdlkGbIXHDBBa1bt7a+SuSMQwgiFc4PP/wwDzlFjJ+IN4ycioS15vkqZwv4NJsVmbOswsSFPVKMrvFmJhPzf/joFSmmw6oRkGiuGmp1JAIiIAIi0CAE8PGdM2eOLYkrOCU8H/BStSCDrPQicBhv6gvWyldgvvnmwwt2+vTpkydPzlcmfT7KG03PckYMxlaLsSWLZpTcEUccgfQnojDmWA8Dkr7T9CWNc8o9Fzt27OjOMHAeMGAAbhLp+4qUJDQKnCdNmsQTQuRUmkNCxVkxfL7dnByv2L59e8+MBCjkgaFnz57nnnsunM8888yCj2fejhKVIyDRXDm2alkEREAERKAxCdjGzilFMwjwHCDIg7F47rnn0HPF2S+tBXyjsTQXJ+bC64E4Zm0f4tsCNdgpW20WFgvTKDniJWPtRjQTbK7SSs6MtW6nD0cSTyPfkbn4QNspOJ900kkMOF4yZQ6+0eznUsTDCWBD0ZyPEmNjIakNhmAa4TRpgVWkyGXcYOCsSHMpL1nFi3Fh9BEBERABERABEUhP4NRTTyVIQk4n1HyNULhHjx7+o46GRjPlK1yd/Pfffx+vDOJmMDb2zrCxLbzwwvnmhdAfOHBg27Zt2QrRRvj555+zyo38SgwYPnDG4wJzePr2WWkXukNgR09ft1wlGTA7jRtPwtjlaxYXDg+lx/uHEOO4ceOojmK2TL65TEQtzNeU8qtDQAsBq8NZvYiACIiACDQIAcQce+B17do1k5hj8p9++ikv601L4WUxfvz4FiSCDkOosaOh+WNg1LSB8Y0Ujg+M8my9gauJK2bKYAlu1aqVCbt4lRJzwGucsz5dAJb9UGw6aG68z0scSdbqhK5zmK+88krO6szOVy6i8tlsxYsxfqqjmD2HSNI8pGW937y6EuUiIPcMv7GVEAEREAEREIHCBNBwiMX11lsv32v3fE0sueSSON2yyIwCxGdgdZdvZpGvSuXy0b7XX399nz59bPFcGF04pyswLhmEpmZrQFYKour4YA1l55E111yzQoNE6BjnrG7TxMJz52ZGe/755yPrKzTInM2yK4rls1NM6LXshbnu+H4Qlo6cVVZZhSB35vLO4RNPPMEbCdxvSDtnSlZ0waUPTIkCBMqlvtWOCIiACIiACDQDAbMjFheMDPXG7hX+w0zkuAqZaZMvBA4Yhx56KMZy98TAA9hHhVaLVGfbv4UWWsgLhAk2PYkULteh+fsWF2oNoywT9HESHiSrubroWdCRB41mxSSE+WBItu+33noLhxbzhudBBQ9sj9BMj7yL2HTTTX3YYYLoGVWbQtFzb/iKsjSH96TSIiACIiACIlCAgK0CDJdtFagQnMY4fcIJJxx88MGWx/Z7N954Y3C+GkmUDUoU0c86OSK1WZfLLLOM981aQE9b4umnnyZaSCTTDitnAc262jIcHivn8NLmbYBlnn766UwhLFC5NNIWa7G1j2EeEzIfXi/Yd7t27bB840puO2MTT5owHT4Y1mW6ldozLYFBOpKjw+oTmIf/PNXvVT2KgAiIgAiIQJ0SQI2he1jFhQwqbgrvvvsu3rrTpk2j+qKLLkqkZI/XW1yDmWqx/g9vWvxo0evuYYJp1qdz6aWXoqfDNhPcG/Cd8EbCKqWnjfPs2bNd2WdtE7C777671dp8881Hjx5N1OSsjWQtD162irRaDz74oAe+QG7Bim/W8yGOl1tuOcb229/+lg1i3P8kgTMNelNZh6TyZSPA9dNHBERABERABEQgDQHsiAcccADb1JWyKotG/vKXv/gPOfst8+4+Te+ll0GWsecfXaPtwtaYjtsysYWHp1okzTj3339/lD2JogdAXSIcO2fciEu5aimHcffdd1uP8MzXHQH7Fl98cYrhUI6UL2WOKUelYmUhIPcM/9+khAiIgAiIgAgUIMBPL9EY2CHZrYMFKuQ6Td099tiDIGJ2kpi+BD9GSecqW+Y8ov8SexhDMnINpf7dd9/xzQen2zZt2lhnOG0zzTJ3nLE5aLAKEM6lmLGpC2RQW+f4Qtx5550VnRqNP/XUU9bdDjvskG/wvFjYbrvtKMY6xX79+uVceZkRmIpXg4BEczUoqw8REAEREIHGIEDUC9wqigidEZk+r9ox6K611lqW79EeIsXKe8jgbRki0YuJeYejLaHZ+Oaz4IIL+n4crMCrqLJMM6m5c+e+9tpriOY0hRPK4NrBpnpEyrMy99xzTylPOwkd2Slsxu48zQuEfH2R7/Hm2PXQyRdsXwValsB/VgC07CDUuwiIgAiIgAjUBYFSVgFGJrjEEkucdtppBHmwoGP5rJKRWqUc4iX8zDPPEL0hLuZQyWSadsddu5ReylK3lFWAkQEQ943nE3ZhZBGe78sYKVOuw1mzZvkOgvjwJDTLU4qfxVXG00rUMgGJ5lq+OhqbCIiACIhAxQngXsySLF8Gl9wfPgMUKN0CSiNYJQmzsPLKK997771ss5fcb+lnn332WQzMBGbGFSTnkrILLrjAevnss88qYWnGTYKZ5uw6PjsiQJNZFs44Fl9xxRW0NmXKlDBISLzT0nPowhrZZJNNkvvicnh35qrhh56wJxk/VKLFCcg9o8UvgQYgAiIgAiLQYgRQrmx0x654KUfAniAouaLjOXgv+Oxi9x08ePA555yDKdTzK5RAfuHKTKSOE088MZ9sddsnluZ8ohlcOHj07NkzX4F840e5Egcj39lIvjs0p3ySiVQPDxnwNttsg5f222+/naxiw1rFpWHiDs2EW04YPDQmTJhgvSCv11577UiPDHvEiBE8ZsTD/0VK6rCaBCSaq0lbfYmACIiACNQWgZEjRxIXDCmcZliIOVYBlu7QjLoiUjI7ArIgj1gccWeJNIPJVAZHW54NjjrqKFwU8lX07UvYbiOfwGUTwVNOOYW9QtCg+drJmb/zzjvjvAvAnGcjmfDhisC5RDJ0x5Qx57MldeXiSfvgUbru0IxvRr7BMzt2hHn55ZetIi7X8Wcw8O61116EzMsXHts7VaKaBCSaq0lbfYmACIiACNQQAVTOTTfdxIBeffXVNMNChE2fPh3DcIn+x2ybjMUXb2ZcbOOCKc1IMpX56quvcL0gRDH7M+dTcjSIHdqbzaeJDz/8cDapRjrjVeKFCyYwXbO4EHMvjxwFC1OA6wLnEkUz2hQ9OnToUCT+tttuW+IlSzNs7iIXzVDKWYVbaMiQIXfccYedxWyf0zdj4YUX3m233Qh1kvCQk7N9ZVaUgHyaK4pXjYuACIiACNQuAczMRMllfK+//nqaUVIM/Veio+2bb77JujQ2UkZ65vOUSDOYgmVQjUg0vGyxZ7P+Dx8AgkiQGdHN5Fhmq1atvE1bC0h1ckK5ibB2vwIvXDDBTG0nF4ax0UYbFSyPQzOx8ErkfPvtt5911lkstUToh1Mo2HvWAvhaWJVx48ZZguB9qF6kPwDDS8wujITvsFuOkmwMyeYmYQHvGk8Sbk4/VKJGCEg018iF0DBEQAREQASqSoDgxL6F9XvvvYe+KSitSg+dQafE5UVm3XDDDeiqyk2Yjrp27YpUJRKw9fLKK6+ss846nTp1YlXcUkst5V0DAX3J2U8//dQz99lnnw033BAxTZxj4g17fhEJtj8cNGiQVcTSbAI9uR1bBchzRXKxhLNsRo0tH9cXXMYrasv//PPP8aPAJ55pIvRtSMTQ2HHHHSPDwx+DwpaJH3P//v333HNPgv1FiumwlglINNfy1dHYREAEREAEKkXggQcewJvZWkfxIOYK9kTojBVXXJFQcQVL5iyAkD3uuONwsb3//vtXW221nGXSZKK5saFiMMb9IF95C86w5k8fL8McmWlk/DwwkO8Ro13UWgLpbNUR3w899BCZO+20U6YVdShyl4ZpRDNdGGfbM88Hnz6BhMWWz9SxcJeimNnwhUgjLOnr1q1bvt6nTp3KKYCETJhCvDxPLNw87HEIUsztOQ3M1LIHKm6VrbbaqmPHjvF2lNOCBP69DXoLdq+uRUAEREAERKD6BHh1vuuuuy677LI4mNL7/PPPj+NvQrgDyvBzyWo29gRJHzctnBeW7PPPP3/gwIHDhw8vcfEf1l+awtVh4403DruIpJkjOWhr87Kws1jTIwZ1zjI1Ppbvhc2Lg0wSKGbszXgdsA0Hmu/RRx9NKUZZU4h4/c1vfmPbH7LWEMeP5LoMmw3z2LCQ8BE2hsi8kg+pftBBB+GUwhNRiWFJWKmJNwVC30V/vGu4OTE/S04EMqeMcDzfa5Fg8EceeSQOPNyN3JPE4khmFdZVugoEtBCwCpDVhQiIgAiIQG0RwGF07NixBIKwYfFi/a233koeIkoIn+biQmcgmG655RYU86WXXrr//vsXoQV9bIyB9WHsNuc2YD8VSWDL5INKQ3j5Jy7ayKEYBUjw8ZI/1f5fhsrEkbyEsgYaLhOP/fSJ9JXv0J5J0M1WgFgQBTnDijgbxa0CZKg4cN99991/+tOfsOzmG1WafMJ3EMCb1XgASSgPHwMVfvP0FR5a2ggnNMXEr732WuryLgL/DWzYLBhNKK9TLUCAi6SPCIiACIiACDQPAd6As8isb9++bCvt0QmwKSYTmDlzJj/Sd911V3KxnGexerJhNb4ZdJ2zQMpMth3ZfPPNGQbblKSsUnqxjz/+GLsvXRMBg8WCq6++espZ4GOAQwLBKxDBrm/+/Oc/Jw/JHJoRvsnF4mdRzLZJOBFRMNnGC6TPQTGbv8qkSZPS1yqxJITBhd88eC1ys3kNldisqpeRgCzN/h9ZCREQAREQgaYgQBgyvGZ79eqFCdB9eVkzx49rwvyLXgX40ksvIZdxUWUFHj0mdJF8CudjAkFghqQYa8iSC5fxLP4JBFDDw5hIz9988w3plJZyyjMM/A1WWmklj2fHisPksRW9gTZx3E4++WSM4iWGyyBsHA4e3A/t27fv3Llz8mjLeJblg0cccQQmdrxfoMQNgz9MGdtXU6UTSHrpUHrrakEEREAEREAEao0AAZInT56MXEb84TnAikBGaKI5QQ6isxdbbLFM8YlploAJmLQxguLKnPyiPx8l6r7//vv4G2BAJdQxxXD5RYbmK1/2fAIJ88H8eeedd9I4abw40vRy4IEH8hzCrLH7QpuIFtRCDpKZjzOnEM1FcMZnhCeT7t27n3nmmcU9mcAZN3FiiVjoboZaovhOgygsgwc2H4ZhnAlgUtxEwjaVLi8Bieby8lRrIiACIiACtU4AGefB5tzdlohg6JV8chAxh8E4q0MzQrN379684n/uuefYWwTt6GjoizZRRSRQkNYvOVaABPsnI9PplA+hkU0u21nskdWXUyxKAxGx6tiV2meRnCCmHhtuU4bZwTmlaH7ttdeyOjRjoz322GNXWGEF3iEAM+RsaXCBlI9xI8Go7JtVd5jSgcx3JDQybtz57ofkiZdylgckfKmJcIJoLqUd1a0EAYnmSlBVmyIgAiIgAvVBwJxHGatZQPMNGmmLuiLIcXoVhVwjJDO+uSzaI2ZwpGUUm1lbLUGaQBOsk/v6669xgSBBvLNIFT+spm+GdcogEc2kCb6GfzPW3DXWWANDsg8pOcHs/OEEzgkPJ5zCAZoJpufMkwleGawvJEBbPDpyODBmQbMGmW/jHCrssDASHPeMMKc6aWKGcA/AdrnllsPkDBB8RarTtXopSECiuSAiFRABERABEWhYAmGMBeIV5PNhnTt3LmLuqKOOMqVbEAf6DA9m4gRTkjBtBcunL4A0dP/g9LVKLMl0bC4YX1GZeA8TwDhTm/5wQi0s1uuvv37O6kBm9VvBwCBeF0155ZVX4vpCTnk5t4g5n+kQ1IW5EGKFNLFHkqMKOgclqkNAork6nNWLCIiACIhALRIgBC8GxenTpzO4BNGMoy32P1xOU84BbY0c9w2TC9ZClUbkuB36tydoqvq+GQg4QLVt25YQbFdddRWuJqi6gpMKC4SiGffxfKLZQmek2WrbGsdyTMvpOYdDsrSD9QT5pAkSYjnxKpXL4TYgcAftExGcqCO4nfCmonLdqeWsBCSasxJTeREQAREQgcYhgOpijZqJZpRxXLzaVHEvJhGapQsiQPcULFMvBZCPbFAyYMAAdqXGoIulOb37hM1x+eWXxx/adup+9dVX800cyYgndCa/iF122SVfa3WXD+c+ffoQAATOyGXCIFZ0r/W649PiA5ZobvFLoAGIgAiIgAi0GAFkCu62bBfCCBDNmFRz2nHxxCWGLhbWFhtoi3YMEyLH4c3MAjV28M6qmBk7VeDMmkjS+QKVAB/HcfZPKaL9FsVTts6Z+Omnnw4BwgvyaJHzVixbZ2ooOwGJ5uzMVEMEREAERKBRCJhottngG4ClOT4zE3OYmZtWzMFkySWXJARbHE7KHDhj0TfRTHyMnA8nwGe/w65du1I4ZbONV4y5N5LtvMEuUKpQiw02Z01HBERABERABJxA6HSBW7PnewKFxwI1NF8zi2anUVwifDgxS3O8HZYAwplVgM0smuNYlFM7BCSaa+daaCQiIAIiIAItQICVZP4ePKdoxjeD1+Whtk4/SgR3+sIpS+Y0h6es24LFQoAE0IiPBEs/O2+nXwUYtiDOIQ2lK0RAorlCYNWsCIiACIhAfRDArokV2caKPo4P2gIahJovXiZnDmvmCDlMVOOcZ4vIJCYxW4QQxGPcuHFFVG/ZKmEAjZycyWTdG2Erso4TwgSQxtk6a8V85QmrN2XKFF4s5IvinK+i8hubgHyaG/v6anYiIAIiIAIFCKCNEM3sCUe5t99+GztuxD0AH1xOsU1dgYb++zTtXHPNNaNGjSJYG3bQUlw7kG4oQgKQ4cAwfvz4/+6nbo6InsGGHba1YVw0gwvfjCJWAVIRf4+HHnpowQUXLJEFjyJjxoyxRXh2P5TYoKo3GAFZmhvsgmo6IiACIiAC2QiE7rZsLBd50c9h0Y62bIZCpDb2dStFMdtkHnvsMfY0YVPubHOrpdJA8H0B427NxrkIx3FEM8326NEDziVOl6Z4QCLg3WWXXVZiU6rekARkaW7Iy6pJiYAIiIAIpCUQumfMmDED5RTW5JA4aOzDl1X40ixhEMoSCQGX64kTJ9JgRNCH46z9NADRxGYpx9LMXNyVnMF/9NFHPJwccsghTDPTXGiWqMaZquQrvN1222277bY0iBtMvjLKb2YCsjQ389XX3EVABERABP5NwN1tUUvvvPNOCGXmzJnmNpBVzIWNlJ5GybXsAEqfAi247zjPId99913YJqsAv/jiiyIcx8NGSkxDGM4lNqLqDUxAN0cDX1xNTQREQAREIBWB1VZbbf7557eiGJvDOqwCnDt3bqaQDthQectvDs1aSRbCDDVxxGnYNmUMC4QVc6Zh+8QTT7AKkPDP4pwTkTLLS0Ciubw81ZoIiIAIiED9EcC+6EbQiGhmuw3mk0k0s54ML1s2z9t9993PPvts96nA04N0+k/EUaT+sMZGHGriMOocM4UzW20DLVYpdwYYr7zyygMOOKBNmzZbbrnlhAkTyLGi6QlbydwdKFcEYgTk0xxDogwREAEREIEmI8B7eUQzHgLMG2cMNJz5QpDAkYDtNtK/tf/qq69OPvnkRx99dL755qO1c88910Oh3XTTTcOGDUuJlq4PPvjgY445Jmd5F4g5z9ZsJvuQ//rXvyY8BSMMA2gwWbDjJJPeBQXNPWDAANxpiA1Ha+eddx7uyDZxsz2nhEDXLK9EfOcsD+fQ8TpnGWU2DwGJ5ua51pqpCIiACIhAbgKhpZnADi6VSJhDc3rRTOAFnD1YUmYRGPr06eNC8Mgjj1x55ZXjI0C3eZnwbM7CViD9eMIGWzzNTHk4MdFsnG0ieDNjad53331Tzot27rnnnp49e6JohwwZwrw23nhjr9u9e/ett946PlmuppcJz7raDjMtnbN8vJhymoSARHOTXGhNUwREQAREIIkAgcbsNBZQNJmlMRubmMspanM2t9VWWx1++OHoMyIHU+Cggw7yuig8xHTOWk2S+ctf/pJw18RCZr4h5xdffJEo1O4hU5AGSJHFq666Kq7MY8eOpfxOO+3ktbJG1PaKSohAMgGJ5mQ+OisCIiACItAUBDyEMOrt888/X3rppZk2Yu6DDz5gx430CEwWT548mdhqmDA7d+6cvm4zlGQ7Q5umcW7dujWHtgqwQ4cO6QkYZ5YAvv/++zyobLPNNunrqqQIFEdACwGL46ZaIiACIiACDUUAsyV2UJuSB3awVYDh8rWUcx45ciQld9ttNzczc4hZFB/c9B/M1Sm7q6NioRk45IwjRKbVlkyZFwKjR48msddee4V+FFk5+4uFOsKoobYIAVmaWwS7OhUBERABEagtAqiuNdZYw0I64DmAIRMthUNzu3btsu7PjNi9//77md7ee+9NI7jqnnDCCV26dBk0aFC/fv1ojc8CCyzQqlUrvkmT+Cnv35m2fNDQbLbZZvkWqNUWuyyjwQeDfcV/+OEHKsEZYzy4its+xjiDbo899kAoc8mw7nMde/XqdeONN6Yf1NChQw899ND05VWyaQlINDftpdfERUAEREAEfiaAul199dVdNHPIBzFHSIfQivlzhfwpwp/hb9CtWzeioT344IM4eGy66aYU79u3L+sC89eLngmt1NFzdXuM0sVyb4FKzNLMLidY9PGvyDpfNgIkHvZ+++1HRA4iZvBtVAb/9ElPKOv1Td+ySjYYAblnNNgF1XREQAREQASKIYBvBpZmq4kFFG3HB0szltGsomrZZZelnfXXX59vTJ4nnXSStYAoJJH+E4pIc+ogArSN8OOPP8ZY++OPP6LsLadevn/1q1+5h4Zx5hvO+GaE800znRVWWIFiXbt25UqNGjWKoBmwJSc9YSvpfQETzhitiRhomc8++yyQ+XgZJZqZgERzM199zV0EREAEROBnAi6asTejn4iJhpjzHbZ/LlcoRTssTXv88cfbtm3bqVMnnAcK1ShwHhmH1uSz4447WlGCcuDIgZ+Dy7sCTdTMaZSx+4gjl+GMVR7VS8y4rGMkSknHjh1xHwc4+8hg2s/aQqQ84hjIPD7tvPPOdopXBEDmwyWIFNZhExKQe0YTXnRNWQREQAREIAcBF81ffvnlu+++i8/A999/7wovR4U8WYSWQ8u+8MIL+Hvgr2zmzzxlU2XTIHrODbEITUujNX3xYqqGaqOQW5qdM5SKeDhB4D755JMTJ04k/ByQnU/Rs6RB7Pfx6wVnLkHRzapiwxCQaG6YS6mJiIAIiIAIlEQgjBP8/PPPW+gMD5GWqWm0bNZYEMnt5xTHdarkwtByOCXDuQjfDMMFlu233z4ZXfqzyG50c7x8nXKOT0Q5JRKQe0aJAFVdBERABESgQQjMP//8K620kk2GCM2sAkQxl26/bBA65ZvGEkssgeOKtccqSeMct++Wr0O1JALlISDRXB6OakUEREAERKDeCaCP3UkAd1uJuQpdUNxL3Onlo48+wtLMoR5OKkRbzZaRgERzGWGqKREQAREQgTomgLGThWU2ATZnZhWgLM2VuJz4VODtbS2z2fjXX38dOmxUoke1KQJlISCf5rJgVCMiIAIiIAKNQMBjOMz56VOcQ3MjgKjkHDAqt2/f3npgv3ESvjSwkt2qbREolYAszaUSVH0REAEREIGGIeCi2WZksZYbZna1M5E111zTB0PQErzJ/VAJEahZAhLNNXtpNDAREAEREIFqE2CN2qqrrmq9Lr/88rZNSbUH0QT9eXQ/5opvhhyam+CaN8IUJZob4SpqDiIgAiIgAuUi4GsB8W9WSIdyUY20s+SSS/J8YpnEmxPnCB8d1iYBiebavC4alQiIgAiIQAsQICLvKqusYh0XHTy4BcZdb12yFtAt+htssEG9DV/jbVICEs1NeuE1bREQAREQgTgB/ARczGkVYJxPuXLg3K5dO2tNnMtFVe1UmoBEc6UJq30REAEREIF6IiAxV4Wr5Q8nODTjqlGFHtWFCJROQKK5dIZqQQREQAREoHEImOETJw3fHbBx5lZLM9lwww0ZDtuayKG5li6LxpJEQHGak+jonAiIgAiIQLMRWHrppQkbTOw5ibmKXnqz6Hfu3FmhMyrKWY2XkcA87GZZxubUlAiIgAiIgAjUNYF//vOfjzzyCLtvyNJc0evI7jFPPPEEonmxxRaraEdqXATKRUCiuVwk1Y4IiIAIiIAIiIAIiEDDEpBPc8NeWk1MBERABERABERABESgXAQkmstFUu2IgAiIgAiIgAiIgAg0LAGJ5oa9tJqYCIiACIiACIiACIhAuQhINJeLpNoRAREQAREQAREQARFoWAISzQ17aTUxERABERABERABERCBchGQaC4XSbUjAiIgAiIgAiIgAiLQsAQkmhv20mpiIiACIiACIiACIiAC5SIg0VwukmpHBERABERABERABESgYQlINDfspdXEREAEREAEREAEREAEykVAorlcJNWOCIiACIiACIiACIhAwxKQaG7YS6uJiYAIiIAIiIAIiIAIlIuARHO5SKodERABERABERABERCBhiUg0dywl1YTEwEREAEREAEREAERKBeB/wd3aDTzzdzGMAAAAABJRU5ErkJggg==)"
      ]
    },
    {
      "cell_type": "markdown",
      "metadata": {
        "id": "pP-sXgOAwnQR"
      },
      "source": [
        "##### help"
      ]
    },
    {
      "cell_type": "code",
      "metadata": {
        "colab": {
          "background_save": true
        },
        "id": "yJv346YqwpTf"
      },
      "source": [
        "# 1. In numerator we get scalar multiplication of two vectors. It sums pairwise multiplication of each component in vectors\n",
        "# 2. In denominator we get multiplication of length of each vector. We calculate it as L2-norm.\n",
        "\n",
        "# You can use numpy functions below to calculate similarity"
      ],
      "execution_count": null,
      "outputs": []
    },
    {
      "cell_type": "code",
      "metadata": {
        "colab": {
          "background_save": true
        },
        "id": "d-5PRIwKGEBt"
      },
      "source": [
        "from numpy import dot\n",
        "from numpy.linalg import norm"
      ],
      "execution_count": null,
      "outputs": []
    },
    {
      "cell_type": "markdown",
      "metadata": {
        "id": "wCGJzFThwwEa"
      },
      "source": [
        "##### Continue work"
      ]
    },
    {
      "cell_type": "code",
      "metadata": {
        "colab": {
          "background_save": true
        },
        "id": "OLKSps22GRvn"
      },
      "source": [
        "# YOUR CODE HERE\n",
        "def cos_similarity(a: np.array, b: np.array) -> float:\n",
        "  pass"
      ],
      "execution_count": null,
      "outputs": []
    },
    {
      "cell_type": "code",
      "metadata": {
        "colab": {
          "background_save": true
        },
        "id": "dvo7maKZEtU5"
      },
      "source": [
        "def cos_similarity(a: np.array, b: np.array) -> float:\n",
        "  return dot(a, b) / (norm(a) * norm(b))"
      ],
      "execution_count": null,
      "outputs": []
    },
    {
      "cell_type": "code",
      "metadata": {
        "colab": {
          "background_save": true
        },
        "id": "AQpBP0jWGVW9"
      },
      "source": [
        "cos_sim_1 = cos_similarity(normed_vectors[0], normed_vectors[1])\n",
        "cos_sim_2 = cos_similarity(normed_vectors[1], normed_vectors[2])\n",
        "\n",
        "assert cos_sim_1 < cos_sim_2\n",
        "assert cos_sim_1 > 0.96\n",
        "assert cos_sim_2 > 0.98"
      ],
      "execution_count": null,
      "outputs": []
    },
    {
      "cell_type": "markdown",
      "metadata": {
        "id": "J8RQdM1gf07U"
      },
      "source": [
        "### Training vector representation from our data"
      ]
    },
    {
      "cell_type": "markdown",
      "metadata": {
        "id": "R4l8nUmZw_5g"
      },
      "source": [
        "If we have anough data or you are not familier with domain of your data you can train language model from just your data. After traing you can explore your vectors with some clusterning technics or just visualize vectors in 2d or 3d dimensions."
      ]
    },
    {
      "cell_type": "markdown",
      "metadata": {
        "id": "9rStDr8oxGUs"
      },
      "source": [
        "On lecture we discussed word2vec model. More complex and functional version of word2vec is Fasttext, that handle main problem of word2vec - Out-Of-Vocabulary words. Implementation of this model and some basic functionality with it you can find in python library fasttext. It is disigned by Facebook."
      ]
    },
    {
      "cell_type": "code",
      "metadata": {
        "colab": {
          "background_save": true,
          "base_uri": "https://localhost:8080/"
        },
        "id": "uoJFdx8QHb8J",
        "outputId": "2c6f5518-325b-400b-f36f-5bf9f8158af8"
      },
      "source": [
        "!pip install fasttext"
      ],
      "execution_count": null,
      "outputs": [
        {
          "name": "stdout",
          "output_type": "stream",
          "text": [
            "Requirement already satisfied: fasttext in /usr/local/lib/python3.7/dist-packages (0.9.2)\n",
            "Requirement already satisfied: setuptools>=0.7.0 in /usr/local/lib/python3.7/dist-packages (from fasttext) (57.4.0)\n",
            "Requirement already satisfied: numpy in /usr/local/lib/python3.7/dist-packages (from fasttext) (1.19.5)\n",
            "Requirement already satisfied: pybind11>=2.2 in /usr/local/lib/python3.7/dist-packages (from fasttext) (2.7.1)\n"
          ]
        }
      ]
    },
    {
      "cell_type": "markdown",
      "metadata": {
        "id": "Qq-SEzsaxLsG"
      },
      "source": [
        "Download data of russian comments form Odnoklassniki social network"
      ]
    },
    {
      "cell_type": "code",
      "metadata": {
        "colab": {
          "background_save": true,
          "base_uri": "https://localhost:8080/"
        },
        "id": "5k7tcvztISpy",
        "outputId": "70282508-2af1-40e5-decf-f8300f91bca0"
      },
      "source": [
        "!wget https://raw.githubusercontent.com/snv-ds/NLP_course/master/week2/train"
      ],
      "execution_count": null,
      "outputs": [
        {
          "name": "stdout",
          "output_type": "stream",
          "text": [
            "--2021-09-30 19:39:49--  https://raw.githubusercontent.com/snv-ds/NLP_course/master/week2/train\n",
            "Resolving raw.githubusercontent.com (raw.githubusercontent.com)... 185.199.108.133, 185.199.109.133, 185.199.110.133, ...\n",
            "Connecting to raw.githubusercontent.com (raw.githubusercontent.com)|185.199.108.133|:443... connected.\n",
            "HTTP request sent, awaiting response... 200 OK\n",
            "Length: 24525472 (23M) [text/plain]\n",
            "Saving to: ‘train.1’\n",
            "\n",
            "train.1             100%[===================>]  23.39M  --.-KB/s    in 0.1s    \n",
            "\n",
            "2021-09-30 19:39:49 (218 MB/s) - ‘train.1’ saved [24525472/24525472]\n",
            "\n"
          ]
        }
      ]
    },
    {
      "cell_type": "markdown",
      "metadata": {
        "id": "efxfqn8if3hG"
      },
      "source": [
        "Importing fasttext library to use FastText model implemented there"
      ]
    },
    {
      "cell_type": "code",
      "metadata": {
        "colab": {
          "background_save": true
        },
        "id": "_M0UUTTPOvG_"
      },
      "source": [
        "import fasttext"
      ],
      "execution_count": null,
      "outputs": []
    },
    {
      "cell_type": "markdown",
      "metadata": {
        "id": "V6Eku6rExWYI"
      },
      "source": [
        "Here we will load data, prepocess each row to get features as OHE vectors and translate target features on russian."
      ]
    },
    {
      "cell_type": "code",
      "metadata": {
        "colab": {
          "background_save": true
        },
        "id": "B9BHjqb1KIfV"
      },
      "source": [
        "parse_labels = ['__label__NORMAL','__label__INSULT','__label__THREAT','__label__OBSCENITY']"
      ],
      "execution_count": null,
      "outputs": []
    },
    {
      "cell_type": "markdown",
      "metadata": {
        "id": "k6ELh_4xxbE5"
      },
      "source": [
        "Here we will load data, prepocess each row to get features as OHE vectors and translate target features on russian."
      ]
    },
    {
      "cell_type": "code",
      "metadata": {
        "colab": {
          "background_save": true,
          "base_uri": "https://localhost:8080/",
          "height": 297
        },
        "id": "_2C_favhIyib",
        "outputId": "64d52ee4-e562-4d39-e574-79e19d71963a"
      },
      "source": [
        "train = pd.read_csv('train', sep='\\t', names=['id','target','temp1','temp2','comment'], index_col=0)\n",
        "\n",
        "mask = train['comment'].isin(parse_labels) # to cope only with correct rows in data\n",
        "\n",
        "train.loc[mask,'target'] = train[mask]['target'] + ',' + train[mask]['comment']\n",
        "train.loc[mask,'comment'] = np.nan\n",
        "\n",
        "for t in ['temp1','temp2']: # if comment have several labels of classes\n",
        "    mask = train[t].isin(parse_labels)\n",
        "    train.loc[mask,'target'] = train[mask]['target'] + ',' + train[mask][t]\n",
        "    train.loc[mask,t] = np.nan\n",
        "    train.loc[~train[t].isna(),'comment'] = train[~train[t].isna()][t]\n",
        "\n",
        "train[['оскорбление','другое','непростойность','угроза']] = train['target'].str.get_dummies(sep=',')\n",
        "\n",
        "train = train[['другое','оскорбление','непростойность','угроза', 'comment']]\n",
        "train.sample(7)"
      ],
      "execution_count": null,
      "outputs": [
        {
          "data": {
            "text/html": [
              "<div>\n",
              "<style scoped>\n",
              "    .dataframe tbody tr th:only-of-type {\n",
              "        vertical-align: middle;\n",
              "    }\n",
              "\n",
              "    .dataframe tbody tr th {\n",
              "        vertical-align: top;\n",
              "    }\n",
              "\n",
              "    .dataframe thead th {\n",
              "        text-align: right;\n",
              "    }\n",
              "</style>\n",
              "<table border=\"1\" class=\"dataframe\">\n",
              "  <thead>\n",
              "    <tr style=\"text-align: right;\">\n",
              "      <th></th>\n",
              "      <th>другое</th>\n",
              "      <th>оскорбление</th>\n",
              "      <th>непростойность</th>\n",
              "      <th>угроза</th>\n",
              "      <th>comment</th>\n",
              "    </tr>\n",
              "    <tr>\n",
              "      <th>id</th>\n",
              "      <th></th>\n",
              "      <th></th>\n",
              "      <th></th>\n",
              "      <th></th>\n",
              "      <th></th>\n",
              "    </tr>\n",
              "  </thead>\n",
              "  <tbody>\n",
              "    <tr>\n",
              "      <th>152173</th>\n",
              "      <td>0</td>\n",
              "      <td>1</td>\n",
              "      <td>0</td>\n",
              "      <td>0</td>\n",
              "      <td>мусор пизды получил.....это блядь не палкой ма...</td>\n",
              "    </tr>\n",
              "    <tr>\n",
              "      <th>109710</th>\n",
              "      <td>1</td>\n",
              "      <td>0</td>\n",
              "      <td>0</td>\n",
              "      <td>0</td>\n",
              "      <td>что за ягода? молодец парнишка👍 чернику не вид...</td>\n",
              "    </tr>\n",
              "    <tr>\n",
              "      <th>197025</th>\n",
              "      <td>1</td>\n",
              "      <td>0</td>\n",
              "      <td>0</td>\n",
              "      <td>0</td>\n",
              "      <td>помоги ему господь!!!</td>\n",
              "    </tr>\n",
              "    <tr>\n",
              "      <th>122633</th>\n",
              "      <td>1</td>\n",
              "      <td>0</td>\n",
              "      <td>0</td>\n",
              "      <td>0</td>\n",
              "      <td>спасибо, за то что работаете именно для нас! в...</td>\n",
              "    </tr>\n",
              "    <tr>\n",
              "      <th>222062</th>\n",
              "      <td>1</td>\n",
              "      <td>0</td>\n",
              "      <td>0</td>\n",
              "      <td>0</td>\n",
              "      <td>икрой... чем они ещё могут какать только голов...</td>\n",
              "    </tr>\n",
              "    <tr>\n",
              "      <th>239462</th>\n",
              "      <td>1</td>\n",
              "      <td>0</td>\n",
              "      <td>0</td>\n",
              "      <td>0</td>\n",
              "      <td>это же оазис?</td>\n",
              "    </tr>\n",
              "    <tr>\n",
              "      <th>19547</th>\n",
              "      <td>1</td>\n",
              "      <td>0</td>\n",
              "      <td>0</td>\n",
              "      <td>0</td>\n",
              "      <td>кому помогли детям. да это так а пенсионерам и...</td>\n",
              "    </tr>\n",
              "  </tbody>\n",
              "</table>\n",
              "</div>"
            ],
            "text/plain": [
              "        другое  ...                                            comment\n",
              "id              ...                                                   \n",
              "152173       0  ...  мусор пизды получил.....это блядь не палкой ма...\n",
              "109710       1  ...  что за ягода? молодец парнишка👍 чернику не вид...\n",
              "197025       1  ...                              помоги ему господь!!!\n",
              "122633       1  ...  спасибо, за то что работаете именно для нас! в...\n",
              "222062       1  ...  икрой... чем они ещё могут какать только голов...\n",
              "239462       1  ...                                      это же оазис?\n",
              "19547        1  ...  кому помогли детям. да это так а пенсионерам и...\n",
              "\n",
              "[7 rows x 5 columns]"
            ]
          },
          "execution_count": null,
          "metadata": {},
          "output_type": "execute_result"
        }
      ]
    },
    {
      "cell_type": "markdown",
      "metadata": {
        "id": "L2a7QbZSLuKa"
      },
      "source": [
        "#### Task 3\n",
        "Initialize variables for texts and targets from train data. Next time we will process this variables in our language model.<br> This action is very frequent and we want to automate it."
      ]
    },
    {
      "cell_type": "markdown",
      "metadata": {
        "id": "-ysVZoDuxtqd"
      },
      "source": [
        "Each variable will contain np.array values from our train pandas.DataFrame. <br>Numpy is very fast to process, thats why we try to use it more often."
      ]
    },
    {
      "cell_type": "code",
      "metadata": {
        "colab": {
          "background_save": true
        },
        "id": "QbuZa-gEL4fd"
      },
      "source": [
        "# YOUR CODE HERE\n",
        "texts = None\n",
        "targets = None"
      ],
      "execution_count": null,
      "outputs": []
    },
    {
      "cell_type": "code",
      "metadata": {
        "colab": {
          "background_save": true
        },
        "id": "xcnRvkElKcZD"
      },
      "source": [
        "texts = train['comment'].values\n",
        "targets = train[['другое','оскорбление','непростойность','угроза']].values"
      ],
      "execution_count": null,
      "outputs": []
    },
    {
      "cell_type": "code",
      "metadata": {
        "colab": {
          "background_save": true
        },
        "id": "VRUj_KhbLic4"
      },
      "source": [
        "assert texts.shape[0] == 148775\n",
        "assert targets.shape[1] == 4\n",
        "assert texts.shape[0] == targets.shape[0]"
      ],
      "execution_count": null,
      "outputs": []
    },
    {
      "cell_type": "markdown",
      "metadata": {
        "id": "oCWFfKvVNhTt"
      },
      "source": [
        "#### Task 4\n"
      ]
    },
    {
      "cell_type": "markdown",
      "metadata": {
        "id": "h2ejquPMzgzZ"
      },
      "source": [
        "To load data in FastText model we need to correctly represent it. FastText works only with corpus, where every document is splited by `\\n` symbol. When we train model on our data we can then represent each word in it as vector and continue exploring data from mathematical point of view."
      ]
    },
    {
      "cell_type": "markdown",
      "metadata": {
        "id": "xz53ef8LziLH"
      },
      "source": [
        "Create file `messages_unsupervised.txt`, that will contain all messages separeted by the `\\n` symbol. This file we will futher use to train FastText model"
      ]
    },
    {
      "cell_type": "code",
      "metadata": {
        "colab": {
          "background_save": true
        },
        "id": "sYOvFvopMlee"
      },
      "source": [
        "# YOUR CODE HERE"
      ],
      "execution_count": null,
      "outputs": []
    },
    {
      "cell_type": "code",
      "metadata": {
        "colab": {
          "background_save": true
        },
        "id": "9D7PvRXgMlY9"
      },
      "source": [
        "with open('messages_unsupervised.txt', 'w+', encoding='utf-8') as messages:\n",
        "    for idx in range(len(texts)):\n",
        "        messages.write(texts[idx]+'\\n')"
      ],
      "execution_count": null,
      "outputs": []
    },
    {
      "cell_type": "code",
      "metadata": {
        "colab": {
          "background_save": true
        },
        "id": "8WfYJUn4MlSE"
      },
      "source": [
        "import os\n",
        "\n",
        "assert 'messages_unsupervised.txt' in os.listdir('./')"
      ],
      "execution_count": null,
      "outputs": []
    },
    {
      "cell_type": "markdown",
      "metadata": {
        "id": "nmaFn5EKzpMF"
      },
      "source": [
        "Start training vector representation of words in our data is very simple. We can just pass generated file in method `train_unsupervised` of fasttext library and set some parameters. Fasttext model use ngams of symbols in words to handle OOV problem. By setting params `minn` and `maxn` we set number of ngrams we will generate. Param `dim` set output dimension of our data."
      ]
    },
    {
      "cell_type": "code",
      "metadata": {
        "colab": {
          "background_save": true,
          "base_uri": "https://localhost:8080/"
        },
        "id": "wSwekuz7Oipe",
        "outputId": "6c5a70cb-1681-4c95-a00f-fc8d74952a01"
      },
      "source": [
        "%%time\n",
        "ft_vectors = fasttext.train_unsupervised('messages_unsupervised.txt', minn=3,maxn=5, dim=50)"
      ],
      "execution_count": null,
      "outputs": [
        {
          "name": "stdout",
          "output_type": "stream",
          "text": [
            "CPU times: user 1min 36s, sys: 403 ms, total: 1min 37s\n",
            "Wall time: 1min 37s\n"
          ]
        }
      ]
    },
    {
      "cell_type": "markdown",
      "metadata": {
        "id": "jreACXRGzsqA"
      },
      "source": [
        "Now we can see most similar vectors in our dataset to given word"
      ]
    },
    {
      "cell_type": "code",
      "metadata": {
        "colab": {
          "background_save": true,
          "base_uri": "https://localhost:8080/"
        },
        "id": "8Xaypsl-Ozhq",
        "outputId": "1bae4d6f-ee09-42a7-9d7f-26d2811e30f0"
      },
      "source": [
        "ft_vectors.get_nearest_neighbors('дебил')"
      ],
      "execution_count": null,
      "outputs": [
        {
          "data": {
            "text/plain": [
              "[(0.943859875202179, 'дебил.'),\n",
              " (0.9332956671714783, 'дебил,'),\n",
              " (0.923521876335144, 'дебил!'),\n",
              " (0.9231675267219543, 'дебил?'),\n",
              " (0.8919996619224548, 'дебилу'),\n",
              " (0.8525539040565491, 'мудак'),\n",
              " (0.8473028540611267, 'далбоёб'),\n",
              " (0.841665506362915, 'мудак.'),\n",
              " (0.8377631902694702, 'далбаеб'),\n",
              " (0.8312882781028748, 'ебаный,')]"
            ]
          },
          "execution_count": null,
          "metadata": {},
          "output_type": "execute_result"
        }
      ]
    },
    {
      "cell_type": "markdown",
      "metadata": {
        "id": "v7AC35CMP3Q4"
      },
      "source": [
        "Let`s visualize our vectors"
      ]
    },
    {
      "cell_type": "markdown",
      "metadata": {
        "id": "5ajzAKmQzv-W"
      },
      "source": [
        "For visualization we first need to reduce dimension of our data to 2d or 3d, because only this we can illustrate.<br>\n",
        "One of appropriate methods, that we can use to reduce dimensions is TSNE. It is implemented in MulticoreTSNE python library. <br>\n",
        "Another methods that can reduce dimension is:\n",
        "- UMAP (implemeted in umap library)\n",
        "- SVD (implemented in sklearn)\n",
        "- PCA (implemented in sklearn)"
      ]
    },
    {
      "cell_type": "code",
      "metadata": {
        "colab": {
          "background_save": true
        },
        "id": "nxg9eHKeP24j"
      },
      "source": [
        "!pip install MulticoreTSNE > /dev/null"
      ],
      "execution_count": null,
      "outputs": []
    },
    {
      "cell_type": "code",
      "metadata": {
        "colab": {
          "background_save": true
        },
        "id": "urq1Qcc5QAnm"
      },
      "source": [
        "from sklearn.pipeline import Pipeline, FeatureUnion\n",
        "from sklearn.base import TransformerMixin, BaseEstimator\n",
        "from sklearn.preprocessing import FunctionTransformer\n",
        "from sklearn.model_selection import train_test_split\n",
        "\n",
        "\n",
        "from sklearn.decomposition import TruncatedSVD\n",
        "from MulticoreTSNE import MulticoreTSNE as TSNE"
      ],
      "execution_count": null,
      "outputs": []
    },
    {
      "cell_type": "markdown",
      "metadata": {
        "id": "FsUNppz-z2k5"
      },
      "source": [
        "We have so much words in our dataset. Lets take only 3 000 most frequent one, to visualize only them."
      ]
    },
    {
      "cell_type": "code",
      "metadata": {
        "colab": {
          "background_save": true,
          "base_uri": "https://localhost:8080/"
        },
        "id": "GIIu3_66QAbb",
        "outputId": "4638a90b-db7f-43a8-aeb7-c49b91ba4e55"
      },
      "source": [
        "print(len(ft_vectors.words))\n",
        "top3k = ft_vectors.words[:3000]\n",
        "top3k[:10]"
      ],
      "execution_count": null,
      "outputs": [
        {
          "name": "stdout",
          "output_type": "stream",
          "text": [
            "30552\n"
          ]
        },
        {
          "data": {
            "text/plain": [
              "['</s>', 'и', 'не', 'в', 'на', 'а', 'с', 'что', 'это', 'я']"
            ]
          },
          "execution_count": null,
          "metadata": {},
          "output_type": "execute_result"
        }
      ]
    },
    {
      "cell_type": "markdown",
      "metadata": {
        "id": "jBZngduqQK-z"
      },
      "source": [
        "#### Task 5"
      ]
    },
    {
      "cell_type": "markdown",
      "metadata": {
        "id": "VHUd0EpCz60d"
      },
      "source": [
        "initialize `top3k_vectors` variable with all vectors, that are in top 3000 for frequency.<br> \n",
        "Result variable will be list of vectors. Each vector present concrete word representation."
      ]
    },
    {
      "cell_type": "code",
      "metadata": {
        "colab": {
          "background_save": true
        },
        "id": "4N6uodJBQY65"
      },
      "source": [
        "# YOUR CODE HERE\n",
        "top3k_vectors = None"
      ],
      "execution_count": null,
      "outputs": []
    },
    {
      "cell_type": "code",
      "metadata": {
        "colab": {
          "background_save": true
        },
        "id": "N9x1iDZJQAUG"
      },
      "source": [
        "top3k_vectors = [ft_vectors.get_word_vector(word) for word in top3k]"
      ],
      "execution_count": null,
      "outputs": []
    },
    {
      "cell_type": "code",
      "metadata": {
        "colab": {
          "background_save": true,
          "base_uri": "https://localhost:8080/"
        },
        "id": "iZ2OK989Qegr",
        "outputId": "70ce673f-15b7-4b4c-cc09-7b3fa7887580"
      },
      "source": [
        "%%time\n",
        "tsne_emb = TSNE(n_components=2,\n",
        "                n_iter=2000,\n",
        "                n_jobs=-1,\n",
        "                random_state=42).fit_transform(np.array(top3k_vectors))"
      ],
      "execution_count": null,
      "outputs": [
        {
          "name": "stdout",
          "output_type": "stream",
          "text": [
            "CPU times: user 1min 12s, sys: 73 ms, total: 1min 12s\n",
            "Wall time: 36.7 s\n"
          ]
        }
      ]
    },
    {
      "cell_type": "code",
      "metadata": {
        "colab": {
          "background_save": true,
          "base_uri": "https://localhost:8080/",
          "height": 617
        },
        "id": "pH66cbquQeaI",
        "outputId": "17e192be-bca2-4474-cd3f-ecaf26f08116"
      },
      "source": [
        "from bokeh.models import ColumnDataSource, LabelSet\n",
        "from bokeh.plotting import figure, show, output_file\n",
        "from bokeh.io import output_notebook\n",
        "\n",
        "output_notebook()\n",
        "\n",
        "p = figure(tools=\"pan,wheel_zoom,reset,save\", title=\"TSNE representation of FastText vectors (top 3k words)\")\n",
        "\n",
        "source = ColumnDataSource(data=dict(x1=tsne_emb[:,0], x2=tsne_emb[:,1], names=top3k))\n",
        "\n",
        "p.scatter(x=\"x1\", y=\"x2\", source=source, size=5)\n",
        "\n",
        "words = LabelSet(x=\"x1\", y=\"x2\", text=\"names\", source=source,\n",
        "                y_offset=6, text_font_size=\"6pt\", \n",
        "                 text_color=\"#555555\", text_align=\"center\")\n",
        "\n",
        "p.add_layout(words)\n",
        "\n",
        "show(p)"
      ],
      "execution_count": null,
      "outputs": [
        {
          "data": {
            "application/javascript": [
              "\n",
              "(function(root) {\n",
              "  function now() {\n",
              "    return new Date();\n",
              "  }\n",
              "\n",
              "  var force = true;\n",
              "\n",
              "  if (typeof root._bokeh_onload_callbacks === \"undefined\" || force === true) {\n",
              "    root._bokeh_onload_callbacks = [];\n",
              "    root._bokeh_is_loading = undefined;\n",
              "  }\n",
              "\n",
              "  var JS_MIME_TYPE = 'application/javascript';\n",
              "  var HTML_MIME_TYPE = 'text/html';\n",
              "  var EXEC_MIME_TYPE = 'application/vnd.bokehjs_exec.v0+json';\n",
              "  var CLASS_NAME = 'output_bokeh rendered_html';\n",
              "\n",
              "  /**\n",
              "   * Render data to the DOM node\n",
              "   */\n",
              "  function render(props, node) {\n",
              "    var script = document.createElement(\"script\");\n",
              "    node.appendChild(script);\n",
              "  }\n",
              "\n",
              "  /**\n",
              "   * Handle when an output is cleared or removed\n",
              "   */\n",
              "  function handleClearOutput(event, handle) {\n",
              "    var cell = handle.cell;\n",
              "\n",
              "    var id = cell.output_area._bokeh_element_id;\n",
              "    var server_id = cell.output_area._bokeh_server_id;\n",
              "    // Clean up Bokeh references\n",
              "    if (id != null && id in Bokeh.index) {\n",
              "      Bokeh.index[id].model.document.clear();\n",
              "      delete Bokeh.index[id];\n",
              "    }\n",
              "\n",
              "    if (server_id !== undefined) {\n",
              "      // Clean up Bokeh references\n",
              "      var cmd = \"from bokeh.io.state import curstate; print(curstate().uuid_to_server['\" + server_id + \"'].get_sessions()[0].document.roots[0]._id)\";\n",
              "      cell.notebook.kernel.execute(cmd, {\n",
              "        iopub: {\n",
              "          output: function(msg) {\n",
              "            var id = msg.content.text.trim();\n",
              "            if (id in Bokeh.index) {\n",
              "              Bokeh.index[id].model.document.clear();\n",
              "              delete Bokeh.index[id];\n",
              "            }\n",
              "          }\n",
              "        }\n",
              "      });\n",
              "      // Destroy server and session\n",
              "      var cmd = \"import bokeh.io.notebook as ion; ion.destroy_server('\" + server_id + \"')\";\n",
              "      cell.notebook.kernel.execute(cmd);\n",
              "    }\n",
              "  }\n",
              "\n",
              "  /**\n",
              "   * Handle when a new output is added\n",
              "   */\n",
              "  function handleAddOutput(event, handle) {\n",
              "    var output_area = handle.output_area;\n",
              "    var output = handle.output;\n",
              "\n",
              "    // limit handleAddOutput to display_data with EXEC_MIME_TYPE content only\n",
              "    if ((output.output_type != \"display_data\") || (!Object.prototype.hasOwnProperty.call(output.data, EXEC_MIME_TYPE))) {\n",
              "      return\n",
              "    }\n",
              "\n",
              "    var toinsert = output_area.element.find(\".\" + CLASS_NAME.split(' ')[0]);\n",
              "\n",
              "    if (output.metadata[EXEC_MIME_TYPE][\"id\"] !== undefined) {\n",
              "      toinsert[toinsert.length - 1].firstChild.textContent = output.data[JS_MIME_TYPE];\n",
              "      // store reference to embed id on output_area\n",
              "      output_area._bokeh_element_id = output.metadata[EXEC_MIME_TYPE][\"id\"];\n",
              "    }\n",
              "    if (output.metadata[EXEC_MIME_TYPE][\"server_id\"] !== undefined) {\n",
              "      var bk_div = document.createElement(\"div\");\n",
              "      bk_div.innerHTML = output.data[HTML_MIME_TYPE];\n",
              "      var script_attrs = bk_div.children[0].attributes;\n",
              "      for (var i = 0; i < script_attrs.length; i++) {\n",
              "        toinsert[toinsert.length - 1].firstChild.setAttribute(script_attrs[i].name, script_attrs[i].value);\n",
              "        toinsert[toinsert.length - 1].firstChild.textContent = bk_div.children[0].textContent\n",
              "      }\n",
              "      // store reference to server id on output_area\n",
              "      output_area._bokeh_server_id = output.metadata[EXEC_MIME_TYPE][\"server_id\"];\n",
              "    }\n",
              "  }\n",
              "\n",
              "  function register_renderer(events, OutputArea) {\n",
              "\n",
              "    function append_mime(data, metadata, element) {\n",
              "      // create a DOM node to render to\n",
              "      var toinsert = this.create_output_subarea(\n",
              "        metadata,\n",
              "        CLASS_NAME,\n",
              "        EXEC_MIME_TYPE\n",
              "      );\n",
              "      this.keyboard_manager.register_events(toinsert);\n",
              "      // Render to node\n",
              "      var props = {data: data, metadata: metadata[EXEC_MIME_TYPE]};\n",
              "      render(props, toinsert[toinsert.length - 1]);\n",
              "      element.append(toinsert);\n",
              "      return toinsert\n",
              "    }\n",
              "\n",
              "    /* Handle when an output is cleared or removed */\n",
              "    events.on('clear_output.CodeCell', handleClearOutput);\n",
              "    events.on('delete.Cell', handleClearOutput);\n",
              "\n",
              "    /* Handle when a new output is added */\n",
              "    events.on('output_added.OutputArea', handleAddOutput);\n",
              "\n",
              "    /**\n",
              "     * Register the mime type and append_mime function with output_area\n",
              "     */\n",
              "    OutputArea.prototype.register_mime_type(EXEC_MIME_TYPE, append_mime, {\n",
              "      /* Is output safe? */\n",
              "      safe: true,\n",
              "      /* Index of renderer in `output_area.display_order` */\n",
              "      index: 0\n",
              "    });\n",
              "  }\n",
              "\n",
              "  // register the mime type if in Jupyter Notebook environment and previously unregistered\n",
              "  if (root.Jupyter !== undefined) {\n",
              "    var events = require('base/js/events');\n",
              "    var OutputArea = require('notebook/js/outputarea').OutputArea;\n",
              "\n",
              "    if (OutputArea.prototype.mime_types().indexOf(EXEC_MIME_TYPE) == -1) {\n",
              "      register_renderer(events, OutputArea);\n",
              "    }\n",
              "  }\n",
              "\n",
              "  \n",
              "  if (typeof (root._bokeh_timeout) === \"undefined\" || force === true) {\n",
              "    root._bokeh_timeout = Date.now() + 5000;\n",
              "    root._bokeh_failed_load = false;\n",
              "  }\n",
              "\n",
              "  var NB_LOAD_WARNING = {'data': {'text/html':\n",
              "     \"<div style='background-color: #fdd'>\\n\"+\n",
              "     \"<p>\\n\"+\n",
              "     \"BokehJS does not appear to have successfully loaded. If loading BokehJS from CDN, this \\n\"+\n",
              "     \"may be due to a slow or bad network connection. Possible fixes:\\n\"+\n",
              "     \"</p>\\n\"+\n",
              "     \"<ul>\\n\"+\n",
              "     \"<li>re-rerun `output_notebook()` to attempt to load from CDN again, or</li>\\n\"+\n",
              "     \"<li>use INLINE resources instead, as so:</li>\\n\"+\n",
              "     \"</ul>\\n\"+\n",
              "     \"<code>\\n\"+\n",
              "     \"from bokeh.resources import INLINE\\n\"+\n",
              "     \"output_notebook(resources=INLINE)\\n\"+\n",
              "     \"</code>\\n\"+\n",
              "     \"</div>\"}};\n",
              "\n",
              "  function display_loaded() {\n",
              "    var el = document.getElementById(null);\n",
              "    if (el != null) {\n",
              "      el.textContent = \"BokehJS is loading...\";\n",
              "    }\n",
              "    if (root.Bokeh !== undefined) {\n",
              "      if (el != null) {\n",
              "        el.textContent = \"BokehJS \" + root.Bokeh.version + \" successfully loaded.\";\n",
              "      }\n",
              "    } else if (Date.now() < root._bokeh_timeout) {\n",
              "      setTimeout(display_loaded, 100)\n",
              "    }\n",
              "  }\n",
              "\n",
              "\n",
              "  function run_callbacks() {\n",
              "    try {\n",
              "      root._bokeh_onload_callbacks.forEach(function(callback) {\n",
              "        if (callback != null)\n",
              "          callback();\n",
              "      });\n",
              "    } finally {\n",
              "      delete root._bokeh_onload_callbacks\n",
              "    }\n",
              "    console.debug(\"Bokeh: all callbacks have finished\");\n",
              "  }\n",
              "\n",
              "  function load_libs(css_urls, js_urls, callback) {\n",
              "    if (css_urls == null) css_urls = [];\n",
              "    if (js_urls == null) js_urls = [];\n",
              "\n",
              "    root._bokeh_onload_callbacks.push(callback);\n",
              "    if (root._bokeh_is_loading > 0) {\n",
              "      console.debug(\"Bokeh: BokehJS is being loaded, scheduling callback at\", now());\n",
              "      return null;\n",
              "    }\n",
              "    if (js_urls == null || js_urls.length === 0) {\n",
              "      run_callbacks();\n",
              "      return null;\n",
              "    }\n",
              "    console.debug(\"Bokeh: BokehJS not loaded, scheduling load and callback at\", now());\n",
              "    root._bokeh_is_loading = css_urls.length + js_urls.length;\n",
              "\n",
              "    function on_load() {\n",
              "      root._bokeh_is_loading--;\n",
              "      if (root._bokeh_is_loading === 0) {\n",
              "        console.debug(\"Bokeh: all BokehJS libraries/stylesheets loaded\");\n",
              "        run_callbacks()\n",
              "      }\n",
              "    }\n",
              "\n",
              "    function on_error(url) {\n",
              "      console.error(\"failed to load \" + url);\n",
              "    }\n",
              "\n",
              "    for (let i = 0; i < css_urls.length; i++) {\n",
              "      const url = css_urls[i];\n",
              "      const element = document.createElement(\"link\");\n",
              "      element.onload = on_load;\n",
              "      element.onerror = on_error.bind(null, url);\n",
              "      element.rel = \"stylesheet\";\n",
              "      element.type = \"text/css\";\n",
              "      element.href = url;\n",
              "      console.debug(\"Bokeh: injecting link tag for BokehJS stylesheet: \", url);\n",
              "      document.body.appendChild(element);\n",
              "    }\n",
              "\n",
              "    const hashes = {\"https://cdn.bokeh.org/bokeh/release/bokeh-2.3.3.min.js\": \"dM3QQsP+wXdHg42wTqW85BjZQdLNNIXqlPw/BgKoExPmTG7ZLML4EGqLMfqHT6ON\", \"https://cdn.bokeh.org/bokeh/release/bokeh-tables-2.3.3.min.js\": \"8x57I4YuIfu8XyZfFo0XVr2WAT8EK4rh/uDe3wF7YuW2FNUSNEpJbsPaB1nJ2fz2\", \"https://cdn.bokeh.org/bokeh/release/bokeh-widgets-2.3.3.min.js\": \"3QTqdz9LyAm2i0sG5XTePsHec3UHWwVsrOL68SYRoAXsafvfAyqtQ+h440+qIBhS\"};\n",
              "\n",
              "    for (let i = 0; i < js_urls.length; i++) {\n",
              "      const url = js_urls[i];\n",
              "      const element = document.createElement('script');\n",
              "      element.onload = on_load;\n",
              "      element.onerror = on_error.bind(null, url);\n",
              "      element.async = false;\n",
              "      element.src = url;\n",
              "      if (url in hashes) {\n",
              "        element.crossOrigin = \"anonymous\";\n",
              "        element.integrity = \"sha384-\" + hashes[url];\n",
              "      }\n",
              "      console.debug(\"Bokeh: injecting script tag for BokehJS library: \", url);\n",
              "      document.head.appendChild(element);\n",
              "    }\n",
              "  };\n",
              "\n",
              "  function inject_raw_css(css) {\n",
              "    const element = document.createElement(\"style\");\n",
              "    element.appendChild(document.createTextNode(css));\n",
              "    document.body.appendChild(element);\n",
              "  }\n",
              "\n",
              "  \n",
              "  var js_urls = [\"https://cdn.bokeh.org/bokeh/release/bokeh-2.3.3.min.js\", \"https://cdn.bokeh.org/bokeh/release/bokeh-widgets-2.3.3.min.js\", \"https://cdn.bokeh.org/bokeh/release/bokeh-tables-2.3.3.min.js\"];\n",
              "  var css_urls = [];\n",
              "  \n",
              "\n",
              "  var inline_js = [\n",
              "    function(Bokeh) {\n",
              "      Bokeh.set_log_level(\"info\");\n",
              "    },\n",
              "    function(Bokeh) {\n",
              "    \n",
              "    \n",
              "    }\n",
              "  ];\n",
              "\n",
              "  function run_inline_js() {\n",
              "    \n",
              "    if (root.Bokeh !== undefined || force === true) {\n",
              "      \n",
              "    for (var i = 0; i < inline_js.length; i++) {\n",
              "      inline_js[i].call(root, root.Bokeh);\n",
              "    }\n",
              "    } else if (Date.now() < root._bokeh_timeout) {\n",
              "      setTimeout(run_inline_js, 100);\n",
              "    } else if (!root._bokeh_failed_load) {\n",
              "      console.log(\"Bokeh: BokehJS failed to load within specified timeout.\");\n",
              "      root._bokeh_failed_load = true;\n",
              "    } else if (force !== true) {\n",
              "      var cell = $(document.getElementById(null)).parents('.cell').data().cell;\n",
              "      cell.output_area.append_execute_result(NB_LOAD_WARNING)\n",
              "    }\n",
              "\n",
              "  }\n",
              "\n",
              "  if (root._bokeh_is_loading === 0) {\n",
              "    console.debug(\"Bokeh: BokehJS loaded, going straight to plotting\");\n",
              "    run_inline_js();\n",
              "  } else {\n",
              "    load_libs(css_urls, js_urls, function() {\n",
              "      console.debug(\"Bokeh: BokehJS plotting callback run at\", now());\n",
              "      run_inline_js();\n",
              "    });\n",
              "  }\n",
              "}(window));"
            ],
            "application/vnd.bokehjs_load.v0+json": "\n(function(root) {\n  function now() {\n    return new Date();\n  }\n\n  var force = true;\n\n  if (typeof root._bokeh_onload_callbacks === \"undefined\" || force === true) {\n    root._bokeh_onload_callbacks = [];\n    root._bokeh_is_loading = undefined;\n  }\n\n  \n\n  \n  if (typeof (root._bokeh_timeout) === \"undefined\" || force === true) {\n    root._bokeh_timeout = Date.now() + 5000;\n    root._bokeh_failed_load = false;\n  }\n\n  var NB_LOAD_WARNING = {'data': {'text/html':\n     \"<div style='background-color: #fdd'>\\n\"+\n     \"<p>\\n\"+\n     \"BokehJS does not appear to have successfully loaded. If loading BokehJS from CDN, this \\n\"+\n     \"may be due to a slow or bad network connection. Possible fixes:\\n\"+\n     \"</p>\\n\"+\n     \"<ul>\\n\"+\n     \"<li>re-rerun `output_notebook()` to attempt to load from CDN again, or</li>\\n\"+\n     \"<li>use INLINE resources instead, as so:</li>\\n\"+\n     \"</ul>\\n\"+\n     \"<code>\\n\"+\n     \"from bokeh.resources import INLINE\\n\"+\n     \"output_notebook(resources=INLINE)\\n\"+\n     \"</code>\\n\"+\n     \"</div>\"}};\n\n  function display_loaded() {\n    var el = document.getElementById(null);\n    if (el != null) {\n      el.textContent = \"BokehJS is loading...\";\n    }\n    if (root.Bokeh !== undefined) {\n      if (el != null) {\n        el.textContent = \"BokehJS \" + root.Bokeh.version + \" successfully loaded.\";\n      }\n    } else if (Date.now() < root._bokeh_timeout) {\n      setTimeout(display_loaded, 100)\n    }\n  }\n\n\n  function run_callbacks() {\n    try {\n      root._bokeh_onload_callbacks.forEach(function(callback) {\n        if (callback != null)\n          callback();\n      });\n    } finally {\n      delete root._bokeh_onload_callbacks\n    }\n    console.debug(\"Bokeh: all callbacks have finished\");\n  }\n\n  function load_libs(css_urls, js_urls, callback) {\n    if (css_urls == null) css_urls = [];\n    if (js_urls == null) js_urls = [];\n\n    root._bokeh_onload_callbacks.push(callback);\n    if (root._bokeh_is_loading > 0) {\n      console.debug(\"Bokeh: BokehJS is being loaded, scheduling callback at\", now());\n      return null;\n    }\n    if (js_urls == null || js_urls.length === 0) {\n      run_callbacks();\n      return null;\n    }\n    console.debug(\"Bokeh: BokehJS not loaded, scheduling load and callback at\", now());\n    root._bokeh_is_loading = css_urls.length + js_urls.length;\n\n    function on_load() {\n      root._bokeh_is_loading--;\n      if (root._bokeh_is_loading === 0) {\n        console.debug(\"Bokeh: all BokehJS libraries/stylesheets loaded\");\n        run_callbacks()\n      }\n    }\n\n    function on_error(url) {\n      console.error(\"failed to load \" + url);\n    }\n\n    for (let i = 0; i < css_urls.length; i++) {\n      const url = css_urls[i];\n      const element = document.createElement(\"link\");\n      element.onload = on_load;\n      element.onerror = on_error.bind(null, url);\n      element.rel = \"stylesheet\";\n      element.type = \"text/css\";\n      element.href = url;\n      console.debug(\"Bokeh: injecting link tag for BokehJS stylesheet: \", url);\n      document.body.appendChild(element);\n    }\n\n    const hashes = {\"https://cdn.bokeh.org/bokeh/release/bokeh-2.3.3.min.js\": \"dM3QQsP+wXdHg42wTqW85BjZQdLNNIXqlPw/BgKoExPmTG7ZLML4EGqLMfqHT6ON\", \"https://cdn.bokeh.org/bokeh/release/bokeh-tables-2.3.3.min.js\": \"8x57I4YuIfu8XyZfFo0XVr2WAT8EK4rh/uDe3wF7YuW2FNUSNEpJbsPaB1nJ2fz2\", \"https://cdn.bokeh.org/bokeh/release/bokeh-widgets-2.3.3.min.js\": \"3QTqdz9LyAm2i0sG5XTePsHec3UHWwVsrOL68SYRoAXsafvfAyqtQ+h440+qIBhS\"};\n\n    for (let i = 0; i < js_urls.length; i++) {\n      const url = js_urls[i];\n      const element = document.createElement('script');\n      element.onload = on_load;\n      element.onerror = on_error.bind(null, url);\n      element.async = false;\n      element.src = url;\n      if (url in hashes) {\n        element.crossOrigin = \"anonymous\";\n        element.integrity = \"sha384-\" + hashes[url];\n      }\n      console.debug(\"Bokeh: injecting script tag for BokehJS library: \", url);\n      document.head.appendChild(element);\n    }\n  };\n\n  function inject_raw_css(css) {\n    const element = document.createElement(\"style\");\n    element.appendChild(document.createTextNode(css));\n    document.body.appendChild(element);\n  }\n\n  \n  var js_urls = [\"https://cdn.bokeh.org/bokeh/release/bokeh-2.3.3.min.js\", \"https://cdn.bokeh.org/bokeh/release/bokeh-widgets-2.3.3.min.js\", \"https://cdn.bokeh.org/bokeh/release/bokeh-tables-2.3.3.min.js\"];\n  var css_urls = [];\n  \n\n  var inline_js = [\n    function(Bokeh) {\n      Bokeh.set_log_level(\"info\");\n    },\n    function(Bokeh) {\n    \n    \n    }\n  ];\n\n  function run_inline_js() {\n    \n    if (root.Bokeh !== undefined || force === true) {\n      \n    for (var i = 0; i < inline_js.length; i++) {\n      inline_js[i].call(root, root.Bokeh);\n    }\n    } else if (Date.now() < root._bokeh_timeout) {\n      setTimeout(run_inline_js, 100);\n    } else if (!root._bokeh_failed_load) {\n      console.log(\"Bokeh: BokehJS failed to load within specified timeout.\");\n      root._bokeh_failed_load = true;\n    } else if (force !== true) {\n      var cell = $(document.getElementById(null)).parents('.cell').data().cell;\n      cell.output_area.append_execute_result(NB_LOAD_WARNING)\n    }\n\n  }\n\n  if (root._bokeh_is_loading === 0) {\n    console.debug(\"Bokeh: BokehJS loaded, going straight to plotting\");\n    run_inline_js();\n  } else {\n    load_libs(css_urls, js_urls, function() {\n      console.debug(\"Bokeh: BokehJS plotting callback run at\", now());\n      run_inline_js();\n    });\n  }\n}(window));"
          },
          "metadata": {},
          "output_type": "display_data"
        },
        {
          "data": {
            "text/html": [
              "\n",
              "\n",
              "\n",
              "\n",
              "\n",
              "\n",
              "  <div class=\"bk-root\" id=\"f340f16a-b697-42fc-8169-2ffd4b650e77\" data-root-id=\"1092\"></div>\n"
            ]
          },
          "metadata": {},
          "output_type": "display_data"
        },
        {
          "data": {
            "application/javascript": [
              "(function(root) {\n",
              "  function embed_document(root) {\n",
              "    \n",
              "  var docs_json = {\"93a1b042-a207-45df-b61c-29839634c87c\":{\"defs\":[],\"roots\":{\"references\":[{\"attributes\":{\"below\":[{\"id\":\"1103\"}],\"center\":[{\"id\":\"1106\"},{\"id\":\"1110\"},{\"id\":\"1126\"}],\"left\":[{\"id\":\"1107\"}],\"renderers\":[{\"id\":\"1124\"}],\"title\":{\"id\":\"1093\"},\"toolbar\":{\"id\":\"1115\"},\"x_range\":{\"id\":\"1095\"},\"x_scale\":{\"id\":\"1099\"},\"y_range\":{\"id\":\"1097\"},\"y_scale\":{\"id\":\"1101\"}},\"id\":\"1092\",\"subtype\":\"Figure\",\"type\":\"Plot\"},{\"attributes\":{},\"id\":\"1140\",\"type\":\"AllLabels\"},{\"attributes\":{},\"id\":\"1095\",\"type\":\"DataRange1d\"},{\"attributes\":{\"fill_alpha\":{\"value\":0.1},\"fill_color\":{\"value\":\"#1f77b4\"},\"line_alpha\":{\"value\":0.1},\"line_color\":{\"value\":\"#1f77b4\"},\"size\":{\"value\":5},\"x\":{\"field\":\"x1\"},\"y\":{\"field\":\"x2\"}},\"id\":\"1123\",\"type\":\"Scatter\"},{\"attributes\":{},\"id\":\"1139\",\"type\":\"BasicTickFormatter\"},{\"attributes\":{},\"id\":\"1097\",\"type\":\"DataRange1d\"},{\"attributes\":{},\"id\":\"1145\",\"type\":\"UnionRenderers\"},{\"attributes\":{},\"id\":\"1101\",\"type\":\"LinearScale\"},{\"attributes\":{},\"id\":\"1112\",\"type\":\"WheelZoomTool\"},{\"attributes\":{\"source\":{\"id\":\"1120\"}},\"id\":\"1125\",\"type\":\"CDSView\"},{\"attributes\":{},\"id\":\"1113\",\"type\":\"ResetTool\"},{\"attributes\":{},\"id\":\"1142\",\"type\":\"BasicTickFormatter\"},{\"attributes\":{\"fill_color\":{\"value\":\"#1f77b4\"},\"line_color\":{\"value\":\"#1f77b4\"},\"size\":{\"value\":5},\"x\":{\"field\":\"x1\"},\"y\":{\"field\":\"x2\"}},\"id\":\"1122\",\"type\":\"Scatter\"},{\"attributes\":{},\"id\":\"1114\",\"type\":\"SaveTool\"},{\"attributes\":{\"formatter\":{\"id\":\"1142\"},\"major_label_policy\":{\"id\":\"1143\"},\"ticker\":{\"id\":\"1104\"}},\"id\":\"1103\",\"type\":\"LinearAxis\"},{\"attributes\":{\"source\":{\"id\":\"1120\"},\"text\":{\"field\":\"names\"},\"text_align\":{\"value\":\"center\"},\"text_color\":{\"value\":\"#555555\"},\"text_font_size\":{\"value\":\"6pt\"},\"x\":{\"field\":\"x1\"},\"y\":{\"field\":\"x2\"},\"y_offset\":{\"value\":6}},\"id\":\"1126\",\"type\":\"LabelSet\"},{\"attributes\":{},\"id\":\"1099\",\"type\":\"LinearScale\"},{\"attributes\":{},\"id\":\"1104\",\"type\":\"BasicTicker\"},{\"attributes\":{},\"id\":\"1144\",\"type\":\"Selection\"},{\"attributes\":{\"data_source\":{\"id\":\"1120\"},\"glyph\":{\"id\":\"1122\"},\"hover_glyph\":null,\"muted_glyph\":null,\"nonselection_glyph\":{\"id\":\"1123\"},\"view\":{\"id\":\"1125\"}},\"id\":\"1124\",\"type\":\"GlyphRenderer\"},{\"attributes\":{\"data\":{\"names\":[\"</s>\",\"\\u0438\",\"\\u043d\\u0435\",\"\\u0432\",\"\\u043d\\u0430\",\"\\u0430\",\"\\u0441\",\"\\u0447\\u0442\\u043e\",\"\\u044d\\u0442\\u043e\",\"\\u044f\",\"\\u043a\\u0430\\u043a\",\"\\u0443\",\"\\u0437\\u0430\",\"\\u043f\\u043e\",\"\\u0432\\u0441\\u0435\",\"\\u0442\\u0430\\u043a\",\",\",\"\\u0442\\u043e\",\"\\u0442\\u044b\",\"\\u0431\\u044b\",\"\\u0432\\u044b\",\"-\",\"\\u043e\",\"\\u0442\\u043e\\u043b\\u044c\\u043a\\u043e\",\"\\u043e\\u0442\",\"\\u043e\\u043d\",\"\\u043d\\u043e\",\"\\u043a\",\"\\u0435\\u0441\\u043b\\u0438\",\"\\u0436\\u0435\",\"\\u043d\\u0430\\u0434\\u043e\",\"\\u0432\\u043e\\u0442\",\"\\u043e\\u0447\\u0435\\u043d\\u044c\",\"\\u0434\\u0430\",\"\\u0434\\u043b\\u044f\",\"\\u043a\\u0442\\u043e\",\".\",\"\\u0443\\u0436\\u0435\",\"\\u0435\\u0441\\u0442\\u044c\",\"\\u043e\\u043d\\u0438\",\"\\u0438\\u0437\",\"\\u0435\\u0433\\u043e\",\"\\u043c\\u043d\\u0435\",\"\\u0438\\u043b\\u0438\",\"\\u043c\\u044b\",\"\\u043c\\u043e\\u0436\\u043d\\u043e\",\"\\u0432\\u0430\\u043c\",\"\\u0438\\u0445\",\"\\u0431\\u0443\\u0434\\u0435\\u0442\",\"\\u043c\\u0435\\u043d\\u044f\",\"\\u0434\\u043e\",\"\\u043d\\u0430\\u0441\",\"\\u0433\\u0434\\u0435\",\"\\u0431\\u044b\\u043b\\u043e\",\"\\u043f\\u0440\\u043e\\u0441\\u0442\\u043e\",\"\\u043a\\u043e\\u0433\\u0434\\u0430\",\"\\u0435\\u0449\\u0451\",\"\\u0442\\u043e\\u0436\\u0435\",\"\\u043d\\u0435\\u0442\",\"!\",\"\\u0432\\u0430\\u0441\",\"\\u0442\\u0430\\u043c\",\"\\u043d\\u0443\",\"\\u0432\\u0441\\u0451\",\"\\u0442\\u0435\\u0431\\u044f\",\"\\u0431\\u0435\\u0437\",\"\\u043d\\u0438\",\"\\u043e\\u043d\\u0430\",\"\\u0432\\u0441\\u0435\\u0445\",\"\\u0442\\u0435\\u0431\\u0435\",\"\\u043c\\u043e\\u0436\\u0435\\u0442\",\"\\u0441\\u043a\\u043e\\u043b\\u044c\\u043a\\u043e\",\"\\u0432\\u0441\\u0435\\u043c\",\"\\u0435\\u0449\\u0435\",\"\\u0434\\u0430\\u0436\\u0435\",\"\\u0441\\u0435\\u0439\\u0447\\u0430\\u0441\",\"\\u0431\",\"\\u0441\\u043f\\u0430\\u0441\\u0438\\u0431\\u043e\",\"\\u0447\\u0442\\u043e\\u0431\\u044b\",\"\\u0442\\u0430\\u043a\\u043e\\u0439\",\"\\u043f\\u0443\\u0441\\u0442\\u044c\",\"\\u0447\\u0435\\u043c\",\"\\u0442\\u0430\\u043a\\u0438\\u0445\",\"\\u0442\\u0430\\u043a\\u0438\\u0435\",\"\\u043b\\u0435\\u0442\",\"\\u0438\\u043c\",\"\\u043a\\u0430\\u043a\\u043e\\u0439\",\"\\u043b\\u044e\\u0434\\u0438\",\"\\u043d\\u0443\\u0436\\u043d\\u043e\",\"?\",\"\\u0437\\u0434\\u043e\\u0440\\u043e\\u0432\\u044c\\u044f\",\"\\u0432\\u043e\",\"\\u0431\\u044b\\u043b\",\"\\u044d\\u0442\\u043e\\u0442\",\"\\u044d\\u0442\\u043e\\u0433\\u043e\",\"\\u0435\\u043c\\u0443\",\"\\u0441\\u043e\",\"\\u0432\\u0441\\u0435\\u0433\\u0434\\u0430\",\"\\u0431\\u043e\\u043b\\u044c\\u0448\\u0435\",\"\\u0441\\u0435\\u0431\\u044f\",\"\\u043f\\u043e\\u0442\\u043e\\u043c\",\"\\u0432\\u0440\\u0435\\u043c\\u044f\",\"\\u043f\\u0440\\u0438\",\"\\u0440\\u0430\\u0437\",\"\\u043f\\u0440\\u043e\",\"\\u043f\\u043e\\u0434\",\"\\u043f\\u043e\\u0447\\u0435\\u043c\\u0443\",\"\\u044d\\u0442\\u0438\",\"\\u043d\\u0430\\u043c\",\"\\u0431\\u044b\\u0442\\u044c\",\"\\u0442\\u0443\\u0442\",\"\\u043a\\u0430\\u043a\\u0430\\u044f\",\"\\u043c\\u043d\\u043e\\u0433\\u043e\",\"\\u043d\\u0438\\u0447\\u0435\\u0433\\u043e\",\"\\u043d\\u0438\\u0445\",\"\\u0431\\u044b\\u043b\\u0438\",\"\\u0431\\u044b\\u043b\\u0430\",\"\\u0432\\u043e\\u043e\\u0431\\u0449\\u0435\",\"\\u044d\\u0442\\u0443\",\"\\u043b\\u0443\\u0447\\u0448\\u0435\",\"\\u043f\\u043e\\u0441\\u043b\\u0435\",\"!!!\",\"\\u0434\\u0435\\u043d\\u044c\",\"\\u0431\\u043e\\u0433\",\"\\u043b\\u044e\\u0434\\u0435\\u0439\",\"\\u0442\\u0435\\u043f\\u0435\\u0440\\u044c\",\"\\u0447\\u0442\\u043e\\u0431\",\"\\u043e\\u043e\",\"\\u043e\\u0434\\u0438\\u043d\",\"\\u0447\\u0435\\u0433\\u043e\",\"\\u0441\\u0435\\u0431\\u0435\",\"\\u0442\\u0430\\u043a\\u043e\\u0435\",\"\\u044d\\u0442\\u0438\\u0445\",\"\\u0431\\u0443\\u0434\\u0443\\u0442\",\"\\u044d\\u0442\\u043e\\u043c\",\"\\u0437\",\"\\u044d\\u0442\\u043e\\u0439\",\"\\u0435\\u0451\",\"\\u0444\\u043e\\u0442\\u043e\",\"\\u0436\\u0438\\u0437\\u043d\\u044c\",\"\\u0442\\u043e\\u0433\\u0434\\u0430\",\"\\u0445\\u043e\\u0440\\u043e\\u0448\\u043e\",\"\\u043a\\u0430\\u043a\\u0438\\u0435\",\"\\u0440\\u043e\\u0441\\u0441\\u0438\\u0438\",\"\\u043a\\u043e\\u0433\\u043e\",\"\\u0435\\u0435\",\"2\",\"\\u0445\\u043e\\u0442\\u044c\",\"\\u0447\",\"\\u0442\\u0430\\u043a\\u0430\\u044f\",\"\\u043f\\u043e\\u043a\\u0430\",\":d\",\"\\u043c\\u043e\\u0439\",\"\\u0437\\u0430\\u0447\\u0435\\u043c\",\"\\u0436\\u0438\\u0437\\u043d\\u0438\",\"\\u043a\\u0443\\u0434\\u0430\",\"\\u0434\\u0435\\u043d\\u044c\\u0433\\u0438\",\"\\u0434\\u0435\\u0442\\u0435\\u0439\",\"\\u043d\\u0430\\u0440\\u043e\\u0434\",\"\\u0441\\u0430\\u043c\",\"\\u043a\\u043e\\u0442\\u043e\\u0440\\u044b\\u0435\",\"\\u0435\\u0439\",\"\\u0447\\u0435\\u0440\\u0435\\u0437\",\"\\u0447\\u0435\\u043b\\u043e\\u0432\\u0435\\u043a\",\"\\u0432\\u0435\\u0434\\u044c\",\"\\u043d\\u0435\\u0433\\u043e\",\"\\u0432\\u0441\\u0435\\u0433\\u043e\",\"\\u0441\\u0435\\u0433\\u043e\\u0434\\u043d\\u044f\",\"\\u0441\\u0432\\u043e\\u044e\",\"\\u0434\\u0430\\u0439\",\"\\u0434\\u043e\\u0431\\u0440\\u044b\\u0439\",\"\\u0441\\u0440\\u0430\\u0437\\u0443\",\"\\u043e\\u0431\",\"\\u043a\\u0430\\u0436\\u0434\\u044b\\u0439\",\"\\u043b\\u0438\",\"\\u044d\\u0442\\u0430\",\"...\",\"\\u0445\\u043e\\u0447\\u0443\",\"\\u043a\\u043e\\u043c\\u0443\",\"\\u0437\\u0434\\u0435\\u0441\\u044c\",\"\\u043d\\u0438\\u043a\\u0442\\u043e\",\"\\u0432\\u0441\\u044e\",\"\\u0441\\u0447\\u0430\\u0441\\u0442\\u044c\\u044f\",\"\\u0441\\u0432\\u043e\\u0438\",\"\\u0441\\u0432\\u043e\\u0438\\u0445\",\"\\u043e\\u043f\\u0435\\u0440\\u0430\\u0446\\u0438\\u0438\",\"\\u0434\\u0430\\u0432\\u043d\\u043e\",\"\\u0441\\u0430\\u043c\\u0438\",\"\\u0441\\u0432\\u043e\\u0435\\u0439\",\"3\",\"\\u0436\\u0438\\u0442\\u044c\",\"\\ud83d\\udc4d\",\"\\u0434\\u0435\\u0442\\u0438\",\"\\u0441\\u0442\\u043e\\u0438\\u0442\",\"\\u0441\\u0432\\u043e\\u0439\",\"\\u0433\\u043e\\u0434\\u0430\",\"\\u0442\\u043e\\u0447\\u043d\\u043e\",\"\\u043d\\u0430\\u0448\\u0438\",\"\\u043a\\u043e\\u043d\\u0435\\u0447\\u043d\\u043e\",\"1\",\"\\u043d\\u043e\\u043c\\u0435\\u0440\",\"\\u0442\\u0430\\u043a\\u0443\\u044e\",\"\\u0441\\u043e\\u0432\\u0441\\u0435\\u043c\",\"\\u0434\\u0430,\",\"\\u044d\\u0442\\u0438\\u043c\",\"\\u043f\\u043e\\u0442\\u043e\\u043c\\u0443\",\"\\u043c\\u043e\\u0433\\u0443\",\"\\u043c\\u043e\\u044f\",\"\\u0445\\u0443\\u0439\",\"\\u0441\\u0443\\u043a\\u0430\",\"\\u043f\\u043e\\u0436\\u0430\\u043b\\u0443\\u0439\\u0441\\u0442\\u0430\",\"\\u043f\\u0440\\u0438\\u0432\\u0435\\u0442\",\"\\u0442\\u0435\\u043c\",\"10\",\"\\u043f\\u0443\\u0442\\u0438\\u043d\",\"\\u0440\\u0443\\u043a\\u0438\",\"\\u0442\\u043e\\u0433\\u043e\",\"\\u043d\\u0438\\u043a\\u043e\\u0433\\u0434\\u0430\",\"\\u0442\\u0430\\u043a\\u043e\\u0433\\u043e\",\"\\u043c\\u043e\\u0438\",\"\\u0434\\u0432\\u0430\",\"\\u0434\\u043d\\u0435\\u043c\",\"5\",\"\\u0446\\u0435\\u043d\\u0430\",\"\\u0441\\u0430\\u043c\\u0430\",\"\\u0443\\u0436\",\"\\u0440\\u043e\\u0436\\u0434\\u0435\\u043d\\u0438\\u044f\",\"\\ud83d\\ude02\",\"\\u0440\\u0443\\u0431\",\"\\u043f\\u0440\\u0430\\u0432\\u0438\\u043b\\u044c\\u043d\\u043e\",\"\\u0434\\u043d\\u0451\\u043c\",\"\\u043c\\u043e\\u043b\\u043e\\u0434\\u0435\\u0446\",\"\\u0437\\u043d\\u0430\\u0447\\u0438\\u0442\",\"\\u0434\\u0435\\u043b\\u0430\\u0442\\u044c\",\"\\u0442\\u0435\",\"\\u0434\\u043e\\u043c\\u0430\",\"\\u043e\\u043f\\u044f\\u0442\\u044c\",\"\\u0432\\u0435\\u0441\\u044c\",\"\\u043a\\u043b\\u0430\\u0441\\u0441\",\"\\u0442\\u0432\\u0430\\u0440\\u044c\",\"\\u043a\\u043e\\u0442\\u043e\\u0440\\u044b\\u0439\",\"\\u0445\\u043e\\u0447\\u0435\\u0442\\u0441\\u044f\",\":(\",\"\\u043d\\u0430\\u0432\\u0435\\u0440\\u043d\\u043e\\u0435\",\"\\u0445\\u043e\\u0442\\u044f\",\"\\u0431\\u043e\\u043b\\u0435\\u0435\",\"\\u043c\\u0435\\u0441\\u0442\\u043e\",\"\\u0441\\u0432\\u043e\\u0438\\u043c\",\"\\u0442\\u043e\\u0442\",\"\\u0432\\u043c\\u0435\\u0441\\u0442\\u0435\",\"\\u043c\\u043e\\u0433\\u0443\\u0442\",\"\\u043d\\u0430\\u0448\",\"\\u0432\\u0441\\u044f\",\"\\u043e\\u0434\\u043d\\u0430\",\"\\u0442\\u0430\\u043a\\u0438\\u043c\",\"\\u043a\\u0430\\u0440\\u0442\\u044b\",\"\\u0441\\u0442\\u043e\\u043b\\u044c\\u043a\\u043e\",\"\\u0433\\u043e\\u0434\",\"\\u0440\\u0430\\u043d\\u044c\\u0448\\u0435\",\"\\u043d\\u0435\\u0442.\",\"\\u0441\\u0430\\u043c\\u043e\\u0435\",\"\\u043f\\u0440\\u043e\\u0442\\u0438\\u0432\",\"\\u0437\\u0434\\u0440\\u0430\\u0432\\u0441\\u0442\\u0432\\u0443\\u0439\\u0442\\u0435\",\"\\u0441\\u043a\\u043e\\u0440\\u043e\",\"\\u043d\\u0443\\u0436\\u043d\\u0430\",\"\\u0437\\u043d\\u0430\\u044e\",\"\\u0432\\u0430\\u043c\\u0438\",\"\\u0433\\u043b\\u0430\\u0432\\u043d\\u043e\\u0435\",\"\\u0438\\u043c\\u0435\\u043d\\u043d\\u043e\",\"\\u0442\\u0440\\u0438\",\"\\u043f\\u0438\\u0434\\u043e\\u0440\",\"\\u043d\\u0430\\u0448\\u0435\\u0439\",\"\\u043b\\u044e\\u0431\\u043b\\u044e\",\"\\u0441\\u0434\\u0435\\u043b\\u0430\\u0442\\u044c\",\"4\",\"\\u043d\\u0435\\u0442,\",\":-d\",\"\\u043f\\u0435\\u0440\\u0435\\u0434\",\"\\u0441\\u0432\\u043e\\u0435\\u0433\\u043e\",\"\\u0440\\u043e\\u0441\\u0441\\u0438\\u044f\",\",\\u0430\",\"\\u0432\\u0430\\u0448\",\"\\u043c\\u0430\\u043b\\u043e\",\"\\u0434\\u0440\\u0443\\u0433\",\"\\u044d\\u0442\\u043e\\u043c\\u0443\",\"\\u0434\\u043e\\u043c\",\"\\u0431\\u0443\\u0434\\u0435\\u043c\",\"\\u043e\\u0434\\u043d\\u043e\",\"\\u043d\\u0430\\u0434\",\"\\u043c\\u0440\\u0430\\u0437\\u044c\",\"\\u043f\\u043e\\u044d\\u0442\\u043e\\u043c\\u0443\",\"\\u0441\\u043b\\u043e\\u0432\\u0430\",\"\\u0442\\u0443\\u0434\\u0430\",\"\\u0436\\u0435\\u043b\\u0430\\u044e\",\"\\u0443\\u0440\",\"\\u0434\\u0435\\u043d\\u0435\\u0433\",\"\\u0437\\u0434\\u0440\\u0430\\u0432\\u0441\\u0442\\u0432\\u0443\\u0439\\u0442\\u0435,\",\"\\u0445\\u043e\\u0440\\u043e\\u0448\\u0438\\u0439\",\"\\u0440\\u044f\\u0434\\u043e\\u043c\",\"\\u0447\\u0435\\u043b\\u043e\\u0432\\u0435\\u043a\\u0430\",\"\\u0433\\u043e\\u0434\\u0443\",\"\\u0442\\u043e\\u043c\",\"\\u043d\\u0435\\u043b\\u044c\\u0437\\u044f\",\"\\u043e\\u0434\\u043d\\u043e\\u0433\\u043e\",\"\\u0442\\u043e,\",\"\\u0434\\u043e\\u043b\\u0436\\u043d\\u044b\",\"\\u0432\\u0430\\u0448\\u0438\",\"\\u0432\\u0441\\u0435\\u0439\",\"\\u0440\\u0430\\u0441\\u0441\\u0442\\u0440\\u0435\\u043b\\u044f\\u0442\\u044c\",\"\\u043f\\u0430\\u043c\\u044f\\u0442\\u044c\",\"\\u0447\\u0442\\u043e-\\u0442\\u043e\",\"\\u0434\\u0443\\u043c\\u0430\\u044e\",\"\\u0431\\u0443\\u0434\\u0443\",\",\\u0447\\u0442\\u043e\",\"\\u0434\\u043e\\u0431\\u0440\\u043e\\u0435\",\"\\u043f\\u043e\\u0440\\u0430\",\"\\u0436\",\"\\u043c\\u0430\\u043c\\u0430\",\"\\u0438\\u043d\\u0442\\u0435\\u0440\\u0435\\u0441\\u043d\\u043e\",\"\\u0441\\u0441\\u0441\\u0440\",\"\\u0445\",\"\\u0441\\u0430\\u043c\\u044b\\u0439\",\"\\u0434\\u043e\\u043b\\u0436\\u0435\\u043d\",\"\\u0436\\u043e\\u043f\\u0443\",\"\\u043a\\u0440\\u043e\\u043c\\u0435\",\"(\",\"\\u0442\\u0435\\u0445\",\"\\u043f\\u0440\\u0430\\u0432\\u0434\\u0430\",\"\\u0441\\u0443\\u043f\\u0435\\u0440\",\"\\u043d\\u0430\\u0440\\u043e\\u0434\\u0430\",\"\\u043c\\u0438\\u0440\",\"\\u0434\\u0430\\u043b\\u044c\\u0448\\u0435\",\"\\u0440\\u0430\\u0432\\u043d\\u043e\",\"\\u043e\\u0432\",\"\\u0438\\u0434\\u0438\",\"\\u043f\\u043e\\u0440\",\"\\u0434\\u0440\\u0443\\u0437\\u044c\\u044f\",\"\\u043d\\u0430\\u0448\\u0438\\u0445\",\"\\u043f\\u043e\\u0437\\u0434\\u0440\\u0430\\u0432\\u043b\\u044f\\u044e\",\"\\u0434\\u043d\\u044f\",\"\\u043a\\u0430\\u043a\\u043e\\u0435\",\"20\",\"\\u0441\\u0442\\u0440\\u0430\\u043d\\u0435\",\"\\u0431\\u043e\\u043b\\u044c\\u0448\\u043e\\u0435\",\"\\u0441\\u0432\\u043e\\u0435\",\"\\u0441\\u0431\\u0435\\u0440\\u0431\\u0430\\u043d\\u043a\",\"\\u043c\\u043e\\u0435\\u0439\",\"\\u0442\\u0432\\u043e\\u0439\",\"\\u0434\\u0435\\u0439\\u0441\\u0442\\u0432\\u0438\\u0442\\u0435\\u043b\\u044c\\u043d\\u043e\",\"\\u0432\\u0438\\u0434\\u043d\\u043e\",\"\\u043b\\u0438\\u0448\\u044c\",\"\\u0443\\u0434\\u0430\\u0447\\u0438\",\"\\u043c\\u043d\\u043e\\u0433\\u0438\\u0435\",\"\\u0442\\u0432\\u0430\\u0440\\u0438\",\"\\u043d\\u0443\\u0436\\u0435\\u043d\",\"\\u0432\\u043b\\u0430\\u0441\\u0442\\u0438\",\"\\u043f\\u0435\\u0440\\u0432\\u044b\\u0439\",\"\\u0436\\u0430\\u043b\\u044c\",\"\\u0436\\u0438\\u0432\\u0443\\u0442\",\"\\u043e\\u043d\\u043e\",\"\\u0434\\u0440\\u0443\\u0433\\u0438\\u0445\",\"\\u0442\\u0430\\u043a\\u0436\\u0435\",\"\\u043b\\u044e\\u0431\\u043e\\u0432\\u044c\",\"\\u043d\\u0438\\u0431\\u0443\\u0434\\u044c\",\"\\u0445\\u043e\\u0442\\u044f\\u0442\",\"\\u043f\\u0443\\u0442\\u0438\\u043d\\u0430\",\"\\u0441\\u0432\\u043e\\u0438\\u043c\\u0438\",\"\\u043a\\u0440\\u0430\\u0441\\u0438\\u0432\\u043e\",\"\\u043b\\u044e\\u0434\\u044f\\u043c\",\"\\u043e\\u0442\\u043a\\u0443\\u0434\\u0430\",\"\\u0441\\u0438\\u0445\",\"\\u0437\\u043d\\u0430\\u0435\\u0442\",\"\\u0432\\u0435\\u0449\\u0438\",\"\\u043d\\u0438\\u043c\",\"\\u0445\\u0432\\u0430\\u0442\\u0430\\u0435\\u0442\",\"\\u043e\\u0434\\u043d\\u0438\",\"\\u043e\\u0434\\u043d\\u043e\\u0439\",\"\\u0430\\u0432\\u0433\\u0443\\u0441\\u0442\\u0430\",\"\\u043d\\u0443\\u0436\\u043d\\u044b\",\"\\u043a\\u0440\\u0430\\u0441\\u0438\\u0432\\u0430\\u044f\",\"\\u0431\\u043e\\u043b\\u044c\\u0448\\u043e\\u0439\",\"\\u0441\\u043b\\u043e\\u0432\",\"\\u043d\\u0430\\u0437\\u0430\\u0434\",\"\\u0440\\u043e\\u0442\",\"\\u043d\\u0435\\u0439\",\"\\u0441\\u043a\\u0430\\u0437\\u0430\\u0442\\u044c\",\"\\u0432\\u0435\\u0437\\u0434\\u0435\",\"\\u0434\\u0435\\u043b\\u043e\",\"\\u0432\\u043b\\u0430\\u0441\\u0442\\u044c\",\"\\u0441\\u0430\\u043c\\u043e\\u0433\\u043e\",\"\\u043f\\u043e\\u0447\\u0442\\u0438\",\"\\u0441\\u043b\\u0430\\u0432\\u0430\",\"\\u0437\\u0430\\u0432\\u0442\\u0440\\u0430\",\"\\u0432\\u043e\\u043f\\u0440\\u043e\\u0441\",\"\\u0434\\u0440\\u0443\\u0433\\u0438\\u0435\",\"\\u0441\\u043c\\u043e\\u0442\\u0440\\u0435\\u0442\\u044c\",\"\\u043c\\u043e\\u0436\\u0435\\u0442\\u0435\",\"\\u043d\\u0430\\u0448\\u0430\",\"\\u043a\\u0440\\u0430\\u0441\\u043e\\u0442\\u0430\",\"\\u0440\\u0430\\u0431\\u043e\\u0442\\u0430\\u0442\\u044c\",\"\\u043a\\u043e\\u043b\",\"\\u043d\\u0430\\u0439\\u0442\\u0438\",\"\\u043f\\u043e\\u043c\\u043e\\u0449\\u044c\",\"7\",\"\\u043d\\u0440\\u0430\\u0432\\u0438\\u0442\\u0441\\u044f\",\"\\u043c\\u043e\\u043b\\u043e\\u0434\\u0446\\u044b\",\"\\u043e\\u0441\\u043e\\u0431\\u0435\\u043d\\u043d\\u043e\",\"\\u043f\\u043e\\u043c\\u043d\\u044e\",\"\\u043f\\u0440\\u043e\\u0434\\u0430\\u043c\",\"\\ud83d\\udc4e\",\"\\u0440\\u0430\\u0431\\u043e\\u0442\\u044b\",\"\\u0441\\u0432\\u043e\\u0451\",\"\\u0434\\u043e\\u043b\\u0433\\u043e\",\"\\u0432\\u0447\\u0435\\u0440\\u0430\",\"\\u0442\\u0432\\u043e\\u0438\",\"\\u043a\\u0443\\u043f\\u0438\\u0442\\u044c\",\"\\u0434\\u0440\\u0443\\u0433\\u043e\\u0439\",\"\\u0432\\u0440\\u043e\\u0434\\u0435\",\"\\u043f\\u0438\\u0441\\u0430\\u0442\\u044c\",\"\\u0441\\u043a\\u0430\\u0436\\u0438\\u0442\\u0435\",\"\\u0447\\u0435\",\"\\u043c\\u0435\\u0441\\u0442\\u0435\",\"\\u0433\\u043e\\u0432\\u043e\\u0440\\u044f\\u0442\",\"15\",\"\\u0441\\u0442\\u0440\\u0430\\u043d\\u0443\",\"\\u0445\\u043e\\u0447\\u0435\\u0442\",\"6\",\"\\u0445\\u043e\\u0440\\u043e\\u0448\\u0435\\u0433\\u043e\",\"\\u0434\\u0435\\u043b\\u0430\",\"\\u0437\\u0434\\u0440\\u0430\\u0432\\u0441\\u0442\\u0432\\u0443\\u0439\\u0442\\u0435.\",\"\\u043f\\u043e\\u0434\\u0441\\u043a\\u0430\\u0436\\u0438\\u0442\\u0435\",\"\\u043f\\u043b\\u043e\\u0445\\u043e\",\"\\u043a\\u043e\\u0442\\u043e\\u0440\\u0430\\u044f\",\"\\u0431\\u043e\",\":)\",\"\\u043d\\u0435\\u0441\\u043a\\u043e\\u043b\\u044c\\u043a\\u043e\",\"\\u043b\\u0438\\u0431\\u043e\",\"\\u0432\\u044b\\u043f\\u043e\\u043b\\u043d\\u0435\\u043d\",\"8\",\"\\u0433\\u043e\\u043b\\u043e\\u0432\\u0443\",\"\\u0440\\u0430\\u0437\\u043c\\u0435\\u0440\",\"\\u043f\\u0440\\u044f\\u043c\",\"\\u043d\\u0435\\u043c\\u043d\\u043e\\u0433\\u043e\",\"\\u0432\\u0430\\u0448\\u0435\\u0439\",\"\\u0441\\u0442\\u0440\\u0430\\u043d\\u0430\",\"\\u043c\\u0430\\u0442\\u044c\",\"\\u0440\\u0443\\u0431\\u043b\\u0435\\u0439\",\"\\u0440\",\"\\u0437\\u0435\\u043c\\u043b\\u044f\",\"30\",\"\\u043c\\u0435\\u0441\\u044f\\u0446\",\"\\u043d\\u0430\\u0445\\u0443\\u0439\",\"\\u0441\\u0442\\u0440\\u0430\\u043d\\u044b\",\"\\u0440\\u043e\\u0434\\u0438\\u0442\\u0435\\u043b\\u0438\",\"\\u043d\\u0430\\u0448\\u0435\",\"\\u0436\\u0435\\u043d\\u0449\\u0438\\u043d\\u0430\",\"....\",\"\\u043f\\u0438\\u0448\\u0438\\u0442\\u0435\",\"\\u043e\\u043e\\u043e\",\"\\u2014\",\"\\u0441\\u0430\\u043c\\u044b\\u0435\",\"\\u043f\\u0438\\u0434\\u043e\\u0440\\u044b\",\"\\u0434\\u0432\\u0435\",\"\\u0433\\u043b\\u0430\\u0437\\u0430\",\"\\u0431\\u043b\\u044f\\u0434\\u044c\",\"\\u0436\\u0430\\u043b\\u043a\\u043e\",\"!!!!\",\"\\u043d\\u0430\\u043f\\u0438\\u0448\\u0438\\u0442\\u0435\",\"\\u043c\\u0443\\u0436\",\"\\u043f\\u043e\\u043b\\u0443\\u0447\\u0430\\u0442\\u0435\\u043b\\u044c\",\"\\u0445\\u0432\\u0430\\u0442\\u0438\\u0442\",\"\\u043c\\u0435\\u043d\\u044c\\u0448\\u0435\",\"\\u0432\\u0434\\u0432\",\"\\u0432\\u0438\\u0434\\u0435\\u043e\",\"\\u043f\\u0440\\u0430\\u0437\\u0434\\u043d\\u0438\\u043a\\u043e\\u043c\",\"\\u0432\\u0435\\u0447\\u043d\\u0430\\u044f\",\"\\u043e\\u043d\\u043b\\u0430\\u0439\\u043d\",\"\\u0433\\u043e\\u0440\\u043e\\u0434\",\"..\",\"\\u043a\\u0430\\u043a\\u043e\\u0433\\u043e\",\"100\",\"\\u0434\\u0435\\u0432\\u043e\\u0447\\u043a\\u0438\",\"\\u0431\\u0443\\u0434\\u044c\",\"\\u0432\\u0437\\u044f\\u0442\\u044c\",\"\\u043a\\u0430\\u043a\\u0443\\u044e\",\"\\u0441\\u043f\\u0430\\u0441\\u0438\\u0431\\u043e,\",\"\\u0441\\u0447\\u0430\\u0441\\u0442\\u044c\\u0435\",\"\\u0434\\u043e\\u043b\\u0436\\u043d\\u0430\",\"\\u043b\\u044e\\u0431\\u0432\\u0438\",\"\\u0431\\u0431\",\"\\u043d\\u0430\\u0448\\u0435\\u0433\\u043e\",\"\\u0434\\u0435\\u0442\\u044f\\u043c\",\"\\u0442\\u0430\",\"\\u043d\\u0435\\u0451\",\"\\u043d\\u0435\\u0435\",\"\\u0440\\u043e\\u0441\\u0441\\u0438\\u044e\",\"\\u043a\\u0430\\u043a\\u043e\\u043c\",\"\\ud83d\\ude4f\",\"\\u0431\\u044b\\u0432\\u0430\\u0435\\u0442\",\"\\u0437\\u0430\\u0442\\u043e\",\"\\u043e\\u0431\\u044f\\u0437\\u0430\\u0442\\u0435\\u043b\\u044c\\u043d\\u043e\",\"\\u043e\\u0439\",\"\\u0433\\u043e\\u0441\\u043f\\u043e\\u0434\\u0438\",\"\\u0434\\u0443\\u0448\\u0438\",\")\",\"\\u0446\\u0435\\u043d\\u0443\",\"\\u0441\\u0443\\u043a\\u0438\",\"\\u0447\\u0442\\u043e,\",\"\\u043d\\u043e\\u0432\\u044b\\u0439\",\"\\u0447\\u0443\\u0442\\u044c\",\"\\u0446\\u0435\\u043d\\u044b\",\"\\u0435\",\"\\u043b\\u0438\\u0447\\u043d\\u043e\",\"\\u0433\\u043e\\u0432\\u043e\\u0440\\u0438\\u0442\",\"\\u043d\\u0430\\u0434\\u043e.\",\"\\u043d\\u0430\\u0441\\u0442\\u043e\\u044f\\u0449\\u0438\\u0439\",\"\\u0442\\u0435\\u043b\\u0435\\u0444\\u043e\\u043d\",\"\\u0441\\u0443\\u043c\\u043c\\u0430\",\"\\u0442\\u0432\\u043e\\u044f\",\"\\u0432\\u0440\\u0435\\u043c\\u0435\\u043d\\u0438\",\"\\u0442\",\"\\u0438\\u043d\\u043e\\u0433\\u0434\\u0430\",\"\\u0441\\u043b\\u043e\\u0432\\u043e\",\"\\u044f\\u0439\\u0446\\u0430\",\"\\u0431\\u044b\\u0441\\u0442\\u0440\\u043e\",\"\\u0432\\u0430\\u0448\\u0435\",\"\\u0434\\u043e\\u0431\\u0440\\u043e\\u0433\\u043e\",\"\\u043d\\u0435\\u0443\\u0436\\u0435\\u043b\\u0438\",\"\\u043f\\u043e\\u0441\\u043c\\u043e\\u0442\\u0440\\u0435\\u0442\\u044c\",\"\\u0445\\u043e\\u0442\\u0438\\u0442\\u0435\",\"\\u0434\\u0435\\u043b\\u0430\\u044e\\u0442\",\"\\u2013\",\"\\u043c\\u0435\\u0436\\u0434\\u0443\",\"\\u0437\\u043e\",\"\\u043a\\u0430\\u0440\\u0442\\u0443\",\"\\u0440\\u0430\\u0437\\u0432\\u0435\",\"\\u0437\\u0434\\u043e\\u0440\\u043e\\u0432\\u044c\\u044f,\",\"\\u0431\\u043e\\u0433\\u0430\",\"!!\",\"\\u043d\\u043e\\u0433\\u0438\",\"\\u0447\\u0451\",\"\\u0441\\u043d\\u0430\\u0447\\u0430\\u043b\\u0430\",\"\\u043c\\u0430\\u0441\\u043b\\u043e\",\"\\u0432\\u0442\\u043e\\u0440\\u043e\\u0439\",\"\\u0445\\u043e\\u0442\\u0435\\u043b\\u043e\\u0441\\u044c\",\"\\u043a\\u0442\\u043e-\\u0442\\u043e\",\"\\u0441\\u0435\\u0440\\u0434\\u0446\\u0435\",\"\\ud83c\\udf39\",\"\\u0431\\u0443\\u0434\\u044c\\u0442\\u0435\",\"\\u0445\\u043e\\u0440\\u043e\\u0448\\u0430\\u044f\",\"\\u0440\\u0430\\u0437\\u0430\",\"\\u0442\\u043e\\u0431\\u043e\\u0439\",\"\\u0441\\u0434\\u0435\\u043b\\u0430\\u043b\",\"\\u0447\\u043e\",\"\\u0441\\u0430\\u043c\\u0430\\u044f\",\"\\u0437\\u043e\\u043b\\u043e\\u0442\\u044b\\u0435\",\"\\u0443\\u0442\\u0440\\u043e\",\"\\u0434\\u043e\\u043b\\u0436\\u043d\\u043e\",\"\\u0431\\u044b\\u043b\\u043e.\",\"\\u0432\\u043c\\u0435\\u0441\\u0442\\u043e\",\"\\u0434\\u0435\\u043b\\u0430\\u0435\\u0442\",\"\\u0440\\u0430\\u0431\\u043e\\u0442\\u0443\",\"\\u0436\\u0438\\u043b\\u0438\",\"\\u0441\\u043a\\u043e\\u0440\\u0435\\u0435\",\"\\u0440\\u0430\\u0431\\u043e\\u0442\\u0430\\u0435\\u0442\",\"\\u043a\\u043e\\u0442\\u043e\\u0440\\u044b\\u0445\",\"\\u0441\\u043a\\u0430\\u0437\\u0430\\u043b\",\"\\u043b\\u044e\\u0431\\u043e\\u0439\",\"\\u0432\\u043e\\u0437\\u043c\\u043e\\u0436\\u043d\\u043e\",\"\\u0447\\u0431\",\"\\u0431\\u043b\\u044f\\u0442\\u044c\",\";)\",\"\\u0441\\u0442\\u044b\\u0434\\u043d\\u043e\",\"\\u0443\\u043c\\u0430\",\"\\u0445\\u043e\\u0440\\u043e\\u0448\\u0438\\u0435\",\"\\u0434\\u043d\\u0435\\u0439\",\"\\u0442\\u0430\\u043a\\u0438\\u043c\\u0438\",\"\\u0447\\u0435\\u043a\",\"\\u043c\\u0443\\u0436\\u0438\\u043a\",\"\\u043f\\u0440\\u044f\\u043c\\u043e\",\"\\u043e\\u0434\\u043d\\u0443\",\"\\u043f\\u043e\\u043b\\u043d\\u043e\\u0441\\u0442\\u044c\\u044e\",\"\\u043e\\u0433\\u0440\\u043e\\u043c\\u043d\\u043e\\u0435\",\"\\u043e\\u0441\\u0442\\u0430\\u043b\\u043e\\u0441\\u044c\",\"\\u0447\\u0430\\u0441\\u0442\\u043e\",\"\\u043a\\u0430\\u0436\\u0434\\u043e\\u0433\\u043e\",\":\",\"\\u0434\\u0430\\u0442\\u044c\",\"\\u0441\\u043d\\u043e\\u0432\\u0430\",\"\\u043a\\u043e\",\"\\u0433\",\"\\u0441\\u043e\\u0431\\u0430\\u043a\\u0430\",\"\\u043b\\u044e\\u0434\\u0438,\",\"\\u043d\\u0430\\u0432\\u0435\\u0440\\u043d\\u043e\",\"\\u0442\\u0430\\u043a,\",\"\\u0441\\u044b\\u043d\",\"\\u043a\\u0440\\u0430\\u0441\\u0438\\u0432\\u044b\\u0435\",\"\\u0441\\u043f\\u0430\\u0441\\u0438\\u0431\\u043e.\",\"\\u043f\\u0440\\u043e\\u0441\\u0442\\u043e\\u0439\",\"\\u0445\\u0443\\u0436\\u0435\",\"\\u043f\\u043e\\u0436\\u0430\\u043b\\u0443\\u0439\\u0441\\u0442\\u0430,\",\"\\u0443\\u0431\\u0438\\u0442\\u044c\",\"\\u0438\\u043c\\u0435\\u0435\\u0442\",\"\\u0445\\u043e\\u0437\\u044f\\u0439\\u0441\\u0442\\u0432\\u0435\",\"\\u0432\\u0438\\u0434\\u0438\\u043c\\u043e\",\"\\u0443\\u0437\\u043d\\u0430\\u0442\\u044c\",\"\\u0433\\u043e\\u0432\\u043e\\u0440\\u0438\\u0442\\u044c\",\"\\u043f\\u043e\\u043d\\u044f\\u0442\\u043d\\u043e\",\"\\u0441\\u0432\\u0435\\u0442\\u043b\\u0430\\u044f\",\"\\u043a\\u0430\\u043a\\u0438\\u0445\",\"50\",\"\\u0443\\u0431\\u0438\\u0432\\u0430\\u0442\\u044c\",\"\\u0434\\u0440\\u0443\\u0433\\u0438\\u043c\",\"\\u0431\\u0443\\u0434\\u0435\\u0448\\u044c\",\"\\u0432\\u043e\\u0434\\u044b\",\"\\u043d\\u0443\\u0436\\u043d\\u043e:\",\"\\u0443\\u0442\\u0440\\u043e\\u043c\",\"\\u043c\\u043e\\u0435\\u0433\\u043e\",\"\\u2764\",\"\\u043a\\u0435\\u043c\",\"\\u0442\\u0432\\u043e\\u044e\",\"\\u0441\\u043f\\u0430\\u0441\\u0438\\u0431\\u043e!\",\"\\u0441\\u0442\\u0430\\u043b\",\"\\u0431\\u0443\\u0434\\u0435\\u0442\\u0435\",\"\\u0441\\u0442\\u0430\\u043b\\u0438\",\"\\u0437\\u0434\\u0440\\u0430\\u0432\\u0441\\u0442\\u0432\\u0443\\u0439\\u0442\\u0435!\",\"\\u0437\\u043d\\u0430\\u044e\\u0442\",\"\\u0433\\u043e\\u0440\\u043e\\u0434\\u0435\",\"\\u043a\\u0440\\u0435\\u043f\\u043a\\u043e\\u0433\\u043e\",\"\\u0440\\u0435\\u0431\\u044f\\u0442\\u0430\",\"\\u043c\\u043e\\u0437\\u0433\\u0438\",\"\\u043f\\u0435\\u0440\\u0435\\u0432\\u043e\\u0434\",\"\\u0441\\u0442\\u0440\\u0435\\u043b\\u044f\\u0442\\u044c\",\"\\u0445\\u043e\\u0447\\u0435\\u0448\\u044c\",\"\\u0443\\u0436\\u0430\\u0441\",\"\\u0437\\u0431\",\"\\u043f\\u043e\\u0441\\u0430\\u0434\\u0438\\u0442\\u044c\",\"\\u0440\\u0443\\u0441\\u0441\\u043a\\u0438\\u0439\",\"\\u043c\\u0435\\u0441\\u0442\\u0430\",\"\\u043a\\u0440\\u0430\\u0441\\u0438\\u0432\\u044b\\u0439\",\"\\u0442\\u0432\\u0430\\u0440\\u0435\\u0439\",\"\\u043f\\u043e\\u043b\\u0443\\u0447\\u0430\\u0435\\u0442\\u0441\\u044f\",\"\\u0431\\u0443\\u0434\\u0442\\u043e\",\"\\u0438\\u0449\\u0443\",\"\\u0435\\u0441\\u0442\\u044c,\",\"\\u043d\\u0435\\u0447\\u0435\\u0433\\u043e\",\"9\",\"\\u0431\\u043b\\u0430\\u0433\\u043e\\u0434\\u0430\\u0440\\u044e\",\"\\u0440\\u0443\\u0431.\",\"\\u0441\\u0438\\u043b\\u044c\\u043d\\u043e\",\"\\u0435\\u0441\\u0442\\u044c.\",\"\\u0441\\u0430\\u043c\\u043e\\u043c\",\"\\u043f\\u0430\\u0440\\u0443\",\"(fr)\",\"\\u0441\\u0434\\u0435\\u043b\\u0430\\u043b\\u0438\",\"\\u0432\\u044b\\u0448\\u0435\",\"\\u0432\\u0438\\u0434\\u0435\\u043b\\u0430\",\"\\u043d\\u0438\\u043a\\u043e\\u043c\\u0443\",\"\\u0445\\u043e\\u0440\\u043e\\u0448\\u043e,\",\"\\u0431\\u0443\\u0434\\u0435\\u0442.\",\"\\u0442\\u044b\\u0441\\u044f\\u0447\",\"\\u0447\\u0451\\u043c\",\"\\u0440\\u0430\\u0431\\u043e\\u0442\\u0430\",\"\\u0434\\u0430\\u0442\\u0430\",\"\\u043f\\u043e\\u0441\\u0442\\u043e\\u044f\\u043d\\u043d\\u043e\",\"\\u043a\\u0430\\u0436\\u0435\\u0442\\u0441\\u044f\",\"\\u0442\\u044b,\",\"\\u043d\\u0438\\u043a\\u043e\\u0433\\u043e\",\"\\u043f\",\"\\u043b\\u0443\\u043a\\u0430\\u0448\\u0435\\u043d\\u043a\\u043e\",\"\\u043f\\u043e\\u043b\",\"\\u0437\\u0434\\u043e\\u0440\\u043e\\u0432\\u044c\\u0435\",\"\\u0440\\u0430\\u0437\\u043d\\u044b\\u0435\",\"\\u043f\\u043e\\u0445\\u043e\\u0436\\u0435\",\"\\u0442\\u043e\\u043c\\u0443\",\"\\u043c\",\"\\u0431\\u0440\\u0435\\u0434\",\"\\u043e\\u0431\\u043e\\u0436\\u0430\\u044e\",\"\\u043d\\u0438\\u043c\\u0438\",\"\\u0437\\u043d\\u0430\\u0442\\u044c\",\"\\u0434\\u0430\\u0432\\u0430\\u0439\\u0442\\u0435\",\"\\u0432\\u0430\\u0448\\u0438\\u0445\",\"\\u0440\\u0430\\u0434\\u0438\",\"\\u0441\\u043a\\u0430\\u0437\\u0430\\u043b\\u0438\",\"\\u0432\\u0438\\u0436\\u0443\",\"\\u0434\\u0430\\u043b\\u0438\",\"\\u0434\\u0443\\u0440\\u0430\",\"\\u043e\\u0434\\u043d\\u0438\\u043c\",\"\\u0447\\u0435\\u043c\\u0443\",\"\\u043f\\u043e\\u043b\\u043d\\u044b\\u0439\",\"\\u0438\\u0434\\u0451\\u0442\",\"\\u0437\\u0430\\u0431\\u0440\\u0430\\u0442\\u044c\",\"\\u0447\\u0430\\u0441\\u0442\\u044c\",\"\\u043b\\u0438\\u0447\\u043a\\u0443\",\"\\u043d\\u0430\\u0448\\u0443\",\"\\u0441\\u043e\\u0431\\u043e\\u0439\",\"\\u0441\\u043e\\u0433\\u043b\\u0430\\u0441\\u043d\\u0430\",\"\\u043d\\u0430\\u0440\\u043e\\u0434\\u0443\",\"\\u043f\\u043e\\u0441\\u043c\\u043e\\u0442\\u0440\\u0438\\u0442\\u0435\",\"\\u0432\\u0430\\u0448\\u0443\",\"\\u043a\\u043e\\u0434\",\"\\u0438\\u0437-\\u0437\\u0430\",\"\\u0432\\u0430\\u0448\\u0438\\u043c\",\"40\",\"\\u043d\\u0430\\u0434\\u043e,\",\"\\u043e\\u0447\",\"\\u0440\\u0435\\u0431\\u0435\\u043d\\u043a\\u0430\",\"\\u0440\\u0435\\u0446\\u0435\\u043f\\u0442\",\"\\u0447\\u043c\\u043e\",\"\\u0442\\u043e\\u0433\\u043e,\",\"\\u043d\\u0435\\u0434\\u0435\\u043b\\u044e\",\"\\u043d\\u0430\\u043f\\u0438\\u0441\\u0430\\u043d\\u043e\",\"\\u043f\\u0440\\u0438\\u0448\\u043b\\u0438\",\"\\u0434\\u0435\\u043d\\u044c.\",\"\\u0441\\u0442\\u0440\\u0430\\u0448\\u043d\\u043e\",\"\\u0441\\u043b\\u0438\\u0448\\u043a\\u043e\\u043c\",\"\\u043e\\u043a\\u043e\\u043b\\u043e\",\"\\u0432\\u0434\\u0440\\u0443\\u0433\",\"\\u0436\\u0434\\u0430\\u0442\\u044c\",\"\\u0441\\u0442\\u0430\\u0442\\u0443\\u0441\",\"\\u0433.\",\"\\u0443\\u043b\\u0438\\u0446\\u0435\",\"\\u043f\\u0435\\u043d\\u0441\\u0438\\u0438\",\"\\u0434\\u0432\\u0443\\u0445\",\"\\u0434\\u043e\\u0431\\u0440\\u044b\\u0435\",\"\\u043c\\u0438\\u0440\\u0435\",\"\\u044f\\u0437\\u044b\\u043a\",\"\\u043f\\u0435\\u043d\\u0441\\u0438\\u044e\",\"\\u0434\\u0435\\u0432\\u043e\\u0447\\u043a\\u0430\",\"\\u0431\\u043e\\u043b\\u044c\\u0448\\u0430\\u044f\",\"\\u043f\\u0438\\u0448\\u0443\\u0442\",\"\\u0433\\u043e\\u0441\\u043f\\u043e\\u0434\\u044c\",\"\\u043f\\u043e\\u043d\\u0438\\u043c\\u0430\\u044e\",\"\\u0430\\u0432\\u0442\\u043e\\u0440\",\"\\u0443\\u0440\\u043e\\u0434\\u043e\\u0432\",\"\\u0441\\u0442\\u0430\\u043b\\u043e\",\"\\u0440\\u0435\\u0430\\u043b\\u044c\\u043d\\u043e\",\"\\u0443\\u0442\\u0440\\u0430\",\"\\u0443\\u0440\\u043e\\u0434\",\"\\u0435\\u0441\\u0442\\u044c?\",\"\\u0433\\u043e\\u0440\\u043e\\u0434\\u0430\",\"\\u043e\\u0442\\u0432\\u0435\\u0442\",\"\\u0442\\u0430\\u043a!\",\"\\u0432\\u0430\\u0448\\u0430\",\"\\u0441\\u043c\\u043e\\u0442\\u0440\\u044e\",\"12\",\"\\u043a\\u043e\\u043d\\u0435\\u0447\\u043d\\u043e,\",\"\\u0436\\u0435\\u043d\\u0449\\u0438\\u043d\\u044b\",\"\\u043d\\u0435\\u043a\\u043e\\u0442\\u043e\\u0440\\u044b\\u0435\",\"\\u0433\\u043e\\u0434\\u044b\",\"\\u0441\\u0435\\u043c\\u044c\\u044f\",\"\\u043b\",\"\\u0445\\u043e\\u0442\\u0435\\u043b\\u0430\",\"\\u0438\\u043d\\u0442\\u0435\\u0440\\u0435\\u0441\\u043d\\u043e,\",\"\\u0433\\u0440\\u0443\\u043f\\u043f\\u0430\",\"\\u0441\\u043b\\u0443\\u0447\\u0430\\u0435\",\"\\u0444\\u0438\\u043b\\u044c\\u043c\",\"\\u043b\\u044e\\u0431\\u0438\\u043c\\u044b\\u0439\",\"\\u0438\\u043d\\u0430\\u0447\\u0435\",\"\\u043f\\u043e\\u0431\\u043e\\u043b\\u044c\\u0448\\u0435\",\"\\u043d\\u0443,\",\"\\u043c\\u0441\\u043a\\u0443\",\"\\u043d\\u0438\\u043a\\u0430\\u043a\",\"???\",\"\\u0434\\u043e\\u043a\\u0443\\u043c\\u0435\\u043d\\u0442\\u0430\",\"\\u0438\\u0434\\u0435\\u0442\",\"\\u043f\\u0440\\u0438\\u044f\\u0442\\u043d\\u043e\",\"\\u043d\\u0430\\u0437\\u044b\\u0432\\u0430\\u0435\\u0442\\u0441\\u044f\",\"\\u0434\\u043e\\u043b\\u0433\\u0438\\u0445\",\"\\u043c\\u043d\\u043e\\u0433\\u0438\\u0445\",\"\\u0437\\u0430\\u043a\\u0430\\u0437\",\"\\u0447\\u0438\\u0442\\u0430\\u0442\\u044c\",\"\\u0434\\u043e\\u0440\\u043e\\u0433\\u0438\\u0435\",\"\\u043e\\u0447\\u043a\\u043e\",\"\\u043e\\u0442\\u0432\\u0435\\u0442\\u0438\\u0442\\u044c\",\"\\u0430\\u0434\\u0440\\u0435\\u0441\",\"\\u0434\\u0430\\u0432\\u0430\\u0439\",\"\\u0441\\u0438\\u0434\\u0435\\u0442\\u044c\",\"\\u0440\\u0435\\u0431\\u0435\\u043d\\u043e\\u043a\",\"\\u0432\\u043e\\u043f\\u0440\\u043e\\u0441\\u044b\",\"\\u0445\\u043e\\u0442\\u0435\\u043b\",\"\\u0440\\u043e\\u0434\\u0438\\u0442\\u0435\\u043b\\u0435\\u0439\",\"\\u0441\\u0430\\u043c\\u043e\\u0439\",\"\\u0437\\u043d\\u0430\\u0435\\u0442\\u0435\",\"\\u0447\\u0443\\u0434\\u043e\",\"\\u043c\\u0438\\u0440\\u0430\",\"\\u043d\\u0430\\u0445\\u043e\\u0434\\u0438\\u0442\\u0441\\u044f\",\"\\u0441\\u044b\\u043d\\u0430\",\"\\u043d\\u043e\\u0432\\u044b\\u0435\",\"\\u0443\\u0441\\u043f\\u0435\\u0445\\u043e\\u0432\",\"\\u0448\\u043a\\u043e\\u043b\\u0435\",\"\\u043b\\u044e\\u0431\\u0438\\u0442\",\"\\u0434\\u0435\\u043d\\u044c,\",\"\\u0432\\u0441\\u0435\\u043c\\u0443\",\"\\u0434\\u0440\\u0443\\u0433\\u0430\",\"\\u043e\\u0441\\u0442\\u0430\\u043b\\u044c\\u043d\\u044b\\u0435\",\"\\u0441\\u0440\\u0435\\u0434\\u0438\",\"\\u0442\\u0430\\u043a\\u043e\\u043c\",\"\\u043b\\u0435\\u0442,\",\"\\u0431\\u044b\\u043b\\u043e,\",\"\\u0443\\u0440\\u043e\\u0434\\u044b\",\"\\u0440\\u0430\\u0439\\u043e\\u043d\\u0435\",\"\\u0432\\u043e\\u0437\\u043b\\u0435\",\"\\u043e\\u0442\\u0435\\u0446\",\"\\u0432\\u0441\\u0435,\",\"\\u043d\\u0430\\u0448\\u0438\\u043c\",\"\\u0442\\u0435\\u043b\\u0435\\u0444\\u043e\\u043d\\u0430\",\"\\u043b\\u0435\\u0442.\",\"\\u0443\\u043a\\u0440\\u0430\\u0438\\u043d\\u0435\",\"\\u0442\\u0430\\u043a.\",\"\\u0441\\u0438\\u0434\\u044f\\u0442\",\"\\u0440\\u0444\",\"\\u0436\\u0438\\u0437\\u043d\\u0438.\",\"\\u043f\\u043e\\u043d\\u044f\\u0442\\u044c\",\"\\u0434\\u0430\\u043b\\u0435\\u043a\\u043e\",\"\\u0436\\u0438\\u0432\\u0443\",\"\\u0438\\u043c\\u0435\\u0442\\u044c\",\"\\u043e\\u043f\\u0435\\u0440\\u0430\\u0446\\u0438\\u044f\",\"\\u0432\\u0438\\u0434\\u0435\\u043b\",\"\\u043c\\u043d\\u0435\\u043d\\u0438\\u0435\",\"\\u043f\\u043e\\u0441\\u043b\\u0435\\u0434\\u043d\\u0438\\u0439\",\")))\",\"\\u0434\\u043e\\u043c\\u043e\\u0439\",\"\\u0442\\u0430\\u043a\\u0438\",\"\\u043d\\u0438\\u0437\\u043a\\u0438\\u0439\",\"\\u0432\\u043e\\u0434\\u0430\",\"\\u043f\\u043e\\u0437\\u043e\\u0440\",\"\\u0441\\u0438\\u043b\",\"\\u0432\\u0435\\u0447\\u0435\\u0440\",\"\\u043f\\u043e\\u043b\\u0443\\u0447\\u0438\\u0442\\u044c\",\"\\u0442\\u043e\\u043c,\",\"\\u043c\\u043e\\u0435\\u043c\\u0443\",\"\\u043c\\u043e\\u0436\\u0435\\u0448\\u044c\",\"\\u043c\\u0440\\u0430\\u0437\\u0438\",\"\\u0434\\u043e\\u0431\\u0430\\u0432\\u0438\\u0442\\u044c\",\"\\u043c\\u0443\\u0436\\u0447\\u0438\\u043d\\u0430\",\"\\u0442\\u0438\\u043f\\u0430\",\"\\u043a\\u043e\\u043c\\u0438\\u0441\\u0441\\u0438\\u044f\",\"\\u0433\\u0440\\u0443\\u043f\\u043f\\u044b\",\"\\u043e\\u0442\\u0434\\u0430\\u043c\",\"\\u0445\\u0440\\u0435\\u043d\",\"\\u0441\\u043e\\u0436\\u0430\\u043b\\u0435\\u043d\\u0438\\u044e\",\"\\u0445\\u043e\\u0440\\u043e\\u0448\\u043e.\",\"\\u043c\\u043e\\u043b\\u043e\\u0434\\u0435\\u0446,\",\"\\u043f\\u0440\\u043e\\u0448\\u0443\",\"\\u043f\\u0430\\u043f\\u0430\",\"\\u0441\\u044e\\u0434\\u0430\",\"\\u0437\\u0430\\u043a\\u043e\\u043d\",\"\\u043c\\u0443\\u0436\\u0438\\u043a\\u0438\",\"\\u043c\\u043e\\u0433\\u043b\\u0438\",\"\\u0445\\u043e\\u0434\\u0438\\u0442\\u044c\",\"\\u043d\\u0430\\u0448\\u043b\\u0438\",\"\\u0431\\u0430\\u0431\\u0443\\u0448\\u043a\\u0430\",\"\\u0434\\u043e\\u043c\\u0435\",\"\\ud83d\\udc4d\\ud83d\\udc4d\\ud83d\\udc4d\",\"\\u043f\\u0440\\u0438\\u043c\\u0435\\u0440\",\"\\u0434\\u0435\\u0432\\u0443\\u0448\\u043a\\u0430\",\"\\u0441\\u0438\\u0434\\u0438\\u0442\",\"\\u043c\\u043e\\u043b\\u043e\\u0434\\u0435\\u0446!\",\"\\u043f\\u0440\\u0435\\u0437\\u0438\\u0434\\u0435\\u043d\\u0442\",\"\\u0447\\u0430\\u0441\\u043e\\u0432\",\"\\u043d\\u0430\\u043f\\u0438\\u0441\\u0430\\u0442\\u044c\",\"\\u0436\\u0435,\",\"\\u0437\\u0440\\u044f\",\"\\u0438\\u0434\\u0442\\u0438\",\"\\u043a\\u043e\\u0442\\u043e\\u0440\\u043e\\u0439\",\"\\u043f\\u043e\\u0432\\u0435\\u0441\\u0438\\u0442\\u044c\",\"\\u043c\\u0430\\u0433\\u0430\\u0437\\u0438\\u043d\",\"\\u0431\\u0440\\u0430\\u0432\\u043e\",\"\\u0434\\u0440\\u0443\\u0437\\u0435\\u0439\",\"\\u043b\\u044e\\u0431\\u0438\\u0442\\u044c\",\"\\u0438\\u0433\\u0440\\u0430\",\"\\u043c\\u0435\\u0441\\u044f\\u0446\\u0430\",\"\\u0432\\u044b\\u043f\\u043b\\u0430\\u0442\\u044b\",\"\\u043c\\u0430\\u0441\\u043a\\u0438\",\"\\u0445\\u043b\\u0435\\u0431\",\"\\u0440\\u043e\\u0441\\u0441\\u0438\\u0438.\",\"\\u043b\\u044e\\u0434\\u0435\\u0439,\",\"\\u043c\\u0438\\u043d\\u0443\\u0442\",\"\\u0442\\u043e\\u0439\",\"\\u0432\\u0435\\u0449\\u044c\",\"\\u0431\\u0440\\u0430\\u0442\\u044c\",\"\\u0446\\u0430\\u0440\\u0441\\u0442\\u0432\\u0438\\u0435\",\"\\u0432\\u043e\\u0434\\u0443\",\"\\u0432\\u043a\\u0443\\u0441\\u043d\\u043e\",\"\\u043c\\u043e\\u0438\\u0445\",\"\\u0432\\u043d\\u0438\\u043c\\u0430\\u043d\\u0438\\u0435\",\"\\u0440\\u043e\\u0434\\u0438\\u0442\\u0435\\u043b\\u044f\\u043c\",\"\\u043d\\u0435\\u043c\",\"\\u043c\\u043e\\u0433\",\"\\u0441\\u043e\\u0441\\u0430\\u0442\\u044c\",\"\\u0440\\u0430\\u0431\\u043e\\u0442\\u0430\\u044e\\u0442\",\"\\u0441\\u043b\\u0443\\u0436\\u0438\\u043b\",\"\\u0441\\u0442\\u043e\\u0440\\u043e\\u043d\\u044b\",\"\\u0430\\u0432\\u0433\\u0443\\u0441\\u0442\",\"\\u0438\\u043c\\u044f\",\"\\u043d\\u0430\\u043c\\u0438\",\"\\u043d\\u043e\\u0440\\u043c\\u0430\\u043b\\u044c\\u043d\\u043e\",\"\\u0434\",\"\\u0438\\u0434\\u0443\\u0442\",\"\\u043d\\u0430\\u0448\\u0435\\u043c\",\"8oi\",\"\\u043c\\u043e\\u0440\\u0435\",\"\\u043f\\u0440\\u0435\\u0436\\u0434\\u0435\",\"\\u0432\\u0435\\u0447\\u0435\\u0440\\u043e\\u043c\",\"\\u0434\\u0443\\u0448\\u0430\",\"\\u0432\\u043e\\u0439\\u043d\\u044b\",\"\\u043b\\u0435\\u0442\\u043e\",\"\\u043f\\u044f\\u0442\\u044c\",\"\\u043a\\u043e\\u0442\",\"\\u0436\\u0438\\u0432\\u0451\\u0442\",\",\\u0438\",\"\\u0441\\u0442\\u043e\\u044f\\u0442\",\"\\u043d\\u0438\\u043a\\u0430\\u043a\\u0438\\u0445\",\"\\u0432\\u0431\",\"\\u0434\\u0435\\u043b\\u0430\\u044e\",\"\\u043a\\u0440\\u0430\\u0441\\u043e\\u0442\\u0443\",\"\\ud83d\\udc4f\",\"\\u043a\\u0433\",\"\\u0441\\u0435\\u043c\\u044c\\u0438\",\"\\u043f\\u043e\\u043a\\u043b\\u043e\\u043d\",\":-)\",\"\\u043f\\u043e\\u0434\\u0441\\u043e\\u043b\\u043d.\",\"\\u043e\\u0447\\u0435\\u0440\\u0435\\u0434\\u043d\\u043e\\u0439\",\"\\u0441\\u0448\\u0430\",\"\\u0431\\u0447\",\"\\u043d\\u0435\\u0431\\u0435\\u0441\\u043d\\u043e\\u0435\",\"\\u043a\\u043e\\u0442\\u043e\\u0440\\u043e\\u0433\\u043e\",\"\\u043f\\u0440\\u0430\\u0432\\u043e\",\"\\u0434\\u0435\\u0431\\u0438\\u043b\",\"\\u0431\\u043b\\u044f\",\"\\u043b\\u044e\\u0434\\u0435\\u0439.\",\"\\u0441\\u0440\\u043e\\u0447\\u043d\\u043e\",\"\\u0441\\u0447\\u0451\\u0442\",\"\\u0434\\u0435\\u0442\\u044c\\u043c\\u0438\",\"\\u043a\\u0432\\u0430\\u0440\\u0442\\u0438\\u0440\\u0443\",\"\\u043f\\u0440\\u0435\\u043b\\u0435\\u0441\\u0442\\u044c\",\"\\u0437\\u043d\\u0430\\u044e,\",\"\\u043a\\u0430\\u0436\\u0434\\u043e\\u043c\\u0443\",\"\\u043e\\u0434\\u043d\\u043e\\u043c\",\"\\u0434\\u0443\\u0448\\u0435\",\"\\u0434\\u0430\\u044e\\u0442\",\"\\u043c\\u043e\\u0451\",\"\\u0443\\u0440\\u043e\\u0432\\u0435\\u043d\\u044c\",\"\\u0434\\u043e\\u0431\\u0440\\u0430\",\"\\u043a\\u043e\\u043d\\u0446\\u0430\",\"\\u0431\\u043e\\u0433\\u0443\",\"\\u043a\\u0430\\u043a\\u0438\\u043c\",\"\\u0436\\u0438\\u0432\\u0435\\u0442\",\";-)\",\"\\u043f\\u0440\\u0435\\u043a\\u0440\\u0430\\u0441\\u043d\\u043e\",\"\\u0437\\u0430\\u043a\\u0430\\u0437\\u0430\\u0442\\u044c\",\"\\u043e\\u0441\\u0442\\u0430\\u043b\\u044c\\u043d\\u043e\\u0435\",\"\\u0441\\u0442\\u0430\\u043b\\u0430\",\",\\u043a\\u0430\\u043a\",\"\\u0445\\u043e\\u0440\\u043e\\u0448\\u0435\\u0435\",\"\\u043a\\u0443\\u043f\\u043b\\u044e\",\"\\u0447\\u0435\\u043b\\u043e\\u0432\\u0435\\u043a,\",\"\\u0431\\u0435\\u0441\\u043f\\u043b\\u0430\\u0442\\u043d\\u043e\",\"\\u0435\\u0431\\u0430\\u0442\\u044c\",\"\\u0433\\u043d\\u0430\\u0442\\u044c\",\"\\u0440\\u0430\\u0431\\u043e\\u0442\\u0435\",\"\\u0430\\u0436\",\"\\u043d\\u0435\\u0442\\u0443\",\"\\u0441\\u0443\\u0434\\u0438\\u0442\\u044c\",\"\\u043f\\u0440\\u0430\\u0432\\u0430\",\"\\u043e\\u0442\\u043f\\u0440\\u0430\\u0432\\u0438\\u0442\\u0435\\u043b\\u044c\",\"\\u0434\\u0435\\u043b\\u0435\",\"\\u043a\\u043e\\u0442\\u043e\\u0440\\u0443\\u044e\",\"\\u0436\\u0435\\u043d\\u0430\",\"\\u0441\\u0435\\u043c\\u044c\\u0435\",\"\\u043c\\u0430\\u043c\\u044b\",\"\\u043c\\u043e\\u043c\\u0435\\u043d\\u0442\",\"\\u0432\\u0441\\u0435.\",\"\\u0447\\u043b\\u0435\\u043d\",\"\\u043c\\u043e\\u044e\",\"\\u043e\\u043f\\u043b\\u0430\\u0442\\u0438\\u043b\\u0430\",\"\\u0442\\u0432\\u043e\\u0435\\u0439\",\"\\u043f\\u043e\\u043b\\u0443\\u0447\\u0438\\u043b\",\"\\u0434\\u043e\\u0440\\u043e\\u0433\\u0438\",\"\\u0443\\u0441\\u043f\\u0435\\u0448\\u043d\\u043e\",\"\\u0432\\u043e\\u0439\\u0441\\u043a\\u0430\",\"\\u0432\\u044b\\u043f\\u043e\\u043b\\u043d\\u0438\\u0442\\u044c\",\"\\u0437\\u043d\\u0430\\u0435\\u0448\\u044c\",\"\\u043a\\u0430\\u043a-\\u0442\\u043e\",\"\\u0441\\u0442\\u0430\\u043d\\u0435\\u0442\",\"\\u0431\\u0443\\u0434\\u0435\\u0442,\",\"\\u0437\\u0435\\u043c\\u043b\\u0435\",\"\\u0432\\u0440\\u0435\\u043c\\u0435\\u043d\\u0430\",\"\\u043f\\u043e\\u0434\\u0434\\u0435\\u0440\\u0436\\u043a\\u0430\",\"\\u043f\\u0438\\u0434\\u043e\\u0440\\u0430\\u0441\\u044b\",\"\\u043c\\u0441\\u043a\",\"\\u043d\",\"\\u0434\\u0430\\u0439\\u0442\\u0435\",\"\\u0442\\u0435\\u043b\",\"\\u043d\\u0430\\u0434\\u0435\\u044e\\u0441\\u044c\",\"\\u0432\\u0435\\u0440\\u043d\\u0443\\u0442\\u044c\",\"\\u0447\\u0442\\u043e?\",\"\\u0433\\u043e\\u0441\\u0443\\u0434\\u0430\\u0440\\u0441\\u0442\\u0432\\u043e\",\"\\u043f\\u043e\\u0448\\u043b\\u0438\",\"\\u0434\\u0435\\u0442\\u0441\\u043a\\u0438\\u0435\",\"\\u043f\\u0435\\u0440\\u0432\\u0443\\u044e\",\"\\u043f\\u043b\\u0430\\u0442\\u0435\\u0436\",\"\\u043c\\u0430\\u043b\\u0435\\u043d\\u044c\\u043a\\u0438\\u0439\",\"200\",\"\\u0431\\u0438\\u0442\\u044c\",\"\\u0441\\u043c\\u0435\\u0440\\u0442\\u044c\",\"\\u0434\\u0430\\u043b\",\"\\u043b\\u044e\\u0431\\u044f\\u0442\",\"16\",\"\\u0441\\u0442\\u043e\",\"\\u043a\\u0440\\u0430\\u0441\\u0430\\u0432\\u0438\\u0446\\u0430\",\"\\u0441\\u0432\\u044f\\u0437\\u0438\",\"\\u0442\\u0435\\u0440\\u043f\\u0435\\u043d\\u0438\\u044f\",\"\\u0432\\u0438\\u0434\\u0435\\u0442\\u044c\",\"\\u0440\\u0435\\u0431\\u0451\\u043d\\u043a\\u0430\",\"\\u0437\\u0430\\u0432\\u0438\\u0441\\u0438\\u0442\",\"\\u0440\\u043e\\u0434\\u0438\\u043d\\u0443\",\"\\u0446\\u0432\\u0435\\u0442\\u044b\",\"\\u0446\\u0435\\u043d\\u0430?\",\"--\",\"\\u0440\\u0430\\u0434\\u043e\\u0441\\u0442\\u044c\",\"\\u0441\\u0442\\u0430\\u0432\\u0438\\u0442\\u044c\",\"\\u043a\\u043b\\u0430\\u0441\\u0441\\u043d\\u043e\",\"\\u0440\\u043e\\u0436\\u0434\\u0435\\u043d\\u0438\\u044f!\",\"\\u0436\\u043e\\u043f\\u0430\",\"\\u0441\\u0443\\u0434\",\"\\ud83d\\udc8b\",\"\\u0446\\u0432\\u0435\\u0442\",\"\\u0436\\u0434\\u0443\",\"\\u043f\\u043b\\u0430\\u0442\\u0438\\u0442\\u044c\",\"\\u0445\\u0440\\u0430\\u043d\\u0438\",\"\\u043f\\u0438\\u0448\\u0438\",\",\\u043d\\u043e\",\"\\u043c\\u0430\\u043c\\u0443\",\"\\u043a\\u043e\\u0440\\u043c\\u0438\\u0442\\u044c\",\"\\u043a\\u043b\\u0430\\u0441\\u0441\\u043d\\u044b\\u0439\",\"\\u043e\\u0442\\u043f\\u0440\\u0430\\u0432\\u0438\\u0442\\u044c\",\"\\u043b\\u0435\\u0433\\u043a\\u043e\",\"\\u0440\\u0443\\u0441\\u0441\\u043a\\u0438\\u0445\",\"\\u0440\\u0443\\u0441\\u0441\\u043a\\u0438\\u0435\",\"\\u043e\\u0431\\u043b\\u0430\\u0441\\u0442\\u0438\",\"\\u043a\\u043c\",\"\\u0431\\u043b\\u0438\\u043d\",\"\\u0433\\u0440\\u0443\\u043f\\u043f\\u0435\",\"\\u043f\\u043e\\u0448\\u043b\\u0430\",\"\\u0431\\u0437\",\"\\u0441\\u0442\\u0430\\u0440\\u044b\\u0439\",\"\\u0442\\u0443\",\"\\u0434\\u043e\\u0431\\u0440\\u044b\\u043c\",\"\\u043f\\u0440\\u0430\\u0437\\u0434\\u043d\\u0438\\u043a\",\"\\u043b\\u0438\\u0446\\u043e\",\"\\u0441\\u0432\\u043e\\u043b\\u043e\\u0447\\u044c\",\"\\u043f\\u043e\\u0437\\u0432\\u043e\\u043d\\u0438\\u0442\\u0435\",\"\\u0434\\u0435\\u0431\\u0438\\u043b\\u044b\",\"\\u0433\\u043e\\u043b\\u043e\\u0432\\u0435\",\"\\u0441\\u0432\\u043e\\u0435\\u043c\\u0443\",\"\\u043b\\u044e\\u0431\\u0438\\u043c\\u0430\\u044f\",\"\\u043e\\u043b\\u044c\\u0433\\u0430\",\"\\u0441\\u043e\\u0431\\u0430\\u043a\\u0438\",\"\\u043f\\u0438\\u0442\\u044c\",\"\\u0437\\u0430\\u0440\\u043f\\u043b\\u0430\\u0442\\u0443\",\"\\u043a\\u043e\\u043c\\u043c\\u0435\\u043d\\u0442\\u0430\\u0440\\u0438\\u0438\",\"\\u0447\\u0430\\u0441\",\"\\u0441\\u0435\\u0440\\u0433\\u0435\\u0439\",\"\\u043e\\u0437\",\"\\u043f\\u043e\\u0441\\u0442\\u0430\\u0432\\u0438\\u0442\\u044c\",\"+\",\"\\u043c\\u043d\\u043e\\u0439\",\"\\u0434\\u0435\\u0440\\u0436\\u0430\\u0442\\u044c\",\"\\u043f\\u043b\\u0430\\u0442\\u0435\\u0436\\u0430\",\"\\u043f\\u0440\\u043e\\u0431\\u043b\\u0435\\u043c\\u044b\",\"\\u0433\\u043e\\u0432\\u043e\\u0440\\u044e\",\"\\u0430,\",\"\\u043a\\u043e\\u043d\\u0446\\u0435\",\"\\u043c\\u0430\\u043b\\u044b\\u0448\",\"\\u043d\\u0430\\u0447\\u0430\\u043b\\u0430\",\"\\u043f\\u0443\\u0441\\u043a\\u0430\\u0439\",\"\\u043f\\u043e\\u043c\\u043e\\u0447\\u044c\",\"500\",\"\\u0437\\u0434\\u043e\\u0440\\u043e\\u0432\\u043e\",\"\\u0437\\u0430\\u0434\\u0430\\u0447\\u0443\",\"\\u043b\\u0443\\u0447\\u0448\\u0438\\u0439\",\"25\",\"\\u0432\\u0430\\u0441,\",\"\\u0438,\",\"\\u0443\\u0434\\u043e\\u0432\\u043e\\u043b\\u044c\\u0441\\u0442\\u0432\\u0438\\u0435\\u043c\",\"\\u0443\\u0431\\u0440\\u0430\\u0442\\u044c\",\"\\u0432\\u0430\\u043c,\",\"\\u0432\\u0441\\u044f\\u043a\\u0443\\u044e\",\"\\u043f\\u0440\\u0435\\u0437\\u0438\\u0434\\u0435\\u043d\\u0442\\u0430\",\"\\u0440\\u0435\\u0431\\u0451\\u043d\\u043e\\u043a\",\"\\u0432\\u0430\\u0448\\u0435\\u0433\\u043e\",\"90\",\"\\u0431\\u043e\\u0436\\u0435\",\"\\u0440\\u0443\\u043a\\u0443\",\"\\u044f,\",\"\\u0434\\u0440\\u0443\\u0433\\u043e\\u0433\\u043e\",\"\\u0440\\u043e\\u0434\\u043d\\u044b\\u043c\",\"\\u043e\\u0431\\u044b\\u0447\\u043d\\u043e\",\"\\u043f\\u043e\\u0432\\u043e\\u0434\\u0443\",\"\\u043f\\u0435\\u0441\\u043d\\u0438\",\"\\u0442\\u044f\\u0436\\u0435\\u043b\\u043e\",\"\\u0432\\u0438\\u0434\\u0435\\u043b\\u0438\",\"\\u0432\\u043e\\u0437\\u0440\\u0430\\u0441\\u0442\",\"300\",\"\\u0434\\u0435\\u043d\\u044c!\",\"14\",\"\\u043f\\u043e\\u043c\\u043e\\u0433\\u0430\\u0435\\u0442\",\"\\u0440\\u0430\\u0441\\u0442\\u0440\\u0435\\u043b\\u044f\\u0442\\u044c\",\"\\u0440\\u0435\\u043c\\u043e\\u043d\\u0442\",\"\\u0442\\u0435\\u043b\\u0435\\u0444\\u043e\\u043d\\u0443\",\"\\u043f\\u043e\\u0442\\u0435\\u0440\\u0438\",\"\\u0434\\u043e\\u0447\\u044c\",\"\\u0432\\u0441\\u0435\\u043c\\u0438\",\"\\u043c\\u0438\\u043b\\u0430\\u044f\",\"\\u0445\\u0432\\u0430\\u0442\\u0430\\u0435\\u0442:\",\"(h)\",\"\\u043f\\u0440\\u0438\\u0447\\u0435\\u043c\",\"\\u043c\\u043e\\u0435\",\"\\u043f\\u0438\\u0437\\u0434\\u0435\\u0446\",\"\\u0440\\u0430\\u0434\\u043e\\u0441\\u0442\\u0438\",\"\\u0434\\u0443\\u043c\\u0430\\u0442\\u044c\",\"\\u0432\\u043e\\u0437\\u043c\\u043e\\u0436\\u043d\\u043e\\u0441\\u0442\\u044c\",\"\\u043c\\u0443\\u0436\\u0430\",\"\\u043c\\u0430\\u043b\\u043e\\u0439\",\"\\u043e\\u0447\\u0435\\u0440\\u0435\\u0434\\u044c\",\"\\u0445\\u043e\\u0442\\u0435\\u043b\\u0438\",\"\\u043f\\u043e\\u0440\\u044f\\u0434\\u043e\\u043a\",\"\\u0442\\u0435\\u043c\\u0430\",\"\\u0440\\u0443\\u043a\\u0430\\u043c\\u0438\",\"\\u0432\\u044b\\u0433\\u043b\\u044f\\u0434\\u0438\\u0442\",\"\\u0430\\u043c\\u0438\\u043d\\u044c\",\"\\u043c\\u043e\\u0436\\u0435\\u043c\",\"\\u0441\\u0443\\u0434\\u0430\",\"\\u043f\\u0440\\u0438\\u0447\\u0451\\u043c\",\"\\u043d\\u0430\\u0441\\u0442\\u043e\\u044f\\u0449\\u0438\\u0435\",\"\\u0440\\u0435\\u0434\\u043a\\u0430\\u044f.\",\"\\u043f\\u0438\\u0448\\u0435\\u0442\",\"\\u0441\\u0432\\u043e\\u0435\\u043c\",\"\\u0437\\u0430\\u0431\\u044b\\u043b\\u0438\",\"\\u0432\\u043e\\u043a\\u0440\\u0443\\u0433\",\"(lo)\",\"\\u0445\\u0430\\u0431\\u0430\\u0440\\u043e\\u0432\\u0441\\u043a\",\"\\u043d\\u0435\\u043f\\u0440\\u043e\\u0441\\u0442\\u0443\\u044e\",\"\\u0440\\u0430\\u0439\\u043e\\u043d\",\"\\u0434\\u0443\\u043c\\u0430\\u044e,\",\"\\u0441\\u043e\\u0432\\u0435\\u0440\\u0448\\u0435\\u043d\\u043d\\u043e\",\"\\u0436\\u0430\\u043b\\u044c,\",\"\\u0441\\u0447\\u0435\\u0442\",\"\\u0441\\u043c\\u043e\\u0442\\u0440\\u0438\\u0442\\u0435\",\"\\u043c\\u0430\\u043c\\u0435\",\"\\u0442\\u0440\\u0443\\u0434\\u043d\\u043e\",\"\\u0442\\u0430\\u0442\\u044c\\u044f\\u043d\\u0430\",\"\\u0441\\u0440\\u043e\\u043a\",\"\\u0441\\u0438\\u043b\\u044b\",\"\\u0438\\u0433\\u0440\\u0430\\u0442\\u044c\",\"\\u0436\\u0434\\u0443\\u0442\",\"\\u0441\\u0442\\u0435\\u043d\\u043a\\u0435\",\"\\u0430\\u043b\\u0435\\u043a\\u0441\\u0430\\u043d\\u0434\\u0440\",\"\\u0442\\u0435\\u0445,\",\"\\u043f\\u0440\\u0438\\u043c\\u0435\\u0440\\u043d\\u043e\",\"\\u0432\\u0432\",\"\\u0432\\u043a\\u0443\\u0441\",\"\\u0434\\u0435\\u043b\\u0435!\",\"\\u0441\\u0436\\u0435\\u0447\\u044c\",\"\\u0438\\u044e\\u043b\\u044f\",\"\\u0441\\u0432\\u0435\\u0442\",\"\\u0437\\u0435\\u043c\\u043b\\u0438\",\"\\u043f\\u0440\\u043e\\u0438\\u0441\\u0445\\u043e\\u0434\\u0438\\u0442\",\"\\u043e\\u0445\",\"\\u043f\\u0438\\u0434\\u0430\\u0440\\u0430\\u0441\\u044b\",\"\\u043f\\u0438\\u0434\\u043e\\u0440\\u043e\\u0432\",\"\\u043f\\u0440\\u0430\\u0432\\u0438\\u0442\\u0435\\u043b\\u044c\\u0441\\u0442\\u0432\\u043e\",\"\\u0432\\u044b,\",\"\\u0438\\u0441\\u0442\\u043e\\u0440\\u0438\\u044f\",\"\\u0441\\u043f\\u043e\\u043a\\u043e\\u0439\\u043d\\u043e\",\"\\u043d\\u043e\\u0447\\u044c\",\"\\u0438\\u0433\\u0440\\u0443\",\"\\u044f\\u0432\\u043d\\u043e\",\"\\u043f\\u0438\\u0434\\u043e\\u0440\\u0430\",\"\\u044d\\u0442\\u0438\\u043c\\u0438\",\"!!!!!\",\"\\u043f\\u043e\\u043b\\u0443\\u0447\\u0438\\u043b\\u0430\",\"\\u0434\\u043e\\u0441\\u0442\\u0430\\u0432\\u043a\\u0430\",\"\\u0437\\u0432\\u043e\\u043d\\u0438\\u0442\\u0435\",\"\\u0433\\u043e\\u0440\\u0435\\u0442\\u044c\",\"\\u0436\\u0435\\u043d\\u0449\\u0438\\u043d\",\"\\u0448\\u043a\\u043e\\u043b\\u0443\",\"\\u0433\\u043b\\u0430\\u0437\",\"\\u0442\\u0435\\u0431\\u0435,\",\"60\",\"\\u0441\\u043c\\u043e\\u0442\\u0440\\u044f\",\"\\u0442\\u0440\\u0443\\u0434\\u043d\\u043e\\u043c\",\"\\u0432\\u044b\\u0440\\u0443\\u0447\\u0430\\u0439\\u0442\\u0435\",\"\\u043d\\u0435\\u0432\\u043e\\u0437\\u043c\\u043e\\u0436\\u043d\\u043e\",\"\\u0432\\u0435\\u0447\\u043d\\u043e\",\"\\u0434\\u0435\\u0432\\u043e\\u0447\\u043a\\u0438,\",\"\\u0432\\u0435\\u0441\",\"\\u0441\\u0443\\u043a\\u0443\",\"\\u0434\\u043e\\u0431\\u0440\\u043e\",\"\\u043f\\u0440\\u0430\\u0432\",\"\\u043f\\u0440\\u043e\\u0434\\u0430\\u043b\\u0438\",\"\\u0432\\u0430\\u0436\\u043d\\u043e\",\"\\u043f\\u043e\\u043c\\u043e\\u0449\\u0438\",\"\\u0442\\u044b\\u0441\",\"\\u0432\\u0435\\u0440\\u043d\\u044b\\u0435,\",\"\\u0434\\u0440\\u0443\\u0433\\u043e\\u0435\",\"\\u0434\\u0440\\u0443\\u0433\\u043e\\u043c\\u0443\",\"\\u043f\\u043e\\u0445\\u043e\\u0434\\u0443\",\"\\u0434\\u0443\\u0448\\u0443\",\"\\u043f\\u043b\\u0430\\u0442\\u044f\\u0442\",\"\\ud83d\\udc90\",\".....\",\"\\u043d\\u0430\\u043c\\u043d\\u043e\\u0433\\u043e\",\"\\u043a\\u0440\\u044b\\u043c\",\"1000\",\"\\u0434\\u043e\\u0440\\u043e\\u0433\\u0430\\u044f\",\"\\u0443\\u0431\\u043b\\u044e\\u0434\\u043e\\u043a\",\"\\u0433\\u0434\\u0435-\\u0442\\u043e\",\"\\u043c\\u043e\\u0436\\u043d\\u043e?\",\"\\u0434\\u043e\\u0440\\u043e\\u0433\\u043e\\u0439\",\"\\u043d\\u0438\\u043a\\u0430\\u043a\\u043e\\u0433\\u043e\",\"\\u043a\\u0430\\u0436\\u0434\\u043e\\u0439\",\"\\u0432\\u0438\\u0434\",\"\\u0443\\u0431\\u043b\\u044e\\u0434\\u043a\\u0438\",\"\\u0434\\u0440\\u0443\\u0433\\u043e\\u043c\",\"\\u043d\\u043e\\u0432\\u044b\\u0445\",\"\\u0436\\u0438\\u043b\",\"\\u043e\\u0442\\u043e\\u0440\\u0432\\u0430\\u0442\\u044c\",\"\\u043f\\u043e\\u043c\\u043e\\u0433\\u0438\\u0442\\u0435\",\"\\u0449\\u0430\\u0441\",\"\\u0431\\u0435\\u0440\\u0435\\u0433\\u0438\\u0442\\u0435\",\"\\u043c\\u0443\\u0436\\u0447\\u0438\\u043d\\u044b\",\"\\u0447\\u0435\\u043b\\u043e\\u0432\\u0435\\u043a\\u0443\",\"\\u0440\\u0430\\u0441\\u0441\\u0442\\u0440\\u0435\\u043b\\u0438\\u0432\\u0430\\u0442\\u044c\",\"\\u0433\\u0440\\u0443\\u043f\\u043f\\u0443\",\"\\u043f\\u043b\\u0430\\u0442\\u044c\\u0435\",\"\\u0436\\u0438\\u0437\\u043d\\u0438,\",\"\\u043f\\u0435\\u0440\\u0432\\u0430\\u044f\",\"\\u043d\\u043e\\u0447\\u0438\",\"\\u043f\\u043e\\u043d\\u044f\\u043b\\u0430\",\"\\u0432\\u0435\\u0440\\u043d\\u043e\",\"\\u043b\\u0430\\u0439\\u043a\\u0438\",\"\\u0445\\u0440\\u0435\\u043d\\u044c\",\"\\u043c\\u043e\\u0441\\u043a\\u0432\\u0435\",\"\\u0436\\u0438\\u0432\\u043e\\u0442\\u043d\\u044b\\u0445\",\"\\u0431\\u043e\\u043b\\u044c\\u0448\\u0438\\u0435\",\"\\u043a\\u0430\\u0437\\u043d\\u0438\\u0442\\u044c\",\"\\u0437\\u043d\\u0430\\u043b\\u0438\",\"\\u043c\\u043e\\u0433\\u043b\\u0430\",\"\\u0431\\u0432\",\"\\u0437\\u0430\\u0442\\u0435\\u043c\",\"\\u0435\\u043b\\u0435\\u043d\\u0430\",\"\\u0445\\u0435\\u0440\",\"\\u043b\\u044e\\u0431\\u043e\\u043c\",\"\\u0438\\u0434\\u0438\\u0442\\u0435\",\"\\u043d\\u0435\\u0442?\",\"\\u0441\\u0442\\u043e\\u0440\\u043e\\u043d\\u0443\",\"\\u270c\",\"11\",\"\\u0434\\u0435\\u043b\\u0430\\u043b\\u0430\",\"\\u0434\\u0435\\u0442\\u0441\\u043a\\u0438\\u0439\",\"\\u043f\\u043e\\u043c\\u0438\\u0434\\u043e\\u0440\\u044b\",\"\\u0447\\u0435\\u0441\\u0442\\u044c\",\"\\u043d\\u043e\\u0432\\u0430\\u044f\",\"\\u043f\\u0440\\u043e\\u0431\\u043b\\u0435\\u043c\",\"\\u0431\\u044b\\u0434\\u043b\\u043e\",\"\\u043b\\u0435\\u0441\",\"\\u0440\\u043e\\u0441\\u0441\\u0438\\u0438,\",\"\\u043f\\u043e\\u0448\\u0435\\u043b\",\"\\u0441\\u0435\\u043c\\u044c\\u044e\",\"\\u0441\\u043f\\u0430\\u0441\\u0438\",\"\\u0433\\u043e\\u043b\\u043e\\u0432\\u043e\\u0439\",\"\\u0431\\u043e\\u043b\\u044c\",\"\\u043f\\u043e\\u043d\\u044f\\u043b\",\"\\u043d\\u0435\\u0442!\",\"\\u043e\\u0441\\u0442\\u0430\\u043b\\u0438\\u0441\\u044c\",\"\\u0440\\u0430\\u0441\\u0441\\u0442\",\"\\u0432\\u043b\\u0430\\u0434\\u0438\\u043c\\u0438\\u0440\",\"\\u0431\\u043b\\u0430\\u0433\",\"\\u043f\\u0440\\u043e\\u0449\\u0435\",\"\\u0433\\u043e\\u0434\\u0430.\",\"\\u0441\\u0430\\u0436\\u0430\\u0442\\u044c\",\"\\u0434\\u0440\\u0443\\u0436\\u0435\\u0441\\u043a\\u0430\\u044f,\",\"\\u0438\\u0441\\u0442\\u043e\\u0440\\u0438\\u044e\",\"\\u043f\\u043e\\u0441\\u043b\\u0435\\u0434\\u043d\\u0438\\u0435\",\"\\u0432\\u0430\\u0436\\u043d\\u043e\\u0433\\u043e.\",\"\\u043f\\u0435\\u0440\\u0432\\u043e\\u0433\\u043e\",\"\\u0438\\u043c\\u0435\\u044e\\u0442\",\"\\u0441\\u043a\\u0430\\u0437\\u0430\\u043d\\u043e\",\"\\u043a\\u0430\\u043a\\u043e\\u0439-\\u0442\\u043e\",\"\\u043f\\u0438\\u0437\\u0434\\u0430\",\"\\u0441\\u043c\\u0435\\u0448\\u043d\\u043e\",\"\\u043d\\u0435\\u0434\\u0435\\u043b\\u0438\",\"80\",\"\\u043c\\u0430\\u0448\\u0438\\u043d\\u044b\",\"\\u043f\\u0440\\u0438\\u0448\\u043b\\u0430\",\"\\u0434\\u043e\\u0431\\u0440\\u044b\\u0435!\",\"\\u0441\\u0434\\u0435\\u043b\\u0430\\u043b\\u0430\",\"\\u043c\\u0430\\u043b\\u044c\\u0447\\u0438\\u043a\",\"\\u0442.\\u0434.\",\"\\u0430\\u0432\\u0433\\u0443\\u0441\\u0442\\u0435\",\"\\u0447\\u0435\\u043b\\u043e\\u0432\\u0435\\u043a.\",\"\\u043d\\u0430\\u0442\\u0430\\u043b\\u044c\\u044f\",\"\\u0434\\u0435\\u0442\\u0441\\u0442\\u0432\\u0435\",\"\\u0441\\u0430\\u0439\\u0442\\u0435\",\"\\u043f\\u0440\\u043e\\u0448\\u043b\\u043e\",\"\\u0441\\u0430\\u043c\\u0438\\u0445\",\"\\u043b\\u0438\\u0446\\u0430\",\"\\u043a\\u0443\\u043f\\u0438\\u043b\\u0430\",\"\\u043d\\u043e,\",\"\\u043e\\u0442\\u043d\\u043e\\u0448\\u0435\\u043d\\u0438\\u0435\",\"\\u043a\\u043e\\u0442\\u043e\\u0440\\u043e\\u0435\",\"))\",\"\\u043d\\u0435\\u0434\\u0430\\u0432\\u043d\\u043e\",\"\\u0431\\u0430\\u043d\\u043a\\u0438\",\"\\u043a\\u043e\\u043b\\u0438\\u0447\\u0435\\u0441\\u0442\\u0432\\u043e\",\"\\u0434\\u0435\\u0442\\u0441\\u0442\\u0432\\u0430\",\"\\u043f\\u043e\\u0437\\u0434\\u0440\\u0430\\u0432\\u043b\\u044f\\u0435\\u043c\",\"\\u0441\\u043f\\u0430\\u0442\\u044c\",\"\\u043d\\u0430\\u043b\\u0438\\u0447\\u0438\\u0438\",\"\\u0434\\u0435\\u043b\\u0430\\u043b\\u0438\",\"\\u043f\\u0443\\u0442\\u0438\",\"\\u0437\\u0430\\u0440\\u043f\\u043b\\u0430\\u0442\\u044b\",\"\\u0437\\u0430\\u0440\\u043f\\u043b\\u0430\\u0442\\u0430\",\"\\u0448\\u043b\\u044e\\u0445\\u0430\",\"\\u0434\\u0443\\u043c\\u0430\\u044e\\u0442\",\"\\u043b\\u0435\\u043d\\u0442\\u0435\",\"\\u0447\\u0435\\u0441\\u0442\\u043d\\u043e\",\"\\u043c\\u0430\\u0448\\u0438\\u043d\\u0430\",\"\\u0436\\u0438\\u043b\\u0430\",\"\\u043b\\u044e\\u0434\\u044c\\u043c\\u0438\",\"\\u0432\\u0440\\u0430\\u0447\\u0438\",\"\\u0442\\u0435,\",\"\\u043c\\u044f\\u0441\\u043e\",\"\\u0438\\u043d\\u0442\\u0435\\u0440\\u043d\\u0435\\u0442\",\"\\u0432\\u044b\\u0440\\u0443\\u0447\\u0430\\u0439\\u0442\\u0435,\",\"\\u0443\\u043b.\",\"\\u0442\\u0440\\u0443\\u0434\",\"\\u043c\\u0443\\u0441\\u043e\\u0440\",\"\\u0432\\u0438\\u0434\\u0430\\u0442\\u044c\",\"\\u043c\\u043e\\u0437\\u0433\\u043e\\u0432\",\"\\u0434\\u0435\\u0442\\u0435\\u0439,\",\"\\u043e\\u043a\\u0430\\u0437\\u0430\\u043b\\u043e\\u0441\\u044c!\",\"\\u043f\\u043e\\u0437\\u0434\\u043d\\u043e\",\"\\u0441\\u043e\\u0431\\u043e\\u043b\\u0435\\u0437\\u043d\\u043e\\u0432\\u0430\\u043d\\u0438\\u044f\",\"\\u0441\\u0442\\u0430\\u0440\\u0430\\u044f\",\"\\u0441\\u0447\\u0430\\u0441\\u0442\\u044c\\u044f,\",\"\\ud83d\\ude0a\",\"\\u043f\\u0440\\u0435\\u043a\\u0440\\u0430\\u0441\\u043d\\u044b\\u0439\",\"\\u043e\\u0431\\u0440\\u0430\\u0449\\u0430\\u0442\\u044c\\u0441\\u044f\",\"\\u0433\\u043d\\u0438\\u0434\\u0430\",\"\\u043d\\u0430\\u043f\\u0438\\u0441\\u0430\\u043b\",\"\\u0441\\u0443\\u043f\\u0435\\u0440!\",\"\\u043d\\u0435\\u043e\\u0431\\u0445\\u043e\\u0434\\u0438\\u043c\\u043e\",\"\\u0436\\u0438\\u0437\\u043d\\u044c.\",\"\\u0442.\",\"\\u0434\\u0435\\u0440\\u0435\\u0432\\u043d\\u0435\",\"\\u0445\\u0430\",\"\\u0430\\u0434\\u0443\",\"\\u0432\\u0430\\u0448\\u0435\\u043c\\u0443\",\"\\u043f\\u043e\\u043c\\u043e\\u0436\\u0435\\u0442\",\"\\u0445\\u043e\\u0437\\u044f\\u0438\\u043d\",\"\\u0431\\u044b,\",\"\\u043d\\u0430\\u0448\\u043b\\u0430\",\"\\u043f\\u0430\\u0440\\u0435\\u043d\\u044c\",\"\\u0433\\u043e\\u0432\\u043e\\u0440\\u0438\\u043b\",\"\\u0443\\u043a\\u0440\\u0430\\u0438\\u043d\\u0430\",\"\\u043f\\u0440\\u0430\\u0432\\u0434\\u0443\",\"\\u043a\\u043e\\u043c\\u043c\\u0435\\u043d\\u0442\\u0430\\u0440\\u0438\\u0439\",\"\\u0438\\u0440\\u0438\\u043d\\u0430\",\"\\u0441\\u043e\\u0431\\u0440\\u0430\\u0442\\u044c\",\"\\u0441\\u043e\\u0433\\u043b\\u0430\\u0441\\u0435\\u043d\",\"\\u0436\\u0435.\",\"\\u0432\\u043e\\u0437\\u0440\\u0430\\u0441\\u0442\\u0435\",\"\\u0445\\u0443\\u0439\\u043d\\u044e\",\"\\u0437\\u0434\\u043e\\u0440\\u043e\\u0432\\u044c\\u044f.\",\"\\u0431\\u044b\\u0432\\u0430\\u044e\\u0442\",\"\\u043d\\u0430\\u0447\\u0430\\u043b\\u0438\",\"\\u0436\\u0438\\u0432\\u0438\\u0442\\u0435\",\"\\u043f\\u0440\\u0438\\u0448\\u043b\\u043e\\u0441\\u044c\",\"\\u043f\\u0440\\u0435\\u043a\\u0440\\u0430\\u0441\\u043d\\u044b\\u0435\",\"\\u043d\\u0430\\u0441,\",\"\\u0431\\u0430\\u0431\\u0443\\u0448\\u043a\\u0438\",\"\\u043a\\u0430\\u0436\\u0434\\u043e\\u043c\",\"70\",\"\\u043b\\u044e\\u0434\\u0438.\",\"\\u0447\\u0447\",\"\\u0445\\u043e\\u0440\\u043e\\u0448\\u0438\\u0445\",\"\\u043d\\u0430\\u0447\\u0430\\u043b\\u0435\",\"\\u043d\\u0438\\u0436\\u0435\",\"\\u043e\\u0441\\u0442\\u0440\\u043e\\u0432\",\"\\u043e\\u043a\",\"\\u0447\\u0443\\u0448\\u044c\",\"\\u0440\\u0435\\u0437\\u0443\\u043b\\u044c\\u0442\\u0430\\u0442\",\"\\u043f\\u0435\\u043d\\u0441\\u0438\\u044f\",\"13\",\"\\u0440\\u0430\\u0434\\u0430\",\"\\u0441\\u0442\\u0430\\u043d\\u043e\\u0432\\u0438\\u0442\\u0441\\u044f\",\"\\u0440\\u043e\\u0434\\u043d\\u043e\\u0439\",\"\\u043c\\u0435\\u0441\\u044f\\u0446\\u0435\\u0432\",\"\\u0432\\u0441\\u0451,\",\"\\u0443\\u0448\\u0438\",\"\\u0438\\u0437\\u0432\\u0438\\u043d\\u0438\\u0442\\u0435\",\"\\u043c\\u0430\\u043b\\u0435\\u043d\\u044c\\u043a\\u0438\\u0435\",\"\\u0434\\u043e\\u0440\\u043e\\u0433\\u0443\",\"\\u0447\\u0430\\u0441\\u0430\",\"\\u043c\\u0438\\u043c\\u043e\",\"\\u0437\\u0430\\u043a\\u043e\\u043d\\u044b\",\"\\u0432\\u0435\\u0440\\u0438\\u0442\\u044c\",\"\\u0440\\u043e\\u0441\\u0442\",\"\\u0441\\u043e\\u0431\\u0430\\u043a\",\"\\u043a\\u0441\\u0442\\u0430\\u0442\\u0438\",\"\\u0432\\u0435\\u0440\\u044e\",\"\\u043f\\u0440\\u043e\\u0438\\u0437\\u043e\\u0448\\u043b\\u043e\",\"\\u043f\\u0438\\u0434\\u0430\\u0440\",\"\\u0434\\u0430\\u0451\\u0442\",\"\\u0441\\u0443\\u0434\\u044f\",\"\\u0431\\u043e\\u043b\\u044c\\u043d\\u043e\",\"\\u0446\\u0435\\u043b\\u044b\\u0439\",\"\\u0441\\u0442\\u043e\\u0438\\u043c\\u043e\\u0441\\u0442\\u044c\",\"\\u0432\\u0435\\u0448\\u0430\\u0442\\u044c\",\"\\u0440\\u0430\\u0441\\u0442\\u0443\\u0442\",\"\\u0434\\u0443\\u043c\\u0430\\u043b\\u0430\",\"\\u043f\\u0435\\u0441\\u043d\\u044f\",\"\\u043f\\u043b\\u044e\\u0441\",\"\\u0433\\u043e\\u0441\\u0443\\u0434\\u0430\\u0440\\u0441\\u0442\\u0432\\u0430\",\"\\u043a\\u043e\\u0442\\u043e\\u0440\\u044b\\u043c\",\"\\u0442\\u0435\\u043c,\",\"\\u0431\\u043b\\u044f\\u0434\\u0438\",\"\\u0434\\u0430.\",\"\\u043d\\u043e\\u043c\\u0435\\u0440\\u0443\",\"\\u0432\\u0440\\u0435\\u043c\\u044f,\",\"\\u043a\\u043e\\u043d\\u0435\\u0446\",\"\\u0432\\u0438\\u0434\\u0438\\u0442\",\"\\u0433\\u0430\\u0437\",\"\\u043f\\u043e\\u043a\\u0430\\u0437\\u0430\\u0442\\u044c\",\"\\u0436\\u0438\\u0432\\u043e\\u0442\\u043d\\u044b\\u0435\",\"\\u043c\\u0430\\u0442\\u0435\\u0440\\u0438\",\"\\u0440\\u0430\\u0431\\u043e\\u0442\\u0430\\u043b\",\"\\u043f\\u0443\\u0442\\u0438\\u043d\\u0443\",\"\\u0432\\u0430\\u043c.\",\",,\",\"\\u043d\\u0438\\u043a\\u0430\\u043a\\u043e\\u0439\",\"\\u0433\\u043e\\u0432\\u043d\\u043e\",\"\\u043c\\u043e\\u043b\\u043e\\u043a\\u043e\",\"\\u0443\\u0432\\u0430\\u0436\\u0435\\u043d\\u0438\\u0435\",\"\\u043d\\u043e\\u0447\\u044c\\u044e\",\"\\u0430\\u0432\\u0442\\u043e\\u0440\\u0438\\u0437\\u0430\\u0446\\u0438\\u0438\",\"\\u043f\\u043e\\u043b\\u0443\\u0447\\u0430\\u044e\\u0442\",\".\\u0430\",\"\\u043e\\u0442\\u0440\\u0443\\u0431\\u0438\\u0442\\u044c\",\"\\u043a\\u043e\\u0442\\u043e\\u0440\\u043e\\u043c\",\"\\u0443\\u043c\\u043d\\u0438\\u0446\\u0430\",\"\\u0434\\u043e\\u0440\\u043e\\u0433\\u0430\",\"\\u043f\\u0440\\u043e\\u0448\\u043b\\u043e\\u043c\",\"\\u0433\\u043b\\u0430\\u0437\\u0430\\u0445\",\"\\u043e\\u0442\\u043b\\u0438\\u0447\\u043d\\u044b\\u0439\",\"\\u043b\\u0435\\u0433\\u0447\\u0435\",\"\\u043d\\u0430\\u043f\\u0440\\u0438\\u043c\\u0435\\u0440\",\"\\u043e\\u0442\\u0434\\u0430\\u0442\\u044c\",\"\\u043c\\u043e\\u0438\\u043c\",\"\\u0433\\u043e\\u0441\\u043f\\u043e\\u0434\\u0438,\",\"\\u0445\\u043e\\u0434\\u0443\",\"\\u0440\\u0435\\u0448\\u0438\\u043b\",\"\\u0440\\u0430\\u043d\\u043e\",\"\\u0440\\u0435\\u0447\\u044c\",\"\\u0441\\u043f\\u0435\\u0446\\u0438\\u0430\\u043b\\u044c\\u043d\\u043e\",\"\\u0445\\u0440\\u0435\\u043d\\u0430\",\"\\u043e\\u0442\\u0432\\u0435\\u0447\\u0430\\u0442\\u044c\",\"\\u0431\\u043b\\u0438\\u0436\\u0435\",\"\\u043f\\u043b\\u043e\\u0449\\u0430\\u0434\\u0438\",\"\\u0442\\u0430\\u043c,\",\"\\u0434\\u0435\\u0442\\u0441\\u0442\\u0432\\u043e\",\"\\u0433\\u043e\\u043b\\u043e\\u0441\",\"\\u0432\\u043e\\u0439\\u043d\\u0430\",\"\\u0437\\u0430\\u043c\\u0435\\u0447\\u0430\\u0442\\u0435\\u043b\\u044c\\u043d\\u044b\\u0439\",\"\\u0431\\u0435\\u0434\\u043d\\u044b\\u0439\",\"2020\",\"\\u043f\\u043e\\u0445\\u043e\\u0436\",\"\\u0441\\u043b\\u0443\\u0448\\u0430\\u0442\\u044c\",\"\\u0445\\u0443\\u044f\",\"\\u0432\\u0440\\u0430\\u0447\",\"\\u0441\\u043b\\u043e\\u0432\\u043e\\u043c\",\"\\u0430\\u0431\\u0441\\u043e\\u043b\\u044e\\u0442\\u043d\\u043e\",\"\\u043f\\u0440\\u0438\\u0432\\u0435\\u0442!\",\"\\u0441\\u0430\\u0439\\u0442\",\"\\u043f\\u0440\\u0430\\u043a\\u0442\\u0438\\u0447\\u0435\\u0441\\u043a\\u0438\",\"\\u0441\\u043e\\u0441\\u0438\",\"\\u0436\\u0435\\u043b\\u0430\\u043d\\u0438\\u0435\",\"\\u043f\\u043e\\u043c\\u043e\\u0433\\u0438\",\"\\u0438\\u0441\\u043a\\u0430\\u0442\\u044c\",\"\\u0437\\u0438\\u043c\\u043e\\u0439\",\"\\u0441\\u043a\\u0430\\u0437\\u0430\\u043b\\u0430\",\"\\u0441\\u043b\\u0435\\u0434\\u0443\\u044e\\u0449\\u0438\\u0439\",\"\\u0442\\u0435\\u0431\\u044f,\",\"\\u0434\\u0443\\u043c\\u0430\\u0435\\u0442\\u0435\",\"\\u0433\\u0435\\u0440\\u043c\\u0430\\u043d\\u0438\\u0438\",\"\\u043b\\u0441\",\"\\u0441\\u043e\\u0431\\u0430\\u043a\\u0443\",\"\\u043d\\u0435\\u043c\\u0443\",\"\\u0441\\u043e\\u044e\\u0437\",\"\\u043e\\u0441\\u0442\\u0430\\u043d\\u0435\\u0442\\u0441\\u044f\",\"\\u043c\\u043e\\u043b\\u043e\\u0434\\u0446\\u044b!\",\"\\u043f\\u0443\\u0442\\u044c\",\"\\u0442\\u0443\\u043f\\u043e\\u0439\",\"\\u0438\\u0441\\u0442\\u043e\\u0440\\u0438\\u0438\",\"\\u043d\\u0430\\u0447\\u043d\\u0443\\u0442\",\"\\u043f\\u043e\\u0432\\u0435\\u0437\\u043b\\u043e\",\"\\u043e\\u0433\\u0443\\u0440\\u0446\\u044b\",\"\\u0437\\u0447\",\"\\u0432\\u0435\\u043b\\u0438\\u043a\\u0438\\u0439\",\"\\u0441\\u043e\\u043b\\u0438\",\"\\u0437\\u043e\\u0432\\u0443\\u0442\",\"\\u043e\\u0441\\u043d\\u043e\\u0432\\u043d\\u043e\\u043c\",\"\\u043e\\u0441\\u0442\\u0430\\u043b\\u0441\\u044f\",\"\\u043a\\u0430\\u0441\\u0442\\u0440\\u0438\\u0440\\u043e\\u0432\\u0430\\u0442\\u044c\",\"\\u0433\\u043e\\u0441\\u043f\\u043e\\u0434\\u0430\",\"\\u0438\\u043d\\u0444\\u043e\\u0440\\u043c\\u0430\\u0446\\u0438\\u044e\",\"\\u0441\\u0442\\u0438\\u0445\\u0438\",\"\\u0445\\u043e\\u0434\\u0438\\u043b\\u0438\",\"\\u0442\\u0435\\u0440\\u0440\\u0438\\u0442\\u043e\\u0440\\u0438\\u0438\",\"\\u043f\\u0440\\u0435\\u043a\\u0440\\u0430\\u0441\\u043d\\u0430\\u044f\",\"\\u0432\\u0430\\u0448\\u0435\\u043c\",\"\\u0434\\u0435\\u0440\\u044c\\u043c\\u043e\",\"\\u043f\\u043e\\u043b\\u0435\",\"\\u043f\\u0435\\u0440\\u0432\\u044b\\u0445\",\"\\u0446\\u0430\\u0440\\u0441\\u0442\\u0432\\u043e\",\"\\u043f\\u0440\\u043e\\u0431\\u043b\\u0435\\u043c\\u0430\",\"\\u0438\\u0433\\u0440\\u044b\",\"\\u0440\\u0443\\u043a\\u0430\\u0445\",\"\\u043f\\u0440\\u0438\\u0434\\u0443\\u0440\\u043e\\u043a\",\"\\u0440\\u0430\\u0437\\u043d\\u044b\\u0445\",\"\\u0442\\u0432\\u043e\\u0438\\u0445\",\"\\u0441\\u043c\\u0435\\u0440\\u0442\\u0438\",\"\\u0445\\u043e\\u0434\\u044f\\u0442\",\"\\u0447\\u0437\",\"\\u0441\\u043e\\u0441\\u0442\\u043e\\u044f\\u043d\\u0438\\u0435\",\"\\u043e\\u0439,\",\"\\u0434\\u043e\\u043b\\u0433\\u0438\\u0435\",\"\\u043e\\u0442\\u043b\\u0438\\u0447\\u043d\\u043e\",\"\\u043f\\u043e\\u043b\\u0443\\u0447\\u0438\\u043b\\u0438\",\"\\u043e\\u043f\\u044b\\u0442\",\"18\",\"\\u0438\\u043d\\u0444\\u043e\\u0440\\u043c\\u0430\\u0446\\u0438\\u044f\",\"\\u043c\\u043e\\u0441\\u043a\\u0432\\u0430\",\"\\u0435\\u0445\\u0430\\u0442\\u044c\",\"\\u0431\\u044b.\",\"\\u0432\\u0437\\u044f\\u043b\\u0438\",\"\\u0431\\u0440\\u0430\\u0442\",\"\\u0437\\u0430\\u0435\\u0431\\u0430\\u043b\\u0438\",\"\\u0434\\u043e\\u043a\\u0443\\u043c\\u0435\\u043d\\u0442\\u044b\",\"\\u0441\\u0435\\u0431\\u044f,\",\"\\u043a\\u043b\\u0430\\u0441\\u0441!\",\"\\u0443\\u043a\\u0440\\u0430\\u0438\\u043d\\u044b\",\"\\u0440\\u043e\\u0434\\u043d\\u044b\\u0435\",\"\\u043c\\u043e\\u043b\\u043e\\u0434\\u0435\\u0446.\",\"\\u043b\\u0435\\u0442\\u043e\\u043c\",\"\\u0431\\u043e\\u043b\\u044c\\u0448\\u0438\\u043d\\u0441\\u0442\\u0432\\u043e\",\"\\u0431\\u044b\\u0441\\u0442\\u0440\\u0435\\u0435\",\"\\u043f\\u043e\\u043b\\u043d\\u043e\\u0439\",\"\\u043a\\u0432\\u0430\\u0440\\u0442\\u0438\\u0440\\u0430\",\"\\u0448\\u043a\\u043e\\u043b\\u0430\",\"\\u0441\\u043e\\u0441\\u0442\\u043e\\u044f\\u043d\\u0438\\u0438\",\"\\u043d\\u0430\\u043a\\u043e\\u043d\\u0435\\u0446\",\"\\u043d\\u0430\\u0437\\u0432\\u0430\\u043d\\u0438\\u0435\",\"\\u0441\\u0442\\u0430\\u0442\\u044c\",\"\\u0434\\u0430\\u0432\\u0438\\u0442\\u044c\",\"\\u043f\\u043e\\u043b\\u0443\\u0447\\u0438\\u043b\\u043e\\u0441\\u044c\",\",\\u043d\\u0435\",\"\\u043e\\u0431\\u0430\",\"\\u043e\\u0442\\u0446\\u0430\",\"\\u0440\\u043e\\u0436\\u0434\\u0435\\u043d\\u0438\\u044f,\",\"\\u043d\\u0430\\u0437\\u0432\\u0430\\u0442\\u044c\",\"\\u0443\\u0432\\u0438\\u0434\\u0435\\u0442\\u044c\",\"\\u043f\\u043e\\u0448\\u0451\\u043b\",\"\\u043c\\u043e\\u043b\\u043e\\u0434\\u0446\\u044b,\",\"\\u0441\\u043e\\u0432\\u0435\\u0441\\u0442\\u044c\",\"\\u0437\\u0435\\u043c\\u043b\\u044e\",\"\\u0434\\u0435\\u0442\\u043a\\u0438\",\"\\u043a\\u043b\\u0430\\u0441\\u0441\\u043d\\u0430\\u044f\",\"\\ud83e\\udd23\",\"\\u0435\\u0431\\u043b\\u043e\",\"\\u0441\\u0432\\u043e\\u0451\\u043c\",\"\\u0443\\u043c\\u043d\\u0438\\u0447\\u043a\\u0430\",\"\\ud83d\\ude02\\ud83d\\ude02\\ud83d\\ude02\",\"\\u044f\\u0432\\u043b\\u044f\\u0435\\u0442\\u0441\\u044f\",\"\\u043e\\u0442\\u0440\\u0435\\u0437\\u0430\\u0442\\u044c\",\"\\u0433\\u043e\\u0442\\u043e\\u0432\",\"\\u043f\\u0435\\u0440\\u043e\",\"\\u043d\\u043e\\u0440\\u043c\\u0430\\u043b\\u044c\\u043d\\u044b\\u0439\",\"\\u0437\\u0434\\u043e\\u0440\\u043e\\u0432\\u044c\\u044f!\",\"\\u043a\\u043e\\u0448\\u043a\\u0430\",\"\\u0432\\u0440\\u0435\\u043c\\u044f.\",\"\\u043d\\u0430\\u0441.\",\"\\u0436\\u0438\\u0432\\u0451\\u043c\",\"\\u043f\\u043e\\u0434\\u0441\\u043a\\u0430\\u0436\\u0438\\u0442\\u0435,\",\"\\u0431\\u043b\\u0430\\u0433\\u043e\\u0434\\u0430\\u0440\\u044f\",\"\\u0432\\u0435\\u0441\\u0442\\u0438\",\"\\u0442\\u043e.\",\"\\u0442\\u043e\\u0436\\u0435.\",\"\\u043a\\u0430\\u0436\\u0434\\u044b\\u043c\",\"\\u0432\\u044b\\u0431\\u043e\\u0440\",\"\\u0440\\u043e\\u0434\\u0438\\u043b\\u0441\\u044f\",\"\\u0445\\u0443\\u0439\\u043b\\u043e\",\"\\u0434\\u0443\\u043c\\u0430\\u0435\\u0442\",\"\\u043f\\u043e\\u0441\\u043b\\u0435\\u0434\\u043d\\u0435\\u0435\",\"\\u0433\\u043e\\u0442\\u043e\\u0432\\u044b\",\"\\u0440\\u0430\\u0437\\u0443\",\"\\u0447\\u0438\\u0441\\u043b\\u0430\",\"\\u0440\\u0430\\u0431\\u043e\\u0442\\u0430\\u043b\\u0430\",\"\\u0443\\u043c\\u043d\\u044b\\u0439\",\"\\u0434\\u043e\\u043b\\u0431\\u043e\\u0435\\u0431\",\"\\u0432\\u0438\\u0434\\u0435\",\"\\u043c\\u043e\\u0437\\u0433\",\"\\u0441\\u043c\\u044b\\u0441\\u043b\",\"\\u043f\\u0440\\u0438\\u0432\\u0435\\u0442.\",\"\\u0436\\u0440\\u0430\\u0442\\u044c\",\"\\u0441\\u0435\\u0431\\u044f.\",\"\\u0431\\u0435\\u0440\\u0443\\u0442\",\"\\u0443\\u043b\",\"\\u043a\\u0440\\u0430\\u0441\\u0438\\u0432\\u043e,\",\"\\u043e\\u0431\\u0440\\u0430\\u0437\\u043e\\u0432\\u0430\\u043d\\u0438\\u0435\",\"\\u043c\\u0430\\u043b\\u0435\\u043d\\u044c\\u043a\\u0430\\u044f\",\"\\u043b\\u044e\\u0431\\u0438\\u043c\",\"17\",\"21\",\"\\u044d\\u0442\\u043e,\",\"\\u0441\\u043c\\u043e\\u0442\\u0440\\u0438\",\"\\u043d\\u0430\\u0441\\u0435\\u043b\\u0435\\u043d\\u0438\\u044f\",\"\\u0434\\u0432\\u043e\\u0440\\u0435\",\"\\u0442\\u0435\\u043c\\u0443\",\"\\u0447\\u0430\\u0449\\u0435\",\"\\u0438\\u043d\\u0442\\u0435\\u0440\\u043d\\u0435\\u0442\\u0435\",\"\\u0432\\u0438\\u0440\\u0443\\u0441\",\"\\u043f\\u043e\\u043b\\u0443\\u0447\\u0430\\u0442\\u044c\",\"\\u0433\\u0434\\u0435?\",\"\\u043d\\u043e\\u0432\\u043e\\u0441\\u0442\\u0438\",\"\\u0437\\u043d\\u0430\\u043b\",\"\\u0431\\u043b\\u0430\\u0433\\u043e\\u043f\\u043e\\u043b\\u0443\\u0447\\u0438\\u044f\",\"\\u0443\\u0434\\u0430\\u0440\",\"\\u0431\\u0435\\u043b\\u044b\\u0439\",\"\\u043f\\u0440\\u043e\\u0434\\u0430\\u044e\\u0442\",\"\\u0432\\u0441\\u0435\\u043c,\",\"\\u0434\\u0435\\u043d\\u044c\\u0433\\u0438.\",\"\\u043b\\u0438?\",\"\\u043b\\u044e\\u0431\\u0438\\u0442\\u0435\",\"\\u0440\\u0430\\u0437.\",\"\\u043d\\u0430\\u0448\\u0435\\u043c\\u0443\",\"\\u0438\\u0431\\u043e\",\"\\u0440\\u0443\\u043a\\u0430\",\"\\u0448\\u043a\\u043e\\u043b\\u044b\",\"\\u043d\\u0435\\u043a\\u043e\\u0442\\u043e\\u0440\\u044b\\u0445\",\"\\u0434\\u0440\\u0443\\u0433\\u0443\\u044e\",\"\\u0434\\u043e\\u0441\\u0442\\u0430\\u0442\\u043e\\u0447\\u043d\\u043e\",\"\\u0440.\",\"\\u0432\\u044b\\u0431\\u043e\\u0440\\u044b\",\"\\u0432\\u044b\\u0448\\u0435\\u043b\",\"\\u0434\\u0430\\u043d\\u043d\\u044b\\u0439\",\"q\",\"\\u043a\\u0440\\u0430\\u0441\\u0438\\u0432\\u043e\\u0435\",\"\\u0431\\u043b\\u044f\\u0434\\u0435\\u0439\",\"\\u043f\\u0440\\u0438\\u0434\\u0451\\u0442\",\"\\u0440\\u0435\\u0448\\u0438\\u043b\\u0438\",\"\\u0441\\u0435\\u0440\\u0434\\u0446\\u0430\",\"\\u0440\\u0430\\u0431\\u043e\\u0442\\u0430\\u043b\\u0438\",\"\\u0448\\u043e\",\"\\u043f\\u0438\\u0434\\u043e\\u0440\\u0430\\u0441\\u043e\\u0432\",\"\\u043c\\u0430\\u0448\\u0438\\u043d\\u0443\",\"\\u0432\\u0435\\u0434\\u0440\\u043e\",\"\\u0447\\u0438\\u0441\\u0442\\u043e\",\"\\u0432\\u043e\\u0442,\",\"\\u043f\\u043e\\u0434\\u0432\\u0435\\u0441\\u0438\\u0442\\u044c\",\"\\u043a\\u0430\\u0436\\u0434\\u0443\\u044e\",\"\\u0446\\u0435\\u043d\\u0442\\u0440\\u0435\",\"\\u0432\\u0441\\u0435\\u0445,\",\"\\u0443\\u0432\\u0438\\u0434\\u0435\\u043b\\u0430\",\"\\u043f\\u0440\\u043e\\u0441\\u0442\\u0438\",\"\\u043f\\u043e\\u0434\\u0435\\u043b\\u0438\\u0442\\u044c\\u0441\\u044f\",\"\\u043c\\u043d\\u043e\\u0433\\u043e\\u0435\",\"\\u0437\\u0430\\u043f\\u0440\\u043e\\u0441\",\"\\u043e\\u0431\\u0440\\u0430\\u0442\\u043d\\u043e\",\"\\u0433\\u0435\\u0440\\u043e\\u0439\",\"\\u044d\\u0442\\u043e.\",\"\\u0432\\u0441\\u044f\\u043a\\u0438\\u0445\",\"\\u0438\\u0433\\u0440\\u0435\",\"\\u043b\\u0435\\u0447\\u0438\\u0442\\u044c\",\"\\u043f\\u0438\\u0434\\u043e\\u0440\\u0430\\u0441\",\"\\u0443\\u043c\\u043d\\u044b\\u0435\",\"\\u0442\\u0435\\u0440\\u043f\\u0435\\u0442\\u044c\",\"\\u043e\\u0442\\u043d\\u043e\\u0448\\u0435\\u043d\\u0438\\u044f\",\"\\u043c\\u0430\\u0433\\u0430\\u0437\\u0438\\u043d\\u0435\",\"\\u0434\\u0443\\u0440\\u0430\\u043a\",\"\\u0441\\u043e\\u0445\\u0440\\u0430\\u043d\\u0438\\u0442\\u044c\",\"\\u043c\\u044b\\u0441\\u043b\\u0438\",\"\\u043c\\u043d\\u0435,\",\"\\u043d\\u0430\\u0447\\u0430\\u043b\\u043e\",\"\\u0434\\u0435\\u0442\\u0435\\u0439.\",\"\\u0434\\u0435\\u043b\\u0430\\u0439\\u0442\\u0435\",\"\\ud83d\\ude09\",\"\\u0441\\u0432\\u043e\\u044f\",\"\\ud83c\\udf81\",\"\\u0434\\u043e\\u0431\\u0440\\u044b\\u0445\",\"\\u043d\\u0430\\u0441\\u0442\\u043e\\u044f\\u0449\\u0430\\u044f\",\"\\u0438\\u0434\\u0438\\u043e\\u0442\\u044b\",\"\\u0431\\u043e\\u043e\",\"\\u043d\\u0430\\u043f\\u0438\\u0441\\u0430\\u043b\\u0430\",\"\\u0437\\u0430\\u043f\\u0430\\u0445\",\"\\u0434\\u0435\\u0434\",\"\\u043c\\u043e\\u0436\\u0435\\u0442,\",\"\\u0433\\u043e\\u0432\\u043e\\u0440\\u0438\\u043b\\u0438\",\"\\u0432\\u0430\\u043c!\",\"19\",\"\\u043e\\u0441\\u0442\\u0430\\u0432\\u0438\\u0442\\u044c\",\"\\u0447\\u0435\\u043b\\u043e\\u0432\\u0435\\u043a\\u0430.\",\"\\u043f\\u0440\\u0430\\u0432\\u0434\\u0430,\",\"\\u0434\\u0435\\u043f\\u0443\\u0442\\u0430\\u0442\\u044b\",\"\\u0434\\u043e\\u0431\\u0430\\u0432\\u044c\\u0442\\u0435\",\"\\u0441\\u0430\\u043c\\u0438\\u043c\",\"\\u0440\\u0430\\u0437\\u043d\\u0438\\u0446\\u0430\",\"\\u043d\\u043e\\u0440\\u043c\\u0430\\u043b\\u044c\\u043d\\u044b\\u0435\",\"\\u0437\\u0430\\u0431\\u0440\\u0430\\u043b\\u0438\",\"\\u043c\\u0430\\u044f\",\"\\u043f\\u043e\\u0445\\u043e\\u0436\\u0430\",\"\\u0433\\u0430\\u043d\\u0434\\u043e\\u043d\",\"\\u043e\\u043a\\u0430\\u0437\\u044b\\u0432\\u0430\\u0435\\u0442\\u0441\\u044f\",\"\\u0442\\u0430\\u043a\\u043e\\u043c\\u0443\",\"\\u044f\\u0441\\u043d\\u043e\",\"\\u043d\\u0430\\u0434\\u043e\\u0435\\u043b\\u0438\",\",\\u044f\",\"\\u0438\\u0434\\u0438\\u043e\\u0442\",\"\\u0442\\u0435\\u043b.\",\"\\u0443\\u043c\\u0435\\u044e\\u0442\",\"\\u043f\\u0440\\u0438\\u0445\\u043e\\u0434\\u0438\\u0442\",\"\\u0436\\u0430\\u0440-\\u043f\\u0442\\u0438\\u0446\\u044b\",\"\\u0435\\u0444\\u0440\\u0435\\u043c\\u043e\\u0432\",\"\\u0443\\u043c\\u0435\\u0440\",\"\\u0442\\u043e\\u043b\\u043a\\u0443\",\"\\u0430\\u043b\\u0435\\u043a\\u0441\\u0435\\u0439\",\"\\u0440\\u0430\\u0437\\u043c\\u0435\\u0440\\u044b\",\"\\u0443\\u043a\\u0440\\u0430\\u0438\\u043d\\u0443\",\"\\u0444\\u043e\\u0440\\u043c\\u0430\",\"\\u043a\\u0440\\u0430\\u0441\\u043e\\u0442\\u044b\",\"\\u043d\\u043e\\u0432\\u0443\\u044e\",\"150\",\",\\u044d\\u0442\\u043e\",\"\\u0436\\u0438\\u0437\\u043d\\u044c,\",\"\\u043f\\u043e\\u043f\\u0440\\u043e\\u0431\\u043e\\u0432\\u0430\\u0442\\u044c\",\"\\u0434\\u0430\\u0441\\u0442\",\"\\u0436\\u0434\\u0451\\u0442\",\"\\u0442\\u0432\\u043e\\u0438\\u043c\",\"\\u0445\\u043e\\u0434\\u0438\\u0442\",\"\\u0432\\u0442\\u043e\\u0440\\u0430\\u044f\",\"\\u0447\\u0443\\u0436\\u043e\\u0439\",\"\\u0433\\u043e\\u0440\\u0435\",\"\\u043d\\u0430\\u0440\\u043e\\u0434\\u0430.\",\"\\u0443\\u043d\\u0438\\u0447\\u0442\\u043e\\u0436\\u0430\\u0442\\u044c\",\"\\u0432\\u0441\\u0451.\",\"\\u0431\\u043e\\u044f\\u0442\\u0441\\u044f\",\"\\u0431\\u0430\\u0442\\u044c\\u043a\\u0430\",\"\\u0430\\u0440\\u043c\\u0438\\u0438\",\"\\u0433\\u043e\\u0441\\u0442\\u0438\",\"\\u043f\\u043e\\u0434\\u0430\\u0440\\u043e\\u043a\",\"\\u043a\\u043e\\u0433\\u043e-\\u0442\\u043e\",\"\\u043f\\u043e\\u0434\\u0443\\u043c\\u0430\\u0442\\u044c\",\"\\u0432\\u0437\\u044f\\u043b\",\"\\u0438\\u0442\\u043e\\u0433\\u0435\",\"\\u043d\\u043e\\u0441\\u0438\\u0442\\u044c\",\"\\u0444\\u0443\\u0440\\u0433\\u0430\\u043b\",\"\\u043a\\u043b\\u0430\\u0441\\u0441\\u043d\\u044b\\u0435\",\"\\u043d\\u0430\\u0445\\u0435\\u0440\",\"\\u0443\\u0431\\u0438\\u043b\",\"\\u0441\\u043e\\u043e\\u0431\\u0449\\u0435\\u043d\\u0438\\u0435\",\"\\u0441\\u0438\\u043b\\u0430\",\"\\u0441\\u043c\\u043e\\u0442\\u0440\\u044f\\u0442\",\"\\u043f\\u043e\\u043d\\u0438\\u043c\\u0430\\u044e,\",\"\\u0441\\u043c\",\"\\u0434\\u043e\\u043b\\u0431\\u043e\\u0435\\u0431\\u044b\",\"\\u043a\\u043b\\u0430\\u0441\\u0441\\u044b\",\"\\u0447\\u0435\\u0440\\u043d\\u044b\\u0439\",\"\\u043f\\u043e\\u0441\\u043c\\u043e\\u0442\\u0440\\u0438\",\"\\u0440\\u0430\\u0431\\u043e\\u0442\\u0430\\u044e\",\"\\u0444\\u043e\\u0442\\u043e\\u0433\\u0440\\u0430\\u0444\\u0438\\u0438\",\"\\u0431\\u0435\\u0434\\u043d\\u044b\\u0435\",\"\\u0435\\u0431\\u0430\\u043b\",\"\\u0432\\u043f\\u043e\\u043b\\u043d\\u0435\",\"\\u0441\\u0435\\u043d\\u0442\\u044f\\u0431\\u0440\\u044f\",\"\\u0431\\u0443\\u0434\\u0435\\u0442?\",\"\\u0431\\u043e\\u043b\\u044c\\u043d\\u043e\\u0439\",\"\\u0433\\u043e\\u0440\\u0436\\u0443\\u0441\\u044c\",\"\\u0433\\u0440\\u0430\\u0436\\u0434\\u0430\\u043d\",\"\\u0441\\u043e\\u0432\\u0435\\u0441\\u0442\\u0438\",\"\\u0441\\u0430\\u043c\\u043e\",\"\\u043c\\u043e\\u0447\\u0438\\u0442\\u044c\",\"\\u0441\\u043a\\u0430\\u0436\\u0443\",\"\\u044d\\u0442\\u043e?\",\"\\u0437\\u043d\\u0430\\u0435\\u043c\",\"\\u043d\\u043e\\u0432\\u043e\\u0433\\u043e\",\"\\u043a\\u0440\\u0430\\u0441\\u043d\\u043e\\u0439\",\"\\u043f\\u0435\\u0440\\u0432\\u043e\\u043c\",\"\\u0442\\u0430\\u043b\\u0430\\u043d\\u0442\",\"\\u0441\\u0442\\u0430\\u043b\\u0438\\u043d\",\"\\u0447\\u0432\",\"\\u043c\\u0430\\u0441\\u0442\\u0435\\u0440\",\"\\u0432\\u043a\\u0443\\u0441\\u043d\\u044b\\u0439\",\"\\u043a\\u0440\\u0430\\u0441\\u0438\\u0432\\u043e.\",\"\\u0431\\u043e\\u0433\\u043e\\u043c\",\"\\u0430\\u043b\\u043b\\u0430\\u0445\",\"\\u043f\\u043e\\u043b\\u0443\\u0447\\u0438\\u0442\\u0441\\u044f\",\"\\u0441\\u043a\\u0430\\u0436\\u0438\",\"\\u043f\\u043e\\u043d\\u0438\\u043c\\u0430\\u044e\\u0442\",\"\\u043a\\u043e\\u0444\\u0435\",\"\\u043c\\u043e\\u0436\\u043d\\u043e.\",\"\\u043a\\u0430\\u043f\\u0438\\u0442\\u0430\\u043d\\u0430\",\"000\",\"\\u0434\\u043e\\u043c\\u0430.\",\"\\u043f\\u043e\\u043b\\u043d\\u0430\\u044f\",\"\\u0442\\u0440\\u0435\\u0431\\u0443\\u0435\\u0442\\u0441\\u044f\",\"\\u043f\\u043e\\u0442\\u043e\\u043c\\u0443,\",\"\\u0433\\u043e\",\"\\u0440\\u043e\\u0434\\u0438\\u043d\\u044b\",\"\\u043c\\u0443\\u0436\\u0438\\u043a\\u0430\",\"\\u0441\\u043c\\u043e\\u0442\\u0440\\u0438\\u0442\",\"\\u043f\\u0435\\u0440\\u0432\\u044b\\u0435\",\"\\u0441\\u0432\\u0435\\u0442\\u0435\",\"\\u043c\\u0443\\u0436\\u0438\\u043a\\u043e\\u0432\",\"\\u0444\\u043b\\u0430\\u0433\",\"\\ud83d\\ude21\",\"\\u043c\\u043e\\u043b\\u043e\\u0434\\u043e\\u0439\",\"\\u0434\\u043e\\u0440\\u043e\\u0436\\u0435\",\"\\u043f\\u0440\\u0438\\u0448\\u043b\\u043e\",\"\\u043f\\u0440\\u0430\\u0432\\u0438\\u043b\\u044c\\u043d\\u043e,\",\"\\u0434\\u0435\\u043f\\u0443\\u0442\\u0430\\u0442\\u043e\\u0432\",\"\\ud83d\\ude01\",\"\\u0432\\u0438\\u043d\\u043e\\u0432\\u0430\\u0442\",\"\\u0431\\u044b\\u043b\\u0430,\",\"\\u0437\\u0437\",\"\\u043d\\u0430\\u0447\\u0430\\u0442\\u044c\",\"\\u0441\\u0447\\u0438\\u0442\\u0430\\u044e\\u0442\",\"\\u0442\\u0438\\u0445\\u043e\",\"\\u043c\\u043e\\u043b\\u043e\\u0434\\u044b\\u0435\",\"\\u0431\\u0430\\u0431\\u043a\\u0438\",\"\\u0434\\u0443\\u043c\\u0430\\u043b\",\"\\u0437\\u0432\",\"\\u0432\\u0447\",\"\\u043f\\u0440\\u043e\\u0441\\u0442\\u044b\\u0445\",\"\\u0432\\u043e\\u043d\",\"\\u0437\\u0430\\u0434\\u043d\\u0438\\u0446\\u0443\",\"45\",\"\\u0442\\u0443\\u043f\\u0430\\u044f\",\"\\u043f\\u043e\\u0441\\u0442\",\"\\u0432\\u043d\\u0443\\u0442\\u0440\\u0438\",\"\\u0430\\u043d\\u0434\\u0440\\u0435\\u0439\",\"\\u0442\\u0440\\u0435\\u0442\\u0438\\u0439\",\"\\u0432\\u0435\\u0440\\u043d\\u0443\\u0442\\u044c\\u0441\\u044f\",\"\\u043d\\u0430\\u0434\\u043e\\u0435\\u043b\\u043e\",\"\\u0441\\u043b\\u0443\\u0447\\u0430\\u0439\\u043d\\u043e\",\"\\u043f\\u0440\\u0438\\u0434\\u0435\\u0442\",\"\\u043f\\u043e\\u0436\\u0430\\u043b\\u0443\\u0439\\u0441\\u0442\\u0430.\",\"\\u043a\\u0430\",\"\\u043a\\u043e\\u0440\\u043e\\u0447\\u0435\",\"\\u043d\\u043e\\u0432\\u043e\\u0435\",\"\\u043d\\u0438\\u043a\\u043e\\u043b\\u0430\\u0439\",\"\\u043a\\u0440\\u043e\\u0432\\u044c\",\"\\u043f\\u0430\\u043c\\u044f\\u0442\\u0438\",\"\\u0433\\u043e\\u0432\\u043e\\u0440\\u0438\\u0442\\u0435\",\"\\u0440\\u0430\\u0441\\u0441\\u0442\\u0440\\u0435\\u043b\",\"\\u0442\\u0432\",\"\\u0432\\u043e\\u0437\\u043c\\u043e\\u0436\\u043d\\u043e\\u0441\\u0442\\u0438\",\"\\u0445\\u0432\\u0430\\u0442\\u0430\\u0435\\u0442.\",\"\\u0440\\u0435\\u0441\\u043f\\u0435\\u043a\\u0442\",\"\\u0435\\u0433\\u043e,\",\"\\u0435\\u0431\\u0430\\u043b\\u043e\",\"\\u0437\\u0430\\u044f\\u0432\\u043b\\u0435\\u043d\\u0438\\u0435\",\"\\u043c\\u0438\\u043b\\u044b\\u0439\",\"\\u0433\\u043e\\u043b\\u043e\\u0432\\u0430\",\"\\u043d\\u0430\\u0434\\u043e!\",\"\\u0434\\u043e\\u0440\\u043e\\u0433\\u043e\",\"\\u0436\\u0435\\u043d\\u0449\\u0438\\u043d\\u0443\",\"\\u043d\\u0430\\u0434\\u0435\\u0436\\u0434\\u0430\",\"\\u0434\\u0435\\u043d\\u044c\\u0433\\u0438,\",\",\\u0442\\u043e\",\"\\u043e\\u0441\\u0442\\u0430\\u043b\\u0430\\u0441\\u044c\",\"\\u0430\\u0433\\u0430\",\"\\u0447\\u0435\\u043b\\u043e\\u0432\\u0435\\u043a\\u0430,\",\"\\u043d\\u0451\\u043c\",\"\\u0447\\u0438\\u0442\\u0430\\u044e\",\"\\u043d\\u0430\\u0441\\u0442\\u0440\\u043e\\u0435\\u043d\\u0438\\u044f\",\"\\u0432\\u0438\\u0434\\u043d\\u043e,\",\"\\u0447\\u0430\\u0441\\u0442\\u0438\",\"\\u043d\\u0430\\u043f\\u0438\\u0441\\u0430\\u043b\\u0438\",\"\\u043f\\u0440\\u043e\\u0439\\u0442\\u0438\",\"\\u0430\\u0432\\u0442\\u043e\",\"\\u043f\\u0438\\u0437\\u0434\\u0438\\u0442\\u044c\",\"\\u0436\\u0438\\u0432\\u0438\",\"\\u0436\\u0434\\u0451\\u043c\",\"\\u043a\\u043e\\u043f\\u0435\\u0439\\u043a\\u0438\",\"\\u0434\\u0440\\u0443\\u0433\\u0430\\u044f\",\"\\u043f\\u043e\\u0431\\u0435\\u0434\\u0430\",\"\\u0430\\u0432\\u0433\",\"\\u0442\\u0432\\u043e\\u0451\",\"\\u0441\\u043a\\u0430\\u0437\\u0430\\u0442\\u044c,\",\"\\u043b\\u0435\\u0447\\u0435\\u043d\\u0438\\u0435\",\"\\u043f\\u0438\\u0437\\u0434\\u0430\\u0431\\u043e\\u043b\",\"\\u043f\\u0438\\u0434\\u0430\\u0440\\u0430\\u0441\",\"\\u0442\\u043e\\u0447\\u043d\\u043e.\",\"\\u0443\\u0432\\u0430\\u0436\\u0430\\u044e\",\"\\u0441\\u043f\\u0440\\u043e\\u0441\\u0438\\u0442\\u044c\",\"\\u043f\\u0430\\u043c\\u044f\\u0442\\u044c.\",\"\\u043e\\u043f\\u043b\\u0430\\u0442\\u0430\",\"\\u0431\\u0430\\u0431\\u0430\",\"\\u043c\\u043e\\u043b\\u043e\\u0434\\u0435\\u0446!!!\",\"100%\",\"\\u0448\\u0435\\u044e\",\"\\u0444\\u0438\\u043b\\u044c\\u043c\\u044b\",\"\\u0434\\u043e\\u0440\\u043e\\u0433\\u0435\",\"\\u043d\\u0430\\u0447\\u0430\\u043b\",\"\\u0441\\u043c\\u043e\\u0433\",\"\\u0441\\u043d\\u044f\\u0442\\u044c\",\"\\u043f\\u0440\\u043e\\u0442\\u0438\\u0432\\u043d\\u043e\",\"\\u0441\\u043e\\u0441\\u0435\\u0434\\u0438\",\"\\u0440\\u0443\\u0441\\u0441\\u043a\\u043e\\u0433\\u043e\",\"\\u0431\\u0435\\u043b\\u044b\\u0435\",\"\\u0441\\u043b\\u043e\\u0436\\u043d\\u043e\",\"\\u0447\\u0438\\u0441\\u043b\\u0435\",\"\\u043f\\u0440\\u0438\\u043c\\u0438\\u0442\\u0435\",\"\\u0437\\u0430\\u0440\\u0430\\u043d\\u0435\\u0435\",\"\\u0441\\u0430\\u043c\\u044b\\u043c\",\"\\u0436\\u0435\\u043d\\u0443\",\"\\u043d\\u0443\\u0436\\u043d\\u043e.\",\"\\u0433\\u043e\\u0434.\",\"\\u0441\\u0442\\u043e\\u0438\\u0442\\u044c\",\"\\u0448\\u0442\",\"\\u0441\\u043e\\u0431\\u0438\\u0440\\u0430\\u0442\\u044c\",\"\\u043d\\u0435\\u0431\\u043e\",\"\\u043f\\u043e\\u043c\\u043d\\u0438\\u043c\",\"\\u043f\\u043e\\u0441\\u0442\\u0430\\u0432\\u0438\\u043b\\u0438\",\"\\u0436\\u0435\\u043b\\u0430\\u0435\\u043c\",\"\\u0441\\u0447\\u0438\\u0442\\u0430\\u044e\",\"\\u0434\\u0435\\u0432\\u0443\\u0448\\u043a\\u0438\",\"\\u043a\\u0440\\u0430\\u0441\\u0438\\u0432\\u043e!\",\"\\u0440\\u043e\\u0441\\u0441\\u0438\\u0439\\u0441\\u043a\\u043e\\u0439\",\"\\u043a\\u043e\\u0442\\u0430\",\"\\u0432\\u043e\\u0439\\u043d\\u0443\",\"\\u0437\\u0430\\u0439\\u0442\\u0438\",\"\\u0433\\u043e\\u0434\\u0430,\",\"\\u043c\\u0430\\u043b\\u044c\\u0447\\u0438\\u043a\\u0430\",\"\\u043a\\u0432\\u0430\\u0440\\u0442\\u0438\\u0440\\u044b\",\"\\u0441\\u0443\\u043c\\u043c\\u0443\",\"\\u043f\\u0435\\u0440\\u0435\\u0434\\u0430\\u0442\\u044c\",\"2000\",\"\\u0440\\u043e\\u0434\\u043d\\u044b\\u0445\",\"\\u043c\\u043d\\u043e\\u0433\\u043e,\",\"\\u0432\\u043e\\u043b\\u043e\\u0441\\u044b\",\"\\u0447\\u0430\\u0439\",\"\\u0447\\u0435\\u043b\\u043e\\u0432\\u0435\\u043a\\u043e\\u043c\",\"\\u0432\\u0438\\u0434\\u0438\\u0442\\u0435\",\"\\u0438\\u044e\\u043b\",\"\\u0441\\u0430\\u043c\\u043e\\u043c\\u0443\",\"\\u043d\\u0430\\u043b\\u043e\\u0433\\u0438\",\"\\u0438\\u043d\\u0442\\u0435\\u0440\\u0435\\u0441\\u0443\\u0435\\u0442\",\"\\u0442\\u044b\\u0441\\u044f\\u0447\\u0438\",\"\\u043d\\u0430\\u0441\\u0442\\u0440\\u043e\\u0435\\u043d\\u0438\\u0435\",\"\\u0435\\u0433\\u043e.\",\"\\u0441\\u043e\\u0432\\u0435\\u0442\",\"\\u0441\\u0443\\u0442\\u043a\\u0438\",\"\\u0434\\u043e\\u0431\\u0440\\u043e\\u0439\",\"\\u0441\\u0430\\u043c\\u044b\\u0445\",\"\\u0431\\u0443\\u0434\\u0443\\u0449\\u0435\\u0435\",\"\\u0441\\u043e\\u043b\\u043d\\u044b\\u0448\\u043a\\u043e\",\"\\u043d\\u0438\\u0433\\u0434\\u0435\",\"\\u0441\\u0442\\u043e\\u043b\",\"\\u0441\\u0438\\u0442\\u0443\\u0430\\u0446\\u0438\\u0438\",\"\\u043a\\u043e\\u0448\\u043a\\u0438\",\"\\u0440\\u0443\\u0431\\u043b\\u0435\\u0439.\",\"\\u043f\\u0440\\u043e\\u0434\\u0430\\u0436\\u043d\\u044b\\u0435\",\"\\u0433\\u043e\\u043b\\u043e\\u0432\\u044b\",\"\\u0437\\u0430\\u0441\\u0443\\u043d\\u0443\\u0442\\u044c\",\"\\u0445\\u0430\\u0431\\u0430\\u0440\\u043e\\u0432\\u0441\\u043a\\u0435\",\"\\u0431\\u043b\\u0438\\u0437\\u043a\\u0438\\u043c\",\"\\u0443\\u0441\\u043b\\u043e\\u0432\\u0438\\u044f\",\"\\u043d\\u0430\\u0440\\u043e\\u0434.\",\"\\u0440\\u0430\\u0437\\u043c\\u0435\\u0441\\u0442\\u0438\\u0442\\u044c\",\"\\u043e\\u0431\\u044a\\u044f\\u0432\\u043b\\u0435\\u043d\\u0438\\u0435\",\"\\u0434\\u0430\\u0434\\u0443\\u0442\",\"\\u043a\\u0430\\u043a\\u0438\\u0435-\\u0442\\u043e\",\"\\u0441\\u043e\\u043b\\u043d\\u0446\\u0435\",\"\\u043d\\u0430\\u0441\\u0442\\u043e\\u044f\\u0449\\u0435\\u0435\",\"\\u0437\\u0434\\u043e\\u0440\\u043e\\u0432\\u044b\",\"\\u043c\\u0443\\u0436\\u0435\\u043c\",\"\\u0440\\u0435\\u0431\\u044f\\u0442\",\"\\u043c\\u0438\\u043d\\u0438\\u043c\\u0443\\u043c\",\"\\u043f\\u0435\\u0440\\u0438\\u043e\\u0434\",\"\\u043c\\u0435\\u043d\\u044f\\u0442\\u044c\",\"\\u0443\\u043b\\u0438\\u0446\\u044b\",\"\\u0442\\u043e?\",\"\\u043c\\u043e\\u0436\\u043d\\u043e,\",\"\\u0432\\u0430\\u0441.\",\"\\u0434\\u043e\\u043c\\u0430,\",\"\\u043e\\u0434\\u043d\\u043e\\u043c\\u0443\",\"\\u0432\\u043e\\u0441\\u043f\\u0438\\u0442\\u0430\\u043d\\u0438\\u0435\",\"\\u0432\\u043e\\u0440\",\"\\u043a\\u0443\\u0448\\u0430\\u0442\\u044c\",\"\\u0441\\u043a\\u0430\\u0436\\u0435\\u0442\",\"\\u043f\\u043e\\u0434\\u0440\\u043e\\u0431\\u043d\\u0435\\u0435\",\"\\u043d\\u0435\\u043b\\u044c\\u0437\\u044f.\",\"\\u0440\\u0435\\u0448\\u0435\\u043d\\u0438\\u0435\",\"\\u043b\\u0443\\u0447\\u0448\\u0438\\u0435\",\"\\u0441\\u0440\\u0430\\u0436\\u0435\\u043d\\u0438\\u0435\",\"\\u0437\\u0432\\u043e\\u043d\\u0438\\u0442\\u044c\",\":$\",\"\\u043d\\u0430\\u0432\\u0435\\u0440\\u043d\\u043e\\u0435,\",\"\\u0432\\u0435\\u0440\\u0438\\u0442\",\"\\u043e\\u043a\\u043d\\u0430\",\"\\u0445\\u043e\\u0442\\u0438\\u043c\",\"\\u043b\\u044e\\u0431\\u0438\\u043c\\u044b\\u0435\",\"\\u0441\\u043b\\u0435\\u0434\\u0443\\u044e\\u0449\\u0443\\u044e\",\"\\u0444\\u0443\\u0440\\u0433\\u0430\\u043b\\u0430\",\"\\u0442\\u0432\\u043e\\u0435\",\"\\u0431\\u043e\\u043b\\u044c\\u0448\\u0438\\u043c\",\"\\u043f\\u0438\\u0441\\u0430\\u043b\\u0438\",\"\\u043f\\u0440\\u0438\\u0445\\u043e\\u0434\\u0438\\u0442\\u0441\\u044f\",\"\\u0446\\u0435\\u043d\\u0442\\u0440\",\"\\u043f\\u043e\\u043d\\u0440\\u0430\\u0432\\u0438\\u043b\\u043e\\u0441\\u044c\",\"\\u0432\\u0440\\u0430\\u0433\",\"\\u043e\\u0431\\u0440\\u0430\\u0437\\u043e\\u043c\",\"\\u0443\\u0447\\u0438\\u0442\\u044c\\u0441\\u044f\",\"\\u0443\\u0447\\u0438\\u0442\\u0435\\u043b\\u044c\",\"\\u043d\\u043e\\u0441\",\"\\u0440\\u0435\\u0434\\u043a\\u043e\",\"\\u0442\\u0432\\u043e\\u0440\\u0438\\u0442\\u0441\\u044f\",\"\\u0432\\u043d\\u0443\\u043a\\u0438\",\"\\u043f\\u043e\\u043a\\u043e\\u043b\\u0435\\u043d\\u0438\\u0435\",\"\\u0435\\u0437\\u0434\\u0438\\u0442\\u044c\",\"\\u043f\\u0438\\u0441\\u0430\\u043b\",\"\\u0448\\u0442\\u0443\\u043a\",\"\\u043d\\u0430\\u043f\\u0438\\u0448\\u0438\",\"\\u043f\\u043e\\u043f\\u0440\\u043e\\u0431\\u0443\\u0439\\u0442\\u0435\",\"\\u0434\\u0435\\u043b\\u0430\\u043b\",\"\\u0431\\u043e\\u043b\\u0438\",\"\\u0441\\u0430\\u0445\\u0430\\u0440\",\"\\u043f\\u0435\\u0440\\u0432\\u043e\\u0439\",\"\\u0432\\u043a\\u0443\\u0441\\u043d\\u044b\\u0435\",\"\\u0434\\u043d\\u0438\",\"\\u0446\\u0435\\u043d\\u0435\",\"\\u043f\\u043e\\u0434\\u0445\\u043e\\u0434\\u0438\\u0442\",\"\\u0447\\u0443\\u0436\\u0438\\u0435\",\"\\u0437\\u0430\\u0431\\u044b\\u0442\\u044c\",\"\\u0433\\u043b\\u0430\\u0432\\u043d\\u044b\\u0439\",\"\\u0434\\u043e\\u0436\\u0434\\u044c\",\"\\u043f\\u0440\\u043e\\u0434\\u0443\\u043a\\u0442\\u044b\",\"\\u0434\\u0430\\u0435\\u0442\",\"\\u043a\\u043e\\u043c\\u0443-\\u0442\\u043e\",\"\\u043f\\u043e\\u0447\\u0435\\u043c\\u0443-\\u0442\\u043e\",\"\\u0442\\u0432\\u043e\\u0435\\u0433\\u043e\",\"\\u043f\\u0440\\u0430\\u0432\\u0438\\u043b\\u0430\",\"\\u043f\\u0440\\u0438\\u0448\\u0435\\u043b\",\"\\u043f\\u0435\\u0440\\u0435\\u0446\",\"\\ud83d\\ude0d\",\"\\u0441\\u0435\\u0431\\u0435.\",\"\\u043d\\u0430\\u0447\\u0438\\u043d\\u0430\\u0435\\u0442\\u0441\\u044f\",\"\\u0433\\u043e\\u0440\\u0434\\u043e\\u0441\\u0442\\u044c\",\"\\u043a\\u043e\\u043c\",\"\\u0438\\u043c\\u0435\\u043d\\u0438\",\"\\u0434\\u0435\\u0442\\u043e\\u043a\",\"\\u0445\\u043e\\u0437\\u044f\\u0438\\u043d\\u0430\",\"\\u043f\\u043e\\u043b\\u0438\\u0446\\u0438\\u044f\",\"\\u0434\\u0435\\u0439\\u0441\\u0442\\u0432\\u0438\\u0442\\u0435\\u043b\\u044c\\u043d\\u043e,\",\"\\u0444\\u043e\\u0442\\u043e.\",\"\\u0445\\u043e\\u0440\\u043e\\u0448\\u0435\\u0439\",\"\\u0434\\u0440\\u0443\\u0433\\u0443\",\"\\u0443\\u043a\\u0441\\u0443\\u0441\",\"\\u0432\\u043f\\u0435\\u0440\\u0435\\u0434\\u0438\",\"\\u0430\\u0432\",\"\\u043b\\u0430\\u0434\\u043d\\u043e\",\"\\u043f\\u0440\\u043e\\u0441\\u0442\\u0438\\u0442\\u0435\",\"\\u0432\\u0441\\u044f\\u043a\\u0438\\u0435\",\"\\u043a\\u043e\\u0433\\u0434\\u0430-\\u0442\\u043e\",\"\\u0441\\u043e\\u043e\\u0431\\u0449\\u0435\\u043d\\u0438\\u044f\",\"\\u043a\\u0443\\u043f\\u0438\\u043b\\u0438\",\"\\u0433\\u043e\\u0440\\u0430\\u0437\\u0434\\u043e\",\"\\u043f\\u043e\\u043b\\u043e\\u0432\\u0438\\u043d\\u0430\",\"\\u043e\\u0434\\u043d\\u0430\\u043a\\u043e\",\"\\u043f\\u0440\\u0438\\u0440\\u043e\\u0434\\u0430\",\"\\u0443\\u0432\\u0430\\u0436\\u0430\\u0435\\u043c\\u044b\\u0435\",\"\\u0440\\u043e\\u0434\\u0438\\u043d\\u0430\",\"\\u0443\\u0447\\u0438\\u0442\\u044c\",\"\\u0432\\u0435\\u0447\\u0435\\u0440\\u0430\",\"\\u0437\\u043d\\u0430\\u0435\\u0442,\",\"\\u0441\\u043c\\u043e\\u0436\\u0435\\u0442\",\"\\u043c\\u0443\\u0436\\u0447\\u0438\\u043d\",\"\\u043d\\u0430\\u0447\\u0438\\u043d\\u0430\\u044e\\u0442\",\"\\u043d\\u0430\\u0440\\u043e\\u0434,\",\"\\u0437\\u043d\\u0430\\u043b\\u0430\",\"\\u0441\\u0442\\u0440\\u0430\\u043d\\u044b,\",\"\\u043e\\u043d,\",\"\\u043a\\u0443\\u0441\\u043e\\u043a\",\"\\u0445\\u0440\\u0430\\u043d\\u0438\\u0442\",\"\\u0441\\u043e\\u0432\\u0435\\u0442\\u0441\\u043a\\u0438\\u0439\",\"\\u0443\\u0440\\u043e\\u0434\\u0430\",\"\\u043c\\u0438\\u043b\\u044b\\u0435\",\"\\u0434\\u0432\\u0435\\u0440\\u044c\",\"\\u043f\\u0438\\u0434\\u0430\\u0440\\u044b\",\"\\u043e\\u0442\\u0434\\u0430\\u043b\\u0438\",\"\\u043d\\u043e\\u0432\\u043e\\u0439\",\"\\u0441\\u043c\\u0438\",\"\\u0441\\u0438\\u0442\\u0443\\u0430\\u0446\\u0438\\u044f\",\"\\u0441\\u0442\\u0440\\u043e\\u0438\\u0442\\u044c\",\"\\u0435\\u0431\\u0430\\u043d\\u044b\\u0439\",\"\\u0432\\u0440\\u044f\\u0434\",\"\\u043f\\u0435\\u0440\\u0432\\u043e\\u0435\",\"\\u0440\\u0443\\u0447\\u043a\\u0438\",\"\\u0437\\u0430\\u043d\\u0438\\u043c\\u0430\\u0442\\u044c\\u0441\\u044f\",\"\\u043c\\u043e\\u0440\\u0434\\u0443\",\"\\u0431\\u043e\\u044e\\u0441\\u044c\",\"\\u0431\\u0430\\u043d\\u043a\\u0443\",\"\\u043f\\u043e\\u043c\\u043d\\u0438\\u0442\\u044c\",\"\\u043a\\u0441\\u0442\\u0430\\u0442\\u0438,\",\"\\u0445\\u043e\\u0445\\u043b\\u044b\",\"\\u0440\\u0430\\u043a\\u043e\\u043c\",\"\\u043c\\u043e\\u043b\\u0438\",\"\\u043c\\u043d\\u043e\\u0433\\u043e.\",\"\\u043d\\u0430\\u043e\\u0431\\u043e\\u0440\\u043e\\u0442\",\"\\u043f\\u0440\\u043e\\u0446\\u0435\\u043d\\u0442\\u043e\\u0432\",\"\\u0434\\u0443\\u0440\\u0430\\u043a\\u043e\\u0432\",\"\\u0436\\u0434\\u0435\\u043c\",\"\\u0443\\u0431\\u0438\\u043b\\u0430\",\"\\u0440\\u0430\\u043d\\u0435\\u0435\",\",\\u0435\\u0441\\u043b\\u0438\",\"\\u043f\\u0443\\u0442\\u0438\\u043d\\u0441\\u043a\\u0438\\u0435\",\"\\u0440\\u0443\\u043a\",\"\\u0441\\u0432\\u043e\\u043b\\u043e\\u0447\\u0438\",\"\\u0434\\u043e\\u0441\\u0442\\u0430\\u043b\\u0438\",\"\\u043c\\u0430\\u0433\\u0430\\u0437\\u0438\\u043d\\u0430\\u0445\",\"\\u0448\\u0442\\u0430\\u043d\\u044b\",\"\\u043d\\u0430\\u0440\\u043e\\u0434\\u043e\\u043c\",\"\\u043e\\u0441\\u043e\\u0431\\u043e\",\"\\u0440\\u0430\\u0441\\u0442\\u0435\\u0442\",\"\\u043b\\u0438\\u0442\\u0440\\u043e\\u0432\",\"\\ud83c\\udf3a\",\"\\u043b\\u0438\\u0447\\u043a\\u0443.\",\"\\u0432\\u0437\\u0433\\u043b\\u044f\\u0434\",\"\\u0431\\u043e\\u043b\\u044c\\u0448\\u0435.\",\"\\u043c\\u043e\\u0435\\u043c\",\"\\u0436\\u0434\\u0435\\u0442\",\"\\u0434\\u0435\\u043b\\u0430\\u0435\\u0442\\u0441\\u044f\",\"\\u0432\\u0437\\u044f\\u043b\\u0430\",\"\\u0432\\u044b\\u0445\\u043e\\u0434\\u0438\\u0442\",\"\\u043f\\u0430\\u043e\",\"\\u0441\\u043e\\u0437\\u0434\\u0430\\u0442\\u044c\",\"\\u0436\\u0438\\u0437\\u043d\\u0438!\",\"\\u0441\\u0447\\u0438\\u0442\\u0430\\u0435\\u0442\",\"\\u0441\\u0432\\u0435\\u0442\\u043b\\u0430\\u043d\\u0430\",\"\\u0438\\u044e\\u043d\\u044f\",\"\\u043a\\u0430\\u0441\\u0430\\u0435\\u0442\\u0441\\u044f\",\"\\u0440\\u0435\\u0431\\u0435\\u043d\\u043a\\u0443\",\"\\u0441\\u0432\\u0435\\u0440\\u0445\\u0443\",\"\\u0434\\u0435\\u0440\\u0436\\u0438\\u0442\",\"\\u043e\\u0431\\u043c\\u0435\\u043d\",\"\\u043f\\u0440\\u0438\\u0432\\u0435\\u0442,\",\"\\u0437\\u043e\\u043b\\u043e\\u0442\\u043e\\u0439\",\"\\u0431\\u044b\\u0442\\u044c,\",\"\\u043f\\u043e\\u043a\\u0430\\u0437\\u044b\\u0432\\u0430\\u044e\\u0442\",\"\\u0432\\u0437\\u0440\\u043e\\u0441\\u043b\\u044b\\u0435\",\"\\u0432\\u0442\\u043e\\u0440\\u0438\\u0437\\u0430\\u0446\\u0438\\u0438\",\"\\u043f\\u043e\\u043a\\u043e\\u0439\",\"\\u0440\\u043e\\u0436\\u0430\",\"\\u0447\\u0435\\u0442\\u044b\\u0440\\u0435\",\",\\u0432\",\"\\u0442\\u0440\\u0443\\u0434\\u0430\",\"\\u0441\\u043e\\u0445\\u0440\\u0430\\u043d\\u0438\",\"\\u043b\\u0443\\u0447\\u0448\\u0435\\u0435\",\"\\u043e\\u0442\\u0441\\u0442\\u0440\\u0435\\u043b\\u0438\\u0432\\u0430\\u0442\\u044c\",\"\\u0441\\u043a\\u0430\\u0437\\u0430\\u043b,\",\"\\u0441\\u0443\\u043a\\u0430,\",\"\\u043f\\u0440\\u043e\\u0434\\u0430\\u0442\\u044c\",\"\\u043b\\u044e\\u0431\\u043e\\u0432\\u044c\\u044e\",\"\\u0436\\u0438\\u0442\\u0435\\u043b\\u0438\",\"\\u043c\\u0443\\u0441\\u043e\\u0440\\u0430\",\"\\u043d\\u0438\\u043a\\u0443\\u0434\\u0430\",\"\\u0442\\u043e\\u0447\\u043d\\u043e,\",\"\\u043f\\u043e\\u0439\\u043c\\u0430\\u0442\\u044c\",\"\\u0437\\u0430\\u0431\\u0440\\u0430\\u0442\\u044c?\",\"\\u0434\\u0435\\u0431\\u0438\\u043b\\u043e\\u0432\",\"\\u0441\\u043e\\u0436\\u0430\\u043b\\u0435\\u043d\\u0438\\u044e,\",\"\\u0437\\u0430\\u043c\\u043e\\u043a\",\"\\u0442\\u0443\\u043f\\u044b\\u0435\",\"\\u043f\\u0440\\u043e\\u0436\\u0438\\u0442\\u044c\",\"\\u043a\\u043e\\u043d\\u0447\\u0435\\u043d\\u044b\\u0439\",\"\\u043e\\u0431\\u043e\",\"\\u043f\\u043e\\u043d\\u044f\\u0442\\u043d\\u043e.\",\"\\u0432\\u044b\\u0448\\u043b\\u0438\",\"\\u0433\\u043b\\u0430\\u0432\\u043d\\u043e\\u0435,\",\"\\u0441\\u0442\\u043e\\u044f\\u0442\\u044c\",\"\\u0435\\u0431\\u0430\\u043d\\u044b\\u0435\",\"\\u0441\\u0443\\u043f\\u0435\\u0440.\",\"\\u0433\\u0440\\u0438\\u0431\\u044b\",\"\\u0434\\u0430\\u0432\\u0430\\u0442\\u044c\",\"??\",\"\\u043f\\u0435\\u043d\\u0441\\u0438\\u043e\\u043d\\u043d\\u044b\\u0439\",\"-\\u044d\\u0442\\u043e\",\"\\u0443\\u0445\\u043e\\u0434\\u0438\\u0442\",\"\\u0432\\u0440\\u0430\\u0433\\u0438\",\"\\u043c\\u0438\\u043b\\u043b\\u0438\\u043e\\u043d\\u044b\",\"\\u0431\\u0440\\u0430\\u0442\\u044c\\u044f\",\"\\u0448\\u043b\\u0438\",\"\\u0437\\u0430\\u0431\\u044b\\u043b\",\"\\u0434\\u0435\\u0442\\u0438,\",\"\\u0432\\u0432\\u0438\\u0434\\u0443\",\"(md)\",\"\\u0434\\u0440\\u0443\\u0437\\u044c\\u044f,\",\"\\u0435\\u0434\\u0443\",\"\\u0432\\u043e\\u0432\\u0440\\u0435\\u043c\\u044f\",\"\\u0432\\u043d\\u0443\\u043a\\u043e\\u0432\",\"\\u0432\\u043e\\u0434\\u043e\\u0439\",\"\\u043d\\u0430\\u0437\\u044b\\u0432\\u0430\\u044e\\u0442\",\"\\u0440\\u043e\\u0434\\u0438\\u043b\\u0430\",\"\\u043f\\u043e\\u0441\\u043c\\u043e\\u0442\\u0440\\u0438\\u043c\",\"\\u0432\\u043e\\u0434\\u0438\\u0442\\u0435\\u043b\\u044c\",\"\\u0444\\u0443\",\"\\u0432\\u0435\\u0442\\u0435\\u0440\",\"\\u043f\\u043e\\u043a\\u0443\\u043f\\u0430\\u0442\\u044c\",\"\\u043a\\u0430\\u043a?\",\"\\u0438\\u0433\\u0440\\u0430\\u0435\\u0442\",\"\\u0436\\u0438\\u0432\\u0435\\u043c\",\"\\u0442\\u0435\\u043c\\u044b\",\"\\u043f\\u0430\\u0434\\u043b\\u0430\",\"\\u043f\\u043e\\u043d\\u044f\\u043b\\u0438\",\"\\u043f\\u043e\\u043f\\u0430\\u0441\\u0442\\u044c\",\"\\u0441\\u0430\\u0445\\u0430\\u0440\\u0430\",\"\\u0436\\u0438\\u0442\\u0435\\u043b\\u0435\\u0439\",\"\\u043f\\u043e\\u0432\\u0430\\u0434\\u043d\\u043e\",\"\\u043e\\u0441\\u0435\\u043d\\u044c\",\"\\u043e\\u0442\\u043b\\u0438\\u0447\\u043d\\u0430\\u044f\",\"\\u0432\\u043d\\u043e\\u0432\\u044c\",\"\\u0441\\u0441\\u0441\\u0440.\",\"\\u0443\\u043c\\u0435\\u0435\\u0442\",\"\\u0437\\u043d\\u0430\\u044f\",\"\\u0445\\u043e\\u0440\\u043e\\u0448\\u0438\\u043c\",\"\\u043b\\u0435\\u0441\\u0443\",\"\\u0442\\u0440\\u0451\\u0445\",\"\\u043b\\u0438\\u0437\\u0430\\u0442\\u044c\",\"\\u0440\\u0443\\u0441\\u0441\\u043a\\u0430\\u044f\",\"\\u0437\\u043d\\u0430\\u044e.\",\"\\u0441\\u043c\\u043e\\u0433\\u043b\\u0430\",\"\\u0438\\u043c\\u0435\\u044e\",\"---\",\"\\u043f\\u0440\\u0430\\u0432\\u0438\\u043b\\u044c\\u043d\\u043e.\",\"\\u043e\\u0442\\u0434\\u0435\\u043b\\u044c\\u043d\\u043e\",\"\\u0441\\u043b\\u043e\\u0432\\u043d\\u043e\",\"\\ud83d\\ude00\",\"26\",\"\\u0433\\u043e\\u0434,\",\"\\u043f\\u043e\\u043a\\u0430\\u0437\\u044b\\u0432\\u0430\\u0442\\u044c\",\"\\u043e\\u0431\\u043b\\u0430\\u0441\\u0442\\u044c\",\"\\u0432\\u0438\\u0434\\u044f\\u0442\",\"\\u0441\\u0442\\u0440\\u0430\\u043d\\u043e\\u0439\",\"\\u0441\\u0442\\u0430\\u0434\\u043e\",\"\\u0441\\u043e\\u0431\\u0430\\u0447\\u043a\\u0430\",\"\\u0441\\u0443\\u0434\\u044c\\u0431\\u0430\",\"\\u043d\\u0443\\u0436\\u043d\\u043e,\",\"\\u0437\\u0430\\u0440\\u0430\\u0431\\u043e\\u0442\\u0430\\u0442\\u044c\",\"\\u044f\\u0431\\u043b\\u043e\\u043a\\u0438\",\"\\u043b\\u0435\\u0442\\u0430\",\"\\u043c\\u0435\\u043d\\u0435\\u0435\",\"\\u043f\\u0443\\u0445\\u043e\\u043c\",\"\\u0431\\u0443\\u043a\\u0432\\u044b\",\"\\u0441\\u0440\\u0435\\u0434\\u0441\\u0442\\u0432\\u0430\",\"\\u0431\\u043b\\u0438\\u0437\\u043a\\u0438\\u0445\",\"\\u043a\\u0440\\u0430\\u0439\",\"\\u043e\\u0431\\u043e\\u0438\\u0445\",\"\\u0434\\u0443\\u0448\\u043e\\u0439\",\"\\u0434\\u043e\\u0447\\u0435\\u0440\\u0438\",\"\\u0447\\u0438\\u0442\\u0430\\u0439\\u0442\\u0435\",\"\\u0434\\u0435\\u043b\\u0430\\u0442\\u044c?\",\"\\u0442\\u0440\\u0435\\u0445\",\"\\u043c\\u0443\\u0434\\u0430\\u043a\",\"\\u0434\\u0443\\u043c\\u0435\",\"\\u0432\\u0437\",\"\\u0430\\u0440\\u043c\\u0438\\u044f\",\"\\u0441\\u043a\\u043e\\u0440\\u0435\\u0439\",\"\\u043c\\u0435\\u043d\\u044f,\",\"\\u0432\\u0441\\u0435\\u0445.\",\"\\u043f\\u043e\\u0439\\u043c\\u0443\",\"\\u0441\\u0438\\u0441\\u0442\\u0435\\u043c\\u0430\",\"\\u043b\\u044e\\u0434\\u044f\\u043c,\",\"\\u043b\\u044e\\u0434\\u0438!\",\"\\u0446\\u0432\\u0435\\u0442\\u0430\",\"\\u043b\\u0435\\u0441\\u0430\",\"\\u043a\\u0430\\u0436\\u0434\\u0430\\u044f\",\"\\u043a\\u0430\\u0447\\u0435\\u0441\\u0442\\u0432\\u043e\",\"\\u0445\\u0443\\u043b\\u0438\",\"\\u0436\\u0435\\u043b\\u0430\\u0442\\u0435\\u043b\\u044c\\u043d\\u043e\",\"\\u043d\\u0430\\u0431\\u043e\\u0440\",\"\\u0432\\u0442\\u043e\\u0440\\u0443\\u044e\",\"\\u0441\\u0435\\u0439\\u0447\\u0430\\u0441,\",\"\\u043f\\u043e\\u0440\\u043e\\u0439\",\"\\u0431\\u043e\\u0438\\u0442\\u0441\\u044f\",\"\\u043e\\u0448\\u0438\\u0431\\u043a\\u0438\",\"\\u043a\\u043b\\u0430\\u0441\\u0441,\",\"\\u0438\\u0433\\u0440\\u043e\\u043a\\u0430\",\"\\u0434\\u0435\\u0441\\u044f\\u0442\\u044c\",\"\\u0442\\u0435\\u043c\\u0435\",\"\\u043a\\u043e\\u0437\\u043b\\u0430\",\"\\u0434\\u0435\\u043b\\u0430\\u0435\\u0442\\u0435\",\"\\u0443\\u043a\\u0441\\u0443\\u0441\\u0430\",\"\\u0441\\u043f\\u0438\\u0441\\u043e\\u043a\",\"\\u0441\\u0435\\u0441\\u0442\\u0440\\u0430\",\"\\u0443\\u0447\\u0430\\u0441\\u0442\\u0438\\u0435\",\"\\u043b\\u0438\\u0447\\u043d\\u043e\\u0435\",\"\\u0431\\u043e\\u043b\\u044c\\u0448\\u0435,\",\"\\u043f\\u043e\\u043b\\u0443\",\"\\u0444\\u043e\\u0442\\u043e,\",\"\\u0432\\u0441\\u044f\\u043a\\u043e\\u0439\",\"\\u0432\\u0440\\u0430\\u0447\\u0435\\u0439\",\"\\u0436\\u0438\\u0437\\u043d\\u044c\\u044e\",\"\\u0441\\u043f\\u043e\\u0441\\u043e\\u0431\",\"\\u043f\\u043e\\u0433\\u0438\\u0431\",\"2.\",\"\\u0432\\u043e\\u0439\\u0441\\u043a\",\"\\u0443\\u0431\\u043b\\u044e\\u0434\\u043a\\u043e\\u0432\",\"\\u043a\\u0430\\u0436\\u0435\\u0442\\u0441\\u044f,\",\"\\u0437\\u0430\\u043a\\u0440\\u043e\\u0439\",\"\\u0438\\u043c\\u0438\",\"%\",\"\\ud83d\\ude04\",\"\\u0441\\u0432\\u0435\\u0442\\u0430\",\"\\u0430\\u0433\\u0430,\",\"\\u0432\\u0430\\u043b\\u0438\\u0442\\u044c\",\"\\u0431\\u044b\\u043b,\",\"\\u0438\\u0449\\u0435\\u0442\",\"\\u0441\\u0432\\u044f\\u0437\\u0430\\u0442\\u044c\\u0441\\u044f\",\"\\u043c\\u0438\\u043d\",\"\\u043f\\u043e\\u043c\\u043d\\u044e,\",\"\\u043e\\u0433\\u0440\\u0430\\u0431\\u0438\\u043b\",\"\\u0440\\u0430\\u0434\\u044b\",\"\\u0441\\u0442\\u0440\\u0430\\u043d\",\"\\u0437\\u0430\\u043a\\u0440\\u044b\\u0442\\u044c\",\"\\u0441\\u0443\\u043a\",\"\\u0431\\u043e\\u043b\\u0435\\u0437\\u043d\\u0438\",\"\\u0440\\u0443\\u0441\\u0438\",\"\\u043f\\u0440\\u043e\\u0434\\u0430\\u044e\",\"\\u0440\\u0430\\u0434\",\"\\u0432\\u043d\\u0438\\u043c\\u0430\\u043d\\u0438\\u044f\",\"\\u043a\\u0440\\u0430\\u0441\\u043e\\u0442\\u0430,\",\"\\u0440\\u043e\\u0441\\u0441\\u0438\\u0435\\u0439\",\"\\u0441\\u043a\\u0430\\u0436\\u0443\\u0442\",\"\\u043f\\u043e\\u0434\\u043d\\u044f\\u0442\\u044c\",\"\\u0446\\u0435\\u0440\\u043a\\u043e\\u0432\\u044c\",\"\\u0441\\u0438\\u0434\\u0438\\u0448\\u044c\",\"\\u0430\\u0432\\u0442\\u043e\\u0440\\u0443\",\"\\u0434\\u0430\\u043b\\u0430\",\"\\u043d\\u0430\\u0433\\u0440\\u0430\\u0434\\u0430\",\"\\u043f\\u0440\\u0438\\u0432\\u044f\\u0437\\u0430\\u0442\\u044c\",\"\\u0436\\u0438\\u0432\\u043e\\u0442\\u043d\\u043e\\u0435\",\"1.\",\"\\u043e\\u0431\\u0438\\u0434\\u043d\\u043e\",\"\\u043f\\u0440\\u0438\\u0434\\u0435\\u0442\\u0441\\u044f\",\"\\u043b\\u044e\\u0431\\u043e\\u0433\\u043e\",\"\\u0431\\u044b\\u043b.\",\"\\u043f\\u043e\\u043d\\u044f\\u0442\\u043d\\u043e,\",\"1,5\",\"\\u0431\\u044b\\u043b\\u0430.\",\"\\u043f\\u0435\\u043d\\u0441\\u0438\\u043e\\u043d\\u0435\\u0440\\u044b\",\"\\u0442\\u0435\\u0431\\u0435.\",\"\\u043d\\u0430\\u0432\\u0441\\u0435\\u0433\\u0434\\u0430\",\"\\u0438\\u0437\\u0432\\u0435\\u0441\\u0442\\u043d\\u043e\",\"\\u043f\\u0440\\u0438\\u0434\\u0443\\u043c\\u0430\\u043b\\u0438\",\"\\u043d\\u0440\\u0430\\u0432\\u044f\\u0442\\u0441\\u044f\",\"\\ud83d\\ude18\",\"\\u0441\\u043e\\u0432\\u0435\\u0442\\u0441\\u043a\\u043e\\u0435\",\"\\u0442\\u0432\\u0430\\u0440\\u044c.\",\"\\u0435\\u0431\\u0430\\u043d\\u0443\\u0442\\u044b\\u0435\",\"\\u0441\\u0442\\u0430\\u0440\\u044b\\u0435\",\"\\u0432\\u0430\\u0440\\u0438\\u0430\\u043d\\u0442\",\"!!!!!!\",\"\\u0443\\u0432\\u0430\\u0436\\u0435\\u043d\\u0438\\u0435\\u043c\",\"\\u043f\\u043e\\u043c\\u043e\\u0449\\u044c\\u044e\",\"\\u0433\\u043e\\u0432\\u043e\\u0440\\u044f\\u0442,\",\"\\u043d\\u0430\\u0440\\u043e\\u0434\\u0430,\",\"24\",\"\\u0432\\u043e\\u0437\\u0440\\u0430\\u0441\\u0442\\u0430\",\"\\u0432\\u0435\\u0440\\u0430\",\"\\u0433\\u043e\\u0440\\u043e\\u0434\\u0443\",\"\\u0442\\u0435\\u0447\\u0435\\u043d\\u0438\\u0438\",\"\\u043f\\u043e\\u043b\\u0443\\u0447\\u0430\\u0435\\u0442\",\"\\u0440\\u0435\\u0448\\u0438\\u043b\\u0430\",\"\\u0443\\u0434\\u043e\\u0431\\u043d\\u043e\",\"\\u0440\\u0435\\u0436\\u0438\\u043c\",\"\\u0441\\u043b\\u0443\\u0436\\u0431\\u044b\",\"\\u0441\\u0447\\u0430\\u0441\\u0442\\u043b\\u0438\\u0432\\u044b\",\"\\ud83c\\udf3c\",\"\\u0432\\u0438\\u0434\\u0443\",\"\\u0442\\u0435\\u0447\\u0435\\u043d\\u0438\\u0435\",\"\\u0437\\u0430\\u043f\\u0438\\u0441\\u044c\",\"\\u0434\\u0432\\u0443\\u043c\\u044f\",\"\\u043a\\u0440\\u0430\\u0441\\u043e\\u0442\\u0430!\",\"\\ud83d\\ude4f\\ud83d\\ude4f\\ud83d\\ude4f\",\"\\u043c\\u0435\\u0441\\u0442\\u043e,\",\"\\u0435\\u0431\\u0430\\u043d\\u0443\\u0442\\u0430\\u044f\",\"\\u043f\\u0435\\u0440\\u0432\\u044b\\u043c\",\"\\u0432\\u0435\\u043b\\u0438\\u043a\\u043e\\u0439\",\"\\u0431\\u0443\\u0434\\u0435\\u0442!\",\"\\u0431\\u0430\\u0431\\u043b\\u043e\",\"\\u0441\\u0441\\u044b\\u043b\\u043a\\u0443\",\"\\u0431\\u0435\\u0434\\u0430\",\"\\u043c\\u0430\\u043b\\u043e.\",\"\\u0442\\u044b\\u0441.\",\"\\u043a\\u043e\\u043d\\u043a\\u0440\\u0435\\u0442\\u043d\\u043e\",\"\\u0432\\u043b\\u0430\\u0441\\u0442\\u0438,\",\"\\u0441\\u0430\\u043b\\u0430\\u0442\",\"\\u0445\\u043e\\u0440\\u043e\\u0448\\u043e!\",\"s\",\"\\u043c\\u0430\\u0448\\u0438\\u043d\\u0435\",\"\\u0432.\",\"\\u0442\\u044b.\",\"22\",\"\\u043a\\u0440\\u0443\\u0433\\u043e\\u043c\",\"\\u0433\\u0440\\u0430\\u043d\\u0438\\u0446\\u0443\",\"\\u043a\\u0443\\u043f\\u0438\\u043b\",\"\\u0438\\u043d\\u0442\\u0435\\u0440\\u0435\\u0441\\u043d\\u0430\\u044f\",\"\\u0441\\u043a\\u0430\\u0437\\u043a\\u0438\",\"\\u0432\\u043f\\u0435\\u0440\\u0451\\u0434\",\"\\u043f\\u043e\\u0434\\u0430\\u0440\\u043a\\u0438\",\"\\u0443\\u0434\\u0430\\u043b\\u043e\\u0441\\u044c\",\"\\u0440\\u043e\\u0441\\u0441\\u0438\\u044f\\u043d\\u0435\",\"\\u0443\\u0448\\u0435\\u043b\",\"\\u0432\\u0435\\u0441\\u043d\\u043e\\u0439\",\"\\u0443\\u0436\\u0435,\",\"\\u0434\\u0435\\u0440\\u0435\\u0432\\u043d\\u0438\",\"\\u0431\\u043e\\u043d\\u0443\\u0441\",\"\\u0448\",\"\\u0447\\u0435\\u0440\\u0442\",\"*)\",\"\\u043a\\u0430\\u0436\\u0434\\u043e\\u0435\",\"\\u0442\\u0435\\u043f\\u043b\\u043e\",\"\\u0440\\u0430\\u0437,\",\"\\u0436\\u0438\\u0432\\u044b\",\"\\u0438\\u0441\\u043a\\u0440\\u0435\\u043d\\u043d\\u0438\\u0435\",\"\\u0432\\u0440\\u0430\\u0433\\u043e\\u0432\",\"\\u043c\\u0440\\u0430\\u0437\\u0435\\u0439\",\"\\u043b\\u0443\\u0447\\u0448\\u0435.\",\"\\u043f\\u0440\\u0435\\u0437\\u0438\\u0434\\u0435\\u043d\\u0442\\u043e\\u043c\",\"\\u043d\\u0430\\u0441\\u0442\\u043e\\u043b\\u044c\\u043a\\u043e\",\"\\u0444\\u0430\\u043a\\u0442\",\"\\u0437\\u0430\\u043c\\u0435\\u0447\\u0430\\u0442\\u0435\\u043b\\u044c\\u043d\\u044b\\u0435\",\"\\u0441\\u0443\\u0449\\u0435\\u0441\\u0442\\u0432\\u0443\\u0435\\u0442\",\"\\u0434\\u0432\\u043e\\u0438\\u0445\",\"\\u043f\\u0438\\u0448\\u0443\",\"\\u0430\\u043d\\u043d\\u0430\",\"\\u0443\\u0447\\u0438\\u0442\\u0435\\u043b\\u044f\",\"\\u0432\\u043e\\u0440\\u043e\\u0432\",\"\\u043f\\u043e\\u043b\\u0443\\u0447\\u0438\\u0442\",\"\\u043e\\u0431\\u0449\\u0435\\u043c\",\"\\u043a\\u0440\\u0443\\u0442\\u043e\",\"\\u0443\\u0448\\u043b\\u0430\",\"\\u043d\\u0430\\u043a\\u0430\\u0437\\u0430\\u0442\\u044c\",\"\\u0430\\u0445\",\"\\u0443\\u043b\\u0438\\u0446\\u0443\",\"\\u0431\\u0435\\u043b\\u043e\\u0440\\u0443\\u0441\\u0441\\u0438\\u0438\",\"\\u0432\\u0438\\u043d\\u043e\\u0432\\u0430\\u0442\\u044b\",\"\\u0440\\u044b\\u0431\\u0430\",\"\\u0433\\u0438\",\"\\u0438\\u044e\\u043b\\u0435\",\"\\u0435\\u0444\\u0440\\u0435\\u043c\\u043e\\u0432\\u0430\",\"\\u0440\\u0435\\u0431\\u044f\\u0442\\u0430,\",\"\\u0441\\u0447\\u0438\\u0442\\u0430\\u0442\\u044c\",\"\\u0441\\u0442.\",\"\\u043b\\u044e\\u0431\\u043e\\u0435\",\"\\u0432\\u0435\\u0440\\u044f\\u0442\",\"\\u043e\\u0442\\u0442\\u0443\\u0434\\u0430\",\"\\u0442\\u0435\\u043f\\u043b\\u0430\",\"\\u043e\\u0441\\u0442\\u0430\\u0451\\u0442\\u0441\\u044f\",\"\\u0432\\u043e\\u0437\\u0434\\u0443\\u0445\",\"\\u0432\\u044b\\u0448\\u043b\\u0430\",\"\\u0438\\u044e\\u043b\\u044c\",\"\\u0442\\u043e,\\u0447\\u0442\\u043e\",\"\\u043e\\u0431\\u044b\\u0447\\u043d\\u044b\\u0439\",\"400\",\"\\u0441\\u0435\\u0442\\u0438\",\"\\u0431\\u043e\\u043b\\u044c\\u043d\\u044b\\u0445\",\"\\u043f\\u0440\\u0438\\u043d\\u0438\\u043c\\u0430\\u0442\\u044c\",\"\\u0432\\u0435\\u043a\",\"\\u0435\\u0441\\u0442\\u044c!\",\"\\u0437\\u0430\\u043c\\u0443\\u0436\",\"\\u0432\\u044b\\u0445\\u043e\\u0434\\u044f\\u0442\",\"\\u0433\\u0440\\u044f\\u0437\\u044c\",\"\\u0441\\u044b\\u043d\\u0443\",\"\\u043f\\u0440\\u043e\\u0447\\u0438\\u0442\\u0430\\u043b\\u0430\",\"\\ud83c\\udf89\",\"\\u043d\\u0438\\u0445.\",\"\\u043f\\u0440\\u0430\\u0432\\u0438\\u043b\\u044c\\u043d\\u044b\\u0435\",\"\\u0443\\u0432\\u0430\\u0436\\u0430\\u0442\\u044c\",\"\\u043f\\u043e\\u0437\\u0432\\u043e\\u043d\\u0438\\u0442\\u044c\",\"\\u0438\\u0433\",\"\\u0441\\u043a\\u0430\\u0437\\u043e\\u0447\\u043d\\u044b\\u0439\",\"\\u043f\\u0438\\u0437\\u0434\\u0443\",\"\\u0431\\u0430\\u0431\\u044b\",\"\\u0440\\u0430\\u0431\\u043e\\u0447\\u0438\\u0439\",\"(ch)\",\"\\u2b50\",\"\\u043f\\u0440\\u043e\\u0434\\u0430\\u0436\\u043d\\u0430\\u044f\",\"\\u044b\",\"\\u0441\\u0438\\u0434\\u0435\\u043b\\u0438\",\"\\u0437\\u0430\\u0434\\u043e\\u043b\\u0431\\u0430\\u043b\\u0438\",\"\\u0441\\u0447\\u0430\\u0441\\u0442\\u043b\\u0438\\u0432\\u0430\",\"\\u043f\\u0440\\u043e\\u0448\\u043b\\u0430\",\"\\u043b\\u0438\\u0447\\u043d\\u044b\\u0435\",\"\\u0432\\u0435\\u0447\\u043d\\u044b\\u0439\",\"\\u0435\\u0434\\u0443\\u0442\",\"\\u0434\\u0438\\u0432\\u0430\\u043d\",\"\\u0445\\u043e\\u0437\\u044f\\u0435\\u0432\\u0430\",\"\\u0446\\u0435\\u0440\\u043a\\u0432\\u0438\",\"\\u043c\\u0438\\u043b\\u043b\\u0438\\u043e\\u043d\\u043e\\u0432\",\"\\u0447\\u0443\\u0436\\u0438\\u0445\",\"\\u0441\\u0440\\u0435\\u0434\\u0441\\u0442\\u0432\",\"\\u0441\\u043e\\u0440\\u0442\",\"\\u043d\\u043e\\u043c\\u0435\\u0440\\u0430\",\"\\u0436\\u0438\\u0442\\u044c.\",\"\\u0431\\u044b\\u0442\\u044c.\",\"\\u043f\\u0430\\u0434\\u0430\\u043b\\u044c\",\"\\u0431\\u043b\\u044f\\u0434\\u044c,\",\"\\u0440\\u043e\\u0441\\u0441\\u0438\\u044f\\u043d\",\"\\u0440\\u044b\\u043d\\u043a\\u0435\",\"\\u0432\\u0441\\u0435\\u043c!\",\"\\u043f\\u0440\\u0435\\u043a\\u0440\\u0430\\u0441\\u043d\\u043e\\u0435\",\"\\u0437\\u043d\\u0430\\u043a\\u043e\\u043c\\u044b\\u0435\",\"\\u0430.\",\"\\u0441\\u0442\\u0430\\u0442\\u044c\\u044e\",\"\\u0436\\u043e\\u043f\\u0435\",\"\\u0443\\u043d\\u0438\\u0447\\u0442\\u043e\\u0436\\u0438\\u0442\\u044c\",\"\\u0434.\",\"\\u043a\\u043b\\u0430\\u0441\\u0441\\u043e\\u0432\",\"\\u0437\\u0430\\u0434\",\"\\u043b\\u0443\\u0447\\u0448\\u0435,\",\"\\u043f\\u0440\\u0435\\u0434\\u0430\\u0442\\u0435\\u043b\\u0438\",\"\\u0440\\u043e\\u0436\\u0434\\u0435\\u043d\\u0438\\u044f.\",\"\\u0436\\u0435\\u043d\\u0449\\u0438\\u043d\\u0435\",\"\\u043c\\u0435\\u0447\\u0442\\u044b\",\"\\u0431\\u043e\\u043b\\u044c\\u0448\\u0438\\u0445\",\"\\u043f\\u043e\\u043c\\u043e\\u0433\",\"\\u043d\\u0430\\u0434\\u043e?\",\"\\u0440\\u043e\\u0434\\u0441\\u0442\\u0432\\u0435\\u043d\\u043d\\u0438\\u043a\\u043e\\u0432\",\"\\u0444\\u0430\\u043c\\u0438\\u043b\\u0438\\u044f\",\"\\u0437\\u043d\\u0430\\u043a\",\"\\u0432\\u043e\\u0432\\u0430\",\"\\u043d\\u0430\\u0447\\u0438\\u043d\\u0430\\u0435\\u0442\",\"\\u0432\\u0441\\u0435\\u043c.\",\"\\u0441\\u0434\\u043e\\u0445\",\"\\u043f\\u043e\\u043b\\u043d\\u043e\\u0435\",\"\\u043a\\u0438\\u0442\\u0430\\u0439\",\"\\u0445\\u0443\\u0439\\u043d\\u044f\",\"\\u0441\\u0442\\u0440\\u0430\\u043d\\u044b.\",\"\\u0430\\u0434\\u0432\\u043e\\u043a\\u0430\\u0442\",\"\\u0443\\u0441\\u0442\\u0440\\u0430\\u0438\\u0432\\u0430\\u0435\\u0442\",\"\\u043d\\u0430\\u0447\\u0438\\u043d\\u0430\\u0442\\u044c\",\"\\u043f\\u0443\\u0442\\u0438\\u043d\\u0441\\u043a\\u0430\\u044f\",\"\\u0443\\u0432\\u044b\",\"\\u043d\\u043e\\u0433\\u0443\",\"\\u043d\\u0430\\u043f\\u0440\\u0438\\u043c\\u0435\\u0440,\",\"\\u043d\\u0435\\u0442...\",\"\\u0441\\u043c\\u044b\\u0441\\u043b\\u0430\",\"\\u0434\\u0430\\u0432\\u0430\\u043b\\u0438\",\"\\u0443\\u0440\\u0430\",\"\\u043a\\u0440\\u0430\\u0441\\u0430\\u0432\\u0447\\u0438\\u043a\",\"\\u0440\\u043e\\u0436\\u0434\\u0435\\u043d\\u0438\\u044f!!!\",\"\\u0434\\u0435\",\"\\u0430\\u043b\\u043a\\u0430\\u0448\",\"\\u0434\\u0432\\u0435\\u0440\\u0438\",\"\\u0432\\u044b\\u043f\\u043b\\u0430\\u0442\",\"\\u043f\\u0440\\u043e\\u0441\\u0442\\u043e,\",\"\\u0441\\u043e\\u0432\\u0435\\u0442\\u0441\\u043a\\u0438\\u0435\",\"\\u043c\\u043e\\u0441\\u043a\\u0432\\u044b\",\"\\u0443\\u0440\\u043e\\u0432\\u043d\\u0435\",\"\\u0441\\u0432\\u043e\\u0431\\u043e\\u0434\\u0443\",\"\\u0441\\u043b\\u0435\\u0432\\u0430\",\"\\u043f\\u043e\\u0441\\u043e\\u0431\\u0438\\u044f\",\"\\u0441\\u0442\\u0430\\u0440\\u043e\\u0441\\u0442\\u0438\",\"\\u0448\\u043b\\u044e\\u0445\\u0438\",\"\\u0433\\u0440\\u0435\\u0445\",\"\\u043d\\u0435\\u043d\\u0430\\u0432\\u0438\\u0436\\u0443\",\"\\u043a\\u043e\\u0442\\u0438\\u043a\",\"\\u0433\\u043e\\u0432\\u043e\\u0440\\u0438\\u0442\\u0441\\u044f\",\"\\u0442\\u043e\\u043a\\u0430\",\"\\u0443\\u0435\\u0431\\u043e\\u043a\",\"\\u043f\\u0438\\u0441\\u0430\\u043b\\u0430\",\"\\u0442\\u0435\\u0441\\u0442\\u043e\",\"\\u043f\\u0440\\u0438\\u0434\\u0443\\u0440\\u043a\\u0438\",\"\\u0434\\u044b\\u0448\\u0430\\u0442\\u044c\",\"\\u043d\\u0435\\u0431\\u0430\",\"\\u0440\\u043e\\u0434\\u0438\\u043b\\u0430\\u0441\\u044c\",\"\\u0441\\u0442\\u0430\\u043a\\u0430\\u043d\",\"\\u0434\\u0435\\u043b\\u0430\\u0442\\u044c.\",\"\\u0433\\u043e\\u0432\\u043e\\u0440\\u044f\",\"\\u0434\\u0430!\",\"\\u0437\\u0430\\u043b\\u0438\\u0442\\u044c\",\"\\u043b\\u044e\\u0431\\u0443\\u044e\",\"\\u0436\\u043e\\u043f\\u044b\",\"\\u043f\\u043e\\u0441\\u0442\\u0440\\u043e\\u0438\\u0442\\u044c\",\"\\u0448\\u0438\\u043a\\u0430\\u0440\\u043d\\u0430\\u044f\",\"\\u043f\\u0430\\u0440\\u0430\",\"\\u043c\\u043e\\u0441\\u043a\\u0432\\u0443\",\"\\u0447\\u0435\\u0441\\u043d\\u043e\\u043a\",\"\\u043f\\u043e\\u0434\\u0440\\u0443\\u0433\\u0430\",\"27\",\"\\u043e\\u0441\\u0442\\u0430\\u0432\\u044c\\u0442\\u0435\",\"\\u0441\\u043b\\u0443\\u0447\\u0430\\u0439\",\"\\u0434\\u043e\\u043c.\",\"\\u0441\\u0435\\u0439\\u0447\\u0430\\u0441.\",\"\\u0446\\u0435\\u043b\\u044c\",\"\\u043a\\u043b\\u0430\\u0441\\u0441.\",\"\\u043c\\u0430\\u0440\\u0438\\u044f\",\"\\u0434\\u043e\\u043c\\u0443\",\"\\u0441\\u0438\\u0434\\u0438\",\"\\u043d\\u0430\\u0441\\u0435\\u043b\\u0435\\u043d\\u0438\\u0435\",\"\\u0435\\u0441\\u0442\\u0435\\u0441\\u0442\\u0432\\u0435\\u043d\\u043d\\u043e\",\"\\u0436\\u0430\\u043b\\u043a\\u043e,\",\"\\u0431\\u0435\\u0434\\u043d\\u0430\\u044f\",\"\\u0437\\u043b\\u043e\",\"\\u0432\\u0435\\u0434\\u0443\\u0442\",\"\\u043f\\u0430\\u0440\\u043d\\u0438\",\"\\u0434\\u0435\\u0448\\u0435\\u0432\\u043b\\u0435\",\"\\u0431\\u043b\\u0430\\u0433\\u043e\",\"\\u0431\\u0438\\u0437\\u043d\\u0435\\u0441\",\"250\",\"\\u0433\\u0435\\u0440\\u043e\\u0438\",\"\\u0441\\u0432\\u044f\\u0442\\u043e\\u0433\\u043e\",\"\\u043f\\u0440\\u043e\\u0432\\u0435\\u0440\\u0438\\u0442\\u044c\",\"\\u043f\\u043e\\u0431\\u0435\\u0434\\u044b\",\"\\u043e\\u0441\\u0442\\u0430\\u043b\\u044c\\u043d\\u044b\\u0445\",\"\\u0438\\u043c\\u0435\\u043b\",\"\\u043f\\u0440\\u0438\\u043d\\u0438\\u043c\\u0430\\u044e\",\"\\u043c\\u0438\\u0442\\u0438\\u043d\\u0433\\u0438\",\"\\u043f\\u043e\\u043b\\u043e\\u0436\\u0438\\u0442\\u044c\",\"\\ud83e\\udd14\",\"????\",\"\\u0437\\u0434\\u043e\\u0440\\u043e\\u0432\\u043e!\",\"\\u0432\\u044b\\u0439\\u0434\\u0435\\u0442\",\"\\u0445\\u043e\\u0437\\u044f\\u0435\\u0432\",\"\\u0444\\u043e\\u0440\\u043c\\u0435\",\"\\u0447\\u0442\\u043e.\",\"\\u043f\\u0440\\u0438\\u0440\\u043e\\u0434\\u044b\",\"\\u0430\\u0434\\u043c\\u0438\\u043d\",\"\\u043a\\u0438\\u043d\\u043e\",\"\\u0441\\u0434\\u0435\\u043b\\u0430\\u043d\\u043e\",\"\\u0432\\u0441\\u0451\\u043c\",\"\\u043f\\u0440\\u0438\\u0435\\u0445\\u0430\\u0442\\u044c\",\"\\u0435\\u0434\\u0435\\u0442\",\"\\u0441\\u0438\\u043b\\u044c\\u043d\\u044b\\u0439\",\"\\u043b\\u043e\\u0436\\u043a\\u0438\",\"\\u043d\\u043e\\u0433\\u0430\\u043c\\u0438\",\"\\u0431\\u0430\\u043d\\u043a\",\"\\u043f\\u043e\\u043b\\u0433\\u043e\\u0434\\u0430\",\"\\u043e\\u0431\\u0435\",\"\\u0432\\u043f\\u0435\\u0440\\u0432\\u044b\\u0435\",\"\\u043e\\u0447\\u0435\\u0440\\u0435\\u0434\\u0438\",\"\\u0446\\u0432\\u0435\\u0442\\u043e\\u043a\",\"\\u043f\\u043e\\u0442\\u0435\\u0440\\u044f\\u043b\",\"\\u0441\\u0442\\u043e\\u0438\\u0442.\",\"\\u043f\\u0430\\u043c\\u044f\\u0442\\u043d\\u0438\\u043a\",\"\\u0437\\u043d\\u0430\\u043a\\u043e\\u043c\\u044b\\u0445\",\"\\u0431\\u044b\\u043b\\u0438,\",\"\\u0430\\u0434\\u043c\\u0438\\u043d\\u0438\\u0441\\u0442\\u0440\\u0430\\u0446\\u0438\\u0438\",\"\\u0438\\u0441\\u043f\\u043e\\u043b\\u044c\\u0437\\u043e\\u0432\\u0430\\u0442\\u044c\",\"\\u0433\\u043e\\u0434\\u0443.\",\"\\u043f\\u043e\\u043d\\u044f\\u043b\\u0430,\",\"\\u043f\\u0435\\u043d\\u0441\\u0438\\u043e\\u043d\\u0435\\u0440\\u043e\\u0432\",\"\\u043f\\u0440\\u0430\\u0437\\u0434\\u043d\\u0438\\u043a\\u043e\\u043c!\",\"\\u043f\\u043e\\u0434\\u043e\\u0431\\u043d\\u044b\\u0435\",\"\\u043b\\u044e\\u0431\\u0432\\u0438,\",\"\\u0435\\u0431\\u0430\\u043d\\u0443\\u0442\\u044b\\u0439\",\"\\u043f\\u043e\\u0440\\u043e\\u0434\\u0430\",\"\\u0441\\u0442\\u0440\\u0430\\u043d\\u043d\\u043e\",\"\\u043f\\u043e\\u0441\\u0442\\u0430\\u0432\\u0438\\u043b\",\"\\u0441\\u0430\\u0434\",\"\\u043d\\u0430\\u043f\\u0438\\u0448\\u0443\",\"\\u0439\",\"\\u0442\\u043e\\u0447\\u043d\\u0435\\u0435\",\"3.\",\"\\u043c\\u043d\\u043e\\u0433\\u0438\\u043c\",\"\\u0437\\u0430\\u0447\\u0435\\u043c?\",\"\\u0441\\u043b\\u043e\\u0432\\u0430.\",\"\\u043c\\u0435\\u043d\\u044f.\",\"\\u0432\\u0430\\u043b\\u0435\\u043d\\u0442\\u0438\\u043d\\u0430\",\"\\u043a\\u0440\\u0430\\u0441\\u043e\\u0442\\u043a\\u0430\",\"\\u0432\\u0435\\u043b\\u0438\\u043a\\u0430\\u044f\",\"\\u0441\\u043c\\u043e\\u0433\\u043b\\u0438\",\"\\u043f\\u0440\\u0438\\u0432\\u0435\\u0442\\u0438\\u043a\",\"\\u0442\\u0440\\u0430\\u0445\\u0430\\u0442\\u044c\",\"\\u0445\\u043e\\u043b\\u043e\\u0434\\u0438\\u043b\\u044c\\u043d\\u0438\\u043a\",\"\\u043a\\u0432\",\"\\u0445\\u043e\\u0440\\u043e\\u0448\\u0443\\u044e\",\"\\u0436\\u0435\\u043d\\u044b\",\"\\u043f\\u0443\\u0442\\u0438\\u043d\\u0441\\u043a\\u0438\\u0439\",\"\\u043f\\u043e\\u044f\\u0432\\u0438\\u043b\\u0438\\u0441\\u044c\",\"\\u0441\\u043d\\u0438\\u043c\\u0430\\u0442\\u044c\",\"\\u043a\\u0442\\u043e?\",\"\\u0445\\u0432\\u0430\\u043b\\u0430\",\"\\u0441\\u0435\\u043b\\u043e\",\"\\u043f\\u0440\\u043e\\u0448\\u043b\\u0438\",\"\\u0445\\u0432\\u0430\\u0442\\u0438\\u043b\\u043e\",\"\\u043f\\u0440\\u0438\\u0434\\u0443\\u0442\",\",\\u043a\\u0442\\u043e\",\"\\u043e\\u0442\\u0441\\u044e\\u0434\\u0430\",\"\\u0443\\u0445\\u043e\\u0434\\u044f\\u0442\",\"\\u043c\\u0430\\u0440\\u0438\\u043d\\u0430\",\"\\u043f\\u0430\\u0440\\u043a\",\"\\u0443\\u043b\\u0438\\u0446\\u0430\",\"\\u043a\\u0440\\u043e\\u0432\\u0438\",\"\\u043c\\u0435\\u0434\",\"\\u043d\\u0430\\u0437\\u0430\\u0434,\",\"\\u0441\\u043b\\u0435\\u0437\",\":o\",\":-(\",\"\\u0434\\u0430\\u043d\\u043d\\u044b\\u0435\",\"\\u043f\\u0440\\u0438\\u043e\\u0431\\u0440\\u0435\\u0441\\u0442\\u0438\",\"\\u043b.\",\"\\u043f\\u0430\\u0441\\u043f\\u043e\\u0440\\u0442\",\"\\u043c\\u0435\\u0441\\u0442\\u0435.\",\"\\u0441\\u0441\\u0441\\u0440,\",\"\\u0445\\u043b\\u0435\\u0431\\u0430\",\"\\u043d\\u0430\\u0432\\u0435\\u0440\\u043d\\u044f\\u043a\\u0430\",\"\\u043f\\u0430\\u0440\\u043d\\u044f\",\"\\u0431\\u0435\\u043b\\u043e\\u0440\\u0443\\u0441\\u044b\",\"\\u043c\\u0430\\u0433\\u0430\\u0437\\u0438\\u043d\\u0430\",\"\\u043a\\u0443\\u0447\\u0443\",\"\\u0431\\u0430\\u0431\\u0443\\u0448\\u043a\\u0435\",\"\\u0443\\u0440\\u043e\\u0432\\u043d\\u044f\",\"\\u0434\\u043e\\u0431\\u0440\\u0430\\u044f\",\"?!\",\"\\u0437\\u0430\\u043c\\u0435\\u0447\\u0430\\u0442\\u0435\\u043b\\u044c\\u043d\\u0430\\u044f\",\"v\",\"\\u043f\\u043e\\u043c\\u043d\\u0438\\u0442\",\"\\u0434\\u0430\\u043c\",\"\\u0430\\u0434\\u0440\\u0435\\u0441\\u0443\",\"\\u043e\\u0442\\u043a\\u0440\\u044b\\u0442\\u044c\",\"\\u0441.\",\"\\u0448\\u0442\\u0440\\u0430\\u0444\",\"\\u0437\\u043d\\u0430\\u044e\\u0442,\",\"\\u043f\\u043e\\u0434\\u0434\\u0435\\u0440\\u0436\\u043a\\u0443\",\"\\u043a\\u0443\\u0440\\u0431\\u0430\\u043d\",\"\\u0432\\u043d\\u0438\\u043c\\u0430\\u0442\\u0435\\u043b\\u044c\\u043d\\u043e\",\"\\u0437\\u043d\\u0430\\u0447\\u0438\\u0442,\",\"\\u0441\\u0443\\u0442\\u044c\",\"\\u043a\\u043e\\u0435\",\"\\u043c\\u044b,\",\"\\u0430\\u043b\\u0435\\u043a\\u0441\\u0430\\u043d\\u0434\\u0440\\u043e\\u0432\\u043d\\u0430\",\"\\u0443\\u0436\\u0435.\",\"\\u0431\\u0435\\u043b\\u0430\\u0440\\u0443\\u0441\\u044c\",\"\\u0440\\u0435\\u0439\\u0442\\u0438\\u043d\\u0433\",\"\\u0432\\u043b\\u0430\\u0441\\u0442\\u0438.\",\"\\u0443\\u0432\\u0430\\u0436\\u0430\\u0435\\u043c\\u044b\\u0439\",\"\\u0441\\u0442\\u0430\\u043b\\u0438\\u043d\\u0430\",\"\\u0435\\u0437\\u0434\\u0438\\u043b\\u0438\",\"\\u0438\\u043d\\u0442\\u0435\\u0440\\u0435\\u0441\\u043d\\u044b\\u0439\",\"\\u043e\\u0442\\u0432\\u0435\\u0442\\u0438\\u043b\",\"\\u0441\\u043e\\u0433\\u043b\\u0430\\u0441\\u043d\\u0430,\",\"\\u043d\\u0435\\u043a\\u043e\\u0433\\u0434\\u0430\",\"\\u0441\\u0432\\u0438\\u043d\\u044c\\u044f\",\"\\u043c\\u0435\\u0441\\u0442\\u043e.\",\"\\u0442\\u043e\\u0447\\u043a\\u0443\",\":p\",\"\\u043f\\u043e\\u043b\\u044c\\u0437\\u0443\",\"\\u0431\\u0430\\u0431\\u0443\\u043b\\u044f\",\"\\u043d\\u0440\\u0430\\u0432\\u0438\\u0442\\u044c\\u0441\\u044f\",\"\\u0432\\u0435\\u0447\\u0435\\u0440!\",\"\\u0433\\u0440\",\"\\u0441\\u044b\\u043d\\u043e\\u043a\",\"\\u0434\\u0432\\u043e\\u0435\",\"\\u0431\\u0430\\u0437\\u0435\",\"\\u0441\\u0442\\u0440\\u0430\\u043d\\u0438\\u0446\\u0435\",\"\\u0432\\u0441\\u0435\\u0433\\u043e,\",\"\\u043f\\u0440\\u0438\\u0448\\u0451\\u043b\",\"\\u0432\\u043e\\u0432\\u0441\\u0435\",\"\\u0432\\u043e\\u043f\\u0440\\u043e\\u0441,\",\"\\u043f\\u043e\\u0434\\u0440\\u043e\\u0431\\u043d\\u043e\\u0441\\u0442\\u0438\",\"\\u0441\\u043e\\u0432\\u0435\\u0442\\u0443\\u044e\",\"\\u043a\\u0443\\u0440\\u0441\\u0435\",\"\\u0432\\u044b\\u0445\\u043e\\u0434\\u0438\\u0442\\u044c\",\"\\u0441\\u0430\\u043c\\u0443\\u044e\",\"\\u0436\\u0438\\u0432\\u043e\\u0439\",\"\\u043e\\u0432\\u0446\\u0430\",\"\\u0438\\u043d\\u0444\\u043e\\u0440\\u043c\\u0430\\u0446\\u0438\\u0438\",\"\\u0441\\u0442\\u0430\\u0432\\u044f\\u0442\",\"\\u043f\\u0440\\u043e\\u0444\\u0438\\u043b\\u044c\",\"\\u0440\\u0443\\u0441\\u0441\\u043a\\u043e\\u0439\",\"\\u043c\\u0435\\u0441\\u0442\\u043d\\u044b\\u0435\",\"\\u043f\\u0435\\u0442\\u0443\\u0445\",\"\\u0432\\u0442\\u043e\\u0440\\u043e\\u0433\\u043e\",\"\\u043a\\u043e\\u043d\\u0447\\u0435\\u043d\\u043d\\u0430\\u044f\",\"\\u043b\\u0435\\u043d\\u0438\\u043d\\u0430\",\"\\u043f\\u0438\\u0448\\u0435\\u0448\\u044c\",\"\\u0441\\u044b\\u0440\",\"\\u0435\\u043b\\u0435\",\"\\u043e\\u0441\\u0442\\u0430\\u0435\\u0442\\u0441\\u044f\",\"\\u0441\\u043e\\u044e\\u0437\\u0430\",\"\\u0447\\u0438\\u0441\\u043b\\u043e\",\"\\u043a\\u043e\\u0442\\u043e\\u0440\\u043e\\u043c\\u0443\",\"\\u043c\\u0435\\u0441\\u0442\\u0430\\u0445\",\"\\u0444\\u043e\\u0442\\u043e\\u0448\\u043e\\u043f\",\"\\u043d\\u0430\\u0441\\u0442\\u043e\\u044f\\u0449\\u0438\\u0445\",\"\\u043d\\u0435\\u0431\\u044b\\u043b\\u043e\",\"=\",\"\\u043f\\u043b\\u043e\\u0445\\u043e\\u0439\",\"-\\u0442\\u043e\",\"\\u043e\\u0433\\u0440\\u043e\\u043c\\u043d\\u044b\\u0439\",\"\\u0432\\u0435\\u043a\\u0430\",\"\\u0434\\u044f\\u0434\\u044f\",\"\\u2615\",\"\\u0443\\u0442\\u0440\\u043e!\",\"\\u043c\\u0440\\u0430\\u0437\\u044c.\",\"\\u043e\\u0434\\u043d\\u0430\\u0436\\u0434\\u044b\",\"\\u043f\\u0438\\u0434\\u0430\\u0440\\u0430\\u0441\\u043e\\u0432\",\"\\u043f\\u0440\\u0438\\u043d\\u044f\\u0442\\u044c\",\"\\u0442\\u0432\\u043e\\u0440\\u0447\\u0435\\u0441\\u043a\\u0438\\u0445\",\"\\u0432\\u043e\\u0440\\u0443\\u044e\\u0442\",\"\\u043f\\u043e\\u043b\\u043d\\u043e\",\"\\u043c\\u043e\\u043b\\u0447\\u0430\",\"\\u0438\\u0449\\u0438\\u0442\\u0435\",\"\\u0432\\u043e\\u043e\\u0431\\u0449\\u0435-\\u0442\\u043e\",\"\\u0440\\u0430\\u0434\\u043e\\u0432\\u0430\\u0442\\u044c\\u0441\\u044f\",\"\\u043b\\u0435\\u0436\\u0438\\u0442\",\"\\u044d\\u0442\",\"\\u0441\\u043e\\u043a\",\"\\u0444\\u043e\\u0440\\u043c\\u0443\",\"\\u0442\\u0440\\u0443\\u0441\\u044b\",\"\\u043f\\u0440\\u043e\\u0441\\u0442\\u044b\\u0435\",\"\\u0431\\u044b\\u043b\\u043e!\",\"\\u043a\\u0442\\u043e-\\u043d\\u0438\\u0431\\u0443\\u0434\\u044c\",\"\\u0430\\u043a\\u0442\\u0435\\u0440\",\"\\u0436\\u0435\\u043b\\u0430\\u043d\\u0438\\u044f\",\"\\u0434\\u043e\\u0440\\u043e\\u0433\",\"\\u0437\\u0430\\u0432\\u043e\\u0434\",\"\\u0430\\u0434\\u043c\\u0438\\u043d\\u0438\\u0441\\u0442\\u0440\\u0430\\u0446\\u0438\\u044f\",\"\\u0430\\u043c\\u0438\\u043d\\u044c.\",\"\\u0441\\u043c\\u043e\\u0442\\u0440\\u0435\\u043b\\u0430\",\"\\u0440\\u043e\\u0434\\u0430\",\"\\u043e\\u0431\\u0440\\u0430\\u0442\\u0438\\u0442\\u044c\\u0441\\u044f\",\"\\u043d\\u0430\\u0445\",\"\\u0437\\u0430\\u0449\\u0438\\u0449\\u0430\\u0442\\u044c\",\"\\ud83c\\udf82\",\"))))\",\"\\u0430\\u043d\\u0433\\u0435\\u043b\",\"\\u0441\\u043b\\u0443\\u0447\\u0438\\u043b\\u043e\\u0441\\u044c\",\"\\u0447\\u0435\\u0440\\u0442\\u0438\",\"\\u0443\\u0441\\u043b\\u0443\\u0433\\u0438\",\"\\u0431\\u043b\\u0430\\u0433\\u043e\\u0434\\u0430\\u0440\\u043d\\u043e\\u0441\\u0442\\u044c\",\"\\u0441\\u043e\\u043d\",\"\\u043b\\u0438\\u0442\\u0440\",\"\\u0442\\u0435\\u0431\\u044f.\",\"\\u043f\\u043e\\u043b\\u0443\\u0447\\u0430\\u0435\\u0442\\u0441\\u044f,\",\"\\u043c\\u0443\\u0436\\u0443\",\"\\u0431\\u043e\\u0433,\",\"\\u0441\\u043e\\u0441\\u0435\\u0434\\u0435\\u0439\",\"\\u043a\\u043e\\u0437\\u0435\\u043b\",\"\\u0434\\u0440\\u0443\\u0436\\u0431\\u0443\",\"\\u043e\\u0442\\u0432\\u0435\\u0442\\u0430\",\"\\u0441\\u043a\\u0430\\u0436\\u0438\\u0442\\u0435,\",\"\\u043d\\u043e\\u0441\\u0438\\u0442\",\"\\u0437\\u0430\\u043f\\u0430\\u0434\",\"\\u0438\\u0437\\u043c\\u0435\\u043d\\u0438\\u0442\\u044c\",\"\\u0433\\u0440\\u0430\\u043d\\u0438\\u0446\\u044b\",\"\\u0442\\u0430\\u043a?\",\"\\u0445\\u043e\\u0440\\u043e\\u0448\",\"\\u043d\\u0430\\u0437\\u0430\\u0434.\",\"\\u043f\\u044b\\u0442\\u0430\\u0435\\u0442\\u0441\\u044f\",\"\\u0432\\u043a\\u0443\\u0441\\u043d\\u043e.\",\"\\u043c\\u0435\\u0440\\u0435\",\"\\u0438.\",\"\\u0442\\u043e\\u0436\\u0435,\",\"\\u043c\\u0435\\u0434\\u0438\\u0446\\u0438\\u043d\\u0430\",\"\\u043f\\u0440\\u043e\\u0445\\u043e\\u0434\\u0438\\u0442\",\"\\u0437\\u0430\\u0432\\u043e\\u0434\\u044b\",\"\\u043f\\u0440\\u043e\\u0434\\u0430\\u0436\\u0435\",\"\\u0441\\u0438\\u0434\\u0438\\u0442\\u0435\",\"\\u043a\\u043e\\u043d\\u043b\\u0430\\u0439\\u043d\",\"\\u043c\\u043e\\u043b\\u043e\\u0434\\u0446\\u044b!!!\",\"\\u043d\\u0438\\u0447\\u0435\\u043c\",\"\\u043f\\u043e\\u0434\\u0434\\u0435\\u0440\\u0436\\u0438\\u0432\\u0430\\u044e\",\"\\u0441\\u0443\\u043f\\u0435\\u0440,\",\"\\u043a\\u0433.\",\"\\u0443\\u0447\\u0430\\u0441\\u0442\\u043e\\u043a\",\"\\u0444\\u0438\\u0433\",\"\\u043f\\u0440\\u043e\\u0434\\u0430\\u0435\\u0442\\u0441\\u044f\",\"\\u0443\\u0435\\u0431\\u0438\\u0449\\u0435\",\"\\u0441\\u0431\\u043e\\u0439\",\"\\u043f\\u0440\\u0438\\u0435\\u0445\\u0430\\u043b\\u0438\",\"\\u0442.\\u043a.\",\"\\u0432\\u043e\\u0440\\u044b\",\"\\u0432\\u0441\\u0435\\u0433\\u0434\\u0430,\",\"\\u043a\\u0430\\u043d\\u0430\\u043b\",\"\\u043b\\u0430\\u0439\\u043a\\u043e\\u0432\",\"\\u0442\\u043e\\u0442,\",\"\\u043b\\u044e\\u0434\\u044f\\u0445\",\"\\u0447\\u0438\\u0441\\u0442\\u044b\\u0439\",\"\\u0436\\u043a\\u0445\",\"\\u0437\\u0434\\u043e\\u0440\\u043e\\u0432\\u043e,\",\"\\u043d\\u0430\\u0441\\u0447\\u0451\\u0442\",\"\\u043f\\u0440\\u043e\\u0434\\u0430\\u0451\\u0442\\u0441\\u044f\",\"\\u043e\\u0442\\u0434\\u044b\\u0445\\u0430\",\"\\u0434\\u0440\\u0443\\u0433\\u0438\\u043c\\u0438\",\"\\u0433\\u043b\\u0430\\u0437\\u0430\\u043c\\u0438\",\"\\u043f\\u043e\\u043d\\u0438\\u043c\\u0430\\u0435\\u0442\",\"\\u0434\\u0430\\u0447\\u0435\",\"\\u0433\\u0440\\u044f\\u0437\\u0438\",\"\\u043f\\u0440\\u043e\\u0441\\u0442\\u0438\\u0442\\u0443\\u0442\\u043a\\u0430\",\"\\u0441\\u0447\\u0430\\u0441\\u0442\\u043b\\u0438\\u0432\\u043e\\u0439\",\"\\u0431\\u0443\\u0434\\u0443\\u0442.\",\"\\u0431\\u043b\\u0438\\u0437\\u043a\\u043e\",\"\\u0441\\u0442\\u043e\\u044f\\u043b\",\"\\u043d\\u0430\\u0437\\u044b\\u0432\\u0430\\u043b\\u0438\",\"\\u0441\\u043f\\u043e\\u043a\\u043e\\u0439\\u043d\\u043e\\u0439\",\"\\u043f\\u043e\\u043b\\u043e\\u0432\\u0438\\u043d\\u0443\",\"\\u0447\\u0443\\u0432\\u0441\\u0442\\u0432\\u043e\",\"\\u0434\\u0435\\u0432\\u043e\\u0447\\u043a\\u0443\",\"\\u0440\\u043e\\u0434\\u043d\\u0430\\u044f\",\"\\u0442\\u0432\\u0430\\u0440\\u044c,\",\"\\u0441\\u0442\\u0430\\u0442\\u044c\\u044f\",\"\\u0436\\u0438\\u0442\\u044c,\",\"\\u043d\\u043e\\u0433\",\"\\u043e\\u0442\\u043a\\u0440\\u044b\\u0432\\u0430\\u0435\\u0442\\u0441\\u044f\",\"\\u0431\\u043e\\u043b\\u044c\\u0448\\u043e\\u0433\\u043e\",\"\\u0441\\u043a\\u0438\\u043d\\u0443\\u0442\\u044c\",\"\\u0441\\u043b\\u044b\\u0448\\u0430\\u043b\\u0430\",\"\\u0433\\u043b\\u044f\\u0434\\u044f\",\"\\u0434\\u0440\\u0443\\u0437\\u044c\\u044f\\u043c\",\"\\u043c\\u0435\\u0448\\u0430\\u0435\\u0442\",\"\\u0431\\u043e\\u043b\\u044c\\u043d\\u044b\\u0435\",\"\\u0441\\u0442\\u043e\\u0440\\u043e\\u043d\\u0435\",\"\\u043f\\u0440\\u043e\\u0441\\u0438\\u0442\",\"\\u0434\\u043e\\u043b\\u0431\\u043e\\u0435\\u0431\\u043e\\u0432\",\"\\u043e\\u0431\\u0449\\u0430\\u0442\\u044c\\u0441\\u044f\",\"\\u0437\\u0430\\u0431\\u044b\\u043b\\u0430\",\"\\u043a\\u043e\\u0441\\u0442\\u044e\\u043c\",\"\\u0432\\u043e\\u043e\\u0431\\u0449\\u0435,\",\"\\u043f\\u043e\\u043f\\u0440\\u043e\\u0431\\u0443\\u0439\",\"\\u0433\\u0430\\u0432\\u043d\\u043e\",\"\\u043e\\u0447\\u0435\\u0440\\u0435\\u0434\\u043d\\u0430\\u044f\",\"\\u043f\\u043e\\u043a\\u0430\\u0437\\u044b\\u0432\\u0430\\u0435\\u0442\",\"\\u0438\\u0441\\u043a\\u0440\\u0435\\u043d\\u043d\\u0435\",\"\\u0443\\u0432\\u0430\\u0436\\u0435\\u043d\\u0438\\u044f\",\"\\u043f\\u044c\\u044f\\u043d\\u044b\\u0439\",\"\\u0438\\u0437\\u0432\\u0438\\u043d\\u0438\\u0442\\u0435,\",\"\\u0435\\u0434\\u0438\\u043d\\u0441\\u0442\\u0432\\u0435\\u043d\\u043d\\u044b\\u0439\",\",\\u0442\\u0430\\u043a\",\"\\u043f\\u044b\\u0442\\u0430\\u044e\\u0442\\u0441\\u044f\",\"\\u043a\\u0440\\u0430\\u0441\\u043d\\u044b\\u0439\",\"\\u0432\\u043e\\u0441\\u043a\\u0440\\u0435\\u0441\\u0435\\u043d\\u044c\\u0435\",\"\\u0441\\u0435\\u043a\\u0441\",\"\\u0434\\u043e\\u0441\\u0442\\u043e\\u0439\\u043d\\u043e\",\"\\u0432\\u0440\\u0430\\u0442\\u044c\",\"\\u0432\\u043e\\u0434\\u0435\",\"\\u0431\\u0435\\u043b\\u0430\\u0440\\u0443\\u0441\\u0438\",\"\\u0441\\u043a\\u0438\\u043d\\u044c\\u0442\\u0435\",\"\\u043e\\u0442\\u043f\\u0443\\u0441\\u043a\",\"\\u0447\\u0451\\u0440\\u043d\\u044b\\u0439\",\"\\u0441\\u0443\\u0447\\u043a\\u0430\",\"\\u0442\\u0430\\u043c.\",\"\\u0444\",\"\\u0446\\u0435\\u043d\\u0443?\",\"\\u0436\\u0438\\u0432\\u0451\\u0442\\u0435\",\"\\u043a\\u0430\\u043a\\u0430\\u044f-\\u0442\\u043e\",\"\\u043f\\u0440\\u0435\\u043a\\u0440\\u0430\\u0441\\u043d\\u043e\\u0433\\u043e\",\"\\u043b\\u0443\\u043a\\u0430\",\"\\u0434\\u0435\\u0440\\u0435\\u0432\\u044c\\u044f\",\"\\u0432\\u0437\\u0440\\u043e\\u0441\\u043b\\u044b\\u0445\",\"\\u043c\\u0435\\u0441\\u0442\",\"\\u0432\\u044b\\u0445\\u043e\\u0434\",\"...\\u0430\",\"\\u0431\\u0435\\u0440\\u0435\\u0442\",\"\\u0441\\u043e\\u044e\\u0437\\u0435\",\"\\u043d\\u0430\\u043a\\u0430\\u0437\\u044b\\u0432\\u0430\\u0442\\u044c\",\"\\u0447\\u0435\\u043b\\u043e\\u0432\\u0435\\u043a!\",\"\\u0443\\u0445\",\"\\u0441\\u043e\\u0432\\u0435\\u0442\\u044b\",\"\\u044f\\u0437\\u044b\\u043a\\u043e\\u043c\",\"......\",\"\\u0437\\u0430\\u0431\\u0435\\u0440\\u0443\",\"\\u0433\\u043b\\u0430\\u0437\\u043a\\u0438\",\"\\u043f\\u0440\\u043e\\u0441\\u0442\\u043e\\u0433\\u043e\",\"\\u0440\\u0430\\u0441\\u0441\\u043a\\u0430\\u0437\",\"\\u043e\\u0442\\u0434\\u044b\\u0445\",\"\\u043c\\u0430\\u043b\\u043e,\",\"\\u0432\\u0430\\u043c\\u0438.\",\"\\u043f\\u043e\\u0441\\u0442\\u0443\\u043f\\u043a\\u0438\",\"\\u0430\\u043a\\u0442\\u0440\\u0438\\u0441\\u0430\",\"\\u043b\\u044e\\u0431\\u0430\\u044f\",\"\\u043d\\u0435\\u0447\\u0435\\u043c\",\"\\u0433\\u043e\\u043b\\u043e\\u0441\\u043e\\u0432\\u0430\\u0442\\u044c\",\"\\u043d\\u0435\\u0441\\u0442\\u0438\",\"\\u043b\\u0443\\u0447\\u0448\\u0430\\u044f\",\"\\u0441\\u0442\\u0440\\u0430\\u0448\\u043d\\u043e\\u0435\",\"\\u0441\\u043b\\u0443\\u0448\\u0430\\u0439\",\"\\u0443\\u043c\\u043d\\u0430\\u044f\",\"\\u043c\\u043e\\u043b\\u043e\\u0434\\u043e\\u0441\\u0442\\u0438\",\"\\u043d\\u0440\\u0430\\u0432\\u0438\\u0442\\u0441\\u044f,\",\"\\u0441\\u043b\\u043e\\u0432\\u0430\\u043c\\u0438\",\"\\u0444\\u0430\\u0448\\u0438\\u0441\\u0442\\u043e\\u0432\",\"\\u043e\\u0431\\u0435\\u0434\"],\"x1\":{\"__ndarray__\":\"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\",\"dtype\":\"float64\",\"order\":\"little\",\"shape\":[3000]},\"x2\":{\"__ndarray__\":\"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\",\"dtype\":\"float64\",\"order\":\"little\",\"shape\":[3000]}},\"selected\":{\"id\":\"1144\"},\"selection_policy\":{\"id\":\"1145\"}},\"id\":\"1120\",\"type\":\"ColumnDataSource\"},{\"attributes\":{\"text\":\"TSNE representation of FastText vectors (top 3k words)\"},\"id\":\"1093\",\"type\":\"Title\"},{\"attributes\":{\"active_multi\":null,\"tools\":[{\"id\":\"1111\"},{\"id\":\"1112\"},{\"id\":\"1113\"},{\"id\":\"1114\"}]},\"id\":\"1115\",\"type\":\"Toolbar\"},{\"attributes\":{},\"id\":\"1143\",\"type\":\"AllLabels\"},{\"attributes\":{},\"id\":\"1108\",\"type\":\"BasicTicker\"},{\"attributes\":{\"axis\":{\"id\":\"1103\"},\"ticker\":null},\"id\":\"1106\",\"type\":\"Grid\"},{\"attributes\":{},\"id\":\"1111\",\"type\":\"PanTool\"},{\"attributes\":{\"axis\":{\"id\":\"1107\"},\"dimension\":1,\"ticker\":null},\"id\":\"1110\",\"type\":\"Grid\"},{\"attributes\":{\"formatter\":{\"id\":\"1139\"},\"major_label_policy\":{\"id\":\"1140\"},\"ticker\":{\"id\":\"1108\"}},\"id\":\"1107\",\"type\":\"LinearAxis\"}],\"root_ids\":[\"1092\"]},\"title\":\"Bokeh Application\",\"version\":\"2.3.3\"}};\n",
              "  var render_items = [{\"docid\":\"93a1b042-a207-45df-b61c-29839634c87c\",\"root_ids\":[\"1092\"],\"roots\":{\"1092\":\"f340f16a-b697-42fc-8169-2ffd4b650e77\"}}];\n",
              "  root.Bokeh.embed.embed_items_notebook(docs_json, render_items);\n",
              "\n",
              "  }\n",
              "  if (root.Bokeh !== undefined) {\n",
              "    embed_document(root);\n",
              "  } else {\n",
              "    var attempts = 0;\n",
              "    var timer = setInterval(function(root) {\n",
              "      if (root.Bokeh !== undefined) {\n",
              "        clearInterval(timer);\n",
              "        embed_document(root);\n",
              "      } else {\n",
              "        attempts++;\n",
              "        if (attempts > 100) {\n",
              "          clearInterval(timer);\n",
              "          console.log(\"Bokeh: ERROR: Unable to run BokehJS code because BokehJS library is missing\");\n",
              "        }\n",
              "      }\n",
              "    }, 10, root)\n",
              "  }\n",
              "})(window);"
            ],
            "application/vnd.bokehjs_exec.v0+json": ""
          },
          "metadata": {
            "application/vnd.bokehjs_exec.v0+json": {
              "id": "1092"
            }
          },
          "output_type": "display_data"
        }
      ]
    },
    {
      "cell_type": "markdown",
      "metadata": {
        "id": "XGMIgssJREoy"
      },
      "source": [
        "Now try to preprocess texts!<br>\n",
        "write function to preprocess texts. You can do whatever you want:\n",
        " - delete stop words\n",
        " - delete punctuation\n",
        " - lematize words\n",
        " - stemming\n",
        " - lower texts\n",
        "\n",
        " After that you can explore texts and their representation"
      ]
    },
    {
      "cell_type": "markdown",
      "metadata": {
        "id": "E8vIXQnXR6ko"
      },
      "source": [
        "## Part 2"
      ]
    },
    {
      "cell_type": "markdown",
      "metadata": {
        "id": "JnHbxJYw0D1C"
      },
      "source": [
        "In this task we will solve task of classification sentiment of text. For this purpose install python library datasets which contains IMDB dataset. This is dataset for binary classification. <br>\n",
        "Our main goals are:\n",
        "- solve real task;\n",
        "- try to write custom classes for processing data;\n",
        "- use pretrained vector representaition (aka transfer learning);\n",
        "- try new arhitecture for classification task."
      ]
    },
    {
      "cell_type": "code",
      "metadata": {
        "colab": {
          "background_save": true
        },
        "id": "WkPwemZ2QeTL"
      },
      "source": [
        "!pip install datasets > /dev/null"
      ],
      "execution_count": null,
      "outputs": []
    },
    {
      "cell_type": "code",
      "metadata": {
        "colab": {
          "background_save": true
        },
        "id": "TspVDW9TSiXP"
      },
      "source": [
        "import datasets"
      ],
      "execution_count": null,
      "outputs": []
    },
    {
      "cell_type": "markdown",
      "metadata": {
        "id": "ZwCNa9E-gKvi"
      },
      "source": [
        "Loading IMDB dataset"
      ]
    },
    {
      "cell_type": "code",
      "metadata": {
        "colab": {
          "background_save": true,
          "base_uri": "https://localhost:8080/",
          "height": 66,
          "referenced_widgets": [
            "54b56d88540845ea8ab7206e6372603c"
          ]
        },
        "id": "7Uulr7deSgto",
        "outputId": "7d5a89a5-347c-4872-c3a8-736223b3ac58"
      },
      "source": [
        "text_dataset = datasets.load_dataset(\"imdb\")"
      ],
      "execution_count": null,
      "outputs": [
        {
          "name": "stderr",
          "output_type": "stream",
          "text": [
            "Reusing dataset imdb (/root/.cache/huggingface/datasets/imdb/plain_text/1.0.0/e3c66f1788a67a89c7058d97ff62b6c30531e05b549de56d3ab91891f0561f9a)\n"
          ]
        },
        {
          "data": {
            "application/vnd.jupyter.widget-view+json": {
              "model_id": "54b56d88540845ea8ab7206e6372603c",
              "version_major": 2,
              "version_minor": 0
            },
            "text/plain": [
              "  0%|          | 0/3 [00:00<?, ?it/s]"
            ]
          },
          "metadata": {},
          "output_type": "display_data"
        }
      ]
    },
    {
      "cell_type": "code",
      "metadata": {
        "colab": {
          "background_save": true,
          "base_uri": "https://localhost:8080/",
          "height": 265
        },
        "id": "UqQT9KKxS3ui",
        "outputId": "7458c50a-2d73-4f2a-9143-ea5612233933"
      },
      "source": [
        "pd.DataFrame(text_dataset['train'], columns=['label', 'text'])['label'].hist();"
      ],
      "execution_count": null,
      "outputs": [
        {
          "data": {
            "image/png": "[encoded data removed]",
            "text/plain": [
              "<Figure size 432x288 with 1 Axes>"
            ]
          },
          "metadata": {},
          "output_type": "display_data"
        }
      ]
    },
    {
      "cell_type": "code",
      "metadata": {
        "colab": {
          "background_save": true
        },
        "id": "_eW-5HDb6167"
      },
      "source": [
        "df = pd.DataFrame(text_dataset['train'], columns=['label', 'text'])"
      ],
      "execution_count": null,
      "outputs": []
    },
    {
      "cell_type": "markdown",
      "metadata": {
        "id": "B3DEZgV4D1rr"
      },
      "source": [
        "#### Task 6\n"
      ]
    },
    {
      "cell_type": "markdown",
      "metadata": {
        "id": "020hQrYr0S6E"
      },
      "source": [
        "This dataset is rather large, we don`t need so much data. Let's trim our dataset and take only part of it."
      ]
    },
    {
      "cell_type": "markdown",
      "metadata": {
        "id": "3WVaI7MF0UC_"
      },
      "source": [
        "Initialize new df as half of randomly chosen rows of df.<br>\n",
        "You can use different built-in pandas methods, such as sample, loc, iloc."
      ]
    },
    {
      "cell_type": "code",
      "metadata": {
        "colab": {
          "background_save": true,
          "base_uri": "https://localhost:8080/"
        },
        "id": "LWGfpNOwEB9k",
        "outputId": "33cc7977-51a5-439e-b8dd-fe3c7e7ad02b"
      },
      "source": [
        "df = df.sample(int(df.shape[0] * 0.5))\n",
        "df.shape"
      ],
      "execution_count": null,
      "outputs": [
        {
          "data": {
            "text/plain": [
              "(12500, 2)"
            ]
          },
          "execution_count": null,
          "metadata": {},
          "output_type": "execute_result"
        }
      ]
    },
    {
      "cell_type": "code",
      "metadata": {
        "colab": {
          "background_save": true,
          "base_uri": "https://localhost:8080/",
          "height": 265
        },
        "id": "Yza7pT9U80H-",
        "outputId": "871552ac-d8e2-4707-f5af-38d23407ea91"
      },
      "source": [
        "df['label'].hist();"
      ],
      "execution_count": null,
      "outputs": [
        {
          "data": {
            "image/png": "[encoded data removed]",
            "text/plain": [
              "<Figure size 432x288 with 1 Axes>"
            ]
          },
          "metadata": {},
          "output_type": "display_data"
        }
      ]
    },
    {
      "cell_type": "markdown",
      "metadata": {
        "id": "6IQioTb8gFMa"
      },
      "source": [
        "Before we start working with text, we need to learn how to initialize some layer of neural network with pretrained or predefined vectors.<br> We will use this mechanism if work with pretrained words representaion or pretrained layers of other network."
      ]
    },
    {
      "cell_type": "code",
      "metadata": {
        "colab": {
          "background_save": true
        },
        "id": "QZUP7KqKS5nK"
      },
      "source": [
        "some_vectors = torch.rand((10,50), dtype=torch.float32)"
      ],
      "execution_count": null,
      "outputs": []
    },
    {
      "cell_type": "code",
      "metadata": {
        "colab": {
          "background_save": true
        },
        "id": "gZo4j0iZVGOC"
      },
      "source": [
        "custom_layer = nn.Embedding(10, 50)"
      ],
      "execution_count": null,
      "outputs": []
    },
    {
      "cell_type": "code",
      "metadata": {
        "colab": {
          "background_save": true
        },
        "id": "RTwkk5hgVGFH"
      },
      "source": [
        "custom_layer.weight = nn.Parameter(some_vectors.clone().detach().requires_grad_(True))"
      ],
      "execution_count": null,
      "outputs": []
    },
    {
      "cell_type": "markdown",
      "metadata": {
        "id": "5loc-nF80jZX"
      },
      "source": [
        "#### Downloading pretrained vectors"
      ]
    },
    {
      "cell_type": "markdown",
      "metadata": {
        "id": "j3fzycQJ0kh8"
      },
      "source": [
        "In NLP we have some libraries, that contains pretrained word representaions trained on large corpuses of texts. Some times they contains word representations for several languages (also russian).<br>\n",
        "One library, that we will use `Gensim`."
      ]
    },
    {
      "cell_type": "code",
      "metadata": {
        "colab": {
          "background_save": true
        },
        "id": "Vt44kXP2S5gG"
      },
      "source": [
        "import gensim.downloader"
      ],
      "execution_count": null,
      "outputs": []
    },
    {
      "cell_type": "markdown",
      "metadata": {
        "id": "6LdLiXya0pjc"
      },
      "source": [
        "We can see what models represented in whis library"
      ]
    },
    {
      "cell_type": "code",
      "metadata": {
        "colab": {
          "background_save": true,
          "base_uri": "https://localhost:8080/"
        },
        "id": "THX-SwDBTfOt",
        "outputId": "ebb1ec86-7408-4da6-e588-126fd622c097"
      },
      "source": [
        "list(gensim.downloader.info()['models'].keys())"
      ],
      "execution_count": null,
      "outputs": [
        {
          "data": {
            "text/plain": [
              "['fasttext-wiki-news-subwords-300',\n",
              " 'conceptnet-numberbatch-17-06-300',\n",
              " 'word2vec-ruscorpora-300',\n",
              " 'word2vec-google-news-300',\n",
              " 'glove-wiki-gigaword-50',\n",
              " 'glove-wiki-gigaword-100',\n",
              " 'glove-wiki-gigaword-200',\n",
              " 'glove-wiki-gigaword-300',\n",
              " 'glove-twitter-25',\n",
              " 'glove-twitter-50',\n",
              " 'glove-twitter-100',\n",
              " 'glove-twitter-200',\n",
              " '__testing_word2vec-matrix-synopsis']"
            ]
          },
          "execution_count": null,
          "metadata": {},
          "output_type": "execute_result"
        }
      ]
    },
    {
      "cell_type": "markdown",
      "metadata": {
        "id": "glnW4_9l0saT"
      },
      "source": [
        "Gensim contains vector representaion not only for word2vec, but for `Glove` and `Fasttext`. All of them give us realization of distributional semantics converted in different, but rather similar approaches.<br>\n",
        "We will use `glove` vectors just for their light weights and appropriate representation. You can try some other models by yourself."
      ]
    },
    {
      "cell_type": "code",
      "metadata": {
        "colab": {
          "background_save": true
        },
        "id": "JIZwT-ROS5W4"
      },
      "source": [
        "glove_vectors = gensim.downloader.load('glove-twitter-100')"
      ],
      "execution_count": null,
      "outputs": []
    },
    {
      "cell_type": "code",
      "metadata": {
        "colab": {
          "background_save": true,
          "base_uri": "https://localhost:8080/"
        },
        "id": "mwCbnL3iTwsQ",
        "outputId": "f1273ec1-7229-4c8b-c7c4-690052cb943d"
      },
      "source": [
        "glove_vectors.vectors.shape"
      ],
      "execution_count": null,
      "outputs": [
        {
          "data": {
            "text/plain": [
              "(1193514, 100)"
            ]
          },
          "execution_count": null,
          "metadata": {},
          "output_type": "execute_result"
        }
      ]
    },
    {
      "cell_type": "code",
      "metadata": {
        "colab": {
          "background_save": true,
          "base_uri": "https://localhost:8080/"
        },
        "id": "OAeA6mZNZtfQ",
        "outputId": "4f0dbbb3-27fa-4163-b36b-ade7f772264a"
      },
      "source": [
        "list(glove_vectors.vocab.keys())[250:300]"
      ],
      "execution_count": null,
      "outputs": [
        {
          "data": {
            "text/plain": [
              "['itu',\n",
              " 'على',\n",
              " '-_-',\n",
              " '☺',\n",
              " 'over',\n",
              " 'um',\n",
              " 'ما',\n",
              " 'hate',\n",
              " 'girl',\n",
              " 'ai',\n",
              " 'had',\n",
              " 'pra',\n",
              " 'todo',\n",
              " 'mais',\n",
              " 'feel',\n",
              " 'let',\n",
              " 'ini',\n",
              " 'because',\n",
              " 'ﾟ',\n",
              " 'thanks',\n",
              " 'ah',\n",
              " 'way',\n",
              " 'ever',\n",
              " 'look',\n",
              " 'tweet',\n",
              " 'followers',\n",
              " 'should',\n",
              " 'our',\n",
              " 'xd',\n",
              " 'aja',\n",
              " 'esta',\n",
              " 'school',\n",
              " 'him',\n",
              " 'ser',\n",
              " 'take',\n",
              " 'than',\n",
              " 'video',\n",
              " 'em',\n",
              " 'last',\n",
              " 'wanna',\n",
              " 'does',\n",
              " 'us',\n",
              " 'miss',\n",
              " 'l',\n",
              " 'ga',\n",
              " 'better',\n",
              " 'well',\n",
              " 'could',\n",
              " '▽',\n",
              " '%']"
            ]
          },
          "execution_count": null,
          "metadata": {},
          "output_type": "execute_result"
        }
      ]
    },
    {
      "cell_type": "markdown",
      "metadata": {
        "id": "j4HKyi3aVu2z"
      },
      "source": [
        "##### Task 7\n",
        "Initialize loaded weights from gensim to some embedding matrix"
      ]
    },
    {
      "cell_type": "code",
      "metadata": {
        "colab": {
          "background_save": true
        },
        "id": "euYqR-88VnpX"
      },
      "source": [
        "embedding_matrix = glove_vectors.vectors\n",
        "embedding = nn.Embedding(*glove_vectors.vectors.shape)\n",
        "embedding.weight = nn.Parameter(torch.tensor(embedding_matrix, dtype=torch.float32))"
      ],
      "execution_count": null,
      "outputs": []
    },
    {
      "cell_type": "code",
      "metadata": {
        "colab": {
          "background_save": true
        },
        "id": "omhfJYfCV33e"
      },
      "source": [
        "assert embedding_matrix.shape == (1193514, 100)\n",
        "assert embedding_matrix[23].sum() < -4.45\n",
        "assert cos_similarity(embedding_matrix[42], embedding_matrix[23]) < 0.57"
      ],
      "execution_count": null,
      "outputs": []
    },
    {
      "cell_type": "markdown",
      "metadata": {
        "id": "8sLJ7ctqgctS"
      },
      "source": [
        "After get loaded pretrained weights we can get back to explore data. We will use simple nltk WordPuckt tokenizer to split  punctuation and words from each other. Also you can try here TwitterTokenizer or some other methods."
      ]
    },
    {
      "cell_type": "code",
      "metadata": {
        "colab": {
          "background_save": true
        },
        "id": "TqwXB5bya5Vl"
      },
      "source": [
        "from nltk.tokenize import WordPunctTokenizer\n",
        "\n",
        "tokenizer = WordPunctTokenizer()"
      ],
      "execution_count": null,
      "outputs": []
    },
    {
      "cell_type": "markdown",
      "metadata": {
        "id": "53rSqW4A04W1"
      },
      "source": [
        "Look at the lengths of each sample of data and collect in list `l`"
      ]
    },
    {
      "cell_type": "code",
      "metadata": {
        "colab": {
          "background_save": true,
          "base_uri": "https://localhost:8080/",
          "height": 49,
          "referenced_widgets": [
            "eea441cd23b24410a42a72041b33dd6e"
          ]
        },
        "id": "ORU3mXBVZ8zm",
        "outputId": "25bff346-3799-48b7-b63c-7a9ece6f155f"
      },
      "source": [
        "\n",
        "l = list()\n",
        "for text in tqdm(df['text']):\n",
        "    l.append(len(tokenizer.tokenize(text.lower())))"
      ],
      "execution_count": null,
      "outputs": [
        {
          "data": {
            "application/vnd.jupyter.widget-view+json": {
              "model_id": "eea441cd23b24410a42a72041b33dd6e",
              "version_major": 2,
              "version_minor": 0
            },
            "text/plain": [
              "  0%|          | 0/12500 [00:00<?, ?it/s]"
            ]
          },
          "metadata": {},
          "output_type": "display_data"
        }
      ]
    },
    {
      "cell_type": "code",
      "metadata": {
        "colab": {
          "background_save": true,
          "base_uri": "https://localhost:8080/",
          "height": 435
        },
        "id": "LpQtXnOXZ8tW",
        "outputId": "39f4cb62-f4bb-41e6-d25e-43700d07118a"
      },
      "source": [
        "print(pd.Series(l).describe())\n",
        "pd.Series(l).plot()"
      ],
      "execution_count": null,
      "outputs": [
        {
          "name": "stdout",
          "output_type": "stream",
          "text": [
            "count    12500.00000\n",
            "mean       283.38920\n",
            "std        211.79205\n",
            "min         13.00000\n",
            "25%        153.00000\n",
            "50%        211.00000\n",
            "75%        344.00000\n",
            "max       2223.00000\n",
            "dtype: float64\n"
          ]
        },
        {
          "data": {
            "text/plain": [
              "<matplotlib.axes._subplots.AxesSubplot at 0x7f193d981b90>"
            ]
          },
          "execution_count": null,
          "metadata": {},
          "output_type": "execute_result"
        },
        {
          "data": {
            "image/png": "[encoded data removed]",
            "text/plain": [
              "<Figure size 432x288 with 1 Axes>"
            ]
          },
          "metadata": {},
          "output_type": "display_data"
        }
      ]
    },
    {
      "cell_type": "markdown",
      "metadata": {
        "id": "SNOx-JIR08Bz"
      },
      "source": [
        "If you see outliers of length you can preprocess your data and delete or split such long examples."
      ]
    },
    {
      "cell_type": "markdown",
      "metadata": {
        "id": "ePB81trGcH-n"
      },
      "source": [
        "it can be seen that 90% of the texts do not exceed 1500 tokens. Let's take the quantile 0.95 with a margin and initialize the variable max_len with this value."
      ]
    },
    {
      "cell_type": "markdown",
      "metadata": {
        "id": "sS10uwo2EqSu"
      },
      "source": [
        "##### Task 8"
      ]
    },
    {
      "cell_type": "markdown",
      "metadata": {
        "id": "OAc6MGTO1ELx"
      },
      "source": [
        "Just for simplicity we will delete samples, that have legth over some border value.<br>\n",
        "Take the quantile 0.95 of `l` with a margin and initialize the variable max_len with this value."
      ]
    },
    {
      "cell_type": "code",
      "metadata": {
        "colab": {
          "background_save": true,
          "base_uri": "https://localhost:8080/"
        },
        "id": "xkCpvUhHcCZ4",
        "outputId": "6738f81d-cc28-491d-f73b-70c99caa6d3c"
      },
      "source": [
        "max_len = pd.Series(l).quantile(0.95)\n",
        "max_len"
      ],
      "execution_count": null,
      "outputs": [
        {
          "data": {
            "text/plain": [
              "725.0499999999993"
            ]
          },
          "execution_count": null,
          "metadata": {},
          "output_type": "execute_result"
        }
      ]
    },
    {
      "cell_type": "markdown",
      "metadata": {
        "id": "2Eo3TFJ51IWT"
      },
      "source": [
        "Create vocab of each token in our dataset.<br>\n",
        "Some approaches to fix their order:\n",
        "- we can count frequencies of each token, enumerate their order and fix it;\n",
        "- use countvectorizer form sklearn;\n",
        "- lexicographically sort all tokens in vocab and fix order.<br>\n",
        "\n",
        "You can come up with your own method - it`s all up to you."
      ]
    },
    {
      "cell_type": "code",
      "metadata": {
        "colab": {
          "background_save": true
        },
        "id": "d0zLOpdFh4qJ"
      },
      "source": [
        "from collections import Counter"
      ],
      "execution_count": null,
      "outputs": []
    },
    {
      "cell_type": "markdown",
      "metadata": {
        "id": "HAz3JS0j1Pf1"
      },
      "source": [
        "We will count all tokens and fix their ranks. <br>\n",
        "All unknown tokens, that are not present in vocab we will translate into special `<UNK>` token, thats why we add it in vocab."
      ]
    },
    {
      "cell_type": "code",
      "metadata": {
        "colab": {
          "background_save": true,
          "base_uri": "https://localhost:8080/",
          "height": 49,
          "referenced_widgets": [
            "777ecf0fa00b4591b9cf25f23e27ac72"
          ]
        },
        "id": "FNtTEj9X2IxF",
        "outputId": "4ec13a95-6ce3-4f27-9d6c-1e1163ddba6a"
      },
      "source": [
        "words = list()\n",
        "for text in tqdm(df['text']):\n",
        "    words.extend(tokenizer.tokenize(text.lower()))\n",
        "index2word = dict(enumerate((word[0] for word in Counter(words).most_common()), start=1))\n",
        "index2word[0] = '<UNK>'\n",
        "word_index = {word: ind for ind, word in index2word.items()}"
      ],
      "execution_count": null,
      "outputs": [
        {
          "data": {
            "application/vnd.jupyter.widget-view+json": {
              "model_id": "777ecf0fa00b4591b9cf25f23e27ac72",
              "version_major": 2,
              "version_minor": 0
            },
            "text/plain": [
              "  0%|          | 0/12500 [00:00<?, ?it/s]"
            ]
          },
          "metadata": {},
          "output_type": "display_data"
        }
      ]
    },
    {
      "cell_type": "code",
      "metadata": {
        "colab": {
          "background_save": true,
          "base_uri": "https://localhost:8080/"
        },
        "id": "Q7KzEn9KjX4y",
        "outputId": "841768d5-4c95-48de-ef65-a4c9fe3e8375"
      },
      "source": [
        "len(word_index)"
      ],
      "execution_count": null,
      "outputs": [
        {
          "data": {
            "text/plain": [
              "57589"
            ]
          },
          "execution_count": null,
          "metadata": {},
          "output_type": "execute_result"
        }
      ]
    },
    {
      "cell_type": "markdown",
      "metadata": {
        "id": "wGD2nJVd1TF8"
      },
      "source": [
        "After fixing order of words we can create metrix of vectors.<br>\n",
        "In each row their will be vector for corresponding word. Index of word is equal to index in our vocabulary.<br>\n",
        "We will take pretrained vectors from uploaded glove vectors representation."
      ]
    },
    {
      "cell_type": "code",
      "metadata": {
        "colab": {
          "background_save": true
        },
        "id": "p5zq9Qyvked5"
      },
      "source": [
        "def load_w2v(words_dict, w2v, embed_size=100, max_features=100_000):\n",
        "  emb_matrix = np.zeros((min(max_features, len(words_dict)), embed_size))\n",
        "  for word, ind in words_dict.items():\n",
        "      if ind >= max_features:\n",
        "        break\n",
        "      try:\n",
        "        embedding_vector = w2v.get_vector(word)\n",
        "      except KeyError:\n",
        "        embedding_vector = None\n",
        "      if embedding_vector is not None:\n",
        "        emb_matrix[ind] = embedding_vector\n",
        "  return normalize_vectors(emb_matrix)"
      ],
      "execution_count": null,
      "outputs": []
    },
    {
      "cell_type": "code",
      "metadata": {
        "colab": {
          "background_save": true
        },
        "id": "hUH7heH2meFb"
      },
      "source": [
        "embedding_matrix = load_w2v(word_index, glove_vectors)"
      ],
      "execution_count": null,
      "outputs": []
    },
    {
      "cell_type": "markdown",
      "metadata": {
        "id": "RV3pDDdK1WJz"
      },
      "source": [
        "Some times we need to write custom classes for dataset to pass our data into model.<br>\n",
        "We write our class, and each document will be eaqual size, for simple processing by model. Size of each train sample tensor we choose as `max_len` - all samples that are longer will be trimmed by our model."
      ]
    },
    {
      "cell_type": "code",
      "metadata": {
        "colab": {
          "background_save": true
        },
        "id": "Y8RmGeyaby64"
      },
      "source": [
        "class CustomDataset:\n",
        "  def __init__(self, data, targets, tokenize, word2index, max_len=max_len):\n",
        "    self.data = data\n",
        "    self.targets = targets\n",
        "    self.tokenize = tokenize\n",
        "    self.word2index = word2index\n",
        "\n",
        "  def __len__(self):\n",
        "    return len(self.data)\n",
        "\n",
        "  def __getitem__(self, idx):\n",
        "    text = self.data[idx]\n",
        "    label = self.targets[idx]\n",
        "\n",
        "    input_ids = np.zeros((int(max_len),))\n",
        "    row = self.tokenize(text.lower())\n",
        "    for ind, word in enumerate(row):\n",
        "      if ind < max_len - 1:\n",
        "        input_ids[ind] = self.word2index.get(word, 0)\n",
        "    \n",
        "    return {\n",
        "        'text': torch.tensor(input_ids, dtype=torch.long),\n",
        "        'label': torch.tensor(label, dtype=torch.long)\n",
        "    }"
      ],
      "execution_count": null,
      "outputs": []
    },
    {
      "cell_type": "markdown",
      "metadata": {
        "id": "eV1phAtgDOS_"
      },
      "source": [
        "##### Task 9"
      ]
    },
    {
      "cell_type": "markdown",
      "metadata": {
        "id": "wE71WBfp1eAm"
      },
      "source": [
        "Create `train_dataset` variable as instance of class CustomDataset"
      ]
    },
    {
      "cell_type": "code",
      "metadata": {
        "colab": {
          "background_save": true
        },
        "id": "zNV7HuCGF49T"
      },
      "source": [
        "# YOUR CODE HERE"
      ],
      "execution_count": null,
      "outputs": []
    },
    {
      "cell_type": "code",
      "metadata": {
        "colab": {
          "background_save": true
        },
        "id": "DejMLcWjgFdt"
      },
      "source": [
        "train_dataset = CustomDataset(df['text'].reset_index(drop=True),\n",
        "                              df['label'].reset_index(drop=True),\n",
        "                              tokenizer.tokenize, word_index)"
      ],
      "execution_count": null,
      "outputs": []
    },
    {
      "cell_type": "code",
      "metadata": {
        "colab": {
          "background_save": true,
          "base_uri": "https://localhost:8080/"
        },
        "id": "5JXOa-yui066",
        "outputId": "efdad2d5-405c-4e0c-dca9-bb8fd40538f7"
      },
      "source": [
        "train_dataset[3]"
      ],
      "execution_count": null,
      "outputs": [
        {
          "data": {
            "text/plain": [
              "{'label': tensor(0),\n",
              " 'text': tensor([   18, 13013,    18,  1194,     1,  6582,     6,   122,   497,     4,\n",
              "           122, 12324,    12,     5,  3025, 18966,    23,     1,   721,  1269,\n",
              "          3662,    30,     1,  2810, 35856,    11,   205,     1,  6014,    25,\n",
              "             1,  2770,    23, 28204,  9766,     7,     1,   388,     6,    77,\n",
              "           556,     3,  1631,    32,  1246, 10164,     6,    18,   349,  2272,\n",
              "          1179,     9,  2052,     4,    36,   969,  3352,    32,  9377, 21088,\n",
              "             6,    18, 15967,  1522,  1179,    57,  6909,     2,   153,  1631,\n",
              "             8,    16,  1195,   575,     2,  1532,    32,  4422,  1718, 28205,\n",
              "             6,    18, 18967,  1179,     4,    36,   456,   177,    33,   632,\n",
              "           969,   177,  2077,    32,  3856, 35857,     6,    18,     1,  2086,\n",
              "           255,  1179, 11670,     1, 13859,     3,    14, 12325,     6, 23967,\n",
              "           117,    35,   578,    12,     5,  1799,     3,   722,     2,     5,\n",
              "         28206, 28207,   177,    74,  1055,    17,   967,   212,  1055,    17,\n",
              "         21089,  1996, 10629,     4,   611, 10629,   417,   197,   458,   188,\n",
              "            54,   177,    57, 12326,   874,     3,  2035,     2,     1,   605,\n",
              "             6,  5209, 17273,   139,    41,   240,  3580,   253,    15,    71,\n",
              "            37, 12327,   205,    14,  2956,  2555,    54,   102,  1705, 11671,\n",
              "            12,     5,  3625,     4,   445,    77,   220,   271,  3906,    28,\n",
              "            10,    19,    10,    20,    14,  8441,  3663,   436,    31,     1,\n",
              "         35858,     4,   107,    31,  7685,     4,   792,     3,   103,  1406,\n",
              "          1122,   202,  1841,   167,   452,  4769,  9766,     7,    77,  3353,\n",
              "             4,  1648,    43,     5,  1536,  4851,  1102,     3,  3111,     2,\n",
              "            14, 17274,  2920,     5,  1641,   343,     2,  1238,    32,  1448,\n",
              "         23968,     6,    18,  8720,  3389,  2811,     4,    36,  1034,   135,\n",
              "           565,  5644,    32, 28208, 35859,     6,    18,  1625,     6,     1,\n",
              "           414,  1179, 13014,     1,  6014,    23,    77, 10165,     3,  1631,\n",
              "         28209,   202,  1238,    62,    34,   532,     7, 35860,   109,     2,\n",
              "            26,    12,     1,  1883,     2,     1,  3543,  4348,    12,    77,\n",
              "         18966, 35861,     4,    42,  1968,    66,    30,  2087,     3,  7917,\n",
              "             2,    42, 12328,     5,  1381,    23,  1238,   114,    42,  8171,\n",
              "          5644,    66,    12,     1,  7086,     6,     1, 10165,     3,    63,\n",
              "          3112,     5,  2470,   133,    50,  3353,     4,  1648,     4,    11,\n",
              "             9, 35862,    23,   553,     3,  1238,    57,   591,    15,  6015,\n",
              "            35, 21090, 13860,    95,    41,     5,  1706,     4,    42,   449,\n",
              "             7,    11,     3,  1045,     2,  1981,    57, 13015,     7,  1238,\n",
              "             3,     1,  1706, 14789,     9,   737,     1,   251,   407,     6,\n",
              "           371,    59, 14790,    17,  4184,    15,    90,   297,   109,    53,\n",
              "             6,    77,  4349,     3,     1,  4610,   137,    33,  4350,    77,\n",
              "          2887,     3,  1406,   348,    12,   503,     9,   362,     3,  2077,\n",
              "           532,   230,  1041,     7,    88,     5, 11105,  1110,    30,   189,\n",
              "          1657,     3,  1238,  2692,    15,    49,     9,    69,   476,    25,\n",
              "            36,   565,     4,    34,  1673,     1,  4544, 12325,  2402,    36,\n",
              "         10165,     4,   213,   139,    28,    10,    19,    10,    20,   913,\n",
              "             2,    18, 13013,    18,  8442,    22,     5,  7488,  2379,    24,\n",
              "            54,     1,   333,     6,     5, 28207,    30,   733,  2453,    95,\n",
              "            45, 11671,    87,  8172,  7489,     7,  2812,   531,     3,    42,\n",
              "          2273,     5,   671,  1323,     4, 14791,   202,    30,     5,  8173,\n",
              "           279,   395,   179,   733,   131,    66,    12,  3907,     4,  4769,\n",
              "            23, 14792,    17,   225, 17275,     3,  1028,     2,   290,  3460,\n",
              "          1951,     7,  1214,   230,   425,   347,     2,    26,  1631,    57,\n",
              "             5,  2345,    62,    34,   235,   756,    87,     1,  1171,    23,\n",
              "             5,  4269,  3430,     3,   891,     2,    42,  1904,    15,    38,\n",
              "             6,   109,    57,   445,  5210,     3,   317,     2,    22,    42,\n",
              "            35,    54,     7,   562,    53,     6,  2888,     2,  1631, 12329,\n",
              "             1,  6014,    48,  1238,   137,    41,     1,  7686,     3,  1532,\n",
              "           532,     7,   600,     5,  2236,     6,   924,  1487,   379,  2052,\n",
              "             1,   556,     3,  1532,  1772,    15,    36,  2576,   334,     9,\n",
              "            54,     7,   221,  2989,     4,    34,   779,    77,   373,     3,\n",
              "          1631,  2889,  9767,     7,     1,  1968,     4, 21091,   269,    41,\n",
              "             1,  1738,    23,    36,  7087, 10166,    62,    42,  6300,     7,\n",
              "           373,   109,     3,  1631,  4699,     5, 10167,    12,     1,  4545,\n",
              "            47,     1,  9768,     2,    26,    34,  1130,    50,     3,   119,\n",
              "            10,    19,    10,    20,    69,   484, 13013,    18,     9,    33,\n",
              "             5,  3802,   212,  7273,    24,    15,    31,    61,   383,   494,\n",
              "           139,    51,   494,    23,    94,     1,   508,     9,  2380,   730,\n",
              "            17,  2957,     3,    43,     1,   150,     6,    14, 11106,    17,\n",
              "           830,    24,     2,   290,  1658,    37,   705,    87,  1821,    45,\n",
              "            75,   499,    75,    25,   531,     4,    77,  4611,     3,  1246,\n",
              "         10164,   187,   199,    44,  1496,    22,   274,    17,  1626,  1631,\n",
              "             4,    36,  6164,   261,     9,     1,    75,   320,     7,  2834,\n",
              "            23,    14, 13016,     2,   153,     1,    75,    91,    83,    17,\n",
              "           593,   554,     2,  9377, 21088,     2,     9, 11672,     7,    44,\n",
              "          9769,   969,   232,     3,    22])}"
            ]
          },
          "execution_count": null,
          "metadata": {},
          "output_type": "execute_result"
        }
      ]
    },
    {
      "cell_type": "markdown",
      "metadata": {
        "id": "akR9kLcf1hBD"
      },
      "source": [
        "For this task we try to train Convolutional Neural Network. You can use more simplier architecture for this task.\n",
        "In text classification tasks, if you deal with data short(less than 50 tokens) and middle length(from 50 to 350) you can succesfully use CNN. Other approach we will explore in next seminars."
      ]
    },
    {
      "cell_type": "code",
      "metadata": {
        "colab": {
          "background_save": true
        },
        "id": "B3zAsOSmqvkg"
      },
      "source": [
        "class ConvNeuralNet(nn.Module):\n",
        "    def __init__(self, embedding_matrix, embed_size,\n",
        "                 do_rate1=0.5, n_classes=2):\n",
        "        super(ConvNeuralNet, self).__init__()\n",
        "\n",
        "        self.vocab_size = embedding_matrix.shape[0]\n",
        "        self.embedding_size = embed_size\n",
        "        self.kernel_num = 128\n",
        "        self.kernels_sizes = [2, 4, 8]\n",
        "        \n",
        "        self.embedding = nn.Embedding(*embedding_matrix.shape)\n",
        "        self.embedding.weight = nn.Parameter(torch.tensor(embedding_matrix, dtype=torch.float32))\n",
        "        self.embedding.weight.requires_grad = False\n",
        "        self.convs = nn.ModuleList([nn.Conv2d(1, self.kernel_num, (K, embed_size)) for K in self.kernels_sizes])\n",
        "        self.dropout = nn.Dropout2d(do_rate1)\n",
        "        self.fc1 = nn.Linear(len(self.kernels_sizes) * self.kernel_num, n_classes)\n",
        "\n",
        "    def forward(self, x):\n",
        "        x = self.embedding(x)\n",
        "        x = x.unsqueeze(1)\n",
        "        \n",
        "        x = [F.relu(conv(x)).squeeze(3) for conv in self.convs]\n",
        "        \n",
        "        x = [F.max_pool1d(i, i.size(2)).squeeze(2) for i in x]\n",
        "        \n",
        "        x = torch.cat(x, 1)\n",
        "        \n",
        "        x = self.dropout(x)\n",
        "        logit = self.fc1(x)\n",
        "        return logit"
      ],
      "execution_count": null,
      "outputs": []
    },
    {
      "cell_type": "markdown",
      "metadata": {
        "id": "pmS7HqpqE5mQ"
      },
      "source": [
        "#### Task 10"
      ]
    },
    {
      "cell_type": "markdown",
      "metadata": {
        "id": "f-V0JdBh1piH"
      },
      "source": [
        "Fill the code with calculation of making prediction, calculating loss, backpropogation, optimization"
      ]
    },
    {
      "cell_type": "markdown",
      "metadata": {
        "id": "_AdJSgJw1yri"
      },
      "source": [
        "we initialize device in such way for more flexibility (works on cpu and cuda)"
      ]
    },
    {
      "cell_type": "code",
      "metadata": {
        "colab": {
          "background_save": true
        },
        "id": "PTaemKcjhjq1"
      },
      "source": [
        "device = torch.device('cuda') if torch.cuda.is_available() else  torch.device('cpu')"
      ],
      "execution_count": null,
      "outputs": []
    },
    {
      "cell_type": "markdown",
      "metadata": {
        "id": "t5yFYEjR19ca"
      },
      "source": [
        "For text classification task we use cross_entropy loss function as optimization functionality."
      ]
    },
    {
      "cell_type": "code",
      "metadata": {
        "colab": {
          "background_save": true,
          "base_uri": "https://localhost:8080/"
        },
        "id": "rHXP06ORFcru",
        "outputId": "220cae28-43de-4741-ea99-825b7272595f"
      },
      "source": [
        "# hyperparameters\n",
        "EPOCHS = 7\n",
        "LR = 3e-4 \n",
        "BATCH_SIZE = 32\n",
        "\n",
        "model = ConvNeuralNet(embedding_matrix, 100).to(device)\n",
        "\n",
        "criterion = torch.nn.CrossEntropyLoss()\n",
        "optimizer = torch.optim.Adam(model.parameters(), lr=LR, weight_decay=1e-4) # for first iter Adam is one of the best optimizers"
      ],
      "execution_count": null,
      "outputs": [
        {
          "name": "stderr",
          "output_type": "stream",
          "text": [
            "/usr/local/lib/python3.7/dist-packages/ipykernel_launcher.py:12: UserWarning: To copy construct from a tensor, it is recommended to use sourceTensor.clone().detach() or sourceTensor.clone().detach().requires_grad_(True), rather than torch.tensor(sourceTensor).\n",
            "  if sys.path[0] == '':\n"
          ]
        }
      ]
    },
    {
      "cell_type": "code",
      "metadata": {
        "colab": {
          "background_save": true
        },
        "id": "wkuc4E9pgSBW"
      },
      "source": [
        "def train(dataloader, optimizer=optimizer, criterion=criterion):\n",
        "    model.train()\n",
        "    total_acc, total_count, total_loss = 0, 0, 0\n",
        "    start_time = time.time()\n",
        "\n",
        "    for idx, batch in enumerate(tqdm(dataloader)):\n",
        "        text = batch['text'].to(device)\n",
        "        label = batch['label'].to(device)\n",
        "        optimizer.zero_grad()\n",
        "        predited_label = model(text)\n",
        "        loss = criterion(predited_label, label)\n",
        "        loss.backward()\n",
        "        total_loss += loss\n",
        "        optimizer.step()\n",
        "        predited_label = predited_label.detach().cpu().numpy()\n",
        "        label = label.to('cpu').numpy()\n",
        "        total_acc += accuracy(predited_label, label)\n",
        "        total_count += len(label)\n",
        "    elapsed = time.time() - start_time\n",
        "    print('| epoch {:3d} | {:5d}/{:5d} batches '\n",
        "                  '| accuracy {:8.3f}| loss {:8.3f}'.format(epoch, idx,\n",
        "                                                            len(dataloader),\n",
        "                                                            total_acc/total_count,\n",
        "                                                            total_loss/total_count\n",
        "                                                            ))\n",
        "    total_acc, total_count = 0, 0\n",
        "    start_time = time.time()"
      ],
      "execution_count": null,
      "outputs": []
    },
    {
      "cell_type": "code",
      "metadata": {
        "colab": {
          "background_save": true
        },
        "id": "UIDke2EcgR5_"
      },
      "source": [
        "def evaluate(dataloader):\n",
        "    model.eval()\n",
        "    total_acc, total_count, total_loss = 0, 0, 0\n",
        "\n",
        "    with torch.no_grad():\n",
        "        for idx, batch in enumerate(dataloader):\n",
        "            text = batch['text'].to(device)\n",
        "            label = batch['label'].to(device)\n",
        "            predited_label = model(text)\n",
        "            total_loss += criterion(predited_label, label)\n",
        "            predited_label = predited_label.detach().cpu().numpy()\n",
        "            label = label.to('cpu').numpy()\n",
        "            total_acc += accuracy(predited_label, label)\n",
        "            total_count += len(label)\n",
        "    print('| epoch {:3d} | {:5d}/{:5d} batches '\n",
        "    '| accuracy {:8.3f}| loss {:8.3f}'.format(epoch, idx,\n",
        "                                              len(dataloader),\n",
        "                                              total_acc/total_count,\n",
        "                                              total_loss/total_count)\n",
        "    )\n",
        "    return total_acc/total_count"
      ],
      "execution_count": null,
      "outputs": []
    },
    {
      "cell_type": "code",
      "metadata": {
        "colab": {
          "background_save": true
        },
        "id": "g9rvUlMXheoe"
      },
      "source": [
        "def accuracy(probs, targets):\n",
        "    outputs = np.argmax(probs, axis=1)\n",
        "    return np.sum(outputs == targets)"
      ],
      "execution_count": null,
      "outputs": []
    },
    {
      "cell_type": "markdown",
      "metadata": {
        "id": "P_IVZC4P2LU7"
      },
      "source": [
        "After writing train and evaluate functions we got ready to start training process. We will get 20% of our train data for validation. On validation metrics we control process of training and prevent overfitting on train data."
      ]
    },
    {
      "cell_type": "code",
      "metadata": {
        "colab": {
          "background_save": true,
          "base_uri": "https://localhost:8080/",
          "height": 890,
          "referenced_widgets": [
            "eb2727e1f4c24a55b36fd0862155a3b8",
            "df4a285b75f343ff9dba8538256101dd",
            "02255ac01d854fb38930ab0060f34006",
            "9034be5fe2954ed0a642a3afc8b36877",
            "d6bfa2a45aad47ae9b12f8e32e55fbff",
            "edeb212677e049219c65b01060403f6d",
            "65d95f5cf6ed4cfcba1fa49c4162eb45"
          ]
        },
        "id": "U_Af924ehsSh",
        "outputId": "9be42067-6444-4653-9f77-cdf23e5af2b6"
      },
      "source": [
        "from torch.utils.data.dataset import random_split\n",
        "import time\n",
        "\n",
        "\n",
        "total_accu = None\n",
        "\n",
        "num_train = int(len(train_dataset) * 0.8)\n",
        "split_train_, split_valid_ = \\\n",
        "    random_split(train_dataset, [num_train, len(train_dataset) - num_train])\n",
        "\n",
        "train_dataloader = torch.utils.data.DataLoader(split_train_, batch_size=BATCH_SIZE,\n",
        "                              shuffle=True)\n",
        "valid_dataloader = torch.utils.data.DataLoader(split_valid_, batch_size=BATCH_SIZE,\n",
        "                              shuffle=True)\n",
        "\n",
        "\n",
        "for epoch in range(1, EPOCHS + 1):\n",
        "    epoch_start_time = time.time()\n",
        "    if epoch == 4:  # разморозим веса наших эмбеддингов, чтобы немного донастроить модель под нашу задачу\n",
        "      model.embedding.weight.requires_grad = True\n",
        "    train(train_dataloader)\n",
        "    accu_val = evaluate(valid_dataloader)\n",
        "    print('-' * 59)\n",
        "    print('| end of epoch {:3d} | time: {:5.2f}s | '\n",
        "          'valid accuracy {:8.3f} '.format(epoch,\n",
        "                                           time.time() - epoch_start_time,\n",
        "                                           accu_val))\n",
        "    print('-' * 59)"
      ],
      "execution_count": null,
      "outputs": [
        {
          "data": {
            "application/vnd.jupyter.widget-view+json": {
              "model_id": "eb2727e1f4c24a55b36fd0862155a3b8",
              "version_major": 2,
              "version_minor": 0
            },
            "text/plain": [
              "  0%|          | 0/313 [00:00<?, ?it/s]"
            ]
          },
          "metadata": {},
          "output_type": "display_data"
        },
        {
          "name": "stderr",
          "output_type": "stream",
          "text": [
            "/usr/local/lib/python3.7/dist-packages/torch/nn/functional.py:652: UserWarning: Named tensors and all their associated APIs are an experimental feature and subject to change. Please do not use them for anything important until they are released as stable. (Triggered internally at  /pytorch/c10/core/TensorImpl.h:1156.)\n",
            "  return torch.max_pool1d(input, kernel_size, stride, padding, dilation, ceil_mode)\n"
          ]
        },
        {
          "name": "stdout",
          "output_type": "stream",
          "text": [
            "| epoch   1 |   312/  313 batches | accuracy    0.600| loss    0.021\n",
            "| epoch   1 |    78/   79 batches | accuracy    0.689| loss    0.020\n",
            "-----------------------------------------------------------\n",
            "| end of epoch   1 | time: 322.08s | valid accuracy    0.689 \n",
            "-----------------------------------------------------------\n"
          ]
        },
        {
          "data": {
            "application/vnd.jupyter.widget-view+json": {
              "model_id": "df4a285b75f343ff9dba8538256101dd",
              "version_major": 2,
              "version_minor": 0
            },
            "text/plain": [
              "  0%|          | 0/313 [00:00<?, ?it/s]"
            ]
          },
          "metadata": {},
          "output_type": "display_data"
        },
        {
          "name": "stdout",
          "output_type": "stream",
          "text": [
            "| epoch   2 |   312/  313 batches | accuracy    0.755| loss    0.017\n",
            "| epoch   2 |    78/   79 batches | accuracy    0.813| loss    0.015\n",
            "-----------------------------------------------------------\n",
            "| end of epoch   2 | time: 318.00s | valid accuracy    0.813 \n",
            "-----------------------------------------------------------\n"
          ]
        },
        {
          "data": {
            "application/vnd.jupyter.widget-view+json": {
              "model_id": "02255ac01d854fb38930ab0060f34006",
              "version_major": 2,
              "version_minor": 0
            },
            "text/plain": [
              "  0%|          | 0/313 [00:00<?, ?it/s]"
            ]
          },
          "metadata": {},
          "output_type": "display_data"
        },
        {
          "name": "stdout",
          "output_type": "stream",
          "text": [
            "| epoch   3 |   312/  313 batches | accuracy    0.820| loss    0.013\n",
            "| epoch   3 |    78/   79 batches | accuracy    0.832| loss    0.013\n",
            "-----------------------------------------------------------\n",
            "| end of epoch   3 | time: 317.90s | valid accuracy    0.832 \n",
            "-----------------------------------------------------------\n"
          ]
        },
        {
          "data": {
            "application/vnd.jupyter.widget-view+json": {
              "model_id": "9034be5fe2954ed0a642a3afc8b36877",
              "version_major": 2,
              "version_minor": 0
            },
            "text/plain": [
              "  0%|          | 0/313 [00:00<?, ?it/s]"
            ]
          },
          "metadata": {},
          "output_type": "display_data"
        },
        {
          "name": "stdout",
          "output_type": "stream",
          "text": [
            "| epoch   4 |   312/  313 batches | accuracy    0.854| loss    0.011\n",
            "| epoch   4 |    78/   79 batches | accuracy    0.866| loss    0.010\n",
            "-----------------------------------------------------------\n",
            "| end of epoch   4 | time: 431.04s | valid accuracy    0.866 \n",
            "-----------------------------------------------------------\n"
          ]
        },
        {
          "data": {
            "application/vnd.jupyter.widget-view+json": {
              "model_id": "d6bfa2a45aad47ae9b12f8e32e55fbff",
              "version_major": 2,
              "version_minor": 0
            },
            "text/plain": [
              "  0%|          | 0/313 [00:00<?, ?it/s]"
            ]
          },
          "metadata": {},
          "output_type": "display_data"
        },
        {
          "name": "stdout",
          "output_type": "stream",
          "text": [
            "| epoch   5 |   312/  313 batches | accuracy    0.900| loss    0.008\n",
            "| epoch   5 |    78/   79 batches | accuracy    0.872| loss    0.009\n",
            "-----------------------------------------------------------\n",
            "| end of epoch   5 | time: 429.34s | valid accuracy    0.872 \n",
            "-----------------------------------------------------------\n"
          ]
        },
        {
          "data": {
            "application/vnd.jupyter.widget-view+json": {
              "model_id": "edeb212677e049219c65b01060403f6d",
              "version_major": 2,
              "version_minor": 0
            },
            "text/plain": [
              "  0%|          | 0/313 [00:00<?, ?it/s]"
            ]
          },
          "metadata": {},
          "output_type": "display_data"
        },
        {
          "name": "stdout",
          "output_type": "stream",
          "text": [
            "| epoch   6 |   312/  313 batches | accuracy    0.936| loss    0.006\n",
            "| epoch   6 |    78/   79 batches | accuracy    0.878| loss    0.009\n",
            "-----------------------------------------------------------\n",
            "| end of epoch   6 | time: 429.27s | valid accuracy    0.878 \n",
            "-----------------------------------------------------------\n"
          ]
        },
        {
          "data": {
            "application/vnd.jupyter.widget-view+json": {
              "model_id": "65d95f5cf6ed4cfcba1fa49c4162eb45",
              "version_major": 2,
              "version_minor": 0
            },
            "text/plain": [
              "  0%|          | 0/313 [00:00<?, ?it/s]"
            ]
          },
          "metadata": {},
          "output_type": "display_data"
        },
        {
          "name": "stdout",
          "output_type": "stream",
          "text": [
            "| epoch   7 |   312/  313 batches | accuracy    0.962| loss    0.004\n",
            "| epoch   7 |    78/   79 batches | accuracy    0.878| loss    0.009\n",
            "-----------------------------------------------------------\n",
            "| end of epoch   7 | time: 428.29s | valid accuracy    0.878 \n",
            "-----------------------------------------------------------\n"
          ]
        }
      ]
    },
    {
      "cell_type": "markdown",
      "metadata": {
        "id": "At99BPuS2OKE"
      },
      "source": [
        "After finish training process, we can use our model to classify real samples of comments."
      ]
    },
    {
      "cell_type": "code",
      "metadata": {
        "colab": {
          "background_save": true,
          "base_uri": "https://localhost:8080/"
        },
        "id": "-w1YOZSyfjdN",
        "outputId": "e353c76d-5bc2-48fa-80fa-a134960f02b6"
      },
      "source": [
        "positive_comment = 'This movie is awesome!'\n",
        "negative_comment = 'This movie is very very bad!'\n",
        "neutral_comment = 'This is so-so'\n",
        "\n",
        "_dataset = CustomDataset([positive_comment, negative_comment, neutral_comment], [0] * 3, tokenizer.tokenize, word_index)\n",
        "_dataloader = torch.utils.data.DataLoader(_dataset, batch_size=32)\n",
        "\n",
        "_x = next(iter(_dataloader))['text'].to(device)\n",
        "probs = torch.softmax(model(_x), 1).detach().cpu().numpy()\n",
        "\n",
        "print(np.round(probs, 3))\n",
        "\n",
        "print(f'Probability of \"{positive_comment}\" to be positive -- {probs[0][1]}')\n",
        "print(f'Probability of \"{negative_comment}\" to be negative -- {probs[1][0]}')\n",
        "print(f'Probability of \"{neutral_comment}\" to be positive -- {probs[2][1]}')\n",
        "\n",
        "del _dataset, _dataloader "
      ],
      "execution_count": null,
      "outputs": [
        {
          "name": "stdout",
          "output_type": "stream",
          "text": [
            "[[0.505 0.495]\n",
            " [0.472 0.528]\n",
            " [0.475 0.525]]\n",
            "Probability of \"This movie is awesome!\" to be positive -- 0.49542003870010376\n",
            "Probability of \"This movie is very very bad!\" to be positive -- 0.4715201258659363\n",
            "Probability of \"This is so-so\" to be positive -- 0.4749404788017273\n"
          ]
        }
      ]
    },
    {
      "cell_type": "code",
      "metadata": {
        "colab": {
          "background_save": true
        },
        "id": "ZUN8c8l3CEUg"
      },
      "source": [
        ""
      ],
      "execution_count": null,
      "outputs": []
    }
  ]
}