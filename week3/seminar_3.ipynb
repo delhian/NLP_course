{
  "nbformat": 4,
  "nbformat_minor": 0,
  "metadata": {
    "colab": {
      "name": "seminar_3.ipynb",
      "provenance": [],
      "collapsed_sections": [
        "_zLNARu9cYDv",
        "yKD4GgGpfybD"
      ],
      "include_colab_link": true
    },
    "kernelspec": {
      "name": "python3",
      "display_name": "Python 3"
    },
    "language_info": {
      "name": "python"
    },
    "accelerator": "GPU",
    "widgets": {
      "application/vnd.jupyter.widget-state+json": {
        "3458f40aa38d4363a57329e1c7d6bebd": {
          "model_module": "@jupyter-widgets/controls",
          "model_name": "HBoxModel",
          "model_module_version": "1.5.0",
          "state": {
            "_view_name": "HBoxView",
            "_dom_classes": [],
            "_model_name": "HBoxModel",
            "_view_module": "@jupyter-widgets/controls",
            "_model_module_version": "1.5.0",
            "_view_count": null,
            "_view_module_version": "1.5.0",
            "box_style": "",
            "layout": "IPY_MODEL_7e4917e7af1b4b7fbbcf1c4bdc04febc",
            "_model_module": "@jupyter-widgets/controls",
            "children": [
              "IPY_MODEL_b20f9f2c49274d5ea636aba01b5e1b87",
              "IPY_MODEL_af04ff8d9219452097f9783ceba25647",
              "IPY_MODEL_24c8e43b9bba40bfbf057490427eafe2"
            ]
          }
        },
        "7e4917e7af1b4b7fbbcf1c4bdc04febc": {
          "model_module": "@jupyter-widgets/base",
          "model_name": "LayoutModel",
          "model_module_version": "1.2.0",
          "state": {
            "_view_name": "LayoutView",
            "grid_template_rows": null,
            "right": null,
            "justify_content": null,
            "_view_module": "@jupyter-widgets/base",
            "overflow": null,
            "_model_module_version": "1.2.0",
            "_view_count": null,
            "flex_flow": null,
            "width": null,
            "min_width": null,
            "border": null,
            "align_items": null,
            "bottom": null,
            "_model_module": "@jupyter-widgets/base",
            "top": null,
            "grid_column": null,
            "overflow_y": null,
            "overflow_x": null,
            "grid_auto_flow": null,
            "grid_area": null,
            "grid_template_columns": null,
            "flex": null,
            "_model_name": "LayoutModel",
            "justify_items": null,
            "grid_row": null,
            "max_height": null,
            "align_content": null,
            "visibility": null,
            "align_self": null,
            "height": null,
            "min_height": null,
            "padding": null,
            "grid_auto_rows": null,
            "grid_gap": null,
            "max_width": null,
            "order": null,
            "_view_module_version": "1.2.0",
            "grid_template_areas": null,
            "object_position": null,
            "object_fit": null,
            "grid_auto_columns": null,
            "margin": null,
            "display": null,
            "left": null
          }
        },
        "b20f9f2c49274d5ea636aba01b5e1b87": {
          "model_module": "@jupyter-widgets/controls",
          "model_name": "HTMLModel",
          "model_module_version": "1.5.0",
          "state": {
            "_view_name": "HTMLView",
            "style": "IPY_MODEL_c0f5809cb603461aacc455655544f3b6",
            "_dom_classes": [],
            "description": "",
            "_model_name": "HTMLModel",
            "placeholder": "​",
            "_view_module": "@jupyter-widgets/controls",
            "_model_module_version": "1.5.0",
            "value": "100%",
            "_view_count": null,
            "_view_module_version": "1.5.0",
            "description_tooltip": null,
            "_model_module": "@jupyter-widgets/controls",
            "layout": "IPY_MODEL_01341986be45471f8a1f226043a2d8fa"
          }
        },
        "af04ff8d9219452097f9783ceba25647": {
          "model_module": "@jupyter-widgets/controls",
          "model_name": "FloatProgressModel",
          "model_module_version": "1.5.0",
          "state": {
            "_view_name": "ProgressView",
            "style": "IPY_MODEL_3a1d51116dfb4c949fa612bfe8529e77",
            "_dom_classes": [],
            "description": "",
            "_model_name": "FloatProgressModel",
            "bar_style": "success",
            "max": 3,
            "_view_module": "@jupyter-widgets/controls",
            "_model_module_version": "1.5.0",
            "value": 3,
            "_view_count": null,
            "_view_module_version": "1.5.0",
            "orientation": "horizontal",
            "min": 0,
            "description_tooltip": null,
            "_model_module": "@jupyter-widgets/controls",
            "layout": "IPY_MODEL_317ad998ef7f4123a460055ff384de67"
          }
        },
        "24c8e43b9bba40bfbf057490427eafe2": {
          "model_module": "@jupyter-widgets/controls",
          "model_name": "HTMLModel",
          "model_module_version": "1.5.0",
          "state": {
            "_view_name": "HTMLView",
            "style": "IPY_MODEL_89fcf471de014541aa17eaf84f0be74c",
            "_dom_classes": [],
            "description": "",
            "_model_name": "HTMLModel",
            "placeholder": "​",
            "_view_module": "@jupyter-widgets/controls",
            "_model_module_version": "1.5.0",
            "value": " 3/3 [00:00&lt;00:00, 46.63it/s]",
            "_view_count": null,
            "_view_module_version": "1.5.0",
            "description_tooltip": null,
            "_model_module": "@jupyter-widgets/controls",
            "layout": "IPY_MODEL_749df2a793284f21b05bf1c15f9cf1e4"
          }
        },
        "c0f5809cb603461aacc455655544f3b6": {
          "model_module": "@jupyter-widgets/controls",
          "model_name": "DescriptionStyleModel",
          "model_module_version": "1.5.0",
          "state": {
            "_view_name": "StyleView",
            "_model_name": "DescriptionStyleModel",
            "description_width": "",
            "_view_module": "@jupyter-widgets/base",
            "_model_module_version": "1.5.0",
            "_view_count": null,
            "_view_module_version": "1.2.0",
            "_model_module": "@jupyter-widgets/controls"
          }
        },
        "01341986be45471f8a1f226043a2d8fa": {
          "model_module": "@jupyter-widgets/base",
          "model_name": "LayoutModel",
          "model_module_version": "1.2.0",
          "state": {
            "_view_name": "LayoutView",
            "grid_template_rows": null,
            "right": null,
            "justify_content": null,
            "_view_module": "@jupyter-widgets/base",
            "overflow": null,
            "_model_module_version": "1.2.0",
            "_view_count": null,
            "flex_flow": null,
            "width": null,
            "min_width": null,
            "border": null,
            "align_items": null,
            "bottom": null,
            "_model_module": "@jupyter-widgets/base",
            "top": null,
            "grid_column": null,
            "overflow_y": null,
            "overflow_x": null,
            "grid_auto_flow": null,
            "grid_area": null,
            "grid_template_columns": null,
            "flex": null,
            "_model_name": "LayoutModel",
            "justify_items": null,
            "grid_row": null,
            "max_height": null,
            "align_content": null,
            "visibility": null,
            "align_self": null,
            "height": null,
            "min_height": null,
            "padding": null,
            "grid_auto_rows": null,
            "grid_gap": null,
            "max_width": null,
            "order": null,
            "_view_module_version": "1.2.0",
            "grid_template_areas": null,
            "object_position": null,
            "object_fit": null,
            "grid_auto_columns": null,
            "margin": null,
            "display": null,
            "left": null
          }
        },
        "3a1d51116dfb4c949fa612bfe8529e77": {
          "model_module": "@jupyter-widgets/controls",
          "model_name": "ProgressStyleModel",
          "model_module_version": "1.5.0",
          "state": {
            "_view_name": "StyleView",
            "_model_name": "ProgressStyleModel",
            "description_width": "",
            "_view_module": "@jupyter-widgets/base",
            "_model_module_version": "1.5.0",
            "_view_count": null,
            "_view_module_version": "1.2.0",
            "bar_color": null,
            "_model_module": "@jupyter-widgets/controls"
          }
        },
        "317ad998ef7f4123a460055ff384de67": {
          "model_module": "@jupyter-widgets/base",
          "model_name": "LayoutModel",
          "model_module_version": "1.2.0",
          "state": {
            "_view_name": "LayoutView",
            "grid_template_rows": null,
            "right": null,
            "justify_content": null,
            "_view_module": "@jupyter-widgets/base",
            "overflow": null,
            "_model_module_version": "1.2.0",
            "_view_count": null,
            "flex_flow": null,
            "width": null,
            "min_width": null,
            "border": null,
            "align_items": null,
            "bottom": null,
            "_model_module": "@jupyter-widgets/base",
            "top": null,
            "grid_column": null,
            "overflow_y": null,
            "overflow_x": null,
            "grid_auto_flow": null,
            "grid_area": null,
            "grid_template_columns": null,
            "flex": null,
            "_model_name": "LayoutModel",
            "justify_items": null,
            "grid_row": null,
            "max_height": null,
            "align_content": null,
            "visibility": null,
            "align_self": null,
            "height": null,
            "min_height": null,
            "padding": null,
            "grid_auto_rows": null,
            "grid_gap": null,
            "max_width": null,
            "order": null,
            "_view_module_version": "1.2.0",
            "grid_template_areas": null,
            "object_position": null,
            "object_fit": null,
            "grid_auto_columns": null,
            "margin": null,
            "display": null,
            "left": null
          }
        },
        "89fcf471de014541aa17eaf84f0be74c": {
          "model_module": "@jupyter-widgets/controls",
          "model_name": "DescriptionStyleModel",
          "model_module_version": "1.5.0",
          "state": {
            "_view_name": "StyleView",
            "_model_name": "DescriptionStyleModel",
            "description_width": "",
            "_view_module": "@jupyter-widgets/base",
            "_model_module_version": "1.5.0",
            "_view_count": null,
            "_view_module_version": "1.2.0",
            "_model_module": "@jupyter-widgets/controls"
          }
        },
        "749df2a793284f21b05bf1c15f9cf1e4": {
          "model_module": "@jupyter-widgets/base",
          "model_name": "LayoutModel",
          "model_module_version": "1.2.0",
          "state": {
            "_view_name": "LayoutView",
            "grid_template_rows": null,
            "right": null,
            "justify_content": null,
            "_view_module": "@jupyter-widgets/base",
            "overflow": null,
            "_model_module_version": "1.2.0",
            "_view_count": null,
            "flex_flow": null,
            "width": null,
            "min_width": null,
            "border": null,
            "align_items": null,
            "bottom": null,
            "_model_module": "@jupyter-widgets/base",
            "top": null,
            "grid_column": null,
            "overflow_y": null,
            "overflow_x": null,
            "grid_auto_flow": null,
            "grid_area": null,
            "grid_template_columns": null,
            "flex": null,
            "_model_name": "LayoutModel",
            "justify_items": null,
            "grid_row": null,
            "max_height": null,
            "align_content": null,
            "visibility": null,
            "align_self": null,
            "height": null,
            "min_height": null,
            "padding": null,
            "grid_auto_rows": null,
            "grid_gap": null,
            "max_width": null,
            "order": null,
            "_view_module_version": "1.2.0",
            "grid_template_areas": null,
            "object_position": null,
            "object_fit": null,
            "grid_auto_columns": null,
            "margin": null,
            "display": null,
            "left": null
          }
        },
        "c214d3c3ff5d46c4b2def6107f76c7a1": {
          "model_module": "@jupyter-widgets/controls",
          "model_name": "HBoxModel",
          "model_module_version": "1.5.0",
          "state": {
            "_view_name": "HBoxView",
            "_dom_classes": [],
            "_model_name": "HBoxModel",
            "_view_module": "@jupyter-widgets/controls",
            "_model_module_version": "1.5.0",
            "_view_count": null,
            "_view_module_version": "1.5.0",
            "box_style": "",
            "layout": "IPY_MODEL_64353f3a123943a4bc49b783ce9dd4bc",
            "_model_module": "@jupyter-widgets/controls",
            "children": [
              "IPY_MODEL_9157a65a00e849df87d4b402aa62e094",
              "IPY_MODEL_9cc80192b18c4b4b9c24109f5c4a14bb",
              "IPY_MODEL_9e377ad04c9c4673b57d313fed67b97e"
            ]
          }
        },
        "64353f3a123943a4bc49b783ce9dd4bc": {
          "model_module": "@jupyter-widgets/base",
          "model_name": "LayoutModel",
          "model_module_version": "1.2.0",
          "state": {
            "_view_name": "LayoutView",
            "grid_template_rows": null,
            "right": null,
            "justify_content": null,
            "_view_module": "@jupyter-widgets/base",
            "overflow": null,
            "_model_module_version": "1.2.0",
            "_view_count": null,
            "flex_flow": null,
            "width": null,
            "min_width": null,
            "border": null,
            "align_items": null,
            "bottom": null,
            "_model_module": "@jupyter-widgets/base",
            "top": null,
            "grid_column": null,
            "overflow_y": null,
            "overflow_x": null,
            "grid_auto_flow": null,
            "grid_area": null,
            "grid_template_columns": null,
            "flex": null,
            "_model_name": "LayoutModel",
            "justify_items": null,
            "grid_row": null,
            "max_height": null,
            "align_content": null,
            "visibility": null,
            "align_self": null,
            "height": null,
            "min_height": null,
            "padding": null,
            "grid_auto_rows": null,
            "grid_gap": null,
            "max_width": null,
            "order": null,
            "_view_module_version": "1.2.0",
            "grid_template_areas": null,
            "object_position": null,
            "object_fit": null,
            "grid_auto_columns": null,
            "margin": null,
            "display": null,
            "left": null
          }
        },
        "9157a65a00e849df87d4b402aa62e094": {
          "model_module": "@jupyter-widgets/controls",
          "model_name": "HTMLModel",
          "model_module_version": "1.5.0",
          "state": {
            "_view_name": "HTMLView",
            "style": "IPY_MODEL_271e9141ea764f97a8bde220d49037b0",
            "_dom_classes": [],
            "description": "",
            "_model_name": "HTMLModel",
            "placeholder": "​",
            "_view_module": "@jupyter-widgets/controls",
            "_model_module_version": "1.5.0",
            "value": "100%",
            "_view_count": null,
            "_view_module_version": "1.5.0",
            "description_tooltip": null,
            "_model_module": "@jupyter-widgets/controls",
            "layout": "IPY_MODEL_446230145fca44198e481ada92dc3ae0"
          }
        },
        "9cc80192b18c4b4b9c24109f5c4a14bb": {
          "model_module": "@jupyter-widgets/controls",
          "model_name": "FloatProgressModel",
          "model_module_version": "1.5.0",
          "state": {
            "_view_name": "ProgressView",
            "style": "IPY_MODEL_a8b77a7f4bb6426c995970880f22aadf",
            "_dom_classes": [],
            "description": "",
            "_model_name": "FloatProgressModel",
            "bar_style": "success",
            "max": 226,
            "_view_module": "@jupyter-widgets/controls",
            "_model_module_version": "1.5.0",
            "value": 226,
            "_view_count": null,
            "_view_module_version": "1.5.0",
            "orientation": "horizontal",
            "min": 0,
            "description_tooltip": null,
            "_model_module": "@jupyter-widgets/controls",
            "layout": "IPY_MODEL_90b650bde7b54914a248510e2a978f49"
          }
        },
        "9e377ad04c9c4673b57d313fed67b97e": {
          "model_module": "@jupyter-widgets/controls",
          "model_name": "HTMLModel",
          "model_module_version": "1.5.0",
          "state": {
            "_view_name": "HTMLView",
            "style": "IPY_MODEL_23dd199ae3ff4c4c9689b02ec30901f9",
            "_dom_classes": [],
            "description": "",
            "_model_name": "HTMLModel",
            "placeholder": "​",
            "_view_module": "@jupyter-widgets/controls",
            "_model_module_version": "1.5.0",
            "value": " 226/226 [00:00&lt;00:00, 297.29it/s]",
            "_view_count": null,
            "_view_module_version": "1.5.0",
            "description_tooltip": null,
            "_model_module": "@jupyter-widgets/controls",
            "layout": "IPY_MODEL_4ba5ebd4ec3c45dba3d8a8b38ac53b10"
          }
        },
        "271e9141ea764f97a8bde220d49037b0": {
          "model_module": "@jupyter-widgets/controls",
          "model_name": "DescriptionStyleModel",
          "model_module_version": "1.5.0",
          "state": {
            "_view_name": "StyleView",
            "_model_name": "DescriptionStyleModel",
            "description_width": "",
            "_view_module": "@jupyter-widgets/base",
            "_model_module_version": "1.5.0",
            "_view_count": null,
            "_view_module_version": "1.2.0",
            "_model_module": "@jupyter-widgets/controls"
          }
        },
        "446230145fca44198e481ada92dc3ae0": {
          "model_module": "@jupyter-widgets/base",
          "model_name": "LayoutModel",
          "model_module_version": "1.2.0",
          "state": {
            "_view_name": "LayoutView",
            "grid_template_rows": null,
            "right": null,
            "justify_content": null,
            "_view_module": "@jupyter-widgets/base",
            "overflow": null,
            "_model_module_version": "1.2.0",
            "_view_count": null,
            "flex_flow": null,
            "width": null,
            "min_width": null,
            "border": null,
            "align_items": null,
            "bottom": null,
            "_model_module": "@jupyter-widgets/base",
            "top": null,
            "grid_column": null,
            "overflow_y": null,
            "overflow_x": null,
            "grid_auto_flow": null,
            "grid_area": null,
            "grid_template_columns": null,
            "flex": null,
            "_model_name": "LayoutModel",
            "justify_items": null,
            "grid_row": null,
            "max_height": null,
            "align_content": null,
            "visibility": null,
            "align_self": null,
            "height": null,
            "min_height": null,
            "padding": null,
            "grid_auto_rows": null,
            "grid_gap": null,
            "max_width": null,
            "order": null,
            "_view_module_version": "1.2.0",
            "grid_template_areas": null,
            "object_position": null,
            "object_fit": null,
            "grid_auto_columns": null,
            "margin": null,
            "display": null,
            "left": null
          }
        },
        "a8b77a7f4bb6426c995970880f22aadf": {
          "model_module": "@jupyter-widgets/controls",
          "model_name": "ProgressStyleModel",
          "model_module_version": "1.5.0",
          "state": {
            "_view_name": "StyleView",
            "_model_name": "ProgressStyleModel",
            "description_width": "",
            "_view_module": "@jupyter-widgets/base",
            "_model_module_version": "1.5.0",
            "_view_count": null,
            "_view_module_version": "1.2.0",
            "bar_color": null,
            "_model_module": "@jupyter-widgets/controls"
          }
        },
        "90b650bde7b54914a248510e2a978f49": {
          "model_module": "@jupyter-widgets/base",
          "model_name": "LayoutModel",
          "model_module_version": "1.2.0",
          "state": {
            "_view_name": "LayoutView",
            "grid_template_rows": null,
            "right": null,
            "justify_content": null,
            "_view_module": "@jupyter-widgets/base",
            "overflow": null,
            "_model_module_version": "1.2.0",
            "_view_count": null,
            "flex_flow": null,
            "width": null,
            "min_width": null,
            "border": null,
            "align_items": null,
            "bottom": null,
            "_model_module": "@jupyter-widgets/base",
            "top": null,
            "grid_column": null,
            "overflow_y": null,
            "overflow_x": null,
            "grid_auto_flow": null,
            "grid_area": null,
            "grid_template_columns": null,
            "flex": null,
            "_model_name": "LayoutModel",
            "justify_items": null,
            "grid_row": null,
            "max_height": null,
            "align_content": null,
            "visibility": null,
            "align_self": null,
            "height": null,
            "min_height": null,
            "padding": null,
            "grid_auto_rows": null,
            "grid_gap": null,
            "max_width": null,
            "order": null,
            "_view_module_version": "1.2.0",
            "grid_template_areas": null,
            "object_position": null,
            "object_fit": null,
            "grid_auto_columns": null,
            "margin": null,
            "display": null,
            "left": null
          }
        },
        "23dd199ae3ff4c4c9689b02ec30901f9": {
          "model_module": "@jupyter-widgets/controls",
          "model_name": "DescriptionStyleModel",
          "model_module_version": "1.5.0",
          "state": {
            "_view_name": "StyleView",
            "_model_name": "DescriptionStyleModel",
            "description_width": "",
            "_view_module": "@jupyter-widgets/base",
            "_model_module_version": "1.5.0",
            "_view_count": null,
            "_view_module_version": "1.2.0",
            "_model_module": "@jupyter-widgets/controls"
          }
        },
        "4ba5ebd4ec3c45dba3d8a8b38ac53b10": {
          "model_module": "@jupyter-widgets/base",
          "model_name": "LayoutModel",
          "model_module_version": "1.2.0",
          "state": {
            "_view_name": "LayoutView",
            "grid_template_rows": null,
            "right": null,
            "justify_content": null,
            "_view_module": "@jupyter-widgets/base",
            "overflow": null,
            "_model_module_version": "1.2.0",
            "_view_count": null,
            "flex_flow": null,
            "width": null,
            "min_width": null,
            "border": null,
            "align_items": null,
            "bottom": null,
            "_model_module": "@jupyter-widgets/base",
            "top": null,
            "grid_column": null,
            "overflow_y": null,
            "overflow_x": null,
            "grid_auto_flow": null,
            "grid_area": null,
            "grid_template_columns": null,
            "flex": null,
            "_model_name": "LayoutModel",
            "justify_items": null,
            "grid_row": null,
            "max_height": null,
            "align_content": null,
            "visibility": null,
            "align_self": null,
            "height": null,
            "min_height": null,
            "padding": null,
            "grid_auto_rows": null,
            "grid_gap": null,
            "max_width": null,
            "order": null,
            "_view_module_version": "1.2.0",
            "grid_template_areas": null,
            "object_position": null,
            "object_fit": null,
            "grid_auto_columns": null,
            "margin": null,
            "display": null,
            "left": null
          }
        },
        "93aec68734924c18bed54bd7c3cd4c8d": {
          "model_module": "@jupyter-widgets/controls",
          "model_name": "HBoxModel",
          "model_module_version": "1.5.0",
          "state": {
            "_view_name": "HBoxView",
            "_dom_classes": [],
            "_model_name": "HBoxModel",
            "_view_module": "@jupyter-widgets/controls",
            "_model_module_version": "1.5.0",
            "_view_count": null,
            "_view_module_version": "1.5.0",
            "box_style": "",
            "layout": "IPY_MODEL_6cded41c944146f1a5a8873c96b265aa",
            "_model_module": "@jupyter-widgets/controls",
            "children": [
              "IPY_MODEL_b67c5cdce8994434ab7f720d0cf3937f",
              "IPY_MODEL_ed766423c5fd41f39d0a873402cd7707",
              "IPY_MODEL_3e86aadcddcf4576a44ab39c11fa05b5"
            ]
          }
        },
        "6cded41c944146f1a5a8873c96b265aa": {
          "model_module": "@jupyter-widgets/base",
          "model_name": "LayoutModel",
          "model_module_version": "1.2.0",
          "state": {
            "_view_name": "LayoutView",
            "grid_template_rows": null,
            "right": null,
            "justify_content": null,
            "_view_module": "@jupyter-widgets/base",
            "overflow": null,
            "_model_module_version": "1.2.0",
            "_view_count": null,
            "flex_flow": null,
            "width": null,
            "min_width": null,
            "border": null,
            "align_items": null,
            "bottom": null,
            "_model_module": "@jupyter-widgets/base",
            "top": null,
            "grid_column": null,
            "overflow_y": null,
            "overflow_x": null,
            "grid_auto_flow": null,
            "grid_area": null,
            "grid_template_columns": null,
            "flex": null,
            "_model_name": "LayoutModel",
            "justify_items": null,
            "grid_row": null,
            "max_height": null,
            "align_content": null,
            "visibility": null,
            "align_self": null,
            "height": null,
            "min_height": null,
            "padding": null,
            "grid_auto_rows": null,
            "grid_gap": null,
            "max_width": null,
            "order": null,
            "_view_module_version": "1.2.0",
            "grid_template_areas": null,
            "object_position": null,
            "object_fit": null,
            "grid_auto_columns": null,
            "margin": null,
            "display": null,
            "left": null
          }
        },
        "b67c5cdce8994434ab7f720d0cf3937f": {
          "model_module": "@jupyter-widgets/controls",
          "model_name": "HTMLModel",
          "model_module_version": "1.5.0",
          "state": {
            "_view_name": "HTMLView",
            "style": "IPY_MODEL_bf39ef8148614227a9b624fa054c1fd9",
            "_dom_classes": [],
            "description": "",
            "_model_name": "HTMLModel",
            "placeholder": "​",
            "_view_module": "@jupyter-widgets/controls",
            "_model_module_version": "1.5.0",
            "value": "100%",
            "_view_count": null,
            "_view_module_version": "1.5.0",
            "description_tooltip": null,
            "_model_module": "@jupyter-widgets/controls",
            "layout": "IPY_MODEL_da50cdf6b91e4b4c8393f6a782a99bc2"
          }
        },
        "ed766423c5fd41f39d0a873402cd7707": {
          "model_module": "@jupyter-widgets/controls",
          "model_name": "FloatProgressModel",
          "model_module_version": "1.5.0",
          "state": {
            "_view_name": "ProgressView",
            "style": "IPY_MODEL_5100e60706394c168f55f3ba2b562b4d",
            "_dom_classes": [],
            "description": "",
            "_model_name": "FloatProgressModel",
            "bar_style": "success",
            "max": 226,
            "_view_module": "@jupyter-widgets/controls",
            "_model_module_version": "1.5.0",
            "value": 226,
            "_view_count": null,
            "_view_module_version": "1.5.0",
            "orientation": "horizontal",
            "min": 0,
            "description_tooltip": null,
            "_model_module": "@jupyter-widgets/controls",
            "layout": "IPY_MODEL_2d4700c53fc1429a8f54c9c5b8f7913c"
          }
        },
        "3e86aadcddcf4576a44ab39c11fa05b5": {
          "model_module": "@jupyter-widgets/controls",
          "model_name": "HTMLModel",
          "model_module_version": "1.5.0",
          "state": {
            "_view_name": "HTMLView",
            "style": "IPY_MODEL_f2a4fedb36d74005be0c62b12846c111",
            "_dom_classes": [],
            "description": "",
            "_model_name": "HTMLModel",
            "placeholder": "​",
            "_view_module": "@jupyter-widgets/controls",
            "_model_module_version": "1.5.0",
            "value": " 226/226 [00:01&lt;00:00, 159.74it/s]",
            "_view_count": null,
            "_view_module_version": "1.5.0",
            "description_tooltip": null,
            "_model_module": "@jupyter-widgets/controls",
            "layout": "IPY_MODEL_6ff0ad8fdbaa4fb59b85b336d72d9917"
          }
        },
        "bf39ef8148614227a9b624fa054c1fd9": {
          "model_module": "@jupyter-widgets/controls",
          "model_name": "DescriptionStyleModel",
          "model_module_version": "1.5.0",
          "state": {
            "_view_name": "StyleView",
            "_model_name": "DescriptionStyleModel",
            "description_width": "",
            "_view_module": "@jupyter-widgets/base",
            "_model_module_version": "1.5.0",
            "_view_count": null,
            "_view_module_version": "1.2.0",
            "_model_module": "@jupyter-widgets/controls"
          }
        },
        "da50cdf6b91e4b4c8393f6a782a99bc2": {
          "model_module": "@jupyter-widgets/base",
          "model_name": "LayoutModel",
          "model_module_version": "1.2.0",
          "state": {
            "_view_name": "LayoutView",
            "grid_template_rows": null,
            "right": null,
            "justify_content": null,
            "_view_module": "@jupyter-widgets/base",
            "overflow": null,
            "_model_module_version": "1.2.0",
            "_view_count": null,
            "flex_flow": null,
            "width": null,
            "min_width": null,
            "border": null,
            "align_items": null,
            "bottom": null,
            "_model_module": "@jupyter-widgets/base",
            "top": null,
            "grid_column": null,
            "overflow_y": null,
            "overflow_x": null,
            "grid_auto_flow": null,
            "grid_area": null,
            "grid_template_columns": null,
            "flex": null,
            "_model_name": "LayoutModel",
            "justify_items": null,
            "grid_row": null,
            "max_height": null,
            "align_content": null,
            "visibility": null,
            "align_self": null,
            "height": null,
            "min_height": null,
            "padding": null,
            "grid_auto_rows": null,
            "grid_gap": null,
            "max_width": null,
            "order": null,
            "_view_module_version": "1.2.0",
            "grid_template_areas": null,
            "object_position": null,
            "object_fit": null,
            "grid_auto_columns": null,
            "margin": null,
            "display": null,
            "left": null
          }
        },
        "5100e60706394c168f55f3ba2b562b4d": {
          "model_module": "@jupyter-widgets/controls",
          "model_name": "ProgressStyleModel",
          "model_module_version": "1.5.0",
          "state": {
            "_view_name": "StyleView",
            "_model_name": "ProgressStyleModel",
            "description_width": "",
            "_view_module": "@jupyter-widgets/base",
            "_model_module_version": "1.5.0",
            "_view_count": null,
            "_view_module_version": "1.2.0",
            "bar_color": null,
            "_model_module": "@jupyter-widgets/controls"
          }
        },
        "2d4700c53fc1429a8f54c9c5b8f7913c": {
          "model_module": "@jupyter-widgets/base",
          "model_name": "LayoutModel",
          "model_module_version": "1.2.0",
          "state": {
            "_view_name": "LayoutView",
            "grid_template_rows": null,
            "right": null,
            "justify_content": null,
            "_view_module": "@jupyter-widgets/base",
            "overflow": null,
            "_model_module_version": "1.2.0",
            "_view_count": null,
            "flex_flow": null,
            "width": null,
            "min_width": null,
            "border": null,
            "align_items": null,
            "bottom": null,
            "_model_module": "@jupyter-widgets/base",
            "top": null,
            "grid_column": null,
            "overflow_y": null,
            "overflow_x": null,
            "grid_auto_flow": null,
            "grid_area": null,
            "grid_template_columns": null,
            "flex": null,
            "_model_name": "LayoutModel",
            "justify_items": null,
            "grid_row": null,
            "max_height": null,
            "align_content": null,
            "visibility": null,
            "align_self": null,
            "height": null,
            "min_height": null,
            "padding": null,
            "grid_auto_rows": null,
            "grid_gap": null,
            "max_width": null,
            "order": null,
            "_view_module_version": "1.2.0",
            "grid_template_areas": null,
            "object_position": null,
            "object_fit": null,
            "grid_auto_columns": null,
            "margin": null,
            "display": null,
            "left": null
          }
        },
        "f2a4fedb36d74005be0c62b12846c111": {
          "model_module": "@jupyter-widgets/controls",
          "model_name": "DescriptionStyleModel",
          "model_module_version": "1.5.0",
          "state": {
            "_view_name": "StyleView",
            "_model_name": "DescriptionStyleModel",
            "description_width": "",
            "_view_module": "@jupyter-widgets/base",
            "_model_module_version": "1.5.0",
            "_view_count": null,
            "_view_module_version": "1.2.0",
            "_model_module": "@jupyter-widgets/controls"
          }
        },
        "6ff0ad8fdbaa4fb59b85b336d72d9917": {
          "model_module": "@jupyter-widgets/base",
          "model_name": "LayoutModel",
          "model_module_version": "1.2.0",
          "state": {
            "_view_name": "LayoutView",
            "grid_template_rows": null,
            "right": null,
            "justify_content": null,
            "_view_module": "@jupyter-widgets/base",
            "overflow": null,
            "_model_module_version": "1.2.0",
            "_view_count": null,
            "flex_flow": null,
            "width": null,
            "min_width": null,
            "border": null,
            "align_items": null,
            "bottom": null,
            "_model_module": "@jupyter-widgets/base",
            "top": null,
            "grid_column": null,
            "overflow_y": null,
            "overflow_x": null,
            "grid_auto_flow": null,
            "grid_area": null,
            "grid_template_columns": null,
            "flex": null,
            "_model_name": "LayoutModel",
            "justify_items": null,
            "grid_row": null,
            "max_height": null,
            "align_content": null,
            "visibility": null,
            "align_self": null,
            "height": null,
            "min_height": null,
            "padding": null,
            "grid_auto_rows": null,
            "grid_gap": null,
            "max_width": null,
            "order": null,
            "_view_module_version": "1.2.0",
            "grid_template_areas": null,
            "object_position": null,
            "object_fit": null,
            "grid_auto_columns": null,
            "margin": null,
            "display": null,
            "left": null
          }
        }
      }
    }
  },
  "cells": [
    {
      "cell_type": "markdown",
      "metadata": {
        "id": "view-in-github",
        "colab_type": "text"
      },
      "source": [
        "<a href=\"https://colab.research.google.com/github/delhian/NLP_course/blob/master/week3/seminar_3.ipynb\" target=\"_parent\"><img src=\"https://colab.research.google.com/assets/colab-badge.svg\" alt=\"Open In Colab\"/></a>"
      ]
    },
    {
      "cell_type": "markdown",
      "metadata": {
        "id": "pFIUUYWtVMRB"
      },
      "source": [
        "# Description"
      ]
    },
    {
      "cell_type": "markdown",
      "metadata": {
        "id": "6C6hPcSsPF42"
      },
      "source": [
        "In this lecture we will get insight into very popular NLP task - Named Entity Recognition.<br>Our goal is to:\n",
        "- build a good baseline solution\n",
        "- modify the data markup\n",
        "- learn how to solve this problem using neural network methods."
      ]
    },
    {
      "cell_type": "markdown",
      "metadata": {
        "id": "iilmDaCFVOXX"
      },
      "source": [
        "In first part we will explore how to get fast solution of this task, how to exlore metrics and how to convert labeling.<br>\n",
        "In the second part we will look how we can solve this task by using different architectures and measure them."
      ]
    },
    {
      "cell_type": "markdown",
      "metadata": {
        "id": "qsLFL7s0VRsK"
      },
      "source": [
        "What we will learn:\n",
        "- non neural approaches for NER-task;\n",
        "- measure quality of model for NER-task;\n",
        "- different markup for NER-task;\n",
        "- data preparation for neural network solution of NER;\n",
        "- using different neural approaches for NER;"
      ]
    },
    {
      "cell_type": "markdown",
      "metadata": {
        "id": "TIKjsBqIVU2x"
      },
      "source": [
        "# Part 1"
      ]
    },
    {
      "cell_type": "markdown",
      "metadata": {
        "id": "Rrym_4yiVWok"
      },
      "source": [
        "## Solving NER task without Neural netowrks"
      ]
    },
    {
      "cell_type": "code",
      "metadata": {
        "id": "DdYixEjkRfrC",
        "outputId": "1c3bf9bc-bff1-4da8-eba6-373c14ac88f9",
        "colab": {
          "base_uri": "https://localhost:8080/"
        }
      },
      "source": [
        "!pip install datasets > /dev/null"
      ],
      "execution_count": 103,
      "outputs": [
        {
          "output_type": "stream",
          "name": "stdout",
          "text": [
            "\u001b[31mERROR: pip's dependency resolver does not currently take into account all the packages that are installed. This behaviour is the source of the following dependency conflicts.\n",
            "transformers 4.9.2 requires huggingface-hub==0.0.12, but you have huggingface-hub 0.0.19 which is incompatible.\u001b[0m\n"
          ]
        }
      ]
    },
    {
      "cell_type": "code",
      "metadata": {
        "id": "YI6yaeHZRjbc"
      },
      "source": [
        "import pytest\n",
        "import numpy as np\n",
        "import pandas as pd\n",
        "from matplotlib import pyplot as plt\n",
        "from datasets import load_dataset\n",
        "import torch\n",
        "import torch.nn as nn\n",
        "from torch import LongTensor, FloatTensor\n",
        "from torch.nn import functional as F\n",
        "from typing import List, Dict, Tuple, Optional\n",
        "from torch.utils.data import Dataset\n",
        "from torch.optim import Adam\n",
        "import time\n",
        "from tqdm import tqdm\n",
        "\n",
        "from collections import Counter\n",
        "from sklearn.metrics import classification_report"
      ],
      "execution_count": 104,
      "outputs": []
    },
    {
      "cell_type": "markdown",
      "metadata": {
        "id": "ilQEoIuGW6YB"
      },
      "source": [
        "### look at the data"
      ]
    },
    {
      "cell_type": "markdown",
      "metadata": {
        "id": "OoASj4VoRrqN"
      },
      "source": [
        "For this task we will use common NER-dataset which is always included in all benchmarks, when scientists measure quality of SOTA solutions for NER.<br>\n",
        "The shared task of CoNLL-2003 concerns language-independent named entity recognition. We will concentrate on four types of named entities: persons, locations, organizations and names of miscellaneous entities that do not belong to the previous three groups."
      ]
    },
    {
      "cell_type": "code",
      "metadata": {
        "id": "NzSRKAzLRpT_",
        "colab": {
          "base_uri": "https://localhost:8080/",
          "height": 66,
          "referenced_widgets": [
            "3458f40aa38d4363a57329e1c7d6bebd",
            "7e4917e7af1b4b7fbbcf1c4bdc04febc",
            "b20f9f2c49274d5ea636aba01b5e1b87",
            "af04ff8d9219452097f9783ceba25647",
            "24c8e43b9bba40bfbf057490427eafe2",
            "c0f5809cb603461aacc455655544f3b6",
            "01341986be45471f8a1f226043a2d8fa",
            "3a1d51116dfb4c949fa612bfe8529e77",
            "317ad998ef7f4123a460055ff384de67",
            "89fcf471de014541aa17eaf84f0be74c",
            "749df2a793284f21b05bf1c15f9cf1e4"
          ]
        },
        "outputId": "0c7ae600-ecf4-449b-cca3-5e5ef3a91c1c"
      },
      "source": [
        "dataset_base = load_dataset(\"conll2003\")"
      ],
      "execution_count": 105,
      "outputs": [
        {
          "output_type": "stream",
          "name": "stderr",
          "text": [
            "Reusing dataset conll2003 (/root/.cache/huggingface/datasets/conll2003/conll2003/1.0.0/40e7cb6bcc374f7c349c83acd1e9352a4f09474eb691f64f364ee62eb65d0ca6)\n"
          ]
        },
        {
          "output_type": "display_data",
          "data": {
            "application/vnd.jupyter.widget-view+json": {
              "model_id": "3458f40aa38d4363a57329e1c7d6bebd",
              "version_minor": 0,
              "version_major": 2
            },
            "text/plain": [
              "  0%|          | 0/3 [00:00<?, ?it/s]"
            ]
          },
          "metadata": {}
        }
      ]
    },
    {
      "cell_type": "code",
      "metadata": {
        "id": "ju3RL22uR_Tl",
        "colab": {
          "base_uri": "https://localhost:8080/"
        },
        "outputId": "110e0561-5f73-444b-a16e-e67e25d9ca67"
      },
      "source": [
        "dataset_base['train']"
      ],
      "execution_count": 106,
      "outputs": [
        {
          "output_type": "execute_result",
          "data": {
            "text/plain": [
              "Dataset({\n",
              "    features: ['id', 'tokens', 'pos_tags', 'chunk_tags', 'ner_tags'],\n",
              "    num_rows: 14041\n",
              "})"
            ]
          },
          "metadata": {},
          "execution_count": 106
        }
      ]
    },
    {
      "cell_type": "code",
      "metadata": {
        "id": "SejZA2vpSmUP",
        "colab": {
          "base_uri": "https://localhost:8080/"
        },
        "outputId": "c562e602-05fc-4702-e951-ed6fbea270ab"
      },
      "source": [
        "import json\n",
        "mapping_ = {v: k for k, v in dataset_base[\"train\"]\\\n",
        "            .features[\"ner_tags\"].feature._str2int.items()}\n",
        "\n",
        "with open('mapping.json', 'w') as f:\n",
        "  json.dump(mapping_, f)\n",
        "mapping_"
      ],
      "execution_count": 187,
      "outputs": [
        {
          "output_type": "execute_result",
          "data": {
            "text/plain": [
              "{0: 'O',\n",
              " 1: 'B-PER',\n",
              " 2: 'I-PER',\n",
              " 3: 'B-ORG',\n",
              " 4: 'I-ORG',\n",
              " 5: 'B-LOC',\n",
              " 6: 'I-LOC',\n",
              " 7: 'B-MISC',\n",
              " 8: 'I-MISC'}"
            ]
          },
          "metadata": {},
          "execution_count": 187
        }
      ]
    },
    {
      "cell_type": "code",
      "metadata": {
        "id": "C3dkmzC6TGh9",
        "colab": {
          "base_uri": "https://localhost:8080/"
        },
        "outputId": "e3dd8ce4-6c24-4e41-dfe6-91af3e9cf70a"
      },
      "source": [
        "for i in range(10):\n",
        "  print(i + 1, ' '.join(dataset_base[\"train\"]['tokens'][i]))"
      ],
      "execution_count": 108,
      "outputs": [
        {
          "output_type": "stream",
          "name": "stdout",
          "text": [
            "1 EU rejects German call to boycott British lamb .\n",
            "2 Peter Blackburn\n",
            "3 BRUSSELS 1996-08-22\n",
            "4 The European Commission said on Thursday it disagreed with German advice to consumers to shun British lamb until scientists determine whether mad cow disease can be transmitted to sheep .\n",
            "5 Germany 's representative to the European Union 's veterinary committee Werner Zwingmann said on Wednesday consumers should buy sheepmeat from countries other than Britain until the scientific advice was clearer .\n",
            "6 \" We do n't support any such recommendation because we do n't see any grounds for it , \" the Commission 's chief spokesman Nikolaus van der Pas told a news briefing .\n",
            "7 He said further scientific study was required and if it was found that action was needed it should be taken by the European Union .\n",
            "8 He said a proposal last month by EU Farm Commissioner Franz Fischler to ban sheep brains , spleens and spinal cords from the human and animal food chains was a highly specific and precautionary move to protect human health .\n",
            "9 Fischler proposed EU-wide measures after reports from Britain and France that under laboratory conditions sheep could contract Bovine Spongiform Encephalopathy ( BSE ) -- mad cow disease .\n",
            "10 But Fischler agreed to review his proposal after the EU 's standing veterinary committee , mational animal health officials , questioned if such action was justified as there was only a slight risk to human health .\n"
          ]
        }
      ]
    },
    {
      "cell_type": "markdown",
      "metadata": {
        "id": "_f1pzbaOJjB2"
      },
      "source": [
        "#### Task 1"
      ]
    },
    {
      "cell_type": "markdown",
      "metadata": {
        "id": "bujckdrmJl7d"
      },
      "source": [
        "Count occurence of each entity. Print number of occurences for each entity. Result must be a dictinary, where keys are entities from `dataset_base[\"train\"]['ner_tags']` and values are total number of occurencies for each key."
      ]
    },
    {
      "cell_type": "code",
      "metadata": {
        "id": "aof_CNhjRWPi"
      },
      "source": [
        "from collections import defaultdict\n",
        "# counter = defaultdict()"
      ],
      "execution_count": 109,
      "outputs": []
    },
    {
      "cell_type": "code",
      "metadata": {
        "id": "OmpBc17GTro1",
        "colab": {
          "base_uri": "https://localhost:8080/"
        },
        "outputId": "f1a07a11-4a67-4d30-fbd9-2d186945c930"
      },
      "source": [
        "%%time\n",
        "from collections import defaultdict\n",
        "\n",
        "counter = defaultdict(int)\n",
        "for tags in dataset_base[\"train\"]['ner_tags']:\n",
        "  for tag in tags:\n",
        "    counter[mapping_[tag]] += 1\n",
        "counter"
      ],
      "execution_count": 110,
      "outputs": [
        {
          "output_type": "stream",
          "name": "stdout",
          "text": [
            "CPU times: user 151 ms, sys: 2 ms, total: 153 ms\n",
            "Wall time: 152 ms\n"
          ]
        }
      ]
    },
    {
      "cell_type": "code",
      "metadata": {
        "id": "mdPLN9-oULuo"
      },
      "source": [
        "# %%time\n",
        "# from collections import Counter\n",
        "# lol = dataset_base[\"train\"]['ner_tags']\n",
        "# counter = Counter([mapping_[item] for sublist in lol for item in sublist])\n",
        "\n",
        "# counter"
      ],
      "execution_count": 111,
      "outputs": []
    },
    {
      "cell_type": "code",
      "metadata": {
        "id": "eSwUL6qYnIjU"
      },
      "source": [
        "assert len(counter) == 9\n",
        "assert counter['O'] > 169000"
      ],
      "execution_count": 112,
      "outputs": []
    },
    {
      "cell_type": "code",
      "metadata": {
        "id": "DGWxc-pCB8VK",
        "colab": {
          "base_uri": "https://localhost:8080/"
        },
        "outputId": "967d050d-0454-440a-cbdb-712564da3f65"
      },
      "source": [
        "counter"
      ],
      "execution_count": 113,
      "outputs": [
        {
          "output_type": "execute_result",
          "data": {
            "text/plain": [
              "defaultdict(int,\n",
              "            {'B-LOC': 7140,\n",
              "             'B-MISC': 3438,\n",
              "             'B-ORG': 6321,\n",
              "             'B-PER': 6600,\n",
              "             'I-LOC': 1157,\n",
              "             'I-MISC': 1155,\n",
              "             'I-ORG': 3704,\n",
              "             'I-PER': 4528,\n",
              "             'O': 169578})"
            ]
          },
          "metadata": {},
          "execution_count": 113
        }
      ]
    },
    {
      "cell_type": "markdown",
      "metadata": {
        "id": "yOC2dHK0X9SL"
      },
      "source": [
        "As you see, we have dominating number of class `O`. Our main goal is to make such model, that will not overfit to predict always `O` token.<br>\n",
        "What metrics are more appropriate to measure quality of models for NER?"
      ]
    },
    {
      "cell_type": "markdown",
      "metadata": {
        "id": "bA5g7XGEJTya"
      },
      "source": [
        "### Sklearn-crf"
      ]
    },
    {
      "cell_type": "markdown",
      "metadata": {
        "id": "4pwR8trFYXmr"
      },
      "source": [
        "Now I'd like to introduce you great library, that can provide light and easy implementation for solving NER-task. It's name is `sklearn-crf`. It has familiar interface to basic sklearn, but is based on very powerful tool for NER-task - CRF(Conditional Random Field). <br>\n",
        "CRF is nowdays the de facto standard for solving the NLP problem. Even in the most modern SOTA neural networks approaches, a CRF layer can now often be seen as an output layer."
      ]
    },
    {
      "cell_type": "code",
      "metadata": {
        "id": "4Uco_i3lZgUd"
      },
      "source": [
        "!pip install sklearn_crfsuite > /dev/null"
      ],
      "execution_count": 114,
      "outputs": []
    },
    {
      "cell_type": "code",
      "metadata": {
        "id": "wcTxcqd6Zhb9"
      },
      "source": [
        "import sklearn\n",
        "import sklearn_crfsuite\n",
        "from sklearn_crfsuite import scorers\n",
        "from sklearn_crfsuite import metrics"
      ],
      "execution_count": 115,
      "outputs": []
    },
    {
      "cell_type": "markdown",
      "metadata": {
        "id": "d1-YPeBkZqJa"
      },
      "source": [
        "As all sklearn-like libraries we need to get pandas.DataFrame as an input for this model. Let's create it.<br>\n",
        "In our DataFrame we will make each word, entity and sentence_id on each row."
      ]
    },
    {
      "cell_type": "code",
      "metadata": {
        "id": "htp-v1JRZmm-",
        "colab": {
          "base_uri": "https://localhost:8080/",
          "height": 142
        },
        "outputId": "e797fbb0-babf-46a7-8b81-e0f6fb0ff55f"
      },
      "source": [
        "df = pd.DataFrame({'sent_id': [i for j in [[i] * len(s['tokens']) for i, s in enumerate(dataset_base['train'])] for i in j],\n",
        "                   'data': [i for j in dataset_base['train'] for i in j['tokens']],\n",
        "                   'entities': [mapping_[i] for j in dataset_base['train'] for i in j['ner_tags']]})\n",
        "df.head(3)"
      ],
      "execution_count": 116,
      "outputs": [
        {
          "output_type": "execute_result",
          "data": {
            "text/html": [
              "<div>\n",
              "<style scoped>\n",
              "    .dataframe tbody tr th:only-of-type {\n",
              "        vertical-align: middle;\n",
              "    }\n",
              "\n",
              "    .dataframe tbody tr th {\n",
              "        vertical-align: top;\n",
              "    }\n",
              "\n",
              "    .dataframe thead th {\n",
              "        text-align: right;\n",
              "    }\n",
              "</style>\n",
              "<table border=\"1\" class=\"dataframe\">\n",
              "  <thead>\n",
              "    <tr style=\"text-align: right;\">\n",
              "      <th></th>\n",
              "      <th>sent_id</th>\n",
              "      <th>data</th>\n",
              "      <th>entities</th>\n",
              "    </tr>\n",
              "  </thead>\n",
              "  <tbody>\n",
              "    <tr>\n",
              "      <th>0</th>\n",
              "      <td>0</td>\n",
              "      <td>EU</td>\n",
              "      <td>B-ORG</td>\n",
              "    </tr>\n",
              "    <tr>\n",
              "      <th>1</th>\n",
              "      <td>0</td>\n",
              "      <td>rejects</td>\n",
              "      <td>O</td>\n",
              "    </tr>\n",
              "    <tr>\n",
              "      <th>2</th>\n",
              "      <td>0</td>\n",
              "      <td>German</td>\n",
              "      <td>B-MISC</td>\n",
              "    </tr>\n",
              "  </tbody>\n",
              "</table>\n",
              "</div>"
            ],
            "text/plain": [
              "   sent_id     data entities\n",
              "0        0       EU    B-ORG\n",
              "1        0  rejects        O\n",
              "2        0   German   B-MISC"
            ]
          },
          "metadata": {},
          "execution_count": 116
        }
      ]
    },
    {
      "cell_type": "markdown",
      "metadata": {
        "id": "UeY96hlsZ-YT"
      },
      "source": [
        "Now we have dataframe, where only 3 columns exsists:\n",
        " - sentense_id - which mark each word belonging to each sentence\n",
        " - data contains words on each row\n",
        " - entities marks which entity does each word refer to."
      ]
    },
    {
      "cell_type": "markdown",
      "metadata": {
        "id": "WImNIQKwbHYs"
      },
      "source": [
        "We also need a class, that will process each sentence and aggregate words and entities in it"
      ]
    },
    {
      "cell_type": "code",
      "metadata": {
        "id": "aAcrp66Qa7mY"
      },
      "source": [
        "class SentenceGetter(object):\n",
        "    \n",
        "    def __init__(self, data):\n",
        "        self.n_sent = 1\n",
        "        self.data = data\n",
        "        self.empty = False\n",
        "        agg_func = lambda s: [(w, t) for w, t in zip(s['data'].values.tolist(), \n",
        "                                                     s['entities'].values.tolist())]\n",
        "        self.grouped = self.data.groupby('sent_id').apply(agg_func)\n",
        "        self.sentences = [s for s in self.grouped]\n",
        "        \n",
        "    def get_next(self):\n",
        "        try: \n",
        "            s = self.grouped['Sentence: {}'.format(self.n_sent)]\n",
        "            self.n_sent += 1\n",
        "            return s \n",
        "        except:\n",
        "            return None"
      ],
      "execution_count": 117,
      "outputs": []
    },
    {
      "cell_type": "code",
      "metadata": {
        "id": "Qa-NFSnKbDEd",
        "colab": {
          "base_uri": "https://localhost:8080/"
        },
        "outputId": "1153cc4c-ebf9-4c06-9c94-cead75f27eed"
      },
      "source": [
        "getter = SentenceGetter(df)\n",
        "sentences = getter.sentences\n",
        "sentences[0]"
      ],
      "execution_count": 118,
      "outputs": [
        {
          "output_type": "execute_result",
          "data": {
            "text/plain": [
              "[('EU', 'B-ORG'),\n",
              " ('rejects', 'O'),\n",
              " ('German', 'B-MISC'),\n",
              " ('call', 'O'),\n",
              " ('to', 'O'),\n",
              " ('boycott', 'O'),\n",
              " ('British', 'B-MISC'),\n",
              " ('lamb', 'O'),\n",
              " ('.', 'O')]"
            ]
          },
          "metadata": {},
          "execution_count": 118
        }
      ]
    },
    {
      "cell_type": "code",
      "metadata": {
        "id": "HQsEoGBsbXwl"
      },
      "source": [
        "def word2features(sent, i):\n",
        "    word = sent[i][0]\n",
        "    postag = sent[i][1]\n",
        "    \n",
        "    features = {\n",
        "        'bias': 1.0, \n",
        "        'word[-2:]': word[-2:],\n",
        "        'word.isupper()': word.isupper(),\n",
        "        'word.istitle()': word.istitle(),\n",
        "        'word.isdigit()': word.isdigit()\n",
        "    }\n",
        "    if i > 0:\n",
        "        word1 = sent[i-1][0]\n",
        "        features.update({\n",
        "            '-1:word.istitle()': word1.istitle(),\n",
        "            '-1:word.isupper()': word1.isupper()\n",
        "        })\n",
        "    else:\n",
        "        features['BOS'] = True\n",
        "    if i < len(sent)-1:\n",
        "        word1 = sent[i+1][0]\n",
        "        features.update({\n",
        "            '+1:word.istitle()': word1.istitle(),\n",
        "            '+1:word.isupper()': word1.isupper()\n",
        "        })\n",
        "    else:\n",
        "        features['EOS'] = True\n",
        "\n",
        "    return features\n",
        "\n",
        "def sent2features(sent):\n",
        "    return [word2features(sent, i) for i in range(len(sent))]\n",
        "\n",
        "def sent2labels(sent):\n",
        "    return [label for token, label in sent]\n",
        "\n",
        "def sent2tokens(sent):\n",
        "    return [token for token, label in sent]"
      ],
      "execution_count": 119,
      "outputs": []
    },
    {
      "cell_type": "code",
      "metadata": {
        "id": "txY55dbQb1DH",
        "colab": {
          "base_uri": "https://localhost:8080/"
        },
        "outputId": "5c8a5879-ce6b-40b0-9a7b-385dbe51b36a"
      },
      "source": [
        "X = [sent2features(s) for s in sentences]\n",
        "y = [sent2labels(s) for s in sentences]\n",
        "len(X)"
      ],
      "execution_count": 120,
      "outputs": [
        {
          "output_type": "execute_result",
          "data": {
            "text/plain": [
              "14041"
            ]
          },
          "metadata": {},
          "execution_count": 120
        }
      ]
    },
    {
      "cell_type": "code",
      "metadata": {
        "id": "JMlf5JJrb7WW"
      },
      "source": [
        "X_train = X[:10000]\n",
        "X_test = X[10000:]\n",
        "y_train = y[:10000]\n",
        "y_test = y[10000:]"
      ],
      "execution_count": 121,
      "outputs": []
    },
    {
      "cell_type": "code",
      "metadata": {
        "id": "AOjIhfYcb-CK",
        "colab": {
          "base_uri": "https://localhost:8080/"
        },
        "outputId": "597e51a6-f810-412d-c388-81675b6e259a"
      },
      "source": [
        "%%time\n",
        "crf = sklearn_crfsuite.CRF(\n",
        "    algorithm='lbfgs',\n",
        "    c1=0.1,\n",
        "    c2=0.1,\n",
        "    max_iterations=100,\n",
        "    all_possible_transitions=True,\n",
        "    verbose=True\n",
        ")\n",
        "crf.fit(X_train, y_train)"
      ],
      "execution_count": 122,
      "outputs": [
        {
          "output_type": "stream",
          "name": "stderr",
          "text": [
            "loading training data to CRFsuite: 100%|██████████| 10000/10000 [00:00<00:00, 13963.76it/s]\n"
          ]
        },
        {
          "output_type": "stream",
          "name": "stdout",
          "text": [
            "\n",
            "Feature generation\n",
            "type: CRF1d\n",
            "feature.minfreq: 0.000000\n",
            "feature.possible_states: 0\n",
            "feature.possible_transitions: 1\n",
            "0....1....2....3....4....5....6....7....8....9....10\n",
            "Number of features: 2954\n",
            "Seconds required: 0.085\n",
            "\n",
            "L-BFGS optimization\n",
            "c1: 0.100000\n",
            "c2: 0.100000\n",
            "num_memories: 6\n",
            "max_iterations: 100\n",
            "epsilon: 0.000010\n",
            "stop: 10\n",
            "delta: 0.000010\n",
            "linesearch: MoreThuente\n",
            "linesearch.max_iterations: 20\n",
            "\n",
            "Iter 1   time=0.22  loss=173256.49 active=2930  feature_norm=1.00\n",
            "Iter 2   time=0.25  loss=132654.60 active=2796  feature_norm=3.04\n",
            "Iter 3   time=0.12  loss=110485.96 active=2699  feature_norm=2.59\n",
            "Iter 4   time=0.25  loss=97099.18 active=2747  feature_norm=2.22\n",
            "Iter 5   time=0.12  loss=88075.12 active=2874  feature_norm=2.58\n",
            "Iter 6   time=0.12  loss=80585.90 active=2849  feature_norm=3.05\n",
            "Iter 7   time=0.13  loss=62716.54 active=2801  feature_norm=5.39\n",
            "Iter 8   time=0.13  loss=56430.24 active=2862  feature_norm=6.07\n",
            "Iter 9   time=0.13  loss=50203.36 active=2877  feature_norm=7.93\n",
            "Iter 10  time=0.26  loss=47707.36 active=2871  feature_norm=9.20\n",
            "Iter 11  time=0.14  loss=44790.68 active=2898  feature_norm=10.32\n",
            "Iter 12  time=0.12  loss=43236.51 active=2908  feature_norm=11.29\n",
            "Iter 13  time=0.12  loss=41548.04 active=2900  feature_norm=12.31\n",
            "Iter 14  time=0.12  loss=39552.44 active=2872  feature_norm=14.01\n",
            "Iter 15  time=0.13  loss=38275.88 active=2885  feature_norm=15.29\n",
            "Iter 16  time=0.13  loss=37350.79 active=2881  feature_norm=16.65\n",
            "Iter 17  time=0.13  loss=36189.65 active=2888  feature_norm=18.17\n",
            "Iter 18  time=0.13  loss=34526.99 active=2874  feature_norm=22.34\n",
            "Iter 19  time=0.12  loss=33148.60 active=2874  feature_norm=25.61\n",
            "Iter 20  time=0.12  loss=32060.91 active=2875  feature_norm=27.95\n",
            "Iter 21  time=0.12  loss=30914.17 active=2886  feature_norm=30.44\n",
            "Iter 22  time=0.13  loss=30044.70 active=2893  feature_norm=33.78\n",
            "Iter 23  time=0.13  loss=29084.99 active=2890  feature_norm=36.49\n",
            "Iter 24  time=0.12  loss=28177.10 active=2882  feature_norm=39.37\n",
            "Iter 25  time=0.12  loss=27320.37 active=2875  feature_norm=43.24\n",
            "Iter 26  time=0.13  loss=26750.97 active=2878  feature_norm=46.54\n",
            "Iter 27  time=0.12  loss=26277.70 active=2878  feature_norm=49.20\n",
            "Iter 28  time=0.12  loss=25840.34 active=2871  feature_norm=51.39\n",
            "Iter 29  time=0.12  loss=25318.79 active=2864  feature_norm=55.25\n",
            "Iter 30  time=0.13  loss=24897.93 active=2866  feature_norm=58.08\n",
            "Iter 31  time=0.12  loss=24523.46 active=2869  feature_norm=60.95\n",
            "Iter 32  time=0.13  loss=24073.00 active=2854  feature_norm=65.95\n",
            "Iter 33  time=0.38  loss=24051.88 active=2871  feature_norm=68.17\n",
            "Iter 34  time=0.12  loss=23742.54 active=2866  feature_norm=70.89\n",
            "Iter 35  time=0.12  loss=23591.73 active=2861  feature_norm=73.44\n",
            "Iter 36  time=0.14  loss=23383.35 active=2864  feature_norm=76.72\n",
            "Iter 37  time=0.13  loss=23183.99 active=2851  feature_norm=80.50\n",
            "Iter 38  time=0.12  loss=22999.54 active=2869  feature_norm=83.97\n",
            "Iter 39  time=0.12  loss=22866.27 active=2862  feature_norm=86.59\n",
            "Iter 40  time=0.13  loss=22750.85 active=2857  feature_norm=89.80\n",
            "Iter 41  time=0.12  loss=22681.57 active=2856  feature_norm=91.62\n",
            "Iter 42  time=0.12  loss=22612.19 active=2862  feature_norm=93.04\n",
            "Iter 43  time=0.13  loss=22548.00 active=2853  feature_norm=94.80\n",
            "Iter 44  time=0.12  loss=22495.06 active=2852  feature_norm=96.22\n",
            "Iter 45  time=0.13  loss=22450.42 active=2862  feature_norm=97.21\n",
            "Iter 46  time=0.13  loss=22411.95 active=2855  feature_norm=98.91\n",
            "Iter 47  time=0.13  loss=22378.83 active=2840  feature_norm=100.16\n",
            "Iter 48  time=0.15  loss=22351.36 active=2849  feature_norm=100.53\n",
            "Iter 49  time=0.13  loss=22323.75 active=2832  feature_norm=101.11\n",
            "Iter 50  time=0.12  loss=22296.90 active=2829  feature_norm=101.52\n",
            "Iter 51  time=0.13  loss=22265.40 active=2832  feature_norm=101.69\n",
            "Iter 52  time=0.12  loss=22247.88 active=2827  feature_norm=101.78\n",
            "Iter 53  time=0.12  loss=22226.31 active=2813  feature_norm=101.91\n",
            "Iter 54  time=0.12  loss=22208.61 active=2815  feature_norm=102.13\n",
            "Iter 55  time=0.13  loss=22189.36 active=2825  feature_norm=102.34\n",
            "Iter 56  time=0.14  loss=22173.19 active=2827  feature_norm=102.50\n",
            "Iter 57  time=0.13  loss=22159.95 active=2827  feature_norm=102.78\n",
            "Iter 58  time=0.12  loss=22143.29 active=2824  feature_norm=103.00\n",
            "Iter 59  time=0.12  loss=22130.29 active=2826  feature_norm=103.27\n",
            "Iter 60  time=0.12  loss=22118.42 active=2827  feature_norm=103.57\n",
            "Iter 61  time=0.12  loss=22107.26 active=2820  feature_norm=103.81\n",
            "Iter 62  time=0.12  loss=22098.57 active=2823  feature_norm=104.03\n",
            "Iter 63  time=0.12  loss=22090.08 active=2816  feature_norm=104.28\n",
            "Iter 64  time=0.13  loss=22082.27 active=2813  feature_norm=104.53\n",
            "Iter 65  time=0.13  loss=22073.84 active=2808  feature_norm=104.77\n",
            "Iter 66  time=0.13  loss=22068.51 active=2808  feature_norm=104.99\n",
            "Iter 67  time=0.13  loss=22061.43 active=2806  feature_norm=105.17\n",
            "Iter 68  time=0.13  loss=22056.65 active=2806  feature_norm=105.31\n",
            "Iter 69  time=0.12  loss=22051.49 active=2805  feature_norm=105.40\n",
            "Iter 70  time=0.12  loss=22047.06 active=2803  feature_norm=105.50\n",
            "Iter 71  time=0.12  loss=22042.39 active=2804  feature_norm=105.63\n",
            "Iter 72  time=0.14  loss=22037.33 active=2809  feature_norm=105.76\n",
            "Iter 73  time=0.12  loss=22031.44 active=2808  feature_norm=105.88\n",
            "Iter 74  time=0.12  loss=22026.22 active=2803  feature_norm=105.97\n",
            "Iter 75  time=0.12  loss=22021.21 active=2799  feature_norm=106.08\n",
            "Iter 76  time=0.12  loss=22016.49 active=2797  feature_norm=106.17\n",
            "Iter 77  time=0.12  loss=22010.45 active=2797  feature_norm=106.27\n",
            "Iter 78  time=0.13  loss=22006.55 active=2796  feature_norm=106.36\n",
            "Iter 79  time=0.12  loss=22002.23 active=2795  feature_norm=106.45\n",
            "Iter 80  time=0.13  loss=21998.45 active=2795  feature_norm=106.54\n",
            "Iter 81  time=0.12  loss=21993.07 active=2797  feature_norm=106.64\n",
            "Iter 82  time=0.12  loss=21989.99 active=2800  feature_norm=106.72\n",
            "Iter 83  time=0.12  loss=21984.53 active=2801  feature_norm=106.80\n",
            "Iter 84  time=0.12  loss=21982.57 active=2801  feature_norm=106.88\n",
            "Iter 85  time=0.12  loss=21976.76 active=2801  feature_norm=106.96\n",
            "Iter 86  time=0.12  loss=21974.84 active=2803  feature_norm=107.03\n",
            "Iter 87  time=0.12  loss=21969.86 active=2804  feature_norm=107.10\n",
            "Iter 88  time=0.13  loss=21967.35 active=2803  feature_norm=107.17\n",
            "Iter 89  time=0.12  loss=21962.83 active=2801  feature_norm=107.24\n",
            "Iter 90  time=0.12  loss=21961.03 active=2803  feature_norm=107.32\n",
            "Iter 91  time=0.12  loss=21955.64 active=2802  feature_norm=107.38\n",
            "Iter 92  time=0.13  loss=21954.48 active=2798  feature_norm=107.46\n",
            "Iter 93  time=0.12  loss=21949.16 active=2799  feature_norm=107.52\n",
            "Iter 94  time=0.12  loss=21948.84 active=2799  feature_norm=107.60\n",
            "Iter 95  time=0.12  loss=21943.51 active=2800  feature_norm=107.65\n",
            "Iter 96  time=0.12  loss=21943.28 active=2799  feature_norm=107.72\n",
            "Iter 97  time=0.12  loss=21938.75 active=2799  feature_norm=107.76\n",
            "Iter 98  time=0.14  loss=21938.42 active=2799  feature_norm=107.82\n",
            "Iter 99  time=0.12  loss=21934.19 active=2797  feature_norm=107.87\n",
            "Iter 100 time=0.12  loss=21933.67 active=2800  feature_norm=107.92\n",
            "L-BFGS terminated with the maximum number of iterations\n",
            "Total seconds required for training: 13.280\n",
            "\n",
            "Storing the model\n",
            "Number of active features: 2800 (2954)\n",
            "Number of active attributes: 966 (1066)\n",
            "Number of active labels: 9 (9)\n",
            "Writing labels\n",
            "Writing attributes\n",
            "Writing feature references for transitions\n",
            "Writing feature references for attributes\n",
            "Seconds required: 0.002\n",
            "\n",
            "CPU times: user 14 s, sys: 126 ms, total: 14.1 s\n",
            "Wall time: 14.1 s\n"
          ]
        }
      ]
    },
    {
      "cell_type": "code",
      "metadata": {
        "id": "h064girfcGdq",
        "colab": {
          "base_uri": "https://localhost:8080/"
        },
        "outputId": "514c0b51-b6d6-483c-8a42-cd51e37aeb5b"
      },
      "source": [
        "all_entities = sorted(df.entities.unique().tolist())\n",
        "y_pred = crf.predict(X_test)\n",
        "metrics.flat_f1_score(y_test, y_pred, average='weighted', \\\n",
        "                      labels=[i for i in all_entities if i != 'O'])"
      ],
      "execution_count": 123,
      "outputs": [
        {
          "output_type": "execute_result",
          "data": {
            "text/plain": [
              "0.5996010363706731"
            ]
          },
          "metadata": {},
          "execution_count": 123
        }
      ]
    },
    {
      "cell_type": "code",
      "metadata": {
        "id": "04AkAH0LbBs2",
        "outputId": "3803cc4d-2718-495e-881b-c34bbfde20c6",
        "colab": {
          "base_uri": "https://localhost:8080/"
        }
      },
      "source": [
        "all_entities"
      ],
      "execution_count": 124,
      "outputs": [
        {
          "output_type": "execute_result",
          "data": {
            "text/plain": [
              "['B-LOC', 'B-MISC', 'B-ORG', 'B-PER', 'I-LOC', 'I-MISC', 'I-ORG', 'I-PER', 'O']"
            ]
          },
          "metadata": {},
          "execution_count": 124
        }
      ]
    },
    {
      "cell_type": "markdown",
      "metadata": {
        "id": "QOg9TIVOKOKD"
      },
      "source": [
        "#### Task 2"
      ]
    },
    {
      "cell_type": "markdown",
      "metadata": {
        "id": "yF4g_dZmKP0p"
      },
      "source": [
        "Print classification report for all useful tokens (exluding token `O`)"
      ]
    },
    {
      "cell_type": "code",
      "metadata": {
        "id": "myDSv6zPcM4R",
        "colab": {
          "base_uri": "https://localhost:8080/"
        },
        "outputId": "72be6aad-d2de-4578-dd50-dabaa2a2eb69"
      },
      "source": [
        "# YOUR CODE HERE\n",
        "\n",
        "print(metrics.flat_classification_report(y_test, y_pred, \\\n",
        "labels = [i for i in all_entities if i != 'O']))"
      ],
      "execution_count": 125,
      "outputs": [
        {
          "output_type": "stream",
          "name": "stdout",
          "text": [
            "              precision    recall  f1-score   support\n",
            "\n",
            "       B-LOC       0.62      0.64      0.63      2205\n",
            "      B-MISC       0.64      0.61      0.63      1103\n",
            "       B-ORG       0.52      0.49      0.50      1739\n",
            "       B-PER       0.64      0.57      0.60      1976\n",
            "       I-LOC       0.53      0.41      0.46       422\n",
            "      I-MISC       0.55      0.37      0.45       370\n",
            "       I-ORG       0.60      0.62      0.61      1149\n",
            "       I-PER       0.68      0.80      0.73      1297\n",
            "\n",
            "   micro avg       0.61      0.60      0.60     10261\n",
            "   macro avg       0.60      0.56      0.58     10261\n",
            "weighted avg       0.61      0.60      0.60     10261\n",
            "\n"
          ]
        }
      ]
    },
    {
      "cell_type": "markdown",
      "metadata": {
        "id": "XFR46OtaJzsj"
      },
      "source": [
        "#### Task 3"
      ]
    },
    {
      "cell_type": "markdown",
      "metadata": {
        "id": "DVnO-hahJ1di"
      },
      "source": [
        "Make some additional features to reach at least 0.82 weighted f1-score on detection all useful tokens."
      ]
    },
    {
      "cell_type": "markdown",
      "metadata": {
        "id": "_zLNARu9cYDv"
      },
      "source": [
        "##### help"
      ]
    },
    {
      "cell_type": "code",
      "metadata": {
        "id": "VXaPZQVMcU7V"
      },
      "source": [
        "# 1. You can check for lower() each word\n",
        "# 2. You can add more words to features, for example last 3 words words[-3:]"
      ],
      "execution_count": 126,
      "outputs": []
    },
    {
      "cell_type": "markdown",
      "metadata": {
        "id": "YXHti7ticZYU"
      },
      "source": [
        "##### continue work"
      ]
    },
    {
      "cell_type": "code",
      "metadata": {
        "id": "XyPIr9VEdbfs"
      },
      "source": [
        "# YOUR CODE HERE\n",
        "def word2features(sent, i):\n",
        "    word = sent[i][0]\n",
        "    postag = sent[i][1]\n",
        "    \n",
        "    features = {\n",
        "        'bias': 1.0, \n",
        "        # add some here\n",
        "        'word[-2:]': word[-2:],\n",
        "        'word.isupper()': word.isupper(),\n",
        "        'word.istitle()': word.istitle(),\n",
        "        'word.isdigit()': word.isdigit(),\n",
        "        'word.upper()': word.upper(),\n",
        "        'word.len()': len(word),\n",
        "        'word.countE()': word.upper().count('E'),\n",
        "        'word.countO()': word.upper().count('O'),\n",
        "        'word.countA()': word.upper().count('A')\n",
        "    }\n",
        "    if i > 0:\n",
        "        word1 = sent[i-1][0]\n",
        "        features.update({\n",
        "            # add something here\n",
        "            '-1:word.istitle()': word1.istitle(),\n",
        "            '-1:word.isupper()': word1.isupper(),\n",
        "            '-1:word.isdigit()': word1.isdigit(),\n",
        "            '-1:word.upper()': word1.upper(),\n",
        "            '-1:word.len()': len(word1),\n",
        "            '-1:word.countE()': word1.upper().count('E'),\n",
        "            '-1:word.countO()': word1.upper().count('O'),\n",
        "            '-1:word.countA()': word1.upper().count('A')\n",
        "        })\n",
        "    else:\n",
        "        features['BOS'] = True\n",
        "    if i < len(sent)-1:\n",
        "        word1 = sent[i+1][0]\n",
        "        features.update({\n",
        "            # add something here\n",
        "            '+1:word.istitle()': word1.istitle(),\n",
        "            '+1:word.isupper()': word1.isupper(),\n",
        "            '+1:word.isdigit()': word1.isdigit(),\n",
        "            '+1:word.upper()': word1.upper(),\n",
        "            '+1:word.len()': len(word1),\n",
        "            '+1:word.countE()': word1.upper().count('E'),\n",
        "            '+1:word.countO()': word1.upper().count('O'),\n",
        "            '+1:word.countA()': word1.upper().count('A')\n",
        "        })\n",
        "    else:\n",
        "        features['EOS'] = True\n",
        "\n",
        "    if i > 1:\n",
        "        word2 = sent[i-2][0]\n",
        "        features.update({\n",
        "            # add something here\n",
        "            '-2:word.istitle()': word2.istitle(),\n",
        "            '-2:word.isupper()': word2.isupper(),\n",
        "            '-2:word.isdigit()': word2.isdigit(),\n",
        "            '-2:word.upper()': word2.upper(),\n",
        "            '-2:word.len()': len(word2),\n",
        "            '-2:word.countE()': word2.upper().count('E'),\n",
        "            '-2:word.countO()': word2.upper().count('O'),\n",
        "            '-2:word.countA()': word2.upper().count('A')\n",
        "        })\n",
        "    else:\n",
        "        features['BOS'] = True\n",
        "\n",
        "    if i < len(sent)-2:\n",
        "        word2 = sent[i+2][0]\n",
        "        features.update({\n",
        "            # add something here\n",
        "            '+2:word.istitle()': word2.istitle(),\n",
        "            '+2:word.isupper()': word2.isupper(),\n",
        "            '+2:word.isdigit()': word2.isdigit(),\n",
        "            '+2:word.upper()': word2.upper(),\n",
        "            '+2:word.len()': len(word2),\n",
        "            '+2:word.countE()': word2.upper().count('E'),\n",
        "            '+2:word.countO()': word2.upper().count('O'),\n",
        "            '+2:word.countA()': word2.upper().count('A')\n",
        "        })\n",
        "    else:\n",
        "        features['BOS'] = True\n",
        "\n",
        "\n",
        "    return features\n",
        "\n",
        "def sent2features(sent):\n",
        "    return [word2features(sent, i) for i in range(len(sent))]\n",
        "\n",
        "def sent2labels(sent):\n",
        "    return [label for token, label in sent]\n",
        "\n",
        "def sent2tokens(sent):\n",
        "    return [token for token, label in sent]"
      ],
      "execution_count": 127,
      "outputs": []
    },
    {
      "cell_type": "code",
      "metadata": {
        "id": "aSnRyXFrdfJM",
        "colab": {
          "base_uri": "https://localhost:8080/"
        },
        "outputId": "65555a61-6523-40f9-865e-5533381477f8"
      },
      "source": [
        "# explore quality for your new features\n",
        "\n",
        "X = [sent2features(s) for s in sentences]\n",
        "y = [sent2labels(s) for s in sentences]\n",
        "len(X)"
      ],
      "execution_count": 128,
      "outputs": [
        {
          "output_type": "execute_result",
          "data": {
            "text/plain": [
              "14041"
            ]
          },
          "metadata": {},
          "execution_count": 128
        }
      ]
    },
    {
      "cell_type": "code",
      "metadata": {
        "id": "ZpAmkfSe7Pwe"
      },
      "source": [
        "X_train = X[:10000]\n",
        "X_test = X[10000:]\n",
        "y_train = y[:10000]\n",
        "y_test = y[10000:]"
      ],
      "execution_count": 129,
      "outputs": []
    },
    {
      "cell_type": "code",
      "metadata": {
        "id": "4zNwJEUs7Fwx",
        "colab": {
          "base_uri": "https://localhost:8080/"
        },
        "outputId": "8145ef3f-f67a-4939-c882-26e4bc1943ac"
      },
      "source": [
        "%%time\n",
        "crf = sklearn_crfsuite.CRF(\n",
        "    algorithm='lbfgs',\n",
        "    c1=0.1,\n",
        "    c2=0.1,\n",
        "    max_iterations=100,\n",
        "    all_possible_transitions=True,\n",
        "    verbose=False\n",
        ")\n",
        "crf.fit(X_train, y_train)"
      ],
      "execution_count": 130,
      "outputs": [
        {
          "output_type": "stream",
          "name": "stdout",
          "text": [
            "CPU times: user 36.1 s, sys: 161 ms, total: 36.3 s\n",
            "Wall time: 36.2 s\n"
          ]
        }
      ]
    },
    {
      "cell_type": "code",
      "metadata": {
        "id": "uZlm9I0n7coK",
        "colab": {
          "base_uri": "https://localhost:8080/"
        },
        "outputId": "06ff17f2-f924-45a3-a092-29b67498bb7c"
      },
      "source": [
        "all_entities = sorted(df.entities.unique().tolist())\n",
        "y_pred = crf.predict(X_test)\n",
        "metrics.flat_f1_score(y_test, y_pred, average='weighted', labels=[i for i in all_entities if i != 'O'])"
      ],
      "execution_count": 131,
      "outputs": [
        {
          "output_type": "execute_result",
          "data": {
            "text/plain": [
              "0.8442086296498059"
            ]
          },
          "metadata": {},
          "execution_count": 131
        }
      ]
    },
    {
      "cell_type": "code",
      "metadata": {
        "id": "NqbkWJ5p7TVm",
        "colab": {
          "base_uri": "https://localhost:8080/"
        },
        "outputId": "086c25a0-75fa-4290-844d-9c66b4e6937e"
      },
      "source": [
        "print(metrics.flat_classification_report(y_test, y_pred, labels=[i for i in all_entities if i != 'O']),)"
      ],
      "execution_count": 132,
      "outputs": [
        {
          "output_type": "stream",
          "name": "stdout",
          "text": [
            "              precision    recall  f1-score   support\n",
            "\n",
            "       B-LOC       0.89      0.90      0.90      2205\n",
            "      B-MISC       0.89      0.78      0.83      1103\n",
            "       B-ORG       0.83      0.74      0.78      1739\n",
            "       B-PER       0.85      0.86      0.86      1976\n",
            "       I-LOC       0.87      0.76      0.81       422\n",
            "      I-MISC       0.82      0.58      0.68       370\n",
            "       I-ORG       0.82      0.81      0.82      1149\n",
            "       I-PER       0.89      0.95      0.92      1297\n",
            "\n",
            "   micro avg       0.86      0.83      0.85     10261\n",
            "   macro avg       0.86      0.80      0.82     10261\n",
            "weighted avg       0.86      0.83      0.84     10261\n",
            "\n"
          ]
        }
      ]
    },
    {
      "cell_type": "markdown",
      "metadata": {
        "id": "mqIEo9oBJXDz"
      },
      "source": [
        "### Converting markup"
      ]
    },
    {
      "cell_type": "markdown",
      "metadata": {
        "id": "MBLwmVHJKsYr"
      },
      "source": [
        "Now it's time to get acquainted to NER markup or NER data labeling.<br>\n",
        "When we work with almost every NLP task, we usually need our data to be labeled. For NER problem data labeling is often rather expensive. Often we ask to label just in text, and then simple label all tokens for `BIO`-markup.<br>\n",
        "But in some tasks in which we need to very accurately define separate entities, the `BILUO`-markup may come to the rescue.\n"
      ]
    },
    {
      "cell_type": "markdown",
      "metadata": {
        "id": "Qe-STiqnkmv0"
      },
      "source": [
        "In our dataset we have `BIO-markup."
      ]
    },
    {
      "cell_type": "markdown",
      "metadata": {
        "id": "3Zmuw8OzKe8m"
      },
      "source": [
        "#### Task 4"
      ]
    },
    {
      "cell_type": "markdown",
      "metadata": {
        "id": "NpmHaJKgKgvR"
      },
      "source": [
        "write function to convert `BIO`-markup into `BILUO`-markup"
      ]
    },
    {
      "cell_type": "code",
      "metadata": {
        "id": "V4Z_T1nDk9l5",
        "outputId": "f0cc8ad7-5e35-4bbe-8694-df70c4dca774",
        "colab": {
          "base_uri": "https://localhost:8080/"
        }
      },
      "source": [
        "entities_list = [[mapping_[token] for token in tokens] for tokens in dataset_base[\"train\"]['ner_tags']]\n",
        "entities_list[:3]"
      ],
      "execution_count": 133,
      "outputs": [
        {
          "output_type": "execute_result",
          "data": {
            "text/plain": [
              "[['B-ORG', 'O', 'B-MISC', 'O', 'O', 'O', 'B-MISC', 'O', 'O'],\n",
              " ['B-PER', 'I-PER'],\n",
              " ['B-LOC', 'O']]"
            ]
          },
          "metadata": {},
          "execution_count": 133
        }
      ]
    },
    {
      "cell_type": "code",
      "metadata": {
        "id": "Ol31d3em9rHc"
      },
      "source": [
        "# B - 'beginning'\n",
        "# I - 'inside'\n",
        "# L - 'last'\n",
        "# O - 'outside'\n",
        "# U - 'unit'"
      ],
      "execution_count": 134,
      "outputs": []
    },
    {
      "cell_type": "code",
      "metadata": {
        "id": "qql_NTIpktve"
      },
      "source": [
        "def bio_2_biluo(entities_list, missing: str = 'O'):\n",
        "  result = list()\n",
        "  for entities in entities_list:\n",
        "    current_new_markup = [entities[0]]\n",
        "    entities_len = len(entities)\n",
        "    for id in range(1, entities_len - 1):\n",
        "      if entities[id][0] == 'I' and entities[id+1][0] == missing:\n",
        "        current_new_markup.append('L' + entities[id][1:])\n",
        "        continue\n",
        "      if entities[id][0] == 'B' and entities[id+1][0] == missing:\n",
        "        current_new_markup.append('U' + entities[id][1:])\n",
        "        continue\n",
        "      current_new_markup.append(entities[id])\n",
        "    if entities[-1][0] == 'I':\n",
        "        current_new_markup.append('L' + entities[-1][1:])\n",
        "    else:\n",
        "      current_new_markup.append(entities[-1])\n",
        "    result.append(current_new_markup)\n",
        "  return result"
      ],
      "execution_count": 135,
      "outputs": []
    },
    {
      "cell_type": "code",
      "metadata": {
        "id": "eIbGec9FhZ_P"
      },
      "source": [
        "# def bio_2_biluo(entities_list, missing: str = 'O'):\n",
        "#   result = list()\n",
        "#   for entities in entities_list:\n",
        "#     current_new_markup = [entities[0]]\n",
        "#     for i in range(1, len(entities)):\n",
        "#       if entities[i] == missing:  # simple `O` token\n",
        "#         if current_new_markup[-1].upper().startswith('B-'):\n",
        "#           current_new_markup[-1] = 'U-' + current_new_markup[-1][2:]\n",
        "#         elif current_new_markup[-1].upper().startswith('I-'):\n",
        "#           current_new_markup[-1] = 'L-' + current_new_markup[-1][2:]\n",
        "#         current_new_markup.append(entities[i])\n",
        "#       elif entities[i].upper().startswith('B-') or entities[i].upper().startswith('I-'):\n",
        "#         current_new_markup.append(entities[i])\n",
        "#     if current_new_markup[-1].upper().startswith('I-'):  # check last symbol\n",
        "#       current_new_markup[-1] = 'L-' + current_new_markup[-1][2:]\n",
        "#     if current_new_markup[-1].upper().startswith('B-'):  # check last symbol\n",
        "#       current_new_markup[-1] = 'U-' + current_new_markup[-1][2:]\n",
        "#     result.append(current_new_markup)\n",
        "#   return result"
      ],
      "execution_count": 136,
      "outputs": []
    },
    {
      "cell_type": "code",
      "metadata": {
        "id": "NqSINs4MpNsk",
        "outputId": "eac02dd4-9608-4439-d84a-dda93684c568",
        "colab": {
          "base_uri": "https://localhost:8080/"
        }
      },
      "source": [
        "%%time\n",
        "assert len(bio_2_biluo(entities_list)) == len(entities_list)\n",
        "assert set(bio_2_biluo([entities_list[1]])[0]) == {'B-PER', 'L-PER'}\n",
        "assert len(set(bio_2_biluo([entities_list[7]])[0])) == 4"
      ],
      "execution_count": 137,
      "outputs": [
        {
          "output_type": "stream",
          "name": "stdout",
          "text": [
            "CPU times: user 74.3 ms, sys: 1.93 ms, total: 76.3 ms\n",
            "Wall time: 78 ms\n"
          ]
        }
      ]
    },
    {
      "cell_type": "markdown",
      "metadata": {
        "id": "cZBBeLSdtlJZ"
      },
      "source": [
        "Sometimes after markup we have data labeled in offets: in plain text we get beginning and ending of each entity.<br>\n",
        "In this situations we can use function from spacy named `offsets_to_biluo_tags`. But you need to be careful, because sometimes it works incorrect. In this case you need to check translation of markup or write your own function to translate markups."
      ]
    },
    {
      "cell_type": "markdown",
      "metadata": {
        "id": "gnOZWlYhJcHF"
      },
      "source": [
        "Future readings"
      ]
    },
    {
      "cell_type": "code",
      "metadata": {
        "id": "tq7AOxcNVLDh"
      },
      "source": [
        "# you can also try to use spacy built-in ner model from spacy python library. Example of usage is here -> https://spacy.io/api/cli"
      ],
      "execution_count": 138,
      "outputs": []
    },
    {
      "cell_type": "markdown",
      "metadata": {
        "id": "3mqTd1lnVLvQ"
      },
      "source": [
        "# Part 2"
      ]
    },
    {
      "cell_type": "markdown",
      "metadata": {
        "id": "9ZVLX9gSuNCh"
      },
      "source": [
        "In this part we will try to use some basic approaches to solve NER-task. Dataset will be the same as above. In this part don't forget to change runtime of your notebook to `GPU`."
      ]
    },
    {
      "cell_type": "code",
      "metadata": {
        "id": "k5gnC8Fn6_D_",
        "colab": {
          "base_uri": "https://localhost:8080/"
        },
        "outputId": "6a07a5ad-b5d1-4dec-ec1a-1a031b463b8d"
      },
      "source": [
        "!pip install spacy==3.1"
      ],
      "execution_count": 139,
      "outputs": [
        {
          "output_type": "stream",
          "name": "stdout",
          "text": [
            "Requirement already satisfied: spacy==3.1 in /usr/local/lib/python3.7/dist-packages (3.1.0)\n",
            "Requirement already satisfied: catalogue<2.1.0,>=2.0.4 in /usr/local/lib/python3.7/dist-packages (from spacy==3.1) (2.0.6)\n",
            "Requirement already satisfied: blis<0.8.0,>=0.4.0 in /usr/local/lib/python3.7/dist-packages (from spacy==3.1) (0.4.1)\n",
            "Requirement already satisfied: preshed<3.1.0,>=3.0.2 in /usr/local/lib/python3.7/dist-packages (from spacy==3.1) (3.0.5)\n",
            "Requirement already satisfied: cymem<2.1.0,>=2.0.2 in /usr/local/lib/python3.7/dist-packages (from spacy==3.1) (2.0.5)\n",
            "Requirement already satisfied: tqdm<5.0.0,>=4.38.0 in /usr/local/lib/python3.7/dist-packages (from spacy==3.1) (4.62.3)\n",
            "Requirement already satisfied: murmurhash<1.1.0,>=0.28.0 in /usr/local/lib/python3.7/dist-packages (from spacy==3.1) (1.0.5)\n",
            "Requirement already satisfied: pydantic!=1.8,!=1.8.1,<1.9.0,>=1.7.4 in /usr/local/lib/python3.7/dist-packages (from spacy==3.1) (1.8.2)\n",
            "Requirement already satisfied: wasabi<1.1.0,>=0.8.1 in /usr/local/lib/python3.7/dist-packages (from spacy==3.1) (0.8.2)\n",
            "Requirement already satisfied: spacy-legacy<3.1.0,>=3.0.7 in /usr/local/lib/python3.7/dist-packages (from spacy==3.1) (3.0.8)\n",
            "Requirement already satisfied: typer<0.4.0,>=0.3.0 in /usr/local/lib/python3.7/dist-packages (from spacy==3.1) (0.3.2)\n",
            "Requirement already satisfied: typing-extensions<4.0.0.0,>=3.7.4 in /usr/local/lib/python3.7/dist-packages (from spacy==3.1) (3.7.4.3)\n",
            "Requirement already satisfied: srsly<3.0.0,>=2.4.1 in /usr/local/lib/python3.7/dist-packages (from spacy==3.1) (2.4.1)\n",
            "Requirement already satisfied: thinc<8.1.0,>=8.0.7 in /usr/local/lib/python3.7/dist-packages (from spacy==3.1) (8.0.10)\n",
            "Requirement already satisfied: packaging>=20.0 in /usr/local/lib/python3.7/dist-packages (from spacy==3.1) (21.0)\n",
            "Requirement already satisfied: setuptools in /usr/local/lib/python3.7/dist-packages (from spacy==3.1) (57.4.0)\n",
            "Requirement already satisfied: requests<3.0.0,>=2.13.0 in /usr/local/lib/python3.7/dist-packages (from spacy==3.1) (2.23.0)\n",
            "Requirement already satisfied: pathy>=0.3.5 in /usr/local/lib/python3.7/dist-packages (from spacy==3.1) (0.6.0)\n",
            "Requirement already satisfied: jinja2 in /usr/local/lib/python3.7/dist-packages (from spacy==3.1) (2.11.3)\n",
            "Requirement already satisfied: numpy>=1.15.0 in /usr/local/lib/python3.7/dist-packages (from spacy==3.1) (1.19.5)\n",
            "Requirement already satisfied: zipp>=0.5 in /usr/local/lib/python3.7/dist-packages (from catalogue<2.1.0,>=2.0.4->spacy==3.1) (3.6.0)\n",
            "Requirement already satisfied: pyparsing>=2.0.2 in /usr/local/lib/python3.7/dist-packages (from packaging>=20.0->spacy==3.1) (2.4.7)\n",
            "Requirement already satisfied: smart-open<6.0.0,>=5.0.0 in /usr/local/lib/python3.7/dist-packages (from pathy>=0.3.5->spacy==3.1) (5.2.1)\n",
            "Requirement already satisfied: certifi>=2017.4.17 in /usr/local/lib/python3.7/dist-packages (from requests<3.0.0,>=2.13.0->spacy==3.1) (2021.5.30)\n",
            "Requirement already satisfied: chardet<4,>=3.0.2 in /usr/local/lib/python3.7/dist-packages (from requests<3.0.0,>=2.13.0->spacy==3.1) (3.0.4)\n",
            "Requirement already satisfied: idna<3,>=2.5 in /usr/local/lib/python3.7/dist-packages (from requests<3.0.0,>=2.13.0->spacy==3.1) (2.10)\n",
            "Requirement already satisfied: urllib3!=1.25.0,!=1.25.1,<1.26,>=1.21.1 in /usr/local/lib/python3.7/dist-packages (from requests<3.0.0,>=2.13.0->spacy==3.1) (1.24.3)\n",
            "Requirement already satisfied: click<7.2.0,>=7.1.1 in /usr/local/lib/python3.7/dist-packages (from typer<0.4.0,>=0.3.0->spacy==3.1) (7.1.2)\n",
            "Requirement already satisfied: MarkupSafe>=0.23 in /usr/local/lib/python3.7/dist-packages (from jinja2->spacy==3.1) (2.0.1)\n"
          ]
        }
      ]
    },
    {
      "cell_type": "code",
      "metadata": {
        "id": "oLzibq6p8IMp",
        "colab": {
          "base_uri": "https://localhost:8080/",
          "height": 990
        },
        "outputId": "9a03893a-f526-4bef-9583-2f56f2127759"
      },
      "source": [
        "!pip install spacy-transformers"
      ],
      "execution_count": 140,
      "outputs": [
        {
          "output_type": "stream",
          "name": "stdout",
          "text": [
            "Requirement already satisfied: spacy-transformers in /usr/local/lib/python3.7/dist-packages (1.0.6)\n",
            "Requirement already satisfied: srsly<3.0.0,>=2.4.0 in /usr/local/lib/python3.7/dist-packages (from spacy-transformers) (2.4.1)\n",
            "Requirement already satisfied: spacy-alignments<1.0.0,>=0.7.2 in /usr/local/lib/python3.7/dist-packages (from spacy-transformers) (0.8.3)\n",
            "Requirement already satisfied: torch>=1.5.0 in /usr/local/lib/python3.7/dist-packages (from spacy-transformers) (1.9.0+cu111)\n",
            "Requirement already satisfied: spacy<4.0.0,>=3.1.0 in /usr/local/lib/python3.7/dist-packages (from spacy-transformers) (3.1.0)\n",
            "Requirement already satisfied: transformers<4.10.0,>=3.4.0 in /usr/local/lib/python3.7/dist-packages (from spacy-transformers) (4.9.2)\n",
            "Requirement already satisfied: preshed<3.1.0,>=3.0.2 in /usr/local/lib/python3.7/dist-packages (from spacy<4.0.0,>=3.1.0->spacy-transformers) (3.0.5)\n",
            "Requirement already satisfied: tqdm<5.0.0,>=4.38.0 in /usr/local/lib/python3.7/dist-packages (from spacy<4.0.0,>=3.1.0->spacy-transformers) (4.62.3)\n",
            "Requirement already satisfied: typer<0.4.0,>=0.3.0 in /usr/local/lib/python3.7/dist-packages (from spacy<4.0.0,>=3.1.0->spacy-transformers) (0.3.2)\n",
            "Requirement already satisfied: cymem<2.1.0,>=2.0.2 in /usr/local/lib/python3.7/dist-packages (from spacy<4.0.0,>=3.1.0->spacy-transformers) (2.0.5)\n",
            "Requirement already satisfied: setuptools in /usr/local/lib/python3.7/dist-packages (from spacy<4.0.0,>=3.1.0->spacy-transformers) (57.4.0)\n",
            "Requirement already satisfied: thinc<8.1.0,>=8.0.7 in /usr/local/lib/python3.7/dist-packages (from spacy<4.0.0,>=3.1.0->spacy-transformers) (8.0.10)\n",
            "Requirement already satisfied: wasabi<1.1.0,>=0.8.1 in /usr/local/lib/python3.7/dist-packages (from spacy<4.0.0,>=3.1.0->spacy-transformers) (0.8.2)\n",
            "Requirement already satisfied: spacy-legacy<3.1.0,>=3.0.7 in /usr/local/lib/python3.7/dist-packages (from spacy<4.0.0,>=3.1.0->spacy-transformers) (3.0.8)\n",
            "Requirement already satisfied: pathy>=0.3.5 in /usr/local/lib/python3.7/dist-packages (from spacy<4.0.0,>=3.1.0->spacy-transformers) (0.6.0)\n",
            "Requirement already satisfied: blis<0.8.0,>=0.4.0 in /usr/local/lib/python3.7/dist-packages (from spacy<4.0.0,>=3.1.0->spacy-transformers) (0.4.1)\n",
            "Requirement already satisfied: murmurhash<1.1.0,>=0.28.0 in /usr/local/lib/python3.7/dist-packages (from spacy<4.0.0,>=3.1.0->spacy-transformers) (1.0.5)\n",
            "Requirement already satisfied: requests<3.0.0,>=2.13.0 in /usr/local/lib/python3.7/dist-packages (from spacy<4.0.0,>=3.1.0->spacy-transformers) (2.23.0)\n",
            "Requirement already satisfied: typing-extensions<4.0.0.0,>=3.7.4 in /usr/local/lib/python3.7/dist-packages (from spacy<4.0.0,>=3.1.0->spacy-transformers) (3.7.4.3)\n",
            "Requirement already satisfied: packaging>=20.0 in /usr/local/lib/python3.7/dist-packages (from spacy<4.0.0,>=3.1.0->spacy-transformers) (21.0)\n",
            "Requirement already satisfied: numpy>=1.15.0 in /usr/local/lib/python3.7/dist-packages (from spacy<4.0.0,>=3.1.0->spacy-transformers) (1.19.5)\n",
            "Requirement already satisfied: jinja2 in /usr/local/lib/python3.7/dist-packages (from spacy<4.0.0,>=3.1.0->spacy-transformers) (2.11.3)\n",
            "Requirement already satisfied: pydantic!=1.8,!=1.8.1,<1.9.0,>=1.7.4 in /usr/local/lib/python3.7/dist-packages (from spacy<4.0.0,>=3.1.0->spacy-transformers) (1.8.2)\n",
            "Requirement already satisfied: catalogue<2.1.0,>=2.0.4 in /usr/local/lib/python3.7/dist-packages (from spacy<4.0.0,>=3.1.0->spacy-transformers) (2.0.6)\n",
            "Requirement already satisfied: zipp>=0.5 in /usr/local/lib/python3.7/dist-packages (from catalogue<2.1.0,>=2.0.4->spacy<4.0.0,>=3.1.0->spacy-transformers) (3.6.0)\n",
            "Requirement already satisfied: pyparsing>=2.0.2 in /usr/local/lib/python3.7/dist-packages (from packaging>=20.0->spacy<4.0.0,>=3.1.0->spacy-transformers) (2.4.7)\n",
            "Requirement already satisfied: smart-open<6.0.0,>=5.0.0 in /usr/local/lib/python3.7/dist-packages (from pathy>=0.3.5->spacy<4.0.0,>=3.1.0->spacy-transformers) (5.2.1)\n",
            "Requirement already satisfied: certifi>=2017.4.17 in /usr/local/lib/python3.7/dist-packages (from requests<3.0.0,>=2.13.0->spacy<4.0.0,>=3.1.0->spacy-transformers) (2021.5.30)\n",
            "Requirement already satisfied: idna<3,>=2.5 in /usr/local/lib/python3.7/dist-packages (from requests<3.0.0,>=2.13.0->spacy<4.0.0,>=3.1.0->spacy-transformers) (2.10)\n",
            "Requirement already satisfied: chardet<4,>=3.0.2 in /usr/local/lib/python3.7/dist-packages (from requests<3.0.0,>=2.13.0->spacy<4.0.0,>=3.1.0->spacy-transformers) (3.0.4)\n",
            "Requirement already satisfied: urllib3!=1.25.0,!=1.25.1,<1.26,>=1.21.1 in /usr/local/lib/python3.7/dist-packages (from requests<3.0.0,>=2.13.0->spacy<4.0.0,>=3.1.0->spacy-transformers) (1.24.3)\n",
            "Requirement already satisfied: filelock in /usr/local/lib/python3.7/dist-packages (from transformers<4.10.0,>=3.4.0->spacy-transformers) (3.3.0)\n",
            "Collecting huggingface-hub==0.0.12\n",
            "  Using cached huggingface_hub-0.0.12-py3-none-any.whl (37 kB)\n",
            "Requirement already satisfied: pyyaml>=5.1 in /usr/local/lib/python3.7/dist-packages (from transformers<4.10.0,>=3.4.0->spacy-transformers) (5.4.1)\n",
            "Requirement already satisfied: importlib-metadata in /usr/local/lib/python3.7/dist-packages (from transformers<4.10.0,>=3.4.0->spacy-transformers) (4.8.1)\n",
            "Requirement already satisfied: sacremoses in /usr/local/lib/python3.7/dist-packages (from transformers<4.10.0,>=3.4.0->spacy-transformers) (0.0.46)\n",
            "Requirement already satisfied: tokenizers<0.11,>=0.10.1 in /usr/local/lib/python3.7/dist-packages (from transformers<4.10.0,>=3.4.0->spacy-transformers) (0.10.3)\n",
            "Requirement already satisfied: regex!=2019.12.17 in /usr/local/lib/python3.7/dist-packages (from transformers<4.10.0,>=3.4.0->spacy-transformers) (2019.12.20)\n",
            "Requirement already satisfied: click<7.2.0,>=7.1.1 in /usr/local/lib/python3.7/dist-packages (from typer<0.4.0,>=0.3.0->spacy<4.0.0,>=3.1.0->spacy-transformers) (7.1.2)\n",
            "Requirement already satisfied: MarkupSafe>=0.23 in /usr/local/lib/python3.7/dist-packages (from jinja2->spacy<4.0.0,>=3.1.0->spacy-transformers) (2.0.1)\n",
            "Requirement already satisfied: six in /usr/local/lib/python3.7/dist-packages (from sacremoses->transformers<4.10.0,>=3.4.0->spacy-transformers) (1.15.0)\n",
            "Requirement already satisfied: joblib in /usr/local/lib/python3.7/dist-packages (from sacremoses->transformers<4.10.0,>=3.4.0->spacy-transformers) (1.0.1)\n",
            "Installing collected packages: huggingface-hub\n",
            "  Attempting uninstall: huggingface-hub\n",
            "    Found existing installation: huggingface-hub 0.0.19\n",
            "    Uninstalling huggingface-hub-0.0.19:\n",
            "      Successfully uninstalled huggingface-hub-0.0.19\n",
            "\u001b[31mERROR: pip's dependency resolver does not currently take into account all the packages that are installed. This behaviour is the source of the following dependency conflicts.\n",
            "datasets 1.12.1 requires huggingface-hub<0.1.0,>=0.0.14, but you have huggingface-hub 0.0.12 which is incompatible.\u001b[0m\n",
            "Successfully installed huggingface-hub-0.0.12\n"
          ]
        },
        {
          "output_type": "display_data",
          "data": {
            "application/vnd.colab-display-data+json": {
              "pip_warning": {
                "packages": [
                  "huggingface_hub"
                ]
              }
            }
          },
          "metadata": {}
        }
      ]
    },
    {
      "cell_type": "code",
      "metadata": {
        "id": "C-aR7upn26qV"
      },
      "source": [
        "from IPython.display import Image\n",
        "from IPython.core.display import display, HTML\n",
        "import pandas as pd\n",
        "from collections import Counter\n",
        "import random\n",
        "import json\n",
        "from datasets import load_dataset\n",
        "import torch\n",
        "import torch.nn as nn\n",
        "\n",
        "import numpy as np\n",
        "import pandas as pd\n",
        "import time\n",
        "from tqdm import tqdm\n",
        "\n",
        "from collections import Counter\n",
        "from spacy.training import offsets_to_biluo_tags\n",
        "import spacy\n",
        "from sklearn.model_selection import train_test_split\n",
        "from sklearn.metrics import f1_score\n",
        "\n",
        "from torch import LongTensor, FloatTensor\n",
        "from torch.nn import functional as F\n",
        "from typing import List, Dict, Tuple, Optional, Union\n",
        "from torch.utils.data import Dataset\n",
        "from sklearn.metrics import classification_report"
      ],
      "execution_count": 141,
      "outputs": []
    },
    {
      "cell_type": "markdown",
      "metadata": {
        "id": "wMbmjRk1uuY7"
      },
      "source": [
        "Let's look at distribution of our data. Maybe we can deal with our problem by just using simple Neural networks."
      ]
    },
    {
      "cell_type": "code",
      "metadata": {
        "id": "RmUSsRIfxY9B",
        "colab": {
          "base_uri": "https://localhost:8080/"
        },
        "outputId": "49b464f0-92f9-48e1-c32c-74df1f785eee"
      },
      "source": [
        "!wget https://raw.githubusercontent.com/snv-ds/NLP_course/master/week3/restauranttrain_updated.json"
      ],
      "execution_count": 142,
      "outputs": [
        {
          "output_type": "stream",
          "name": "stdout",
          "text": [
            "--2021-10-10 18:33:57--  https://raw.githubusercontent.com/snv-ds/NLP_course/master/week3/restauranttrain_updated.json\n",
            "Resolving raw.githubusercontent.com (raw.githubusercontent.com)... 185.199.110.133, 185.199.109.133, 185.199.111.133, ...\n",
            "Connecting to raw.githubusercontent.com (raw.githubusercontent.com)|185.199.110.133|:443... connected.\n",
            "HTTP request sent, awaiting response... 200 OK\n",
            "Length: 15469921 (15M) [text/plain]\n",
            "Saving to: ‘restauranttrain_updated.json.1’\n",
            "\n",
            "restauranttrain_upd 100%[===================>]  14.75M  --.-KB/s    in 0.1s    \n",
            "\n",
            "2021-10-10 18:33:57 (111 MB/s) - ‘restauranttrain_updated.json.1’ saved [15469921/15469921]\n",
            "\n"
          ]
        }
      ]
    },
    {
      "cell_type": "markdown",
      "metadata": {
        "id": "kUXGJVCju8X_"
      },
      "source": [
        "As we can see, there are not so many long texts. And we can forecast all tokens at ones."
      ]
    },
    {
      "cell_type": "markdown",
      "metadata": {
        "id": "6_GtmCDLXKPB"
      },
      "source": [
        "### FCNN for NER"
      ]
    },
    {
      "cell_type": "markdown",
      "metadata": {
        "id": "0jX73PIhur8i"
      },
      "source": [
        "For first approach we can just use basic FCNN. In production you will never see this, but for learning purpose it can be useful to explore."
      ]
    },
    {
      "cell_type": "markdown",
      "metadata": {
        "id": "h1AzMdIwwK9K"
      },
      "source": [
        "As usual, we will write to fix words order in our vocab"
      ]
    },
    {
      "cell_type": "code",
      "metadata": {
        "id": "BgQnTm9oAaF5"
      },
      "source": [
        "import torch\n",
        "from torch import nn\n",
        "from torch.nn import functional as F\n",
        "from torch import LongTensor, FloatTensor\n",
        "from torch.nn.parameter import Parameter\n",
        "from torch.nn.utils.rnn import pack_padded_sequence, pad_packed_sequence\n",
        "from typing import Any"
      ],
      "execution_count": 143,
      "outputs": []
    },
    {
      "cell_type": "markdown",
      "metadata": {
        "id": "bn1CcWyF4PkA"
      },
      "source": [
        "### to biluo"
      ]
    },
    {
      "cell_type": "markdown",
      "metadata": {
        "id": "iOqzHiTSbnot"
      },
      "source": [
        "This time we want to change our markup and train some models"
      ]
    },
    {
      "cell_type": "markdown",
      "metadata": {
        "id": "09bbHjS_c9fZ"
      },
      "source": [
        "For whis purpose we will use spacy library. It contains built-in method that converts markup. But we need to correct it. That's why we wrote function that converts `BIO`-markup to `BILUO`-markup."
      ]
    },
    {
      "cell_type": "code",
      "metadata": {
        "id": "5fdftytA9tza",
        "outputId": "6ff58982-9f7b-4f50-fd87-450731e021a5",
        "colab": {
          "base_uri": "https://localhost:8080/"
        }
      },
      "source": [
        "!python -m spacy download en_core_web_sm"
      ],
      "execution_count": 144,
      "outputs": [
        {
          "output_type": "stream",
          "name": "stdout",
          "text": [
            "Collecting en-core-web-sm==3.1.0\n",
            "  Downloading https://github.com/explosion/spacy-models/releases/download/en_core_web_sm-3.1.0/en_core_web_sm-3.1.0-py3-none-any.whl (13.6 MB)\n",
            "\u001b[K     |████████████████████████████████| 13.6 MB 68 kB/s \n",
            "\u001b[?25hRequirement already satisfied: spacy<3.2.0,>=3.1.0 in /usr/local/lib/python3.7/dist-packages (from en-core-web-sm==3.1.0) (3.1.0)\n",
            "Requirement already satisfied: catalogue<2.1.0,>=2.0.4 in /usr/local/lib/python3.7/dist-packages (from spacy<3.2.0,>=3.1.0->en-core-web-sm==3.1.0) (2.0.6)\n",
            "Requirement already satisfied: numpy>=1.15.0 in /usr/local/lib/python3.7/dist-packages (from spacy<3.2.0,>=3.1.0->en-core-web-sm==3.1.0) (1.19.5)\n",
            "Requirement already satisfied: thinc<8.1.0,>=8.0.7 in /usr/local/lib/python3.7/dist-packages (from spacy<3.2.0,>=3.1.0->en-core-web-sm==3.1.0) (8.0.10)\n",
            "Requirement already satisfied: blis<0.8.0,>=0.4.0 in /usr/local/lib/python3.7/dist-packages (from spacy<3.2.0,>=3.1.0->en-core-web-sm==3.1.0) (0.4.1)\n",
            "Requirement already satisfied: jinja2 in /usr/local/lib/python3.7/dist-packages (from spacy<3.2.0,>=3.1.0->en-core-web-sm==3.1.0) (2.11.3)\n",
            "Requirement already satisfied: requests<3.0.0,>=2.13.0 in /usr/local/lib/python3.7/dist-packages (from spacy<3.2.0,>=3.1.0->en-core-web-sm==3.1.0) (2.23.0)\n",
            "Requirement already satisfied: typer<0.4.0,>=0.3.0 in /usr/local/lib/python3.7/dist-packages (from spacy<3.2.0,>=3.1.0->en-core-web-sm==3.1.0) (0.3.2)\n",
            "Requirement already satisfied: wasabi<1.1.0,>=0.8.1 in /usr/local/lib/python3.7/dist-packages (from spacy<3.2.0,>=3.1.0->en-core-web-sm==3.1.0) (0.8.2)\n",
            "Requirement already satisfied: srsly<3.0.0,>=2.4.1 in /usr/local/lib/python3.7/dist-packages (from spacy<3.2.0,>=3.1.0->en-core-web-sm==3.1.0) (2.4.1)\n",
            "Requirement already satisfied: preshed<3.1.0,>=3.0.2 in /usr/local/lib/python3.7/dist-packages (from spacy<3.2.0,>=3.1.0->en-core-web-sm==3.1.0) (3.0.5)\n",
            "Requirement already satisfied: packaging>=20.0 in /usr/local/lib/python3.7/dist-packages (from spacy<3.2.0,>=3.1.0->en-core-web-sm==3.1.0) (21.0)\n",
            "Requirement already satisfied: tqdm<5.0.0,>=4.38.0 in /usr/local/lib/python3.7/dist-packages (from spacy<3.2.0,>=3.1.0->en-core-web-sm==3.1.0) (4.62.3)\n",
            "Requirement already satisfied: pydantic!=1.8,!=1.8.1,<1.9.0,>=1.7.4 in /usr/local/lib/python3.7/dist-packages (from spacy<3.2.0,>=3.1.0->en-core-web-sm==3.1.0) (1.8.2)\n",
            "Requirement already satisfied: pathy>=0.3.5 in /usr/local/lib/python3.7/dist-packages (from spacy<3.2.0,>=3.1.0->en-core-web-sm==3.1.0) (0.6.0)\n",
            "Requirement already satisfied: setuptools in /usr/local/lib/python3.7/dist-packages (from spacy<3.2.0,>=3.1.0->en-core-web-sm==3.1.0) (57.4.0)\n",
            "Requirement already satisfied: cymem<2.1.0,>=2.0.2 in /usr/local/lib/python3.7/dist-packages (from spacy<3.2.0,>=3.1.0->en-core-web-sm==3.1.0) (2.0.5)\n",
            "Requirement already satisfied: murmurhash<1.1.0,>=0.28.0 in /usr/local/lib/python3.7/dist-packages (from spacy<3.2.0,>=3.1.0->en-core-web-sm==3.1.0) (1.0.5)\n",
            "Requirement already satisfied: typing-extensions<4.0.0.0,>=3.7.4 in /usr/local/lib/python3.7/dist-packages (from spacy<3.2.0,>=3.1.0->en-core-web-sm==3.1.0) (3.7.4.3)\n",
            "Requirement already satisfied: spacy-legacy<3.1.0,>=3.0.7 in /usr/local/lib/python3.7/dist-packages (from spacy<3.2.0,>=3.1.0->en-core-web-sm==3.1.0) (3.0.8)\n",
            "Requirement already satisfied: zipp>=0.5 in /usr/local/lib/python3.7/dist-packages (from catalogue<2.1.0,>=2.0.4->spacy<3.2.0,>=3.1.0->en-core-web-sm==3.1.0) (3.6.0)\n",
            "Requirement already satisfied: pyparsing>=2.0.2 in /usr/local/lib/python3.7/dist-packages (from packaging>=20.0->spacy<3.2.0,>=3.1.0->en-core-web-sm==3.1.0) (2.4.7)\n",
            "Requirement already satisfied: smart-open<6.0.0,>=5.0.0 in /usr/local/lib/python3.7/dist-packages (from pathy>=0.3.5->spacy<3.2.0,>=3.1.0->en-core-web-sm==3.1.0) (5.2.1)\n",
            "Requirement already satisfied: chardet<4,>=3.0.2 in /usr/local/lib/python3.7/dist-packages (from requests<3.0.0,>=2.13.0->spacy<3.2.0,>=3.1.0->en-core-web-sm==3.1.0) (3.0.4)\n",
            "Requirement already satisfied: certifi>=2017.4.17 in /usr/local/lib/python3.7/dist-packages (from requests<3.0.0,>=2.13.0->spacy<3.2.0,>=3.1.0->en-core-web-sm==3.1.0) (2021.5.30)\n",
            "Requirement already satisfied: idna<3,>=2.5 in /usr/local/lib/python3.7/dist-packages (from requests<3.0.0,>=2.13.0->spacy<3.2.0,>=3.1.0->en-core-web-sm==3.1.0) (2.10)\n",
            "Requirement already satisfied: urllib3!=1.25.0,!=1.25.1,<1.26,>=1.21.1 in /usr/local/lib/python3.7/dist-packages (from requests<3.0.0,>=2.13.0->spacy<3.2.0,>=3.1.0->en-core-web-sm==3.1.0) (1.24.3)\n",
            "Requirement already satisfied: click<7.2.0,>=7.1.1 in /usr/local/lib/python3.7/dist-packages (from typer<0.4.0,>=0.3.0->spacy<3.2.0,>=3.1.0->en-core-web-sm==3.1.0) (7.1.2)\n",
            "Requirement already satisfied: MarkupSafe>=0.23 in /usr/local/lib/python3.7/dist-packages (from jinja2->spacy<3.2.0,>=3.1.0->en-core-web-sm==3.1.0) (2.0.1)\n",
            "\u001b[38;5;2m✔ Download and installation successful\u001b[0m\n",
            "You can now load the package via spacy.load('en_core_web_sm')\n"
          ]
        }
      ]
    },
    {
      "cell_type": "code",
      "metadata": {
        "id": "URS5vbkg79mo",
        "outputId": "f3ff9e14-218b-4a64-b19c-9b12b982031e",
        "colab": {
          "base_uri": "https://localhost:8080/"
        }
      },
      "source": [
        "!python -m spacy init config base_config.cfg -p ner --force"
      ],
      "execution_count": 145,
      "outputs": [
        {
          "output_type": "stream",
          "name": "stdout",
          "text": [
            "\u001b[38;5;3m⚠ To generate a more effective transformer-based config (GPU-only),\n",
            "install the spacy-transformers package and re-run this command. The config\n",
            "generated now does not use transformers.\u001b[0m\n",
            "\u001b[38;5;4mℹ Generated config template specific for your use case\u001b[0m\n",
            "- Language: en\n",
            "- Pipeline: ner\n",
            "- Optimize for: efficiency\n",
            "- Hardware: CPU\n",
            "- Transformer: None\n",
            "Traceback (most recent call last):\n",
            "  File \"/usr/lib/python3.7/runpy.py\", line 193, in _run_module_as_main\n",
            "    \"__main__\", mod_spec)\n",
            "  File \"/usr/lib/python3.7/runpy.py\", line 85, in _run_code\n",
            "    exec(code, run_globals)\n",
            "  File \"/usr/local/lib/python3.7/dist-packages/spacy/__main__.py\", line 4, in <module>\n",
            "    setup_cli()\n",
            "  File \"/usr/local/lib/python3.7/dist-packages/spacy/cli/_util.py\", line 69, in setup_cli\n",
            "    command(prog_name=COMMAND)\n",
            "  File \"/usr/local/lib/python3.7/dist-packages/click/core.py\", line 829, in __call__\n",
            "    return self.main(*args, **kwargs)\n",
            "  File \"/usr/local/lib/python3.7/dist-packages/click/core.py\", line 782, in main\n",
            "    rv = self.invoke(ctx)\n",
            "  File \"/usr/local/lib/python3.7/dist-packages/click/core.py\", line 1259, in invoke\n",
            "    return _process_result(sub_ctx.command.invoke(sub_ctx))\n",
            "  File \"/usr/local/lib/python3.7/dist-packages/click/core.py\", line 1259, in invoke\n",
            "    return _process_result(sub_ctx.command.invoke(sub_ctx))\n",
            "  File \"/usr/local/lib/python3.7/dist-packages/click/core.py\", line 1066, in invoke\n",
            "    return ctx.invoke(self.callback, **ctx.params)\n",
            "  File \"/usr/local/lib/python3.7/dist-packages/click/core.py\", line 610, in invoke\n",
            "    return callback(*args, **kwargs)\n",
            "  File \"/usr/local/lib/python3.7/dist-packages/typer/main.py\", line 497, in wrapper\n",
            "    return callback(**use_params)  # type: ignore\n",
            "  File \"/usr/local/lib/python3.7/dist-packages/spacy/cli/init_config.py\", line 63, in init_config_cli\n",
            "    silent=is_stdout,\n",
            "  File \"/usr/local/lib/python3.7/dist-packages/spacy/cli/init_config.py\", line 187, in init_config\n",
            "    nlp = util.load_model_from_config(config, auto_fill=True)\n",
            "  File \"/usr/local/lib/python3.7/dist-packages/spacy/util.py\", line 435, in load_model_from_config\n",
            "    validate=validate,\n",
            "  File \"/usr/local/lib/python3.7/dist-packages/spacy/language.py\", line 1686, in from_config\n",
            "    nlp = lang_cls(vocab=vocab, create_tokenizer=create_tokenizer, meta=meta)\n",
            "  File \"/usr/local/lib/python3.7/dist-packages/spacy/language.py\", line 152, in __init__\n",
            "    util.registry._entry_point_factories.get_all()\n",
            "  File \"/usr/local/lib/python3.7/dist-packages/catalogue/__init__.py\", line 109, in get_all\n",
            "    result.update(self.get_entry_points())\n",
            "  File \"/usr/local/lib/python3.7/dist-packages/catalogue/__init__.py\", line 124, in get_entry_points\n",
            "    result[entry_point.name] = entry_point.load()\n",
            "  File \"/usr/local/lib/python3.7/dist-packages/catalogue/_importlib_metadata/__init__.py\", line 94, in load\n",
            "    module = import_module(match.group('module'))\n",
            "  File \"/usr/lib/python3.7/importlib/__init__.py\", line 127, in import_module\n",
            "    return _bootstrap._gcd_import(name[level:], package, level)\n",
            "  File \"<frozen importlib._bootstrap>\", line 1006, in _gcd_import\n",
            "  File \"<frozen importlib._bootstrap>\", line 983, in _find_and_load\n",
            "  File \"<frozen importlib._bootstrap>\", line 953, in _find_and_load_unlocked\n",
            "  File \"<frozen importlib._bootstrap>\", line 219, in _call_with_frames_removed\n",
            "  File \"<frozen importlib._bootstrap>\", line 1006, in _gcd_import\n",
            "  File \"<frozen importlib._bootstrap>\", line 983, in _find_and_load\n",
            "  File \"<frozen importlib._bootstrap>\", line 967, in _find_and_load_unlocked\n",
            "  File \"<frozen importlib._bootstrap>\", line 677, in _load_unlocked\n",
            "  File \"<frozen importlib._bootstrap_external>\", line 728, in exec_module\n",
            "  File \"<frozen importlib._bootstrap>\", line 219, in _call_with_frames_removed\n",
            "  File \"/usr/local/lib/python3.7/dist-packages/spacy_transformers/__init__.py\", line 1, in <module>\n",
            "    from . import architectures\n",
            "  File \"/usr/local/lib/python3.7/dist-packages/spacy_transformers/architectures.py\", line 5, in <module>\n",
            "    from .layers import TransformerModel, TransformerListener\n",
            "  File \"/usr/local/lib/python3.7/dist-packages/spacy_transformers/layers/__init__.py\", line 1, in <module>\n",
            "    from .listener import TransformerListener\n",
            "  File \"/usr/local/lib/python3.7/dist-packages/spacy_transformers/layers/listener.py\", line 4, in <module>\n",
            "    from ..data_classes import TransformerData\n",
            "  File \"/usr/local/lib/python3.7/dist-packages/spacy_transformers/data_classes.py\", line 11, in <module>\n",
            "    from .util import transpose_list\n",
            "  File \"/usr/local/lib/python3.7/dist-packages/spacy_transformers/util.py\", line 4, in <module>\n",
            "    from transformers import AutoModel, AutoTokenizer\n",
            "ImportError: cannot import name 'AutoModel' from 'transformers' (/usr/local/lib/python3.7/dist-packages/transformers/__init__.py)\n"
          ]
        }
      ]
    },
    {
      "cell_type": "code",
      "metadata": {
        "id": "5pOmC2XY9YU9"
      },
      "source": [
        "nlp = spacy.load(\"en_core_web_sm\")  # without vocabulary spacy can not work"
      ],
      "execution_count": 146,
      "outputs": []
    },
    {
      "cell_type": "code",
      "metadata": {
        "id": "Ut4cXOBp2nom",
        "outputId": "07ea70c9-6281-4b3e-d890-656a311e1276",
        "colab": {
          "base_uri": "https://localhost:8080/"
        }
      },
      "source": [
        "with open('restauranttrain_updated.json', 'r') as f:\n",
        "    d = json.load(f)\n",
        "d[0]['paragraphs'][34]['sentences']"
      ],
      "execution_count": 147,
      "outputs": [
        {
          "output_type": "execute_result",
          "data": {
            "text/plain": [
              "[{'brackets': [],\n",
              "  'tokens': [{'id': 0, 'ner': 'O', 'orth': 'any', 'space': ' ', 'tag': '-'},\n",
              "   {'id': 1, 'ner': 'O', 'orth': 'chance', 'space': ' ', 'tag': '-'},\n",
              "   {'id': 2, 'ner': 'O', 'orth': 'i', 'space': ' ', 'tag': '-'},\n",
              "   {'id': 3, 'ner': 'O', 'orth': 'can', 'space': ' ', 'tag': '-'},\n",
              "   {'id': 4, 'ner': 'O', 'orth': 'get', 'space': ' ', 'tag': '-'},\n",
              "   {'id': 5, 'ner': 'O', 'orth': 'a', 'space': ' ', 'tag': '-'},\n",
              "   {'id': 6,\n",
              "    'ner': 'U-Amenity',\n",
              "    'orth': 'reservation',\n",
              "    'space': ' ',\n",
              "    'tag': '-'},\n",
              "   {'id': 7, 'ner': 'O', 'orth': 'at', 'space': ' ', 'tag': '-'},\n",
              "   {'id': 8, 'ner': 'O', 'orth': 'that', 'space': ' ', 'tag': '-'},\n",
              "   {'id': 9, 'ner': 'B-Amenity', 'orth': 'fine', 'space': ' ', 'tag': '-'},\n",
              "   {'id': 10, 'ner': 'L-Amenity', 'orth': 'dining', 'space': ' ', 'tag': '-'},\n",
              "   {'id': 11, 'ner': 'O', 'orth': 'place', 'space': ' ', 'tag': '-'},\n",
              "   {'id': 12, 'ner': 'O', 'orth': 'thats', 'space': ' ', 'tag': '-'},\n",
              "   {'id': 13, 'ner': 'O', 'orth': 'the', 'space': ' ', 'tag': '-'},\n",
              "   {'id': 14, 'ner': 'B-Rating', 'orth': 'top', 'space': ' ', 'tag': '-'},\n",
              "   {'id': 15, 'ner': 'I-Rating', 'orth': 'rated', 'space': ' ', 'tag': '-'},\n",
              "   {'id': 16, 'ner': 'I-Rating', 'orth': 'on', 'space': ' ', 'tag': '-'},\n",
              "   {'id': 17,\n",
              "    'ner': 'L-Rating',\n",
              "    'orth': 'tripadvisor',\n",
              "    'space': ' ',\n",
              "    'tag': '-'}]}]"
            ]
          },
          "metadata": {},
          "execution_count": 147
        }
      ]
    },
    {
      "cell_type": "code",
      "metadata": {
        "id": "VoSHwiwY6OK3"
      },
      "source": [
        "tokens_dict = d[0]['paragraphs'][34]['sentences'][0]['tokens']\n",
        "tokens = [i['orth'] for i in tokens_dict]\n",
        "\n",
        "text = ' '.join(tokens)\n",
        "doc = nlp(text)\n",
        "entities = d[0]['paragraphs'][34]['entities']"
      ],
      "execution_count": 148,
      "outputs": []
    },
    {
      "cell_type": "markdown",
      "metadata": {
        "id": "JKP8sTSgdh8H"
      },
      "source": [
        "We will join our data, which is in list and then move it to spacy method "
      ]
    },
    {
      "cell_type": "markdown",
      "metadata": {
        "id": "OCZydwx3dyUt"
      },
      "source": [
        "For futher usage you can download and use this function in your work"
      ]
    },
    {
      "cell_type": "code",
      "metadata": {
        "id": "V9aV1nMi2ngA"
      },
      "source": [
        "from typing import List, Tuple, Union\n",
        "def convert_to_biluo(text: str = '',\n",
        "                     entities: List[Tuple] = None,\n",
        "                     tokens: list = None,\n",
        "                     missing: str = 'O') -> Tuple[Union[List[str], list, None], List[str]]:\n",
        "    \"\"\"\n",
        "    Tokenize text and return text tokens and ner labels.\n",
        "\n",
        "    Args:\n",
        "        text: text\n",
        "        entities: labels in spacy format\n",
        "        tokens: already tokenized text, if you want it\n",
        "        missing: lable for tokens without entities\n",
        "\n",
        "    Returns:\n",
        "        tokenized text and labels\n",
        "    \"\"\"\n",
        "\n",
        "    # create dicts with start/end position of token and its index\n",
        "    starts = []\n",
        "    ends = []\n",
        "    cur_index = 0\n",
        "    tokens = text.split() if tokens is None else tokens\n",
        "\n",
        "    for token in tokens:\n",
        "        starts.append(cur_index)\n",
        "        ends.append(cur_index + len(token))\n",
        "        cur_index += len(token) + 1\n",
        "\n",
        "    starts = {k: v for v, k in enumerate(starts)}\n",
        "    ends = {k: v for v, k in enumerate(ends)}\n",
        "\n",
        "    # this will be a list with token labels\n",
        "    biluo = [\"-\" for _ in text.split()]\n",
        "\n",
        "    # check that there are no overlapping entities\n",
        "    entities_indexes = [list(range(i[0], i[1])) for i in entities]\n",
        "    if max(Counter([i for j in entities_indexes for i in j]).values()) > 1:\n",
        "        raise ValueError('You have overlapping entities')\n",
        "\n",
        "    tokens_in_ents = {}\n",
        "\n",
        "    # Handle entity cases\n",
        "    for start_char, end_char, label in entities:\n",
        "        for token_index in range(start_char, end_char):\n",
        "            tokens_in_ents[token_index] = (start_char, end_char, label)\n",
        "        start_token = starts.get(start_char)\n",
        "        end_token = ends.get(end_char)\n",
        "        # Only interested if the tokenization is correct\n",
        "        if start_token is not None and end_token is not None:\n",
        "            if start_token == end_token:\n",
        "                biluo[start_token] = f\"U-{label}\"\n",
        "            else:\n",
        "                biluo[start_token] = f\"B-{label}\"\n",
        "                for i in range(start_token + 1, end_token):\n",
        "                    biluo[i] = f\"I-{label}\"\n",
        "                biluo[end_token] = f\"L-{label}\"\n",
        "\n",
        "    # put missing value for tokens without labels\n",
        "    entity_chars = set()\n",
        "    for start_char, end_char, label in entities:\n",
        "        for i in range(start_char, end_char):\n",
        "            entity_chars.add(i)\n",
        "\n",
        "    for ind, token in enumerate(tokens):\n",
        "        for i in range(list(starts.keys())[ind], list(ends.keys())[ind]):\n",
        "            if i in entity_chars:\n",
        "                break\n",
        "        else:\n",
        "            biluo[ind] = missing\n",
        "\n",
        "    return tokens, biluo"
      ],
      "execution_count": 149,
      "outputs": []
    },
    {
      "cell_type": "code",
      "metadata": {
        "id": "aHi1oKYBsNgV",
        "outputId": "50952b3d-0cba-4c3b-fac0-e0d6a92b26f5",
        "colab": {
          "base_uri": "https://localhost:8080/"
        }
      },
      "source": [
        "# convert the data\n",
        "%%time\n",
        "new_data = []\n",
        "biluo_labels = []\n",
        "for i in range(len(d[0]['paragraphs'])):\n",
        "    tokens_dict = d[0]['paragraphs'][i]['sentences'][0]['tokens']\n",
        "    tokens = [i['orth'] for i in tokens_dict]\n",
        "    if len([i['orth'] for i in tokens_dict]) > 1:\n",
        "        \n",
        "        text = ' '.join(tokens)\n",
        "        doc = nlp(text)\n",
        "        entities = d[0]['paragraphs'][i]['entities']\n",
        "\n",
        "        new_ents = offsets_to_biluo_tags(doc, entities)  # using spacy function\n",
        "        if entities == []:\n",
        "            new_ents = ['O'] * len(tokens)\n",
        "        new_data.append(tokens)\n",
        "        \n",
        "        biluo_labels.append(new_ents)\n",
        "        if len(tokens) != len(new_ents): # if lists from 2 methods don't match\n",
        "            \n",
        "            ents2 = convert_to_biluo(text, entities)[1]\n",
        "            biluo_labels[-1] = ents2"
      ],
      "execution_count": 150,
      "outputs": [
        {
          "output_type": "stream",
          "name": "stdout",
          "text": [
            "CPU times: user 54 s, sys: 252 ms, total: 54.3 s\n",
            "Wall time: 54.1 s\n"
          ]
        }
      ]
    },
    {
      "cell_type": "code",
      "metadata": {
        "id": "mNjJv6qV6DaM",
        "outputId": "99d33c3c-5929-4455-bd2f-f44f927986ee",
        "colab": {
          "base_uri": "https://localhost:8080/",
          "height": 418
        }
      },
      "source": [
        "max_lens = list()\n",
        "for row in new_data:\n",
        "    max_lens.append(len(row))\n",
        "max_lens = pd.Series(max_lens)\n",
        "max_lens.plot();\n",
        "max_lens.describe()"
      ],
      "execution_count": 151,
      "outputs": [
        {
          "output_type": "execute_result",
          "data": {
            "text/plain": [
              "count    7634.000000\n",
              "mean        9.234870\n",
              "std         3.652928\n",
              "min         2.000000\n",
              "25%         7.000000\n",
              "50%         9.000000\n",
              "75%        11.000000\n",
              "max        35.000000\n",
              "dtype: float64"
            ]
          },
          "metadata": {},
          "execution_count": 151
        },
        {
          "output_type": "display_data",
          "data": {
            "image/png": "[encoded data removed]",
            "text/plain": [
              "<Figure size 432x288 with 1 Axes>"
            ]
          },
          "metadata": {
            "needs_background": "light"
          }
        }
      ]
    },
    {
      "cell_type": "code",
      "metadata": {
        "id": "9ttzrWaGF_Qt",
        "outputId": "d6ed36b1-59a6-4156-ab02-44a49ff4b580",
        "colab": {
          "base_uri": "https://localhost:8080/"
        }
      },
      "source": [
        "biluo_labels[0], new_data[0]"
      ],
      "execution_count": 152,
      "outputs": [
        {
          "output_type": "execute_result",
          "data": {
            "text/plain": [
              "(['B-Rating', 'L-Rating', 'O', 'O', 'B-Amenity', 'L-Amenity'],\n",
              " ['2', 'start', 'restaurants', 'with', 'inside', 'dining'])"
            ]
          },
          "metadata": {},
          "execution_count": 152
        }
      ]
    },
    {
      "cell_type": "code",
      "metadata": {
        "id": "UF_88li06w_A"
      },
      "source": [
        "import json\n",
        "from collections import Counter\n",
        "from tqdm.notebook import tqdm\n",
        "import joblib\n",
        "from typing import List, Tuple, Union, Dict"
      ],
      "execution_count": 153,
      "outputs": []
    },
    {
      "cell_type": "markdown",
      "metadata": {
        "id": "0tRh7QQLHV_H"
      },
      "source": [
        "#### Task 5"
      ]
    },
    {
      "cell_type": "markdown",
      "metadata": {
        "id": "coZ8RhAfeXCp"
      },
      "source": [
        "create two variables, that will contains mappings between entities and indices. Each dictionary must include entities: `O` and `PAD`.\n",
        "Initialize variable `tag_to_idx`."
      ]
    },
    {
      "cell_type": "code",
      "metadata": {
        "id": "9EavWQqK-aVf",
        "outputId": "6d12e954-d3e2-4f0f-c5fd-d55d3cf4b31a",
        "colab": {
          "base_uri": "https://localhost:8080/"
        }
      },
      "source": [
        "# YOUR CODE HERE\n",
        "\n",
        "tags = sorted(list({i for j in biluo_labels for i in j}) +['PAD'])\n",
        "\n",
        "tag_to_idx = {k: v for k, v in zip(tags, range(0, len(tags)))}\n",
        "\n",
        "with open('mapping.json', 'w') as f:\n",
        "  json.dump(tag_to_idx, f)\n",
        "\n",
        "idx_to_tag = {second: first for first, second in tag_to_idx.items()}\n",
        "\n",
        "tag_to_idx"
      ],
      "execution_count": 154,
      "outputs": [
        {
          "output_type": "execute_result",
          "data": {
            "text/plain": [
              "{'B-Amenity': 0,\n",
              " 'B-Cuisine': 1,\n",
              " 'B-Dish': 2,\n",
              " 'B-Hours': 3,\n",
              " 'B-Location': 4,\n",
              " 'B-Price': 5,\n",
              " 'B-Rating': 6,\n",
              " 'B-Restaurant_Name': 7,\n",
              " 'I-Amenity': 8,\n",
              " 'I-Cuisine': 9,\n",
              " 'I-Dish': 10,\n",
              " 'I-Hours': 11,\n",
              " 'I-Location': 12,\n",
              " 'I-Price': 13,\n",
              " 'I-Rating': 14,\n",
              " 'I-Restaurant_Name': 15,\n",
              " 'L-Amenity': 16,\n",
              " 'L-Cuisine': 17,\n",
              " 'L-Dish': 18,\n",
              " 'L-Hours': 19,\n",
              " 'L-Location': 20,\n",
              " 'L-Price': 21,\n",
              " 'L-Rating': 22,\n",
              " 'L-Restaurant_Name': 23,\n",
              " 'O': 24,\n",
              " 'PAD': 25,\n",
              " 'U-Amenity': 26,\n",
              " 'U-Cuisine': 27,\n",
              " 'U-Dish': 28,\n",
              " 'U-Hours': 29,\n",
              " 'U-Location': 30,\n",
              " 'U-Price': 31,\n",
              " 'U-Rating': 32,\n",
              " 'U-Restaurant_Name': 33}"
            ]
          },
          "metadata": {},
          "execution_count": 154
        }
      ]
    },
    {
      "cell_type": "code",
      "metadata": {
        "id": "3ITsQT-SIWB5"
      },
      "source": [
        "def get_word_to_idx(count: List[Tuple[str, int]],\n",
        "                   min_words: Union[int, float] = 0.0,\n",
        "                   max_words: Union[int, float] = 1.0) -> Dict[str, int]:\n",
        "    max_count = count[0][1]\n",
        "    if isinstance(min_words, float):\n",
        "        min_words = max_count * min_words\n",
        "    if isinstance(max_words, float):\n",
        "        max_words = max_count * max_words\n",
        "    \n",
        "    all_words = [w[0] for w in count if max_words >= w[1] >= min_words]\n",
        "    \n",
        "    all_words = ['<pad>', '<unk>'] + all_words\n",
        "    \n",
        "    word_to_idx = {k: v for k, v in zip(all_words, range(0, len(all_words)))}\n",
        "    return word_to_idx"
      ],
      "execution_count": 155,
      "outputs": []
    },
    {
      "cell_type": "markdown",
      "metadata": {
        "id": "tsMgDEWoeaEC"
      },
      "source": [
        "#### Task 6"
      ]
    },
    {
      "cell_type": "markdown",
      "metadata": {
        "id": "rF2wHVhkeYtW"
      },
      "source": [
        "Count how many unique words are there in our train dataset. Parameters `min_words` and `max_words` should be initialized as default values. Initialize variable `word_to_idx` from method `get_word_to_idx`."
      ]
    },
    {
      "cell_type": "markdown",
      "metadata": {
        "id": "yKD4GgGpfybD"
      },
      "source": [
        "##### help"
      ]
    },
    {
      "cell_type": "code",
      "metadata": {
        "id": "8J9Bf3xof0eB"
      },
      "source": [
        "# 1. first you can count occurences of each word\n",
        "# 2. second you can pass list of tuples for each pair (word, num_of_occurencies) to function get_word_to_idx"
      ],
      "execution_count": 156,
      "outputs": []
    },
    {
      "cell_type": "markdown",
      "metadata": {
        "id": "QGSXKAasgIf6"
      },
      "source": [
        "##### Continue work"
      ]
    },
    {
      "cell_type": "code",
      "metadata": {
        "id": "WE62qt8k-ad-",
        "outputId": "8c0807cd-e564-41a7-9f48-55fc9636729e",
        "colab": {
          "base_uri": "https://localhost:8080/"
        }
      },
      "source": [
        "count = Counter([i for j in new_data for i in j])\n",
        "word_to_idx = get_word_to_idx(count.most_common(), min_words=1)\n",
        "len(word_to_idx)"
      ],
      "execution_count": 157,
      "outputs": [
        {
          "output_type": "execute_result",
          "data": {
            "text/plain": [
              "3805"
            ]
          },
          "metadata": {},
          "execution_count": 157
        }
      ]
    },
    {
      "cell_type": "code",
      "metadata": {
        "id": "c-EIfsqqfNtZ"
      },
      "source": [
        "assert len(word_to_idx) == 3805"
      ],
      "execution_count": 158,
      "outputs": []
    },
    {
      "cell_type": "code",
      "metadata": {
        "id": "v7mJ29v2IV1-"
      },
      "source": [
        "def create_matrix_of_texts(dataset, max_sequence_length, \n",
        "                           pad_token, word2index):\n",
        "    texts = np.full((len(dataset), max_sequence_length),\n",
        "                    word2index[pad_token], dtype=np.int64)  # creating empty matrix\n",
        "\n",
        "    for ind, row in enumerate(dataset):\n",
        "          trim_length = min(max_sequence_length, len(row))\n",
        "          text = row[:trim_length]\n",
        "          texts[ind, :trim_length] = [word2index[item.lower()] for item in text]\n",
        "    return texts\n",
        "\n",
        "def create_matrix_of_tags(dataset, max_sequence_length, pad_index, tag2idx):\n",
        "    tags = np.full((len(dataset), max_sequence_length),\n",
        "                    pad_index, dtype=np.int64)  # creating empty matrix\n",
        "\n",
        "    for ind, row in enumerate(dataset):\n",
        "          trim_length = min(max_sequence_length, len(row))\n",
        "          labels = row[: trim_length]\n",
        "          tags[ind, : trim_length] = [tag2idx[item] for item in labels]\n",
        "    return tags"
      ],
      "execution_count": 159,
      "outputs": []
    },
    {
      "cell_type": "code",
      "metadata": {
        "id": "s3qdl6XJHq6z"
      },
      "source": [
        "texts = create_matrix_of_texts(new_data, \n",
        "                               int(max_lens.quantile(0.97)),\n",
        "                               '<pad>', word_to_idx)\n",
        "\n",
        "tags = create_matrix_of_tags(biluo_labels,\n",
        "                             int(max_lens.quantile(0.97)),\n",
        "                             tag_to_idx['PAD'],\n",
        "                             tag_to_idx)"
      ],
      "execution_count": 160,
      "outputs": []
    },
    {
      "cell_type": "code",
      "metadata": {
        "id": "69okXnDhKpYW"
      },
      "source": [
        "class NerDataset(Dataset):\n",
        "    def __init__(self,\n",
        "                 texts: np.array,\n",
        "                 tags: np.array):\n",
        "        self.tags = tags\n",
        "        self.texts = texts\n",
        "        \n",
        "\n",
        "    def __getitem__(self, idx: int) -> Tuple[torch.LongTensor, torch.LongTensor]:\n",
        "        tokens_tensor = torch.tensor(self.texts[idx], dtype=torch.int64)\n",
        "        return tokens_tensor, torch.tensor(self.tags[idx], dtype=torch.int64)\n",
        "\n",
        "    def __len__(self) -> int:\n",
        "        dataset_len = self.texts.shape[0]\n",
        "        return dataset_len"
      ],
      "execution_count": 161,
      "outputs": []
    },
    {
      "cell_type": "code",
      "metadata": {
        "id": "eCe1keAYKpMb"
      },
      "source": [
        "ner_dataset = NerDataset(texts, tags)\n",
        "assert len(ner_dataset) == 7634"
      ],
      "execution_count": 162,
      "outputs": []
    },
    {
      "cell_type": "code",
      "metadata": {
        "id": "gG6oV-zTKo_e"
      },
      "source": [
        "from torch.utils.data.dataset import random_split"
      ],
      "execution_count": 163,
      "outputs": []
    },
    {
      "cell_type": "code",
      "metadata": {
        "id": "aXx7nlGeGo-R"
      },
      "source": [
        "BATCH_SIZE = 32"
      ],
      "execution_count": 164,
      "outputs": []
    },
    {
      "cell_type": "markdown",
      "metadata": {
        "id": "yGrEjzG4gadC"
      },
      "source": [
        "#### Task 8"
      ]
    },
    {
      "cell_type": "markdown",
      "metadata": {
        "id": "k8MniGMFgdlG"
      },
      "source": [
        "Initialize dataloaders for train and validation. There is no need to shuffle validation dataloader, but it is better to shuffle train and drop last batch from train dataloader."
      ]
    },
    {
      "cell_type": "code",
      "metadata": {
        "id": "ehjV96FzLItx"
      },
      "source": [
        "# YOUR CODE HERE\n",
        "\n",
        "num_train = int(len(ner_dataset) * 0.95)\n",
        "split_train_, split_valid_ = \\\n",
        "    random_split(ner_dataset, [num_train, len(ner_dataset) - num_train])\n",
        "\n",
        "\n",
        "\n",
        "train_dataloader = torch.utils.data.DataLoader(split_train_, batch_size=BATCH_SIZE,\n",
        "                              shuffle=True, drop_last=True)\n",
        "valid_dataloader = torch.utils.data.DataLoader(split_valid_, batch_size=BATCH_SIZE,\n",
        "                              shuffle=False)"
      ],
      "execution_count": 165,
      "outputs": []
    },
    {
      "cell_type": "markdown",
      "metadata": {
        "id": "dl8EJ-bzgz7t"
      },
      "source": [
        "In this toy example we will first try simple FCNN for your problem. Let's look how bad/good it fits our data."
      ]
    },
    {
      "cell_type": "markdown",
      "metadata": {
        "id": "dWLYR4MFhWDB"
      },
      "source": [
        "#### Task 9"
      ]
    },
    {
      "cell_type": "markdown",
      "metadata": {
        "id": "10wgebnyhYiL"
      },
      "source": [
        "Initialize sequantial layers of our FCNN"
      ]
    },
    {
      "cell_type": "code",
      "metadata": {
        "id": "3ngc4mz_P7a5"
      },
      "source": [
        "# YOUR CODE HERE\n",
        "\n",
        "class NerModel(nn.Module):\n",
        "    def __init__(\n",
        "        self,\n",
        "        word2idx: Dict,\n",
        "        embedding_dim: int = 100,\n",
        "        mapping: Dict[int, str] = None,\n",
        "        hidden_size: int = 256,\n",
        "    ):\n",
        "        super(NerModel, self).__init__()\n",
        "        if not mapping:\n",
        "            raise RuntimeError(f'Empty labels')\n",
        "        self.word2idx = word2idx\n",
        "        self.labels = mapping\n",
        "\n",
        "        self.linear_sigmoid_stack = nn.Sequential(\n",
        "            nn.Embedding(len(self.word2idx), embedding_dim, ),\n",
        "            nn.Sigmoid(),\n",
        "            nn.Linear(embedding_dim, hidden_size),\n",
        "            nn.Sigmoid(),\n",
        "            nn.Linear(hidden_size, len(mapping))\n",
        "        )\n",
        "\n",
        "    def forward(self, tokens: LongTensor) -> FloatTensor:\n",
        "\n",
        "        return self.linear_sigmoid_stack(tokens).view(-1, len(self.labels))"
      ],
      "execution_count": 166,
      "outputs": []
    },
    {
      "cell_type": "markdown",
      "metadata": {
        "id": "il0TbOeVhkZC"
      },
      "source": [
        "Now we will create basic network and check how it calculate loss."
      ]
    },
    {
      "cell_type": "code",
      "metadata": {
        "id": "lyw63e8YP_ko"
      },
      "source": [
        "model = NerModel(word_to_idx, 100, {idx: str(idx) for idx in range(10)})\n",
        "assert (\n",
        "        len(list(name for name, module in model.named_modules())) > 3\n",
        "    ), \"Not enough layers created\""
      ],
      "execution_count": 167,
      "outputs": []
    },
    {
      "cell_type": "code",
      "metadata": {
        "id": "6QktELcGQEIw"
      },
      "source": [
        "num_classes = len(tag_to_idx)\n",
        "model = NerModel(word_to_idx, 30, {idx: str(idx) for idx in range(num_classes)})\n",
        "seq_len = 32\n",
        "example_input = torch.randint(0, 2, (BATCH_SIZE, seq_len), dtype=torch.int64)\n",
        "logits = model(example_input)\n",
        "assert isinstance(logits, torch.FloatTensor)\n",
        "assert logits.shape == (BATCH_SIZE * seq_len, num_classes), f\"current size of model output {logits.shape}\""
      ],
      "execution_count": 168,
      "outputs": []
    },
    {
      "cell_type": "code",
      "metadata": {
        "id": "7wsrqGA7hz1O",
        "outputId": "fce6e05b-4d27-46d0-fe6e-279ff28b8d10",
        "colab": {
          "base_uri": "https://localhost:8080/"
        }
      },
      "source": [
        "i = iter(train_dataloader)\n",
        "text, label = next(i)\n",
        "logits = model(text)\n",
        "loss_function = nn.CrossEntropyLoss()\n",
        "loss_function(logits, label.view(-1))"
      ],
      "execution_count": 169,
      "outputs": [
        {
          "output_type": "execute_result",
          "data": {
            "text/plain": [
              "tensor(3.8783, grad_fn=<NllLossBackward>)"
            ]
          },
          "metadata": {},
          "execution_count": 169
        }
      ]
    },
    {
      "cell_type": "markdown",
      "metadata": {
        "id": "GaI3WuNFh3mK"
      },
      "source": [
        "Everything looks pretty well and seems correct. Lets now write evaluation function and begin our training."
      ]
    },
    {
      "cell_type": "markdown",
      "metadata": {
        "id": "8rENMRVxiJdR"
      },
      "source": [
        "#### Task 10"
      ]
    },
    {
      "cell_type": "markdown",
      "metadata": {
        "id": "h6VN-xHQiNNY"
      },
      "source": [
        "Fill lines of code. First you need to initialize variable of `correct_labels` (labels, that are not special ones). Then you need to get `true_labels` and `predicted` variables."
      ]
    },
    {
      "cell_type": "code",
      "metadata": {
        "id": "6rXHLysLiL3c"
      },
      "source": [
        "# YOUR CODE HERE\n",
        "def evaluate(dataloader):\n",
        "    model.eval()\n",
        "    total_acc, total_count = 0, 0\n",
        "    correct_labels = [value for value in idx_to_tag.values() if value != 'O']\n",
        "    predicted, true_labels = list(), list()\n",
        "\n",
        "    with torch.no_grad():\n",
        "        for idx, batch in enumerate(dataloader):\n",
        "            tokens, label = batch\n",
        "            tokens = tokens.to(device)\n",
        "            \n",
        "            logits = model(tokens)\n",
        "            predictions = F.log_softmax(logits, dim=1).reshape(-1,\n",
        "                                                               int(max_lens.quantile(0.97)),\n",
        "                                                               len(tag_to_idx)).argmax(dim=2).flatten().detach().cpu().numpy()\n",
        "            predicted.extend(predictions)\n",
        "            true_labels.extend(label.flatten().detach().cpu().numpy())\n",
        "    true_labels = [idx_to_tag[val] for val in true_labels]\n",
        "    \n",
        "    predicted = [idx_to_tag[val] for val in predicted]\n",
        "    print('\\n', classification_report(true_labels,\n",
        "                                      predicted,\n",
        "                                      labels=correct_labels))"
      ],
      "execution_count": 200,
      "outputs": []
    },
    {
      "cell_type": "markdown",
      "metadata": {
        "id": "bKo2r1WYizlt"
      },
      "source": [
        "Now we can create our model and start trainig"
      ]
    },
    {
      "cell_type": "code",
      "metadata": {
        "id": "7ULTTPvri4YI",
        "outputId": "f61ab609-eb6c-42ec-cb1b-5fd01fa6239a",
        "colab": {
          "base_uri": "https://localhost:8080/"
        }
      },
      "source": [
        "model = NerModel(word_to_idx, 300, tag_to_idx)\n",
        "optimizer = torch.optim.Adam(model.parameters(), lr=0.01)\n",
        "device = torch.device('cuda') if torch.cuda.is_available() else torch.device('cpu')\n",
        "model.to(device)"
      ],
      "execution_count": 197,
      "outputs": [
        {
          "output_type": "execute_result",
          "data": {
            "text/plain": [
              "NerModel(\n",
              "  (linear_sigmoid_stack): Sequential(\n",
              "    (0): Embedding(3805, 300)\n",
              "    (1): Sigmoid()\n",
              "    (2): Linear(in_features=300, out_features=256, bias=True)\n",
              "    (3): Sigmoid()\n",
              "    (4): Linear(in_features=256, out_features=34, bias=True)\n",
              "  )\n",
              ")"
            ]
          },
          "metadata": {},
          "execution_count": 197
        }
      ]
    },
    {
      "cell_type": "code",
      "metadata": {
        "id": "WXa9nIHGi5uV",
        "outputId": "71ff8e29-5da2-49ab-e1c4-92ac968ef0f1",
        "colab": {
          "base_uri": "https://localhost:8080/",
          "height": 1000,
          "referenced_widgets": [
            "c214d3c3ff5d46c4b2def6107f76c7a1",
            "64353f3a123943a4bc49b783ce9dd4bc",
            "9157a65a00e849df87d4b402aa62e094",
            "9cc80192b18c4b4b9c24109f5c4a14bb",
            "9e377ad04c9c4673b57d313fed67b97e",
            "271e9141ea764f97a8bde220d49037b0",
            "446230145fca44198e481ada92dc3ae0",
            "a8b77a7f4bb6426c995970880f22aadf",
            "90b650bde7b54914a248510e2a978f49",
            "23dd199ae3ff4c4c9689b02ec30901f9",
            "4ba5ebd4ec3c45dba3d8a8b38ac53b10"
          ]
        }
      },
      "source": [
        "for e in range(10):\n",
        "    total_loss = 0\n",
        "    model.train()\n",
        "    loss_function = nn.CrossEntropyLoss()\n",
        "    for sent in tqdm(train_dataloader):\n",
        "\n",
        "            # (1) Set gradient to zero for new example: Set gradients to zero before pass\n",
        "            model.zero_grad()\n",
        "            \n",
        "            # (2) Encode sentence and tag sequence as sequences of indices\n",
        "            input_sent, gold_tags = sent\n",
        "\n",
        "            # (3) Predict tags (sentence by sentence)\n",
        "            if len(input_sent) > 0:\n",
        "                pred_scores = model(input_sent.to(device))\n",
        "                mask = gold_tags != 0\n",
        "                # (4) Compute loss and do backward step\n",
        "                loss = loss_function(pred_scores.to(device), gold_tags.view(-1).to(device))\n",
        "                loss.backward()\n",
        "              \n",
        "                # (5) Optimize parameter values\n",
        "                optimizer.step()\n",
        "          \n",
        "                # (6) Accumulate loss\n",
        "                total_loss += loss\n",
        "    print('\\nEpoch: %d, loss: %.4f' % (e, total_loss / len(train_dataloader)))\n",
        "evaluate(valid_dataloader)"
      ],
      "execution_count": 203,
      "outputs": [
        {
          "output_type": "display_data",
          "data": {
            "application/vnd.jupyter.widget-view+json": {
              "model_id": "c214d3c3ff5d46c4b2def6107f76c7a1",
              "version_minor": 0,
              "version_major": 2
            },
            "text/plain": [
              "  0%|          | 0/226 [00:00<?, ?it/s]"
            ]
          },
          "metadata": {}
        },
        {
          "output_type": "stream",
          "name": "stdout",
          "text": [
            "\n",
            "Epoch: 0, loss: 0.2920\n"
          ]
        },
        {
          "output_type": "display_data",
          "data": {
            "application/vnd.jupyter.widget-view+json": {
              "model_id": "ea85251ad2264121af3b9cd154575686",
              "version_minor": 0,
              "version_major": 2
            },
            "text/plain": [
              "  0%|          | 0/226 [00:00<?, ?it/s]"
            ]
          },
          "metadata": {}
        },
        {
          "output_type": "stream",
          "name": "stdout",
          "text": [
            "\n",
            "Epoch: 1, loss: 0.2894\n"
          ]
        },
        {
          "output_type": "display_data",
          "data": {
            "application/vnd.jupyter.widget-view+json": {
              "model_id": "a90e71e5191e487994bcdc0fc7cff4e1",
              "version_minor": 0,
              "version_major": 2
            },
            "text/plain": [
              "  0%|          | 0/226 [00:00<?, ?it/s]"
            ]
          },
          "metadata": {}
        },
        {
          "output_type": "stream",
          "name": "stdout",
          "text": [
            "\n",
            "Epoch: 2, loss: 0.2889\n"
          ]
        },
        {
          "output_type": "display_data",
          "data": {
            "application/vnd.jupyter.widget-view+json": {
              "model_id": "f752d65579104ad8baae66682ce1cca0",
              "version_minor": 0,
              "version_major": 2
            },
            "text/plain": [
              "  0%|          | 0/226 [00:00<?, ?it/s]"
            ]
          },
          "metadata": {}
        },
        {
          "output_type": "stream",
          "name": "stdout",
          "text": [
            "\n",
            "Epoch: 3, loss: 0.2870\n"
          ]
        },
        {
          "output_type": "display_data",
          "data": {
            "application/vnd.jupyter.widget-view+json": {
              "model_id": "d23bf5b71972463d82c521b51471697c",
              "version_minor": 0,
              "version_major": 2
            },
            "text/plain": [
              "  0%|          | 0/226 [00:00<?, ?it/s]"
            ]
          },
          "metadata": {}
        },
        {
          "output_type": "stream",
          "name": "stdout",
          "text": [
            "\n",
            "Epoch: 4, loss: 0.2859\n"
          ]
        },
        {
          "output_type": "display_data",
          "data": {
            "application/vnd.jupyter.widget-view+json": {
              "model_id": "50d7760b7d3e435b906965c5c5fe6071",
              "version_minor": 0,
              "version_major": 2
            },
            "text/plain": [
              "  0%|          | 0/226 [00:00<?, ?it/s]"
            ]
          },
          "metadata": {}
        },
        {
          "output_type": "stream",
          "name": "stdout",
          "text": [
            "\n",
            "Epoch: 5, loss: 0.2847\n"
          ]
        },
        {
          "output_type": "display_data",
          "data": {
            "application/vnd.jupyter.widget-view+json": {
              "model_id": "73e2333bc3bb4a868494d0919bc46677",
              "version_minor": 0,
              "version_major": 2
            },
            "text/plain": [
              "  0%|          | 0/226 [00:00<?, ?it/s]"
            ]
          },
          "metadata": {}
        },
        {
          "output_type": "stream",
          "name": "stdout",
          "text": [
            "\n",
            "Epoch: 6, loss: 0.2840\n"
          ]
        },
        {
          "output_type": "display_data",
          "data": {
            "application/vnd.jupyter.widget-view+json": {
              "model_id": "9c3df00ecbda442e8f90a01285cc5cd8",
              "version_minor": 0,
              "version_major": 2
            },
            "text/plain": [
              "  0%|          | 0/226 [00:00<?, ?it/s]"
            ]
          },
          "metadata": {}
        },
        {
          "output_type": "stream",
          "name": "stdout",
          "text": [
            "\n",
            "Epoch: 7, loss: 0.2830\n"
          ]
        },
        {
          "output_type": "display_data",
          "data": {
            "application/vnd.jupyter.widget-view+json": {
              "model_id": "744f732e337e4ffd84106b3fb57352fa",
              "version_minor": 0,
              "version_major": 2
            },
            "text/plain": [
              "  0%|          | 0/226 [00:00<?, ?it/s]"
            ]
          },
          "metadata": {}
        },
        {
          "output_type": "stream",
          "name": "stdout",
          "text": [
            "\n",
            "Epoch: 8, loss: 0.2823\n"
          ]
        },
        {
          "output_type": "display_data",
          "data": {
            "application/vnd.jupyter.widget-view+json": {
              "model_id": "8d853eeb50804ef69b9dea02169a4f58",
              "version_minor": 0,
              "version_major": 2
            },
            "text/plain": [
              "  0%|          | 0/226 [00:00<?, ?it/s]"
            ]
          },
          "metadata": {}
        },
        {
          "output_type": "stream",
          "name": "stdout",
          "text": [
            "\n",
            "Epoch: 9, loss: 0.2816\n",
            "\n",
            "                    precision    recall  f1-score   support\n",
            "\n",
            "        B-Amenity       0.60      0.45      0.51        92\n",
            "        B-Cuisine       0.79      0.28      0.41        40\n",
            "           B-Dish       0.85      0.52      0.65        21\n",
            "          B-Hours       0.74      0.54      0.62        26\n",
            "       B-Location       0.65      0.65      0.65        93\n",
            "          B-Price       1.00      0.10      0.18        10\n",
            "         B-Rating       0.64      0.35      0.45        20\n",
            "B-Restaurant_Name       0.61      0.60      0.61        50\n",
            "        I-Amenity       0.60      0.06      0.11        50\n",
            "        I-Cuisine       0.00      0.00      0.00         6\n",
            "           I-Dish       0.00      0.00      0.00         7\n",
            "          I-Hours       0.62      0.53      0.57        30\n",
            "       I-Location       0.35      0.39      0.37        57\n",
            "          I-Price       0.00      0.00      0.00         7\n",
            "         I-Rating       1.00      0.40      0.57         5\n",
            "I-Restaurant_Name       0.36      0.14      0.20        29\n",
            "        L-Amenity       0.49      0.54      0.52        89\n",
            "        L-Cuisine       0.45      0.12      0.20        40\n",
            "           L-Dish       0.47      0.38      0.42        21\n",
            "          L-Hours       0.49      0.81      0.61        26\n",
            "       L-Location       0.72      0.85      0.78        92\n",
            "          L-Price       1.00      0.10      0.18        10\n",
            "         L-Rating       0.71      0.50      0.59        20\n",
            "L-Restaurant_Name       0.55      0.36      0.43        50\n",
            "              PAD       1.00      1.00      1.00      2994\n",
            "        U-Amenity       0.36      0.52      0.42        29\n",
            "        U-Cuisine       0.67      0.82      0.74       120\n",
            "           U-Dish       0.41      0.60      0.49        43\n",
            "          U-Hours       0.43      0.67      0.53        15\n",
            "       U-Location       0.91      0.77      0.83        95\n",
            "          U-Price       0.81      0.85      0.83        40\n",
            "         U-Rating       0.64      0.93      0.76        44\n",
            "U-Restaurant_Name       0.91      0.60      0.72        35\n",
            "\n",
            "        micro avg       0.89      0.86      0.88      4306\n",
            "        macro avg       0.60      0.47      0.48      4306\n",
            "     weighted avg       0.89      0.86      0.87      4306\n",
            "\n"
          ]
        },
        {
          "output_type": "stream",
          "name": "stderr",
          "text": [
            "/usr/local/lib/python3.7/dist-packages/sklearn/metrics/_classification.py:1272: UndefinedMetricWarning: Precision and F-score are ill-defined and being set to 0.0 in labels with no predicted samples. Use `zero_division` parameter to control this behavior.\n",
            "  _warn_prf(average, modifier, msg_start, len(result))\n"
          ]
        }
      ]
    },
    {
      "cell_type": "markdown",
      "metadata": {
        "id": "Sshz2tYrjBy9"
      },
      "source": [
        "We did it, but quality of model is rather bad. Now you can try RNNs."
      ]
    },
    {
      "cell_type": "markdown",
      "metadata": {
        "id": "0MxVkYxXjK8c"
      },
      "source": [
        "### RNNs"
      ]
    },
    {
      "cell_type": "markdown",
      "metadata": {
        "id": "b-pn2aRRjS_D"
      },
      "source": [
        "All process from FCNN works fine, but we need to use new architecture. Let's write new model, that process data and uses some kind of Recurrent Neural Network."
      ]
    },
    {
      "cell_type": "markdown",
      "metadata": {
        "id": "lrEZNuAjjniz"
      },
      "source": [
        "#### Task 11"
      ]
    },
    {
      "cell_type": "markdown",
      "metadata": {
        "id": "Nd6h4WsUjpzB"
      },
      "source": [
        "Fill missing layers of model. You can use any RNN."
      ]
    },
    {
      "cell_type": "code",
      "metadata": {
        "id": "dhyuQhs1LIiI"
      },
      "source": [
        "# YOUR CODE HERE\n",
        "\n",
        "class NerRNNModel(nn.Module):\n",
        "    def __init__(\n",
        "        self,\n",
        "        word2idx: Dict,\n",
        "        embedding_dim: int = 100,\n",
        "        mapping: Dict[int, str] = None,\n",
        "        hidden_size: int = 256\n",
        "    ):\n",
        "        super(NerRNNModel, self).__init__()\n",
        "        if not mapping:\n",
        "            raise RuntimeError(f'Empty labels')\n",
        "        self.word2idx = word2idx\n",
        "        self.labels = mapping\n",
        "        self.embedding = nn.Embedding(len(word_to_idx), embedding_dim)\n",
        "        self.encoder = nn.RNN(\n",
        "            embedding_dim,\n",
        "            hidden_size,\n",
        "            batch_first=True\n",
        "        )\n",
        "        self.projection = nn.Linear(hidden_size, len(mapping))\n",
        "\n",
        "    def forward(self, tokens: LongTensor) -> FloatTensor:\n",
        "\n",
        "        emb = self.embedding(tokens)        \n",
        "        h, _ = self.encoder(emb)\n",
        "        pred = self.projection(h)\n",
        "        return pred.view(-1, len(self.labels))"
      ],
      "execution_count": 204,
      "outputs": []
    },
    {
      "cell_type": "markdown",
      "metadata": {
        "id": "HHr5vn8Xj99l"
      },
      "source": [
        "Now we can duplicate all cells from above and simply just start new iteration of training new model."
      ]
    },
    {
      "cell_type": "code",
      "metadata": {
        "id": "imiTzbYgLQEx"
      },
      "source": [
        "model = NerRNNModel(word_to_idx, 100, {idx: str(idx) for idx in range(10)})\n",
        "assert (\n",
        "        len(list(name for name, module in model.named_modules())) > 3\n",
        "    ), \"Not enough layers created\""
      ],
      "execution_count": 205,
      "outputs": []
    },
    {
      "cell_type": "code",
      "metadata": {
        "id": "KM-Ti_5cLP3V"
      },
      "source": [
        "num_classes = len(tag_to_idx)\n",
        "model = NerRNNModel(word_to_idx, 30, {idx: str(idx) for idx in range(num_classes)})\n",
        "seq_len = 32\n",
        "example_input = torch.randint(0, 2, (BATCH_SIZE, seq_len), dtype=torch.int64)\n",
        "logits = model(example_input)\n",
        "assert isinstance(logits, torch.FloatTensor)\n",
        "assert logits.shape == (BATCH_SIZE * seq_len, num_classes), f\"current size of model output {logits.shape}\""
      ],
      "execution_count": 206,
      "outputs": []
    },
    {
      "cell_type": "code",
      "metadata": {
        "id": "-lDFmLHDLPox",
        "outputId": "f28037a4-4a5a-4557-e78a-665484630df5",
        "colab": {
          "base_uri": "https://localhost:8080/"
        }
      },
      "source": [
        "i = iter(train_dataloader)\n",
        "text, label = next(i)\n",
        "logits = model(text)\n",
        "loss_function = nn.CrossEntropyLoss()\n",
        "loss_function(logits, label.view(-1))"
      ],
      "execution_count": 207,
      "outputs": [
        {
          "output_type": "execute_result",
          "data": {
            "text/plain": [
              "tensor(3.5380, grad_fn=<NllLossBackward>)"
            ]
          },
          "metadata": {},
          "execution_count": 207
        }
      ]
    },
    {
      "cell_type": "code",
      "metadata": {
        "id": "wCaivj5uLiHA"
      },
      "source": [
        "from sklearn.metrics import classification_report\n",
        "\n",
        "def evaluate(dataloader):\n",
        "    model.eval()\n",
        "    total_acc, total_count = 0, 0\n",
        "    correct_labels = [value for value in idx_to_tag.values() if value != 'O' and value != 'PAD']\n",
        "    predicted, true_labels = list(), list()\n",
        "\n",
        "    with torch.no_grad():\n",
        "        for idx, batch in enumerate(dataloader):\n",
        "            tokens, label = batch\n",
        "            tokens = tokens.to(device)\n",
        "            \n",
        "            logits = model(tokens)\n",
        "            predictions = F.log_softmax(logits, dim=1).reshape(-1,\n",
        "                                                               int(max_lens.quantile(0.97)),\n",
        "                                                               len(tag_to_idx)).argmax(dim=2).flatten().detach().cpu().numpy()\n",
        "            predicted.extend(predictions)\n",
        "            true_labels.extend(label.flatten().detach().cpu().numpy())\n",
        "    \n",
        "    true_labels = [idx_to_tag[val] for val in true_labels]\n",
        "    \n",
        "    predicted = [idx_to_tag[val] for val in predicted]\n",
        "    print('\\n', classification_report(true_labels,\n",
        "                                      predicted,\n",
        "                                      labels=correct_labels))"
      ],
      "execution_count": 208,
      "outputs": []
    },
    {
      "cell_type": "code",
      "metadata": {
        "id": "kisr0i1hf9fy",
        "outputId": "d19ca616-638c-4adf-da3a-29e7a6b8d42f",
        "colab": {
          "base_uri": "https://localhost:8080/"
        }
      },
      "source": [
        "idx_to_tag"
      ],
      "execution_count": 209,
      "outputs": [
        {
          "output_type": "execute_result",
          "data": {
            "text/plain": [
              "{0: 'B-Amenity',\n",
              " 1: 'B-Cuisine',\n",
              " 2: 'B-Dish',\n",
              " 3: 'B-Hours',\n",
              " 4: 'B-Location',\n",
              " 5: 'B-Price',\n",
              " 6: 'B-Rating',\n",
              " 7: 'B-Restaurant_Name',\n",
              " 8: 'I-Amenity',\n",
              " 9: 'I-Cuisine',\n",
              " 10: 'I-Dish',\n",
              " 11: 'I-Hours',\n",
              " 12: 'I-Location',\n",
              " 13: 'I-Price',\n",
              " 14: 'I-Rating',\n",
              " 15: 'I-Restaurant_Name',\n",
              " 16: 'L-Amenity',\n",
              " 17: 'L-Cuisine',\n",
              " 18: 'L-Dish',\n",
              " 19: 'L-Hours',\n",
              " 20: 'L-Location',\n",
              " 21: 'L-Price',\n",
              " 22: 'L-Rating',\n",
              " 23: 'L-Restaurant_Name',\n",
              " 24: 'O',\n",
              " 25: 'PAD',\n",
              " 26: 'U-Amenity',\n",
              " 27: 'U-Cuisine',\n",
              " 28: 'U-Dish',\n",
              " 29: 'U-Hours',\n",
              " 30: 'U-Location',\n",
              " 31: 'U-Price',\n",
              " 32: 'U-Rating',\n",
              " 33: 'U-Restaurant_Name'}"
            ]
          },
          "metadata": {},
          "execution_count": 209
        }
      ]
    },
    {
      "cell_type": "code",
      "metadata": {
        "id": "5LtiUtB5Lh5R",
        "outputId": "de83eca1-bc8b-4325-f68a-a988061325c8",
        "colab": {
          "base_uri": "https://localhost:8080/"
        }
      },
      "source": [
        "model = NerRNNModel(word_to_idx, 300, tag_to_idx)\n",
        "optimizer = torch.optim.Adam(model.parameters(), lr=0.01)\n",
        "device = torch.device('cuda') if torch.cuda.is_available() else torch.device('cpu')\n",
        "model.to(device)"
      ],
      "execution_count": 210,
      "outputs": [
        {
          "output_type": "execute_result",
          "data": {
            "text/plain": [
              "NerRNNModel(\n",
              "  (embedding): Embedding(3805, 300)\n",
              "  (encoder): RNN(300, 256, batch_first=True)\n",
              "  (projection): Linear(in_features=256, out_features=34, bias=True)\n",
              ")"
            ]
          },
          "metadata": {},
          "execution_count": 210
        }
      ]
    },
    {
      "cell_type": "code",
      "metadata": {
        "id": "spM7aX3ELhsC",
        "outputId": "bcc818d1-0df8-492a-f970-be0d74c68ebb",
        "colab": {
          "base_uri": "https://localhost:8080/"
        }
      },
      "source": [
        "sum([params.numel() for params in model.parameters() if params.requires_grad])"
      ],
      "execution_count": 211,
      "outputs": [
        {
          "output_type": "execute_result",
          "data": {
            "text/plain": [
              "1293086"
            ]
          },
          "metadata": {},
          "execution_count": 211
        }
      ]
    },
    {
      "cell_type": "code",
      "metadata": {
        "id": "nRf8qs1fLIVY",
        "outputId": "34fa508a-db62-42ba-fca7-244946a3320f",
        "colab": {
          "base_uri": "https://localhost:8080/",
          "height": 1000,
          "referenced_widgets": [
            "93aec68734924c18bed54bd7c3cd4c8d",
            "6cded41c944146f1a5a8873c96b265aa",
            "b67c5cdce8994434ab7f720d0cf3937f",
            "ed766423c5fd41f39d0a873402cd7707",
            "3e86aadcddcf4576a44ab39c11fa05b5",
            "bf39ef8148614227a9b624fa054c1fd9",
            "da50cdf6b91e4b4c8393f6a782a99bc2",
            "5100e60706394c168f55f3ba2b562b4d",
            "2d4700c53fc1429a8f54c9c5b8f7913c",
            "f2a4fedb36d74005be0c62b12846c111",
            "6ff0ad8fdbaa4fb59b85b336d72d9917"
          ]
        }
      },
      "source": [
        "for e in range(10):\n",
        "    total_loss = 0\n",
        "    model.train()\n",
        "    loss_function = nn.CrossEntropyLoss()\n",
        "    for sent in tqdm(train_dataloader):\n",
        "\n",
        "            # (1) Set gradient to zero for new example: Set gradients to zero before pass\n",
        "            model.zero_grad()\n",
        "            \n",
        "            # (2) Encode sentence and tag sequence as sequences of indices\n",
        "            input_sent, gold_tags = sent\n",
        "\n",
        "            # (3) Predict tags (sentence by sentence)\n",
        "            if len(input_sent) > 0:\n",
        "                pred_scores = model(input_sent.to(device))\n",
        "                mask = gold_tags != 0\n",
        "                # (4) Compute loss and do backward step\n",
        "                loss = loss_function(pred_scores.to(device), gold_tags.view(-1).to(device))\n",
        "                loss.backward()\n",
        "              \n",
        "                # (5) Optimize parameter values\n",
        "                optimizer.step()\n",
        "          \n",
        "                # (6) Accumulate loss\n",
        "                total_loss += loss\n",
        "    print('\\nEpoch: %d, loss: %.4f' % (e, total_loss / len(train_dataloader)))\n",
        "    evaluate(valid_dataloader)"
      ],
      "execution_count": 213,
      "outputs": [
        {
          "output_type": "display_data",
          "data": {
            "application/vnd.jupyter.widget-view+json": {
              "model_id": "93aec68734924c18bed54bd7c3cd4c8d",
              "version_minor": 0,
              "version_major": 2
            },
            "text/plain": [
              "  0%|          | 0/226 [00:00<?, ?it/s]"
            ]
          },
          "metadata": {}
        },
        {
          "output_type": "stream",
          "name": "stdout",
          "text": [
            "\n",
            "Epoch: 0, loss: 0.2197\n",
            "\n",
            "                    precision    recall  f1-score   support\n",
            "\n",
            "        B-Amenity       0.70      0.48      0.57        92\n",
            "        B-Cuisine       0.54      0.47      0.51        40\n",
            "           B-Dish       0.50      0.43      0.46        21\n",
            "          B-Hours       0.58      0.73      0.64        26\n",
            "       B-Location       0.65      0.74      0.69        93\n",
            "          B-Price       0.17      0.10      0.12        10\n",
            "         B-Rating       0.52      0.65      0.58        20\n",
            "B-Restaurant_Name       0.67      0.60      0.63        50\n",
            "        I-Amenity       0.27      0.20      0.23        50\n",
            "        I-Cuisine       0.22      0.33      0.27         6\n",
            "           I-Dish       0.33      0.57      0.42         7\n",
            "          I-Hours       0.82      0.60      0.69        30\n",
            "       I-Location       0.51      0.68      0.59        57\n",
            "          I-Price       0.00      0.00      0.00         7\n",
            "         I-Rating       0.17      0.20      0.18         5\n",
            "I-Restaurant_Name       0.48      0.38      0.42        29\n",
            "        L-Amenity       0.72      0.56      0.63        89\n",
            "        L-Cuisine       0.69      0.55      0.61        40\n",
            "           L-Dish       0.58      0.67      0.62        21\n",
            "          L-Hours       0.70      0.88      0.78        26\n",
            "       L-Location       0.82      0.79      0.81        92\n",
            "          L-Price       0.50      0.40      0.44        10\n",
            "         L-Rating       0.93      0.65      0.76        20\n",
            "L-Restaurant_Name       0.55      0.58      0.56        50\n",
            "        U-Amenity       0.35      0.62      0.45        29\n",
            "        U-Cuisine       0.73      0.81      0.77       120\n",
            "           U-Dish       0.57      0.53      0.55        43\n",
            "          U-Hours       0.25      0.07      0.11        15\n",
            "       U-Location       0.85      0.78      0.81        95\n",
            "          U-Price       0.82      0.82      0.82        40\n",
            "         U-Rating       0.80      0.75      0.78        44\n",
            "U-Restaurant_Name       0.67      0.57      0.62        35\n",
            "\n",
            "        micro avg       0.64      0.62      0.63      1312\n",
            "        macro avg       0.55      0.54      0.54      1312\n",
            "     weighted avg       0.65      0.62      0.63      1312\n",
            "\n"
          ]
        },
        {
          "output_type": "display_data",
          "data": {
            "application/vnd.jupyter.widget-view+json": {
              "model_id": "642742253b914643bb207c27bf2f0144",
              "version_minor": 0,
              "version_major": 2
            },
            "text/plain": [
              "  0%|          | 0/226 [00:00<?, ?it/s]"
            ]
          },
          "metadata": {}
        },
        {
          "output_type": "stream",
          "name": "stdout",
          "text": [
            "\n",
            "Epoch: 1, loss: 0.2178\n",
            "\n",
            "                    precision    recall  f1-score   support\n",
            "\n",
            "        B-Amenity       0.61      0.73      0.66        92\n",
            "        B-Cuisine       0.67      0.35      0.46        40\n",
            "           B-Dish       0.45      0.48      0.47        21\n",
            "          B-Hours       0.72      0.69      0.71        26\n",
            "       B-Location       0.61      0.76      0.68        93\n",
            "          B-Price       0.50      0.30      0.37        10\n",
            "         B-Rating       0.52      0.55      0.54        20\n",
            "B-Restaurant_Name       0.59      0.66      0.62        50\n",
            "        I-Amenity       0.29      0.22      0.25        50\n",
            "        I-Cuisine       0.00      0.00      0.00         6\n",
            "           I-Dish       0.14      0.14      0.14         7\n",
            "          I-Hours       0.89      0.57      0.69        30\n",
            "       I-Location       0.59      0.77      0.67        57\n",
            "          I-Price       0.40      0.29      0.33         7\n",
            "         I-Rating       0.40      0.40      0.40         5\n",
            "I-Restaurant_Name       0.69      0.31      0.43        29\n",
            "        L-Amenity       0.64      0.70      0.67        89\n",
            "        L-Cuisine       0.74      0.50      0.60        40\n",
            "           L-Dish       0.47      0.81      0.60        21\n",
            "          L-Hours       0.76      0.85      0.80        26\n",
            "       L-Location       0.82      0.82      0.82        92\n",
            "          L-Price       0.43      0.30      0.35        10\n",
            "         L-Rating       0.75      0.75      0.75        20\n",
            "L-Restaurant_Name       0.58      0.52      0.55        50\n",
            "        U-Amenity       0.42      0.17      0.24        29\n",
            "        U-Cuisine       0.67      0.83      0.74       120\n",
            "           U-Dish       0.62      0.56      0.59        43\n",
            "          U-Hours       0.60      0.40      0.48        15\n",
            "       U-Location       0.83      0.79      0.81        95\n",
            "          U-Price       0.82      0.80      0.81        40\n",
            "         U-Rating       0.80      0.82      0.81        44\n",
            "U-Restaurant_Name       0.88      0.66      0.75        35\n",
            "\n",
            "        micro avg       0.65      0.65      0.65      1312\n",
            "        macro avg       0.59      0.55      0.56      1312\n",
            "     weighted avg       0.66      0.65      0.64      1312\n",
            "\n"
          ]
        },
        {
          "output_type": "display_data",
          "data": {
            "application/vnd.jupyter.widget-view+json": {
              "model_id": "6add2acdb545429ebc28af1b791a80bf",
              "version_minor": 0,
              "version_major": 2
            },
            "text/plain": [
              "  0%|          | 0/226 [00:00<?, ?it/s]"
            ]
          },
          "metadata": {}
        },
        {
          "output_type": "stream",
          "name": "stdout",
          "text": [
            "\n",
            "Epoch: 2, loss: 0.2188\n",
            "\n",
            "                    precision    recall  f1-score   support\n",
            "\n",
            "        B-Amenity       0.63      0.61      0.62        92\n",
            "        B-Cuisine       0.40      0.35      0.37        40\n",
            "           B-Dish       0.40      0.38      0.39        21\n",
            "          B-Hours       0.79      0.58      0.67        26\n",
            "       B-Location       0.59      0.74      0.66        93\n",
            "          B-Price       1.00      0.10      0.18        10\n",
            "         B-Rating       0.46      0.55      0.50        20\n",
            "B-Restaurant_Name       0.68      0.46      0.55        50\n",
            "        I-Amenity       0.40      0.08      0.13        50\n",
            "        I-Cuisine       0.25      0.17      0.20         6\n",
            "           I-Dish       0.29      0.29      0.29         7\n",
            "          I-Hours       0.69      0.60      0.64        30\n",
            "       I-Location       0.69      0.63      0.66        57\n",
            "          I-Price       0.00      0.00      0.00         7\n",
            "         I-Rating       0.17      0.20      0.18         5\n",
            "I-Restaurant_Name       0.55      0.38      0.45        29\n",
            "        L-Amenity       0.60      0.62      0.61        89\n",
            "        L-Cuisine       0.55      0.60      0.57        40\n",
            "           L-Dish       0.58      0.71      0.64        21\n",
            "          L-Hours       0.77      0.77      0.77        26\n",
            "       L-Location       0.82      0.87      0.84        92\n",
            "          L-Price       0.50      0.20      0.29        10\n",
            "         L-Rating       0.85      0.55      0.67        20\n",
            "L-Restaurant_Name       0.63      0.62      0.63        50\n",
            "        U-Amenity       0.40      0.34      0.37        29\n",
            "        U-Cuisine       0.69      0.89      0.78       120\n",
            "           U-Dish       0.67      0.56      0.61        43\n",
            "          U-Hours       0.75      0.40      0.52        15\n",
            "       U-Location       0.86      0.77      0.81        95\n",
            "          U-Price       0.75      0.82      0.79        40\n",
            "         U-Rating       0.82      0.70      0.76        44\n",
            "U-Restaurant_Name       0.77      0.69      0.73        35\n",
            "\n",
            "        micro avg       0.66      0.62      0.64      1312\n",
            "        macro avg       0.59      0.51      0.53      1312\n",
            "     weighted avg       0.65      0.62      0.62      1312\n",
            "\n"
          ]
        },
        {
          "output_type": "display_data",
          "data": {
            "application/vnd.jupyter.widget-view+json": {
              "model_id": "5af168a6e5b7482c90a5164266085ac1",
              "version_minor": 0,
              "version_major": 2
            },
            "text/plain": [
              "  0%|          | 0/226 [00:00<?, ?it/s]"
            ]
          },
          "metadata": {}
        },
        {
          "output_type": "stream",
          "name": "stdout",
          "text": [
            "\n",
            "Epoch: 3, loss: 0.2151\n",
            "\n",
            "                    precision    recall  f1-score   support\n",
            "\n",
            "        B-Amenity       0.59      0.60      0.59        92\n",
            "        B-Cuisine       0.53      0.40      0.46        40\n",
            "           B-Dish       0.37      0.62      0.46        21\n",
            "          B-Hours       0.85      0.65      0.74        26\n",
            "       B-Location       0.53      0.82      0.64        93\n",
            "          B-Price       0.43      0.30      0.35        10\n",
            "         B-Rating       0.53      0.45      0.49        20\n",
            "B-Restaurant_Name       0.56      0.62      0.59        50\n",
            "        I-Amenity       0.41      0.14      0.21        50\n",
            "        I-Cuisine       0.14      0.17      0.15         6\n",
            "           I-Dish       0.27      0.57      0.36         7\n",
            "          I-Hours       0.80      0.67      0.73        30\n",
            "       I-Location       0.54      0.67      0.60        57\n",
            "          I-Price       0.40      0.29      0.33         7\n",
            "         I-Rating       0.29      0.40      0.33         5\n",
            "I-Restaurant_Name       0.70      0.24      0.36        29\n",
            "        L-Amenity       0.66      0.67      0.67        89\n",
            "        L-Cuisine       0.60      0.62      0.61        40\n",
            "           L-Dish       0.59      0.62      0.60        21\n",
            "          L-Hours       0.70      0.81      0.75        26\n",
            "       L-Location       0.80      0.91      0.85        92\n",
            "          L-Price       0.60      0.30      0.40        10\n",
            "         L-Rating       0.92      0.60      0.73        20\n",
            "L-Restaurant_Name       0.54      0.62      0.58        50\n",
            "        U-Amenity       0.34      0.41      0.38        29\n",
            "        U-Cuisine       0.76      0.74      0.75       120\n",
            "           U-Dish       0.54      0.58      0.56        43\n",
            "          U-Hours       0.45      0.33      0.38        15\n",
            "       U-Location       0.92      0.71      0.80        95\n",
            "          U-Price       0.87      0.82      0.85        40\n",
            "         U-Rating       0.72      0.82      0.77        44\n",
            "U-Restaurant_Name       0.82      0.51      0.63        35\n",
            "\n",
            "        micro avg       0.63      0.64      0.64      1312\n",
            "        macro avg       0.59      0.55      0.55      1312\n",
            "     weighted avg       0.65      0.64      0.63      1312\n",
            "\n"
          ]
        },
        {
          "output_type": "display_data",
          "data": {
            "application/vnd.jupyter.widget-view+json": {
              "model_id": "0e592566b99540b0bf2b56c01261b00f",
              "version_minor": 0,
              "version_major": 2
            },
            "text/plain": [
              "  0%|          | 0/226 [00:00<?, ?it/s]"
            ]
          },
          "metadata": {}
        },
        {
          "output_type": "stream",
          "name": "stdout",
          "text": [
            "\n",
            "Epoch: 4, loss: 0.2148\n",
            "\n",
            "                    precision    recall  f1-score   support\n",
            "\n",
            "        B-Amenity       0.65      0.64      0.64        92\n",
            "        B-Cuisine       0.49      0.42      0.45        40\n",
            "           B-Dish       0.44      0.38      0.41        21\n",
            "          B-Hours       0.82      0.69      0.75        26\n",
            "       B-Location       0.65      0.76      0.70        93\n",
            "          B-Price       0.22      0.20      0.21        10\n",
            "         B-Rating       0.47      0.45      0.46        20\n",
            "B-Restaurant_Name       0.52      0.66      0.58        50\n",
            "        I-Amenity       0.31      0.20      0.24        50\n",
            "        I-Cuisine       0.00      0.00      0.00         6\n",
            "           I-Dish       0.22      0.29      0.25         7\n",
            "          I-Hours       0.83      0.67      0.74        30\n",
            "       I-Location       0.64      0.61      0.62        57\n",
            "          I-Price       0.33      0.29      0.31         7\n",
            "         I-Rating       0.00      0.00      0.00         5\n",
            "I-Restaurant_Name       0.75      0.31      0.44        29\n",
            "        L-Amenity       0.69      0.66      0.68        89\n",
            "        L-Cuisine       0.67      0.55      0.60        40\n",
            "           L-Dish       0.64      0.67      0.65        21\n",
            "          L-Hours       0.72      0.81      0.76        26\n",
            "       L-Location       0.76      0.91      0.83        92\n",
            "          L-Price       0.50      0.20      0.29        10\n",
            "         L-Rating       0.70      0.70      0.70        20\n",
            "L-Restaurant_Name       0.56      0.60      0.58        50\n",
            "        U-Amenity       0.41      0.24      0.30        29\n",
            "        U-Cuisine       0.78      0.71      0.74       120\n",
            "           U-Dish       0.55      0.65      0.60        43\n",
            "          U-Hours       0.41      0.47      0.44        15\n",
            "       U-Location       0.92      0.74      0.82        95\n",
            "          U-Price       0.84      0.68      0.75        40\n",
            "         U-Rating       0.71      0.77      0.74        44\n",
            "U-Restaurant_Name       0.85      0.63      0.72        35\n",
            "\n",
            "        micro avg       0.66      0.63      0.64      1312\n",
            "        macro avg       0.56      0.52      0.53      1312\n",
            "     weighted avg       0.66      0.63      0.64      1312\n",
            "\n"
          ]
        },
        {
          "output_type": "display_data",
          "data": {
            "application/vnd.jupyter.widget-view+json": {
              "model_id": "c22904eddc564e78bfda085ece763f77",
              "version_minor": 0,
              "version_major": 2
            },
            "text/plain": [
              "  0%|          | 0/226 [00:00<?, ?it/s]"
            ]
          },
          "metadata": {}
        },
        {
          "output_type": "stream",
          "name": "stdout",
          "text": [
            "\n",
            "Epoch: 5, loss: 0.2155\n",
            "\n",
            "                    precision    recall  f1-score   support\n",
            "\n",
            "        B-Amenity       0.68      0.54      0.61        92\n",
            "        B-Cuisine       0.58      0.35      0.44        40\n",
            "           B-Dish       0.48      0.57      0.52        21\n",
            "          B-Hours       0.70      0.73      0.72        26\n",
            "       B-Location       0.71      0.71      0.71        93\n",
            "          B-Price       0.25      0.30      0.27        10\n",
            "         B-Rating       0.41      0.70      0.52        20\n",
            "B-Restaurant_Name       0.48      0.60      0.54        50\n",
            "        I-Amenity       0.24      0.16      0.19        50\n",
            "        I-Cuisine       0.00      0.00      0.00         6\n",
            "           I-Dish       0.22      0.29      0.25         7\n",
            "          I-Hours       0.73      0.63      0.68        30\n",
            "       I-Location       0.76      0.51      0.61        57\n",
            "          I-Price       0.14      0.14      0.14         7\n",
            "         I-Rating       0.12      0.20      0.15         5\n",
            "I-Restaurant_Name       0.43      0.31      0.36        29\n",
            "        L-Amenity       0.60      0.63      0.62        89\n",
            "        L-Cuisine       0.66      0.47      0.55        40\n",
            "           L-Dish       0.55      0.52      0.54        21\n",
            "          L-Hours       0.75      0.69      0.72        26\n",
            "       L-Location       0.79      0.91      0.85        92\n",
            "          L-Price       0.50      0.10      0.17        10\n",
            "         L-Rating       0.80      0.60      0.69        20\n",
            "L-Restaurant_Name       0.60      0.62      0.61        50\n",
            "        U-Amenity       0.38      0.28      0.32        29\n",
            "        U-Cuisine       0.77      0.79      0.78       120\n",
            "           U-Dish       0.53      0.67      0.59        43\n",
            "          U-Hours       0.50      0.53      0.52        15\n",
            "       U-Location       0.89      0.76      0.82        95\n",
            "          U-Price       0.86      0.78      0.82        40\n",
            "         U-Rating       0.71      0.39      0.50        44\n",
            "U-Restaurant_Name       0.77      0.66      0.71        35\n",
            "\n",
            "        micro avg       0.65      0.60      0.62      1312\n",
            "        macro avg       0.55      0.50      0.52      1312\n",
            "     weighted avg       0.65      0.60      0.62      1312\n",
            "\n"
          ]
        },
        {
          "output_type": "display_data",
          "data": {
            "application/vnd.jupyter.widget-view+json": {
              "model_id": "8206878be6d3487dac6422ab04e03b20",
              "version_minor": 0,
              "version_major": 2
            },
            "text/plain": [
              "  0%|          | 0/226 [00:00<?, ?it/s]"
            ]
          },
          "metadata": {}
        },
        {
          "output_type": "stream",
          "name": "stdout",
          "text": [
            "\n",
            "Epoch: 6, loss: 0.2179\n",
            "\n",
            "                    precision    recall  f1-score   support\n",
            "\n",
            "        B-Amenity       0.65      0.48      0.55        92\n",
            "        B-Cuisine       0.57      0.42      0.49        40\n",
            "           B-Dish       0.53      0.43      0.47        21\n",
            "          B-Hours       0.80      0.62      0.70        26\n",
            "       B-Location       0.69      0.66      0.67        93\n",
            "          B-Price       0.22      0.20      0.21        10\n",
            "         B-Rating       0.39      0.60      0.47        20\n",
            "B-Restaurant_Name       0.55      0.60      0.57        50\n",
            "        I-Amenity       0.42      0.22      0.29        50\n",
            "        I-Cuisine       0.40      0.33      0.36         6\n",
            "           I-Dish       0.18      0.29      0.22         7\n",
            "          I-Hours       0.83      0.67      0.74        30\n",
            "       I-Location       0.70      0.53      0.60        57\n",
            "          I-Price       0.50      0.29      0.36         7\n",
            "         I-Rating       0.25      0.20      0.22         5\n",
            "I-Restaurant_Name       0.50      0.34      0.41        29\n",
            "        L-Amenity       0.77      0.56      0.65        89\n",
            "        L-Cuisine       0.63      0.68      0.65        40\n",
            "           L-Dish       0.47      0.76      0.58        21\n",
            "          L-Hours       0.76      0.85      0.80        26\n",
            "       L-Location       0.82      0.88      0.85        92\n",
            "          L-Price       0.60      0.30      0.40        10\n",
            "         L-Rating       0.78      0.90      0.84        20\n",
            "L-Restaurant_Name       0.78      0.56      0.65        50\n",
            "        U-Amenity       0.33      0.52      0.40        29\n",
            "        U-Cuisine       0.77      0.82      0.80       120\n",
            "           U-Dish       0.50      0.49      0.49        43\n",
            "          U-Hours       0.55      0.73      0.63        15\n",
            "       U-Location       0.87      0.78      0.82        95\n",
            "          U-Price       0.83      0.75      0.79        40\n",
            "         U-Rating       0.73      0.80      0.76        44\n",
            "U-Restaurant_Name       0.77      0.66      0.71        35\n",
            "\n",
            "        micro avg       0.67      0.63      0.65      1312\n",
            "        macro avg       0.60      0.56      0.57      1312\n",
            "     weighted avg       0.68      0.63      0.64      1312\n",
            "\n"
          ]
        },
        {
          "output_type": "display_data",
          "data": {
            "application/vnd.jupyter.widget-view+json": {
              "model_id": "17cb1d6f73cf43199c7bebaa13c2e7ff",
              "version_minor": 0,
              "version_major": 2
            },
            "text/plain": [
              "  0%|          | 0/226 [00:00<?, ?it/s]"
            ]
          },
          "metadata": {}
        },
        {
          "output_type": "stream",
          "name": "stdout",
          "text": [
            "\n",
            "Epoch: 7, loss: 0.2213\n",
            "\n",
            "                    precision    recall  f1-score   support\n",
            "\n",
            "        B-Amenity       0.55      0.55      0.55        92\n",
            "        B-Cuisine       0.56      0.38      0.45        40\n",
            "           B-Dish       0.44      0.38      0.41        21\n",
            "          B-Hours       0.63      0.73      0.68        26\n",
            "       B-Location       0.67      0.63      0.65        93\n",
            "          B-Price       0.33      0.40      0.36        10\n",
            "         B-Rating       0.60      0.45      0.51        20\n",
            "B-Restaurant_Name       0.65      0.56      0.60        50\n",
            "        I-Amenity       0.29      0.14      0.19        50\n",
            "        I-Cuisine       0.00      0.00      0.00         6\n",
            "           I-Dish       0.31      0.71      0.43         7\n",
            "          I-Hours       0.83      0.63      0.72        30\n",
            "       I-Location       0.59      0.53      0.56        57\n",
            "          I-Price       0.33      0.14      0.20         7\n",
            "         I-Rating       0.25      0.20      0.22         5\n",
            "I-Restaurant_Name       0.40      0.41      0.41        29\n",
            "        L-Amenity       0.72      0.61      0.66        89\n",
            "        L-Cuisine       0.65      0.65      0.65        40\n",
            "           L-Dish       0.52      0.57      0.55        21\n",
            "          L-Hours       0.81      0.81      0.81        26\n",
            "       L-Location       0.80      0.80      0.80        92\n",
            "          L-Price       1.00      0.30      0.46        10\n",
            "         L-Rating       0.71      0.75      0.73        20\n",
            "L-Restaurant_Name       0.62      0.52      0.57        50\n",
            "        U-Amenity       0.42      0.45      0.43        29\n",
            "        U-Cuisine       0.71      0.83      0.77       120\n",
            "           U-Dish       0.44      0.58      0.50        43\n",
            "          U-Hours       0.58      0.47      0.52        15\n",
            "       U-Location       0.80      0.83      0.81        95\n",
            "          U-Price       0.84      0.78      0.81        40\n",
            "         U-Rating       0.63      0.86      0.73        44\n",
            "U-Restaurant_Name       0.73      0.63      0.68        35\n",
            "\n",
            "        micro avg       0.64      0.62      0.63      1312\n",
            "        macro avg       0.58      0.54      0.54      1312\n",
            "     weighted avg       0.64      0.62      0.62      1312\n",
            "\n"
          ]
        },
        {
          "output_type": "display_data",
          "data": {
            "application/vnd.jupyter.widget-view+json": {
              "model_id": "24065770bcf2469cbd1b4f19e8292c3e",
              "version_minor": 0,
              "version_major": 2
            },
            "text/plain": [
              "  0%|          | 0/226 [00:00<?, ?it/s]"
            ]
          },
          "metadata": {}
        },
        {
          "output_type": "stream",
          "name": "stdout",
          "text": [
            "\n",
            "Epoch: 8, loss: 0.2218\n",
            "\n",
            "                    precision    recall  f1-score   support\n",
            "\n",
            "        B-Amenity       0.71      0.46      0.56        92\n",
            "        B-Cuisine       0.41      0.42      0.42        40\n",
            "           B-Dish       0.63      0.57      0.60        21\n",
            "          B-Hours       0.75      0.69      0.72        26\n",
            "       B-Location       0.56      0.74      0.64        93\n",
            "          B-Price       0.25      0.10      0.14        10\n",
            "         B-Rating       0.47      0.80      0.59        20\n",
            "B-Restaurant_Name       0.52      0.62      0.56        50\n",
            "        I-Amenity       0.24      0.16      0.19        50\n",
            "        I-Cuisine       0.00      0.00      0.00         6\n",
            "           I-Dish       0.25      0.29      0.27         7\n",
            "          I-Hours       0.65      0.73      0.69        30\n",
            "       I-Location       0.48      0.70      0.57        57\n",
            "          I-Price       0.20      0.14      0.17         7\n",
            "         I-Rating       1.00      0.20      0.33         5\n",
            "I-Restaurant_Name       0.64      0.31      0.42        29\n",
            "        L-Amenity       0.77      0.56      0.65        89\n",
            "        L-Cuisine       0.64      0.75      0.69        40\n",
            "           L-Dish       0.50      0.81      0.62        21\n",
            "          L-Hours       0.73      0.85      0.79        26\n",
            "       L-Location       0.83      0.82      0.82        92\n",
            "          L-Price       0.11      0.10      0.11        10\n",
            "         L-Rating       0.74      0.85      0.79        20\n",
            "L-Restaurant_Name       0.62      0.62      0.62        50\n",
            "        U-Amenity       0.34      0.45      0.39        29\n",
            "        U-Cuisine       0.82      0.69      0.75       120\n",
            "           U-Dish       0.47      0.63      0.54        43\n",
            "          U-Hours       0.62      0.33      0.43        15\n",
            "       U-Location       0.87      0.77      0.82        95\n",
            "          U-Price       0.63      0.78      0.70        40\n",
            "         U-Rating       0.89      0.39      0.54        44\n",
            "U-Restaurant_Name       0.79      0.66      0.72        35\n",
            "\n",
            "        micro avg       0.63      0.61      0.62      1312\n",
            "        macro avg       0.57      0.53      0.53      1312\n",
            "     weighted avg       0.65      0.61      0.62      1312\n",
            "\n"
          ]
        },
        {
          "output_type": "display_data",
          "data": {
            "application/vnd.jupyter.widget-view+json": {
              "model_id": "16819f82cf2c45af86980f66b1e187b7",
              "version_minor": 0,
              "version_major": 2
            },
            "text/plain": [
              "  0%|          | 0/226 [00:00<?, ?it/s]"
            ]
          },
          "metadata": {}
        },
        {
          "output_type": "stream",
          "name": "stdout",
          "text": [
            "\n",
            "Epoch: 9, loss: 0.2213\n",
            "\n",
            "                    precision    recall  f1-score   support\n",
            "\n",
            "        B-Amenity       0.71      0.50      0.59        92\n",
            "        B-Cuisine       0.56      0.23      0.32        40\n",
            "           B-Dish       0.30      0.43      0.35        21\n",
            "          B-Hours       0.70      0.73      0.72        26\n",
            "       B-Location       0.64      0.75      0.69        93\n",
            "          B-Price       0.25      0.10      0.14        10\n",
            "         B-Rating       0.52      0.85      0.64        20\n",
            "B-Restaurant_Name       0.51      0.64      0.57        50\n",
            "        I-Amenity       0.29      0.10      0.15        50\n",
            "        I-Cuisine       0.14      0.17      0.15         6\n",
            "           I-Dish       0.18      0.29      0.22         7\n",
            "          I-Hours       0.75      0.70      0.72        30\n",
            "       I-Location       0.58      0.67      0.62        57\n",
            "          I-Price       0.25      0.14      0.18         7\n",
            "         I-Rating       0.50      0.20      0.29         5\n",
            "I-Restaurant_Name       0.53      0.31      0.39        29\n",
            "        L-Amenity       0.73      0.54      0.62        89\n",
            "        L-Cuisine       0.69      0.60      0.64        40\n",
            "           L-Dish       0.57      0.57      0.57        21\n",
            "          L-Hours       0.68      0.81      0.74        26\n",
            "       L-Location       0.80      0.88      0.84        92\n",
            "          L-Price       0.44      0.40      0.42        10\n",
            "         L-Rating       0.75      0.90      0.82        20\n",
            "L-Restaurant_Name       0.53      0.56      0.54        50\n",
            "        U-Amenity       0.30      0.45      0.36        29\n",
            "        U-Cuisine       0.68      0.80      0.73       120\n",
            "           U-Dish       0.45      0.49      0.47        43\n",
            "          U-Hours       0.44      0.53      0.48        15\n",
            "       U-Location       0.90      0.78      0.84        95\n",
            "          U-Price       0.77      0.75      0.76        40\n",
            "         U-Rating       0.85      0.66      0.74        44\n",
            "U-Restaurant_Name       0.82      0.66      0.73        35\n",
            "\n",
            "        micro avg       0.64      0.62      0.63      1312\n",
            "        macro avg       0.56      0.54      0.53      1312\n",
            "     weighted avg       0.64      0.62      0.62      1312\n",
            "\n"
          ]
        }
      ]
    },
    {
      "cell_type": "markdown",
      "metadata": {
        "id": "zkBKi5YtlpsT"
      },
      "source": [
        "Futher working:\n",
        "- Try more complex architecture\n",
        "- try bidirectional rnns\n",
        "- try other hyperparameters\n",
        "- try pretrained embeddings"
      ]
    },
    {
      "cell_type": "code",
      "metadata": {
        "id": "02pZb8CdmXNB"
      },
      "source": [
        ""
      ],
      "execution_count": null,
      "outputs": []
    }
  ]
}