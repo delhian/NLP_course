{
  "nbformat": 4,
  "nbformat_minor": 0,
  "metadata": {
    "colab": {
      "name": "seminar_4.ipynb",
      "provenance": [],
      "collapsed_sections": [
        "h7U9clO3WWtQ",
        "kB842_L2oRMh"
      ],
      "include_colab_link": true
    },
    "kernelspec": {
      "display_name": "Python 3",
      "name": "python3"
    },
    "language_info": {
      "name": "python"
    }
  },
  "cells": [
    {
      "cell_type": "markdown",
      "metadata": {
        "id": "view-in-github",
        "colab_type": "text"
      },
      "source": [
        "<a href=\"https://colab.research.google.com/github/snv-ds/NLP_course/blob/master/week4/seminar_4.ipynb\" target=\"_parent\"><img src=\"https://colab.research.google.com/assets/colab-badge.svg\" alt=\"Open In Colab\"/></a>"
      ]
    },
    {
      "cell_type": "markdown",
      "metadata": {
        "id": "S9VU8zP0CXQx"
      },
      "source": [
        "In this lesson we will explore how to solve text generation task, explore new but practically old theme of tokenization and look and sampling techniques more thorougly"
      ]
    },
    {
      "cell_type": "markdown",
      "metadata": {
        "id": "PNRK4uj5EFY6"
      },
      "source": [
        "Our goals is to:\n",
        "\n",
        "\n",
        "*   explore tokenization and modern libraries for it\n",
        "*   train statistical language model\n",
        "*   learn how to train text generation model\n",
        "*   look how we can affect on text generation\n",
        "\n"
      ]
    },
    {
      "cell_type": "markdown",
      "metadata": {
        "id": "UHLwwlL1Et3p"
      },
      "source": [
        "# PART 1"
      ]
    },
    {
      "cell_type": "markdown",
      "metadata": {
        "id": "KapGWgXNEy5h"
      },
      "source": [
        "You know that tokenization is a simple operation to split text into the simplest components. They can be either separate words, symbols or something more.<br>\n",
        "There is a specially designed library for tokenization - `tokenizers`. It aggregates many realizations of different tokenization approaches. Futher we will explore some of them."
      ]
    },
    {
      "cell_type": "code",
      "metadata": {
        "id": "WgUs2LHHfqkr"
      },
      "source": [
        "!pip install tokenizers > /dev/null\n",
        "!pip install datasets > /dev/null"
      ],
      "execution_count": null,
      "outputs": []
    },
    {
      "cell_type": "markdown",
      "metadata": {
        "id": "IdeXslh4iF0O"
      },
      "source": [
        "Let's load some data for train"
      ]
    },
    {
      "cell_type": "code",
      "metadata": {
        "id": "KCTC-O4vhieZ"
      },
      "source": [
        "import datasets\n",
        "\n",
        "dataset = datasets.load_dataset('imdb')"
      ],
      "execution_count": null,
      "outputs": []
    },
    {
      "cell_type": "markdown",
      "metadata": {
        "id": "y1rXvuU_dVc9"
      },
      "source": [
        "### Byte Pair Encoding\n",
        "\n"
      ]
    },
    {
      "cell_type": "markdown",
      "metadata": {
        "id": "6XM33AmtfJF8"
      },
      "source": [
        "BPE relies on a pre-tokenizer that splits the training data into words.<br>\n",
        "After pre-tokenization, a set of unique words has been created and the frequency of each word it occurred in the training data has been determined. Next, BPE creates a base vocabulary consisting of all symbols that occur in the set of unique words and learns merge rules to form a new symbol from two symbols of the base vocabulary. It does so until the vocabulary has attained the desired vocabulary size. Note that the desired vocabulary size is a hyperparameter to define before training the tokenizer.\n"
      ]
    },
    {
      "cell_type": "markdown",
      "metadata": {
        "id": "ls_2R5fJfvvz"
      },
      "source": [
        "Usage of this metod looks like this"
      ]
    },
    {
      "cell_type": "code",
      "metadata": {
        "id": "c4Za-yOJdMpG"
      },
      "source": [
        "from tokenizers import Tokenizer, trainers\n",
        "from tokenizers.models import BPE\n",
        "\n",
        "tokenizer = Tokenizer(BPE())\n",
        "trainer = trainers.BpeTrainer(\n",
        "    vocab_size=30000,\n",
        "    special_tokens=[\"<PAD>\", \"<BOS>\", \"<EOS>\"],\n",
        ")"
      ],
      "execution_count": null,
      "outputs": []
    },
    {
      "cell_type": "markdown",
      "metadata": {
        "id": "z9rSCbtBiPzo"
      },
      "source": [
        "You can train tokenizer from any iterable objects, file or even gzip files."
      ]
    },
    {
      "cell_type": "markdown",
      "metadata": {
        "id": "oT_rB77kizCR"
      },
      "source": [
        "Look at the data"
      ]
    },
    {
      "cell_type": "code",
      "metadata": {
        "id": "oMHR5IeMiPbp"
      },
      "source": [
        "dataset['train']['text']"
      ],
      "execution_count": null,
      "outputs": []
    },
    {
      "cell_type": "code",
      "metadata": {
        "id": "AJa5dof-i4CA"
      },
      "source": [
        "tokenizer.train_from_iterator(dataset['train']['text'], trainer=trainer)"
      ],
      "execution_count": null,
      "outputs": []
    },
    {
      "cell_type": "code",
      "metadata": {
        "id": "FAfxo7gJlLbK"
      },
      "source": [
        "tokenizer.get_vocab()"
      ],
      "execution_count": null,
      "outputs": []
    },
    {
      "cell_type": "code",
      "metadata": {
        "id": "gFUT7gohmq6P"
      },
      "source": [
        "tokenizer.encode(\"A sequence to tokenize\").tokens"
      ],
      "execution_count": null,
      "outputs": []
    },
    {
      "cell_type": "markdown",
      "metadata": {
        "id": "E-jPKfmqje6X"
      },
      "source": [
        "## Unigram"
      ]
    },
    {
      "cell_type": "markdown",
      "metadata": {
        "id": "ORMcz9F4jqiy"
      },
      "source": [
        "Unigram is a subword tokenization algorithm introduced in  [Subword Regularization: Improving Neural Network Translation Models with Multiple Subword Candidates (Kudo, 2018)](https://arxiv.org/pdf/1804.10959.pdf). In contrast to BPE or WordPiece, Unigram initializes its base vocabulary to a large number of symbols and progressively trims down each symbol to obtain a smaller vocabulary. The base vocabulary could for instance correspond to all pre-tokenized words and the most common substrings. Unigram is not used directly for any of the models in the transformers, but it’s used in conjunction with [SentencePiece](https://huggingface.co/transformers/tokenizer_summary.html#sentencepiece)."
      ]
    },
    {
      "cell_type": "markdown",
      "metadata": {
        "id": "NA2GZniMj4Az"
      },
      "source": [
        "At each training step, the Unigram algorithm defines a loss (often defined as the log-likelihood) over the training data given the current vocabulary and a unigram language model. Then, for each symbol in the vocabulary, the algorithm computes how much the overall loss would increase if the symbol was to be removed from the vocabulary. Unigram then removes p (with p usually being 10% or 20%) percent of the symbols whose loss increase is the lowest, i.e. those symbols that least affect the overall loss over the training data. This process is repeated until the vocabulary has reached the desired size. The Unigram algorithm always keeps the base characters so that any word can be tokenized."
      ]
    },
    {
      "cell_type": "markdown",
      "metadata": {
        "id": "pHBydHYZj6jg"
      },
      "source": [
        "Because Unigram is not based on merge rules (in contrast to BPE and WordPiece), the algorithm has several ways of tokenizing new text after training. "
      ]
    },
    {
      "cell_type": "markdown",
      "metadata": {
        "id": "Ou3WwuiNj_rf"
      },
      "source": [
        "Simple usage"
      ]
    },
    {
      "cell_type": "code",
      "metadata": {
        "id": "12aKVEZzkBhH"
      },
      "source": [
        "from tokenizers import models, normalizers, pre_tokenizers, decoders\n",
        "\n",
        "tokenizer = Tokenizer(models.Unigram())\n",
        "tokenizer.normalizer = normalizers.NFKC()\n",
        "tokenizer.pre_tokenizer = pre_tokenizers.ByteLevel()\n",
        "tokenizer.decoders = decoders.ByteLevel()\n",
        "\n",
        "trainer = trainers.UnigramTrainer(\n",
        "    vocab_size=20000,\n",
        "    initial_alphabet=pre_tokenizers.ByteLevel.alphabet(),\n",
        "    special_tokens=[\"<PAD>\", \"<BOS>\", \"<EOS>\"],\n",
        ")\n",
        "\n",
        "tokenizer.train_from_iterator(dataset['train']['text'], trainer=trainer)"
      ],
      "execution_count": null,
      "outputs": []
    },
    {
      "cell_type": "code",
      "metadata": {
        "id": "_3I9iOMAly3m"
      },
      "source": [
        "tokenizer.encode(\"A sequence to tokenize\").tokens"
      ],
      "execution_count": null,
      "outputs": []
    },
    {
      "cell_type": "markdown",
      "metadata": {
        "id": "yriHcVvpnfGs"
      },
      "source": [
        "### Task 1 "
      ]
    },
    {
      "cell_type": "markdown",
      "metadata": {
        "id": "MLQHNWVWnhLm"
      },
      "source": [
        "You can train tokenizer yeilding batches to trainer. Write function that take text data from dataset variable as input and yeilds some portion of data. Each batch must be the same size and takes samples from dataset. Go trough all samples of dataset."
      ]
    },
    {
      "cell_type": "code",
      "metadata": {
        "id": "oQX8c2jcqD_c"
      },
      "source": [
        "# YOUR CODE HERE\n",
        "def batch_iterator(batch_size=1000):\n",
        "  pass"
      ],
      "execution_count": null,
      "outputs": []
    },
    {
      "cell_type": "markdown",
      "metadata": {
        "id": "OoK47o57qTRO"
      },
      "source": [
        "train your tokenizer using function above"
      ]
    },
    {
      "cell_type": "code",
      "metadata": {
        "id": "ECYrqBhjqtUF"
      },
      "source": [
        "len(dataset['train'])"
      ],
      "execution_count": null,
      "outputs": []
    },
    {
      "cell_type": "code",
      "metadata": {
        "id": "s1U_RnFvqP3_"
      },
      "source": [
        "tokenizer.train_from_iterator(batch_iterator(), trainer=trainer, length=len(dataset))"
      ],
      "execution_count": null,
      "outputs": []
    },
    {
      "cell_type": "code",
      "metadata": {
        "id": "TZoXzKCerqnW"
      },
      "source": [
        "assert len(tokenizer.encode(\"A sequence to tokenize\").tokens) == 6\n",
        "assert len(tokenizer.encode(\"A yet anoter sequence to tokenize\").tokens) == 10"
      ],
      "execution_count": null,
      "outputs": []
    },
    {
      "cell_type": "markdown",
      "metadata": {
        "id": "uFCrQh3zsIqI"
      },
      "source": [
        "# PART 2"
      ]
    },
    {
      "cell_type": "code",
      "metadata": {
        "id": "NVYnNhOqSykR"
      },
      "source": [
        "import tqdm"
      ],
      "execution_count": null,
      "outputs": []
    },
    {
      "cell_type": "markdown",
      "metadata": {
        "id": "GkVebkapSJjJ"
      },
      "source": [
        "Here we will make simple statistical language model based on our little corpora."
      ]
    },
    {
      "cell_type": "markdown",
      "metadata": {
        "id": "JZigS3KFShec"
      },
      "source": [
        "### Task 2"
      ]
    },
    {
      "cell_type": "markdown",
      "metadata": {
        "id": "fYurK-mtSYJN"
      },
      "source": [
        "Let's combine together all samples from train dataset in a single list"
      ]
    },
    {
      "cell_type": "code",
      "metadata": {
        "id": "db46FmTrSjFH"
      },
      "source": [
        "# YOUR CODE HERE\n",
        "all_texts = list()"
      ],
      "execution_count": null,
      "outputs": []
    },
    {
      "cell_type": "code",
      "metadata": {
        "id": "lKBMQ29KTykz"
      },
      "source": [
        "assert len(all_texts) == 25000\n",
        "assert len(all_texts[5]) == 1017\n",
        "assert all_texts[23].split()[7] == 'career'"
      ],
      "execution_count": null,
      "outputs": []
    },
    {
      "cell_type": "markdown",
      "metadata": {
        "id": "5TcJWFuVUsln"
      },
      "source": [
        "To build statistical model we will use simple python dictionaries. "
      ]
    },
    {
      "cell_type": "code",
      "metadata": {
        "id": "WeUVOiBTU14y"
      },
      "source": [
        "import sys\n",
        "from nltk import bigrams, trigrams\n",
        "from collections import Counter, defaultdict\n",
        "\n",
        "\n",
        "model = defaultdict(lambda: defaultdict(lambda: 0))"
      ],
      "execution_count": null,
      "outputs": []
    },
    {
      "cell_type": "code",
      "metadata": {
        "id": "TvghX5Y4VS2k"
      },
      "source": [
        "# counting  \n",
        "for sentence in tqdm.notebook.tqdm(all_texts):\n",
        "    for w1, w2 in bigrams(sentence.split(), pad_right=True, pad_left=True):\n",
        "        model[(w1)][w2] += 1\n",
        " \n",
        "# Convert quantities to probabilities\n",
        "for w1 in model:\n",
        "    total_count = float(sum(model[w1].values()))\n",
        "    for w2 in model[w1]:\n",
        "        model[w1][w2] /= total_count"
      ],
      "execution_count": null,
      "outputs": []
    },
    {
      "cell_type": "markdown",
      "metadata": {
        "id": "alTXdFAYWT39"
      },
      "source": [
        "### Task 3"
      ]
    },
    {
      "cell_type": "markdown",
      "metadata": {
        "id": "r5lj2tuzV58C"
      },
      "source": [
        "Make model based on trigrams. As key of dictinary we get context and as value we get another dictionary. Then for each word for given context we need to count probability."
      ]
    },
    {
      "cell_type": "markdown",
      "metadata": {
        "id": "h7U9clO3WWtQ"
      },
      "source": [
        "##### help"
      ]
    },
    {
      "cell_type": "code",
      "metadata": {
        "id": "tFuwofy4WbJL"
      },
      "source": [
        "# 1. create dictionary\n",
        "# 2. iterate through all trigrams in all_texts and count occurence of each last word with first 2 word as context\n",
        "# 3. sum all possible words for given context and get probabilities for occurence of each word with corresponding context"
      ],
      "execution_count": null,
      "outputs": []
    },
    {
      "cell_type": "markdown",
      "metadata": {
        "id": "s3yNCcF2WYXK"
      },
      "source": [
        "##### Continue work\n"
      ]
    },
    {
      "cell_type": "code",
      "metadata": {
        "id": "uEmg1i9f36qB"
      },
      "source": [
        "# YOUR CODE HERE\n",
        "\n",
        "model = defaultdict(lambda: defaultdict(lambda: 0))"
      ],
      "execution_count": null,
      "outputs": []
    },
    {
      "cell_type": "code",
      "metadata": {
        "id": "-Y6NMEINZzHM"
      },
      "source": [
        "assert max(model[('one', 'of')], key=lambda x: model[('one', 'of')][x])\n",
        "assert sum(sorted(model[('A', 'classic')].values())[:-2]) < 0.87"
      ],
      "execution_count": null,
      "outputs": []
    },
    {
      "cell_type": "markdown",
      "metadata": {
        "id": "aGhxLHXwaiWV"
      },
      "source": [
        "Let's generate some text. You can set your own beginning words. Be accurate, your model can hung up in infinite loop if you set words, that don't exsist in your model"
      ]
    },
    {
      "cell_type": "code",
      "metadata": {
        "id": "y4LOh1kpa3DX"
      },
      "source": [
        "import random\n",
        "\n",
        "# Beginning words for generation\n",
        "text = ['This', 'film']\n",
        "sentence_finished = False\n",
        " \n",
        "while not sentence_finished:\n",
        "  # chose random float number for boarder\n",
        "  r = random.random()\n",
        "  accumulator = .0\n",
        "\n",
        "  for word in model[tuple(text[-2:])].keys():\n",
        "      accumulator += model[tuple(text[-2:])][word]\n",
        "      # we select only words that have a probability higher than the previously set boarder\n",
        "      if accumulator >= r:\n",
        "          text.append(word)\n",
        "          break\n",
        "\n",
        "  if text[-2:] == [None, None]:\n",
        "      sentence_finished = True\n",
        " \n",
        "print (' '.join([t for t in text if t]))"
      ],
      "execution_count": null,
      "outputs": []
    },
    {
      "cell_type": "markdown",
      "metadata": {
        "id": "2Ny290sEbuQg"
      },
      "source": [
        "If you want, you can make your model more applicapable by setting another values for unigram. You will use them to prevent infinite loop at the start of generation."
      ]
    },
    {
      "cell_type": "markdown",
      "metadata": {
        "id": "dLN3Kg2SbOg-"
      },
      "source": [
        "# Part 3"
      ]
    },
    {
      "cell_type": "markdown",
      "metadata": {
        "id": "4x6NdRqGcDcV"
      },
      "source": [
        "In this part we will train char level neural language model to generate Shakespeare-like sonnets. It is rather common task, but you can apply this model for any dataset."
      ]
    },
    {
      "cell_type": "code",
      "metadata": {
        "id": "3jDntK8YdgMS"
      },
      "source": [
        "!wget https://raw.githubusercontent.com/neychev/made_nlp_course/master/datasets/Shakespeare_sonnets/sonnets.txt"
      ],
      "execution_count": null,
      "outputs": []
    },
    {
      "cell_type": "code",
      "metadata": {
        "id": "2Lc4lZ47cq9v"
      },
      "source": [
        "import time\n",
        "import random\n",
        "import string\n",
        "import re\n",
        "\n",
        "import matplotlib.pyplot as plt\n",
        "import torch\n",
        "import torch.nn.functional as F\n",
        "\n",
        "torch.backends.cudnn.deterministic = True"
      ],
      "execution_count": null,
      "outputs": []
    },
    {
      "cell_type": "code",
      "metadata": {
        "id": "yjcpuf76di7g"
      },
      "source": [
        "with open('sonnets.txt', 'r') as iofile:\n",
        "  text = iofile.readlines()"
      ],
      "execution_count": null,
      "outputs": []
    },
    {
      "cell_type": "markdown",
      "metadata": {
        "id": "Pc7CT7SYmx7Q"
      },
      "source": [
        "trim some text that have unuseful information"
      ]
    },
    {
      "cell_type": "code",
      "metadata": {
        "id": "oFOkWJ-gmxOq"
      },
      "source": [
        "TEXT_START = 45\n",
        "TEXT_END = -368\n",
        "text = text[TEXT_START : TEXT_END]"
      ],
      "execution_count": null,
      "outputs": []
    },
    {
      "cell_type": "markdown",
      "metadata": {
        "id": "ZmrVdlmpmVOx"
      },
      "source": [
        "### Task 4"
      ]
    },
    {
      "cell_type": "markdown",
      "metadata": {
        "id": "l6fxEM4ymYsj"
      },
      "source": [
        "Join all the strings into one. Put result into variable `text`."
      ]
    },
    {
      "cell_type": "code",
      "metadata": {
        "id": "fdr4u-mKnAFX"
      },
      "source": [
        "# YOUR CODE HERE\n",
        "\n",
        "# text = "
      ],
      "execution_count": null,
      "outputs": []
    },
    {
      "cell_type": "markdown",
      "metadata": {
        "id": "GGtK5UrAnZ8j"
      },
      "source": [
        "For this task we don't have to use GPU because out training will not take so much time"
      ]
    },
    {
      "cell_type": "code",
      "metadata": {
        "id": "W8g3CmPsdXbW"
      },
      "source": [
        "RANDOM_SEED = 123\n",
        "torch.manual_seed(RANDOM_SEED)\n",
        "\n",
        "DEVICE = torch.device('cpu')\n",
        "\n",
        "TEXT_LENGTH = len(text)\n",
        "TEXT_PORTION_SIZE = 200\n",
        "\n",
        "NUM_ITER = 5000\n",
        "LEARNING_RATE = 0.005\n",
        "EMBEDDING_DIM = 100\n",
        "HIDDEN_DIM = 100\n",
        "NUM_HIDDEN_LAYERS = 1\n",
        "\n",
        "print('Device:', DEVICE)"
      ],
      "execution_count": null,
      "outputs": []
    },
    {
      "cell_type": "markdown",
      "metadata": {
        "id": "tER3l0yKbP-p"
      },
      "source": [
        "### Task 5"
      ]
    },
    {
      "cell_type": "markdown",
      "metadata": {
        "id": "uETZoOkKoD5R"
      },
      "source": [
        "Divide the text into smaller portions. Write function that return random chunk of our text. Chunk size must be `TEXT_PORTION_SIZE`"
      ]
    },
    {
      "cell_type": "markdown",
      "metadata": {
        "id": "kB842_L2oRMh"
      },
      "source": [
        "##### help"
      ]
    },
    {
      "cell_type": "code",
      "metadata": {
        "id": "BbLhBDWYoRr7"
      },
      "source": [
        "# 1. Init start index for portion of text. You can randomly choose index between 0 and TEXT_LENGTH - TEXT_PORTION_SIZE\n",
        "# 2. define end index\n",
        "# 3. return chunk with corresponding slice"
      ],
      "execution_count": null,
      "outputs": []
    },
    {
      "cell_type": "markdown",
      "metadata": {
        "id": "wJjuV6HzoQ_w"
      },
      "source": [
        "##### Continue work\n"
      ]
    },
    {
      "cell_type": "code",
      "metadata": {
        "id": "etzzO8i8pKr_"
      },
      "source": [
        "# YOUR CODE HERE\n",
        "random.seed(RANDOM_SEED)\n",
        "\n",
        "def random_portion(textfile):\n",
        "    start_index = None\n",
        "    end_index = None\n",
        "    return textfile[start_index:end_index]"
      ],
      "execution_count": null,
      "outputs": []
    },
    {
      "cell_type": "markdown",
      "metadata": {
        "id": "x-anSC1CpxI2"
      },
      "source": [
        "Define function to translate some text into tensor with integers, that correspond to index of symbols"
      ]
    },
    {
      "cell_type": "code",
      "metadata": {
        "id": "1BQna2lpNyAl"
      },
      "source": [
        "def char_to_tensor(text):\n",
        "    lst = [string.printable.index(c) for c in text]\n",
        "    tensor = torch.tensor(lst).long()\n",
        "    return tensor\n",
        "\n",
        "print(char_to_tensor('abcDEF'))"
      ],
      "execution_count": null,
      "outputs": []
    },
    {
      "cell_type": "markdown",
      "metadata": {
        "id": "7pwqDxa9qDb4"
      },
      "source": [
        "### Task 6"
      ]
    },
    {
      "cell_type": "markdown",
      "metadata": {
        "id": "NHpPqXrIqQQl"
      },
      "source": [
        "Put it together to make a function that draws random batches for training. You need to return two batches. First - random chunk of data. Second - chunk from previous step with offset by one character futher. (We need to predict next character).<br>\n",
        " Do not forget to receive tensors with integers!"
      ]
    },
    {
      "cell_type": "code",
      "metadata": {
        "id": "nV3mnnscqIIW"
      },
      "source": [
        "# YOUR CODE HERE\n",
        "\n",
        "def draw_random_sample(textfile):    \n",
        "    pass"
      ],
      "execution_count": null,
      "outputs": []
    },
    {
      "cell_type": "code",
      "metadata": {
        "id": "NwCaC8ocquYG"
      },
      "source": [
        "inp_1, out_1 = draw_random_sample(text)\n",
        "\n",
        "assert inp_1[5] == out_1[4]\n",
        "assert len(inp_1) == TEXT_PORTION_SIZE\n",
        "assert len(out_1) == TEXT_PORTION_SIZE"
      ],
      "execution_count": null,
      "outputs": []
    },
    {
      "cell_type": "markdown",
      "metadata": {
        "id": "COa1GLtNrVtW"
      },
      "source": [
        "Now we can define our char RNN model"
      ]
    },
    {
      "cell_type": "markdown",
      "metadata": {
        "id": "2tvuUS7zsjnh"
      },
      "source": [
        "### Task 7"
      ]
    },
    {
      "cell_type": "markdown",
      "metadata": {
        "id": "ll6Ae_8gslvV"
      },
      "source": [
        "Init appropriate layers in our char rnn model. We will use LSTM as rnn block."
      ]
    },
    {
      "cell_type": "code",
      "metadata": {
        "id": "UpPmCzQCsw3o"
      },
      "source": [
        "# YOUR CODE HERE\n",
        "class RNN(torch.nn.Module):\n",
        "    def __init__(self, input_size, embed_size,\n",
        "                 hidden_size, output_size, num_layers):\n",
        "        super().__init__()\n",
        "\n",
        "        self.hidden_size = hidden_size\n",
        "        self.num_layers = num_layers\n",
        "        \n",
        "        self.embed = # FILL YOUR CODE\n",
        "        self.rnn = # FILL YOUR CODE\n",
        "        self.fc = # FILL YOUR CODE\n",
        "    \n",
        "    def forward(self, features, hidden_and_cell_state):\n",
        "        features = features.view(1, -1)\n",
        "        embedded = self.embed(features)\n",
        "        \n",
        "        output, hidden_and_cell_state = self.rnn(embedded, hidden_and_cell_state)\n",
        "        \n",
        "        output.squeeze_(0)\n",
        "        output = self.fc(output)\n",
        "        return output, hidden_and_cell_state\n",
        "      \n",
        "    def init_zero_state(self):\n",
        "        init_hidden = torch.zeros(self.num_layers, 1, self.hidden_size).to(DEVICE)\n",
        "        init_cell = torch.zeros(self.num_layers, 1, self.hidden_size).to(DEVICE)\n",
        "        return (init_hidden, init_cell)"
      ],
      "execution_count": null,
      "outputs": []
    },
    {
      "cell_type": "code",
      "metadata": {
        "id": "YRkVDKnPrZCA"
      },
      "source": [
        "torch.manual_seed(RANDOM_SEED) # we use this for reproducibility\n",
        "\n",
        "model = RNN(len(string.printable), EMBEDDING_DIM, HIDDEN_DIM,\n",
        "            len(string.printable), NUM_HIDDEN_LAYERS)\n",
        "\n",
        "model = model.to(DEVICE)\n",
        "optimizer = torch.optim.Adam(model.parameters(), lr=LEARNING_RATE)\n",
        "criterion = F.cross_entropy"
      ],
      "execution_count": null,
      "outputs": []
    },
    {
      "cell_type": "markdown",
      "metadata": {
        "id": "ebPyD1bzucH_"
      },
      "source": [
        "Check that loss calculate correctly"
      ]
    },
    {
      "cell_type": "code",
      "metadata": {
        "id": "ob4KrLPPs8-s"
      },
      "source": [
        "inputs, targets = draw_random_sample(text)\n",
        "outputs, _ = model(inputs[0], model.init_zero_state()) # we pass it to the model input sequence and some hidden state\n",
        "criterion(outputs, targets[0].view(1)) # measure quality only on first predictable symbol"
      ],
      "execution_count": null,
      "outputs": []
    },
    {
      "cell_type": "code",
      "metadata": {
        "id": "_nxfcUEFrobA"
      },
      "source": [
        "def evaluate(model, prime_str='A', predict_len=100, temperature=0.8):\n",
        "\n",
        "  hidden_and_cell_state = model.init_zero_state()\n",
        "  prime_input = char_to_tensor(prime_str)\n",
        "  predicted = prime_str\n",
        "\n",
        "  # Use priming string to \"build up\" hidden state\n",
        "  for p in range(len(prime_str) - 1):\n",
        "    _, hidden_and_cell_state = model(prime_input[p].to(DEVICE), hidden_and_cell_state)\n",
        "    inp = prime_input[-1]\n",
        "    \n",
        "    for p in range(predict_len):\n",
        "      output, hidden_and_cell_state = model(inp.to(DEVICE), hidden_and_cell_state)\n",
        "        \n",
        "      # Sample from the network as a multinomial distribution\n",
        "      output_dist = output.data.view(-1).div(temperature).exp()\n",
        "      top_i = torch.multinomial(output_dist, 1)[0]\n",
        "        \n",
        "      # Add predicted character to string and use as next input\n",
        "      predicted_char = string.printable[top_i]\n",
        "      predicted += predicted_char\n",
        "      inp = char_to_tensor(predicted_char)\n",
        "\n",
        "  return predicted"
      ],
      "execution_count": null,
      "outputs": []
    },
    {
      "cell_type": "markdown",
      "metadata": {
        "id": "WQcTxKYasetK"
      },
      "source": [
        "### Task 8"
      ]
    },
    {
      "cell_type": "markdown",
      "metadata": {
        "id": "KFXqRE0ZvMF9"
      },
      "source": [
        "Complete training loop"
      ]
    },
    {
      "cell_type": "code",
      "metadata": {
        "id": "YJ-TDlymweQV"
      },
      "source": [
        "start_time = time.time()\n",
        "\n",
        "loss_list = []\n",
        "\n",
        "for iteration in range(NUM_ITER):\n",
        "\n",
        "    hidden_and_cell_state = model.init_zero_state()\n",
        "    # Fill optimizer zeroing\n",
        "    \n",
        "    loss = 0.\n",
        "    inputs, targets = draw_random_sample(text)\n",
        "    inputs, targets = inputs.to(DEVICE), targets.to(DEVICE)\n",
        "    for c in range(TEXT_PORTION_SIZE):\n",
        "        outputs, hidden_and_cell_state = # get prediction from model\n",
        "        loss += # count loss\n",
        "\n",
        "    loss /= TEXT_PORTION_SIZE\n",
        "    # run backward pass\n",
        "    \n",
        "    # update model parameters\n",
        "    \n",
        "\n",
        "    ### LOGGING\n",
        "    with torch.no_grad():\n",
        "        if iteration % 200 == 0:\n",
        "            print(f'Time elapsed: {(time.time() - start_time)/60:.2f} min')\n",
        "            print(f'Iteration {iteration} | Loss {loss.item():.2f}\\n\\n')\n",
        "            print(evaluate(model, 'Th', 200), '\\n')\n",
        "            print(50*'=')\n",
        "            \n",
        "            loss_list.append(loss.item())\n",
        "            plt.clf()\n",
        "            plt.plot(range(len(loss_list)), loss_list)\n",
        "            plt.ylabel('Loss')\n",
        "            plt.xlabel('Iteration x 1000')\n",
        "            \n",
        "plt.clf()\n",
        "plt.ylabel('Loss')\n",
        "plt.xlabel('Iteration x 1000')\n",
        "plt.plot(range(len(loss_list)), loss_list)\n",
        "plt.show()"
      ],
      "execution_count": null,
      "outputs": []
    },
    {
      "cell_type": "markdown",
      "metadata": {
        "id": "0K-2q1HhxGOq"
      },
      "source": [
        "### Task 9"
      ]
    },
    {
      "cell_type": "markdown",
      "metadata": {
        "id": "lFmW19sExH14"
      },
      "source": [
        "run evaluation with different temperature values `[0.2, 0.5, 0.75, 0.9, 1, 2, 4]` but with common beggining phrase. Print each evaluation in cycle."
      ]
    },
    {
      "cell_type": "code",
      "metadata": {
        "id": "OVyVCvjIsRDp"
      },
      "source": [
        "# YOU CODE HERE"
      ],
      "execution_count": null,
      "outputs": []
    },
    {
      "cell_type": "code",
      "metadata": {
        "id": "ofyqX2Pky4Vk"
      },
      "source": [
        "for T in [0.2, 0.5, 0.75, 0.9, 1, 2, 4]:\n",
        "  print(T)\n",
        "  print(evaluate(model, 'Th', 200, T), '\\n')"
      ],
      "execution_count": null,
      "outputs": []
    },
    {
      "cell_type": "markdown",
      "metadata": {
        "id": "lX4-6wSjynTW"
      },
      "source": [
        "### Task 10"
      ]
    },
    {
      "cell_type": "markdown",
      "metadata": {
        "id": "L1GHncZWyilq"
      },
      "source": [
        "Apply top-k sampling to evaluation function."
      ]
    },
    {
      "cell_type": "markdown",
      "metadata": {
        "id": "4c-3b_vp3DHg"
      },
      "source": [
        "As a reminder"
      ]
    },
    {
      "cell_type": "markdown",
      "metadata": {
        "id": "jEjUCn2tzvDq"
      },
      "source": [
        "![image.png](data:image/png;base64,iVBORw0KGgoAAAANSUhEUgAABCYAAAKlCAIAAACYPXokAAAAAXNSR0IArs4c6QAAAERlWElmTU0AKgAAAAgAAYdpAAQAAAABAAAAGgAAAAAAA6ABAAMAAAABAAEAAKACAAQAAAABAAAEJqADAAQAAAABAAACpQAAAAA01JwUAABAAElEQVR4AeydCXyTRfrHwx0OIdxBECqCRF0loEjwooorUVSyi6vxJJ7EvwpVWa26Sr3rBVVXiYoaT6KCRneVuqLUk4AH8YKICkEFAuWIKBCO0v/vzSTTt7maq6Utv/fDp8w793zfed/MM/M8My2qq6s1vEiABEiABEiABEiABEiABEigfgi0rJ9smSsJkAAJkAAJkAAJkAAJkAAJKAQocrAfkAAJkAAJkAAJkAAJkAAJ1CMBihz1CJdZkwAJkAAJkAAJkAAJkAAJUORgHyABEiABEiABEiABEiABEqhHAhQ56hEusyYBEiABEiABEiABEiABEqDIwT5AAiRAAiRAAiRAAiRAAiRQjwRaJ8x71apVCf3pSQIkQAIkQAIkQAIkQAIkQAJqAgMGDFDfxrsTixyI17Nnz/jY9CEBEiABEiABEiABEiABEiABSaCyslK6kzmoWJWMDP1JgARIgARIgARIgARIgATyQIAiRx4gMgsSIAESIAESIAESIAESIIFkBChyJCNDfxIgARIgARIgARIgARIggTwQoMiRB4jMggRIgARIgARIgARIgARIIBkBihzJyNCfBEiABEiABEiABEiABEggDwQocuQBIrMgARIgARIgARIgARIgARJIRoAiRzIy9CcBEiABEiABEiABEiABEsgDAYoceYDILEiABEiABEiABEiABEiABJIRyFLkeHfFu50f7Ix/v2z5JVnW9CcBEiABEiABEiABEiABEiCBLEWOPdV7qqqr8K+6upoQcyEwd+7cv/zlL6tWrcolE6YlARIgARIgARIgARIggUZLIEuRo9G2576F99396d2f/fZZFjX8+uuvH3vsse3bt2eRlklIgARIgARIgARIgARIgAQSEmid0LdOz1MPOnXrP7fWGa3hI0Dk2FG1Q9tae0y/YzItHSLHzJkzzz333Pbt22ealvFJgARIgARIgARIgARIgAQSEmhuqxwJG0lPEiABEiABEiABEiABEiCBvUUgY5Hj/DfP7/hAR/lv1e81RgjXzb8O/o9+8WjBYwUjnSM/+fWTo549qv+/+5ctLhPNO/nlkxFh4n8mPrTooQMfO7BXWa9L3750y44tsvGbtm8qeq/ooMcP6jq965HPHDnzq5kyCI51W9eJcl/6/iVEG/DYgO4zug9/ZviuPbve+OENEYQlDsS87aPbxO0V71yhziGZ+7jjjoNBxf33348IJ5xwAty4HnzwQRl/27Zt99577+jRo4cNGzZ+/HgYYMgg4YBGFpJs2LDh5ptvPvbYY4866iir1arW0XK73WefffaRRx55/PHHX3311cuWLVPnsGXLluuvv/7oo48+5ZRTXnrpJXUQ3SRAAiRAAiRAAiRAAiTQpAlkrFjVtlXbdq3awXwcA/2ELZ/20bRqTXXltsozXjujZYuWod2haR9Pu3joxV3adRHxF6xaMMc3R6fVbd211bXUhXyeP+N5BG3fvf3UV079rvI7Ec230Tf1/am/bfnt7sK7Ywq67cPbAlsDbVq22b1n9w8bf6jaU9WqZSvUCtGEyNG6ZetWLVrhtk2rNjFpE94+8sgju3fvfu+992bPng13p06dEE2v18vIU6dO/eijjyAzDBo0aP78+dOmTUP8c845R0YQjhtuuKFLly633nrrnj173nnnHcQR/mVlZbNmzYIcMnny5KqqqoULF5aXlx9yyCEy+S233HLYYYddeeWVb7/9NmQbSC9Dhw6VoXSQAAmQAAmQAAmQAAmQQNMlkLHI8ezpz6K1836ed9brZyVs9hXDroClx2mvnAbhxH+Vf8xLY75e//XyTctH9Bkh4m/cvnHuhLnmgeZr/nfNM18/M9c39+7Rdx/Q+YAnljwBeaOFpsX0k6efVHDSvZ/dC4Hk4c8fvujwi4Z0H6Iu64+df8y2zD590OmQUl5Z+grkjTMHn7npuk2I0216N0gdtx132/Ujr1cnSe0ePnw4Ivh8Pvw1Go3dunVTx4eNB+SNSy655LrrroM/BA9cjz/++IQJE1q3rgWwa9euDz30kEh72mmnCceKFSsgb2D5AssmLVsqy0rIqrKyUoSKvyNGjICgAvcZZ5wxZswYCD8UOdR86CYBEiABEiABEiABEmi6BDJWrKqzqf079z9QdyCi6Tvq27du379Lf7iDoaBMeGiPQyFv4HbKiCnC07PaA8dby9/C3xMHnAihZVDXQRA8YAWOBZP//vRfEU3+vcx4GWQMLKF0bNPxkqGXYLlDBtWHY9GiRcj2zDPPFJlDzBg3btzGjRt/+umnmOLOP//8GB/cvv/++/h7+eWXC3lDROjZs6c65tixY8Vtjx49evfuHQgE1KF0kwAJkAAJkAAJkAAJkEDTJZB/kQOSgFBqggNchFvoOwlMA3UDhQOSiYgDLSn4rAyuxN+hvSMKRVDEEqLLiuAKEV/+PaLXEdLdAI7169ejlD59+siyhDteMOjfX5GvYq7ffvsNPgMHRlodEypu1RJIhw4dYDqSMBo9SYAESIAESIAESIAESKDJEci/yJEQgfrEwJ1VO0UcWGLAJgRuKFPJVGq3SKX2EdGE2YZMUt8OdeVFWfE+wn+//faLr0yyyOqY6gUQtT/dJEACJEACJEACJEACJNDUCTSQyKHG9G3lt0LS+Hrd18K/V8decIg1DRh+CM/fd/zu/90v/YVnnX9btKiRXuqMHBMhWVpoOiHm2rVrZXyxviH8pWcyxwEHHICglSuVNRxeJEACJEACJEACJEACJLCvEdgLIsfaP9fe+uGtS9YtueXDWwTukfuPhOOMwWfg7wf+D2Z5Z/28+efr51+P3a6wxDFu0Lj0n0rntp0R+cvAl1XVVemnEjHFRlUxht0Iwt61+PvWW4qpCS7sQ4V9pWBiPnjwYOGT+i/MwRHhqaeeUi93YDvd1KkYSgIkQAIkQAIkQAIkQALNg0CtDZfqbBI2qsKpGogmB/Q4eUMoPi2yKTbW6VwDugzAPlRln0cO64AhOHyQcNKwSbOXzv6+8vsp70XMyuF5zYhrDN0N6WQr4ozqN+rN5W/iX/fp3bFllvVQ6yOnPJJmcuxVhZj33XcfjtSAQUXfvn0PPFCxg4c/jtp45plntm7detBBB8EcfPny5Th/I2a7qmSlwIrj0ksvffrppzdt2nTiiSdik9zPP/8c4sq1116bLAn9SYAESIAESIAESIAESKDZEMhslQPWFzhMA/+w/iAQbNu1TfgIXal0uGC33MfMj/Xu2Hu/tvude9i5jlMdIlWHNh3mnTMPu1H16tALm1BhY9z7T7r/nsJ70slTxkESrJZ0b99dVFXWU0ZI4YCAgQM31qxZg1M47Ha7+ry/6dOnn3feeTiRA8cFwpoc0XCbIquYIEgXd955JyQWHNAB2QOWG3KLqpiYvCUBEiABEiABEiABEiCBZkaghVrbR7Zt1apV6j2UpH+ODpw+vnD1wrMMZz13xnM5ZsXkJEACJEACJEACJEACJEACe50ArBIGDFBUllJcma1ypMiIQSRAAiRAAiRAAiRAAiRAAiQQT4AiRzwT+pAACZAACZAACZAACZAACeSNAEWOvKFkRiRAAiRAAiRAAiRAAiRAAvEEMtuxKj59Rj7zz5ufUXxGJgESIAESIAESIAESIAESaOoEuMrR1J8g608CJEACJEACJEACJEACjZoARY5G/XhYORIgARIgARIgARIgARJo6gQocjT1J8j6kwAJkAAJkAAJkAAJkECjJkCRo1E/HlaOBEiABEiABEiABEiABJo6AYocTf0Jsv4kQAIkQAIkQAIkQAIk0KgJUORo1I+HlSMBEiABEiABEiABEiCBpk6AIkdTf4KsPwmQAAmQAAmQAAmQAAk0agJJz+WorKxs1BVn5UiABEiABEiABEiABEiABJoCgRbV1dVNoZ6sIwmQAAmQAAmQAAmQAAmQQJMkQMWqJvnYWGkSIAESIAESIAESIAESaCoEKHI0lSfFepIACZAACZAACZAACZBAkyRAkaNJPjZWmgRIgARIgARIgARIgASaCgGKHE3lSbGeJEACJEACJEACJEACJNAkCVDkaJKPjZUmARIgARIgARIgARIggaZCgCJHU3lSrCcJkAAJkAAJkAAJkAAJNEkCFDma5GNjpUmABEiABEiABEiABEigqRCgyNFUnhTrSQIkQAIkQAIkQAIkQAJNkgBFjib52FhpEiABEiABEiABEiABEmgqBChyNJUnxXqSAAmQAAmQAAmQAAmQQJMkQJGjST42VpoESIAESIAESIAESIAEmgoBihxN5UmxniRAAiRAAiRAAiRAAiTQJAm0TljrVatWJfSnJwmQAAmQAAmQAAmQAAmQAAmoCQwYMEB9G+9OLHIgXs+ePeNj04cESIAESIAESIAESIAESIAEJIHKykrpTuagYlUyMvQnARIgARIgARIgARIgARLIAwGKHHmAyCxIgARIgARIgARIgARIgASSEaDIkYwM/UmABEiABEiABEiABEiABPJAgCJHHiAyCxIgARIgARIgARIgARIggWQEKHIkI0N/EiABEiABEiABEiABEiCBPBCgyJEHiMyCBEiABEiABEiABEiABEggGQGKHMnI0J8ESIAESIAESIAESIAESCAPBChy5AEisyABEiABEiABEiABEiABEkhGgCJHMjL0JwESIAESIAESIAESIAESyAOBpKePx+cdCAROPvnkeH/h8/DDD48ZMyZZaF78v678+rmlzy1cs/C7Dd+1aNFiy9VbMsp22cZlN3x8g2etp2Objn8b9Lc7j7mzU9tOGeXAyCRAAiRAAiRAAiRAAiRAApkSyEDk6NSp0zXXXCMKWLNmzdy5c4899tjhw4cLn4MOOijTsjONP/+X+c9898ywXsP67ddv9Z+rM0q+ftv609ynaao1N4y4AW7H145f//h1zhlzMsqEkUmABEiABEiABEiABEiABDIlkJnIMWnSJFHAl19+CZHDZDJdfPHFmRaZdfwLDBdcecSVHdp0OP+d8zMVOR5d8igkjQ/O+mBkn5GoABY6HvjiASyYjNp/VNb1YUISIAESIAESIAESIAESIIE6CTQlW47eHXtD3qizSQkjvL3y7SFdhwh5AxEuPORC/P3Piv8kjExPEiABEiABEiABEiABEiCBfBHIYJUjxyIrF7ZcfIU2YSZDrt41aNKuhEF58dxRtePHzT9OOHiCzO0g3UGd2nT6fuP30ocOEiABEiABEiABEiABEiCB+iDQlFY5sm5/5bbKPZo9vTr02rh946HPHXrp/y5FVj3b91y3bV3WeTIhCZAACZAACZAACZAACZBAOgQabpWjx9F7xnq2JaxTy7YJvfPmGaoKIa+2LdtWbq9ctWVV6xZKq9u1bhfarfjzIgESIAESIAESIAESIAESqD8CDSdyYLeo6qokDalO4p8n73at2iGnXXt2GboZ5k+Yv3+n/XG7Y/cObpKbJ8DMhgRIgARIgARIgARIgASSEmg4kWPD53vNlgM6VC01LbFjFTDILaqw4jGwy8CkYBhAAiRAAiRAAiRAAiRAAiSQDwL7hC2HtrUW9uLfbPhGElvx+4o/d/35lx5/kT50kAAJkAAJkAAJkAAJkAAJ1AeBhlvl6Dlqz7hvE9ty5LFhK39fWbKwpJu224zCGepsxx04rmxJ2eeBz0foR8D/xWUv4u/pA09Xx6GbBEiABEiABEiABEiABEgg7wQaTuTIveqw/Hb94EI+y4PLq6ur7/v8PriP6n3UmP5jZOabd2ye8+Oc/TvuHyNyTB4++SXfS9a3rdcMuwYbVT3mfWzsgLHH7H+MTEgHCZAACZAACZAACZAACZBAfRBoSiLHz8Gf7/DcISkI91XGq9QihwyNcfTu0Pudv71zw8c33L3o7vat21982MV3HXtXTBzekgAJkAAJkAAJkAAJkAAJ5J1ACywXxGe6atWqnj17xvvThwRIgARIgARIgARIgARIgAQkgcrKygEDBsjbhI59wnw8YcvpSQIkQAIkQAIkQAIkQAIk0AAEKHI0AGQWQQIkQAIkQAIkQAIkQAL7LgGKHPvus2fLSYAESIAESIAESIAESKABCFDkaADILIIESIAESIAESIAESIAE9l0CFDn23WfPlpMACZAACZAACZAACZBAAxCgyNEAkFkECZAACZAACZAACZAACey7BChy7LvPni0nARIgARIgARIgARIggQYg0LhEjrPPPvvcc89tgGazCBIgARIgARIgARIgARIggYYhkKXIMWvWrI8++qhhqtjApTzwxQMdH+1oft3cwOWyOBIgARIgARIgARIgARJolgSyFDmefvrpjz/+uPkRCWwNTP9yeusWrZtf09giEiABEiABEiABEiABEtgrBLIUOfZKXRug0Ns+u23cwHFd2nVpgLJYBAmQAAmQAAmQAAmQAAnsCwQyEzlefvnlv4SvP/74Y/bs2cKNv1u3bpWwFi5ceN555w0fPvyYY465/vrr165dK4NE8nnz5v3jH/9AhHHjxr311lsyNMaxe/fuyZMnjxo16vvvv48Jqqfbr9Z/NffHubeOvLWe8me2JEACJEACJEACJEACJLAPEshMg2jMmDGDBg0CpquuugrCwAUXXCCQabVa4fB6vVdeeWX//v2nTJmyZcuW559/funSpXPnzu3QoYOEe/vtt//zn/889NBD58yZc/PNN+t0uhNOOEGGCseePXtuuukmj8fz5JNPHnbYYTGh8bc/PNLmp6faxPvDZ9RzoW7D9yQMivH850f/vPzwywd0HhDjz1sSIAESIAESIAESIAESIIGsCWQmcvQOXyisdevWcB599NExBT/++ONt2rRxOp3dunVD0MEHH4yFjtdff10KJ/DEnlQTJkyA49Zbb/3iiy9mzpwZI3JUV1ffdtttH3zwgcPhMBqNMUXU0+0rP7yybNOyV8e9Wk/5M1sSIAESIAESIAESIAES2DcJZCZypGZUVVX15ZdfFhYWCnkDkbEqgvWNRYsWqUWO4447TuYDN1ZCtm/f3r59e+l51113ud1uiCIjRoyQnqkdg+27Drp0V8I4rWoyThiueG7btQ1WHNcOv7Z7++5JIzGABEiABEiABEiABEiABEggcwKZ2XKkzj8YDO7YsaNPnz4yGhZDevXqtW7dOukDR48ePeQt3FjTWL9+vfT57rvvoIiF22XLlknPOh3V1ZrqqsT/NNV1ptbM+GpGVXXVVUOvqjsqY5AACZAACZAACZAACZAACWRCIJ+rHBAe0ikaduEy2q5dytJE27ZtpQ+klEceeeTNN9/EKsfo0aOHDBkig1I4fnoie1uOjds3ln1Vdv2R12/esRn/UMqe6j07qnas/nN113ZdO7SpsUJJUQEGkQAJkAAJkAAJkAAJkAAJJCSQz1WOrl27QnhQb1EF6QIrGFjoUJetjhAIBFq2bKmOYDAYjj/+eJiVd+7cGX+FTKJOnnf3hu0btu3edueiOw9+9mDxD4LH4sBiuF9dTtOOvPNmhiRAAiRAAiRAAiRAAvsWgSxXOTp16lRZWRmDqlWrVkceeSROJd+0aZMw53j//fe3bds2cuRIdcy3335bmHOEQiHYiCMJEqojwI3kt9xyy3XXXQcL8muuuSYmNP52yORd+Bfvn45Pv/36zTl9jjrmJf+75ID9Drh91O2H9zhc7U83CZAACZAACZAACZAACZBApgSyFDmGDRs2f/78Z599FnvmtmjRAhvmCrEBO+RefPHFNpsNe1KJTXL79u3797//XV0tHFsOcQJb30L22LBhwz333KMOle5TTjnFbDbPmjXrxBNPxNEf0j/vjo5tOp564KnqbNu0bNNN2y3GUx2BbhIgARIgARIgARIgARIggTQJZKlYNXXqVIgZWIKAjGG327FeIcrDAX+wwejYsePDDz+Mg/+w+y3EEtyqa1NaWrpixYoHH3xw8+bNkDdwYqA6VO0Wp3ZAPtm5c6fan24SIAESIAESIAESIAESIIGmQqBFQpvvVatW9ezZM+9tgBACGQPLI3q9Pu+ZM0MSIAESIAESIAESIAESIIEGJgBriwED6jhKO8tVjgZuCYsjARIgARIgARIgARIgARJoogQocjTRB8dqkwAJkAAJkAAJkAAJkEDTIECRo2k8J9aSBEiABEiABEiABEiABJoogQa15WiijFhtEiABEiABEiABEiABEiCBhARoy5EQCz1JgARIgARIgARIgARIgAQajgAVqxqONUsiARIgARIgARIgARIggX2QAEWOffChs8kkQAIkQAIkQAIkQAIk0HAEKHI0HGuWRAIkQAIkQAIkQAIkQAL7IAGKHPvgQ2eTSYAESIAESIAESIAESKDhCFDkaDjWLIkESIAESIAESIAESIAE9kECFDn2wYfOJpMACZAACZAACZAACZBAwxFonawo7LCbLIj+JEACJEACJEACJEACJEACJJAmgcRHAaaZmNFIgARIgARIgARIgARIgARIIDUBKlal5sNQEiABEiABEiABEiABEiCBnAhQ5MgJHxOTAAmQAAmQAAmQAAmQAAmkJkCRIzUfhpIACZAACZAACZAACZAACeREgCJHTviYmARIgARIgARIgARIgARIIDUBihyp+TCUBEiABEiABEiABEiABEggJwIUOXLCx8QkQAIkQAIkQAIkQAIkQAKpCVDkSM2HoSRAAiRAAiRAAiRAAiRAAjkRoMiREz4mJgESIAESIAESIAESIAESSE2AIkdqPgwlARIgARIgARIgARIgARLIiQBFjpzwMTEJkAAJkAAJkAAJkAAJkEBqAhQ5UvNhKAmQAAmQAAmQAAmQAAmQQE4EKHLkhI+JSYAESIAESIAESIAESIAEUhNonTB41apVCf3pSQIkQAIkQAIkQAIkQAIkQAJqAgMGDFDfxrsTixyI17Nnz/jY9CEBEiABEiABEiABEiABEiABSaCyslK6kzmoWJWMDP1JgARIgARIgARIgARIgATyQIAiRx4gMgsSIAESIAESIAESIAESIIFkBChyJCNDfxIgARIgARIgARIgARIggTwQoMiRB4jMggRIgARIgARIgARIgARIIBkBihzJyNCfBEiABEiABEiABEiABEggDwQocuQBIrMgARIgARIgARIgARIgARJIRoAiRzIy9CcBEiABEiABEiABEiABEsgDAYoceYDILEiABEiABEiABEiABEiABJIRoMiRjAz9SYAESIAESIAESIAESIAE8kAgM5Fj+fLlf4leZ599dh7KT5TF4sWLUchnn32WKJB+TZLA3Llz8UxXr16dTu2vvfbaaC/7S0VFRYokm3Zt6rOoz+sbXo+Pw14Uz2Rv+Vz242WWpZa9VTrLJQESIAESIAES2OsEMhM5+vXr90z4OuSQQ/ZW1WfNmvXRRx/trdJTlJtLxb7++uvHHnts+/btKfLfd4L+7//+D73spptuqrPJD65+sE/bPpYejWg4u2HDBjzKn376qc7KN3CEHCv2zjvvzJ49O7s6T+079f3g+x///nF2yZmKBEiABEiABEigqRPITOTo0KHD0eGrS5cu9dfyo4466ssvvzSZTAmLePrppz/+uDGOXXKpGESOmTNnUuQQT3zw4MHoZQaDIWEHkJ5/VP0xKzDrkt6XtNQk6Mape5HMJO8OjOzxKH/++ee855xjhjlWbN68ea+88kp2dTB0MBzf5fjpq6dnl5ypSIAESIAESIAEmjqBBGO1vd6kli1btmvXDn/3ek1YgcZMYM6GOdv3bJ/QY0LCSrIXJcSytzwndJ+AhY41O9fsrQqwXBIgARIgARIggb1IIP/D+oULF5533nnDhw8/5phjrr/++rVr16qb5/V6zznnHISeccYZWKw46aSTbr75ZhkBbqnEH2PL8fLLL4ugP/74AwoeMtrWrVtl8i+++MJms40aNWrkyJFnnXXWCy+8IINydGD94aGHHho7dixqjjpfd911v/zyi8izzor5fD60y2w2I+3xxx9/ww03rFlTM/A67rjj0Jb7778fuZ1wwgmiXQ8++KCs8J49e5599lngGjZs2JgxY8rKynbv3i1D68mBGXHU5L777hs9ejRqvmTJkosvvhhgH374YVnitm3b7r33XkRAxcaPHw9rDRkEx86dO9EotBfrFf/6178QWR0KN9YBJk+ejDyPPPJIPLVvv/02JkKdt29tfOvQDodCsSomZopehJh4fMXFxehCeJojRoy4/PLLA4GAzAFmJKeeeuprr712yimn4Hmdf/7533//vQwVFimrVq2SPhaLBWpg4laYoKDj4RY9XzzKGJOnOXPm/P3vf8cKDMhccsklMZ1cZpuFA3Yy//znPwsLC1Ht00477Y477ti1a1eaFXv//ffRihNPPBGPEg1HV5cLbtJ8a8GCBdAWE43CX7WNze+//37PPfeI5OgJb731Vnz9T9KdVKWp+u+m/8YH0YcESIAESIAESKDZE2id3xZCorjyyiv79+8/ZcqULVu2PP/880uXLsVADRpZKGj9+vWTJk3ab7/9rr76aogKUNbHwFRdgcsuuwxjOIzRxRBcHYTR9qBBg+Bz1VVXYZx6wQUXiFCtViscv/32m91uHzhwIAayrVu3RiYYFV144YXqTLJ2QwbAYPGiiy5CHdAK5Lxy5Uo0ExnWWbFPPvnkq6++OvnkkwcMGIChvMvlmjhx4n//+1+s5CD5I488AhHivffewyAY7k6dOsFTr9fLqpaUlLz++usYyaEtK1ascDqdGzduvPPOO2WEZI7PLtJuXpJApGzRUnPa17ECQMJMYIGN54VaXXrppeeee+4BBxzw1FNP/eMf/9h///0Rf+rUqTCqwZAaTObPnz9t2jQ0BPKkyArEIIzhaR566KEwA4gxv/nxxx8BU6fTYcTftm1bt9sNkebVV1/F40tYk3jPPZo9i/9cfEa3M+KDUvQiERlS8aZNmzAoDwaDIHnbbbc9+eSTMh8IyWgmmtOxY8cZM2YgN4yhe/bsKSMkc2DUDkq//vor0sINuQIxkYmMX15ejqcJUQe9988//4Qg5/F4IJnLCFk7qqur8V5s3rwZVLt16wZ5+O2338bL1aZNG+RZZ8VAHjLhhAkT0PEgY7z44ouQiiF4IK0w34Lj0UcfXbdu3V133SUqCeU34YBwgmcHgcdqtaJjQIgSkwhnnnmmiCD+Hqg9sHub7p9t+ewK/RVqf7pJgARIgARIgAT2BQJ5Fjkef/xxjHIwLMa4B/gOPvhgTPdixCwkBCw7QNLA2FqMLHv37o1hn5oy/EWQ2lO4ERkX3BAn4MDceUwcjI9DoVBpaanMIY+rAR9++OFf//pXtEUUioGyzDxcr1QVw9gLY7JWrVqJtEOHDr3iiisgtGDoCR/MSeMvBCT8NRqNgpuIib+QVUAP5SIH4dmnT58HHngAOUAAkNHqyYE5fkzJow6ffvopZtAhL6EykBYwsoTxCaQIzNNjwQelQ/DAhaePYSseEGJCQsPKjBihwvP0009XVxIiZfv27WEb0LlzZ/ijFEzMY6CPZRN1tBTudTvXBXcHMZCNjxPuRKlElx07dkCWEMIARthPPPEEBAAh7CE3PFkIBkISgOAEkRL9VjQzviy1jxiFixYddNBB8V0Uvah79+5iKI+EEA9kL1Lnk4Ub8jaWIG699VYp8kGql6qJdVYM7UW/kuUCBZ4FHmKPHj2E+RaCIB9igTG+UZhWQJeAlIKOjWioAIr+97//HSNyIKigXcGybctkKXSQAAmQAAmQAAnsOwQSzIJn3fiqqiqYfUM7SI6bMVzDkGXRokUiT8yAQiVDigTQYMm6rPiEYtEAgocMwthXunN0YC0F4yosL8h80s+8V69eQt7AVDQGu8IqWq2cI/OMd/zvf//DwBEjcoxNxQW8iIYJ8vjIMT4jnwyN9WyL/3fKwrSWOJCbeI4Ya2KgjFuxZwC0aOAWz1QOK0Fj3Lhx4CN2aoJAgil2+Igq4dFAYBNu/EUOWGeAjIG+IRqFhQ7owkG2kXHqdGzYtQFxdK10dcaMj3D44YfLxYeCggJEwMqVjAaZWW5dgMWNIUOGfP755zI0Fwc4YNS+bFnNsDv9XpS6XLHWhzVGuWyILteiRYvUqWSolDfwCqOLYj869FUs18gIKRzvvvsuFrIOO+ywaA/dDV07LJLgiknVtXXXjbtr3qCYUN6SAAmQAAmQAAk0YwJ5G5SDEdRUMF6Rwxf4YESFATf0MQRBKM1jZClpQsMKl7zN0QHNpSOOOALT6g6HA8sFGDX+7W9/E3JIjjkjObRWbrnlFpgBYHSF2VwMteFIM1uMMrHlKzb8AQepXg9Q6STHsA+2HMcee2xMZKjQxPjE31ZXafAvwZXuQFR5fEiOv8IhtHREE8QYXf2shRuPGDKVsI4Qq1KiAmpVMUzJwxNLYbhEqPgr1xnUnqnd1Zrq1BEShkqRGKGQdvBXbWrStWtXuT6AIMz0//DDDwnzydQTqnFY3YJm2oEHHgixBz0WPSrTTBLGh2iEzLEa88EHH+AtwNIZVpbw6iWMHO/p9/ux1AMtL6xsQNgQEbBmGB8z3gdPE/TwxsUEQbAUCnjSX+YsfeggARIgARIgARLYRwjkU+TYu0MKSBcYcmGVAzPoMJ+AdQHU2Z977jn18DHrh4oFGVg5w4IW+cM0BbphUG0XCw515gmdHCz+QBUKY0FMrmPIDmvpNFkhGhYZIETFlKIewccEydvFV+ZqyyGzinfE11/tI+bak82yi5iwkcCYW52z1D1TeyZz92jTA0HBqmCyCCn8k1VMJMFMvzotJu+FWKL2lO6YyNI/oQPaVuiT2DUBa0RQsoKJCCAUFRUljJyp54033gjLGZE5NNxgSIOOmo7UAZsrqHhhnQSmUJCF8B5hkQqab+oHmqIyiAbbKthuxcQRy0dqTzys7q2V5TJeJEACJEACJEAC+xqBLEUOTHtjKBYDC9PDGJypt6hCHEyHS/1vDJTV6haw68AKQEwmudxizIrRDy6M8qGsj4MyoMQClQ+ZJwaImJTFiFNYfkv/dBwYvUFPHRdaBE0n2CGkI3Jg2hgiEEzqMZ4TpcDuPL64ZINgGGzAZAKjtyxWAOJLyaOPWMHAsxY2/chZvbIhRrpY1YkJFRWARTIc6BvQsktRJTHQTzam17fV61rrVm5PADNFnukEYQUJ0/ZQ+hKR0S4p4An9JfX0P55vjFFNskcpcoPMiR3AcEEqgxQK2TVG5Mili0IHDBfEGNjewO4f4o00AULpySoGdUcY02MhTr6nCVd1kiVH8yG0pH6Uou0rQitO1tUSMoU//5IACZAACZAACTR7AlnackCLBsNNqTguMGHEj6UADJExghE+2HwTozepTAVh4LvvvpNjbmzgkwVfDL4rKyvjE2Lco/bEfC1uhUaQ9EfFYEIQY8osQ1M41JlD0wYDx/gp+YQVEwM1dTWwY1V8QUKiiG+XWAfAcFCdBMPcdPSyjnk+NO7bbfH/0tyuSl1ivFsMT+V2qJAfMMCFwpKwVMbms2g4NqoSCVFbbMklM8G6DSK88cYbaIj0hEMtjuJWaGrJzYjVMeFuoWlxdKejvdu8Mf6530KTTfZMmPWju8qxuBC0pDEGRvbxMjP6BuoQ0zRRK3UvgkAFvaP4XpRdF8VbJnX2UJZYYVD3Ongmq5joorImeJTYI1hUWP0XyWGrE7/0gS6KfYQht6gjxzxKBEHe2Lx786j9Rqmj0U0CJEACJEACJLCPEMhylQOb92Ncgl1uYSoKUtA7Eor+mM7HxCoUh6BKjgEWdrPp27cv1gQETehvYDtOzL/CgUESdD/Uk/cwBcH2QYgptm/CVKsYM2EUi/UT+TxwdACUpnBUBWbQMVqCGCNGS5gwxkgRyvGYRMdCBJSssF8WVFlkQjgwmsTfLAw8YP0sDDkw+Q11eWwJikMY1DnDnbBiMLyG1j7WWzB7jbl/rHgIA+uYtEIVHudgYKdRFAFoQmTC0BzaMtjCFalgnYKxO+Cg+bDZzaIVMYXmcosKw8IEshCWqgAZsiWeHXZHFY8MLUUHwKZVeDQw7YDsESMj4WQM7BSMODjFAmsIMFmBRhDyxPayslYQ7SDBAh26FraBQinqBStEO7P7mZN/nozT5fZvq2zaK640e1E0eoL/MbbGnmB4xOic2IgJ5kZ4KCIezHjwQBEqzHIgcaGSMVlAkEDzodGH5IiMv9LOQex4BgkcqSC3/Oc//8GiWUzy7LoocsPKHhZP8FJA9sC7iVbgjA515skqBshoI85OEdvKYfvmmKkEkQnsQ1Bh2ErhRBE8ZZiYi00F8LJDnoSxE54m3jiITFAjBB8pjork84PzcUj86d1rbVymrh7dJEACJEACJEACzZhAK+yPGd88mH5iyBLvL32gTYGxFIYab775JoabGD6KETBmpjEsw35KmPPGMAjn3GEYLYYmSIs8cVgBRiQY1kBfBUVDox1jaxwihlAc5IfNZ5EhJo9xi9E53LgwJFLrhSN/nCKHAQ2myZEPJByhgYNhEKxgkSGG4zi/AgMj7MArdiyV1cbWQxj+YjtXhErPdBwYWGM7IIz1UTeMgDF2xGpJTMJkFcPQHFP1MB9HWsgS2AcW4hAaJRd/kA9kKlgAY4EI+vcY2AGmPK4BA0dsFQXtf9Qca0RoJsapEEXktHRMNfJyC4EQtt1YDoIGGgxjoI0mht0wEsDDEqbzkMEQDX0AMhhqBW1+OTRHHVB/hOJZoNUYrWJHYDhg4iyeCMbcSI5hPbbkQnJ0BtCDXbXa4hyZABGajAeNaFBqQndSt25Q+0GPr328Z5ueI/er2ZOgzl4EYQBPQZqRoC8hc0g+QhkMFcazhkQkTLHR8SBg4EAVUS6YQ37Azlro84iGDgaTa4zX5d5ciAYxGFpGiINHiV4KERHtktXGMTWwCEJHgmiEEzOvueaamOeYXRdFn4SYjVcGUjcsMVDhu+++W6w4yaKTVQwiLh4QujfeJhzIiP4GGuhs2ONYrTMGlS1MIoAV2oWYeJHFW4mi8S5ApES7UDp4QobEg5Y6daICt/hvGdJ+yOX6y2V96CABEiABEiABEmgeBDDkgw5L6ra0iNeUQAJs4ZrO2Weps64zFEVjrIO5VTH7W2f83CPgmIWXXnoJo3+pnZ97nsxhLxK42X/zvM3zvhz2JWbQ81INLF5BSEAPyUtuWWTSLLvo0m1Lj/Ye/c5h75zQRdnimRcJkAAJkAAJkEBzIgDTADk/m6xd+RmoJcs93l+tcY7lDtxiejs+Wj35YAoc+9tS3qgnvA2f7dS+U9ftWvfGhjcavuh6KrFZdtHpq6eP0Y2hvFFPfYbZkgAJkAAJkEDjJ5ClLUfWDcOIHxrn0O+HKSpOOIbuh7AGyTrDjBImNN3OKAdGblQEurXptubo2CPnGlUNM61Ms+yiswbPypQD45MACZAACZAACTQnAg0tcsAIAWri0Kdv3749DCqmTp0KXfDmBJRtIQESIAESIAESIAESIAESUBPYm7Yc6nrQTQIkQAIkQAIkQAIkQAIk0OQINEZbjiYHkRUmARIgARIgARIgARIgARLIhUBDm4/nUlemJQESIAESIAESIAESIAESaHIEKHI0uUfGCpMACZAACZAACZAACZBAUyKQmciBE6ZxzJm4cKBePTV08eLFKOKzzz6rp/yZLQmQAAmQAAmQAAmQAAmQQIMRyEzk6Nev3zPh65BDDmmwKsYUNGvWLJzSHePJWxIgARIgARIgARIgARIggcZJILNNcjt06HD00UejJV26dNmyZUs9Nemoo47CKYHJNs99+umnTz/99BNO4DHG9YSf2ZIACZAACZAACZAACZBAPglkJnLks+TkebVs2bJdu3bJwxlCAiRAAiRAAiRAAiRAAiTQZAhkpliVTrMWLlx43nnnDR8+/Jhjjrn++uvXrl2rTuX1es855xyEnnHGGR9//PFJJ5108803ywhwR01FYm05Xn75ZRH0xx9/zJ49W0bbunWrTP7FF1/YbLZRo0aNHDnyrLPOeuGFF2QQHSRAAiRAAiRAAiRAAiRAAnuFQJ5XOSBRXHnllf37958yZQo0r55//vmlS5fOnTsXGllo3vr16ydNmrTffvtdffXVEBVuuummnTt3qpt92WWXWSwWn893//33q/3hHjNmzKBBg+C46qqrIFRccMEFIoJWqxWO3377zW63Dxw4cPLkya1bt0YmFRUVF154oQjlXxIgARIgARIgARIgARIggb1CIM8ix+OPPw4bDKfT2a1bN7Tn4IMPxkLH66+/LiQELDtA0sAaBQQDhPbu3fuOO+5QNxv+IkjtKdyIjAtuiBNwCJMSdTTscxUKhUpLS2UOu3fvVkegmwRIgARIgARIgARIgARIoOEJ5FOxqqqqCmbfMOwW8gYag6UJrG8sWrRINAz73kIhSooEp556ah4bLMw/IHjIPCGcSDcdJEACJEACJEACJEACJEACe4VAPkWOYDC4Y8eOPn36yJZg0N+rV69169YJn0AgsP/++8tQaFjhkrc5Ok4++eQjjjjirrvuKiwsLCoqcrlcqEyOeTI5CZAACZAACZAACZAACZBAjgTyuQ5QXV2dY21ySY5VDihuYZUD9uuffPLJ/Pnz33777eeeew77X+WSLdOSAAmQAAmQAAmQAAmQAAnkQiDL4TiWL+ItJbp27dq2bVv1FlWIA5NxLHSIKur1+jVr1sjqwq4D20/J29wdrVq1gmX5ddddB+uRSy+9dMmSJcuWLcs9W+ZAAiRAAiRAAiRAAiRAAiSQNYEsRQ5oT0G0iNlvCiP+I488EkeDb9q0SVTo/fff37ZtG7asFbeQB7777ruVK1eK2/Ly8izq3alTp8rKyviEMUcTHnjggYhDc454UPQhARIgARIgARIgARIggYYk0KqkpCS+vN9//71jx47x/tIHWkxz5szx+/2wl/jhhx9gEQ55A6H9+vXDCgN2p4U0gmM3ZsyYgd2lUARWPxCKXW5fe+01qDy1aNHC4/HgHHFoPUE2gJU5QmEK8s0336xevRr723766afY7WrXrl24hQF6+/btZdEQWhYsWIAM//zzz19//bVv375CdQrbZN19992QRrCQArHH4XBgr17syUvFKomODhIgARIgARIgARIgARLILwEsMOh0utR5tkhogLFq1aqePXumTokzN2A7IdSosBVV586dRXy4H330UcghEEvEaYBqk3EoO2Ef2+XLl0M4wbkcOPsPO1yJrXJhgIGDNeIL/fe//w2LcOkPTa3bb78dp/6JQwCxHZaQjnAkCKQOCC2bN2/GlllYUbnmmmvEvroyLR0kQAIkQAIkQAIkQAIkQAJ5JIAZ/wEDBqTOMHuRI3W+6YRC2sEx5DiyA2d3pBOfcUiABEiABEiABEiABEiABBoVgXREjixtObJuJ3SlZFoc4oHboUOHSh86SIAESIAESIAESIAESIAEmhmBfG6Smw6aM88802w2GwyGjRs3PvXUU4MHDx49enQ6CRmHBEiABEiABEiABEiABEigKRJoaJFjxIgR77zzDo7LgEX48ccfP3Xq1DZt2jRFcKwzCZAACZAACZAACZAACZBAOgT2pi1HOvVjHBIgARIgARIgARIgARIggUZLoDHacjRaWKwYCZAACZAACZAACZAACZBAfRBoaPPx+mgD8yQBEiABEiABEiABEiABEmi0BChyNNpHw4qRAAmQAAmQAAmQAAmQQHMgQJGjOTxFtoEESIAESIAESIAESIAEGi0BihyN9tGwYiRAAiRAAiRAAiRAAiTQHAhQ5GgOT5FtIAESIAESIAESIAESIIFGS4AiR6N9NKwYCZAACZAACZAACZAACTQHAkmPAsQOu82hfWwDCZAACZAACZAACZAACZDAXiWQ+CjAvVolFk4CJEACJEACJEACJEACJNB8CFCxqvk8S7aEBEiABEiABEiABEiABBohAYocjfChsEokQAIkQAIkQAIkQAIk0HwIUORoPs+SLSEBEiABEiABEiABEiCBRkiAIkcjfCisEgmQAAmQAAmQAAmQAAk0HwIUOZrPs2RLSIAESIAESIAESIAESKAREqDI0QgfCqtEAiRAAiRAAiRAAiRAAs2HAEWO5vMs2RISIAESIAESIAESIAESaIQEKHI0wofCKpEACZAACZAACZAACZBA8yFAkaP5PEu2hARIgARIgARIgARIgAQaIQGKHI3wobBKJEACJEACJEACJEACJNB8CFDkaD7Pki0hARIgARIgARIgARIggUZIgCJHI3worBIJkAAJkAAJkAAJkAAJNB8CFDmaz7NkS0iABEiABEiABEiABEigERKgyNEIHwqrRAIkQAIkQAIkQAIkQALNhwBFjubzLNkSEiABEiABEiABEiABEmiEBPY5kcNXZjZYHP74R+FHQOSyV8QH04cESIAESIAESIAE8kzAUxQdfBSWeuPzDjithsKSBAHxUelDAo2aQBYiR8DjdDg9gUbdrGSVC7pLHYHCIltBkghGu9PlchWbkgQn8Q54ymwWE74ZxkJrscsbShItsXfI5yq2FhqR2mS2lVbEcg16nUUWEWyxO7zB2pn43CU2s1KywWi2xRedU8Vql5TpXV6K9jssSttsrppmh3zljmKbpTDcaBBDo2sCUclAhaO0COEKUIPNneBZBDyOIgHciPRFLl+mTcs6fj6YBN02pWnmWlIzOklpsU00Kl6gLrcpLNRX7Z81EC2xiw5sMBRVZN28rBJmzSTgdZXarebwgzYWWuxlFf7YCoR87lK0S+GFGLYyT62eogl6XcWRt8dUaLU7a17coNddJjuRyWIrcfsSdKTY4vJ1n/qVr6sUfzk+CeEmm5V6q6N7isNvhbonFHmiEbwl4VdKHai4zWUiiwp7bEj4Xv1qRnOqj//rjYlGE1R9D5RuFPMFVkqOvFmim6nC/eU13xrl8x3/Ba4PFtE8c2MSySXh90SjSfmrVMc3NlBRao++ddaiuN+saPXr5f/cmCR7d4KuuE9ouPdH5yZDXmcxvkXhL40yCEjwMaqjYsYijDtcRaYkUPS2InPIVepS9b0kMelNAo2bQOvMqxdwl5VVWEw2kz7ztHs5hc/p8OgsrkJtsnpoDSajMVlgYv+Qt8SKH16D2V5sDFU4nSVWf6jclVSoickk4LJbSzw6k63YpsPQz2m3Bp3lpaZoBX0Om7XMV1BoL7ZpvC5HmdUadJUXR2oYcNmQVmuyFtmMukC501G76NwqFlPPzG7zU3TQXeKoNWRCJUL4kS/z6k2FZluBTuOvcLlLrF4f/hoFspDHWeb06Awmgz7gTfCBDpTbLUUVoQKMDyx6TTDg8yGW1ZBZ87KKnRcmIU9JqScUV74PjS7XFpiMBUGPPy5U8dCZrKoXVmcqqIkFEazM5dcbjUadp7b4VhOnnlw5MMFAsMQZMkBWMOs1AW+522H3eEvKnVb5VfLibXH4dEazxV6gCwXxpPGoTbpIU0KeYovNHdCjI5gLtKEAQn1BjTGc2u8qKXb4C0wQZAp0QV+521Vs8QbcbntD9JOUr3xdzyFYUWQtKtcYrUXF+kCFE5MZfm2F0xxtNJJrjRZ7YUE0H61ROvXmoiJ9MBqA/4Mep9OjMRWKRhdYi4oi3x0RB+NOF15ECVSVMu/OemTiLbHYXAHlC1uk13jLHQ67NaD6Aoc7UQAf95JCdDOPC+EWv6OiTPyE+MvLfRqDyWLS67QhPzohPkb+mg903jmoM8yJSTSjJN+T1L9KKb+x6IEWe3nIYLGXmHRBAKv9mxUtuH7+z4lJindHhxeqljigTHyV+0yFkTci4Cn3BLWQSAvREZQPBnqJt7TciZ8YcdVZMW2BMu4I6pJyMeH3yupweq3RX/+kMRlAAo2aQHXG15Ibhw4ZOW1Jxun2foIl00Ymr/nKGWOHDJk4L9Narn32nCFDRk5ZsF0kXDsbt0PlbV25Lbxx5JAh42eujMRbcuNo9e32eROHok5vbBbBm+dNUt8uuReRx967LFrG9gUIRtGR+9wqFs00q//zUvR2sBk5adokAJo4O0IAtVm2cOFaVaVWKvjVEbZvFnGVZw10kccSSbF9wRQgmviGOgdVZvXpzAuTJfeOHTpx2o3oqGNlnwlXevPmcEPDfbimO0XaM2+iulPFNzKKbMEkoJT9Jz5e3n1yYbJ5ycJlNb2iWukteA9rPksrZ45X3o4ltTuAbMKSaXh5zpkpXx4ZoDi2L1m4RJV39bJ7QXzIpOg7Xitunm9Sv/J1FbZM+YaNvndJJJ64rWGyMJMv9+Y30G1q8ootOsw3rqvFxsrLfT0y2a40cujEefJpxzRL+a2r9XVR3qUhk+Ylbtfm8Pd60rwkfS5xoux8c2MSLTPJ9yT1rxLej+Tf2LXP4rUbeePCaAnV4RdN/oRJ7/pw5MakjnendoXraFX4gzF2RvTrknbFFkxJ8copv/dqsrVrxDsSaBoEMlCsiq4uWqGtEnRZo+vstZVX/BVlclEV68wqfYSQG4uTFoenokwoMxjN0BOqPWEbXtcUakIms9Ueo2UUUvQghMIMdB1iAiHWKZoBxmJPwIsphogyhc3pU8l73vKKoNZkrjVXpwrOyhmsqPBqdGZbdOFEb7GaNKGKcm9auSk10pis1oJIbKMyZeuriK7te9yY0S60WSJzH6IYj7siTC3o9wUweW2WM6/aQnXRuVUsrdoni5SXon2OkvKComI5TxQtzGCqtbpWUKjMwvp8/mi4Vpd8pihU4cL8m70kLtNo4vr7Px9MAs5Sl8ZWVDOPX1NdnU5bc5PYFQoFg8Ha71skYipkifPKj29OTHRGk0H1pLWYasYsoR8rFeHL53b7tObi4vDiV3yrva7ygN5anGTZQms0GVV5awxmTHFrlPet3q+Ur3xdpfvKy/2aAovFGIlosGL9LhD3MVJ6QjySmMwDbpdHnVdMsMJXY7RYCmL86+O2Hpn4vD6NxmiuWarB96QAX+Co3nBAAaXVy86AV0V50ZK8bDp9AUKCgUgfrA8W0TxzYhLJJNn3pI5fJTQ/+Tc2CjRaT/SRQp0GiwB1djiZImtHTkzSfHdE5ZTPB3631auHtWqtL9BDxVf2g5wqJjNGN9UGK9xe6UEHCTRBAhmIHDpziaJvCEsHrUZbWBx2409JdLSNH2WnDfYGfr2lqLS0xG4KlWPR2ulXU/E7ix1BS6nT7So1ayCdqE2lPMXWIih4WEpKy6CYXqgPVuAHVF7I21riDhhsJaWlxWadz6koyMR920O+Mru9Ank4XE5HcaFGvvXIJ+DFD4lBrVIiM8/e4ffiE2AwGmQOWoNBD03YREo9Mk7UAbWeoEZXoBo6GRRFB5/XH44R/j/sE01QoBTk9+FnEldI+TWs9eOn3IUio66cKhYtL7v/81B0wFniCFmLpSyWvCLhH3h9zaAgeUyA9UA8NBYEymyFQmAuTCC5psog+7DcmQTLS8r8hcX2iAZZhlXxlVmMJpMiiRfCpiGQYer6iZ47E1W9wv1Aq4t0hKDy7kBTzF1kQZOVf5YilZGV34MXz2DUOO2RjmCyFrv9qtxinJl0spikmd3W8crXkZlfkbzVHyO9waDVBHx+1XgPk0VG9AQgMdlK1B/Y2nn73RjbFJgt+N4kurxu4DJZGkR2r1cmYTLqr6hWuZGfb6OiOlNRVlLuDQShhVlRWlaBOQt7YS0mkOACAb/P4youcQU10FDU1wquj5vcmIRrlPR7UsevUh3NUYCqeYq7cM+sI2WuwbkxSefdidawwlke1BbKacaotyaEfhDweyvKiso8kGRNkZcnt4rJ3DVQnIX9WYWvxocuEmhyBDIQOTA4hr43LnxRtYrqt7igUi8uqN6XKpYSbsW814JFChcUq71lytsnr5DeVlYSHgVYIDhog+U1Qnt4DcJc6iy2WsxIXVzmgk2DTOgpK/NqhG+4sgAAQABJREFUTCVOWP5aYM7pdNgKguWltRYxwnF9QZPDpZhUG6HlXeJUG4KHPyrh+QeZa+6OQADfWGXqy1uKMR20gjU6Pfjg25NG3nIkE3DbTUZzqTeEMZNW+XIh00gmSnY+p9VkhF66Ro/Q6OyJrgA34Z+HaEk+jy+aSomVQ8WiOWb3f85FK7+GPmV0XWf5MJ7BfJPRmt5sqzLvFIJto1tjKXU4yootOq/TblOLvXUWmG2EnJl4S0srDPbiGvk+/ZpATxiWrZDky0owAoe1LIT3mPXF9DPLY8ycmajq4nfB7kBnsRUKv4Af758f5h5+Q1GZ01FqNwZgVW13B0Vw0O/HuLLM7giZSxywgbIV+NzF1uIkU7FBt7MihDXEpJOaItN8/A1/N5K+8nWUEJ5W1WMGOlRRXGgsVGZkan+MtDqYthYpHaG0CCuiHleR1V4eQVI77/AihiHpIobX5cYsr6UBgKBa9clEbyhAP1GWOiJXKPwRxRdY3OutZWUWgx+gCk2KaY9ba4eRb+3vkrfUbCosNCubDPgLCkscDaFsnxOTcNOSf0/q+FWKkkr8P36VFKB+GRpQLKjEr5H0qx9HTkzqfHdq6gxLTeVzECdxhPAjXoiOYLU7YAJlc5RadCJRThWrKRfjL/ziN8haq6pQOkkgvwSyMB9PUoFQhRsr8XabahZWWQp0eSCWR+V9DcwN8UkSlzL6L68ZmivTSyF/hTdkUuUQjeuFf61ZNaPFXABbcMzXYlFBdRmstto/CDVhykA+DQWUmgRpuJSVBkzqaDWwTvWFglp8Xs3KHE/Yv870ISWaDvHxXQ6GgvijMYrU8AcNkTs+2JiUDYW8mKxUQqOZKwZl5a6yIkdBicWgDWAuzhUIF63UKbeK1VnzVBFyLtpbVlpRYC+ve0ATrCguLg8ai0sT6RrFVzHMMxTQ2t3OIoMSXGjSBUzFLkdFsaMwPno+fXJl4isrcWtsLps+m0oVlrhk88xWs8FqLsXmJ/Ysc8umBgnT5MpElanPUVTm01uccrQXftSBoKGsvNSsvDKmwoJgodXlcPlhEa68HXhHAqFCVyQFvkoBk93tcBebrJFxgsw94CoqwRCitCSckfSuH0cdr3zqQiOJwxMRAcUgPqCxKCmEPxzGYqcjmgWmdYy2wuKKMqfPLN6GaAj+Dy9iGIuTCfLKLG8qvRJVTnlw1icTvdmCJ+sqKTFhVV6PHc5KSrziG4oOonQcTK4ZCqBnB4HToPGXO0vLbHaty2kLfz9E4ww2h7MQCx1eN4aiBZh9aoArJyaoX6rvSTjv5L9KqVun6No5HY7iMkOJ1ajDNk3YAUQhEn7ZUyfNNTQnJpHEyd8dWbugInHoFP3pmEtbWOR04GfcX4EVQiy3yg9JThVTFxJWaAspmhsyb3Uw3STQBAjkT+QILyIEsKup/FUTzdcG8YpEL/WQP7yEHdJEv+0GW3FheZHTanQpKyjYctBqMxui3+8gZi21poLoLbILL1f4FYlFH81c+b+gtgSiDsrJjZ+UyFdTixdf/q5oo59TnbXMbfDrsO1EIDyBrKpp8nLDkZQPkrHE7bIEC7B+5FFKCZOJ/od7c5kbW7kaIIqV406uWxsxo+a340fQXKaUYbCW2XVFZYFwnXKrWPIqpxGSY9Ew4nCFLC5lZJj68jns9nKt2YEFr9QRo6HhikFbpMb8RafsOeJRJjYj+/JEo2b9f730k4Cr1OEvLHMas66WKmEBtq4qLfJAx8xmVnnXo7NemNTUN1heZCvzY5fJmo3exGgReuRm+R6Gpz/cHl/IrnxFwl2h0CqBhk28yrFplab2UAJbatlKPHqby9EgOkSRNz/5K1/T6gSuyGcjhIkfp8uEPcgMGl854kX8Y1PoLEXmEqtb2aVMpdqpxBKLGPYkTU42yxubf6b3WFpQLCdw1frE1i8TLGM4fNgpu8jqUkrWmYqLLc4SlzbyhfeV2azOAodHaA9joaMgBGXMUpfFWSOaYhExrK2LhQ5TsdmGLQcrVD1RyTX/l3ikWfYTTervSfiVSf6rVEdjDEWOUr+9GPaUDiWm3lxarC/BnozyRawjfd3Be6WfyGoFymHjpLPW/kyIUJiXFSquQovZaS202jSRjStze1gib/4lgWZCIH8iRxiI0e6KnQ3U6gzpsdKbHRUeb0W5p8JTUeEqK3c54RHZjTC9HGpG44niKzpLnsiPWqLwFH4Bp62w1BeJUGB3l8t5wbCqU1gRSmdQtrmDHoCyKJ+ecUFY7cEftjeJagCLrFBTXDVaEQXhLfQi69OqvA02Z4VNmc4MQdPNoMdphoosVqAkzqliSgbZX7kUDW05h89oLymArTNqADXp8F9oUkcsNyPVCrhttjKfqcRdBuvEdC+lB2ChS5UgLDyKWah0M0kVr376CZQKPQUWCByCiejCcAdDNbJvqlrFhGnDHQg2xA0zWVY/TKJtCnlLsSuszup01jIFF69OLQsfYfOqwNNG+oB6GCQmEGO+DtjaEttfF5a5hRV6tMx6/L/uVz5F4eHnCqMDRMHch1GJGdbpMCqqnoku9ITIK6Z6JTQaT3gRI5naVHiWV1uzYUaijLPwU9RSij2RhFDP9ZSGGwCPemaiKyxxe4ugC6SY1RkLdBX2Uo0+8lHxujDVY7SZwp9jpW5aZY7CrWwZYi1U7mtf2K+8UOeGil+pGHvWDs3nXU5M6viehPNO/qtUZzMKLGXllqACFCtEBn3IZQul+XtYZ9aIsNf6iaic3+3yavQ2S7RzJq6yHls4YPHMDWHWkGMHVhcQ/jVUbWagDqObBJoGgfyJHGG1WKxFwDA3+6Yrysb4Z9dg6tJcVO4sDxValO+9oiJaEYBmkTH69Q9ra+uT/ZgmqkGBorcbwLYzpiS/wIkSCT+9ucRZEBmPaGHvXRNTMeh2K9t0RD9CYctxrVExA6/z0uMXTuNV7L2Nkd98r6IFG7UYD1e4QvEpiGQV1jqG5WfkVvynNyjWNbgCFTiUoSCyNJR2xTAqgcJZWEwQ+eX8N+2iE5QU9AOzr8xqKlMFessspjJTqdcZ7gsYSFUoivd6u8uRhn25Kp8ChRws/CCQRXzDesvxA/dsmdRLP0Flghq/y1boUjVFA/Mep6Go3F33apA6leIOhYcTtSSv2CiJ7hsVk0gFsYmEzanIBCU1o8JwED5GMK8KG4toI3HDCglC7tBgaIm5/PDgPEGo8IJ9FYRaY7HbgV3kklzZMkmSnbJIWwBz5Tpf+STpldQVirEqdl0KXzD1wnBPYZHwUtaOcRRJ5NsTiRIqh+VKcrUpMcubQK8kWkKWTCJqKeFctNpan9gGYKKYKYoGeJTNBqOWv0LGj7ZM/B+qfVv7Ljx7Eaf6EkYiJP3a0bO+y6WfoDYpvyd1/CqlV2cJNFRerhhZxe3aki2TvdtPwjZOBfboj31SFoquAmaIRF/J5WGpSwj68EtdX2oc6oLoJoH6I5CJ+Xi0FpgmDg/Vovfif12h2YSRkSNmG6noe1c7cqK7Wt9yXQFG4zUXdg7BEoXbjZ9IcXndyn6QKsuQaEDy//VGyBrhTfySx0kWgrSwDAtfOG9NFQutxuxzuTNqeYoDwzzYzyv2mxTACXb2ohKYOte6xA6Cyu4v4kKrYJwS3pITHmLjT4/THRShkcGAuTDhCAL2sQ6vBiafhnDsNCsWdBUprSquEEXk5W+aRSdkUmApcaouR5EyliywljmdUctpzGvDDlhrcTqLpPyZZrX1yg6YAdWWBYFyGBphS1SBLJpLDkzqo5/oCotVRHDWpDIEVoQbZ0kyZftoS5T/Q4qkrrq8Dhhaa0x4WTO59h6TkKcMrw72246triITlHqNsMVJIBMoelT4YNQYR4c3qoRSfjgX6FFhK2sPlLIjmYrNJ2s6QliordDblW0qYsuV9zkwkXnEONJ85ZMwCX85/OWYhxUXjsjElhPKFyp8BTCRr7r8Tgf0NI0waFJ54luW2Dg2EgcSB3Z9MyfSKwnHyJ6JopYSuUy1VGjrlYm66XDDjMwdRPMin9jwijE+ypIbDBa9NXNCMOCTIUpGATfmyDA9FqOnBmN+XEXuaGeLKTOb21yY1Pk9Sf2rlFF1cdQgto/BzvHGmGTZM9mb/SRs4xS/jxt2iQzUap/XqbyDBkVWxpXmwwrHTfUHp5Vi+TJfKsCpSmIYCdQbgSxWOfC7rcX5rMUujQXTZ9CbMopPrM5aUuy2lNotNqvVjIl3bBfnwemsJqenJPaDk6g5FcXGkkChudCESTkc7ul0+LUmuxxdm3D2bXkpNp0J4LDgkNcNQ1BdYZmt9lgxUbYqP6O5UOcsx6I4FsfzdumxlavTijPEi+1WAw5+wG4VxuIiWe9IOUFveXlFQF9g09QeHqFZpvKSUpsNzdL53U5XQGcplaMcnRknB1gc2DzYbzVpcfo4zBNxLoMuWnnM/pd4cV66PnziaYUf+zc67AWR0PQqJpSKkmh7R8vJ9P/0ik7MJCwY1hSoLcfIUY/DOCIDI0Vx3+nDEcp64MBnPXLheODIzG4QVpzYVAC7pgTxx+1wBNBHDdjKSI+oBdZisxN209YQjm7RgrfTi6dlN0WzEf83NiY4S11dQ71Hi3oqSApkvXEYboUfYx6l0VCMcSjLODhR2Yz3w4fdpd3YtgE/gDpEKHd7AlpTsVr9MQCp1gujKmVyXeMDMh+WFXFaTHTpDb4RE+S90U+CPo/yzmqtpValItELWvbFFUG9yRDCidFRT2xPYbWEq43JULuhApuS2f12sz7ogWl4EMYLVnBRLp21SHlrcVS3HbowOKfb4VFercgqmt9pt7sDMPTRAqVHpMDIwWhRHeAO3/roJ3W98qIySZholC3N3EVY+gnZzQWBcgfeFBN26xKJ/O4iswOG9EbREaDB6tfAgM4WQRLJGf1Dk1xtyq9oGqXSK2liTPAQy+1mp7ZQWW/G8eHlngB+VuS+7war3eQsxu7tdh/Mx7UwH8cnWFdYFFlc9ZRainx4EcNEg74KNz7BWhiiR4ALoko/CbuUtzZvVy79pM7vSepfJUzfp/rGQpHSVqHDr7gu5KvAlE4Q2zoUxRBpfEzwQU317ojnBokDM4JFcRM9eLMszpDyQTbodcop9OhGGtUvdXoPq66+4a3wYKOs2MnMulIxnAQaGYFsTizcvHDGxLE47Dd81T7heeWCGZPOGY0jW3EG6ejxE2+cMW9Z5CzW8EGv6uNqwwe9TpRHta5dcO+UiWNF0iEjx06c9kY0ZaSK25fMvjGa9diJ985bGVN15bzpoapzT2OClVvlhFHVCcW1YmR5+riSx9oFER5DR58z5dlEBx4vU04KT3yWb02z0Oh7F8QejL15ycwp48OsR46fNHOhPCZXKXfzwnsnjo/AHh8PLJ2KLcRx3ENG1xxQrGSblysnJjU1EIeI15w+Hu404X5X60/NecDhQ2RrheFGfaQ2+tlEARRP68bZCZ5WI2cS7qi1Tx/frJx5H3tFXky8rJPOGTsy/EoOGTp6/KQZC1bW8FVcS5SDu2Ou2GOn9x6T8BHleIQ1BxqHa68c1Bt/1Zz4i0jblzwrPxhKs2Nerc0L8WaF3x7ltZ2pOm883OniMh95Y/RU73AFqqvri0mqV14UnYRJOHDlvGkTxypPe+ho5ZMQqSv+244vCT7bkY4wMvEHI/bw6Jrkiks5AHlILca1w5scE1R/2ewpeD2Upx3uBgtjekn1ynn3Top8ZBFh0gxVhLULZt44Ub5bI8eiF8V2sii0oVPyf3Z9bv1EPrkE3xOls0R/bBP8KqX8xqKbyRHA2In4wNb6yYqUGu5IjY9J0ncnXO3w+37Os7EdJAwLY5fxo8W7NVR5teJ+V+p+WCgj1enjyoHn9fFDLfsBHSTQEAQ0DVFI4ylj8xsThwydJMUcdcWEyPFGREBShzRjd/jTP3F2/Fe0Gbe5rqaRSTwhMiGTeALxPuwncUzC4mFKMS0uSbP3IJPEj3jBpCTzktXbF2BuMJG4kzgj+pJAYyWQjS1HI1unyaQ6OkuxXV/hqH0kuioDTzGMsw32CpVXc3Yq5zSp1E2ac1PTbhuZxKMiEzKJJxDvw34SxySEI6XCWn5xIfuuB5nEPXtPEcYdyQceAZcD2/LFKEHGZUIPEmj8BFpAFmr8tWyQGgZxskh4j4nw3n551bxtkPqzEBIgARIgARIggSZGACd3+sMnfykbYtbaOaeJNYTVJYHUBChypObDUBIgARIgARIgARIgARIggZwI7GOKVTmxYmISIAESIAESIAESIAESIIGMCVDkyBgZE5AACZAACZAACZAACZAACaRPgCJH+qwYkwRIgARIgARIgARIgARIIGMCFDkyRsYEJEACJEACJEACJEACJEAC6ROgyJE+K8YkARIgARIgARIgARIgARLImABFjoyRMQEJkAAJkAAJkAAJkAAJkED6BChypM+KMUmABEiABEiABEiABEiABDImQJEjY2RMQAIkQAIkQAIkQAIkQAIkkD4Bihzps2JMEiABEiABEiABEiABEiCBjAlQ5MgYGROQAAmQAAmQAAmQAAmQAAmkT4AiR/qsGJMESIAESIAESIAESIAESCBjAhQ5MkbGBCRAAiRAAiRAAiRAAiRAAukToMiRPivGJAESIAESIAESIAESIAESyJgARY6MkTEBCZAACZAACZAACZAACZBA+gQocqTPijFJgARIgARIgARIgARIgAQyJkCRI2NkTEACJEACJEACJEACJEACJJA+AYoc6bNiTBIgARIgARIgARIgARIggYwJUOTIGBkTkAAJkAAJkAAJkAAJkAAJpE+AIkf6rBiTBEiABEiABEiABEiABEggYwIUOTJGxgQkQAIkQAIkQAIkQAIkQALpE6DIkT4rxiQBEiABEiABEiABEiABEsiYAEWOjJExAQmQAAmQAAmQAAmQAAmQQPoEKHKkz4oxSYAESIAESIAESIAESIAEMibQOmGKVatWJfSnJwmQAAmQAAmQAAmQAAmQAAmoCQwYMEB9G+9OLHIgXs+ePeNj04cESIAESIAESIAESIAESIAEJIHKykrpTuagYlUyMvQnARIgARIgARIgARIgARLIAwGKHHmAyCxIgARIgARIgARIgARIgASSEaDIkYwM/UmABEiABEiABEiABEiABPJAgCJHHiAyCxIgARIgARIgARIgARIggWQEKHIkI0N/EiABEiABEiABEiABEiCBPBCgyJEHiMyCBEiABEiABEiABEiABEggGQGKHMnI0J8ESIAESIAESIAESIAESCAPBChy5AEisyABEiABEiABEiABEiABEkhGoEFFjmuvvfYv0auioiJZnRqt/+LFi1H9zz77LJca4mR3ZOJ2u2Myeeyxx+C/e/fuGP+meLt8+fLoc/7L2WefXU9NyMvjqKe6ZZHtPO/6jra33/u27sN0bv/l9hHeEdWa6ixKySIJXlU8zU8++SRZ2t3Vuw/78rDpq6cni0B/EiABEiABEiCBfZxAg4oc//d///fMM8/cdNNN+zj0Zt/8fv364UHjOuSQQ/ZKYzds2AAR7qeffqqP0hf/tPnuN5Zv21FVH5nXmee6neseW/PY1L5TW2haxET++uuv0ert27fH+Nf3besWra/rex1EjuDuYH2XxfxJgARIgARIgASaIoEGFTkGDx589NFHGwyGpkgKdT7qqKO+/PJLk8lUH/WfNGkSMm/dunV9ZN7AeXbo0AEPGleXLl3qr+gUjwMix8yZM3/++ef6KH3xz8F73vxx2469sx71ZODJ9q3aT+gxIb5pEDnQ6oYXOVCTc3udu3PPzmfXPRtfK/qQAAmQAAmQAAmQQIOKHE0dd8uWLdu1a4e/9dEQCBvIvD5ybq551uvjaJzQ9mj2vLj+xfHdxmNhoVHVsEPLDqd1O+2F9S80qlqxMiRAAiRAAiRAAo2EQGaj50cfffSII47YtGmTuvZms/nKK68UPj6f7+abb4bP8OHDjz/++BtuuGHNmjXqyCncwshh7ty5Ms7dd989YsQIeQvHhx9+eP755x955JGjRo268cYbMZmtDv3iiy9sNhuCRo4cedZZZ73wQt4GQGiUNE6It+U46aSTiouLZ8+ePXbsWFT48ssvDwQC6orNmTPn1FNPBZOLL774t99+UwfBfcopp8jME9pygOEtt9wyevRo5HDmmWc+8cQTe/bskZmkZoKi//73v2NBAI/jkksuia+8zKeBHQsXLjzvvPPQomOOOeb6669fu3atugJer/ecc85B6BlnnPHxxx+DMB6BjJDicQh7ITx9REa2AmyMPUnWTPpf/R7MLW6cvRSZD5g8H278u9m1TFZsa2j3P1/6fuCU+V0vm3fULR85P/xVBsGB5Jc/6Z364vcHXP1eb/u7Fz3+1frfd6gjqN2f/rCp5xXllz3p3bOnxmbjqz+/+m3nbyfrTlbHhPu4445DS++//364TzjhBNHqBx98UEbbtm3bvffeiy40bNiw8ePHq98ykRzqjvfcc8+xxx6LtSlwi3mzZD5w4C1Dd0J8dSeE/0m6k37Y/sOybTU01KnoJgESIAESIAES2JcJZDZXisExxrswJ8UoVlCDjIExNJSCxC1sTL/66quTTz55wIABGLW4XK6JEyf+97//zcv8/VtvvYWxphgS/fHHHy+//PKll1766quvisxRDbvdPnDgwMmTJ2PFABVDPS+88MK8PN3LLrvMYrEgTzGqi88TA2hIYnfccUcwGLzzzjtvu+22J598UkR77733SkpKIIqgMt988028KcsDDzywY8cOGJSjgfE5Q94499xzoS2DcfMBBxzg9/tffPFFSFai1amZlJeXo2gIQhdccMGff/65ZMkSj8eDIX58KTE+lQtbLr5CG+MpbodcvWvQpF0Jg9L3hEQBMbV///5TpkzZsmXL888/v3TpUoyDoZGFTNavX48etd9++1199dVbt24FsZ07d6ozT/E4YC8EXL/++uu0adPgxuAYCTt27CiTZ80EObwy+chdVdXuL9Y+8f6qVyYf1bm98vr061YD6qKZS979ev2lJ/Y/tO9+b34ZuOrZb3ZX7bnspAGy9DmL155g6Pb6tSM2/rnzqme+OeeRLz7417EtYo0yNJ//HJww4/NTjb2euGxoy5Y1wZ9tUbYuGNZpmMxQOB555BEIq+hpkHvh7tSpE/z1er2MNnXq1I8++ghdaNCgQfPnzwccxIdQJyMAC7oo9LI2b96MULxEL730Uou4mqEDX3XVVRBd7rrrrpjlvuEdhyM31PCQDnvHgEe2hQ4SIAESIAESIIHGRiAzkWPIkCEFBQUYskiRA6McjO9PPPFE0TDMwWMiv1WrVuJ26NChV1xxBYb+GPXm2HIMPTFNixncxx9/XGSFaXsMod55552//e1v8MH+RaFQqLS0FFKHiJBwxSC7aiBPmW3CHCAzzJgxQwxtsV8TBDMM8cXID26MrfG3bdu2mNfHFPK7776rzgSUcPv555+rPaW7rKwMo8BXXnlFmmJD0BImH3UywQJI9+7dH3roIZHbRRddlEcmsoZZOPAQ27Rp43Q6u3XrhuQHH3wwsLz++usQjXCL5Sk0DaNnwbx3796Q5dSlhJ9G5Cmr/eGGvRD+du7cGX8POuggCKgxEXJhMupgpbbf/LIFf02DdD0611KEg1l5+dfrrztt4J1nK2PuS08ccFzJx3e7f7SN7t+6VURsgPjwwv8N79yhDSLcf96hEFHmf1f518N74lZeX6/aYnlo8ehDuj8zaVgrlbyBCMu3L2+laXVAuwNkZOHAchAcEInx12g0CqoyDmw8IG9gjeu6666DJ94aXHgEEyZMEB0JnpAu0E8g5sGNJTuIKJ9++ikWT2QmcCxbtgyiIJDed9998h2XEQa2V56Ib7tSB14kQAIkQAIkQAIkoCbQUn2Tjvuvf/0rZsoxnhaRIX5gCKLT6cRtr169xFikuroao3BhKQ6NqXRyTh0HhWJlA0MlDJrFhXEqioPJtUgoZv0heMh85HBK+tSf4/DDD5dT6ZDKUBCm6vEXU/gYCGLZB/KGKP30008XjnT+oqULFiyAoCXlDaTq0aOHgJwOE0DDSFGWlSaTHkfvGevZlvDfwEtyXeKoqqrCU0Oj5Mh4zJgxWN9YtGiRqCe0v6AaJGU86KTJ+ufuQD/JjkmdRX+4bCPinHdsPxETYsbZpr7rt+xYuvoPmXbU4G5C3oDPKUf0wt+PltVSDlz62x9nPrjosH77vXDVcCmoyOQbd23s2qarvE3TIcBiOkDERx8YN27cxo0b1Tt6QWgR8gbiCElD/SrB88cff8T0AV46SCYJexHMOdq1aLdxtwKBFwmQAAmQAAmQAAmoCWS2yoGU0K166qmnMGl62mmnrVy5EpsCYe5c5ojBHLZGnTdv3rp163btioxNIXvICFk7fvnlF6SFpk1MDlBkEj4Y1sPOBPoeDocDE73YVwqrH0IOiUlSH7dy9IzMhXQB7Xm4hYmCWsWlT58+6VcA40KoVGG2PmGSOplAlQtLTP/4xz8OPPBACEVABKOIhFnFeuLQh2R7wNZYFsQmSvMejwxdQs0BQ1hIj+gzIgdYwsAaR+aGobAcDUvPrB3ZM6mryDWbQ4hyQPf2MqJwr94UOqK/suqCq3eXmoWR/dq37tC21ZrNtd6Of726DCsbP63b+mdod7dOETFVpBV/sziOQ0i/auDCDc5y+zjIsbIUrM5ptVqRSnpOnz4dgi70+tCxpfwsQ7OuW0wOvCUBEiABEiABEmiWBDIWOTDdDjWh999/HyIHtKowClGPYqG5gQlszIZi9I9Zf0gdsDrAikd27DAdHpMQ4579999f7SkHo5AuoJCDqVmYVcCkBMsvb7/99nPPPRejca5Om0d3vNa7yFwYISQLrbMC6aBLwQSyCiDA/Brz3FAoguEHrCCKiorqLHfD5/Voy5FOo+qsYdYRsmZSZ4nxvTy+pbuqauz+keHuPdVtW0d0rkT+hYf2mDZhyMl3f3btC98/d2WszUb3Nt2Du4KQOuIP5UhRvfhqxPvICQKRD149aL6p84QMDwMPCGyQ6tWG6TLOtj3bdlbv7N66u/ShgwRIgARIgARIgAQEgYxFDiTDZDnswjFRLbSqunaNaHrAXhzDfZgFw4xb5I5lkHjQYoo0XpwQpsPqUwUqK2tOYoblNLKCXAGVm/g8hQ/kH2xXhQuSDywrnn76aegUHXbYYTI+CoWVOQQASE3Ss14dYn1DvYFVzNZMqUvH3DPmm1esWJEwWjpMIPhhAzFcEH4gCsJAIh2RI2FxWXhi+QK6YTEJ0WHQB9QcEAdz6tLuAtDUG53BrgOrZzGZpL5NLePlyCTOpjpSl75dFTvyXzduP6SvYhGB67dNyrrH/mH/sIfmlw3bhQN/1wVDO3fv6detZlUEnpPNA48aqLvxzMF3vbF8/JH6vx9da01sSPshVZqqX3f82r9dgg6crNUwhkHOAA7bcVG66JDCX/iogeNFhgSiXppDHOwDgYUy2HLgtEFoV8ZbZ/0c+hnRDO0NIkP+JQESIAESIAESIAFJIGNbDqTEaAPKFdhpFLsMQc9K5iVGPGo9b0gmMlQ6hFKHUAqSnnBANwlpkafwhM20VO6HDyZZoe/x7LPPqoewEHvkbp6wmlDnBlUi3Korg1tsKoXFmYysKdR5ZuHu2bMnagLZTM4iY/+u9PNB/WGajwWKH374QaYCGbE/aUZMMMrHApEwApFZJXP0HLVn3LfbEv7LaLsqPGuMdGP2m0IdsM0xdPPkbstYNEOPkspUEBq/++47Ka9iM6Vk9UzmL+xqZN9QR1P3k2RMsOEV7Kex85g6oXR3bq9M/wfi9rc94RBlgv/lT38TMXdXVb/qWd2zczsYZsi0X6wI/rxuq7h9bdFaOEQqGUE4/nn6oKH9O1/7wncxu+iO6jwKEZb8uSQmvrgV2xWoBXXhL2Q5uR8a3iCsfeF1E6b2Is63334rba6wJQM8pQQoIoi/2AAaulhY6Ihniw18EUfUUJ2EbhIgARIgARIgARLIZpUD6wZ9+/Z9+OGHobOk1qrC5kiYB8XaAhYToJqPFQ+1fapkjZl7jDgRDZob2FkIii5iIQIj0cLCQozIoSuFGdY33ngDA1Y5+YrhFDbS+de//oUtUDFn3759e8z9Q7MLp3NAikDmmL/H2BT16devH6bMoWQFU9cYKwgxUs/UwAO2B9iECkWIHYEw+heSDEZscoVHti7egTUfVBLTw1gdwh6jMTtTYXQr5vtXr16NtAgVUgEQCQcOmoC2GAxmYJKBxRmIav/5z3/+97//oRV1MsE2UMgTQ3kwx4IPEqr3RY2vat59IJG+9tpr2OUW26oicxiCC3UdLIVhZzMo3WHTJLFJLnqU3AYNjcXexyAGB0QR7IYsBtOieuk8DghX6IFQq0NCdEv8hXmPSJ4Ok99//x32SFgEuPXWW+OZjBykgy7UDS8vveKkAR21rQf0aH9wn06INnJQV+w9NeOdFX+Eqg7Zv9NbX6379tc/pl9wmNoKHOYZZz64GAk3/bnzkXdXjhrc9XhDAk0kJMH2uMff/snk5751TVb2+RXX8E7D+7XtNz84f3z38VG/mv9FG7GdlNVqxZohkArBG/44cANGVlgvwhsBAQ/9GftNqwVy7ACBRTAkRNvBDcd3xByJI4pBEpyWg16EPcSwG29N2RrN/M3zB7cffGiHQ9WedJMACZAACZAACZAACGQjciAZNCuwwynmQTGeU3OEXQFGPDg4AoN7zMFjm3/1MoiMie1usfc/dJ+wTIF9UaXuEw68w0a3EDYwBYsRJ1Y8cFqFTIWTMTB0njVrFjachSdEC2zCg6G5iICBNUbVSItFACSH9HLNNdeoB1WIJpZQxKa6Mts6HZhxl6piiCz3nP33v/+NUupMjt2BoC0Gm3towMPEBW1H02QqjMgxFpS3mEUWbqzwiKl6jJ4hTaEsCAzQL8I4EkKX1LNPzQTn6AEIRpAYayIfDPRhyyHLagAH1itwHCTEP7EvMHCJmmN/JPQNnCwJwRWyE3avgiQg2otaQVrAI8Z+x0CNp4wj6tTj43QeB4RhnHaCQ1RwLAnWlw499FDIMKK9uTOBgPGI7fDpb/+MLW6r9lRPMQ+8x3qIyPzFq4ZPm/PD64vXOLfuGtir46O2wy8prKUBNW5Yrz467fR3ft6+s+r0Yb0fuqBG6y/mcRzev3PxmYPvfGM5lk3Oi+6C1VLT8oJeFzy17qkZA2fEH0AOAQOvFYR5LNHgBYREB4fIFi8mUOMp4PAT6OMhGiRYdYlYTAN2dEW8gJDb40+PkZGxUzZeB3RILJvIXbC2Vm0t31x+8wE3y2h0kAAJ/D975wEfVbH98SAIoYcihGooQlSEICgLqAQVjKIQG4QnaOyx568+jfreI/bYY3kYFCVW8lQkYiEK6AoIERCiIAQQCU1CDz30/3f3ZIeb3ezNbgpSzv3ks5k7d8qZ38ydOWfOOXMVAUVAEVAEFAGDQBVfR1KeYWKBRZBJdNwEYPr5wBkb2F526sdNA4/LhjBEEVEQTUVBcey2ka+PX35205E3dS5PE9bvXd9pbqfX2r0Wd0pcecqx5uVUXMQMr4+fWBOUGn4r/63HVz6+4OwFDaoFfYZvqYVrAkVAEVAEFAFFQBE4mhHAqJuPgNtTWBZfDvsSj+anc+bMYV9W5Y2juY+ENuP6wi1noHErH0w8+imvbAqbVG9yV/O7XlrzUhlOy60k2vYf2p+6JvX+FvervFFJCGuxioAioAgoAorAsY5AGQ2rjtFml+jOfoy25fgmG8kQjx08lfkyCTZpuM2IN8jx3eoAWzei9Qj+Akx8BJJh4rWwW9GpD0egOq1CEVAEFAFFQBFQBI45BE4skeOY654TlmB8lzk3CS8Uzgk4//zz8Ukw7isnLCbacEVAEVAEFAFFQBFQBI5RBE4sX45jtJOUbEVAEVAEFAFFQBFQBBQBReDoREB9OY7OflGqFAFFQBFQBBQBRUARUAQUgRMIgRPLffwE6lhtqiKgCCgCioAioAgoAoqAInB0IKAix9HRD0qFIqAIKAKKgCKgCCgCioAicJwicERFDj6k3clzOZ3O4xRSbZYiUGEIFOzaVWFlaUGKgCKgCCgCioAioAj8TQgc0ROr7rzzTr6cvXTpUr7A/Te1t1zVvv7dd+u2bn3q2msXrF798NixH955Z4PatctVomZWBIojcPDQoUnz5zsXLVqxceOOwsKa1aun3347v8VT6Z0ioAgoAoqAIqAIKALHEgJHVOTg6wpgU7Vq1WMJIQutuX/95WjfnojFa9c2rV9f5Q0LNhqsAAS27d79xPjxJ1eteuGZZ57evHnDOnVqqbBRAbhqEYqAIqAIKAKKgCLwNyNwREWOv7mt5au+cN++lRs3xl9wAcUge0Q2b16+8jS3IlAMgX0HDjw5fvz5HTsO6tat2AO9UQQUAUVAEVAEFAFF4BhHIDiR4/XXX+dT0LhhNGzY0DScr0S3adPmzTffJCY3N/f999+fO3fu+vXra9eu3bNnz8TExOaBcecrVqwYMGDA448/fvXVV0vhTz/9dGZm5uzZs01dP/7441tvvUUt1atXv+CCC/75z382btzYPJ0zZ84bb7yxePHigwcPtmrVatCgQcOHDzdPyxzYs39/4d69uWvXYvQSXr/+1l27Fv/112VRUQSweKleLSAMv5s//4tffvlry5ZGdepc1KnT4B49qp5U5Ejz05Ilz3zxhRd5D11+eZ/TTzeRPyxc+NW8ecs3bAg9+eS2TZoMcTjOatVKnkLe2Bkzfly0aOvu3c3Dwob26tW7Qwd5tH7bthtHjSKGeuf8+adsnyM1marTpkz5cu5cU4sEjMHYm5MnT/n990/vu6+K+8HsP/9MHjfuH716Xde7NxE8evmbb+6/7DKatmTtWtrFI7bnTWk2hJHm359+OjcvTxKTd0DXrjTK5P1z/XraO3/Vqo3bt9euUeOctm1v7NOnXs2akmD64sXPTpjw6vXXt2/aVGIe/PjjaiedlBIXh6Jg6BtvJFx00RVnn21KwxzuprfeuqtfP3rNRPoL3DlmDEZNXk+fHTKkc+vWEolZHYCj6aIvukZE3Nq3ryHMK5fX7XUjR/Zo1+7eSy4x8dL1YHjRmWd++9tvVapUocviR43avGMHKo5rzj338q5dJTF9MTU3d+zdd5u8BMD/l+XLP7rrLsKf/vxz+tSp8rRuzZrd2rS5p39/KJSYLTt3MvxInL9160lVqnQID78pOrrNKafIUwHt5ujoq845R2LemzZt3KxZ4xITGTPEgEmTevWSPS/mO07n57NnCyaE6SlSUiwd+v60aWu2bOnUsiUDWO3BBEz9VQQUAUVAEVAEFIGA2GUDU//+/UeNGoXIcdVVV0kk3P/q1atvv/12uZ0+fTryxsUXX3zqqadu3LgxIyPjhhtu+Oqrr2rUqGEKKXNgwoQJjz766LnnnvvAAw9s3779448/vvnmmz/55BMpHDISEhLatm177733VqtWDcKgs0JEjrTJk+GqheyEd9+VwAfTp/P3WGxsL7e1mH2jRjud42fP7nvGGXCQv61c+eH06TWqVTPsHSLEv2JjKSHlyy/Pjojof9ZZhM9s2dKUiQ9J1q+/YtN1S3T0rr17YexyVqwQkYOt8cc++QQGfeDZZ59Srx5uAEgvrwwfDk9J9rwNG/jNnDNn+HnnwdDD4H7000+YhBlGFpK6tG4Njzjmxx+v7dGjY7NmcL3GYAwJJ+KUU0TegPWHwaU0YoQwKRzm+5a+feFHP54x4+WJE2mLJLAnjBIoPOrUU6EEQW7ir7/CqtKiM1q0kMLhaFdv3ozsFB4WtmrTpgm//LJjz57HBg2Sp+RFajrVI20ecrf04k6deAoU/LZp0kRSmvQEDOXWR15hyKbe6DPOOM8jtk1fssS5cKHJO3PpUhDu2Lz5TX36wL6DLR4XIzyvg1dpXrcRjRtDuYmEbEBr3bgxvUAkIgfEI+2ACV3wdU4OYga8u1RNRq9GkYVIQxhhciFWEY+ohoDRulEjI8UhLiKUOk47LaZLFwjm6YjPPht9660iMAto9J2hjZhWjRqJvCGY9HCbFJJgzvLl9A4BqZqUZETemLVs2eOff969bVuGLrAgAl1//vmmQA0oAoqAIqAIKAKKwImMQHAiR8eOHSMiIiZPnmxEjkmTJsHf9+3bV0AcOHDgjTfeaLw1unTpctttt8H6X2LZ2S0b3Dt37sTpHM3GyJEjpYTzzz9/8ODB33zzzZVXXknMrFmzCgsLU1JSkDokwf79+8tWl1cutsYviIxEbGjeoMFlXbrAvU1esOCRgQNJdrqHRfbKYr1FxkDeQDOAEoD4S7t0ydu4ERWBETmahYXxx/b2/gMH4Nh6Fpdhsn77DXnDugPN5jdco1TxSXb2ojVrnhkyBMmBGOSfYSNHohIRkUMYXOQNsdWBR4evhWk2IgcyBrkghl8UFDCpUqz8wv7ScMJIBc9/9RV74YTN1rjwqY8MGtTOzapCISX/vGyZcKL2hFEU++5Xn3uuNJby53k0HlI1Og1UHxLmd/fevezxm1ukHcMQE7lm82YSCGEiCBkiJYtEGu7clOMbQLw5cPAg0p3phRlLl0KJ6DEgOzUrC3XHE9dcI5oi6v0mJ2d7YWHd0FDf0rxiIADhisbCoPNoWm4uhCFtcovZHp1VrWrV54cOFVEKxv3u9HQEHiGbvhCZypRJOUhHpispqkOzZkI2wxKhwqQkgJqI7FIvt4iIL3799cpNm0RNJPhYRY5l69YhEEoJgolAumnHDpE8DSbkPa9jx73794MMnUJzEFRmLFmCYKwih7ULNKwIKAKKgCKgCJzICAR9SG6/fv2ys7N37NghqCF+oHYICwuT2yZNmoi8cejQoT179kS6GVYspsoPMZWi2UDGQJCQq0OHDlSHtYgULroOBA9TF7KQCZcncFp4eKdWrdYWFGBnjyENfCf78QT4M4YrNuWz3YuhC+y1SQNnv2HbNnMrAREPvHhl2ErUCPCgV3osXiRxHTeDC583Ye5cTGhE3uAR+9z1a9Vav3WrJINPhcJLOneWW37DatXyPXeVqtntbmkxliMlIhCCjdCDWmZpfr60t1mDBqZwmG+RN6RkfhEk+C2VMBFXELSoAr4Z/hh+1+oeY+QNttgpDRMdYwxG+RAMhuSVP1xriBTWnEeN69Y1vDXxXESiLQnEFZuUpLf2AqQaWQWBjRrhpA0xIh749qa7Wu8fit2zbx9GbjygZ1FxIPKJkAAIvDIouKRAEoj4V+DGU/oCuBCHTKFIAiAjtIkiokWDBpC3eedOdFkgJsoTSc/AEEwogVw13AZXphW0GsBJIHgy1OlH02qDCTS/8NVXjD1EC3nKWOKvRcOGHLGFnSHCsChGqA6SDKkaUAQUAUVAEVAEFIETHIGgmXJsq3DnmDp16mWXXbZ8+fJly5Zdf/31BkSkgnfffXfixInr1q3bt2+fxCN7mARlDqxcuZK8dxe3ZSemoKBAysSaq3Pnzk899VRaWlpUVJTD4UD7UX6DLjgn2EQM9/lt17QpPBlWK2wtE4BvEwbLplHsXmMEBdOPJZVJBnMmPJ+JISA7zYbjlEf4SGDRNNjhEOsma3rCUAIZuAGYeJjC7bt3h1YvOlMVZhG1iVUuYpcaBtGklwBVw0R6selCD5wl9H/y8884BkxbvBjyhBKaAFca17OnKYqSCYssVCphUjje0pKd2p+89lpDAK3AlgnLIiy+aI6kEYUMYRQL+GbwZ9V7YA8m0NFkELvm1Vdr1aiBskIcLajOKkVIgSX+khLpC3WWPN1/8CDCQPc2beQWNQ6CmaGESHDg17c3Jb3Xr7DpVEEhNBCZAfWUpKEWAnIemsQg2RIQ7Yow/dhZjZoyhe4b1rs3igXBUNoligjsncTkiV7ACA1VhhTFL/4n+Gb8sW4dXiISCWLIMBKmKLpvyOuvm/QEDGKCCfUiI/EivHTddQ989BFOKaRZ7jZjgyrJiC5FAog9XhKsxOuvIqAIKAKKgCKgCJyYCBzmgwNs/+mnn966despU6YgcmBVhU7jwgsvNHnvv/9+1A4YU8H94z6O1BEfH8/2rUkQVOCAz0bpyy+/7OWMXrduXSkT6eKDDz5AyzFz5kxcSlC/fP311++9995JHi/toKo2id/47jvMqOT2ttGjJYCfLn//vvJKK49oslgD2K7AQBsWVh6xi2z4OZMYthIvC1ylTQwB1BT8Wnlc61MMtLi1ihD5BQVUJ4UjLGFxZLhAUoqcALdqLYSwSzLxcNXmkbC5aEUeGjuW/XKkJtwtjEG/PEV1YNILqVK1PWFSI9vqDw4YQBhm97+TJo2cNMl4RDz35Zc4OuNbgnkY4hPj5z+ffWY8GaTq2y680GD47o8/7tyzB8mKtsN8oyugjdi/4RkPnjhdoFgQCzFDrb8AOg1EFyP8UBrWbma/n3YZhZKUQFdSr+Hd/RUr8ZSMYgH6e3XoMHbmTCyXTGmCXjHTJjc3XyRHrV9PRqy5EBg+mjEDIzfMriiHSFxBKFwwwdgPEQWvfQbnC19/Peb220XQBQfOCcA+EEcODMBoHT7fHDYgsiigMUoxuzKyKyoL9Dmm1YIJYmTGzJn4viNmG+2K0IC4yGuC/gQNG8Qgi6L2MWcY2GOiTxUBRUARUAQUAUXgREAgaJEDUNAn4BeO7kKsqhp4toTxF4fdv+OOO3DjFuxQg/iCyCFPRPqKE7Xc/Mpuz642aTZYfG05gYoY5Ao+X+5bpsQg/3BGFheSzyuvvPLOO+8sWrToTIsSwF9Gm/iB3brBisGxsRM/ICoKXwUkEPFjxofYJqM84qgrAsKKSQxKA1FceOVlL9kweeaRGNIYDtjES0AKtx6XJF4ZImbIzrf1KWoKMp7r3p82RcEgYr3jWzX0IAIhDLBljlOyK9muXYbL5yklWB0Y0DnAjIoDgD1hZCQ7IoQ5AwrvfOG5efT76tUcSJV46aX9PB0NYmg2DDsuVSNCYL0jrUCUwviNME2GGz67TRuMzfjDpwWhi5Lhqn0bKHm9fin8HAs+Upe0mkIo3Ionck72H3+Q3l8HeRUOPgifsOl0E1LQw1dcYRKI8sE6TrKXLsW1A2M20pAFwVKwxW/kre+/R8kDbYxJzukiAWHkh94dO4oOCis4bKuABUUHNHP8FI464llOYk4gWLZ+vRkGQEQa4DLdwQinmca2jcLxEsGkCskTcU6US0Wy5YYNtAjBCdWQCDCUj385vxyEwK9eioAioAgoAoqAIqAIgICLXwn2whd8165dn3322cKFC7GzMtkx1SBs9aBAMjFPTaCZ22VZDKVMJAEO3iUvZUrkli1bfv75Z5MAQ6k6deqMGTMGRw4TidiDnCO324p7R3BuL/FWYkyuoAL4KrCjzNlEKDTgyTBkQudAgD+rrZS/MjlFikewwpIAQx14wbData129jyC54PzMwy9KU22z+HCTQwlwP3LrRQuNjnEbNi+HVdmeEdjYkSkMM0EMPHC8YNNceMWLIXIBrlv1cSzV73or7/YO4eblGSGcRc9hikcth7mu99ZZ4mWxp4w2VY3ruoQRnb8EIQeoCbQ1GMUBFs/6vvviTEUQgmsuZE3YKBxdRDChB4pGf2Dq7OaNxfKjcQitZT4K54JpiLSkBe+v6Xbqx65Ai7cdCVP2fVHFrqye/cSSysxksLxzMY/B0WHOeGXlGKQxodfJBcNmbRgAZoHkXC4NXAhTmDHRXuhzTQKRQTih8gblID5E74cHLNLmEZBJIc7S8koHDHQwkrQNFPwkTFTVPvGjaajBRNOWMYfSYQW6jKYkJd6yUV3kJIAnctxVYg6XTze51Km/ioCioAioAgoAorAiYxAWbQc6A1atGjx6quvYrNktapq1KjRWWedhW4BDQaO3Wg8/vjjD19w+ZJGt27dSIYrRL169dq1ayeKCHQU0dHRnKiLrVR4ePj48eMRTv5yewZTCPJGUlLSv/71r6FDh/IlkJo1a/75559Ydj388MOYeJFg7NixWVlZ0NOyZUu+CoKRFf7lFO5LQLAx8FiwaAgeZMRT2frpiVKLQmbg4Ffco7GBgQVk/xiOEwsiL1dmsb8yfJ4pFsGGSAyH4KrZToaNxp3g0UGDhOHGnh6Phde+/Ta2WzdEEU6SpZZ7PIeDwafCd6KW4awtyODYK9zKnxs61GtLXth0r6oxymIbHvYRLtMqwBg+lVzQMGbqVM6uxfCJI7lgx80JRfaEybY6kgZt4ZdDnHDYMO71yHjIrogZHPsLFwvZ4ilhrdrKH4t6RJ4K90x/YZfFxyKgMKZzZ9wbwMFqA2bg9QqIZ4IVCprZCknYY5tH13MS1ysTJ3IkFAeRcewsp9D6M3vzKlxuKRwtAQ00VmQSj0ALp441FATTaoinu290f3cSQyl8WuDs0Y1QKaobXGgw90JXZkiFTtQg4IlajLYjIXBCmpCNMz04IG0CAsMDTRdSHJUacYW8iBDGPI9OR6ziXDUhTDBBiSGSJ5EuMcONCSkRd0VbgmHe2z/8gDhNd5CdT3YY0KQc/VUEFAFFQBFQBBSBExmBsogc4MW5Venp6ZxVhZhhhQ9fi+eee+7DDz/kY3zoJfg+oFUNYlJy3O2IESOwfUJNMWzYMGP79Nhjj3HQLcIGGg++9YHGg08BmlyxsbGIK6NHj+bbIEQiWnAmL9KLJOjRowdmVORFPUJ2pJd77rmn/FoOCl+4Zg3SAhu3ePTCY1kPVjK02QSSBg7ELgtnaNjByGbNOAXVtwThlQ1XbUqDR8SCn49mwKdSOzRwwJHsK5OGzX6ejv7hB74QgiICT3GYfqs9DP7u7MFjh4NiBNsY5A1f/piqYUnx2TCVEkAEglqsaIx9P6wnzKtsxsNrkoBDfpFeOI+LvqZqHLWNnVUphLn38lHI8EeB8L5PDR5svBpgo//v0ktRIAAaosWd/fohdUAMHLNQCFNrlfrgmIkX5ltg5BRX+osCYc2hGYUM5RgNgLWZXmFR3Vh7gQINYSQe6ub16Qv+UDvIJ/y8CrG/lcLRcVmlJrJwBhrnAuN0AeNOX9BAjlQWtGkvQh3ixK8rV6ILurt/f+QB3MHJJaVhQCW6CLRh4vsuaYQS+ug/V12FhzeDBFgwDiQeX47DIsfGjbh6GwkBUROd22Fhxt1ZSJ5GzcJIQBKmEN4FUspo5EuOKMQYDKjRnh48WORzIUB/FQFFQBFQBBQBRUARqFKibzfH2p7i+eKbYnSMIjD8zTfZOzcW/BXYCjbd8aTHFSFAn+wKrPpYL0qEirduucVYOh3rLVL6FQFFQBFQBBQBReAERwBjfD4Cbg9CWXw57EvUp0cDAqhE8Ej22kqvKMJEsVBJhVcUkUdhOfiW/C87G4WAyhtHYe8oSYqAIqAIKAKKgCJQeQiU0bCq8gjSkisEAZEKjDFMhZRpCqFwLL6M9b+J14A/BJbk5wMaHhokwDrLXzKNVwQUAUVAEVAEFAFF4LhEQEWO47JbQ8QtQT7aUOEtpHDkDWP9X+HlH38Fvjd1Kt+1wJ3mqWuvtR6ze/y1VFukCCgCioAioAgoAoqALwLqy+GLicYoAoqAIqAIKAKKgCKgCCgCikBACKgvR0AwaSJFQBFQBBQBRUARUAQUAUVAEag8BNR9vPKw1ZIVAUVAEVAEFAFFQBFQBBQBRaBMXx9X2BQBRUARUAQUAUVAEVAEFAFFQBEIEAHVcgQIlCZTBBQBRUARUAQUAUVAEVAEFIGyIKAiR1lQ0zyKgCKgCCgCioAioAgoAoqAIhAgAipyBAiUJlMEFAFFQBFQBBQBRUARUAQUgbIgoCJHWVDTPIqAIqAIKAKKgCKgCCgCioAiECACfj8FyAm7ARahyRQBRUARUAQUAUVAEVAEFM5/fjIAAEAASURBVAFFQBHwh0DJnwL0l1rjFQFFQBFQBBQBRUARUAQUAUVAEQgKATWsCgouTawIKAKKgCKgCCgCioAioAgoAsEhoCJHcHhpakVAEVAEFAFFQBFQBBQBRUARCAoBFTmCgksTKwKKgCKgCCgCioAioAgoAopAcAioyBEcXppaEVAEFAFFQBFQBBQBRUARUASCQkBFjqDg0sSKgCKgCCgCioAioAgoAoqAIhAcAipyBIeXplYEFAFFQBFQBBQBRUARUAQUgaAQUJEjKLg0sSKgCCgCioAioAgoAoqAIqAIBIeAihzB4aWpFQFFQBFQBBQBRUARUAQUAUUgKARU5AgKLk2sCCgCioAioAgoAoqAIqAIKALBIaAiR3B4aWpFQBFQBBQBRUARUAQUAUVAEQgKARU5goJLEysCioAioAgoAoqAIqAIKAKKQHAIqMgRHF6aWhFQBBQBRUARUAQUAUVAEVAEgkJARY6g4NLEioAioAgoAoqAIqAIKAKKgCIQHAIqcgSHl6ZWBBQBRUARUAQUAUVAEVAEFIGgEFCRIyi4NLEioAgoAoqAIqAIKAKKgCKgCASHwAkncuSmxkTGpuX5opTHg6Irwen7WGMUAUVAEShCoDAz3jNbxKXn+8KSm+JnmvFNqjGKgCKgCCgCisCJgEAZRI787PS09OwSltljAK+CzJS0/OjE+Ag/tEYlpGdkZCQ5/Dz2E52fnRof64AFiYqOS8rIKfSTzD46Ly3WxcTEZxSYdIW5WWlJ8bHRrqIjHTHxlH34oSsVz5MTpOrIyESnyWgC+dlpiXHRUWSPIn9iRq55UtmBysLERXdBTnpirLtVjtiEtOKY5DvTUhLBzNXmyPhMn77IzUyOj3EDGuUG1CdBJQJTLkzysiDc3ZMx8cmZxToyO8ndWleLPVditqcdOcnu1noeeP7HpEoRzgRPTLH/1mHoKalS/lcWJhBbmJuRJIOfsZ/i9Jqx8p0pCbEON6DRcYleo4jc9oSFRiczUaTFR/oBJTIhwZGblpJ1JIeXH1I0WhFQBBQBRUAROBoQqBY8EfmZqanOWEe8Izz4vH9zjtz0tOyw2IzoUH90hEY6oqL8PSw5vjAnOQ4GLTImISmq0JmenhyXV5iV4VeoKbmQkILM5LRibCTpCrNSElNzwh3RMfERYSF5zozM5LicXH6jiuhHoEjNyAuPiooKyy7OeLtryc9KiE10FkbAcMWGhxTk5+bm5IfE+WOS/BBWpujKwwRyctPi41JzI6ITkuJDcjLSUuPiCjKykop6rTA7PTU9OyzSERmeT2u9rvyM+Ljk7FBHXGJ8VFh+Vnpa2TrLq9TAbsuFSYEzMS4xKyQqLjEpPN+ZDiudF+pMjwk7XHVoVGxCdITnPjTKBMNjEhPDrZJqQXZ6enaII1oGQkRcYmKxEY/MlsGgc1jK9pRa4f8rE5P8jAT6OswRnxQfhmienhBXkJ6V4pBXBzxjE7IKI2MTkh1hBdneoyikdMLCIpgoCvJAqWSpIiw2ISY5Pi09LybBdEWF46cFKgKKgCKgCCgCxw4Ch4K+5j3cpWOPEfOCzvf3Z5g3ood/ype/cknHjjdMDJbKtWOGdOzY474fdkvGtWO57WJuAyxt98yHe/S4fcTtPaBg7BaTadHMmWvNzaFDy11VFUuwe4sk/uF2Htz3gyXtoUO7f7ivS8cuN4y3llAsQeXdVCYmuyfe0AUQxhehtGXi7dZbml0EiauvSVbULdLWec/26djxkmcXeVq++wcy01me+8r8Xy5MFrnGZp9nPe+c3B5+BWcG80ZuGX+DtSzvNi9/c1DHjoPeXO4dXxn3lYsJ/X+4HfMepuvN7doxNLLHwzNNo+aN4LEZVIcCJcyN5ZAxfl6xmbyAfQ6PNlOZBhQBRUARUAQUgRMQgSAMqwoyxHw5DmuVgow4jx1GceOVPGeqMVfAECj38Bag2/o5Ni3bmSqGLVEx2MQcfuwS0ty2I2L04oiJS/CyhSjMyUiKF4MZR6yvoUSIy4IkKik7PyftMAXpVs1BTpazINQRU2xPt7yyYYHTmRMSFhPvUZyEx8Y5QgqdWTnBFJyblpwVkZiEKqL4FekopkmKiHbtTOfm5plUoWF+96ILnRns4iYk+xRqMldaoFIxyc7MLgyJjo8tarhAn53p9IwkG0gK8nLzQ8IcMbK9T/NDo8vQWWWDrVyY5GZl5YVExMZ6Rm5kHLqqfJ9BVlhYUOCBwS+V+ZkZ2dayvBLmZmKzFRUbG+EVXxm3lYmJ610PccTFedoRFRcTHpLrLLKuys1hXoiKcZhWRcVGh4VkZzG0XFe5CDNlUkGUq5eoSi9FQBFQBBQBReCERyAIkSMsxmW+7PJ0CIVZS3KH+Un2cNuIDOnx2NbnhccmpqQkJzgKs5Jj49PzrBjnpSelFcSmpGdmpMSEIJ2kWFjz7KS4RMyEYpNTUlOQLcILnDBa5qLsuOTM/Mj45JSUpJiw3HSX0VCBeVwUKMxNTUhwUkZaRnpaUnRIviVFfg4OKJGOCO885brPy6EFkVGGiw0JjYwMx4rc16jHbzX56clphXFJhjvymxDbKJoTHh7mP8XhJ7nZiEJREfmp8dEiHEaXIKUdTl6RocrEJDcnz4V3xGF6I1zg5+UGwtgVwlGGhh7OKneFebmWUWJ9WoHhcmGS55IyrYMsPDIyNCQ/N084ZDeZbAJERTlcvgmO+GTri1O8EXmZmTkhETGxhwdssec5mZl5IY7YIyOnViImGBEWhIRFRB5+Vdxjxj16XA12Aec7Etw486RchLmKlwsrzUhXWZU/ujw16n9FQBFQBBQBReCoRSAIkYMlHK8BrnCWa5cDgVy4GciFO0KKy1Mi0+XyHIuSIiM9LjwnNTXb0vjC8PjU5Fj4oqhYBIfQgiwYoKLLrYOISUlPiouNIXdSagaW156HIdmpqTkhjuR0vKFjY+P5Hx9RkJVSTInhTptb4EjLcDkIRzmi45LTrY7gboYiPALqK/DKz4d7CQsLDclJiY1yxGewjR5ODQX5+QFWUpCVnJobnZQQVWp6HEWy8jHnD2wHOh/xpBAP2cyQ2JS0tNSk2LCc9IR4q4hXaoVlTVCZmLiBdUGcmx7niIrD/yU8HCHC1dpSr7AIkrqZUU/S3OxcgoF3lidf8P/Lg4m7ceEotAqdSdFR0S5Ju/ggCw3j3IJERPXUlET0NtkZiXEJWSUC4lZiRPpVYuRkZOYjcVh9RIJvasA5KhETI5znZyY4omJScgpDw+j8wgLX68oL65oF8lzSa9GVn+PaI3ATREx5CPOU6Pof4arGqpW0PtSwIqAIKAKKgCJwQiEQjMhhD0yhM9NlsRHv8W0mNaYLoYU5ThdbV3ThlsoqLJeL+7dwe6HsOhbmOb1srYrS5rjirbuvUbExESF52T4HZ0XGxftj3l3shks4qMjLtW/OdmloSEFubm5hgYtxcd2FuOMDqSgnNcUZkYDaprTEBc6kpKyCqKSUOAOgXZZCFwWF+aE4sHK4Ew7oKenJjpC8jDSnXa4KeVapmLjbFeISMrJzCwpzctjod+9WBwS4w+VGn52amJadl1+Qn5OZlJSR7+4sVy9W6lUuTIra7BaX8gvzXRo09yiWeOiOSsIRPgFRPQZ3aLePdIEz1VccDwlxKzH8m00h07qskUofjBWCVWVi4obG9SYiSxQUujUNRe+lu6vdEOSmJaU6cxkIuc6UxLRcF6QyispFWDFoXNONW/opFqs3ioAioAgoAorACYhAGU6s8oOSW4mQz0mvacUThBZY9lutLL/wAC4bBzcDFRmfFJ2VmB4XleHSoHAmbFx8TKT7CeUV5MFmOSI8t8S41RV5LmVCuLW+CMyajuBl2N2wuNTMyLwwTrHJdwtNFkptyMGJI6MwNqP0M21y0xISskJj0lDu2BRneeQmDAuaw44LYY7oqJBs175+0VlFltQVGqxUTNyDxjVmYlIzOfI3EgE3izsvKxl/7YlKTkvKS0jBmyjVlSQyLjUhLDE1X8Dyl6ki4suFibSZRkdwhLODE8oiOR0ZqorivekLi02MSY7LdJ1hZjEscqUSJUaCH7MpzllzFoZGG7ck73LLfF+AsO/qIxfFYYdngMrExP36ueSOqOTMjNiCCDSz2S4aPJBFJqal5CUk4fWV5qIrPCYlKTyZ863c+cpFmKs4vRQBRUARUAQUAUXAG4GKEzncJUclZCTHFGe3Q8MivSst+T48Js2ZnePMynZmO50ZqVkZ6USkRhcvreSsJtbNLZi74gGXZUV26f61xTOVduc263Gba4RFIm9wwWAF6HCBZVhablRCckSBWyrD+Zfs2H4UFMCZWZqdnxkfn5rrSM5Mxcc10MvVWpQ6lgzuMs3OeKDllCFdZWJy2KIownVKKZfbCiZABxekjPh0Z7xLUVCIbWBkON9/dEmvEWVoZXBZyoOJu3E5btMxZFp3o93awSiXCV9JV6jrgXs4Wbo/JCTbrcTwZzZV4JY4Dh+EUFLBZYnLT4+PTsktyhmRkJmVGFl0U4mYuIcJqixqYgPDDZO8pK63wn1FxKZmxRZgXFUQimdMeGFGfKFxkyoPYUXFyz+XO39YYL5XxfLpjSKgCCgCioAicNwhUHEiR3hkBPyfy33aw1KUASyXUTp/CSEFWYkxiVnpWYXRsS4mwWV87czPY9fSwzLko/eAR/DDdJVUdYSbQA4tcgSRqaSCrHEu5+VM1wE4sW5WEE7PbfcSZXVwtqa3hgvy4EhyU+McqZbYnNRYR6ojJSfd3W4kGGdSXFJ2eEJGWgD+5ZZyIlzdkG/VArktPIrJMu7kcK8uvsjwYpYyyhisTEzcneh0WeFHFFGX5z59KKhBFx4pXCjnCWVzFNRhZZqnwUcXJiGuRjtdrs+eD2/gkAKDHGnV+nlId/136QRDorxY3cKsdCfGif7MpvKzOMkqzHXemp+rrJiExySnRxRJ+qF4dB8uvjzjpBRMwqNwMctxnQsQVSR1YYPnde4AhLg/ruEiqDAry9X6orMlykWYq7iiK8/VD+4R64nR/4qAIqAIKAKKwImKQFl8Odg6L8FAOSyaQyddzgKurcXDVwDndhYlLjycycUMGLd0V3RUNLJGdmYmS7hcOZmuc0MtniGeB/7/h0cha7iPx/SfJugntJovgmWlZxdRn5+JR0totEcA8ZSXz1f9EhKTcf+2XBGxyemWKy3REQqHEpeanp5UpNspzEmJT8gMjU1PTzSylqUAu2B4NPxpvsU9Pz8Lp5rQKA7RsV4FGYnRXElOa2Q5w5WJSagjFqY4Oz2zaJQVMdIxwSnDpIH5WclpOSE4UxeHhBOgjy5MQiJjosM5QTojp6hj+BwkbvOukee+8vOKvXJ56WlZyObRxT/mJ0oMv2ZTSByuw579ShzlwIT3zjXEXJejmCQe2DgpxPkmIZHztosaX/SvFEzk1FvX+VtyMV9wXJ0LxxKuwuxkDrngfOsiQAMjrISCikcVuqwYIxweoaf4Q71TBBQBRUARUAROLATKoOWIckSF4qOalBESyzYrdlNRYjIeFpeclBmbkhAbHxcXwzZyfl5OdlZWriM9O7loKbeF1pkUlZwfHRPtYPO2MJcvQ+eFOhIMJ+ngG8lZKcnxCfnxMRGFOZlpGXlh0anxXsyibQV4s0eHpWfxHQ2cGirsCud42/Q4vnSclBAXyccw0rLx5k00dBfVU5CTleXMD4+ID+HzAOZyC0HmLiQ0C7EqnI9xFDGLaHri03P5rHQ4H9nOMen4zrnZ7Yb3zinkW8l5PM3NTHN9wDyMrxG4uJyIuKSY9AQ+t13IZ0pC8zLT03OgLMFhynEHxNDKY+Je/FmZ7yoRE9jipITI2DQOVM6Lc4QCDJ9Xj0+Mo8FyFeTw4Yl813lEBfwAST5jNDKWQ5ddz9EhJefwhfnw0ILcrExnHl8uSfPxpDnqMAmJTEiKzkzkxLHChJiIfD6lnRvqSPEccpaXmRiTxtfEoyKR0vNdlol52I8lxVsGGoqPLJco7NdsKi8Dlj483ltSLsKUf38fJgW52a53NjQuJe4wOYRsMQkJYcJwZCWnxMczYYQx+jPyw2JT4iM8RWDuFe8MY64JK8x1IowXhMci1nueBjaAPan9/c/h6zzhcZXsOeWvco1XBBQBRUARUASOLgTKIHKERCenJRQkZyRzACuXxQgoIj4jMyI1JS3T5RWNsY77GwF8tSygK5JNxnRnVlpWeqFLyeGIS3Gd7GqyRsSnZ4Qmp6SlJ2MewmMO2w3gnCeT3R2I4tNgGRmZOclRhrkonqAsd6FRyRlpYUkpGanJmfgHxCRlWDibshRo8mAfAxQcM2SRN7iPjjgscmSmpXr2+9kGT03Nwtgs3sEXGkiHSJaZlpKUmglhrlONY5NTk32Ms9xmSe7vF5pqKyBQeZhAXGSiayRwTnJKVkhYZHRiumG+XZTnO9NS0/JcIa787DS2r/E1jywSOdCLhTmzMtJctmSRDLGkJG8VB6mPQkzCYtIYX8mpmSnJOKG4CD/8jcdwR0wMH0h0Zrg0ba4dgBKa5f4AoH+zKfzK0Rkm+Jc4jjVM6MXwuLT0ECaMDCBzzRe8Ci4tYtEVFuWIyMrIxHLTNZnEJicmxVn1iBUxgJ1440cmeDQnnor1vyKgCCgCioAicGIiUIUvrp9ALS/IjHckh6Zmp3n5uAMBnsQxaeGHnShOCFRyUqLj0iOSnXxB5YRobyCNVEx8UVJMfDEhpiCD6aQwyZlRXKXkSmsz05RYlEYqAoqAIqAIKALHNwJl8eU4hhEJi01KCHemFf8kuqU92Ul8pjAywWmJOp6Dri+gcaaqyhuWTlZMLGAUBRUTb0wKM+OZKBzJLh1aSVduWlo2pl++OxslJdY4RUARUAQUAUXg+EfgBNNy2HVoAV8WcZ+s4z4187ANhl0efaYIKAInIgKFebl8i5KWu07hKnbUxYmIhrZZEVAEFAFFQBEoDQEVOUpDSJ8rAoqAIqAIKAKKgCKgCCgCikA5EDjBDKvKgZRmVQQUAUVAEVAEFAFFQBFQBBSBMiCgIkcZQNMsioAioAgoAoqAIqAIKAKKgCIQKAIqcgSKlKZTBBQBRUARUAQUAUVAEVAEFIEyIKAiRxlA0yyKgCKgCCgCioAioAgoAoqAIhAoAipyBIqUplMEFAFFQBFQBBQBRUARUAQUgTIgoCJHGUDTLIqAIqAIKAKKgCKgCCgCioAiECgCKnIEipSmUwQUAUVAEVAEFAFFQBFQBBSBMiCgIkcZQNMsioAioAgoAoqAIqAIKAKKgCIQKAIqcgSKlKZTBBQBRUARUAQUAUVAEVAEFIEyIKAiRxlA0yyKgCKgCCgCioAioAgoAoqAIhAoAipyBIqUplMEFAFFQBFQBBQBRUARUAQUgTIgoCJHGUDTLIqAIqAIKAKKgCKgCCgCioAiECgCKnIEipSmUwQUAUVAEVAEFAFFQBFQBBSBMiCgIkcZQNMsioAioAgoAoqAIqAIKAKKgCIQKAIqcgSKlKZTBBQBRUARUAQUAUVAEVAEFIEyIKAiRxlA0yyKgCKgCCgCioAioAgoAoqAIhAoAipyBIqUplMEFAFFQBFQBBQBRUARUAQUgTIgoCJHGUDTLIqAIqAIKAKKgCKgCCgCioAiECgCKnIEipSmUwQUAUVAEVAEFAFFQBFQBBSBMiCgIkcZQNMsioAioAgoAoqAIqAIKAKKgCIQKAIqcgSKlKZTBBQBRUARUAQUAUVAEVAEFIEyIKAiRxlA0yyKgCKgCCgCioAioAgoAoqAIhAoAipyBIqUplMEFAFFQBFQBBQBRUARUAQUgTIgUK3EPCtWrCgxXiMVAUVAEVAEFAFFQBFQBBQBRUARsCJw6qmnWm99wyWLHKQ75ZRTfFNrjCKgCCgCioAioAgoAoqAIqAIKAIGgQ0bNpiwv4AaVvlDRuMVAUVAEVAEFAFFQBFQBBQBRaACEFCRowJA1CIUAUVAEVAEFAFFQBFQBBQBRcAfAipy+ENG4xUBRUARUAQUAUVAEVAEFAFFoAIQUJGjAkDUIhQBRUARUAQUAUVAEVAEFAFFwB8CKnL4Q0bjFQFFQBFQBBQBRUARUAQUAUWgAhBQkaMCQNQiFAFFQBFQBBQBRUARUAQUAUXAHwIqcvhDRuMVAUVAEVAEFAFFQBFQBBQBRaACEFCRowJA1CIUAUVAEVAEFAFFQBFQBBQBRcAfAipy+ENG4xUBRUARUAQUAUVAEVAEFAFFoAIQCE7kWLJkSSfPNXjw4Aqov6QiZs2aRSUzZswo6WHlxm3esTf+zXmt7p5UO/7r85Kne1U2ddEm4r9fUOwLi7+v2kak/PlmoYTW7tIkwY7C/V5lBn5bUFDQo0ePb7/9NvAslZ0yKSnp9ttvr+xatHxFQBFQBI4kAjv37Nl/8OCRrFHrUgQUgbIhwNv630mThr/55oAXXrg6NfXgoUNlK0dzHQEEqgVVR8uWLd99912yvPDCC0FlrMDEo0eP7tChwwUXXFCBZZqinv1i6Vfz1v3ryg4tGoQ2rFPdxNsEIk6pNfFhBwkeyVhYYrL/3dtt34FDY2esfn/a6hITBBj59ttvN2nSpF+/fgGmJ9mvG359b+F7M/+auWDjgipVqmy7e1vgeSVl+u/po34btbRgaZ2T63Rv2v31C19vVruZKeTWW2+NjY2dPXv2OeecYyIrMHDbO+9cdOaZQxyOsTNn/rhoUdpNN1Vg4VqUIqAIKAIGgZwVK76aN++PdesKdu6EZ3nimmu6tG5tnmqgYhFgPh83e/aqTZvqhIZe3rUrk3zFlq+lnTgIvDl58s/LlsX17Nm4Tp3aoaEnVali2r5x+/Zvf/utz+mnt2zY0ERq4G9EIDiRo1atWueeey7k1q9ff9u2oPnXANvZvXv3X3755eSTTy4x/TvvvHP55ZdXksiBHuOSzqckXtq2xKrP69hw01sx1asVUw3VDq12wemNSN+gdvWCXft8M/bs4BrrM5du8X0UeMyOHTs++eSTe++996STitVuX8LklZPfXfBu1yZdW9ZtuWbHGvvEvk9HzBjx4i8vnht+7t1Rd+85sCdnQ876XeutIke7du0QNuiRyhA5thcWrtm8uWMzl4ST+9dfEvAlUmMUAUVAESgPAggYIydNQuS4tEuXob16nVK3bt2aNQ+zLeUpWvOWhMAXv/zy1vffd2rVCjZxzp9/vj9tWpN69fqecUZJaTVOEbBDABXH1NxcBtLVJe17/rpy5cczZlwQGWlXhD47gggEJ3IcGcLgqmvUqHFk6vKqZeP2vd3ahnlFmtuTTqoSWr2quT2SgYkTJxYWFvbv3z+oSodFDruj8x21Tq513TfXBStyLNq06OVfXr63673PnvesTaWXXHLJ008/vW7duqZNm9okK8OjxWvXopnp4BY5lubnDz/vvDIUolkUAUVAEbBH4F2nE8Zl5I03nlz175ne7ck7zp6u2bLlHaezR/v2/4qNZUN6ULduw0aOdC5apCLHcdbRR6Y5S9auPXDw4FmtWpVYHZxDzerVW6iKo0R0/o7Iihc5Zs6c+frrr+fm5oaGhvbs2fPBBx9s5uYapXU5OTnPPvvs0qVLW7Ro8dBDD40YMcLhcDzzzDPy9NFHH50wYYKE33rrrV69ehlMPv74Y5NsrPuSRz///HPt2rUlPGfOnDfeeGPx4sUHDx5s1arVoEGDhg8fbkqwCaT/uOquMb9JgvemruKPcNeI+tOTi9jc297O+einIi3Blw+ee2GnU2xKq4xHU6ZMad++fbBsfdPapYgBuZtzk2cmT1szDSUGdlNP9366W9NuQn/G4oza1Wv/x/GfQyGHtu7ZWr9G/SohJWz80UcHDhz4/vvvhw4dWlENdxlSHzgwf+XKFg0a7Nu//48tW7bu2tW8QQN+2X20qk1LrHH64sXPekaRScCUlBIXx+223buHvvHGTX36XO3W1zFbPTR2LBPTuMREGI5vcnLYfiO878CBa1599f5LL73wzDOf+/JLcj3tcV7C9OLD6dMXrF4devLJ3du2vTk6um5oKCV/OXdu2pQp/7z88ujTTzf1oqu5a8wYjAdgaEykTeC7+fPZAvxry5ZGdepc1KnT4B49qnr0WneOGdO0fv0RV10l2efl5f3r00+fuvbarhEREuOPMJ4KJq9efz1jSBI/+PHH1U46STDZUVg45PXXb+zT5xo3JpIgwN9nvvjipyVL3r/jDgg2WdBK/fPjjy+Lirrj4ou37NxJi35Zvjx/61b6rkN4+E3R0W1OOfwGffTTT2xEmbwEaLJ0B2E64vPZsyfNn79pxw6U49f17u1o394k9sJkbl7evz/99NkhQzq7TWLoyqzffvvsvvtKHDOY/GL42/+ssyCSAqFzxLhxVPf41Vez50rMnv37x86YgQXI1t27m4eFsf/du0MHUzUBdtegbcXGjY3r1qUcRlSJFVmzSHj9tm0YA5CRSqtVrUq72KI7r2NHeWrfWWzJj589G0MCjFIK9+3jHYGwXqedZmrxwqQCx4n9uyMElBkTQ3+JAV9MGGCkfOEf/5D0d6Wn520o5mUHqqNuvtmU5u/NIteU33+n7+57/3244VrVq9MRCRddJO+dNJnbK84+2xS1buvWm956665+/RjhJtJfwH4UeXWW1wCmTOYZBiH7L8w2vOm39u1br2ZNf3V5xc9cuvSpzExrJAN7jMf7LvuPPyYvWMDURxsb1qnDAB7scJgpHlcW3g7mYWv2f/TqxQsoMYxhtBMQTJr24eG3REe3bdLEmthfeNysWcy6TJvystAuprW1BQX+0nvF8+Jg/+YVaQijK1/+5pv7L7uM7oYZZVLiEXO4pA9kAHuVbL1lbqG9EkPJAyz2YDI+/xsfH2GZ2YD3lYkTsQdu1aiR/QAOhDAmQObJWcuWMV2fUq8erzwvfo1qLhau1M5invnwp5/ocdbT08LDb7vwwlMbN5aGSNV0x1UeLcF706bRRzIDl0oYA5hBlXz11VIawiRTopmBJdLml1cJq+nfVq7cvGNH/Vq1zmzZkteqtmfH2f7dYR2HPCk8KSNDAs8MGYI9JMqNR//3P1PvFS++KOFXhg9nAWLmTHj33dju3ZnbWfQfGDCABZ0XgUmA0UJK+zULv5EfFi5859ZbIZjELBmPffIJZb503XVwKaZSDZSIQAWLHEgUd9xxR+vWre+77z4sr95///2FCxeOGzcOiyyqX79+Pd7GaK3vvvvunTt3PvLII3v37rWSdcstt+AbgLjy/PPPW+MJX3TRRfDcBO666y4kmWHDhkkCBBsJrF69OiEhoW3btlgfVatWjUKcTmeAIkdMlybij/GPN345t11Y4qXtKLNuzcPgPDCg/bDzWv22ctvDY0t22BAaKukXCQpgL3YzRhVYxcJNCy8ed3Gj0EYPdn+wxkk1Plz0YcznMdOHTO/Y0MX6zF43GyEEwePfP/17y54tjWs2/mf3f2Jh5UUAol1YWNjcuXMrUORg7Tcr0D/++1+pUWaQsXffXeqKu3zDBtiFpIEDZfmERUuZMMGsBH+uX0+BbTyrI9Mr/DFPZYOTvCwPZId9P3TokOQislubNkIGszbyDFZew3r3RpyYMHfuhm3bRBohGWlYWqwiBwskSwUmBJLd/ne00wk3yW4fxs3MwsyDrCiyEjCvrd682cptS3WmXTaEUSmJaZRZZsAETuviTp2EHinKKgbY02l9alrNbqXEwwe/9M03MPRC2+w//2Rmd5x2WkyXLiyWiB8jPvts9K23VncvlmShBHgOeCnJztJIQLqDVrPM0xdYvJAGFurJ8eMRk2RPSzDpaeG2hRiDCbcRjRv7EwNYJPbu3y+J4f6Tx40LDwt7bNAg5EMIkIWE0TLw7LNZ4JF5EK5kxRI6x/z442ezZkWfcQYwkix96lQW/qE9e8pT+1+6EkmDjqYuPAfgkxhUb8THSxdAtk1n5RcUsEj3bN+ewYDQiEz17BdfpF5/fTv3kK7UcWL/7tDk8mBijxiY0I+tG7lMWOXK27jR+qLFX3ABvC/SL9zAgwMGwMgKQyCJbd6sSQsWsJcB5fDcvHcMV/YdqEhkDK8mS2lew6yIoJL+2Y+iUgcwA55R17F5c7ZIkNgz58zhDTKbDiVVWCxOBpKZCV//7jvzapAOgZwJAamJGVWsm9gPZrRLESs3bgTPa3v0EIvWVZs3vzd1qsnO/PzARx8xOyEqo4uGQ/3PZ5+9fcstlFCMAp8b3hFmSN5fRGXrQ4QQ661NmEZBBtOvpPEiTMROhLRb+vaFFYZHf3niRGQhodyrN70mf5tK5RFVR516KoOEyW3ir78icdGQM1q04CmPmLJYO6yFEMksJ1vshG0GcKmEkR2+lhIu6dyZDQ7mLsatEf9K7Sy21SCPzuUXyh/53/8QhGQllaqt4iIxNERmYHvCZACjsJJWz1m+HHmDsBknVjR8w6yMiR98wBw4ICqKzUQaxYZFDY9Fvf27Qxc8MnAgZTIZkvGhyy+X8nlZCPD+IvawzDEs2SeK6dxZnpoJlltkZoRGFlnWFFyJqI5hLCKH/ZqFpIcwyeSPnEYVSJUIt4g6Km8IyPa/h7lq+3QBPh05ciQ+GOnp6Q3dmiz8vB944IHPP/9cJIQPPvgASQMVBYIBBbJn/8QTT1hLJl4eWSMlTGIuwogTBMSlxJqMc64wPUpJSTEl7N8f6PFQ4WE1+KO0k6tWCQ8LFd8Ma+Edm9fhzxpzJMMbNmzYvn07vvsVW+nD0x6uXa32tCHTwmq4bMluOPOGzu93xnnj7X5vc7t6+2r0G0nTkh4+5+GWdVrihk56dB3DT/dWHEHYH3/8UVG08Q7f3b8/K9Djn3+OgebpzZt/8vPPzC9xDgdcWqnyBmSw6jDLm31fVkdKM/y0rElyy5YVswxZrE8lTDLYvtaNGzMToXOQ7X8mqRe//hoW8x6PhRuzDJtqMKws3lIy2/m79+6VpRfuB26b8q0Tuj+gkDGQN1hFZNaDyYapghkVkYMqXK3wSErSzAa1a/NH2J4wSWxWEW5xkoFIa6uJDIRIklkvpAsRDmH1jMgBKwNiJJMCz2nbFsQM3w8fAIYrN20y+hZww3zOSA5oikSioIR3f/yRtZbdIxGWYI9uf+cd9jglASsNmLTz6G1Iv2zdOnYfzSABNDMMrGRL2IwEkH/6iy+gM/HSS2Hi5ekn2dmL1qyRPTNiKAfzDzqUTTJuZyxdypIDa2usQaAENVeAIsfZERH8SUX8skKDCT0iMRBm01m07oM77oCllsS9OnS4/s03f12xQkSOIzBO/L075cTEoFFiANanZaNGRkxlc3TXnj3WEUv3kRHBO6x2bdMpUpT9m0Uvk4w3GmaOQP/OnePT0qYvWSIihxkkUpT8SmQgfJX9KLIfwOzgpmZloa/DkZ25iKoZIYhD7HSIWtVKUolh6DQzIRvGFGheedK/eN11DT0GAmwHJLzzDgoxI3JIG9EPiJi3ff58spjsr2Zl8Ua/PGyYzD8wwaiC561YYfO6CYWgjRIb5bC8dDecfz4vNVI3Un2JTfCNZITjDWymCy/ChEV+ZNAgeR1gChHbUAlKZ1l703fy963LGgN6bH6zES5VsyQBl0lAybyz0k3WSCYumfrsB7A9YeyMPJ2ZyZrCTBjm3r2lChhfkQoI23QWdCK10k3PxcXJqoQS78ZRo2DukZ1MXuurxCyKZCWtsCdMBrCMCuQHlkJyWWdgKcTfL9Z0oPr6DTcwfiQNGwcGQ/t3B1RFlT3q++8hXsKmIlkZWZsQm2mL11MaxUyCCQPiDSIHy5MssqxKUoL9msVbA3Rf5+SQi10AlviHr7hCJE9DgAb8IVC0vvp7HFQ8BjYYUODYLfIGeVFNoN/A9knKmTFjBqffGpHg0ksvDap8+8Ti/oHgYZIhnJjwMR3geFzor1fSpHzoYMiiV062/u1eK5v7pbR4S+GWH1b9cG2HazmKav/B/fzVqFqjT6s+M/4qMnHZtX/Xn1v/fLHPi/d3u39wx8HjB45vUrPJa/Ne8y2XswSEQt9HZYiBeuYIJkd4ONhubAmYONjTJWA4UftiYVLN0khKbvk1/AG3zNpMSZt37mQz/tx2Lo2WPEXagcuXMMlYQmBAhYeTyE9//pkJkR1HaJM/YYVhgJjZSYl9AssDum/K5KwMuGdZkk3txPu7KJydHpY0k4DFHhWK3DK5E7BuDUKhKdaGMMlOYkpji1T+UOwQb7LzlC1hFjC4ARoiWQL5pcnogmj176tXs+SQhbZzQgitZu9TwCEsiy6IAY5sYpl1RYQW01+wU+AmhCFnfz1vHtM6FjKCNnXRCrb5hTbIJhBev75pF4ulaRT0iD0eT6nFtzmSnd9/f/ZZv7POQn4w8gZ0or9CtWXOLKIVQLR+61Yphw1OBiReiWYkUC/VGbHBtzqvGFCmFmiD90LuZcxHuvfnSAZJNp2F1YHIG/QUJQjbYfCs7HHi792B7PJj4gWR9Ra9ELZtJkb6zvS1Nd6MJRNp/2bBZ/CmI2lIesYA+wgwwXJLRfBDMoBNgUSiEMMEy8SUGCh1FEkr/A1g3iOGx/Xnn286V14oMyeUWKk1kvINGmyEG7WtpDHyBrsq2NvwYpqKSMBM6Nqh9+giKIpR18x9y+wxf9Uq7FJkciOxEGbeDisNXmHMV4hBbgd2WocCE6azYNcu3nGvlCXesrdCLtMo0lgJ45YZCf5S5A1uhUFHVJDSSGwzgCWNv18RZpqFhUEAoxFtLZyu9Z1lFNHj1uxmNSHSfgDbE8bGE4sg4pk0R6qwip02nYVOCcqxDKQ3ZbJCJECxwJol5VA1MYxw2sUfFQGXebPsCeMphdAdzEUvfPUVxQKCySvl2/wy6ngK8SaNGYGlvjuSBaUZwFrHgymKgCHPGinx6O7gMeRVEvmK5YbtMElpv2aRBu0fpKJCYeMJMUnd070QtrmtSKYcvnPPnj1Wzw2Yfs51xbdYKMjPz+fLEoYaLKy4zG05A9gdde7c+amnnkpLS4uKisJF5Morr/y73NDL2ZYgsh8M+fPdov1OyRV+4YGazUrnGvO25aHEeHXeq/xZq6tXveitQwIh/sp2V8rT6lWr923d95PFn+zatwt/dGsWVjLrbTnDcIfsTKDoZ38OdopZg3kB81Nmw1o1anit/b51wfMxmbJpZx6xpWHYXyK5ZU6UKZJZm71MuGSZs2TrVMIkMwEqhQUkC3v5kDH4NW+5i6mWmRrKb7jgAiw02CK94PTTUegzy6PSRbnvb040RJKXA3PYZxXbXImHhTVaZmonkl126tqzb99vq1axZg9070XZE0YuwYTWsbNlavTChLpw5+ApMyn4IFbJRGzSlxiQOR0jh9e+/RZwmHlf/fZb9u9Dq1cHQOGMMUaHpYa3wFpXCqFqVm4Jy0Ju1XgQL3DNWLKENRJGlj9r7fD6cksVBO557z3rU2N7Jk+xLeaPBIhz2OGwPBj9gBCPWMh4w3bRWggcFR3NAc0mEpC3795Nu4iBZjh7/ga+9JJJQAAtnOkva3yJYVrH7iOPQAPrFDhLGduldhYjDR4aY2XeC+iWwg3HVtnjxN+7UyGYlAiURNKuJfn5uDTADTCSxZofqzlrFtLQKRhLWCPt3yz2HQC8R7t21n0amGCjKGOQIAPj1sXkw9ASVwozOVgr8g3bjyLS2w9gtufpVutJfbyk5ApwjLF9gLLRmJTIaDcTEU/BkA1awAQiIb6rZ2+bWzqUxIYFhFTkCkEJwkhgfTuEMHk7pCh/v6L/hDHF1hSxDSU2uxUkZob3l8UaL4hZmVorYZABu4xu3GSRfRDmTIkhsb8BbLL4C0jVGOFIAprw5LXXyjsLmMDIH3gyPtkp+0fv3kit/BnA7QewPWHMFRRrfL18KbTpLJnzxfHJmtGKCSjJ5G8SGLLtCeOpSy5t2JA1jncTJQzmdrxNphz7ANpIdAXY2TL/n9OuHZaNhukv9d2Rknnfmb2tyn9rjZDnWruLzxIkIF7AREDlVlYfIk2r7dcssjA/MP5Ra0Mz4oe1Ug3bI1CRIkfFsp72dPs+RbrAcAstB/7r06dPnzx58tdff/3ee+8Fdaqsb7FHQwzOEpCx1bMtUSEkIW9QzoPdHhzUfpC1wKpVqsotzhv5O/PrVD9sTtYwtCG5tu/d7iVy4LQjFFrLKXMYdzTmbslu5kFMUeHMcOSwbu2UWIXXykoaYmBwzcYwnDpa0YyZM9mre2XYsIVuswpZw5a73TwkzNYL2n/JzpTKxMoGG0saHpa+xgNk+dltWoZ2FbU7SzLls3uNbzczPtMT20glUmsioYo1ycsYFObSTILM49SCpawYy7ICuaZat6siLJENYdIEfnEZNKVhsMQyKZgwDqgdn4RLzjqLMDqE993mrR/ddZfhzg2dXgEQgxVDRcCSw3YaUhMJ8N2kv6QucanHdgIhkL5jAUAAwBvblIwVLFkMwyHdJ13AOopiAWdur0oRHiSGBGw0GicQWoHnjOQlgRQFW8C+NVYlcAMQQ1+I3Zorwfr1FIXzBsRj38zKAapSsmy80e9yyy+w0EHSKCn50UGDzAIpyeDPhAUxuWwCDBVWaLQ6jBD6lO1SMdiQwv11Fus6Tk2nt2hx/XnnsftOjRgn0C6z6FbeOKH5du+OW/wrJyY2cGHZSOfe/+GHpIHnpuG81GIoYnKx38nmqBnkEm//ZsFnkMxqmyecOpwE8TQZnoYwDArm3eCMiglpHL45kH1N+1FE+fYDmOxGySZtYULgxTHiukT6+13k1mSe4THHhbsS7pD0jDpBUlSI7OwAHSbpZhQxD6COMF7XZAEoY8sEYSBvXhaeQhi/XsgT43tRNZG817wp3du0IYwlKr8y2fqm94opmh8sTKSVMHmKJGNyCU8phNkPYJPFX4DCmcbRhZIAHh0fYg5WFr8aGUVoEjAPQ5BjPmEWksFpMLEZwKUSRiuYIf3NLfadxRhjD4gdDa92ydwlVWNZZARI5hPUazKLlkoYhSOIIh6w3t17ySUMJF5AMwN71eh7i3veWzffjEEmu35so2CkhKkeu3ukLPXdkdIEeQOyVxV0GUuqdRePBLzgLOWSBfpF60U8YRmQpa5ZJKZk3DkIBCj/k1IvQaCMIgfqC19PiQYNGlSvXn2tm4eQ0kmDy7jxuwgPD//LPQ/KU/w6cFGowJ6oWrUqnuVc999//yuvvML3IhYtWnSmZauyAuvyLQo/kP0Hiu2VWtPI1zz2H2B+CPpCU4Q6CP9435xVqoUMmO/a+gr2iqgXwQlU+w7uO7vJ2SXmjWwYOWfdnII9BeLpQZoNuzacFHIS7hxe6VeuXHleBZ1gCzr/d+mlKPpRWXIqLntgOIdR3dCePU+uVq1UeYOUMgdZZz1izJSEDwNzIpMOs9u9MTEkY5fFiATMIzIBwcSzpS25THaoonxWHcMfW3EgL0sC0yVzN9wtFqKwsCgK2KG3EmPNYg0Xuu34WYlNJOw7ZCDhSAybUpw3xbSICTszNfIS1v9Ssj1hZBdMYJIMl4CIYlqxdssWNnrZ4BSDV7gc+A+YYNKE1vfua0OeBGi1+GejQEDFTOTj11zDWgsLwg4WUOOgCePCISSSftfevcuYECzbYOwngTNdIAkg1XQHSnMiDZ2SwPpLYjwZjJ0uCwlPTV/zlGXVuExglYeOyBhlsZMN34D4QTy+g7hmQr+RXqQ7DFUUi20Dv+IwIICzAy32JFaSAg/TF9IdlMlGLyu9sHT2ncVwwlcBMcxsPyM9EmOMZCpvnNi/OxWCiQ167BwzbBAAGF3AjmrLF3yBzut1s3+zxOTG2tHoV9EdyRClOsbw2W3aYGLHH+MHEOD/YMW8aimRcvtRRBabAUwVVG0ljFkLTxU2g/2xnl40LFi1Cn7IvD68qsxOkhd7RaQmjnAw0gsCFdmNQT+EoeXr7Dn0gjeF98W8WWhZrYSRkbeDwWzq8qLEesu4ZfPIxDBsELkR+YwFl3lUYgDCkCiEmyeBF2EyAKzLBIXDB4vC1n4Al1idNZLCEcnMbMOJWCLPkAZs+T0/MpLlgznnnrw84BWozTixGcClEsaANO+7lSQJ23cWCLMr5K9rpGrGtmkXnDSdK3tkpRJG1bjhYVLFbI9kDtqQZMaJL6m+MXQlKyZ/LAQPjx2L7CEiR6nvjmk7/Wt0vF7lQ54Z0uYRkYRFumY9lQRFBntNmgSyZmGCBX/CiEVTh4SJ3O6192Tq0oAvAmX05cB6CtHC67wpOP5u3bpNnTp18+bNUhNHu+7atcsYUyEMLFiwYLl7V4MEWVlZvgSVGoMhIrY2vsm8Pk3Yxr2D4uXOsWrVKg7tffLJJ32zlz+mVSOOXCjcu79kqaNlQ5dud9m6IqPSoKpjjsZUjLO/gsplnxiVxfktz/9g0QfrdhaZvUn6ldtXSqD/qf0JfLzoY7ndsXfHlJVTujbpGlqtSEldlH7lSpDvWtyYQR6V4Ze1CBaQnTw0Zmy9MA+i8ZAJEfEjkAKZ/eG6+JiXJMZmAPbXzPuyNnD6EHxwP/d5TUw65imTkYQlmYTZbpEAjD7zPhyJlQz4ctZmYsgryhDMfvBuZP4ddt55SFBssvrOetYSJCzek7A4cgu3zdGxXo6w7NZjA83yCaPAagcxojK2J4wCaQ7CjJE34PuZYU2rrY2V2okhcSAOnZAh5aDowOyE02/ZKCKS7qPVmGgjzGCqLsWCBhvV8CtmTYLhY48TBYskEFINYTQTeMX42ySQ/VRuKZw/K99JT7kOnPUcGkMrTFGkx82DXznPhIAsPJIASFEy4JgrDChPpe2IXoS5WGN4yjiU6oRR8xoJYjEi6YP6BS5kS6Pgsu8sms/YNvwHfA/iipd9UaWOE3/vToCYXPff/w544QVeuqAgksSwQfQUhkbMh+Dg+1oBneul8AwAyWX/ZslxnOa9Y7h+NGMGNjOy6S6DRAqkRt50xg+1ULJv7b4tsh9F9gMYhpX2GsIonI1kyLuye3ffikqMwT2aOZPBIE/N5MYtbQEo47NLd4yfMwcdiGHdECGYRY3mQZps3iYyYiSJCCQlI64wCHHtECa7RGJMJOOEyUGAJZJGIcwE/ulxKDGzB9m9CJOtcVM4bxZCGlOT9LIk9jeADYUlBmS/3wwtlhUKN2ISNTLBiqMFFqSUACNOdQBllc38DeBSCWNyQBssUr2Qh6xl6LTvLPLSO8z5Jj3lMKHJrVTtNYuajrYnTAYw0yC6YtlUYiBZZ2BTY4kBWTfNI3h9wmZM2r87JhcU8raa+dDEE6DL2GDyFQbIApHSlRAsL7LMSAwtGmW/ZjHsOduQ14pzgTHhQ4XCGLbWq2F7BMqo5eCbdJ9++imn3Pbp04cKcASXj4VzQu6NN94YHx9/9dVXyyG5fH/jKs+XBK6//no+oc05uQQQRfjUBvKDoQ9XkCVLlnDL+bb88nkNERhOO+009CcmGdwtRlNjxozhzFzWHsQYRB2echAWMsyFF17IAUqoVjCy4rwsPo9tMhLANolv6nHg1b///W9rvH148469C1a5XlEOyeV3/qrt1aq65vEzW9ZtVNdl2y3Xlec0e8e58uZROZdGNa0ScuiaHs1Ptnyn/OJOjevVrHZP+vzbL46oXrXKBac3buEWQjy5S/mPIz6newX7xb0V21Zwyi1FLylYwkT/3OznCHP07UWtLyLwwvkv9BvXzzHWcVOnm1rUabF86/JvV3zraOZ4re9rPB3UblCXxl0emf4IQggfL/9o0UdoPB459xEeWa+ffvoJcxJgt0aWM8ypJrDRTNCwgIgcQZ0FYV1ZIUPYX7NKyWoEpy6fYoAJJoEYUZCYyYgJWk44YQFmlmdpMfa4zDLsVLGrwYzDXiMTE1wsieWce/KK1TXrrjmwDzaUZGYGt4GFlZhm4pLI7Ik3NltNFI7W3p+LKg1hqhV+wp4wKiWxdVGhyUR6YUIkEzTt5XQXTmLBSKBUBqJoZ8ht3AWz8u8rr5QGCsi0mvUD0QU/bLayaNe0xYuFTZFZHkMsGB2WZE5IlIyudX3jRjk4iBj6BWUL+0lY5zMYABPmBolUljexgrO2y4VJw4aCibgVst5Qi2vt2bp1wi+/0Ll9PJ+hpb+sILB40K1UxxE3xGOexNYgDiqx3bpRFHmh/55LLuERFzSAHgocimWDdtP27WzRMVY5d1IS2Pyy3nMuJLoXwOGVBHZgYbQbVtK+s2BlpuXmYpyGfIvlnkBtw/66MKnQceLv3QkEE/gkVnRRU9hAVOojX09oyUJjgYVdT2sJ9m8Wmxrwo5zLjOkd+x0cPAozzSnMMvhlkMCOIBjz4jOYcY1gkNAEq/WOtTpr2H4U2Q9gymFbhEN7sHfCjo6+RncKa2517bDWZQ0zxrJ+/ZUJhL0P8bvgvUZ6Z7Ocd5aXglHEDMPR4RxvilTD5jTzDAOSViONoMxhwPMiGCRlmJkZA8JIw4mC7G3zVmKIAoyIHFYa/IXP79jxf9nZHG/FR4cY/M6FCynN63M3/vLSLqqzujR4EcYtfTRm6tQde/bwcnEAIPOGsSmSxP4GsL9KJV72+4ERPPnFDhM1uDnqg3GChEYH0SKmOza/eR3e/v57fzO/1wAulTAsgZ//6itOtmX6gjXHqQmqOCI2kM66omtXDuDGlwNNAh3KFhhOdy4bMPdMSNXw38aClKmS8cAyJ622J0wGMAsllIihLDiYGdgeT55ysCHEsFHFwGNzhz0dfCrMSLB/d0zhUNjF4oBk4gkwmGuHhrJkoOHhHUcmND4byBvM54hhACiTJ5QzcvgDAX79rVmsBZxtyA7R80OHkoxaOKeR8YxFg+y5WAnQcIkIlFHkgNHnQ36w9d9++y3lRjM9uQ9tPPvss998800+Bfjqq6/iXIErP4fkmk/1YSA0atQozrF96aWXEAz4tB/f/jOKCBQgfFjDUEkaCfN1P8o38agpsMjCR5xfIs2nANGlYEY1fvz4LVu2cGQWWe655x5TuMlehsAvy7fGvuQyGpHr0f+5jj3l+izxnEujmkiY375nNn5u6BlvfMfR1Gu5RfAIs4gcDepUz7in20NjFyF1HDh4iHCLhuEmb6kBhDq+VQLaSGulJjYJlhUseyL7CXMr4bui7hKRo1PjTs5rnU/Penr0gtF4aDSv3bx3i943nHGDpK92UrUvBn3xrxn/Grt47LY927Cz+viyjy9tc6kpTQKQ1Lt3b0zmvOLLc4sVMqssJeBowYToTylcYhVM+qxh5pEwDWbqZxuMyTHpiitkihSbInnKQsIExJJmdq/NV7RMdpZhZi6WltE//MAsRjyiC1MPkxeikeGVTe2y62aWahNfYoDj83FlxtALziCyWTMmNXMcim96SmZVM/H+CJMEXpjIQmIaJUTK+YYsnHCoiEwwK6ZwfwEvbE0yCoQng42Gh/vPVVeNmjLlg+nTkaNEtIBdZpZniwteip7F14LEkhf86QVDGLwRzB9fA2A1YqFl3wsNkpFPhGwvkUMsKCiNhRNfF9T0/LG6sKphtoRcQQOlLohnDMgJPMRg3YTwIOce0qH0MieT0stQTjK2e2FcYF8kL4vZE9dem/7jj6xnsG6kp6cC3Kml4bQLjo3NXYYQYTKyxhvC7Dvr9gsvZHjwLQ64B5Znhh/fwLITOSp0nPh7d4AlEEzEOM16DqbgGeyvdL3va0Wflrg9YfNmwWo/dMUVHPmAxRrjEKtC3FHMZraMcF4NRi+PGD8MJGpn1B22DfJPvf0osh/AlDq0Z0/GMPIAf5CEixRco//aDj9BRmIm4Z6Zij/zgFHHlj9DjvHG/sL3v/+O9SbTCC5nfBhURhGSFc7KHMBq/fQhONBwM0QRmO+LiUH0gmvkpbimRw/GsIj6pi5/Ad7ufw4YwGuFFhdK+Pwodin+EnvFw6Ey+K39biXMtWGxaROlMRSxQZo9AABAAElEQVRxDOBACF5bTCWNnRWA2wxgr7q8bqWzmIj4AwewemrwYPG0kX0rtpY40Zg5Ctxw20DggY02aqISSzMNKZUwZmMazgYN2xyw+JzHNcTtIh9IZyGh8XVapC88TFhM4Yw5B9mYm1I1u0Wm71j+mGnNDGxPmGDCBtDh92X9emOg5dVk31u++seXNxlFdByLBfIb7LuRcu3fHSkNvyB2MQyMvlVw8jXvNRbIoIfYViRybNwoQ11EJhOWAIPH35pF+akTJ2KvyJpl1h0kbeQTBrM4+fjSoDFeCFTh3fCK4nbFihWnWD6i6ZugQmKomsHPJzsQSyqkwOO7kBdffNHpdPJ19qPHIZ6vyHMs2LvvvmvcdY7vLtDWKQKKQNkQYNXni93wN/BqgfDrZatFc4EAe/D4qlm/vE4kGw18oD2QT6keoxjCv942ejRfSAjEs/8YbaOSrQgczQjg8nCqH6WTIfskEzoygX2e8/iojo94cNvFo8U7MgQcu7XwaXasvr/77rujpwk46Pfq1UvljaOnR5QSReDoRAALN1RYHA6h8kZldxBaDnP2lKlLFAJW1wLz6PgIiPLWbD8fH43SVigCxxkCZTSsKjMKAwcOjImJiYyM3LRp09tvv42fhniDlLnAEycjB9FmZ2cfVe3FRu6ookeJUQQUgaMTAYxDArHWOzqJP7aowmRFDM2tZGPFxLfkrDHHWRiRAxNK45ZwnLVOm6MIHB8IHGmR45xzzvnmm2/4XEbNmjXPP/98HDPECeT4QDPYVgx5dY5NlmfjTm/b1OWipJcioAgoAoqAIhAIApxY7ZsMOYQ/3/jjJgbXAuQN45Zw3LRLG6IIHE8I/J2+HMcTjtoWRUARUAQUAUVAEVAEFAFF4ARE4Gj05TgBu0GbrAgoAoqAIqAIKAKKgCKgCJzICBxp9/ETGWttuyKgCCgCioAioAgoAoqAInACIqAixwnY6dpkRUARUAQUAUVAEVAEFAFF4MghEJzIwdfBO3muwYMHVxKZs2bNopIZM2ZUePl87/xMz4XZmW/5//3vf6l6//79vo8Cjxk3bhyFrFmzxisLH2UfPny4V2Rl3z788MPS4n79+lV2XRVV/v/93/95RlknPkVSUcVqOccHAnxE7/hoiLZCEThBEODD4Tv37DlBGlu2ZvLBxwEvvPD76tVly665FIFjAoHgTqzik+F8942GvfDCC39X80aPHt2hQwe+a15mAl5++eUGDRrUr1+/zCUcQxlvu+22q6++mo+1r1q16lgh+8477xw6dCjfGXz22WePFZqtdL7+3Xd8jJxv+i5YvfrhsWM/vPNO3zMrrek1bI8AzAofqeVT33wyma/8djn1VLC1z6JPFQFF4O9FgE9Z8xXwhWvWbNy+nW9a/6N3b76n/veSVCG1IxXw1fbBDof5VHaFFCufutfvilQImFrIUYtAcCJHrVq15Ltv8Ovbtm2rpFZ1796drwT6OzyXz89dfvnl5RE5+PhgeHh4icTffvvtfHGvWrXgYCmxKN/It956yzeysmPaua9PPvnkGBI5+FoLsFStWrWywamk8nP/+svRvj2FL167tmn9+ipvlAfnpfn5z3zxRadWreBX2oeHh9WqVbErfXlo07yKgCJQIgKTFix4b+rUizt1urt/fz45X79WrZOqHCcfgfxu/vw5f/55Xe/eJTa8zJF8V+SUevXqhIaWuQTNqAgc/QhUCm9dzmafdNJJNWrUKGchZcuOsFFJ8gb0VK9evWxUaa5jCAE+sbxy48Z4txYO2SOyefNjiPijjdT8rVuf/+qrBwcMOL4/KXC0wa70KALlQSD7jz8m/PLLq9df36hOnfKUc3Tm/WPdOvY+Kpw2RI6Ixo0rvFgtUBE4qhCoeJFj5syZr7/+em5ubmhoaM+ePfnYX7NmzUybc3JysJbBZqZFixYPPfTQiBEjHA7HM888IwkeffTRCRMmSBidQK9evUxG3DBMsrHuSx79/PPPtWsXfS9vzpw5b7zxxuLFiw8ePNiqVatBgwYF7jvRv3//v/76S8qESKvgsWLFigEDBkBbXl7exIkTDx06dPHFF3NrRIi9e/empqZ++eWXe/bsoZyOHTsasgng1HHJJZdITNeuXT/44APrUwnPnTt31KhRv/3224EDB9jjv+GGGyhHHtEWvpz4+eefr169umHDhldcccXdd99tJe+zzz4DnJUrV/J1RfKipbHi5lvXEYhhAPBpedwwINhUx1fn27Rp8+abbxLD8Hj//fdp9fr16+k+xkliYmLzwLhz6Y7HH38cgzEp/Omnn87MzMT0Rm7/LsT27N9fuHdv7tq1Bw8dCq9ff+uuXYv/+uuyqCgCNRkrAajO/v3pp3Pz8qQVrNYDunYd4nDIrfxi74uJ0YqNGxvXrdv/rLOuPvdcs3f4ysSJvyxfjqjz2axZmHWhoGd/sX3TppJx+uLFz06YABNgYh78+GM+m5USF0eC60aO7NGu3b2eUUrMT0uWoFu4/7LLLjrzTG5/W7nykf/9T4oyv88OGdK5dWtu35w8ecrvv396332yjYkFVPK4cf/o1SvAjUBwGztjxo+LFm3dvbt5WNjQXr16d+ggtYz58cezWrWaMHfuU5mZu/bubdWwYcLFF3eyfNHsprfeate0aYsGDSAAYa9L69a0Gk2IZP9z/fqv5s2bv2oVph21a9Q4p23bG/v0qVezpjzFJ2ToG29I2Pxe2qULJXArT2+Ojr7qnHPk6XvTpo2bNWtcYqJRs7Df+cUvv2BAQmdd1KnT4B49+P6xKcomYF81Gbfs3PnhTz/Buu3bv/+08PDbLrwwcIuLUkcRPNOH06dj9Rd68snd27aljXU9e6vA+PI339DvNG3J2rW0i3680D0GpDk2nSUJBJNVmzYdOHiQGDBP9rynaVOmfDl3riQzv8bs0GsUYYpzdWpqXM+eZhSt37bt/WnTeEH2HzgAz3dLdHTbJk1MOQRQKmbMnIklD1Wzs05XXtK5syQIqupgB7CVBt/wY598Qm+OvPFGHu0/ePC1rCy69ZGBA7tGREhim1Ekr6FXmQ9dfrn5jrsNJjy6cdQo3ibGJ7vyDFr6kflBhihoM5mMvftua+F0PXPIR3fdJZE248SayytMG0dOmsTc9cJXX6GiPBQSwgt7X0yMET/uHDOG3nl00CBrRkhld+bhK64gsvJmG2bma159dc++fdQCDs0bNGBCYOqzUuIvzPvINCVPEQ/wuyDMxG7mPW55p0jDOOTNon9v7dvXzDb2bxa2o/SX6VZwe/zzz0GMd0eV5P56ROOPRQQqWOSAWb/jjjtat2593333YXkFW7lw4ULcqbHIAh34SyyX6tatC9O8c+fORx55BGbdihrscmxsLPzo888/b40nfNFFF7V3G6vcddddcKjDhg2TBAg2EoAjT0hIaNu27b333gtHTiGwvIGLHHinIDDAuRqZx4sARAIEj9dee402vvTSS7i1QK2kefHFF2H6ofyMM87g2+pTp0615m3cuLE4wKSkpFjjTfjHH3+EZhju66+/Hou1+fPnf/TRR0bkSE5ORt4Q8enPP/9MT0/ftGnTk08+KdmzsrJIgEgDIDt27Jg3b152dnb5RY4NM0+adVvJGt6Od+9rf7tryra5IB64wP+qq66SZHQHHUTvy+306dORN5DcTj311I0bN2ZkZCBlffXVVxWi3fpbEKNdaZMnwz1IAxPcLk+EP5g+nb/HYmN7ua3F5Km/X8x5o0499fKuXVkaJ/76KwwWDPcZLVpIevhvxInoM87AXAFmOn3qVFZ3zI3kKavg9sJC7BlEckjNynpy/PjRt94q/DEls8QathU+gPSUI3nZXRNLYrnl6cczZrRu3LjvGWdIjDxF28BSSsz0JUucCxdGnHKKeUpY5A2YexgX4s1TSePvF79SeDKaM/Dss7ErmDR/PqLOK8OHdwgPhy+fuXQp7GOrRo2uOffcA4cOwfGnTJiQnpAg3xhGCEG42rRjR79OnZ645prVmzdTNbwU/JxUh3hGJAJMeFgYTDA7rzv27HnMw+sAyL9iY0lJY1ny4Q8IU5fkhSQCVqaWGJ4aeWO00zl+9mwgor9gkmDia1SrZuQTKcTfr33VawsKHho7lorAhF9GAvJe2k03GfbFX7ESbz+K4HcRPjs2azasd28GDOLchm3bnvacBcKooBDYplv69m1Srx7IvDxxIiBIb9p0llRNaaOmTInt3p3C6Tgqsg4DsEImXLNlCyP52h49oKFKlSqGo4JsKpJRRGl8TJq3wGQHkwc++giErz7nHHIxEv7z2Wdv33ILPJ9UDUuXOnEi6ZHSEe9h+5yLFhmRo9SqyVi2ASy12/zSEFpNAsYYgDAOnx861LTLfhQBiAzRlC+/PDsigl0GyjEaP3tMpCsz58wZft55YIL08tFPP2HnyXClENBuU1xgk0hDmP04IbG/C/GGV5K5C4Jh6HkBEfsZFSJjMISIOT8y0ppdGO6YLl0ksvJmG6Qv5A3GJ1IQwjNEPv/llxn33GNeaitVXmG+6d65VauVmzYxw9AuJigS1Dj5ZDNimayYuzo2b35Tnz6oZ0F+R2HhCM8KaP9myVMBn3Je+Ppr6koaOFDmWy9K9FYROHYRqGCRY+TIkfhgwBbL9jZ+3g888AAcs0gIbPAjaaCiQDAAsqZNmz7xxBNW7IiXR9ZICZOYizDiBAFxKbEm45yrwsJC2HpTQlAHT+HgQWlmp9xasoRRIKCWIYymAmb6u+++E5EDjhk9A8qHp556iqdsveNqYs0OGy3U1qtXDyWG9RFhiER+wLcEdwuEMXlqTtOCLwc9MLzRvUnGU1RGSEc4haPG4RZxpVGjRohAkhGhJahWS64K/0XPExERMXnyZCNyTJo0iY7r6+bqqG7gwIG0yHhrAD4tAlWjDiozSX8jYig0LoiMhIdg8+yyLl3YK528YIGwv6d7xAabdsFhsxuK4qKnWziB35rn0XiQa8bSpcgbMP1GDIClY89YRA4Ssxayu5981VXChMGjv5qVxW6ZSCwsaVZ2ec3mzfhht/HIDCx18LUUIjqTabm5pIfXMSoUbsNq1zZVQww7cIYDRutCwyGSErCDoiGETeE2TebRJ9nZi9aseWbIEGHLEMyGjRz5w8KFrOgQL9vVqcOHy9LLL7wL7puSWNZp9tFFL0GNs5Ytg3hEJuED4AzM3ip10WR2dg096D0E6rd/+KFDs2YSNk+lcKvIsWzdOgRCSYCMgbzBBjxKAGLYUIezhOsNUOSwqRoMYVxgxJ+Li5OuPK9jR/aAoVyYRUNhiQH7UcRO6otff42oeY9HicpYRU6jB0UcFUHrkUGD2rn5URQgMEA/L1smzJBNZ0EMsCMJQK0Ib/DWRFqHATIGMaDELzvurT3SHbdc0GBVp4A2kSY7g5nR+PKwYSKioOV77ssv561YIZI8nfXat9/2aN+e1w1xjoxghUDlKtd9lVr1/7N3JvBuVdX+D4MQRgMyBJkCCA1jw9iAYPMHsWGQhodAUKBR8REH7HV4EqfX+9Rn44C9CNiIYOMEUQQCPiCI2CDQBkEaQGmYbEClYWxkaMPY//ecnex7bm5yToZ7b2/bdT73k7vPHtZe+7eHs9bea+/dcwNu5ND6Pz26+uqrlAJVfM6111IE1OltG8vyjq1oJ4+HP2qNhR3Wo5qaqD0mSnBH35h56KEwR/3e+uCD1KZqRaCtZxwU6zQ8lAEV6thOWpfW9KU785+xgsFKRUMDQYFhfoSZArX8patVRWjqa7yO02ijMqKZqebNghhDtOLB8ZeVGf7QJYjJLAb1Yk1Cv2OWh1Vf5j5UC2S0ublYpBGqJUT7nqUqC1iYJfnpHXcwnnzy/e/Xw681I3ELAms1AsboPFYP8jTbvtnYrc1pWJpgfQPbJ5XFokWLOPxUqwQnnHDCWGUNHTVBjuKhaVqtj7Rnz45p06bptMjTz5hfRHweeOAB1mpYAFGhsNHVcbR//etfK5XKhz/8Ya1vQGf7hiyIYsPOFgR3FAn1qH3zrGbo7F5++eWlS5eqV37HpNTbHfH2jMLKln97fsxhiUNxAgist7Dwol5RP9C7PI1heocddlD6BlZqLC75TYEViyldip4dawoxGMYAhl3OTD0eM2UKq+p8hFijwMFfJ5NV6pvEl4y5Mb79WOwg7+qtIEzIQQfBCClc/SEFYrLFh42smb3DEIU5XT3pq4yLkHgUknzSkPCgrP7YZIK/kiNx8Klj8g8iuJE8mNtGRLPKN8jTVikBVnVapBNoqlBm+tETVHl32mYblbXNLzwzL37oHnsoFYKYCJTsNH3W/K4jFeGDWK/RU0IqMpyiqSIoiUr5UGqmUV9unKKr9Q08yQtwlDSgIqtftVRiLZ3yBzGS89VXiFGtgKlLzVE8W222GfqhJgVvLBfo104cLbPGBA5448cdx1S9qmjYYFMp6zmd0LRvRbANAszC6lakNA1NHEgRm5RARnbWVmRfWUSm+AjW+zbMI//x4ot4asQ08wBL0ZDetA8O1Yowq9NNFLMu6l21Ipor1nFMTuslEcW2aick/8099zCSAJq1frW1mM7IJuveGrCm3M5BjgShjH3+l7+kElnf0PoG/h22IkWkqYk6YkJVAqBe5yE7arO6ciUOhTZDDc2AV/WgDFDFqr4c20kjUYv/zH2wDIW2r8PoGmSkeqUqCwtoYKIf5ambyjiNNmRHRrQQqoBmxswFfQ18OlnisLLKMMKqqfZRDtQ5aJ57zDG6BaomqscEm54FBUIZahjzr8znMSb89PHHi77RhLC8rhsIjOUqR7VaRXy07txA/EW41NI5srVVcEfItsrZfQKKlc5BBx3EUgMHwgYCAbaInHrqqWNiqKMY41xdzSGW+SvNsRsfCsWvWoFREdodh6WTWx3qICllM2b1V25C2Znw3lGHY6wwpUPiYDnG4sDpp5/ONokDDzwQEI499tjRdLr2We1a3bwe06Bh/VY0/Eb/x7aK7RzYmJ144onLli174oknWIHR0VCTMDZjYwxt4w3TspYgGo+O0LNjTSGGUIvUjjkHv+wu4PODkMSUIQ4W3zv5qqkZOKyhVNlZlPjm6aerDw9yJAIBf6c0lrNUnI032gjiuNU3W2+BwIeZRX7V+SeoJciU/Fnn+BEL1EeRaOpjDwMIglhMkRHLDvirByWEIIx81CuzlWhEh+2xh3pVbEOBgyOR/Jg+v/ORR6Cs7Q3qVFr9AyLwUdtFVDh5IZq4NzGsZbDA4fvN5K5OqtZP9OoKpUY/Qc3TESg1iLGGgA+kKMtNxSJ0tBKiZrt1fByaf6un8ofamZdcYvVXYh+bRigswgp2PjoU9U/VhfZxdLTMWtXRf111VVPyDo+yUTRbtiIAwboGwM/44Q9bEqcIqFVIPDrU2orsK4skwE59sbiH7R/IwAnNvkm1IBr+tO0miUqxzY4L/nTuVJZqRczN42ltJ7CKj2onNEhWt47aZx+WPnTalg6brHtrwC1zsXqqjsl8AeWlrSqGVYTOW5ECR/dWldweE+KQNX1Hq+v4UJs7m5qe4goDIdYM8cEKjrUplQst3LGdKAba/dLdWKLU2j7RVLdFRcetsr7gZz9D7aR+zz/uOHIka5r39mb1kTuv4zHakDuUUX5YR1XMc66gWpFTr538QqHl4EZ10NStw4tqompMsO9Z5AssFJzVXdx88TvhROIIAmsjAsOfzP65Z56pfyI9U0C7wHCLVQ72r7NVgGn1m266iY3XrBL0TNOaEBHN+qrdajtKu1AdrZ3DHjRCWRlAiWpKrrUajsClmHfeeSdLSRhZsREFcy+2YjfF7/b1+Xv72stBdvvuuy9bem6//XZUDqyqWNOw6kKf//znWRDDmAotke3jaB3ck2gPhU0RrOZqawqxS3//e71G/59XXKG4ZbsFf18/9VR1Zq5NEQjiq8N3WlkjIBxcdttt7MJUpsDqO40xNLODViJIeEp040OIv3XujWkzfNQRKCo5W5D1RClr99hPa3GEjyikiIbcdvXixZgP6WUHiECc6U9slFXWKCSYeegpSUWcCVS2H2BNgSCOgIWJi4ps/8t0JhGUGKRicvMGn17FJ0XA7GdzU/1QoexnxbF7Yw0QxrBNt3ZLkrAFhbIQDcMb9sKyZwABCFGPhoH1f0v7dSJrZFRG8MBkLZYnWsxlYwATmarUBBEB3lRk9csySBMRa2hLt4KuKRXqJUbwTJc2JWmq+qZQ/QrNdq2IJQhEH+4TGL2tSJVL8TO6FSkO7SsLBlA5EOAu/+MfP3LZZYoflulUXWj2cJCL1le1P560ZK1j8yGhsnQbI2umlvUSB6lAm1/FGGsdKNXKtl4TbOlolzWRe2vALXOxei579lk+Dex0Z0WLrRT3PP64Hgo6b0WwTTtXirQmbo8JMyAYT2JzqOMrqRfVAh+4ol4wAXrxlVd+tWgRxpDsDyEXPOk+ju1E0xztYKBgsRS7IGsQ3RZxXO2/ImtOsGANhK7K2IiZ32WxGFnrXjB+o41R8OeeAxOsH2lgWFWxKsuOiw6NIVWJYM86s6OLSXVYx0z8aaLGMp25HkK++LTrWQSBBrZk/33qqbD0uyVLTj388NFrdDovcQgCay8CPaocLF9g59NUbNYBmP5fvny59icOW8b1vgsEZX0qFHHY18Fst47cvwO5lp3lPEi08+bN4wYPLI64e7t/yjYUWMYhlNl6vVKh1j1skliDkMt5ZRFg9FIG/mzYYKEAOy5sK6yprG5Edg6D4kH5QYhnq0z/KoeVfs9ullzYF87ahbKq0stE7H5BLeSYAbb7K+Isg4zORR0IZlUnVBx1FMGqhvEMnnrrC+41hdgphx6KeMocLTO4JwUCmL+jgaidylpYH11Gqw8fMwRidQYU/uxE5zukIiBA4OCz3TTTqZOTlllDPemOQIzNAEZZTKwSh1B+McrSQhvyB2ZgOjmz0QjQfBexs0diUOfG6FCmtxEH9TlRippVREAeQkFinhJ7AMN4feVKHaqJtHRwwBf+etUCtzL0V6IS8pB13hopgcls5BVtmgI+1mlFXuENHQM6ympi4IQT2FmusmZdAsHUujdD+ZMEYa5JoEdcQ3jC4ktXB7UJn2ruVrGtsNXEEdSQ5tVrh78ts6auN990U2vtdEhNRYOmfSuiCO2IkxYiVlmHJRfahtrBYl9ZKvdD9tiDaV2qgNbCVunRzcBoHhb7NF00skbz1FtlWJFDrdXJWTm0NhJS0U5ozKogyjpotG6jiSuHTdY9N+CmLEa/0qeAApMwbPqvv+8+TBa1ytF5KwIcrX3pLOwxYV4AWKygsfZI2iPM05ngSqMNY2iJAE4ujF0oBmq0sWknmofRDvo+ur01X2ZPMLY89bDDVGREc0R2Kpo/Bhb2mtOv6bl6Y8n4jTZqsZejtFSnxur1qrvv1mPs6LKM9qEsrNiMrgvGW4YLa6mZ0GH7yuF77WWdEmrXswB/5WuvRYNBRjNOGGOFU236H82A+AgCazsCPa4AYD2FatF03hQS/6GHHoqI/KJpxQs0THJjgKSNqVAG2Lqg5UtOW+oBPoRvq4ipKTRdTYihEUFjsrFBZ9HScbh5ggoHValQJGwm9VvGbOnJ5hY0MQ680tseiIZQriIjteNQB17p5IRqGyRrqZHROfZK7ZHQkXtzbH/k2yc9tLLln+NxVTpH9oJT++yt59QyfQAXoWpFyFo1aCY6lXYoCz0O/9U+ysFOIdJCU71iY6Y3C+GzphDD/J2ZQjYXIlLwScN8he8HDv60JtBUEOurmlZXexXwx+iCbyFnv6o4aqqMz7M1idp6oXz4kKv5RfXKuU8IWHqTAxIG8rHWN5hwxZi76cOJeMeGXY4qYqFDH6QLNQQClvvZnqE/qFDDoGuXxt5fXrFXXvr00+zcZVaPV1I1EVdcjf7liCo8MdNSQc+9/DIbLhH0lWaFJoDoDzIqNPfAAwhSzP/pyICspoqVDwboMMYmfl7VLs8dG4tCSAA//uMf8ddSrErCLwyP5laVwqrggbCOptiGGUUEwx4msK0bXjVxe0fLrNH90JeoI50WERBk9KuNw74VIVgjlze1IpRPYFQ0KSMOpXjgoAUiNh1/4IFqft2+sojPEUBsfKf9cz4Sag8tUCOm6POrgG1ZC01oE1knR/NE/6QSFR1st4AIOV7Jc0we48BH54ID6dD6itsma8cGjHkeh6JyUnMTTftXGgaNRJUCcZOZCLoYkxEqVYetiH5NLxiNmD0mqrC6KhlP2DTFCoZS6vDXQw36AFoiTJJEKeSO7cSm1Kqp6K5B12VBFTUGQZ9USutTWQMObDAdw8KmngsY19FGYaILztoL/WW04Z9N6dSQ2zQ9QXyaHxqaLjU+HNZMoayKFp66Opp6Vr1lmnOXnPYxdffdORdE90obfiRIEFjrEOhxlQMJ8pprruGU2+nmLjE2gqvLwpm65iQijGQ4uEkdksv9G/rYIqz5OZeJk1JxIIwiZ1sn79kK8uijj4IgB6ryy/UaSirlqCg9QY4/B0Yxa75gwQJWFRBeUWOUkM3sPjoM1jscX8vSCkZWnJeF3VEnVcIGALU4wx0axOfcKkUTDcpRgmeVg8IiWBOTbdDoHlofUFkjHCt1AkCYAVIb3FmaUMsvlPHrX/86h+SeccYZnITL5hZWZjhPlgKSHH2Gs3e5ouRxVuSDQSgDDsW/9dZb1TYVDrMiGkodR/GSkLtBzrRY4SsG1tQvBaT2L774Ysx/rFZVHLHFthPWoFjBAD1WPCjdaCYpEfgTjabFYV9UpUIMnEOhECfqghXa2vXXX49yolfP1iBimMQw9aiOsGRzp/X4ndGla/JR0+pIBtgE88v5UWw/0LuTmZBD5uBeCCRpNoq88PLLHADP95uDU6FDfD7baBT/e8MNCNy42YbI5m91CA8R+NRZ5Tk1sdckxCBzMKVNh9KnOpIQ2wN0AOQkjtnRDEON+zGUmQTSMJ9hvtysb6gs6p/Phu2TTtXSwYn4zOhz1lDk0EMRQTjEFpn4gsb1IBQBUR45DzucJ559FrsmNglwVKUipb7fzIUj5qKlcF3DokcfxXhMCQRogJQFNQOjcGZeUVeUUXVTqRFxQEOfxKWZhDjai7b4ooDIE9pcBA0QyQCQ4XbbLbdkAQSIwM1qA6ZJtXO0y/qDBx/M+gAznSyascKATsUGDDZGbz/yXNGWZO1bEVVGETixlFtTmH9FJIJt2tuCxtHVlJpWtOBPf+IoYUYqjuRCkNImXvaVBT/YAQKUOj0Myvg0oY2PqjWtS6hSqFakmyueTU2UroTey00F1BTtDYEMTR6VQyUHJcz56DIcLcqSAv2CFS2m0rXKraLZZO3YgFVxrEtqiqb9L22GpQYNAgwj9zOzri6C6LAVKaW6CTHytceEwmKKhnrDAXpkRPvH/Ow7Z52FcIxmyHYLFjRYKeLILIBl9w79iGU6lYtjO7EpNSoHVUOL5RQ48sWQjI5Jk+CeIlKpwYEKyj34IPky8cG5TLpexnu0URmxpECbZ0xAK2CaAI3apjhNQWo/FczTYGh1qCuoZyoO1cF5blyOxOGEoMotQyjeusGQtU3PUozpdsJyB4diM7xwckYTA/IqCKztCPSociDoc2IsYj2yLxAgAiqV45BDDuGuN26CQ9BEJuZ4JWRixGsFE/Il1zVwjq2614Kr/bhQT892swCiLW2Irw9+5XY/6CsK/HK3IBZZbG/gl1d9FSBiNzI3AijT3kyEk+SCCy7QxHXylg7UJ+tKwic+8QkVTRNvmUp7Ugqu4UPcR+fhpCZm97/zne/oUM7A5aoN/foxU0zkBg+0L+WJ2kbuIIOawdYxVCkuqdDxOUcYTYajcrn9A5siVm+41QQRXEXgcF6KzJYV0GCJA5VP3xaiKaxBB2hwYjKWdagZVjZ+8IMfANEvf/lLyosqRZuxLoPomNwayWWR2Miha3HOslI5CP3qV7/KgcgUnIpGg0Wp40IVnWpNIcYnEwEUkZfFd2bu9WFTmjEbh5pgRr7njw8b043fOuMMbRyMoPCN009P33GHOniXrxfE+aQpguqLhaTOV/yKhQtJjq5i/VwhwFn1HxW/SYhRHzxEOqtygsUFk6xcKmJd90Bu0IwhDyFUcV2A3vOArTbzr+rbbFNeFcTaCwbl8MzVJayQsNsVARcxV4ViY418gNjElgzEFw5stQqRlAKJ/1unn37xrbeyC5ajjfTFhSSndJ874QSkCkzdKNGnjj8eqQtWkcOsXCmTBv2x10FUh7Y+xxMxFxysiHFkPpSZ/Iamf6edOImoq+qGZrussbb/r5NPRtzHCAe1h4KjNbG7Q/Nm47BvRSQEQzBHHgJzpENKhMxHcyIIKYraBHMaG+tFdEyqg70Z2hrEvrKwA8SWD9VUbRBSB2dZEVNs03jITh2EpQuiWpG14VG51lZE8blLjvNDaZA0jw9Nm0bjV0qvIoKqCXvYDqF2shyH1Gs9b80xa/sGjErPqdAIl+oAWc22o6MJBEqNyofNDPaBysCpk1bUToe3xwQAmZtglh3EEPE5Axp9Q0nAjAbok4jdDzz1FOuo6ANwxRQGxdEdwaadOJaaAyQws0QDJBfGDS6z01tKVFmUrL/n9tvT91l1YfMYswPU/oVXXz2uo43qHWyapwg0QhoJJwg3NUX70oEPhk+MJKhSxGRdV6scZ5lqG7M2/LGQYh2LHHsWjNF6VTeELIwxb4XKwXDX4UBqz7aECgKTB4ENGBdGc8Nxpfqc1tGhY+VD1nxMESXVVP1YkbWhw7oKN1VzUBIHTKlVApvI60YQO7ORHliPQu3pyuJr3Sj++lAKZt0uufVWfYtzb0Vm5piJycvPO0/NR/ZGZCJTMaXN3LNa55nIfNfVvJj55tgDtvFYVxvW1cJ2VS4US+TUuWeeyWJjVwnXYORz5s/Hwo21xzXIg2StEJCeJS1hPUEAI2sud7YvbI97OeyJ2oTqE1GJw5lFvKo7+GySjHkQZmCoOi03hIx5Xmuc4Ne+9jUKqxaj1jgzwsB4IMCMpnWSrIcssBv+daGAvfXaom9QRkptnRfvodSSxIoAePIqkFoxwc2EHNo4ywVrkb7BKitbX6Qqm6pyTb1Kz1pTyEu+kxCBHg2rei4J105zthKWQi+88AL3NrBPQ+0G6ZlgVwmx3tHGOfpauq4orHWRP/3pT3PPIGwry7e1jn9h2BEBPml6T6Rj5KYIj1YqJMe+H39sA5pCJ+2r2pg7+rDXScvw5GeMZoChmt6+MvkZnhgOOYJ5rVtJUzJuz2PCxAC7/uQiPWv9qWspqSMCE61ysLuXDdbsPWDzwzHHHMPGjIkUhdmRzOMIyroUgUN41Tm861KhpCxWBDAF7tkY5md/+hOnUmLqzaYIfSaVlfjkdKuNuZzAMznZWxu5ohWhb1g3SKyNpRCeQUBtWpDeMUkag/SsSVIRwsZkQGBN7uWYDOUXHgQBQUAQEAQEAUFAEBAEBAFBoGcEJuNejp4LIwkFAUFAEBAEBAFBQBAQBAQBQWBtRGCit4+vjRgJz4KAICAICAKCgCAgCAgCgoAg0DMConL0DJ0kFAQEAUFAEBAEBAFBQBAQBAQBZwS6Uzm4HfyAxsNt2c7ke4rB/dxksmjRop5SSyJBQBAYewS4UfiCn/3s3ytXcrMYN3hcdPPNY5+HUBQE1j8EpGetf3UuJRYE1lMEulM5dtllF+7J5tl3333XFGBXXHHFn/70pzWS+yW///3XrrmGrLmr9aTvfQ/Za42wIZkKAhOPwME+H5cEf/iyy87+0Y/+9s9/fmz69InnQXIUBNY9BKRnrXt1KiUSBASBlgh0d0ju5ptvfsQRR0Done9850svvdSSYv+ehx12GLcEtjs898orrzz55JPf97739Z9RtxRKTz/Nla6kemT58h3f+c5tttiiWwoSXxBYSxHYfJNNLj733Gf+/W9ub9h+q63W0lII24LAZENAetZkqxHhRxAQBMYJge5WOcaJiSayG2644aabbspvk/+afa298cZTzz/vf/e7YQPdQznWLEuSuyAwkQhwLRrXk4u+MZGYS17rAwLSs9aHWpYyCgKCQHerHJ3gtXjx4ksuuaRUKrnd7iOPPJLL/nbaaSedsFgszp0797HHHtt5552/9KUvzZkzJxgMfvvb31YRvvKVr9x4443Kffnllx911FE64VVXXaWjXW0+Kuiee+7ZorHacN9991166aWPPPLI22+/veuuu86cOfOcc87RFHp2vPbmm7XXXy8tX/726tWIXJizP/L00ycGAjg222STTTZ2xvBTCxY8+fzzTQzMPfPMg3bbTXliqXX1okUsnrjf8Q7W2T/x//6f9V62RCbDfW3W5AfuumsyGsXnIz/60bS99vrsjBk6FMvgb99ww+dPPPG4/feHQyxhPh4K/cfhh6sIP7/zzmvuuefagQHFNoztsPXWg6edpkKvzOevu/dezRh3PJ82NPTmW29p4jg+fNRRH3nve3Hc9cgjc2+8ceicc/b2enl97uWXsfX3bbedYsyapKX769dcc3+5rILeteWWJx188JnBoDXm488888u77gIZMDlszz0pxVZut4pARcDYBw488JPvfz8+WLjNufbaN956639OO43ivLRq1VmXXmolhfuEqVM/84EPKE8qFLTvWLr036tWvdvjOeuoo967zz46/scuv3yvHXfceZttbv/b39Azp+62Gwk9m2+uI9g4HDH5wc03P/bMM8+//DKobr/11tTR6dOmbbgBIofzQ2WxtjbnP/5DRQU9MFSVxfXh8//wh59/8pMgqUJXu1wXpNOUlLuTWZfA06YVEQp6VP1tDz30wiuv7LLttlSxWtBT1OzbiYrT7tcRk3YJlX8/lQUmVOI1s2crfO/9+98Hr71WN2DofyadXvbcc1YGPn388XRtfFQrwn7sNHNd96233/7S1Vc/VqnQd96x0UZEsKkOQv/+7LNUCt2Wut5i000P33PPj06f3mGnXvzYY9/KZn9w9tlTLCOnZlIxZu3UP7vzzmv//GfFGEX+U6l09Wc+o+PjoNX9ZdmyX33603TST/zkJzMPPRRmVITC44+T1ymHHPKfxx5rTdLSTb/70MUXv/bGG4TSqN69zTbQYfyxRiZ3GhLD3XZbbUUPBT3dvB17lv0w+OxLL1HSJeUyw5rKUQ8+vH46nVa3bmtmaMY//vjH1at9ZRHHPmsiLHz4YSqU1sJwtOcOOzBYMQgr4vZZj1/PUrnLryAgCAgCawsCzuJyVyVBo/jkJz/JddezZ8/G8urnP//5ww8/fO2112KRBZ1nn332/PPP32qrrT7zmc+8+uqrX/7yl19//XUr/fPOOy8SiaCufPe737X64z7uuOPeYxo1ffrTn0aTOfvss1UEFBvl+Oc//xmPx/fcc8/PfvazG2+8MUTy+fyYqBypP/zh9w89pHKJ//SnyvGLu+7i76uRyFF776182v3yyfnniy+G9tvv6IZce9ejj+Yffti3/fYqCRIGSsKUd78b+aby739n77vvlVpNS5bE4frSI/bai+83bkTJ5I036rSI+FaZidCrFi3i3tn/t99+RFZBezQyUj7cMaz0DcXYNBNVgu5btgxZAYcmzqoOkjEysRJ9/vHii1xWrUMhjjCh7rhFIPvu73738qpVOhQ69g/JA7vvfvLBByPH3PLAA+hCfML323lnlQpJCH2GfM9+73tfrtVuvP/+51566X8bJxZw+fTrb76p8kK4QY70ejxfnTlzS7MxIAx9LRKBDlC8+tpr6G+4d33XuxRlSv3V3/wGiRAxC6EfIRvw551zzj6m4rTy9dexHULsPv6AA77xoQ9RcYhriHFfPuUUldz+1x4ThEUoH7bHHpjkwT/KIaXGrOKDhxxiT5ZQVVlHWhqbqlwFgqpifLTKcfcjj/D6pZNPVvoGFGxaEcTRXtDxUMzQamiQ37z+elRHJVQ5thN75u0xsU/bZ2WRNfgofQPRn6okO91EabQ0aS5ut97drlcvaSFE3mOHHRSHCLusbZJW6Rv21UESuhKNB1WWlklzvfEvf3nltddooooavzbVAdtsm9m9zd3qijGkXk0KH5q3Yoy0mmcdQeHAKytUKFSIzpHDDqMRokF99//+D53hPLOP6PjtHE+vWIG+QdoDdtkFVZDWS6/PXHCByppUC+6447d//jNj3fsPOACu0n/6E9MWZx15JEGOPct+GKQjf/nXv+ZydHQtugwKwKLHHrNesB173/sYrOhTBH3xpJNQDN7ZmCZwrCz7rGGeXXy5Bx5ACT8vFKIgaPvFJ5/UKod91uPXs9pVk/gLAoKAIDA5ERhjleNHP/oRezDS6fS2225LgffZZ58vfOEL1113ndIQfvGLX6BpsESBYkDojjvu+I1vfMOKC/4qyOqp3ETmwY06gUNtKbFG45yrWq2WTCY1hTfffNMaoWc3H2mEkivyeWb1Tpw6lbnSP/z1r0oG3bchItsQR+BAuOFzpeVFPpaIhmrKEzF0KJdjuQMBV0mHq15//eZiETlbTeojKiHKM82vki+vVqGmtQhkIOR1pHY1lXhnqcRUHwK3em0Sm2CSUM2zYkyRQhRWAplmTEXm99j999/NlNdfNvUunTWk0F42NRd50L4e/te/iKxDcds8lJqlCWZAVaHgn8lLHZ/pzO/fdBNSywWNdQmQhz20CyWHqelM8nrwqaf+94YbmEIeOOEExBFFgUllRZaDlfbZaScNuwr9TaGw9F//+vaZZ7J8gQ8aI/uhEVOUyqEoQ1AtiZDFn594AlTR5TpZibDHhBrXWhNZH3/ggefOn48Eoxiz/1WVxfKLjvbEM8/oylJiNLmjzxABPFG3kErf1zjmwb4V/fSOO5BKL/rIRxS8NPjzr7wSwVQJVY7tRLPU0mGPScsk2rPPyqLBKHUCQJCtaXVQ1k2UciGkonI3tRCVu2oJKjIiJssITWnphu2qg5hM/2v1j1c6NdP/ijK/9tVhILbNNgjNOr7VoRizqhy0BLR3FYci03Gs8Sk7yg+6vfJkBuHWBx+89t57Ubn/57rr6Nr/dfLJeiHCmnC0W2XNgLCXqfDQ5RkJdTSGNfQNxH0134E/EP3u/vuVyqHStutZjsMg6FWq1R999KOqifIKRGrwUQxAGQdTFZ4tttAMqCD7vuOYde7BB9E3rMtKHzriCGaFFHF+bbIe156lGRCHICAICAJrBQJ1KW1MeH3rrbfY9s3GbqVvQJOlCdY3sH1S9Dn3ltNvtUpwwgknjEm+igjbP3CgeGiaKCfa3Y8Dw6EDdt0VWf+YKVOweuIThSiGg792YoE1O4Q5XrWggxtNQE+18vnn63XuMcfo2Wj1TWVSXxFhNtSaXFHTySHLvCOzj8RRgiYrA1qEQtRA/tZGQcwUIs3rtJoxEn7v//6PJQLmSnUoBMma9RA+7YoT4lPenSyvWiBD1FB2ONbkKlXLX6UL7eTxUHaYvOEvf0GE0hPMmH6BBms+iCzqT2HC+oPmBAf8fP23v0VwR8rR+obOTs2qWmEniLUFFkwO3WMPpW/gw1wvs6HPNigjseGJ5YmmA3rMkqL1aR8bByw5YgI1BFAQQCNCKm0SENsRV5WFXR+IqT8ETY02tYxFmUIVCghkFGTW+96n1SSbVoSxzU1LlmB6hyGKQnv16tVIokh4ihmVNeVq107a8ayTO2LSkkKflUVTByiVNRZ6zOirDmttwOSrIoxmgFJT9TSPF199lROBWWYkjgbcvjqIqfUNqpuCYIGpOzihNtVBKMTpiTBPh+W16SEU4igJqhkwLqG9K8ZUkelW1KNOhcANA5pzSnTKoYdS4//929+yOsFqaieDmKJG1pRi2y22IGtOLcNkbsZBB+klDhY9QBgdT3dbMsUIitZOcvue5TgMssREI1fjANSeeuEFXSJdUhxwOLpC8SSoXd+xz5o2jxEm+Z7asE1V2akFVfusx7tnWXMXtyAgCAgCkx+BsRHKVTmr1eprr71m3bmB0L/DDjs888wzKkKlUpk2bZoGBQsrHv3ap+P973//QQcd9K1vfSuVSgUCAbaInHrqqUoP6YcyEgMyPbss+GVSk28t9tlMGeLYlAUd06rbnj7TewjuzNOraFgaIGSr2Wh8WNNH1LMabStLZYir+EiWWFnoSU2oWY0u1HcXT4hgrIV4wfy95ofvJVILAigrG2hKakpSf5IVY6xUMCNOAZnk/sKvfmW1zEaEJbIWlYjPp1dJsYgRKAAIHIg7F910U2jffTFyuOeJJ7RMoHlo6YAU/ljvqFAErG+efrqaaoVnrCOA94wf/rAprf7MKxkidfvtzFKzb6cpmnpVWTTJJdQdlNlBoZOQHeqEe5NNlA+U0UDQMHUE1n9gDHFH+7RzdIIJtaD3maD5XBqLWe3721HGXxWH3TLWONbtFpRUxVFCEkXQbYwkNq1o0aOPAiLyIn9W4oiP6hWyhubZvp1YUzW5O8GkKYl+7bOydAPABuY399zDitmdjzyiGzC5UNf0XzqOztHqIDmQAibaOOuNGL+x3mXtO0RuVx2kojPeVCz+a8UKraxa+7hNdbB9CC2CSQRGBrJgHEA9ZqMFioRiD8Zok2decomVW8WY6hfYAf749tupL4wSj54yReGgOScVGvVv77mHlRa6PBqIlY69G1I0FVYFVTSan7Ja5JWxgsGHv1MuushKZOONNlJDmX3PchwG6SYMZawwY9PFkiP4MAFkzQg3sMMAu8Ka/BUC7SrLPutHly8HqDOCQa29NxFXry2zHtee1ZIN8RQEBAFBYDIjMJYqB5Oja7CoaBcYbrHKwf71u+666w9/+MNNN930s5/9rM+Try79/e+18cB/XnGFKiA2yvx9/dRTrTJfu7LzMUbQ0aYLfBQRlLUozHynnnFXFBA4jMWEhoTBN4/keiaSLzdB+pUgVAI8j9pnn6sXL8a+wkoN03wsDb7zu99BGUVFGTdr4UMxhmCXWbyYDeiIX9bZUOqSiWGMKHS5+HLr9RMl3FAKLKC22mwzzJAuzuWsjOlULR0kZ6aW1QlCkZ8uu+22H912m9q+wgcepYtv/OhNMhq0Zc8+S6ZYxqMsYVeGrchoyUlxqAur2FCzy0hjmivm8hEXdDTKyGYGq3jB7CzalNa7dMLRjk4wQXZHzkOsxCgF2BGFsQ4fTWq0D5WF2qklPGZ5kSw1IMSnCGwRRkNGw0SnnR0OW4nYtCIo0zDYeW+NjxuElY99O2lK1fTaCSZNSfRrn5Wlsmalgm3fWNqgHqNT6Z1L5EIrQtdtWbM0CRBmZoE6Yn593tlnK7tBDbh9ddDjqAuaJdZ6aLMMjCwpWLdY2FQH7Y34HwuF9t5xR6YniPnLu++mwXBOADwrxlgZ02pzfulS5ukVY5SI4mCi+eIrr/xq0SJsyfbfZRdwwNO67YFTIqDDKKR1eI25vQNSGBGxIMbgACCsHbHxTB1NodD+ysyZrLZZiZC1Gvrse5bjMEgumLexa0sT13WhfWj2jGC6L2t/+8qyz1otzljVRU3W6miZ9bj2LGvu4hYEBAFBYK1AoEeVg+WL0TslttlmGw5wWr58uS45cdgyrvddeL3ep59+Woeyr4N9Cvq1f8dGG23EznKez3/+8/PmzeMGj6VLl+5vEZp7yAIjBL7uTKgjnZwUCDCRjwaitoGy4bsTgnxrD7cc6sIrqdR3kQ8/30jrPDczeSgJxNdT/nzarabJJLd+U9ETWD/he8/JPMz8XfjBD1pZ4kt55Sc+oaQBZnMRubC35iQZFQdSbHVgEhf67E1HVNWM4SCUBYGDGvP9KAbM0OusVSmY911qCmSoQOSiQ608tHQbpdhhB31gF7vz1aedyAjN/KKQqIOwRieHDZjh3CHM2zg3hr3gmHVpWVzHJwtlbqR9cHDyGL9WwMENH2WNjQM2rOIFr9BBdiTI8ekEE4BS9mMohywT/fFvf+tQ5YA4WqVGDBMa+LECjgTGDDS1gB0IVkB6Iz7RaGY2rQi5ljjt0CaIrG3aCRFsnk4waZe8z8oia7RHtFkEa86hYjmuunKlFTGw0is5TTz8yxRe6YyI1J8Nh8GWJQuajTaXsqkOZXHE5iJOIFBkWWZhtUcvVNpXh0KMoyZgnuSH+HwMCNrITTHG+phuCQxHmjFKhDqt9nWwGezyP/6RNgZBxi5teci2K1odR72xIR6FCmSayt7uVS1YsYagsqb3XXX33U3dlkGGSZCWFGx6luMwCEHmFPZ997sZLZkcQfdgk4+1KlWOCrrRqohNZTlmTZ+CuJ4walk0PFtmPa49qx0n4i8ICAKCwKRFoMe9HFhPoVo0nTeFxH/ooYdyNfiLL76oCnz77bevXLlSG1OhDPz1r39dtmyZCs3lcj3gsuWWWz5nSu1NaZuuJtzD3Efb/3YONkoyU8hBUixo8K1FCkckxcGfdfNiEzP6FSlntKCDscEu5oZsvmQIMax76PgIAXzaTz3sMOWDIQES9vTGJmBldNH0TeXTi50GgiYi6Xss24sVBcRuTBH4Y7qXr77+TivG7vv735nMVmIHc3KaMdIiiyOrsW1d0UGawaGzVq+/f/BB0iJkcHwNwpAOVUna/fKZZwpZbUknDoWCMb1jBEmLmVEYsyZn3QPklY/16450hQTPbnsESmt83HA4mh+OqCKIKUkVGWNr0iLAKTmJV3KBNzhUEdhVAibq1FTlY/PbFSaIs0yfa3M7G7IEqcqyCnNMzVoriziqZn+az7NKxtYgK0H7VsTaFPCyomVNAhH16thOrKlGu7vCpCl5n5VF1myIQiXmpAelEkNfNwmKTJvR3aEpa8U2p5mxyqc0B3qHTmtfHYwVUNuxMdlPRf/4j3/ER+dlXx1kzcaPHUx9g1SMBtSFnt1QjDW1BM0YXUN3KyoUiyaCSKK1HXR7RhhOWGIBh+3jLI/o/VFNCIx+VVlr+pxvRjfRZmlqVbap26o9ZpCy71mOwyAUOOCBEYmqRNVhfWbzTTdVKpmVTzg01nMaZ9OpIPvKcsxalQs1UmeEItFytBmd9bj2LM2POAQBQUAQWFsQ6HGV4wMf+MA111zDKbfTzfPd2QiuLgvnhNyPfvSjsVjstNNOU4fkcv/GfzRuEjj33HN/85vfcE4uDlQRrtpAf9BIsRXk0Ucf5ZXzbfnleg2lMOy9996sn+hoBx98MEZTCxYs4MxcjIVQY1B1COUgLHSYY489dpdddmFpBSMrzsvay7K8oCl060DaYCMHigcJEROttkaOpDB1II6WCXAjFuy67bZ60hFqzNjNu+UWtltw/hKXRTBzj1aDpMKyw6/uvhtbJj3vjmiO0YWWXVTuECcmUFjP1R3NGEI0ydlsrYIUY9j5KIEMTz7YijFEHD7wHOvJIS16s4oS9HXW6hXmlYEHlJE/dOjo3K0+aqYWTQMran6xjMLeXd1+QDSQwR6M45IwomC1B5ELhYqYC84/XxFRoo/OK3rkkcTkTFK41bmowlpXh1QQO1UQVn54662RQw9FdKCMCAoXNG41UYVCoOHYXPQQJlOxxsaMvslWROfS5LDHhJO12BLAJDSaKnIeVcY8NHPhTURavqrKGiFoNipLx4cytYmZHPt3NTidtCIWuEAPyx8msFGAERORiRHslCJq00501jYOe0xsEhLUT2WxVkZBaJNKJYZaU7NRr9aOaWVGsY0xkrr4RTUndUq1Qcrs1O2qg0kKOiNqBjI98i6HHanNDFRKJ9VB1qxacMYxGZEcJYGpfT0HQSiqprYMpIBMWNBfiGyo/StWsKCBaM5IQhema9CYsVRUxaQ9YyYanjpVrdpBk16GaeLnOmuEChOaLp0RxlBdOBtKjyc0GArIygkaF3veXnj5ZW66QDTnWhh4U2ltela7YZC0PAwvcP6p449XuhPaDoeDqyDrL7mAjB6yVJB9ZRHHn13AfwAAQABJREFUPmumlkCPg6dYV2SCgLGR4mM/1mTJ2TLrce1Z1oKLWxAQBASBtQKBHlUOBH0u8kOsv/XWWylnCNnU3O58yCGHzJ8/n6sAL774YjZXcHoVh+Tqq/rYSv7jH/+Yc2wvuugiFAOu9uPuP70QwQIIF2to1Iij3NzuB33tz92CWGSxR5xfPPVVgKylYEZ1/fXXr1ixgiOzSHLBBRdo4jp5Dw6MUrbdckt1xxwT5PpgpU5IKXt0LQKSBFnHut3iLFMsQADlj/k5dYUf0RAaMIFA8I0fd5zOqKWcpIgjXltlIJ1EO5AVEN81J4oxBDI9Kci3me8r8RFEELW5IM96XwRZY5Gljb8RAvgSIwQo+uq73k6A0zwoh8qa5QX+IIgY8a0zzrBigvLA7gK0rysWLmSVBrJIfvobDydMWutzh7CJQsTB7gVrbx2Hwq587TVdWM0AZLF0hyzYQoQ1HBYErNYyaCDfOv30i2+9lQ24ZKGrQ1OwcdhjAm/Y9yMIkgU5siTFTLNe27EhS5BCzFq/iDjKfkYnZL6WqgQcdVGj8u+kFdGwuYKDG1eoDqRb1hYwN8KGUFGwaSc6axuHPSY2CQnqp7JYqsIkBplP73mgiVobsOpKo1uIYolS0zwSH/wgv/gsX7GCvqObt311EA0hHokca0yqjD6C1gEzrF0grTp2aoijgXMpDfnSZphuoJPqSQdCWVjQExaoVVSZYgyomY8giweeeop2xfYqVBHkfuhQTOZNUKRpM58yb8/Ek67HDRsYR7FvqpN2qErNDiLFGGPFOUcfzdoprzw0v2+cfnr6jjvQV7H1gnPGSX25J83Vvme1GwahzKwEaBzj92tDNcqizj42cx7+oU6t9oQqwL6yiGOTNaGwzYjBfSOMzyw401mYA0KvG87VdLXMelx7VhMD8ioICAKCwORHYAO+UqO5fPLJJ7e33B83OsKY+JA1KgpXdqCWjAnB9ZMIJ99z3Orl553HKZDrJwJjVerv3XQTKypqXnasaE4YHeb1ud0ZBcx6Ff2E5T7xGa3VlTXxcK3ZHKWy1iz+krsgIAgIAuONALbMuzduiGqX14btAsbJ/4033tCUucSD16mmVYD2FEdXCLD34NeFAiYxom90hVvLyMzFWlcSWsaZtJ7q0nrrEsekZXVMGFurK2tMEFiLiEhlrUWVJawKAoKAIDBOCPRoWNUzN6eccko4HPb7/S+88MJPfvIT9mmo3SA9E1xvEz5aqfAhxwgKBLANWG9xGKuCs7UDs/jRJ/OOFf1xooMFf+Gxx7DrYD/G2UcfrY3Exim7SUJ2La2sSYLeBLMhlTXBgEt2goAgIAhMTgQmWuU4/PDDb775Zq7L2GyzzY455hg2ZqhNIJMTncnMFcb37BXm9FL2HlhPfZ3MPE9m3tA3MLi3Xl8wmbnVvD1eqXD9AtsesJvv8DBfnXbtdayllbX2At4P51JZ/aAnaQUBQUAQWGcQWJN7OdYZEKUggoAgIAgIAoKAICAICAKCwPqJwGTcy7F+1oSUWhAQBAQBQUAQEAQEAUFAEFhvEZjo7ePrLdBScEFAEBAEBAFBQBAQBAQBQWD9REBUjvWz3qXUgoAgIAgIAoKAICAICAKCwAQhICrHBAEt2QgCgoAgIAgIAoKAICAICALrJwKicqyf9S6lFgQEAUFAEBAEBAFBQBAQBCYIAVE5JghoyUYQEAQEAUFAEBAEBAFBQBBYPxEQlWP9rHcptSAgCAgCgoAgIAgIAoKAIDBBCLS9CpATdieIBclGEBAEBAFBQBAQBAQBQUAQEATWXQRaXwW47pZXSiYICAKCgCAgCAgCgoAgIAgIAhOKgBhWTSjckpkgIAgIAoKAICAICAKCgCCwviEgKsf6VuNSXkFAEBAEBAFBQBAQBAQBQWBCERCVY0LhlswEAUFAEBAEBAFBQBAQBASB9Q0BUTnWtxqX8goCgoAgIAgIAoKAICAICAITioCoHBMKt2QmCAgCgoAgIAgIAoKAICAIrG8IiMqxvtW4lFcQEAQEAUFAEBAEBAFBQBCYUARE5ZhQuCUzQUAQEAQEAUFAEBAEBAFBYH1DQFSO9a3GpbyCgCAgCAgCgoAgIAgIAoLAhCIgKseEwi2ZCQKCgCAgCAgCgoAgIAgIAusbAqJyrG81LuUVBAQBQUAQEAQEAUFAEBAEJhQBUTkmFG7JTBAQBAQBQUAQEAQEAUFAEFjfEBCVY32rcSmvICAICAKCgCAgCAgCgoAgMKEIiMoxoXBLZoKAICAICAKCgCAgCAgCgsD6hoCoHOtbjUt5BQFBQBAQBAQBQUAQEAQEgQlFQFSOCYVbMhMEBAFBQBAQBAQBQUAQEATWNwTWO5WjNBT2R1Ll0fVcJqD+xPOjg8VHEBAEBAFBQBAQBAQBQUAQEAR6QaAHlaNSSKfShUovua3xNNVsMlUJDcR8bTgJxNOZTCYRbBPc2ruUHYyFg4a6EgjHEplirXW0Nr61UiYRDQVIHQzHkvlmXKvF9EBEBUfiqWK1iUqlMBSLGHkHQtHRWduHNpHq8tWGsXIuORBTTJulGs1Yl3n1FL2YDBl10oX+WClmkvFo2EQ7EIrEh/LlETlT5GQipiqrtd5aLWYS9bYQDEXj6ZFtYRyrw7YVVfKp4QqJZbtrnyMQ6Pqlz6wdECvn6HlG16HjDWZLTdzZYuJy2TTgJkLdvzpkTd527aT7/DpM4dyA7Qn1VR19VZY9X06h9lm7aqVsklHUbEihSGyo0DzKOtHvKbw0ZI5PxhjVeDrum8VB83vTSNf4Hx5SfSAfb/iM+B/LWApmj4lTA+6pxPVENq3IaQTuJ1tJKwgIAmsegY27Z6GSHRrKR4KxoLf7tGs4RSmdKngimZC7HR9ufzAQaBfY0r+SiUUHC+5gdCAW8FRy6dRgtFzLZdoqNU1EKpk4yT3BWCLmKeVS6Xi0ms4lgw0GS6lYdKjkC8UTMVcxkxqKRquZXKLBYa04GOUz4g/HE4FaPp0embV9aBMf3b7aMlbO5UoufzAS9HrctXIxlx2MFssWvrvNrJf45XQy3ay+OdBBuRtM1/zoCmGvqwLbqXihOJhLRxsNvZQeSufcvmDAVy2URxOrFRKRWLbiRXUM+9y1SqlYLFVdgXrq8awO+1ZUK8B3weMP+r2VYpeYjC5lVz59Ze2AWDU/EB3IuQLRgYS3kk+juJfd+XTYU2fQHhOXbQPuqoyjIztkbd9ORpMbOx+HBmyfUV/V0V9l2TPmEOqQtavIqJoqeQLhSNznqVVLdNuKK9hoRg7E+w32hQcifk3EF2gM/NqrtcMbHhjwVi1h1UI6XXAFQ4qWLzow0PhImJHQ/DNFb1CXygEThwZsybdrp20rchyBu85OEggCgsDkQmB118+SC6dOmTZnSdfp1nyCJXOmted82bwZU6bMuqVLLpfMnT5lyoy5SxvJVi08f+qUqbMXNt4d/i++cNqUKTPnL6tHW3Ih1IZfV90yayo8Xb9CBa+4BdrDr6uXLzhzypRpsxeuUsHLr+aVrBuvtqH1DHv858BYE9UVZjHOv6XOWFPouLyuuH7W1Olz5syaMmXK+Qs7zWHFksVL61AbSVaZlTOipa9YYZbBbCrD1VSnv2QOlXfm/KWts7OvrNZpOvW1b0WUZIUqltH+aT8TWA/9ZO2A2FKjv06f2xiH1OvwsGSPSXcNuG09rFi2dJmlxdTj2We92r6dtM1rTAJsG7B9Dn1VR1+VZc/XcOiqZUuXLh/VuB2yXjZ/pjGALxmVbpjuOLmWzmO86PhLYc8E4521MzRHNgtpGbAcMHFowM3Uu3m3b0XOI3A3eUlcQUAQmHQIdGFYVc3EzGXaKJYZ1Uy0sWQ7cjG4nB+KN5aoMTIq1bSCVcuSPJIq5IeU5UkgjJ3QcLARz1zrVRZKwXA03mRlVDOMEUyjFybQW5ggGYvNgUShUkwNc5Au6fxdrmIuX3UHwyOmfyzBvTir5VLF5QmG9USVOxQNumr5XLEjagZHrmA06qvHDhjz66V8w7qqkC3UXKFYxKOCPeEY6zOFbF6hVs3niy7lZ4Z7I9as7UMVwfaVVeen3T97xppTebw+Ju+qlWpzwHi91wrJoWIwEW+/mtUyZ08g6K9DbYS7WaaB7TIrFY3H42k/C1nM5CreaCKum0Ijkfl/PKvDoRVREo+lWCPYGveX3rN2QKyUy5VdvkgkUC+CPxr1uyq64zlg0kEDrhRSA8qGDpvFgdEmjeRbSscjsVSxCUSHrO3bSROtsX61a8D2efVVHf1VlsEYJmFYLBqmTwz+8aFWdr3V7GAkmmyuDYesS9lsyR1OJMzlhZFfI3s8xiy0VqtWq33mXMlmCtbO0MScUUhXIBLx1f0dMHFowAaRDqqjntfIfw6tyHkEHklO3gQBQWAtQ6ALlcMTHmSfg7HTwe1yhxKmm5/BYcGunI6x36DsjQwkk4PxYC03GImly1ZEyulEqhpJprOZZNiFdmL9QhQS0YEMiQeTQ0l0C281j1ChH2hHB7MVf2wwmUyEPcbXfgB5vemplYbi8Tw0Upl0KhFyWcXcSpEPlT/oa0rS32uNj4V7hBxqvNWscmr7DColxFmPzyLn+gOwVyqWzTTmf9OnQcIXQKAtl0rme7nI59Vv+NQft9/vxS5Z2c7Yh5LCubIadEf9d2CsHp9PaaVSLhUyiUFsiL2BhoXRKHJj7VFKDWY98QTaW3+PqSS5PV5PJ2TKBerSH3Cl43UL7WA0kS3rlONYHQ6tSLOwljkcECuXANfa+r1+v9tVKZVN6c0BE8cGXM2hTAwV3SFGsuRAyF3A+MY6Vtlg6ZC1QzuxIbxmg/qqjr4qi+EUi8VoMl8LxI3BP+IxjOISzMZ08thnXTVaQiDgyQ5EUGeMv8hAt5vxOuGibZxcPBAIBtlGEoyMmKBrm6BVQDmbLbp8YYuF1ohYxSwDUTAS0eOhPSYODbiv6nBoRSPY5qWrEbg5sbwLAoLA5EOgC5UD4ThgPgxdbiTI+uNrSGTMMiWNnRLZVCIWibBIkcEKvjg0VLCUuuaNDQ2ao3sExcFdzTFW1h9jbsUdTqYT0UiY1ImhDHsaGoGuwtBQ0RUcTDPzGInE+B/zVXPJEYsYZtxSNZjKGLu5A5jkD6atG8HNgdbr0wOvpt2Hw+PzGnKOZSK8VChBD2G7A6rmiOpFpK1k48FAOFmsIeC6XbVqpWakNol4vKx7pKPBAPbGLi+hrkpdj6oYsYxpy2IyEgjGMiy3ELeRtX2oq5PKalsCB8ZUumIyHAyFwlRWtuwLDab0DpS2ZMcmoJIZTNUig3Ffv+TKGayjPZFYqCNC1XIZZXEonqqFB1Ps6In5StnEsGA0jtXh0Io64n4SRrJHzOwEXlZvavlEKBAyZh+srd8BE4cGXMsPJvK10FA2PchIZgw3mQF/OT2UrXaAk1PW9u2kgwzWTJR+qqO/ymKzRSJbCQ4yTRU3Bv9EOjMYrGSTDHjOj0PWlTJEyuzhKvsHhtKpZDxQ4USCeEcV7Zy5Qwx2hfGdSw4ZM2xBN4eQROMdlamZrLmI4R9exGgKL2ay7E2J6E1O6gPSc9/pszrsvllNjLu6G4GbU8u7ICAITD4EulE57Lmv5bPG4m7MsgMuEA66a8V8aTghO9iQitVjSP8W0dzN8kCtnG+ytarHLRr+1omaQCTsc5ULhebPjj8aCzQyaPpvCPK9GxY0EWu8BmNMHhWGBlKFcqVaKWYTiUwFtaBmrH44PmYso9yVYrHKPmvOozLeGqkVEd4rzKDXikUmcI1Qgg3K5q8RnQ2PpVrV2PNYT+wciqDWQWUZdFo+9ozVk/hjSN6poUFm/X1en41FUsssevVkZS1ZCg70r9+UUgNDJW9kqFNKJiaVWiiFzhxC3U2kh1CpsyklvdhXVn/V4dCKekVyDadzQqwebuj7FWOnPq3f4Fg1TfWv155l2i5isTgspLl8xrhVNGcTjBmB+mMYxLCWV2681vsl/xyybttO1jDo7bPvqzrq44U5OdN9ZRVzuYorFB2epHd5Q6EA9qfqU6FrgwGYekeJqD/DtWEMmzbtpFL1JzNJpqlCkYF0KuqtFVKZcnsoxirEH+fAD072CzMtk0jn0hEyNibWun3MRQyL2VRT+nw6ZxjvWhrzuFZHU+4jXx1a0cjI3Y7AI1PLmyAgCExGBHo4sapNMcxFhEoq4k+NjOCuWuYGrSK/EpBdxgfaSOGPJUK5gXQ0kDFWUDgxNhoL+80QAvmsY1vva7ziYy5X8HnBZaRuPD5si8bjwUjIHC8NacJjLUWA+ftyPMkGlSEjX390KO4ZGKqYuoETI2ZxjA9AgCm8SNWH6VHByMVEpvGP9/BQNsMRUChzOd6MD2jj14jtiQ5l/WUPJ21VzI9wB6EYZ5XRZBwqyxCuEKpUZtZCK/7aMWYmgEtfwDRiY6EjmAjHOIkrP3wSVz3OmP8rJpN5byzb2P3SK/1qbiA2VA4MZLrg2KyVUFQrvOauoRyHVrnYYmMGtq2szqrDtPmuVwfWXmY1GwV0aEW9YtBFunbtpAsSo6I6IFbvIjWXj2Otg2Uv9oWlHEQaXceg12vPQmpltxpbz7JNXJnLi6VUdMS9Ptl4uB7PE80UBtWMS/usVVNo106aMuzptV076YlYI1Ff1dFfZVXYLueqDFgsSBVTAaM63Jl4aLDY4JJ1xkQ4VH8LpziGtpOs2eYQ1r3JmCbLZAulWtz6tRnOYLxcbiavfNmUMUE3qqS2eapFjLhFI7NG5/DEfM0dMjYB6qcTTNo3YNvq8NYzafO5dGhFmkM++D2MwJbk4hQEBIHJicDYqRxm+QLxzODw8G16uT3+zoruDafyhWI+V8gX8vnMUC6TxoOPRmepVSxzTGuTwLBZKtRF6DZR2nlX0rFQslQP9cWzuQFLmfyxdD5mzLPWMDfze7lS0FCIfO1oWfxNUxBjco4E9a0Opk2VwSnPsKWID5M2w8e0bjAssYzHtLJS8f0qmIHe8DaD7UNNAg6VVcPaK1EwY8JLJFNImjzg4cBYPYn+xwnCIU8WM6VkMKQ9x8NRSScz1eBgxMuGTOjXTPs0Qx6uWhUmp5xrxSSHr3qi6XSbreAtCZAD/sOKANKQ4VOrN7j+q6OQCMVMjdPIPjRUStHMzMehFdVjjd+/9u2krzztETNbedHsOijbZsM0V0wDhm1hvYX23LMMCr4oR1I3JCjDg8fj48cXSaYCRvPCIieTSBb9A8mY33x1+4z/DtXh0E5MQn39tG0nfVF1HG1o622ro7/KMvj2hJOpuN89oghu00Y2lEilVG1gaJtgD9dQXGl9DKlE7yTr6ojdWurAA6PbjsxuRN7j8WKyWu72A1UwFzEsZlMjWKuaGod57MiwfyeYtO87Bp321WHm0v5zad+pGyz2NgI3Ust/QUAQmLwIjJ3K4fX7kIld7GFWH+CeyuzhdBj+4sYsR3ggl87VQhFj5GfPhCtfwbKo/jkhJ8MK16sEjM6y8pkMMmWGjUSXjzc8mPbVPwZu9nuPTu71s0RhPJU8Vzb4htdnRkcd9vEG2AhTNLaaB/hiGw/WU8amWJ/hdpkM5w0fn/HKU2bOnEkwlb+xlzxbwidifFt5zJ3j7oBKbR/aSWWxdzadahRaiVMqHyfG6rEs/4w5MzQARIN6OVUYQiK2buZnyBK5d2cFO/ladTAcHLTQQAQLusLp0lDQ4tneybkEsXQVO/7BoNHwOn58BuxK6KqnMcvbOLGp/+oIxFPpiIEjD7ptPRP+ObSi4YgOLrM23KY84hBzZHD7djIyXpdv9oiZbTBvbP4N+RRhLGdqLtq1WWsOmNj3LBZQ3a5yzdN6JGP1rpFlqehxlbjHBTOf4ccpa/t2ounUjF0IxtkFXbVCkrdtJ5p0T46+qsPAu+fKwiqTxV/ju9IKCm8g5FUFqlbSrhynB9LdLY9D1kZ7KZozOQ3iI7qtJtRzdWgKjo6y+qKNGCGdEtVy6TwWx1azKWuSSo6TrDzGSYYjHgdM7L9K9tVh5tP+c+nQiszUHYzA5rJqL51jBAzyIggIAhOOQC97OZi9Zea4mVVPKBxk3i/VdIxU5wcAKmmqTtbj09vSDZ9ACF2jkGUfXP0pZo0zMi07QxoB7f97A+gahojew0PaUP0J1hWCllTYfMihmWzl848MrnAfd3xgEKPkEU8gEuJzahwooh5KxaFa4fpHVJ3SWkir7QDI7Or7Eq4v/AB4ANUsXagDV8myP8MdqisgjqHOlcWRhbrQI4zaHBhjc8mI1lHJojqOPJnLKG41M2CQT+RV2cfg19g+YnlS5rYeQwTLxK1CISfgDFEbnBDTnCfb+GPJYiCRSXV93BV2VJyOXMCMoU60mjeORuDcXfO9/+rglsrh6rAcckYetq2ouYzt3tmGzTOQbfDfLt5o/7btZHTUlj6tq8MeMdVLyrkMGJtPKZPleAWjS5iPPSYODZjTkTnZYmh4tDFJdjqSOWVt204U9yivyQi10XTeXyPQ9n/7dmKbbDiQ+9jicU4FHvYxXH1Vhzmk9VpZmD0x35QeefShsYdmJINt3pyyxo6KEZjtDvXHPD45EKw3o4Zv79XRoDDqv2ErbHmquRTtzRtsqLONoFImwVjV5kJ0tYgx0myqkZD/aBzGMerNGkd/faeT6mj7uXRoRbDcyQiMbSOdg+NWLGUVpyAgCKwNCPSwysF47OaG7ETGFWGKCLupgBKAPNHBRDaS5HTJaDTMnH+lXCxwDXUwjYFzB1DkE4HBSog5KiaeaiWu8S67g8M3KwS5TjWX5DCRCjc714pZNvh5QkN1i4YOqBtRAuGQJ53jMosRs5IdJm4brTgUGSxyabnXXS3lsvlyzR9PxX1N0avsgcxXvL6Ya6QsS7GCbHiOxSiWp5xNZyqeSDLWSO0Jc81DJMXhweVo0M3t4/maLzYQ9dSJcwtENB3l+vJEPOqv5TOpgiuQ4ERPFWwf2l9l2TNWSEYGmPzl5EfUxmopb4DiDg6OFPvRoMwp+7phcRNevb02to80Utc8rrSLhbNmAaJaKhjNwB1NRhtRjf+loVgiX/UG/bVcKqUDvMFopLEIxf3w+TLfxWKV4EI65fKyAhWKhw21whMdMGqDG7Hj2JFxHXaqYNSWuUhH8HhWh30rQrkrcm4/Ak7Z4LucTaUq9Fs/Z3HBvn4aCyjaY0wcnWTdpjrsEXP544lQdoA1qVo87KvkUumSO8iJQw2u7TGxb8Du0OAgh5ZyMmshGmFDEnezFDD49CaLqVCDvs1/h6zt20mD7ph3DpOwXQOu51zjcpN8wVUL1xoWSiqgr+roq7ICiWQkHxuKREqxSMjnpjb4sOTdA/m0HgobqLX4b581S3Rxf34oEYmX42FvtWCc9+CJDDSb1DFYQXosxypORQsNVoIhBknjy8EgWap5I2mrxa5ZGPPLUfMH+FA0xn1dSA58ZJKpyWxKhzL/x6SKN9ZYBB8O6K/v9FUd9q3IeQS2FGIsa8NCVpyCgCAwngj0cjnhisXzZs3gImPzGXmb8bKF884/czqXZHMv9vSZsy6cd8vS+r2uq4wLUi03oK42r0Sdpe+kXr5w7uxZM1TSKdNmzJpzfSNlncVVS66+sEF6xqy5tyxrYt24W3nqhYubfEe8GreujrhO2hLa2+3jq1evWDx31sx6iWeO5lrlsNS4pNxyV7Il3+FiUei5C5dbggzniiXzZ880sZ428/z5i5vvOl6+sF4VU6efOXtB8x269qGr21dWExOtXtsztnzh/AtnnTljmtkKqMozZ88fVSwoLp5NhOnD90W3yqQ/v4XnA3qL28fNK3C5+beprSycTfRRz4x5SxtcrDDud29+rO1/xWIqy2wLRnXMX9JUW+NYHbatyLxsuJnvpnuPlxgtdPju+kaR+/3fSdZtqsPI2gmxW+bMmmE0s6nTjZ7XxKwtJs49i7qsj3JTp8+YNXvu1c3V2ZSd9dUpa/t2QrkXzKRUs65uakDWLHpxOzZgiHIxu9FUrM1aZ9VXdSzrr7KupqrNcXAqI8r5cxcsbh4pNZejHU5ZL9Aflpnnz2sxVo1HdSy9+sLGd4Nv5YxZFy5o2b4WX2i0b+t3UxfP5Gpa2y+e2aMto5dOpxxOmDQ+tm2+Sn1UR/tW5DgCm6ybkkRrSJrKKK+CgCAwyRDYAH7GU6OZZLQ5hyY46B4qpML1tYBh/tj2HU4xkZluzEsPB4lrHBAoJkPRtG+QqUrrXPs4ZCQkO0Cgko6GktWmgxE6SCdRxgOBWi4WYGUzk+9ofXg8OBCaFgSkOixgrHlnIRGI5YKpQqqxoL/mWRIOBAFBoDMEetnL0RnlSRnLE0nEvflUk13wMKuMZmxTjOeHfcQ1PghwFQlGZKMtGMYnN6FqjwC35xhXbXdzRJc9QQntBwFqg23gw1Zi/dCStH0jINXRN4RjSKCUNy1WRd8YQ0yFlCAwUQisZ6scdrBiI6yOKHR7/X51TK1ddAkTBAQBQUAQEAQEAUFAEBAEBIEOEBCVowOQJIogIAgIAoKAICAICAKCgCAgCPSKwHpmWNUrTJJOEBAEBAFBQBAQBAQBQUAQEAR6Q0BUjt5wk1SCgCAgCAgCgoAgIAgIAoKAINARAqJydASTRBIEBAFBQBAQBAQBQUAQEAQEgd4QEJWjN9wklSAgCAgCgoAgIAgIAoKAICAIdISAqBwdwSSRBAFBQBCYEAS4sYaTuo0nkCiMzrHKpR3BgbxxHbY8goAgIAgIAoLAWoOAqBx9V1UplxqMxyJBU0gYyHdLr1bKJKIh4zqQYDiWzFea0leL6YGICo7EU8VqU3ClMKSyDoSiiUyxSQ6xD20i1eWrA2OuSiE1oMoVoGADmVKX9PuOXpfcurxkpZwbjIWN2giEY4PZkUxT5GQipgrlj6TKzSxW8sl4JGgmDkUHuq2sZmpdvdu2oko+lRyIqVbkj2WbGklX+XQbuc+sHRqwXWW5XLaYuFxODbjbolrjO2RN3plELGwOGcFQNJ4e0XEDsVQmkxlsd/GAJzwQdeeSqZFt05q7uAUBQUAQEAQEgcmHgKgc/dYJovVQplB2+wOeHkhVMvHoYLbiiyYSAyFPMR2PJgoWkbCUikWTuZo/lkjEg7X8UDSaLA7nUisORmOpoisYTySivkqWN8slh/ahw1R6ctkz5qrk4pHYUL7qC8fi8Wg44KoUm3WpnrLtPFE5nUx3nWU1PxBFOeKKwsRAxGvogrGcRckrpYfS2VLVF/C5RzNC2kg8XXCF4oPJwa4razS9bnzsW1GtAN+5ksvn93ZDdCzi9pW1QwN2qCx7TFwODbivwjtkXSskInT6sjdI50BH9VSLJUsrc7m8/kAgYHM1UCAa9ZfTKVno6KuWJLEgIAgIAoLABCOwWp4+EVi1YoVJYeH5U6ZMmb2wK2qLL5w2ZcrM+cvqiZZcON36uuqWWVOnTJl1vaK/esUt51tfVy9fcOaUKdNmL1ylUi+/mtepw6+2oR1zuXzp0mX1/IfTODC2auHsqVOmzrp++XCKCXatuH7W1Olz5syiRs5f2HHeS+fNmDJl+twl9QTqdU7jFd8VK0yslxnxhmvNjL58wUwq48LFOrMlc6hLXXcOlaVT9eSwb0WrVzda6JI5tLZZ19fbS09ZdZuoj6ztm/dqh8qyx8ShAXdayhXLWnSO1fZZrzYbxpnzlzpkYlTWVEt7GhHdbG2zbpnImhyRv7wIAoKAICAICALdIiCrHH2reG5PL8sbZrbFXL7qCkajvjoTgWjY6yrlG9ZVhSwrHqFYpE7fE45hbFHI1mc3q/l80aX8zOTeSDToquVzRfPNPlTlV84PaUOgWCJTsiyv1BlyFVOxyEC2ebnAnrFaPsPCTHwwMuGT6nWua4XkUDGYiLczTWkUrul/KZcru3yRSKDu72cy2VVpAGp4ejwtljdU7FKx5HIFwsF6WtyRkMdVyNXXrMaoOjR1q8OhFblcfbRQaz69uHvP2gExh8pywMS+AZsFtRgGtrSSI1IpzVoeq4wjH4esi5lcxRtNxP0jU3X35g2GfMMjQXdpJbYgIAgIAoKAILAmEBCVY02gXs+zUsKgwuPz11UKfP0BH5JMsWxGMP+bPuYrP74Agkq5hHDLUy4i7PgNn/rj9mM5UyspEyb7UCN5OsbmkLI3MpA0DYFygxGrWVaDaKv/DoyVCqhCAV9lKFbfBhtqsUelFd0x8iulBrOeeALtrbunXCqPBNTr97tdlVK51gkdI5J7hEZivJk0CRnH6nBoRZ3wPhnjOCBmX1kOmDg0YPZ5mIaBRXeIzpEcCLkLTSaNNoA5ZF0u0Of9AVc6Xu8cwWgiW7ah1zrI7PfFghoJWkcRX0FAEBAEBAFBYDIhICrHGqyNaqWK4bbX46pk48FAOFmsuT1et6tWrZhCbrVSYWLdy7pHOhoMRNkv6iXUVTFS8VSMWMa8ezEZCQRjmYoZ12Wmcgp1VbODyYInksmmErFIJBpPZtJRb3FoqNAJHI6MVVltScazrkgylRpKRIw9KjHrJpROMuk1TiUzmKpFBuO+bgmYuHpZsqrlE6FAaIAFKAP8BqAO5Dw+opbryqIRt1I0dD+zkow328rqqzocWpED35M22B4xh8pywMShAdfyg4l8LTSUTQ/SOSKxwXRmgM0TQ1nV8ewhc8q6XGZSYSieqoUHU+nUYMxXyiZGbuCyp18P9fp8rmp55B6QjhJKJEFAEBAEBAFBYI0gICrHGoFdZVqroTS4mQxHPK3WmNatmm8u058Td4xgl6FkMDNaKxaZbTen0U1vQo1APKqlUqlWNQRc4035O4QiVWcL2BDFAiSoPxgFuWvFfMl4rVXqT7lSJZvGG3KekakjY0SqVdyxlHHWVohjuNKDQVc5k8obacf5qeUGk6XgQCLQfT51uI11jVKlVjFWi0x06rXhQDAQifjYk5wYypcq1UopnxxIlYzknVSWU3XYZ23y174V2SeetKH2zbvRBNtVlgMm9apu07NMiyUsFsMejY4vGPS66osKzAjUnyrdoVatlhuvw52jfXWYWVdqoVSac+o4rSqRHgq7q9lUR+qM5seYa4C7xuyDxV+cgoAgIAgIAoLA5ERg48nJ1qTjqsrKgylRINfztR+W1PvhVEu0gcFsJsJJSF5XwcjFVB0a/3gPD2U5Y9aPfpAzeDD1DvVrxPZEh7L+sidgHAtlBhssad2kZaiy96mkIv7USP7dVWMitzgYiVpFoHQ0lFbx/AO5bNyn+COv9oy5fOGwv0HbEwwFXIUSZiAh7dcIG9v/xWQy741lG7tfuiJeR73m8sXTmWDZi8laKQeFur8TLf9AKlmOJ1LxiImpN5xMeAcHC6qp9FUd9ZwRbquNNujxDjdBh1bkxPcYhCOEK10UrMaqczgg5lBZDpjYN+BKmSWpajbmzzZhYy4vllLREecjZ+PhejxPNFMYpJPyGIpF606temYoGmjQdgc50C1XZCsQW7G6fczMuk0k8QUBQUAQEAQEgTWAgKgcnYBeScdCyVI9pi+ezQ34O0nmFMe022EhgXjeAPoGj2lTZVhX8Qyb9fh8KBQ8prGJYYllPKaVlYrPoZqGD3qRMtRyDDViuwLxzGB4pNDi9hgF88eGUuGaEaVWTCdS5dBgYyu4B3MOR8ZM9s1ZWIOE8Zg6mppaVh7j81tJJzPVILwinJNDzTBmMszUqtVOBGET16JZG+hvClDDtC1gWFd18vgiQ7lIFeOqqptdIN5aJlYzzeaMtPaVZVJvWx0q70IiFDM1TuM1NFRKhZW/aibtW1E91vj9q2EVqK+sw1avkDSx6zdDe8QcKqu/nmWw7oumhqJNFe/xGQFYCwaM5oUdXSaRLPoHkjGj06Cb+oz/TlkbqxOuYYWRZIZPra6zGXQ6eswmbpgByiMICAKCgCAgCKwVCIjK0Uk1ecODaV9jIpf93p2k6SCON+DzuIqGQXagLjpgPVXfQ05yn9/ncuUNH/6bT9k8Fsmv8jf2kmeNg5IiARVq7hx3B4wd6CSxDfUapDEc4so7I3LT4/YHG8sRnvxgqhoIhUJW6cuJMYMoxiYI2nXCpn376LUhLFRqhojmbsq/19cKdvK16mA4OGihgKgedIXTpaGgxbOl0yhW3thZzGlA5oOFFUqD39cNf566duiq5XIFlycSVLT6qQ7FTCCeSkcaqxzeepUbQQ6tSKXu4NesDXdDoe0gQT0Ke6zTqUbnUGJ354nbx7RHzOwc7SvLARP7Buz10SLLNU+bzuELNNpHqehxlegrrOENP05ZG91TKbb1NDVDy+36ZC9ONXB5gpaTJ4Y5EJcgIAgIAoKAIDAJEZC9HB1VijeAYKGeoBLpO0qmI1VyyYH4wGAOMdz6qINUs9ly3bOYJYY/XJfv3cEIYnIh3bBxquXSnI8bDNfPfvWEsMio5tKFmkpdybI/wx2qKyCOoWp7BdKO5TGM0zt4HBjzhpDJKrlssUGqkmOLiDsQ9Dc8zP/VzICBaCI/wrefFz/bRyxPKmaIgoaonokbLv3UCkPUBqcCax/TYQJfzmUafJcyWXbsGyh3/9QKg2zF59zieuL+qwM9cLgNjhA17VtRp7yzZ55nINtRCxhB1GPpHMGu9DNFpnV12COmekn7yrLHxKEB0+/c1dxQdmRv7bBz1E9Hbt+pOUi5VsjQk9VTzRsdpblzjAC4xYthpdh1ohZ0xEsQEAQEAUFAEJggBGSVo2+gKygFRfaRGssRrlI2xclSzD9Go42VCyODajGXy1e8vphr5NGtwYGBIBueY7EKm1XL2XSm4okkYz4jCY8nzPH9kVQiOlCOBt1FNmDXfLGBqEeFujjdP5qOcn15Ih71cxlGquAKcId5fU7ePtQTHUxkI0nuFYhyObjXVSkXC7lcKZjGGr1O3uafA2PcpR5OxzOxaI1rP9wUK12Es3hwJMX6Hl7TaH9kSK9vbl+gvqigKNQ8rjTH9YaCTUWqlgo57jRxR5PREVn544lQdoDTtWrxsK+SS6VL7mDSqq2Ucql8mRWcYpV0hXTKWMbxheJq1wrWd7E8E88+T62UR8mqeiPpAZ3zeFaHfSsyWl82U0B+Lht8l2mhFTcLXJHYiKWrxgLKCET6fukk6zbVYY+Yy6Gy7DGxb8BuLAmDkQR3hBeixjIVJ0MV8rmCN1lMhTpAxCHr6IDRa7nmPh4NeSr5dKpg9OpIvdt2QJ8o5Tz1GdR9vbNEEksQEAQEAUFAEFiTCHR7d6DEb0ZgiXGDeNMzfIW1ir10LldRWy62ttBYteTqC8+czrXiU6bNmDV3YfON3SuWzJ8908xg2szz5y9uvgh8+cJ5s2YYwVOnnzl7wZKm64jtQ1cvWzjvfJX1lGnTZ866cN4tS5sIWPhsdjoyNneW4hvOLry6mTOoLeaK8inTrZd7N2fR77t5H3yL28fNe625KX74qvDhnJbdMmfWDKM2pk6fNef6kVdErzDud29+9G3eq5bM12jOmEWRm+tq9ThWh20rMi/qbuZ79sLhQuNaYrTQ4bvrR4T18dJJ1jbV4YSYTWVx6Xp/PWvx/Nmqa9EUZsyaPbdFhbYFxilraM80+7zRbeePbilGhdjcPr5s/sxxqKu2pZEAQUAQEAQEAUGgfwQ2gMSa1Hgk7/UVgWIyFE37BvPcB7K+QjCJyl3hVLJkdcwORphEJVtbWSkOBqPZULqYbFocpDxG18lHxuoQi7UVIOFbEBAEBAFBYO1CQAyr1q76Wme4NW7K80RGHQq0zpRv7SoIF7Jw1fZQ3L92sb1ucmsq49jBsam8VQHZZZKphaWuWmEjfoKAICAICAKTFwFZ5Zi8dSOcCQKCwHqIAJd7lo2tNW631+cfs/Pc1kMgpciCgCAgCAgCkwgBUTkmUWUIK4KAICAICAKCgCAgCAgCgsC6h4Ackrvu1amUSBAQBAQBQUAQEAQEAUFAEJhECIjKMYkqQ1gRBAQBQUAQEAQEAUFAEBAE1j0EROVY9+pUSiQICAKCgCAgCAgCgoAgIAhMIgRE5ZhElSGsCAKCgCAgCAgCgoAgIAgIAuseAqJyrHt1KiUSBAQBQUAQEAQEAUFAEBAEJhEConJMosoQVgQBQUAQEAQEAUFAEBAEBIF1DwFROda9OpUSCQKCgCAgCAgCgoAgIAgIApMIAVE5JlFlCCuCgCAgCAgCgoAgIAgIAoLAuoeAqBzrXp1KiQQBQUAQEAQEAUFAEBAEBIFJhICoHJOoMoQVQUAQEAQEAUFAEBAEBAFBYN1DQFSOda9OpUSCgCAgCAgCgoAgIAgIAoLAJEJAVI5JVBnCiiAgCAgCgoAgIAgIAoKAILDuISAqx7pXp1IiQUAQEAQEAUFAEBAEBAFBYBIhICrHJKoMYUUQEAQEAUFAEBAEBAFBQBBY9xDYuGWRnnzyyZb+4ikICAKCgCAgCAgCgoAgIAgIAoKAFYHdd9/d+jra3VrlIN72228/Orb4CAKCgCAgCAgCgoAgIAgIAoKAIKAReO6557S7nUMMq9ohI/6CgCAgCAgCgoAgIAgIAoKAIDAGCIjKMQYgCglBQBAQBAQBQUAQEAQEAUFAEGiHgKgc7ZARf0FAEBAEBAFBQBAQBAQBQUAQGAMEROUYAxCFhCAgCAgCgoAgIAgIAoKAICAItENAVI52yIi/ICAICAKCgCAgCAgCgoAgIAiMAQKicowBiEJCEBAEBAFBQBAQBAQBQUAQEATaISAqRztkxF8QEAQEAUFAEBAEBAFBQBAQBMYAAVE5xgBEISEICAKCgCAgCAgCgoAgIAgIAu0QEJWjHTLiLwgIAoKAICAICAKCgCAgCAgCY4DAJFI5/v73vx9wwAHZbHYMirXOkVi92vWNax/Z53O3bxG7ib9Xam9OniK++MaLO92z03XPX6dZevTRR6lK9Zxxxhnaf2wdf/7zn8li0aJFY0u2K2p7f+72//xJsSnJn5a+QB398a/ON3E2JdSvF1988cyZM1dT6x0/b7755owZM6644oqOU/QY8cknnwT20f30sssuwx82eqQ7DsneXP3m/n/Z/wf/+sE40BaSgoAgIAgIAoKAINAFAht3EXc9jhqJRB5//PEmAL7whS989KMfbfIcp9ff3V/5zu8ej7/fN20vzwYbbOB+x0bWjC666YkDdtlqxtQdrJ4T5v7+v76/0yY7RbaL6Bx32WWXn/70p7x+73vf054T6Xj++ed//etfI4K/5z3vmch8xyQvmP/lL385ODhIRSuCJ5xwwj/+8Y+WxM8+++xEIkHQxhtv/LGPfWxoaAgdb+utt24ZeR3zfG7lc5c9cFlheeG+Z+5b9eaq20677ah3H2Ut48YbbPz5nT8/56k5H9vxY56NPdYgcQsCgoAgIAgIAoLARCIgKkenaL/zne8899xzrbEPOeQQ6+u4uu8svbDdVptcdPb+LXNB5Yge+e41onK8/NbLV1Su+O/d/ntD1/CK2eabb37EEUfAKqC99NJLLXnu3/Owww77y1/+8o53vGM0KaT2+fPno2+sEZXj6CnbvnB5eJONhwEZzaGNz9VXX73pppuiL+k4NDwN46WXXrr77rt/8IMfVKEHHnigjnbKKad8//vfv+aaaz7+8Y9rzwlznH/++eeddx6az4TluOylZd+773tTtpmy77b73v/s/S3zPWuHs75c/vKCZxZ8bufPtYwgnoKAICAICAKCgCAwAQhMnHwwAYUZ1yyYOUaoGtcsbIg///LrW282GSvrt8//dtXbq07b7jQb5scpaMMNN0Q0Hyfi/ZDdcMMN3JuMWIbqnNrbb799ww03HH/88VbZ/ayzztIUsF/abbfdWjbFzTbbLBQKYfK0RlQOGLbyrBkeP8d+2+735HlPbrfZdqkHUu1Ujs033PzEbU/8xbO/EJVj/CpCKAsCgoAgIAgIAo4IdC3FHn300cccc8xWW2110003vfHGG7i//OUvb7fddjonLOwx8GCO+eGHH/7tb3/7wgsv7LTTTslkUk3HYh/CRCxxXn/9dSy/Z8+e3bRW8Oqrr0Lw9ttvd7vdzNoODAxY5RgIXnXVVU899RTS1d57782s6lFHjTCl0GxMKsddpRe+lX3soadeeuvt1XvusPlHjt7l0x/YQ3O47NmVX/n10juWvvD6m28f4nvn/3xoypH7bKtCn3jm1YMuzOuY7BBQ7mdSM7Z0b5z6Q/kLv/yb8vnx7U/yZw39bPqhvyyr7vquzf7w1+c/Htpt6u5bf+mqh3fyuDOfPXSvHbcg5oNPvXTprX9f9OiKp1fUttps42P33+5/PuTfbbvNFJEPzbv3/vK/7/vf92275Sb4wPlx31r04qtvLP6fo7dwDzebG1+4cb/N98OwSqXq/Hfx4sWXXHJJqVSioo888sgvfvGLtBOdvFgszp0797HHHtt5552/9KUvzZkzJxgMfvvb31YRvvKVr9x4443Kffnll1vbwOc+97nbbrtNBWH5xoN7v/32+81vfqM8+e2nFS1+9MULr374r/94eY8dNk+etZ+mqRzs6/jV3f9S7t998YhjD9heR/jmdY987/+e+PvQcdttPawmHfBfC/fZaYvrPm+sCKnnb3/72/Lly9/73vc2PLr7D5I333wzRoBju7wDYldeeeUzzzwzdepUOl0TTx/4wAeefvpp5UnFWTvsySefvO+++z7xxBMU6mtf+9oDDzxw/fXXswL2gx/8oH91cctNttzStWUTM6Nfj/Uce83z1yxduXTfzfcdHSo+goAgIAgIAoKAIDABCAzLjp1nlsvlDj/8cJSKFStWIAt+9rOf/dWvfqXtzhWdBQsW/Pvf/47H49tss02hUCAm/hiHxGKxlStXnnPOOegMWIAgvqBC+P1+nXsqldprr73QNB566KF0Og1ZJTUSgXwxcMfgBPv1V155ZcmSJVC2ipuaSJPjkR++4/GftDC/IdqRP6tte8jbTfFbvrIvlo2zOmijjTZix4J+tXGUn1t56g/unfLuLeecNmXjjTZA0L+5+KxWOaqvvjFj7uJXXnvrMx/YY/NNNvzpHf84+Xv3LPz6ew/azTDHf/c27lsuDOJI3vjYo8tf+en5B6uMNjMn0U851Lvfzlvh86Ghe1EYPnV8XY1RofgXn3zpxMCO79how0t/v+yAXbcePG3Kt2947Hu/ezx13lRCb3voOfSNUw7d8T3eLZ/592uX3/7kB+YuLs6drmboL/vogUd8/c7P/eJvP/ukkem8m/+OBnLbV4606htvu97+8yt//uC2dSMfonX4IJh+8pOfZLYenZNW8fOf/xwF9dprr8UiCwrPPvsss/iotZ/5zGeUCoqCaqVMs2F3DerKd7/7Xas/7k996lOsCaDZ0jJxY3yF5xZbGCqWenpuRST/5wurZl705x223nTwQ1NeePn12Pwlb7w1ovF84aT3nH30rlQxakkjw/r/yGE7JW98nKo/9327Ki+iLXtu5YWn7G2Nef/9hoHQ/vu3tqCzxmzpRo3HH3uzMVQ5UOHod3R5uu2DDz7IjEBT1uzYee2111hd0XqgNcJdd93FEEFn//rXvz5t2jTqfd68ebfeeisTCovOda9Y0sL8bIMNXSc+sNJKpB/3IVsYBpCLXlokKkc/MEpaQUAQEAQEAUGgHwR6UTlQAy666CIkQjJm6yrz03fffTerH1Y+/vnPfyJ/MIGN57HHHquCmGlmohSlQkU+8cQTw+Ewqgvn8+i0kGXeepNNjJl1BM1MJoN8yZYAXu+44453vetdZK0iY+A+kcfjME170kknWflknl6/2jg4v2jl629d+Z8BtA4V7c23hk8iujL/1L9W1LJfOOL4A40Z8TOO3Hn//1o494bHrr7gUF5RHt6377twEO0fL6xSbkWEXxQS/nBsvNGGOJpC8d9lW/dXT93nkadfue7e5eccvct5x+7+0D9eun/ZvxWFDx+188AJe2604QbqlY3pH/z+n5GJ/+MIY7VhR4/7ktiBZ13yl1MO2RHO/zf76BdO2mvae7ZRkdXvM68/U32zuoe7rupYg+zdP/rRj9iDgUq57bbGes4+++yDYnndddehTPL6i1/8Ak2DLQ177rknrzvuuOM3vvENK0H8VZDVU7lZ+8Kh9k+ju6otJdZo/bQiNLdVr7914xeP2NNcJtrlXZsN/PyvVuIApWvZ6o/7wN223tu7xQ1/qWiV44b7lr9jow1OOngHa0zObUObtS74WEMd3bvuaugzEHGM2XmEH//4xyiH/NIrP/zhD1NTKAzW5Cx98HrvvfdaPbUbWy+UQKzgvvnNb6JhMr/AQgdnmukI4+3YczOjFZVWlcY7I6EvCAgCgoAgIAgIAu0Q6EXlwBRK6RsQVcoDhlJNKsdpp52m9A1rxvfccw86gzYaQZREIiStNc773/9+pW/g+f/bOxO4J4rzjwcFjQoa5IrgEbVK8CJ4EdRKPCqxrZLWg7S1Eo9KrFXeepRo/5W39vBtqzW2tqTaSuwhqUeJtUpqUeLRErWWqCjxJB5IFJQoCkHA9//bnWTefTfJbo6X9/zlw+dlds5nvzM7O8/MM7PQSTC4Wb58uUgCS4z169evWLECphoiidaEQ5uJzn1AcPP+F2zWeYrL7YtmRBUDO3lCctjzSC8ppPSp5rAO2Q5Bj2Xel4NRrHXIyMkX12LW/OSSBQ40h6kTRkBLkRGacYxSbXh2H6qs8IzeVdHihu8yZN0nRRR7qOoKPHEW66bNW8W6Cky5ZIlYRTnnuD2x0IGYB40bes30TvPxiLZ281r8tW1f31lAW7duxTQ8RqJC30AOJ510EtY30DyEyoFzbzFbL5UKnNekUzmkhA04Gm5FKAuVdcS+NqFv4HKGe6xO5TCWx3ek/VeJles3boEZG2Le98y7qGthtyYT5vP5Zs6bwuIhbhCZyAybdGANCqtJMJWUDR62UjqVw7gIPDiIYLMpjUS4MYOAJVBcTr610L61UurS89H+mSVzs9J65c/h37LTHh0au/Q3cGA7x46Ddnx/S9c8UwYFMYgESIAESIAESKAagUZUDu3OjaFDh0K1gCWMrgAcqqPzwSWiQc3QmmCNHTsWKySY0pamL3a7XSYUbiwvCB/YdSSTybPOOmvffffFzhAoJ3L9RCap6MCQuvLIBrFrHr1gTKw9RKhiQRU9MXA/en8bxqZt972CVYITDh6JBQe5vXh1ftO43a2l01CVDPYesRNMnvDlDezWqJhh7Z6D1RUMGFYhyRD1ACW4sWNE5PDhhs03PfjaPU+uxjKL9MQsvjb/X3z9oIeee++Ftz566sfHixy0ocINuuWeBj4YEMMORzuRD9Vx9OjRWAETqXK5HCxwZA7Qb6WKKz0bdjTcilDiqnWboCTIonfdechuO3caEMugio6vHDUW2zkSz753lnsszORWrFp/6bQKC0R1fY6jvKAmk+syFE+f9qnUVpwucsVLrG/AX8wOYAFHuMX6JJ7Kyg9mSeWwfGZ5/fZOhO0nbq1X5UCJ9TbRijdCTxIgARIgARIggYYJNDKoxa5xbXmYtC4/qBSqiDaOcGMwpNU34Fk+PNJGEKHSjh92Mtiz/vjjj2M6HOYxMNyCzRV2fZQXpPN59XddsJdDl2ftl9AuFn//GCxcPPLCmoeeWwPTmr8uXfXQ1VNwrhEyUZh0zqu+8XvntLVcyfzP+c3//vPyB1d9+XNH7T98mHV7aB3T2lIyVGSF/QY4LAuej7yw9qA9FVM67W/kEOXYgPzW+ubUyytdm+e2djfciiBY4dOtusqqS1rs4MfG/b8/k4PKcd9/c1AIvzxpjC4HrAZgKU9pFVo1VBep+uXGjRvxvIglheqx6ggRT19jwhgUI9rAUxd3x16ODZ9t+LT90xGDO3RFA8EYRAIkQAIkQAIksC0INKJyyNNpIBA+gAANRDsJaiAlljhgw60dTmEOFRPYcokDaeWaBtxi2hupZJ6Iie0f+LSaUpkAAEAASURBVGEkdNFFF8HcvxaVQybvKQf2S2BxA/9+dPaEa+/O4DMaz7750SSHskEFllQ4/gjrMHKEiT0bmDuva4mjgXHwex9ughYBW6lQyVwK8+46Ph9t2Pyt2549fsLIg/ccNveeDHao67QO+w52fGFt5caVuoTyEnPb5fttcKIArHS0FY04WAGT+y7QnLRtDItgGIXLPGtxGA+RG25FWI96+4ONUgDwwUqRvKzFMf2IMbc+8iZUF2ie2HszYphi7ab9QSOCDg84WADU+tfoFiccSJs0XSocH4dzF6CQiM1RutCKl+LRxrqTDNVWnPTcRo5Bgy1fer7ZfeSvFV6DeM6dOs6o2EbSMlsSIAESIAESIIFqBBSbh3p/OEtKnt2EEzmRXA4WjbNCNAx6YEklokGjwEYOnISjTbV48WK5rIHDhWCJMWnSJBEBZuUyJsasGJMJOw3pWc0x/rLNGLhU/FfjcVXVctb6w+gLO+lxAJfWE26cSaX1OXAPZf1HmDzBMXXCyPc+2rR4+RoRB+fV4rTc453Kpuraf9gbkMtvqj0+YgoNB/vOZarbHnlDuoXj8j+/gI0f884/DOf27j1y5wtuTUv7KxFhkGXQ0UOPTm9I6xLKSxjhYIQqK1T4o9aOOOKIxx577IMPPhA+OBMZ55hJYyqc9IoNPCtXFjUZNAOZYY0OocRCHy6PX0srwoFXqEpsd9Ylh1XVf1/P41Bj4f/X1Du6CKaXXz16LEzm5j/61rLsh185Stmmr/uJ1o7zu3T+NV7ijF3E1B08LdPiM4LYHwVFXfqYOkaNGgU7RjyVcm3zH//4h2mqGiMc88dCxaeyC4+rgiT/+1g5BGzKrlNqlIrRSIAESIAESIAEupxAI6scmCXFCoPf78ce0DvuuAODJJ3aUE3Ks88+GyPyq666CodNYQcIzs3EbDQO0tXGx3w2MsdJ/xh0Llq0CPuJ5SZjcVouBqbYTIJN5Pfff/+MGTO0aXvWjSEyBMZ4Gqf6aCXB5zLufeqd0w4f4xi1y+p84ZZ/rjxkz2ET1MNtEe0Cz16RxStnzlsGs/6dd9geJ1NhySLU+eBUbW4V3VMOGA5DnZsXvY5soUtgOUKeQ1UxPjyxs/yo/Wy/fPA1fHBjD9uOS15c++KqTqscC59eveA/q3BolfhSx60XTjzpJ//58cKXrzur02zx6SNOv+y1y9759J2xO1SYlUc9opZxrOrUqVNRKDaCCxs8nJR63nnn4cRkHDMAHQCH5OL7G1/96leFtGgeONwM5+TCAVUEbUZrp4etIOK8I2xrRvyXXnpJ7BPAWVVYPxE5QB3F5hA0TiTElmX8dblcIqiWVoSGjarE8hrOdRWpxN/LvPuByek3PHnRifvA3gyVtcuOHZ/8++DjT7FghZiwRsPf599aLzQ6rBHJ1QwsbTlG7dx670uoIDQJbebCjeNxoafhYFlsVSoPNfWBPu9wOMSxXeWRsX4Cz3o/iIEndM6cOagOiIRDcnUnU0E9E+seq1atQuYIFRMB0CprnBEol7NGH+zQ+PnTyinJT+eUw7LuzNz5+KrHx+w8JnBwQJvD4nWLD9jpAHw9RutJNwmQAAmQAAmQQHcSaETlOOGEEzCeu/322wuFAjZwl5/TX+0GYM6Bc1HxKUD8xaQpRlc4iQifadPGx/gGwxqc3I+zdzAkxamaMvS0007D8ZoYR8LSBmNKDFuxl0OG9lqH56ARz77x4R8ffxuD1FHDdviia/S16gc6hMDDh+7wz6unXBNbAYUBH3nAkPS35x3qUm2uar+jn86YgHOQcLTu+sIWpBIfCjRN/udLDsfHAX/7r5XQOk44aOTfvnvUhCsfEamwZjL7juUnHTzyfM/ewuco7IA/dT9sN5922Ohjx3cswpw58sw5K+fcu/beS8deWl4i1ivwIT8ceivOOMIpVULlwDQ8DkfGpwBxPjJGwMcffzw0AWlfh9aFI1nx+UgciIyPn+ALgDgrTOgVKAK6qFZNlYcmYwof+QsZsGUZH4vAVzvwQQm0NO2nAJtpRdiJcd8VRwPa3HteguaAz6RcMv85edfPrPzQd+NT8hKfdxTue1qOOtU1Wvrj3KrwotexYCLOE5P+wgHJp0+fjrOh8eE8ecu6ONUuoZ5h7QjPRbUIUNRBGwsd1SJU9MfZ0Ngictttt+HJPeyww/CJRqgfMiZUSnQF8vJb3/qWcGPDlaxQGdq1jq2fbb0udZ3Mc/4L8+E+dOShWpXjk62fJNYlrtmr46w5GZ8OEiABEiABEiCBbiMwqOJeXthNwaCiohA4DBdqRhceWlqxFHr2IQLXZK9ZtG7RM5Oe2c7SYabVhfKjiUJFwXqXWKDowpx7Z1YwPsRuJXzKEMfR1iUhLKagwkG7q7hVA+uHOGwaB77plm7qKqLPRb41d+sP3/zh8sOXDx/c6ZMyfe5GKDAJkAAJkAAJ9FoCa9asqXhWrVbgbTJG1BZAd78ncOW4K9/d/O7CtQu78E7lzgHkiY944FJ8b64Li+i1WcESDPoVVhUqTgdUExtb8OfPny+/m1kebdmyZVhCueCCC8qD+qvPlvYt4VXhy8ddTn2jv1Yx74sESIAESKCvEOAqR1+pqYElJ3Z9YKYfX6rGlD8G39g+hN0d5WcxDywovFsSIAESIAESIAES6H0EalnlaGQvR++7U0rU3wjgQAIchoZ9O9jS8/nPfx7nR1Hf6G91zPshARIgARIgARIYMATqXuUYMGR4oyRAAiRAAiRAAiRAAiRAAiYEalnl4F4OE4gMJgESIAESIAESIAESIAESaIYAVY5m6DEtCZAACZAACZAACZAACZCACQGqHCaAGEwCJEACJEACJEACJEACJNAMgV6kcrz++uuHHHJIPB5v5n6YlgRIgARIgARIgARIgARIoFcR6EUqR6/iQmFIgARIgARIgARIgARIgAS6hABVji7ByExIgARIgARIgARIgARIgAQqE6DKUZkLfUmABEiABEiABEiABEiABLqEQN2fAjzuuOPwabZhw4Y98MADmzdvhvvqq68eOXKklOapp546//zz582b9+KLL95zzz34evQee+zR1tZ26KGHIs5bb711ww03IM6nn36KnRuzZ88+/PDDZVo4PvnkE2T48MMPW63W008/vaWlZfDgDiGR4Z133vnmm2/iC3EHHHDAhRdeeMwxx2iT000CJEACJEACJEACJEACJNCrCHSM5msXK5FI4OPQUCrWrVs3d+7cyy677C9/+cugQYO0OcyfP//DDz8MBoPDhw9PpVKIidCPPvooEAhs2LDhm9/8JnSGu+++GzoDVAin0ynTRiKR/fffH5rG888/H41Gke0VV1whQlFua2vrtGnTzjnnnI8//njZsmXImSqHREcHCZAACZAACZAACZAACfRCAo2oHFADbrzxRix04H5CodCVV17573//G6sf2tt7++23//73v2OlAp4nnniiCLrrrrveffddKBUi8he/+EWv1wvV5eabb5Zpke2tt966ww47wAcrIbFYDGrJbrvthstHH310xIgRKFpEPvfcc7ds2SIT0kECJEACJEACJEACJEACJNALCTSylwOmUELfwP0I5QGGUrp7O+OMM4S+ofV/8sknoTMce+yxwnPMmDFHH320Lu3JJ58s9A3EgU6ycePG5cuXi/g77rjj+vXrV6xYIfPU2lxJTzpIgARIgARIgARIgARIgAR6D4FGVA7tzo2hQ4dCtXjvvfd0t7TPPvvofHCJaFAztCZYY8eOhRaB/Rsyst1u17lXr14tfGCOteuuu5511lmnnXbaNddc88gjj8iYdJAACZAACZAACZAACZAACfROAo2oHNg1rr2ZrVu3DhkyROsDN1QRnQ8u29vbtfqG8NFF00ZAfITCvErEwR4P7FnH7vMjjzwSuziwhyQcDuuS85IESIAESIAESIAESIAESKBXEWhE5XjnnXfkPaxduxYaiHZpQgaVO7DEkcvlhCIhQrGCARutXXbZRUaWaxrwwcYP/EUqGYqY2P6BPevYSg7FY8GCBTKIDhIgARIgARIgARIgARIggV5IoBGVA2dJvfHGG+JmHnzwQTiwJaOWe0M0nJmLveYiMjQKbOTA4VfatIsXL5bLGtArtt9++0mTJokIOPBKxsR+DxhlIVT60EECJEACJEACJEACJEACJNALCTRyYpXNZrvooov8fj+Owb3jjjugEujUhmr3efbZZ+NI3KuuugqHTWEHCA7JhRkVDtLVxsfWDmR+yimnYNf4okWLcB7u7rvvLiKI03InT56MzSTYRH7//ffPmDFDm5ZuEiABEiABEiABEiABEiCB3kagEZXjhBNOGD169O23314oFHAALr7cV+Nd4axbfGoDmzHwF+ZYBx988HXXXXfQQQdpk0MDee6552666SZ8uAMf8cC3AmUodo0vXLgQSg62m2OJ4+KLL8b5uTKUDhIgARIgARIgARIgARIggV5IYJB2Z4WUD3ZTo0aNkpdaB07FhZoBVUHrSTcJkAAJkAAJkAAJkAAJkMAAJLBmzZqKZ9VqUTSyl0Obnm4SIAESIAESIAESIAESIAESMCBAlcMADoNIgARIgARIgARIgARIgASaJUCVo1mCTE8CJEACJEACJEACJEACJGBAoO7t40888YRBdgwiARIgARIgARIgARIgARIgAS0BrnJoadBNAiRAAiRAAiRAAiRAAiTQxQSocnQxUGZHAiRAAiRAAiRAAiRAAiSgJUCVQ0uDbhIgARIgARIgARIgARIggS4mQJWji4EyOxIgARIgARIgARIgARIgAS0BqhxaGnSTAAmQAAmQAAmQAAmQAAl0MQGqHF0MlNmRAAmQAAmQAAmQAAmQAAloCVDl0NKgmwRIgARIgARIgARIgARIoIsJVP0ux5o1a7q4KGZHAiRAAiRAAiRAAiRAAiQw8AgMam9vH3h3zTsmARIgARIgARIgARIgARLoJgI0rOom0CyGBEiABEiABEiABEiABAYmAaocA7PeedckQAIkQAIkQAIkQAIk0E0EqHJ0E2gWQwIkQAIkQAIkQAIkQAIDkwBVjoFZ77xrEiABEiABEiABEiABEugmAlQ5ugk0iyEBEiABEiABEiABEiCBgUmAKsfArHfeNQmQAAmQAAmQAAmQAAl0EwGqHN0EmsWQAAmQAAmQAAmQAAmQwMAkQJVjYNY775oESIAESIAESIAESIAEuokAVY5uAs1iSIAESIAESIAESIAESGBgEqDKMTDrnXdNAiRAAiRAAiRAAiRAAt1EgCpHN4FmMSRAAiRAAiRAAiRAAiQwMAlQ5RiY9c67JgESIAESIAESIAESIIFuIkCVo5tAsxgSIAESIAESIAESIAESGJgEqHIMzHrnXZMACZAACZAACZAACZBANxGgytFNoFkMCZAACZAACZAACZAACQxMAgNO5ciEvU5fJFte21kEFH/BZHkwfUiABEiABEiABLYhgUI8UHoP+6O58oIybVVe4OVR6UMCJNDbCDSgcuRS0Ug0VaEz6G33VkGefLwtkvO0BBwVwhQvVzAai8VCbl1wPh1t8Xlc6ArdvmAkndcFG10W0vFwKOj3upV+1N2a1sfNpyItfjVrF/IOJztxTcjet9QLe9o6cshF/SXv0v++Sp20vsgarwuZWEhI5vYG2joLZpxFNtHWEhC8cM/eQCiWLuhSZBOtAa8C1OUNtMYzutDqRadbVZCl+y397w3rs9DlWPOlsWAm2Zi0k1wqHPAp8rs8/rqZNCWYidwmghmnrl5ZarqmmDQlmLHYFhPBDFLn0rE2PNLiqfUoT21WF9uYSS7ZFvS51dbv8beU9SeNC6aTosKlsWAVEnTyMqkO4yZqHNqcYJ2kLL8wLro8vvQpZBKRELoy0XurPZmu88/E0ZGpwejJKjzUIqtCskWJo+//0VGiQ1AaQpVuUgrSgMOksoxzNKkO4yZqHGoxFszqacUrOBJwVhHQGQy6M5G2hP6NUiU6vUmABHoTgUHt7e11ypMOufxJXyzV6qozYc9HxxKHL+auLDpWObwRezgT9erlzER8vnDG4Qn63ZZ0LJLIOgKxRKjGu0+3efzRvMPlsmZTGYtfV3a61eOP5ZSsvXZLOhGJpay+aKLNbRUyQOVoybj9Abe9JJPN7fe7bOIKKoenLeeGWMXoFovdHfC55FUpUSP/52IBb2vK5g4EPDa8d+Npm1Yw4xyTLZ62vNPlcNht1kI2nUikcp2Q5ZMt3mDC4vIHvPZcMhpLFdzhZNRbvC2LUdG5VCzeSeXLp6LRVBlXY/mqhpoIVjWdCDBuJ4V0q9cfyzu9qKFCEkLnXKFETCq/xkUbh5rIZRJsIphJaqPKQtJmmDQnmIncxoIZJlYf6YLT7XG77JZcOhFP5azu1kTUX3pKDZmIqiw4fXhubflULBLP2LX9SROCGUqtBBoKZpbapDqMm6hxaHOCmQhuUrRRasy4u0Jpu9vjcTpslmwylsgUHP5YvLXYxwqeVvTQXpctl4hGktlOD3Up73Sb1x/NWiw2bf+fTwQ9LUmrOxD0OW35TFzpEpwt8XjQWUrWxP8mlWWSs0k7MW6ixqE1CpaPB9yhQigZC5QeKo3IqRZXIBtMxIMOjSedJEACfYEAVI46f8vmTBw/ee6yOlP1hujL5k6uLvnKm6aNHz9zUZmcGxfNnIiAhetEyLpFs7SXZdHLPNat26j4rVswc7y+8I0L4Tdx5qJi1u3tK+dNHz9++ryVpUwWIVxzWfIu/r96/gxFMDV7XVDTl0vnTNYWvWzOVO1lfdmvUwnOWlQSdIVCeur1pRYkLjsaVF1Fr1MQduRVn2D62CaC6aN3vjZpJ2plTZ69pAhh9QLU3UR52W5ctHFoZznqvTIRzCQ748pqiklzghnLbSKYceJ1y5aukI9se/tGlYGmRzRksno+HvHJc5bKIpbNxaMlu5emBJN5VnEYClYljfQ2qQ7jJmoc2t6UYFLCyg6ToisnKvmuWLp0dcmN/1cqPe74mQuKtb/selTdtOtXlGJsXIJ3Ax7q0nXxf6SaOH3uXCTVNJJ2lefUjm6vfYWa200yN10udV2aVJZJXsbVYdxEjUPFXVfvBqVgar8+Y74Wvgxrb186eyI6/S4hpcmVThIggW1OoA7DqnxMmPn44wVLPuZXVoOVXwCXHb9sMixtBrDOnOkIU200fZFUMiwWol1emCh1BCtZqOvfYpHa7fUHdcY8hXQsFFCNGWDeVMHSR7G5cYVSuXSkQ4JopkM0rCIk81a3t8bliVLCVDxVsHgCvuIcvM0b8FgtqXiys+il2OX/22xVVx0yaYjn8rpL0/sWh8fjsGSSOqu1QiGfz1cvziS4XKIafBRUFiyoOIpxXcoqTCZZj3VVRyk2uwMI8rm88MokElmLw+cr1YPT73dacslEWgTXVXQuHktp8+ootAGXiWAmORq3k3wymbaItqPmY/dhyawgb9q4aONQE7lMgk0EM0ltUlnNMGlOMBO5jQUzSWxzuZ3ykbVYrG6fG807mym2b2MmpWdeluHyeWyWVAKdjPJrSjCZZ2WHsWCV00hfk+owbqLGoWrH3GW9jZRYOEyK1sXWXzrdHQvMCEP/jCWITCarxkOV5yw2t1euSlg9nR5qkVk+0RrOeUMBp+41gD4dbcfe0ZBsdruSQhdNZFLnX5PKMsnNpJ0YN1Hj0OYEk3K78BLHGyMjPeggARLoGwTqUDlsXsXIUtnpYLVYPSHVjT+tGIEXf9loAFsdsnZfS1tba9BdSLT6Asp6cscvGw1F8r62aDzW5rVAO9HsTLCkQv6WGBK3toXboFvY80kMTeUPeftb4zlnoLWtLeS1ZaJBXwuGxbpfIRMOBpPIIxKLRkIeS2mYq0TLpTGUd7oduiQml5l01mKBkVBHNIcL75hspiv6O3WYYZX88L5RLjLpXEdplkzY53K7FYNfTyCsU0YQLRVyi+AKKpwml/qcuQzGTzaHZmClElBZ1JwTFKVcLptJxUKtsbzF7oIVivrLKm9spwKx+LM78TrOZbIqjbqKzsbjaYvD6+vIq5RnI/8bC2aSo0k7yabTnW/a6nTaLYVSVRsXbRxqIphJsIlgxqlNKqspJk0JZiw2nrBsFz7UqjJttRVHjyZMLEor1z7y4kqtYuXR70rBOlMwE6xzbP2VSXUYN1Hj0OYE0wuquzYuWhfZ9FKtantJTyigLsursiCVT2RXSLW1pV0toY5ppVIZTg/8stHWaDqby+ez6RhcNljJOkoRmvjfpLKMczapDuMmahxqaUqwDrGtTrdTyavs/d8RhS4SIIHeSKAOlQNjUJf6w9DRihFk8QcjV/HLx1vbUjZfLK5suPNhkSIG6+Z0OJzS3HfBHgi3+jB8dvmgOFjzCQwZiz9lbsXqbYuG/D4vUofCMexpKAVaUuFw2uJujWKvtc8XwP8BRz7R1mkRQ42bybsjMWVDn8vt8bdGtRvB1ZeP3QHp6/lh2AwbXExAZaJ+t8sfyVjsdiv0F60yU09+2rh2pwPKi7LUUfwVMtjvYSnkUaT6szqUPYnQwcKtLT4XdppD7dKsDNns2HEeQmi4NejBroiw398126jlmzUXD7pd3rZ0ASMqqyJYoSiZ+X+wX4YNtBeVFc86PK2R0uYXlZzdZsMcf8jjgjUzlBtlfk8FXVwMUV7qNRSdicczFqfP5zCXpoYYJoKZ5GDSTnIKOWXBK90GDTIQw/So5qaNizYONZHLLNhYMJPUJu2kSSZGxEwEMwk2EcwktS44G8NmIpsv4BH+JkxsSgeUVTSL4i+XVmYY1GooPgTbqLcxEawkT5X/jduJcRM1DhXrnzU+8lWkq+ptUnTVdBUDsAUrkcMWtGKHg6pUpkpKq1tIonbfpZ5MySITaY1bA6HSEnmnXF2hSIvbmmrDOQRuLOq3Zt3heNSH1tH8z7iyTPI3aSfGz45xqGjmVbtBE8E0wdgmCLjF1SaNP50kQAK9m0A9KofxnRSSccXGJaDZvQybIWshncx0JLRrFqqV0b/aQ4lgZYK/kE1qRtQdySxpxd/t6+iQXT6vw5JNlc36O/0Blyad1qmMlw2snLRRNe6CMpWlrHbnUpl8IZ3GXLw6saV6a+I14rR7YZKRi7W2JtK5fC6bigRb0yjJIsqEA4d3hEMB6GCKmVksjlF7LtaG4ar42X3hqHI0lBfBLZFEFFuRM5FwQpG3yZ8qgFIhGA/lsQEc00nq+osUrIb8nYFINBJRlCGnw+7osC4rAlVf1rlCTpnnV+65dNN1FJ2Ox7MWV1dpHEUBlJvOZCoIZnLLxduq0k5EI0Le+UwmU8gro8wiUDVbYybGoSZymQSbCGaaGo2tejtphklzgtUid9c81JlISziDJ7GkUYtmVJ2J2l4zkVA4mcEzn0m2tUQy4plXZDYmZnJXJsFq3tUFM05tUh3GTdQ41IyYsWAmoSZFm6TuFJxPhkKJvCvU5rcX/XFWhx2TYS2RFBYqcul4KBTLoS5FmYiDzjqS94aq7Qe3Yh0ZJ1UF29BRtgU9hXhLIFS+cN9JhtouTCrLJBNV/OrtpEi0akdn9LpsTjCt3MqLXNWNtJ50kwAJ9HYCg7tMQHURIRfxOSOds7QqNquln3bIr/RqMDNQBi1KsDMQ8iRaon5XTFlBQVeMY0CcaggC81mM0dyO0iV81OWKrLIEUXoBKJlYHDBX6dKfKqUipDccj2FOHRpVAldC72i2JLs/HMkEWmIt/piSlc0dCvmirTFrxwBdW4IDR1e1taRSaUvAq/Uvul0Bvyvapmh49W5XKctM5ay8W1yt8ZgP523hzaq8LgSMsugVPbBCoxqxYaHDHfIG/PloUj2Jq5hHweLAgcTurB0WVpkEcij61150OhbPWdzBDjW0ohi1e5oIZpKRSF2tnShNHUMR5cyacNyZtbmgPKrKtXq7pXuvwqQ5wYzlNhHMOHGHrli5nTTDpDnBzOQWuTf9UOcTLYFw1tUSk2fMFTszg2fH2RJpywZD2HAWUaS0e9tC9lacDae2BGNiJndlElz7k1UhI5PqMG6ixqFmraiCNLV7mRRde0aZSDCYsHojWF7vSOTC4m022IbdiWHF0+kPB20t4ZwKC6u4reGUK5j0iGe8I5Vw5ZNBf0suUDp3Ceef2XAAYSjsb/4oSJPK0kuiuzZpJ4Jo9Y5OSV49VAms2g3qBOElCZBAvyPQdSqHisYVjLV6O3exVpuzNmp2bySZSicTqWQqmYyFE7EoPMJVOuwqWYrOvnKgYhqUyqO/q+vXYf/igF2ZklRdtZb2vHVlVh7Z5mmNp1tgaKHsnXA5bMlgm8WO/aQVf1a1VGwXx9C1QgQ1VN2VWCGwLi/1pjFzh0SlPRiqTZWCsP4fDpH02OIwP2lze5ChYgmNVR3kg5G3S8lOXetyKYZG8FP+q6XoVDSBHe4+ebSukripn4lgJnmbtBPVGk8wdBZvOp8rwjBj0pxgJnIbC2aS2KSymmSCtlaVmIlgJsEmgpmkLgYX0m3+loTNH412msY2YYLEDl844YP1fjZvxTYmeyEWKIinotj61ceh63sbc8GM7tu4nRg3UePQ2h95I/mqhJkUXSWV3jsXDwTCGXdrPKzvmp2BaDKgLNUWYGvstOOkdTzNDgcyyIRbk5ingvWwOueWU9882N6WzytWpZZ8MprM2wOarYWwAHBY0ukUVm6V9M38jCvLJGeTdmL87BiHCqPkrniolfNUSrunTO6HwSRAAr2HQNcZVqkbE2CAo5xipf0pVpc1/2z4SFqwNRxLpsJeWz4RTRQ1BMUCupDLFq+U7HJY90APVkfmDmXnRA6HjNT1U1Opm+JKydTNF1gSL103/7/YJKNsikkp5zYpe+Mq/grqUNymvLEq/XLKmk95P4wRjGrRXClJFT87lB/NGTyIBYsy3YbbKkkrequL8YXi9pcyojBkwpjL6bAqaWssupCIJmFq56+mcRTUm9a0l4pydfY0Fqxz3LKrssRik06pnahnDqinFRVTqjvHsRLkUK/LUndiYhzaIQr22qCm67xpZR9/dcE6Mq/kMqmsMrnrYWJCrEMctX3XedNKV9DcQ43zKwLRvCccbXWr7VbKY8KkFE995p1Q4XFsGbaCFI+1MCFWSqxq6d37UJtUR5ngdTTgGolhfry7H2qVNwyq/KGUPRiNVNvabccsAvQNvF2SUBhASmkRkNWCVTDs01B/PuxFxHXQ4/apZ6aoVkHKhL/uJ+yWNJ5966Euawf1PPKauzZxZpW3v1qWSUQGkwAJ9CoCjagcGPJWMKO0ebxuSzYW0VmjGh3v2plEp+7X5lBG4PLn8sCgKRWHJU3xl47jOCuHZmdIKaD6/3aXG5vANZu1q0fVhIgjMFPReF54Fse6Xt3qSwEmvcEWnAqsSVq3Mx1ui+dtXn8x7846Fob9+Oi7xeIGZvWH3R9aZJAAu+lRC67O5WKTNn4tcW3czjEqXImTO5W9EuIH3Djty+uxd46Lj7IHg/h8cmdf7FcowhL+ubiiOsoDsNRssolYKVUmhk3gdil3TUXnE7FkwepRziuu+MMmbdy07ri0ijE1niaClWLio+yo6nCq0z0Wj0qt2k7UeoEOXTwLFZvjsfPJ6vG5RK7GRRuHluTCRh4/bhqb/aVPDQ4TwUo55PBB+WBLK1pBp59xZZk8O8ZFG4dKKfKxFqV9h5LSpwaHiWClHKo+1DjaIICDiEKxCM6O1v+MmehiF1KwvrHgyGTREGoUzNL9D7VJdRg3UeNQ7MfC4gF692wRTrXeptsfamg56bZAMI7vs0Zb8AYy/uUSregKcZyFU4nnCka1v7Cir1jdLZFoGGeCK0shaDl5dYpJiY1fNomP2GMSQk0tvPC3jz3UJg3YpBXJuzZxqMesONwum0k8BpMACfQyAg0YVrncLiu+kB2KWXyYmIbdlEscpmrzt4bivragL+D3e2H9n8umU4lExh2tzTg1GXK15jw4vQPT3YUMvuSatbqDckjpbmlxJdpaA8FcwOsopOORWNbmCQc6d88mbF1ejy2awPcRPMWBnkl8EWxT9v/5IjjBN4vPfOPr48mCI9Di1/V2+UxKydnqb/Prcs0mI8oB4nnMf+FQ1FgkksL7pvSR8EIi6I1aPcqigvhKN25KnjqcwbnAcSy3O5VP35a+chyShms4EiqYdoGX027LZ4E6nbd52lrcuvKLM2lWnbfJJXi7E61tgQB427LxaCxn87VpzZiV9AWcjZ5MWQreQlD7Pk61+VoyONHepcidzyTjyWwBn2cOlqg7gyFPvAWzxIWg15FLRKIZq7tNhlpqKBonnWHArn4hpcp9qHddNOSuEqXc20SwYoI8PqeeLDhdIKRtBCbtxO4P+aP+WNAfCvqdhWQMzcAVapHt27ho49DON1LvTZsIpr3pnN0RsHQeZBtXVlNMahNMzArXe9MmgpVuuvJDnQkr23ztbmchEYlI+Ha33yfGQMZMLLloIJC0oZuzFTJ4fjJ5uw/j2WI+tQmm2sMjRTc+1BaT6jBuosahtTzyCp9uf6iVvTronVw+O/r9dLGKsNrrDXoc6lU67GtNO/EVems+k1D6OWcwEhRBWLjSdsX5rB0vAYfyyXo1pdUbDDiSMMrz5wM+fIY+nYgqWwVbWjxqsO5Pve3bpLKKuas9WRc/1CYNuDbBdHdfdpmGMYDdr3wjhT8SIIG+RaCRjw2uW3rTzGn4OrX66/z565VLbpo1Yyq+z41PrU6dPnPOTYtWFL+3rH5qW/spbfVT2zPlN6lXL7l+9sxpIun4ydNmzl1YSlkUceOyBXNKWU+bef2ilTrRlW+LT9R81lcXrFwqX6LVfgFWG6Xa18eVOOuWzZs9Xb3hydNnzVuq+fRwKQf1c6/jx8/u+KpwKWTRLBVTpz8dGFYsmD1DoJw4dcbseZ2+dQvMsxCowhw/cer0WTctWVnKFf+vXDR35vSpxWooT12MqX4hV/OZa00GJs4O3qiN65dU+BAsvjSr3FbnFtDevnrJvDkzpeCTp+G+ylIrwk9T7mziVKWmdaKYFF32BWddcnzjFp947vhKsD7Y6NpYMCXl0jmK3B1VqMnNpJ2sXlJ8bpTamr+s+GDI9MZFG4ciE/UBqyyXLKKKw0QwpFI/jVz5M+8mldUUE3PBlA8Rj9d+xLnKLZZ7mwiGBFUe6iWzUf9lv2na70YbMdm4bJ7sIqfNnLNgmb47MResBx5qlZ9JdRg3UeNQI2Ki7nrgoVZfUWU1PX7WolJrWrf0evTBSn8wfvL08ldWKRr+X7cAfaXu3bNu2fw5pRep8sZbUNYl9M2H2qQBm7QiFZrh18eX4Jmv2P9qeNNJAiTQGwlYeqNQ204mpSebOEuqOdqChMqxUD8O1Ebpg2511NRpNNQHb6JekVVVqKFhaL0l9ab4iio0cdaSftaATQirg++ZCyrowyYJ+3IwH+q+XHt1yT4gH2oQUjW0GfMrPdcG7/C60DIyCZBA9xNoZC9H31rG6SStzRcK2pORzp9E18RIhfCZQmcwqfHq0058FSVt9bR0OlKnT99QTcLjpmFK3WGqVVOivh4pk0wpFn/SVKuv309N8ivf0bP5WvwwWhk4Pz7UA6auB+BDXYgH8Ap2t8L+uOIvA9Nk2OnpzsWsGJWeJEACvY3AIGg5vU2mHpInjy+LqMf9qEdX1mkm3UMys1gSIAESIAES6C8EClkcP1LA3SifSsRuQP5IgAT6DwGqHP2nLnknJEACJEACJEACJEACJNALCQwww6peWAMUiQRIgARIgARIgARIgAT6NQGqHP26enlzJEACJEACJEACJEACJNDTBKhy9HQNsHwSIAESIAESIAESIAES6NcEqHL06+rlzZEACZAACZAACZAACZBATxOgytHTNcDySYAESIAESIAESIAESKBfE6DK0a+rlzdHAiRAAiRAAiRAAiRAAj1NgCpHT9cAyycBEiABEiABEiABEiCBfk2AKke/rl7eHAmQAAmQAAmQAAmQAAn0NAGqHD1dAyyfBEiABEiABEiABEiABPo1Aaoc/bp6eXMkQAIkQAIkQAIkQAIk0NMEqHL0dA2wfBIgARIgARIgARIgARLo1wSocvTr6uXNkQAJkAAJkAAJkAAJkEBPE6DK0dM1wPJJgARIgARIgARIgARIoF8ToMrRr6uXN0cCJEACJEACJEACJEACPU2AKkdP1wDLJwESIAESIAESIAESIIF+TYAqR7+uXt4cCZAACZAACZAACZAACfQ0AaocPV0DLJ8ESIAESIAESIAESIAE+jUBqhz9unp5cyRAAiRAAiRAAiRAAiTQ0wSocvR0DbB8EiABEiABEiABEiABEujXBKhy9Ovq5c2RAAmQAAmQAAmQAAmQQE8ToMrR0zXA8kmABEiABEiABEiABEigXxOgytGvq5c3RwIkQAIkQAIkQAIkQAI9TYAqR0/XAMsnARIgARIgARIgARIggX5NYHDFu3vjjTcq+tOTBEiABEiABEiABEiABEiABLQE9tlnH+1lubuyyoF4o0aNKo9NHxIgARIgARIgARIgARIgARKQBNasWSPd1Rw0rKpGhv4kQAIkQAIkQAIkQAIkQAJdQIAqRxdAZBYkQAIkQAIkQAIkQAIkQALVCFDlqEaG/iRAAiRAAiRAAiRAAiRAAl1AgCpHF0BkFiRAAiRAAiRAAiRAAiRAAtUIUOWoRob+JEACJEACJEACJEACJEACXUCAKkcXQGQWJEACJEACJEACJEACJEAC1QhQ5ahGhv4kQAIkQAIkQAIkQAIkQAJdQIAqRxdAZBYkQAIkQAIkQAIkQAIkQALVCPRqlSMUCp1yyinloh9yyCG/+tWvyv27zaeaYNtCgLPPPvtrX/vatsi5xjx/85vfAPiWLVuM43cnE2NJeir0jTfeAKh77723+wX4xi3P7BJ4QPxblH6vYQGQww/vfanh5M0kbKDovb/zL3nXHxeM2mcqlZo0aVIul2tGwtrT/vWvf0VLWLVqVe1JGLNhAi+//DJoix96y4bz2UYJ0SF8/vOf/+STT7ZR/syWBEiABPoKgV6tcnQ5xAcffHDBggVdnm0tGfZg0bWI18/irF27FprSq6++2s/uq9rtfN934KI57hu+cXC1CPB/98NNP1n48opV6w3i9K2gv152BO763M/vaSr2TTfddPrpp9vtdtOYjNDnCOy55563q78JEyZ0v/DPrnn28kcvn7JgyrBfD9v1ll3LBUDDs1qt0Wi0PIg+JEACJDCgCAzui3f7zDPPbL/99g1IvmjRorfeeqtHFg16sOgGQGmTzJo168ILLxw8uC81Fagc8+bN+5z6095Lf3UftOcw3Nrg7QcZ3CBUjp/e9wpiThinRK74e/9W7+Dte2YaooGipxy4O+5i6SvrKt6L9MQSx/Lly1tbW6UPHf2JwM4773z00UfjjnbbbbePPvqom29t8ZuLb19++6TRk/Yctueqjyusaw0ZMuQrX/nKn/70p29961s77LBDN4vH4kiABEig9xDomeFFk/e/44479q0RcJP327PJgRrAe1YGlt49BKw7bG+st2w7MbZd0QsXLtx33317ZAp82+Fizr2EwDnOc9656J0lZy05fPTh1UQ69dRToQstXry4WgT6kwAJkMBAIFC3ynHcccddffXVP/3pT4899ljMLV1xxRWYUdaSeuqpp2BW+/jjj//ud7/7whe+cPjhh3/pS196/vnnRZwPP/wQaU844QSYVk+fPv3vf/+7Nu2777572WWXHXXUUVOnTp0/f742CO54PF4y2a26lwNxYM57xBFHwHz2O9/5zooVK5BQGvsuWbIExjYyk2QyKYtoRjCZSbmjlqKx8DJ79uwpU6ZA7JkzZ/7vf/8rz0f4YEMF+CDmCy+8IOM8+uij3/jGN5AW/nPmzNFWx4knnogtFrAlmzZtGqhimq0uc3ZspJGsyvdyGFTWc889d9hhh916661aIZHV3XffLX22keO73/0uCjrzzDORPxqnkF9n4f2Xv/zly1/+Mlog+Nxwww2ffvqpVhjjBoyYqCCs/IA22j/IP/TQQ9rkn332GTYaoQHjScHMui5zbUyt++7UO9iW8KO/vTR6VuLUttTSlz849HtL9pu9+P5nitsPLvhd+oDvPiyTrP1oE+KHH3xN+hg4xE6PKdc+jjjn/OZ/Yv/Dca1PyCR/fuJtuSmifC+HKPqxFe8jyciLEpN/8PjjmfdlWjhWvrfha79+Zuy3H0LoKT9dCuFl6KSrHw3MW4Yk47790F1LV1355xdwg2fe9HTh060ijnHRuP0zbnr6cy2Lh1+4aMIVj/zfX1ds2FRMKIswdmzduhWPOTorXTTxYMIe55JLLsGzg/qC8RUia6OJXUx4oK655hrkcOSRR/r9/o0bN4o4S5cu/frXv47+7ZhjjkFLW716tTYt3NlsFo8zInzxi19Ev6QNRSY33ngjnkqEohFefvnlb775pjZCw24878gQbVh0g1/96leffvppmRv2FeCJwKYj6ePz+b797W+LSzwUV111FZKgbT/wwAPoqNFpgM+mTZtkfGPHf//730AggOSTJ0/GM4ipfRk/k8kAo9frxS2jc/7e9773zjvviFAQhlQ/+9nPUAuIsGzZsvPOOw+Z3HzzzSJCLZUlC6roeO2110TPibqGhPJ9JCJj1w1u3OPxiMq67rrrNm/eXDGfcs8xu4zZecjO5f5aH2i8e+yxB1UOLRO6SYAEBiCBRqxlEokEXkUwXFm3bt3cuXPRlWMMN2hQJ6MOKAwYxAeDweHDh8OwATEBFy9avEvQv+PNPXbs2P/85z94CcEf1q74297efvHFF+N1iFfC0KFDkSeGa7CClbWCMRyGCLg8//zzpafWEQ6Hf//732NkAJEwesCYAKJidlMY+yLmr3/9awyUf/zjH4tUBxxwgHA0KZhWBp3btGjMfuF+N2zY8M1vfnOnnXbCoBxWTHfeeafT6dRlhbEslD3AxFD+4IOLVvvQ2cBQ6H7r169HwgsuuOCuu+6S6xKA8MEHH+Alms/nf/SjH1177bVaTUBXhO7yF7/4BUYbGC3pNENEM64s6BtQb9BCMIYYP348ikY7wTjjrLPO0hVRfrlm6XZPXdRR6doI47+z+XOzTIYCGD/BcA5aHEqEG40BOeyyyy4yH7RMjPYwgsR4ERopbKyhhkHxkBGEo2IDRhAUPLQutN5zzz0XhhwYu6Chag85wDALbR51ipHTPffcgwaACtVlXu3yldwnl3n3u/6+V866+b9XTz9g4dOrQ7EVpx3R7A4E7PSYdZLj9fc2XDL/ObiPG6/YIw3bqePZ/8Kho7ApAp6n/ixVUbYPN2y+8i8v/OArB+6285CrYy9CwXj5lyftvKNi3Jj/ZPO065d+vGnrd07Zd+cdtrv90be+/Isnl/zg2MP2Ltq1/+v5NXPPGH978o3gH57zHDTi6ukHXnv3ir89nfv6seOQ3LjoPyTfxL7wwNS9xw23Ln97/W/+lX3z/Y1//HbV6eRy4THS/fjjjw866KDyIPigQ4DSeOmll0KNxJAXjxiUB11MDI5R0T/4wQ8Qih1ZQvdOp9PorPbee29MFuAR/uMf//jiiy9iQA8jH5kco3+0eegV6IX+7//+b/fddz/++ONFKNob2gaaEEz/3nvvPShFK1euRG4ybTMO9APXX389JlyGDRuGRxgSPvzww+hbasnziSeeQPNGL4T7hdqAe4Qm9s9//lN00cY5vP322+jw99tvP+SApVGQx32hWxOpkDMgn3zyyfvssw90jFgsBn3sH//4h+ypoCZBk4e6jh4Mj/Bee+112223ocfAsyZyqKWyKkr4yiuvALXNZhOmTejQ8BpCJwlRER9dGdQqvKEQB3UE3Q/qFl49MIhq32J5cFJHhWozH+n+bPJtBa2PsRs6FeyBjeMwlARIgAT6N4GOYUft9wntAoM2vM+QBK/VK6+88t///jf0AW0OeP1gnCoUBsy6iSC8mNH7//nPf544cSJ8ZsyYgffiLbfcIt5neD9hNgvDYli+IhRva8zAyfcNfEaqP5FV+d/XX38d+gYGf3idb7fddogAzWTNmjVwSGNfvHXwPhaGv9ocmhRMm5XObVo03nzQgiKRiACICVHM82GwLmf4RIZ4L0JbeOSRRxDT5XIJT5yCgrEFxjG//e1vhQ+gYXYTAyPBEJ7QGTBoEGNu4MXSE0Zg0OhEfOO/opq0s6QyvmllYbCCQQZ0JJze85Of/AQaIGpWJt92DqFG7rqrMt7df//9dXWNkQQ0LtwXCItGghEPRj8Yi0A10kpVsQFjuIm7wC5k1Jpo/0gi2phMi8HWH/7wB/zFsAa1gDWQ2lWOH57p3Hf0zn9Y8sbR+w+/5JR9x+y248x5yzDmHmpt5DmVIomdHrZdhsBnwrihx08YIYOEAwXhn85Te/nJpq3hcw85Rt078ZMZE7708ycfXfH+qa7RiAOtYNW6QvyKo6E84PLsKeMOvmoJtKYFlx4hckC0i07aZ7tBltl/XN56phOqyJ8ef2v5Wx9aLIrKYVz0LYFD9xzRMVbedafBN/zjVWxKMZZWlCv+YqkBDoxftZ7SDdUd3RcuoeFjIhza40UXXSRrVkSDAonuTrjxeAoHnjgMSaGvYpAKnwMPPBC6yt/+9rdzzjlHRMBfPNFYKIDjjDPOwAICGp5UOaC4YgVYqjdofuWriDKfeh2YQIGGg+l8JEQRaH5PPvkkpvBryQfRMNzHo4F2Dl0FWGCWhn6jlrTQGQqFQltbmxjKI4n2ptDJ44mQe/DwDAI1uhGoZCJz6H5YYIFagrcJ1hygloAn3hfyFVBLZVWU8+c//zk0LnREoltAKahH6DPoPBEfTzqWvqFi4X0kkuOtJDqHirk15okW+K9//QvTcFBfG8uBqUiABEigrxNQhub1/rD6LN/KYqCMl40uE7xltQsUIhSzZZhuxJsDryLxwyw4ltfFCjvei1BmMOAWkTH/Vz7TrytFe4mZPFzi5a19W4wapQyDTH/bVDDj0nHXI0aMkIYfY8aMwSi5nCdWZjA5h2UcrC/JDLHiAQ0KOkYJ5xYMfUaPHq2dTjv00EPlHL/D4UBazKrKHBp2mFYWxtx4o2PNCgMLbJ3HGx0KYy3FjTz6s2mpDRX/7Xe+yRKHaf4wSAMxjP9kIxHqLm5Hl7ZiA8YuZCyJYHlEtn+k0rWxk046CfcuckNrhz6py9ngctSuyu7SEcN2HK0qAMNVJQHLCAZJuidox8HbTTlAGVvjd+Aeir666oOifVHyxbWjd93x5EOKD9rY4dapE0bACkuNq/xBKP7uPlS5NeHGfa2r7aakvrH1s3bYYrn22e2zdsWOS8m3tp9YX9XWlzYdVHR5CTc00meffVb6CAeGwjof6M94xKA/CH0Doah0TC7oWhEMSkVCqLWIgIURaaGEvhGD6fff76Ak24yurAYusUcZXbRICJMeOGpvhOiLEB9TM/gr3BgiY6AscjP+K9YrtH2X9qbQLwl9A7Mn4CD6dq2Jl4CJomW5KE5bdC2VVS4hcsBKL3QMVJDoJ8EHCzjQbURk8Z5C7aD2hQ/kFIv2gwZbKnZE8DzyljqWOJCt0DSw3lsuIX1IgARIYIAQaGT2VDt2xHw5uuzyUSxWz8sJYj4JFkRykl5GwFsBU1kYzOF9ozUAgP0rjBZkNGMHMkcEOcFmHFkXuk0F05WluwQ6qBlaszSgwDwfVjCkqoCRrtiUgr/a966w/8acnC5P7YtNjooQR5yXgirQxW/gspbKQl3AYuGXv/wlJjK1pkcmxbVb2rdWidJexb9mb9FQ0a5kCjGHWmMDhr0WEkIZlsnLHVoNBKOcumgPxloADp7azjJEPXtqiHp41KdbPisvpZt9dh86RBpO7qDKJr+DsTq/adzuVhkKwfYesROMqeTijDgBS9wRbg2/IYO327y1prp8ZfXHP7v/VWg1WNmAsiF+G0v7QIrXNfyHYW7FWNquTIx0y0fn5fZOeL4waNa2IoytMaTWpcVzLQsVbuz3EGo/novvf//7WP6FUor5fui91Uy/ZA61OzC6lf0JlmKQsPZGKFRxoSoIDQFujNRrKR1GU7CoxOSIWIl1u91Y5ZN2U1D1YRaL2QdQkjslpA6G/EWh+CscQnIZExFqqaxyOcV7AetR+GlD5UovHlhYf8EeEmvIkB/aGqYbUJsictW+qJMdsTbjyu5qLbBybPqSAAmQQH8k0IjKoX0NgAnm/MTrQctHduhaT3S72BSI9XqtJ9ziNYzXj3xT6iLUctlMn75NBTMWHkXr7rr8RvAOhonzfffdJ3dHaPPEmF7aHgh/7ZyuLnNtwmbctVQWbgTziygFu8kx4NBKZVD02qeb2sthkDOCBFstk3LaIodqDdg4f4RK0xHTmDVGqDhYxqx/jcm7JJqWmC5DANSNvmqRrIoK0ClvLO984frUTkO2C51+AJZWrEO2e+q1/JwFL1arsk6JSxcwi4ITza/k0el/bVcmBtblXVl5u61RgHJoch4dRxjB8AmnWWBNADtAcMADNipIs6tOItZ/UV6uQR7ovQ1CRVCN9wvtAgN33BGeehhVYrc0NkXccccdQo3BFnksDWHNE8N6TKaAPPY71ZizEKOWyiq/F1EErMugEWlDtc8pTt2AES+OPME6FUzmsCMOlQKtA3s5Hjq2a/ZyiLkzsXykFYNuEiABEhg4BBpROYQdlGAEi1u8CWr8xhbsWdHzYiNdRb6YCMSLCtbA0iKr/BCYigmFpzDXxi5MA3Osai/jbSqYEK9a0bhrmErjvSgj4K4xypFLHEiOO8LiBgzSsK0Cm8Wx90AMjMQt401fDakBriaDaqksbNrB4APm7OInLKebLLfG5BKmLr6YbNY2YNHGtEsTuiTaSzHhDaN/aQinDd2mbuzV1s7uv/tR0QhEW+gO6iLClq2VV0V0ioE2YTNuWFItf2s9VAi50PHW+xuxy7zJ/ScQ6eHla9Z8tAn72uXmk+ffqqA5lO66sqYjLIuwPCX2NujuVNsSsHCH0Fq6MqgxWDDU9k5QV7BQpts4hAzlgphYABHNT8iAES02D+CHhNhdgJ0GOpUDZlfYdoVBahda/4uuFX2s5IAOXHQj0qcZB8bxmFTCDwoGtpBhUxMWZtFxoRR0Bdjfhf3lIn901PUWZFpZmJopX5DB+Q0oCP7GnSS2cuEHzQQrzNjFDmUJO0/qldAgPkzIsErThVVpUBaDSIAESKB3EmhkLwdO6ZE2uNipjBvTvWur3SrmmWBMj4OqtBHkiwT2tRh5Y1uFCMWWPpx5oo1p7Ia1NCJgU6B25gyvOm0qjOPxItdGEKHbVDBRRLWigQ4i4T0nomFogmlC7YYNKT9MpGCM8dJLL8FuQXjCdAGT8ThbSfuixfqD7q5lDl3oMK0sVB/GHNj2AKMRTCLef//9smaNxRg15bMvPb+h4j/T46pkzkJhK+cA8xUQwzk5OH1IRBaHcYGkTGvgwKgFQ1JMgmIsKKOVlyKDKjqwZRZblpFJxdBqnhjZY/9Ddk3RKO6eJ98pj7mXutP6tSpbHcQRVbl8rQeeludf0WfqhJHvfbRp8XLlnAb83llXwM7y453FjR/Cs7G/Qm+U3wnZsrUdx16VZ7Xn7lZ4vvbuJ+VB8ME4EjWO46QqhmImXq48oCtDzFo+34GBNRSYxx57DGfBiWyxkQzGS3gotKVg2CouUQSMdiCJHHFq7UUxEkVz1U66i1Q4VwM7ELAAos2zSbfQeYSVJrJCt1Nt/aeBgrQ3heRC2RNWUsWqLO1xQijmTeotwrSyYOoGPVBWqMgfOhu6U2yC1z2n8r2DitOun4gl96LYgy0VOyJ41nVcFSTBi09usKn3xhmfBEiABPoHgUZWOdCJY30cB91iDwbWzfF9g4pD5HJAWEnHqR2wY4axLDY1F70VAAAH+ElEQVQ644WNpXYMssWwD+N+HDeEk1IwJYl3ME6P0e5DwBgRh77LPPFqEfsUMQQUc8/YOYDTFTGvhmzx3Q8YDGBNABniQw0yFTp9jH1hbYxFA7xUMLwQBtzNCCYzN3ZUKxqbvzH6xAktOKIRc5A4nhKvZzkXqMsTOyKwvR4Hc+EGMfzFCAknhuF0GhwyA39sg8GxXSCMIb48WkeXQ+2XqAUxj4tDjZEKMMWoCIMtOIwrC69wCIaqEfBh0g2pcFAvmoo0kq5dkgZiwtIMBaFxAhGqGH/FDiKsCOGAAehCmHDF4TwYe+FUHFDFcLCWUtBmsA8eZ4Ci1vBVGSxGIQcYi0PrqyW5iIP5XVi0gyH0sdpTnXb4mB8vfHnGzf8957g9cZZu6lXl1GndD+c4HXvg7r984DVst8AWbee4YZMcHcfjYIsF9JZfJV7HuU/Yno6/kz+nGB199ln7Ey8Vh864xBqF2PyNofx+YzoOF9aVJS8v8OwVWbwSJ2tdOg2H5G6PA6ywnAJTKBnBwGFc9LEHDsdqyazfP/vtL+yLTGJLV23aUmEp4+RDRuJeLo0+P+tkB278+AkjsbdEFgrOqGip0kt/4cAoGV0ZGgB2jcPMCe5yMypdEnGJ9oNZcPQb6MqQCY68GzduHBYrtJGxZos5AszxQ9nGABdnP8hQHFclNnJgtw+0ETxi2m5KRBMmT3IvhEzbjAP7RvA44ORcsaECHa92g0QzOSMttCMcB4z7wsIClm5gZIVOHqfGIQiF4hwLdM64KTyYWPHAlES9xZlWFuoR/SdOycOpJMgc1mtiNRh9EQ7kRU3hUyHolNCzwYYKHQLO0UY0PMJYk0H/iSUpdFzIAW8ftJkaxXvjozdiLynq08t5ZbH6Z0//DO4jxxx50t7KFJj44Wax5IVSSh78nwRIgAQGIoFGVA6Md/HawF5ALNDjBYMuvkZyeL9iFIhJesxX4Vh62Cdg1hkaiEiO1wOCoA9gnx86fbwkYHEkzxXBy0D7OQ5oDvghId764phLuPHaxhwV3nx4u6MsvFTkCYyiCIx9cVAM3oswY4AP5hHFq6UZwUTOpn+rFY2JT9wvDvbFX9wjBigYmhvsJYVhFUb/GMrg1QjrDpggY9AAJQSn30IGvOyxqlDRhsRUQl0E5C++giL8MVIXDpg7o3aMKwtgsRqDO5KHAfzwhz+EqBAbR4VWs3rSCdDMJczHMa7C4Zj4GB+ogieOtRUZQi8FN0yy4jsMaIFoP/gsQ+1lYTQDLKANNQNqMIYpaKi1J2845iF77fqrmYfe+MCrP1r48gkHjZw/y3X0Dx4vz+33F7nw8Y1r73kJVlg4Zlercmy33aA7Lp40584XvxN9HlvSEfRE63HIAW7t5zgW/GcV/sF/tne/n/onlBeh8xk+dId/Xj3lmtiKmxe9vnmrku1vzzvUpVF1dPG1l8ZFj7FZ72058vt3Za69O4MlGv+UsVAn8GVAbQ5wQ4DYpUd8b8EKaB3Y4gL3uN3t2jh49LCuhYWO8scKX27BrAd2Q6FJo3uRH8XTJq/oxgwCNlZhAwYOs4ZWAJsoHEeLTLSRYUmIDg3qJdYW0K1BS5ehmCOAQgJlAz44aQMHy2LIK0OFA0Nh5Nz83IE2Wzy26BshDB5DTMfgGRHDbm2cht1Y5IHMWE/AKWGYLULXiidLLBcgT0DGEwdjSzw1WFQEPWgIdZVlWlkw6MJHVKDqiAVVCCBUDkwoYFoHH3ZEJ4BjOfDyQg8p9UPMWCEmlBChbGAeCj1w7cZmr+Vfuy51nbwR4b7EdYlW5YA8OJ9X2wBkfDpIgARIYOAQGFRuZYSbh91UNet2nIoLNQOd8sBhxDslARLo0wSwZQLjTm2vhekMDDqxy0icktzb7g72TtgvhA/hYVWtt8nW/fL08soyBgJDL6y3oLHJyTXj+AwlARIggb5IAN8oq3hWrfZeGtnLoU1PNwmQAAn0cgItLS1YFBUbxHu5qEI8fLoeK3VYkesT0lJIAwJoeNA6umct1EAMBpEACZBAjxNoxLCqx4WmACRAAiRQOwGY3GAQX3v8Ho8JSy18nK7HxaAAzRPAHhL8ms+HOZAACZBAXydAlaOpGsQpN7DVrpYFdnjjvMVqoT3oD0MFmKFXEwC72GHkXS2U/iRAAgONQB/t6AZaNfF+SYAESKA3E6h7L0dvvhnKRgIkQAIkQAIkQAIkQAIk0J0EuJejO2mzLBIgARIgARIgARIgARIggQoEuH28AhR6kQAJkAAJkAAJkAAJkAAJdBUBqhxdRZL5kAAJkAAJkAAJkAAJkAAJVCBAlaMCFHqRAAmQAAmQAAmQAAmQAAl0FQGqHF1FkvmQAAmQAAmQAAmQAAmQAAlUIECVowIUepEACZAACZAACZAACZAACXQVAaocXUWS+ZAACZAACZAACZAACZAACVQgUPVTgDhht0J0epEACZAACZAACZAACZAACZBAPQQqfwqwnhwYlwRIgARIgARIgARIgARIgASqEqBhVVU0DCABEiABEiABEiABEiABEmieAFWO5hkyBxIgARIgARIgARIgARIggaoEqHJURcMAEiABEiABEiABEiABEiCB5glQ5WieIXMgARIgARIgARIgARIgARKoSoAqR1U0DCABEiABEiABEiABEiABEmieAFWO5hkyBxIgARIgARIgARIgARIggaoEqHJURcMAEiABEiABEiABEiABEiCB5gn8P9TExckivgwZAAAAAElFTkSuQmCC)"
      ]
    },
    {
      "cell_type": "code",
      "metadata": {
        "id": "355v6ES_2wvp"
      },
      "source": [
        "# YOUR CODE HERE\n",
        "def evaluate_top_k(model, prime_str='A', predict_len=100, temperature=0.8, top_k=5):\n",
        "\n",
        "  hidden_and_cell_state = model.init_zero_state()\n",
        "  prime_input = char_to_tensor(prime_str)\n",
        "  predicted = prime_str\n",
        "\n",
        "  # Use priming string to \"build up\" hidden state\n",
        "  for p in range(len(prime_str) - 1):\n",
        "    _, hidden_and_cell_state = model(prime_input[p].to(DEVICE), hidden_and_cell_state)\n",
        "    inp = prime_input[-1]\n",
        "    \n",
        "    for p in range(predict_len):\n",
        "      output, hidden_and_cell_state = model(inp.to(DEVICE), hidden_and_cell_state)\n",
        "\n",
        "      # HERE YOU CAN ADD YOUR TOP_K SAMPLING\n",
        "              \n",
        "      # Sample from the network as a multinomial distribution\n",
        "      output_dist = output.data.view(-1).div(temperature).exp()\n",
        "      top_i = torch.multinomial(output_dist, 1)[0]\n",
        "        \n",
        "      # Add predicted character to string and use as next input\n",
        "      predicted_char = string.printable[top_i]\n",
        "      predicted += predicted_char\n",
        "      inp = char_to_tensor(predicted_char)\n",
        "\n",
        "  return predicted"
      ],
      "execution_count": null,
      "outputs": []
    },
    {
      "cell_type": "code",
      "metadata": {
        "id": "oYtjBMc00OBT"
      },
      "source": [
        "print(evaluate_top_k(model, 'Th', 200), '\\n')"
      ],
      "execution_count": null,
      "outputs": []
    },
    {
      "cell_type": "markdown",
      "metadata": {
        "id": "S_pTWYNfxsae"
      },
      "source": [
        "Futher steps to approve model:\n",
        "- make your network bidirectional or try greater number of layers\n",
        "- try ensemble of two models, trained separetly with different parameters\n",
        "- try another sampling methods"
      ]
    },
    {
      "cell_type": "code",
      "metadata": {
        "id": "QAgNB4W-xfck"
      },
      "source": [
        ""
      ],
      "execution_count": null,
      "outputs": []
    }
  ]
}